{
 "cells": [
  {
   "cell_type": "markdown",
   "metadata": {},
   "source": [
    "Работая в нефтедобывающей компании, нужно решить, где бурить новую скважину.\n",
    "\n",
    "Вам предоставлены пробы нефти в трёх регионах: в каждом 10 000 месторождений, где измерили качество нефти и объём её запасов. Постройте модель машинного обучения, которая поможет определить регион, где добыча принесёт наибольшую прибыль. Проанализируйте возможную прибыль и риски техникой *Bootstrap.*"
   ]
  },
  {
   "cell_type": "markdown",
   "metadata": {},
   "source": [
    "## Загрузка и подготовка данных"
   ]
  },
  {
   "cell_type": "code",
   "execution_count": 1,
   "metadata": {},
   "outputs": [],
   "source": [
    "import pandas as pd\n",
    "import numpy as np\n",
    "import matplotlib.pyplot as plt\n",
    "from sklearn.linear_model import LinearRegression\n",
    "from sklearn.model_selection import train_test_split\n",
    "from sklearn.metrics import mean_squared_error\n",
    "from sklearn.preprocessing import StandardScaler"
   ]
  },
  {
   "cell_type": "code",
   "execution_count": 2,
   "metadata": {},
   "outputs": [],
   "source": [
    "geo_data_0 = pd.read_csv('/datasets/geo_data_0.csv')\n",
    "geo_data_1 = pd.read_csv('/datasets/geo_data_1.csv')\n",
    "geo_data_2 = pd.read_csv('/datasets/geo_data_2.csv')"
   ]
  },
  {
   "cell_type": "markdown",
   "metadata": {},
   "source": [
    "### Регион 0. Информация о файле"
   ]
  },
  {
   "cell_type": "code",
   "execution_count": 3,
   "metadata": {},
   "outputs": [
    {
     "data": {
      "text/html": [
       "<div>\n",
       "<style scoped>\n",
       "    .dataframe tbody tr th:only-of-type {\n",
       "        vertical-align: middle;\n",
       "    }\n",
       "\n",
       "    .dataframe tbody tr th {\n",
       "        vertical-align: top;\n",
       "    }\n",
       "\n",
       "    .dataframe thead th {\n",
       "        text-align: right;\n",
       "    }\n",
       "</style>\n",
       "<table border=\"1\" class=\"dataframe\">\n",
       "  <thead>\n",
       "    <tr style=\"text-align: right;\">\n",
       "      <th></th>\n",
       "      <th>id</th>\n",
       "      <th>f0</th>\n",
       "      <th>f1</th>\n",
       "      <th>f2</th>\n",
       "      <th>product</th>\n",
       "    </tr>\n",
       "  </thead>\n",
       "  <tbody>\n",
       "    <tr>\n",
       "      <th>0</th>\n",
       "      <td>txEyH</td>\n",
       "      <td>0.705745</td>\n",
       "      <td>-0.497823</td>\n",
       "      <td>1.221170</td>\n",
       "      <td>105.280062</td>\n",
       "    </tr>\n",
       "    <tr>\n",
       "      <th>1</th>\n",
       "      <td>2acmU</td>\n",
       "      <td>1.334711</td>\n",
       "      <td>-0.340164</td>\n",
       "      <td>4.365080</td>\n",
       "      <td>73.037750</td>\n",
       "    </tr>\n",
       "    <tr>\n",
       "      <th>2</th>\n",
       "      <td>409Wp</td>\n",
       "      <td>1.022732</td>\n",
       "      <td>0.151990</td>\n",
       "      <td>1.419926</td>\n",
       "      <td>85.265647</td>\n",
       "    </tr>\n",
       "    <tr>\n",
       "      <th>3</th>\n",
       "      <td>iJLyR</td>\n",
       "      <td>-0.032172</td>\n",
       "      <td>0.139033</td>\n",
       "      <td>2.978566</td>\n",
       "      <td>168.620776</td>\n",
       "    </tr>\n",
       "    <tr>\n",
       "      <th>4</th>\n",
       "      <td>Xdl7t</td>\n",
       "      <td>1.988431</td>\n",
       "      <td>0.155413</td>\n",
       "      <td>4.751769</td>\n",
       "      <td>154.036647</td>\n",
       "    </tr>\n",
       "  </tbody>\n",
       "</table>\n",
       "</div>"
      ],
      "text/plain": [
       "      id        f0        f1        f2     product\n",
       "0  txEyH  0.705745 -0.497823  1.221170  105.280062\n",
       "1  2acmU  1.334711 -0.340164  4.365080   73.037750\n",
       "2  409Wp  1.022732  0.151990  1.419926   85.265647\n",
       "3  iJLyR -0.032172  0.139033  2.978566  168.620776\n",
       "4  Xdl7t  1.988431  0.155413  4.751769  154.036647"
      ]
     },
     "metadata": {},
     "output_type": "display_data"
    },
    {
     "name": "stdout",
     "output_type": "stream",
     "text": [
      "<class 'pandas.core.frame.DataFrame'>\n",
      "RangeIndex: 100000 entries, 0 to 99999\n",
      "Data columns (total 5 columns):\n",
      " #   Column   Non-Null Count   Dtype  \n",
      "---  ------   --------------   -----  \n",
      " 0   id       100000 non-null  object \n",
      " 1   f0       100000 non-null  float64\n",
      " 2   f1       100000 non-null  float64\n",
      " 3   f2       100000 non-null  float64\n",
      " 4   product  100000 non-null  float64\n",
      "dtypes: float64(4), object(1)\n",
      "memory usage: 3.8+ MB\n"
     ]
    },
    {
     "data": {
      "text/html": [
       "<div>\n",
       "<style scoped>\n",
       "    .dataframe tbody tr th:only-of-type {\n",
       "        vertical-align: middle;\n",
       "    }\n",
       "\n",
       "    .dataframe tbody tr th {\n",
       "        vertical-align: top;\n",
       "    }\n",
       "\n",
       "    .dataframe thead th {\n",
       "        text-align: right;\n",
       "    }\n",
       "</style>\n",
       "<table border=\"1\" class=\"dataframe\">\n",
       "  <thead>\n",
       "    <tr style=\"text-align: right;\">\n",
       "      <th></th>\n",
       "      <th>f0</th>\n",
       "      <th>f1</th>\n",
       "      <th>f2</th>\n",
       "      <th>product</th>\n",
       "    </tr>\n",
       "  </thead>\n",
       "  <tbody>\n",
       "    <tr>\n",
       "      <th>count</th>\n",
       "      <td>100000.000000</td>\n",
       "      <td>100000.000000</td>\n",
       "      <td>100000.000000</td>\n",
       "      <td>100000.000000</td>\n",
       "    </tr>\n",
       "    <tr>\n",
       "      <th>mean</th>\n",
       "      <td>0.500419</td>\n",
       "      <td>0.250143</td>\n",
       "      <td>2.502647</td>\n",
       "      <td>92.500000</td>\n",
       "    </tr>\n",
       "    <tr>\n",
       "      <th>std</th>\n",
       "      <td>0.871832</td>\n",
       "      <td>0.504433</td>\n",
       "      <td>3.248248</td>\n",
       "      <td>44.288691</td>\n",
       "    </tr>\n",
       "    <tr>\n",
       "      <th>min</th>\n",
       "      <td>-1.408605</td>\n",
       "      <td>-0.848218</td>\n",
       "      <td>-12.088328</td>\n",
       "      <td>0.000000</td>\n",
       "    </tr>\n",
       "    <tr>\n",
       "      <th>25%</th>\n",
       "      <td>-0.072580</td>\n",
       "      <td>-0.200881</td>\n",
       "      <td>0.287748</td>\n",
       "      <td>56.497507</td>\n",
       "    </tr>\n",
       "    <tr>\n",
       "      <th>50%</th>\n",
       "      <td>0.502360</td>\n",
       "      <td>0.250252</td>\n",
       "      <td>2.515969</td>\n",
       "      <td>91.849972</td>\n",
       "    </tr>\n",
       "    <tr>\n",
       "      <th>75%</th>\n",
       "      <td>1.073581</td>\n",
       "      <td>0.700646</td>\n",
       "      <td>4.715088</td>\n",
       "      <td>128.564089</td>\n",
       "    </tr>\n",
       "    <tr>\n",
       "      <th>max</th>\n",
       "      <td>2.362331</td>\n",
       "      <td>1.343769</td>\n",
       "      <td>16.003790</td>\n",
       "      <td>185.364347</td>\n",
       "    </tr>\n",
       "  </tbody>\n",
       "</table>\n",
       "</div>"
      ],
      "text/plain": [
       "                  f0             f1             f2        product\n",
       "count  100000.000000  100000.000000  100000.000000  100000.000000\n",
       "mean        0.500419       0.250143       2.502647      92.500000\n",
       "std         0.871832       0.504433       3.248248      44.288691\n",
       "min        -1.408605      -0.848218     -12.088328       0.000000\n",
       "25%        -0.072580      -0.200881       0.287748      56.497507\n",
       "50%         0.502360       0.250252       2.515969      91.849972\n",
       "75%         1.073581       0.700646       4.715088     128.564089\n",
       "max         2.362331       1.343769      16.003790     185.364347"
      ]
     },
     "execution_count": 3,
     "metadata": {},
     "output_type": "execute_result"
    }
   ],
   "source": [
    "display(geo_data_0.head())\n",
    "geo_data_0.info()\n",
    "geo_data_0.describe()"
   ]
  },
  {
   "cell_type": "markdown",
   "metadata": {},
   "source": [
    "### Регион 1. Информация о файле"
   ]
  },
  {
   "cell_type": "code",
   "execution_count": 4,
   "metadata": {},
   "outputs": [
    {
     "data": {
      "text/html": [
       "<div>\n",
       "<style scoped>\n",
       "    .dataframe tbody tr th:only-of-type {\n",
       "        vertical-align: middle;\n",
       "    }\n",
       "\n",
       "    .dataframe tbody tr th {\n",
       "        vertical-align: top;\n",
       "    }\n",
       "\n",
       "    .dataframe thead th {\n",
       "        text-align: right;\n",
       "    }\n",
       "</style>\n",
       "<table border=\"1\" class=\"dataframe\">\n",
       "  <thead>\n",
       "    <tr style=\"text-align: right;\">\n",
       "      <th></th>\n",
       "      <th>id</th>\n",
       "      <th>f0</th>\n",
       "      <th>f1</th>\n",
       "      <th>f2</th>\n",
       "      <th>product</th>\n",
       "    </tr>\n",
       "  </thead>\n",
       "  <tbody>\n",
       "    <tr>\n",
       "      <th>0</th>\n",
       "      <td>kBEdx</td>\n",
       "      <td>-15.001348</td>\n",
       "      <td>-8.276000</td>\n",
       "      <td>-0.005876</td>\n",
       "      <td>3.179103</td>\n",
       "    </tr>\n",
       "    <tr>\n",
       "      <th>1</th>\n",
       "      <td>62mP7</td>\n",
       "      <td>14.272088</td>\n",
       "      <td>-3.475083</td>\n",
       "      <td>0.999183</td>\n",
       "      <td>26.953261</td>\n",
       "    </tr>\n",
       "    <tr>\n",
       "      <th>2</th>\n",
       "      <td>vyE1P</td>\n",
       "      <td>6.263187</td>\n",
       "      <td>-5.948386</td>\n",
       "      <td>5.001160</td>\n",
       "      <td>134.766305</td>\n",
       "    </tr>\n",
       "    <tr>\n",
       "      <th>3</th>\n",
       "      <td>KcrkZ</td>\n",
       "      <td>-13.081196</td>\n",
       "      <td>-11.506057</td>\n",
       "      <td>4.999415</td>\n",
       "      <td>137.945408</td>\n",
       "    </tr>\n",
       "    <tr>\n",
       "      <th>4</th>\n",
       "      <td>AHL4O</td>\n",
       "      <td>12.702195</td>\n",
       "      <td>-8.147433</td>\n",
       "      <td>5.004363</td>\n",
       "      <td>134.766305</td>\n",
       "    </tr>\n",
       "  </tbody>\n",
       "</table>\n",
       "</div>"
      ],
      "text/plain": [
       "      id         f0         f1        f2     product\n",
       "0  kBEdx -15.001348  -8.276000 -0.005876    3.179103\n",
       "1  62mP7  14.272088  -3.475083  0.999183   26.953261\n",
       "2  vyE1P   6.263187  -5.948386  5.001160  134.766305\n",
       "3  KcrkZ -13.081196 -11.506057  4.999415  137.945408\n",
       "4  AHL4O  12.702195  -8.147433  5.004363  134.766305"
      ]
     },
     "metadata": {},
     "output_type": "display_data"
    },
    {
     "name": "stdout",
     "output_type": "stream",
     "text": [
      "<class 'pandas.core.frame.DataFrame'>\n",
      "RangeIndex: 100000 entries, 0 to 99999\n",
      "Data columns (total 5 columns):\n",
      " #   Column   Non-Null Count   Dtype  \n",
      "---  ------   --------------   -----  \n",
      " 0   id       100000 non-null  object \n",
      " 1   f0       100000 non-null  float64\n",
      " 2   f1       100000 non-null  float64\n",
      " 3   f2       100000 non-null  float64\n",
      " 4   product  100000 non-null  float64\n",
      "dtypes: float64(4), object(1)\n",
      "memory usage: 3.8+ MB\n"
     ]
    },
    {
     "data": {
      "text/html": [
       "<div>\n",
       "<style scoped>\n",
       "    .dataframe tbody tr th:only-of-type {\n",
       "        vertical-align: middle;\n",
       "    }\n",
       "\n",
       "    .dataframe tbody tr th {\n",
       "        vertical-align: top;\n",
       "    }\n",
       "\n",
       "    .dataframe thead th {\n",
       "        text-align: right;\n",
       "    }\n",
       "</style>\n",
       "<table border=\"1\" class=\"dataframe\">\n",
       "  <thead>\n",
       "    <tr style=\"text-align: right;\">\n",
       "      <th></th>\n",
       "      <th>f0</th>\n",
       "      <th>f1</th>\n",
       "      <th>f2</th>\n",
       "      <th>product</th>\n",
       "    </tr>\n",
       "  </thead>\n",
       "  <tbody>\n",
       "    <tr>\n",
       "      <th>count</th>\n",
       "      <td>100000.000000</td>\n",
       "      <td>100000.000000</td>\n",
       "      <td>100000.000000</td>\n",
       "      <td>100000.000000</td>\n",
       "    </tr>\n",
       "    <tr>\n",
       "      <th>mean</th>\n",
       "      <td>1.141296</td>\n",
       "      <td>-4.796579</td>\n",
       "      <td>2.494541</td>\n",
       "      <td>68.825000</td>\n",
       "    </tr>\n",
       "    <tr>\n",
       "      <th>std</th>\n",
       "      <td>8.965932</td>\n",
       "      <td>5.119872</td>\n",
       "      <td>1.703572</td>\n",
       "      <td>45.944423</td>\n",
       "    </tr>\n",
       "    <tr>\n",
       "      <th>min</th>\n",
       "      <td>-31.609576</td>\n",
       "      <td>-26.358598</td>\n",
       "      <td>-0.018144</td>\n",
       "      <td>0.000000</td>\n",
       "    </tr>\n",
       "    <tr>\n",
       "      <th>25%</th>\n",
       "      <td>-6.298551</td>\n",
       "      <td>-8.267985</td>\n",
       "      <td>1.000021</td>\n",
       "      <td>26.953261</td>\n",
       "    </tr>\n",
       "    <tr>\n",
       "      <th>50%</th>\n",
       "      <td>1.153055</td>\n",
       "      <td>-4.813172</td>\n",
       "      <td>2.011479</td>\n",
       "      <td>57.085625</td>\n",
       "    </tr>\n",
       "    <tr>\n",
       "      <th>75%</th>\n",
       "      <td>8.621015</td>\n",
       "      <td>-1.332816</td>\n",
       "      <td>3.999904</td>\n",
       "      <td>107.813044</td>\n",
       "    </tr>\n",
       "    <tr>\n",
       "      <th>max</th>\n",
       "      <td>29.421755</td>\n",
       "      <td>18.734063</td>\n",
       "      <td>5.019721</td>\n",
       "      <td>137.945408</td>\n",
       "    </tr>\n",
       "  </tbody>\n",
       "</table>\n",
       "</div>"
      ],
      "text/plain": [
       "                  f0             f1             f2        product\n",
       "count  100000.000000  100000.000000  100000.000000  100000.000000\n",
       "mean        1.141296      -4.796579       2.494541      68.825000\n",
       "std         8.965932       5.119872       1.703572      45.944423\n",
       "min       -31.609576     -26.358598      -0.018144       0.000000\n",
       "25%        -6.298551      -8.267985       1.000021      26.953261\n",
       "50%         1.153055      -4.813172       2.011479      57.085625\n",
       "75%         8.621015      -1.332816       3.999904     107.813044\n",
       "max        29.421755      18.734063       5.019721     137.945408"
      ]
     },
     "execution_count": 4,
     "metadata": {},
     "output_type": "execute_result"
    }
   ],
   "source": [
    "display(geo_data_1.head())\n",
    "geo_data_1.info()\n",
    "geo_data_1.describe()"
   ]
  },
  {
   "cell_type": "markdown",
   "metadata": {},
   "source": [
    "### Регион 2. Информация о файле"
   ]
  },
  {
   "cell_type": "code",
   "execution_count": 5,
   "metadata": {
    "scrolled": true
   },
   "outputs": [
    {
     "data": {
      "text/html": [
       "<div>\n",
       "<style scoped>\n",
       "    .dataframe tbody tr th:only-of-type {\n",
       "        vertical-align: middle;\n",
       "    }\n",
       "\n",
       "    .dataframe tbody tr th {\n",
       "        vertical-align: top;\n",
       "    }\n",
       "\n",
       "    .dataframe thead th {\n",
       "        text-align: right;\n",
       "    }\n",
       "</style>\n",
       "<table border=\"1\" class=\"dataframe\">\n",
       "  <thead>\n",
       "    <tr style=\"text-align: right;\">\n",
       "      <th></th>\n",
       "      <th>id</th>\n",
       "      <th>f0</th>\n",
       "      <th>f1</th>\n",
       "      <th>f2</th>\n",
       "      <th>product</th>\n",
       "    </tr>\n",
       "  </thead>\n",
       "  <tbody>\n",
       "    <tr>\n",
       "      <th>0</th>\n",
       "      <td>fwXo0</td>\n",
       "      <td>-1.146987</td>\n",
       "      <td>0.963328</td>\n",
       "      <td>-0.828965</td>\n",
       "      <td>27.758673</td>\n",
       "    </tr>\n",
       "    <tr>\n",
       "      <th>1</th>\n",
       "      <td>WJtFt</td>\n",
       "      <td>0.262778</td>\n",
       "      <td>0.269839</td>\n",
       "      <td>-2.530187</td>\n",
       "      <td>56.069697</td>\n",
       "    </tr>\n",
       "    <tr>\n",
       "      <th>2</th>\n",
       "      <td>ovLUW</td>\n",
       "      <td>0.194587</td>\n",
       "      <td>0.289035</td>\n",
       "      <td>-5.586433</td>\n",
       "      <td>62.871910</td>\n",
       "    </tr>\n",
       "    <tr>\n",
       "      <th>3</th>\n",
       "      <td>q6cA6</td>\n",
       "      <td>2.236060</td>\n",
       "      <td>-0.553760</td>\n",
       "      <td>0.930038</td>\n",
       "      <td>114.572842</td>\n",
       "    </tr>\n",
       "    <tr>\n",
       "      <th>4</th>\n",
       "      <td>WPMUX</td>\n",
       "      <td>-0.515993</td>\n",
       "      <td>1.716266</td>\n",
       "      <td>5.899011</td>\n",
       "      <td>149.600746</td>\n",
       "    </tr>\n",
       "  </tbody>\n",
       "</table>\n",
       "</div>"
      ],
      "text/plain": [
       "      id        f0        f1        f2     product\n",
       "0  fwXo0 -1.146987  0.963328 -0.828965   27.758673\n",
       "1  WJtFt  0.262778  0.269839 -2.530187   56.069697\n",
       "2  ovLUW  0.194587  0.289035 -5.586433   62.871910\n",
       "3  q6cA6  2.236060 -0.553760  0.930038  114.572842\n",
       "4  WPMUX -0.515993  1.716266  5.899011  149.600746"
      ]
     },
     "metadata": {},
     "output_type": "display_data"
    },
    {
     "name": "stdout",
     "output_type": "stream",
     "text": [
      "<class 'pandas.core.frame.DataFrame'>\n",
      "RangeIndex: 100000 entries, 0 to 99999\n",
      "Data columns (total 5 columns):\n",
      " #   Column   Non-Null Count   Dtype  \n",
      "---  ------   --------------   -----  \n",
      " 0   id       100000 non-null  object \n",
      " 1   f0       100000 non-null  float64\n",
      " 2   f1       100000 non-null  float64\n",
      " 3   f2       100000 non-null  float64\n",
      " 4   product  100000 non-null  float64\n",
      "dtypes: float64(4), object(1)\n",
      "memory usage: 3.8+ MB\n"
     ]
    },
    {
     "data": {
      "text/html": [
       "<div>\n",
       "<style scoped>\n",
       "    .dataframe tbody tr th:only-of-type {\n",
       "        vertical-align: middle;\n",
       "    }\n",
       "\n",
       "    .dataframe tbody tr th {\n",
       "        vertical-align: top;\n",
       "    }\n",
       "\n",
       "    .dataframe thead th {\n",
       "        text-align: right;\n",
       "    }\n",
       "</style>\n",
       "<table border=\"1\" class=\"dataframe\">\n",
       "  <thead>\n",
       "    <tr style=\"text-align: right;\">\n",
       "      <th></th>\n",
       "      <th>f0</th>\n",
       "      <th>f1</th>\n",
       "      <th>f2</th>\n",
       "      <th>product</th>\n",
       "    </tr>\n",
       "  </thead>\n",
       "  <tbody>\n",
       "    <tr>\n",
       "      <th>count</th>\n",
       "      <td>100000.000000</td>\n",
       "      <td>100000.000000</td>\n",
       "      <td>100000.000000</td>\n",
       "      <td>100000.000000</td>\n",
       "    </tr>\n",
       "    <tr>\n",
       "      <th>mean</th>\n",
       "      <td>0.002023</td>\n",
       "      <td>-0.002081</td>\n",
       "      <td>2.495128</td>\n",
       "      <td>95.000000</td>\n",
       "    </tr>\n",
       "    <tr>\n",
       "      <th>std</th>\n",
       "      <td>1.732045</td>\n",
       "      <td>1.730417</td>\n",
       "      <td>3.473445</td>\n",
       "      <td>44.749921</td>\n",
       "    </tr>\n",
       "    <tr>\n",
       "      <th>min</th>\n",
       "      <td>-8.760004</td>\n",
       "      <td>-7.084020</td>\n",
       "      <td>-11.970335</td>\n",
       "      <td>0.000000</td>\n",
       "    </tr>\n",
       "    <tr>\n",
       "      <th>25%</th>\n",
       "      <td>-1.162288</td>\n",
       "      <td>-1.174820</td>\n",
       "      <td>0.130359</td>\n",
       "      <td>59.450441</td>\n",
       "    </tr>\n",
       "    <tr>\n",
       "      <th>50%</th>\n",
       "      <td>0.009424</td>\n",
       "      <td>-0.009482</td>\n",
       "      <td>2.484236</td>\n",
       "      <td>94.925613</td>\n",
       "    </tr>\n",
       "    <tr>\n",
       "      <th>75%</th>\n",
       "      <td>1.158535</td>\n",
       "      <td>1.163678</td>\n",
       "      <td>4.858794</td>\n",
       "      <td>130.595027</td>\n",
       "    </tr>\n",
       "    <tr>\n",
       "      <th>max</th>\n",
       "      <td>7.238262</td>\n",
       "      <td>7.844801</td>\n",
       "      <td>16.739402</td>\n",
       "      <td>190.029838</td>\n",
       "    </tr>\n",
       "  </tbody>\n",
       "</table>\n",
       "</div>"
      ],
      "text/plain": [
       "                  f0             f1             f2        product\n",
       "count  100000.000000  100000.000000  100000.000000  100000.000000\n",
       "mean        0.002023      -0.002081       2.495128      95.000000\n",
       "std         1.732045       1.730417       3.473445      44.749921\n",
       "min        -8.760004      -7.084020     -11.970335       0.000000\n",
       "25%        -1.162288      -1.174820       0.130359      59.450441\n",
       "50%         0.009424      -0.009482       2.484236      94.925613\n",
       "75%         1.158535       1.163678       4.858794     130.595027\n",
       "max         7.238262       7.844801      16.739402     190.029838"
      ]
     },
     "execution_count": 5,
     "metadata": {},
     "output_type": "execute_result"
    }
   ],
   "source": [
    "display(geo_data_2.head())\n",
    "geo_data_2.info()\n",
    "geo_data_2.describe()"
   ]
  },
  {
   "cell_type": "code",
   "execution_count": 6,
   "metadata": {
    "scrolled": true
   },
   "outputs": [
    {
     "name": "stdout",
     "output_type": "stream",
     "text": [
      "Дубликатов в файле 0: 0\n",
      "Дубликатов в файле 1: 0\n",
      "Дубликатов в файле 2: 0\n"
     ]
    }
   ],
   "source": [
    "print('Дубликатов в файле 0:', geo_data_0.duplicated().sum())\n",
    "print('Дубликатов в файле 1:', geo_data_1.duplicated().sum())\n",
    "print('Дубликатов в файле 2:', geo_data_2.duplicated().sum())"
   ]
  },
  {
   "cell_type": "markdown",
   "metadata": {},
   "source": [
    "Анализ файлов с данными:  \n",
    "- Во всех файлах есть данные с нулевыми показателями столбца `product`.\n",
    "- Дубликатов данных нет. Значит можно удалить столбец `id`, строки будут различаться по индексу как минимум.\n",
    "- В файле 1 уже в первых пяти строках есть повторяющиеся значения столбца `product`."
   ]
  },
  {
   "cell_type": "markdown",
   "metadata": {},
   "source": [
    "Удаление столбца `id`:"
   ]
  },
  {
   "cell_type": "code",
   "execution_count": 7,
   "metadata": {},
   "outputs": [],
   "source": [
    "geo_data_0 = geo_data_0.drop('id', axis=1)\n",
    "geo_data_1 = geo_data_1.drop('id', axis=1)\n",
    "geo_data_2 = geo_data_2.drop('id', axis=1)"
   ]
  },
  {
   "cell_type": "markdown",
   "metadata": {},
   "source": [
    "Обработка нулевых значений файлов:"
   ]
  },
  {
   "cell_type": "code",
   "execution_count": 8,
   "metadata": {},
   "outputs": [
    {
     "name": "stdout",
     "output_type": "stream",
     "text": [
      "Количество нулевых значений product в файле 0: 1\n",
      "Количество нулевых значений product в файле 1: 8235\n",
      "Количество нулевых значений product в файле 2: 1\n"
     ]
    }
   ],
   "source": [
    "print('Количество нулевых значений product в файле 0:', geo_data_0[geo_data_0['product'] == 0]['f0'].count())\n",
    "print('Количество нулевых значений product в файле 1:', geo_data_1[geo_data_1['product'] == 0]['f0'].count())\n",
    "print('Количество нулевых значений product в файле 2:', geo_data_2[geo_data_2['product'] == 0]['f0'].count())"
   ]
  },
  {
   "cell_type": "code",
   "execution_count": 9,
   "metadata": {},
   "outputs": [
    {
     "name": "stdout",
     "output_type": "stream",
     "text": [
      "Количество уникальных значений product в файле 0: 100000\n",
      "Количество уникальных значений product в файле 1: 12\n",
      "Количество уникальных значений product в файле 2: 100000\n"
     ]
    }
   ],
   "source": [
    "print('Количество уникальных значений product в файле 0:', len(geo_data_0['product'].unique()))\n",
    "print('Количество уникальных значений product в файле 1:', len(geo_data_1['product'].unique()))\n",
    "print('Количество уникальных значений product в файле 2:', len(geo_data_2['product'].unique()))\n"
   ]
  },
  {
   "cell_type": "markdown",
   "metadata": {},
   "source": [
    "Шаги для выбора локации:\n",
    "\n",
    "- В избранном регионе ищем месторождения, для каждого определяем значения признаков;\n",
    "- Строим модель и оцениваем объём запасов;\n",
    "- Выбираем месторождения с самым высокими оценками значений. Количество месторождений зависит от бюджета компании и стоимости разработки одной скважины;\n",
    "- Прибыль равна суммарной прибыли отобранных месторождений."
   ]
  },
  {
   "cell_type": "code",
   "execution_count": 10,
   "metadata": {},
   "outputs": [
    {
     "data": {
      "image/png": "[encoded data removed]",
      "text/plain": [
       "<Figure size 576x288 with 1 Axes>"
      ]
     },
     "metadata": {
      "needs_background": "light"
     },
     "output_type": "display_data"
    }
   ],
   "source": [
    "plt.figure(figsize=(8,4))\n",
    "plt.hist(geo_data_1['product'], bins = 60)\n",
    "plt.title(\"Гистограмма объема продукта в скважинах\")\n",
    "plt.show()"
   ]
  },
  {
   "cell_type": "markdown",
   "metadata": {},
   "source": [
    "**Вывод**  \n",
    "- В файлах geo_data_0 и geo_data_2 всё нормально, судя по первичной информации о файлах.\n",
    "- В файле geo_data_1 в столбце продукт мало различных значений, данные распределены равномерно по значениям. Потому в файле очень много нулевых значений, которые лучше не удалять, так как это может повлиять на данные в целом. Также нельзя их заменить на среднее - это может очень исказить данные. Такие данные могли возникнуть скорее всего из-за ручной модернизации файла."
   ]
  },
  {
   "cell_type": "markdown",
   "metadata": {},
   "source": [
    "## Обучение и проверка модели"
   ]
  },
  {
   "cell_type": "markdown",
   "metadata": {},
   "source": [
    "Для обучения модели подходит только линейная регрессия.  \n",
    "Так как для трех регионов нужно провести одни и те же исследования - напишу функцию.  \n",
    "Функция на вход принимает данные о регионе. Внутри функция отделяет целевой признак, делит выборки на обучающую и валидационную в соотношении 3:1, стандартизирует данные, обучает модель линейной регрессии и рассчитывает RMSE и средний запас предсказанного сырья.  \n",
    "Функция возвращает предсказания, средний запас предсказанного сырья и правильные ответы."
   ]
  },
  {
   "cell_type": "code",
   "execution_count": 11,
   "metadata": {},
   "outputs": [],
   "source": [
    "def linear_regression(data):\n",
    "   \n",
    "    target = data[\"product\"]\n",
    "    features = data.drop([\"product\"], axis=1)\n",
    "    features_train, features_valid, target_train, target_valid = train_test_split(features, target, test_size=0.25, random_state=12345)\n",
    "    scaler = StandardScaler()\n",
    "    features_train = scaler.fit_transform(features_train)\n",
    "    features_valid = scaler.transform(features_valid)\n",
    "    \n",
    "    lin_regr = LinearRegression(normalize=False)\n",
    "    lin_regr.fit(features_train, target_train)\n",
    "    predictions = lin_regr.predict(features_valid)\n",
    "    predictions = pd.Series(predictions)\n",
    "    rmse = np.sqrt(mean_squared_error(target_valid, predictions))  \n",
    "    average_stock = data['product'].mean()\n",
    "    average_stock_pred = predictions.mean()\n",
    "    print('Средний запас предсказанного сырья в регионе: {:.2f} тыс. баррелей'.format(average_stock_pred))\n",
    "    print('RMSE модели в регионе = {:.2f}'.format(rmse))\n",
    "    return predictions, average_stock, target_valid.reset_index(drop=True)"
   ]
  },
  {
   "cell_type": "markdown",
   "metadata": {},
   "source": [
    "**Регион 0**"
   ]
  },
  {
   "cell_type": "code",
   "execution_count": 12,
   "metadata": {},
   "outputs": [
    {
     "name": "stdout",
     "output_type": "stream",
     "text": [
      "Средний запас предсказанного сырья в регионе: 92.59 тыс. баррелей\n",
      "RMSE модели в регионе = 37.58\n"
     ]
    }
   ],
   "source": [
    "predictions_0, average_stock_0, target_valid_0 = linear_regression(geo_data_0)"
   ]
  },
  {
   "cell_type": "markdown",
   "metadata": {},
   "source": [
    "**Регион 1**"
   ]
  },
  {
   "cell_type": "code",
   "execution_count": 13,
   "metadata": {},
   "outputs": [
    {
     "name": "stdout",
     "output_type": "stream",
     "text": [
      "Средний запас предсказанного сырья в регионе: 68.73 тыс. баррелей\n",
      "RMSE модели в регионе = 0.89\n"
     ]
    }
   ],
   "source": [
    "predictions_1, average_stock_1, target_valid_1 = linear_regression(geo_data_1)"
   ]
  },
  {
   "cell_type": "markdown",
   "metadata": {},
   "source": [
    "**Регион 2**"
   ]
  },
  {
   "cell_type": "code",
   "execution_count": 14,
   "metadata": {
    "scrolled": true
   },
   "outputs": [
    {
     "name": "stdout",
     "output_type": "stream",
     "text": [
      "Средний запас предсказанного сырья в регионе: 94.97 тыс. баррелей\n",
      "RMSE модели в регионе = 40.03\n"
     ]
    }
   ],
   "source": [
    "predictions_2, average_stock_2, target_valid_2 = linear_regression(geo_data_2)"
   ]
  },
  {
   "cell_type": "markdown",
   "metadata": {},
   "source": [
    "**Вывод**"
   ]
  },
  {
   "cell_type": "markdown",
   "metadata": {},
   "source": [
    "- Средний запас предсказанного сырья в регионе 2 наибольший, в регионе 0 немного меньше. В регионе 1 наименьший средний запас предсказанного сырья.  \n",
    "- RMSE модели наилучший в Регионе 1, скорее всего из-за малой вариативности данных целевого признака. В регионах 2 и 0 показатель RMSE высокий, что говорит о том, что модель дает плохо прогнозируемые результаты."
   ]
  },
  {
   "cell_type": "markdown",
   "metadata": {},
   "source": [
    "## Подготовка к расчёту прибыли"
   ]
  },
  {
   "cell_type": "markdown",
   "metadata": {},
   "source": [
    "Сохраняем все ключенвые значения для рассчетов в отдельных переменных"
   ]
  },
  {
   "cell_type": "code",
   "execution_count": 15,
   "metadata": {},
   "outputs": [],
   "source": [
    "POINTS = 500\n",
    "BEST_POINTS = 200\n",
    "BUDGET = 10e10\n",
    "PROFIT_BARREL = 45*10e4\n",
    "RISK_ES = 0.025"
   ]
  },
  {
   "cell_type": "code",
   "execution_count": 16,
   "metadata": {},
   "outputs": [
    {
     "name": "stdout",
     "output_type": "stream",
     "text": [
      "Достаточный объём сырья для безубыточной разработки новой скважины: 111.11 тыс. баррелей\n"
     ]
    }
   ],
   "source": [
    "sufficient_budget = BUDGET/BEST_POINTS\n",
    "print('Достаточный объём сырья для безубыточной разработки новой скважины: {:.2f} тыс. баррелей'\n",
    "      .format(sufficient_budget/PROFIT_BARREL))"
   ]
  },
  {
   "cell_type": "code",
   "execution_count": 17,
   "metadata": {
    "scrolled": true
   },
   "outputs": [
    {
     "name": "stdout",
     "output_type": "stream",
     "text": [
      "Средний запас предсказанного сырья в регионе 0: 92.50 тыс. баррелей\n",
      "Средний запас предсказанного сырья в регионе 1: 68.83 тыс. баррелей\n",
      "Средний запас предсказанного сырья в регионе 2: 95.00 тыс. баррелей\n"
     ]
    }
   ],
   "source": [
    "print('Средний запас предсказанного сырья в регионе 0: {:.2f} тыс. баррелей'.format(average_stock_0))\n",
    "print('Средний запас предсказанного сырья в регионе 1: {:.2f} тыс. баррелей'.format(average_stock_1))\n",
    "print('Средний запас предсказанного сырья в регионе 2: {:.2f} тыс. баррелей'.format(average_stock_2))"
   ]
  },
  {
   "cell_type": "markdown",
   "metadata": {},
   "source": [
    "Напишем функцию для рассчета прибыли"
   ]
  },
  {
   "cell_type": "markdown",
   "metadata": {},
   "source": [
    "Функция для расчёта прибыли по выбранным скважинам и предсказаниям модели:  \n",
    "На вход функция получает предсказания и правильные ответы, объединяет их и сортирует по предсказаниям.  \n",
    "Возвращает прибыль с первых 200 скважин."
   ]
  },
  {
   "cell_type": "code",
   "execution_count": 18,
   "metadata": {},
   "outputs": [],
   "source": [
    "def profit(prediction, target):\n",
    "    data = pd.concat([prediction, target],axis=1)\n",
    "    data.columns = ['prediction','target']\n",
    "    data = data.sort_values(by = 'prediction', ascending = False)[:BEST_POINTS]\n",
    "    return (data['target'].sum() * PROFIT_BARREL - BUDGET)"
   ]
  },
  {
   "cell_type": "markdown",
   "metadata": {},
   "source": [
    "**Вывод**  \n",
    "\n",
    "- Во всех регионах средний запас предсказанного сырья  меньше объема для безубыточной разработки.\n",
    "- Достаточный объём сырья для безубыточной разработки новой скважины: 111.11 тыс. баррелей\n",
    "- Необходимо выделить только наиболее перспективные скважины."
   ]
  },
  {
   "cell_type": "markdown",
   "metadata": {},
   "source": [
    "## Расчёт прибыли и рисков "
   ]
  },
  {
   "cell_type": "markdown",
   "metadata": {},
   "source": [
    "Прибыль с первых 200 скважин по предсказанному объёму в регионах:"
   ]
  },
  {
   "cell_type": "code",
   "execution_count": 19,
   "metadata": {},
   "outputs": [
    {
     "name": "stdout",
     "output_type": "stream",
     "text": [
      "Прибыль с первых 200 скважин по предсказанному объёму в регионe 0: 3.3208 млрд.руб\n"
     ]
    }
   ],
   "source": [
    "estim_profit = profit(predictions_0, target_valid_0)\n",
    "print('Прибыль с первых 200 скважин по предсказанному объёму в регионe 0: {:.4f} млрд.руб'.format(estim_profit/10e9))"
   ]
  },
  {
   "cell_type": "code",
   "execution_count": 20,
   "metadata": {},
   "outputs": [
    {
     "name": "stdout",
     "output_type": "stream",
     "text": [
      "Прибыль с первых 200 скважин по предсказанному объёму в регионe 1: 2.4151 млрд.руб\n"
     ]
    }
   ],
   "source": [
    "estim_profit = profit(predictions_1, target_valid_1)\n",
    "print('Прибыль с первых 200 скважин по предсказанному объёму в регионe 1: {:.4f} млрд.руб'.format(estim_profit/10e9))"
   ]
  },
  {
   "cell_type": "code",
   "execution_count": 21,
   "metadata": {
    "scrolled": false
   },
   "outputs": [
    {
     "name": "stdout",
     "output_type": "stream",
     "text": [
      "Прибыль с первых 200 скважин по предсказанному объёму в регионe 2: 2.7103 млрд.руб\n"
     ]
    }
   ],
   "source": [
    "estim_profit = profit(predictions_2, target_valid_2)\n",
    "print('Прибыль с первых 200 скважин по предсказанному объёму в регионe 2: {:.4f} млрд.руб'.format(estim_profit/10e9))"
   ]
  },
  {
   "cell_type": "markdown",
   "metadata": {},
   "source": [
    "Функция для рассчета средней прибыли региона, 95%-го доверительного интевала и процента риска.  \n",
    "На вход функция получает предсказания и правильные ответы. Техникой *Bootstrap* с 1000 выборок находит распределение прибыли и выводит среднюю прибыль региона, доверительный 95%й интервал и процент риска."
   ]
  },
  {
   "cell_type": "code",
   "execution_count": 22,
   "metadata": {},
   "outputs": [],
   "source": [
    "def net_profit(prediction, target):\n",
    "    state = np.random.RandomState(12345)\n",
    "    values = []\n",
    "    for i in range(1000):\n",
    "        target_subsample = target.sample(n=500, replace=True, random_state=state)\n",
    "        pred_subsample = prediction[target_subsample.index]\n",
    "        values.append(profit(pred_subsample, target_subsample))\n",
    "    values = pd.Series(values)\n",
    "    profit_mean = np.mean(values) / 10e6\n",
    "    lower = values.quantile(0.025) / 10e6\n",
    "    upper = values.quantile(0.975) / 10e6\n",
    "    loss_risk = (values < 0).sum() / values.count()\n",
    "    \n",
    "    print('Средняя прибыль региона {:.2f} млн.руб.'.format(profit_mean))\n",
    "    print('95% доверительный интервал от {:.2f} до {:.2f} млн.руб.'.format(lower, upper))\n",
    "    print('Процент риска {:.1%}'.format(loss_risk))"
   ]
  },
  {
   "cell_type": "markdown",
   "metadata": {},
   "source": [
    "**Регион 0**"
   ]
  },
  {
   "cell_type": "code",
   "execution_count": 23,
   "metadata": {
    "scrolled": false
   },
   "outputs": [
    {
     "name": "stdout",
     "output_type": "stream",
     "text": [
      "Средняя прибыль региона 396.16 млн.руб.\n",
      "95% доверительный интервал от -111.22 до 909.77 млн.руб.\n",
      "Процент риска 6.9%\n"
     ]
    }
   ],
   "source": [
    "net_profit(predictions_0, target_valid_0)"
   ]
  },
  {
   "cell_type": "markdown",
   "metadata": {},
   "source": [
    "**Регион 1**"
   ]
  },
  {
   "cell_type": "code",
   "execution_count": 24,
   "metadata": {
    "scrolled": true
   },
   "outputs": [
    {
     "name": "stdout",
     "output_type": "stream",
     "text": [
      "Средняя прибыль региона 456.05 млн.руб.\n",
      "95% доверительный интервал от 33.82 до 852.29 млн.руб.\n",
      "Процент риска 1.5%\n"
     ]
    }
   ],
   "source": [
    "net_profit(predictions_1, target_valid_1)"
   ]
  },
  {
   "cell_type": "markdown",
   "metadata": {},
   "source": [
    "**Регион 2**"
   ]
  },
  {
   "cell_type": "code",
   "execution_count": 25,
   "metadata": {
    "scrolled": true
   },
   "outputs": [
    {
     "name": "stdout",
     "output_type": "stream",
     "text": [
      "Средняя прибыль региона 404.40 млн.руб.\n",
      "95% доверительный интервал от -163.35 до 950.36 млн.руб.\n",
      "Процент риска 7.6%\n"
     ]
    }
   ],
   "source": [
    "net_profit(predictions_2, target_valid_2)"
   ]
  },
  {
   "cell_type": "markdown",
   "metadata": {},
   "source": [
    "**Вывод**  \n",
    "\n",
    "- Без учета рисков Регион 0 показал наибольшую прибыль с 200 скважин. Наименьшую прибыль показал Регион 1.  \n",
    "- С учетом рисков средняя прибыль регионов изменилась:  \n",
    " - Наименьшую среднюю прибыль показал Регион 0  \n",
    " - Наибольшую среднюю прибыль показал Регион 1\n",
    " - С учетом рисков Регион 0 и Регион 2 имеют вероятность убытков более 2.5%\n",
    " - Средняя прибыль Региона 1: 456.05 млн.руб.\n",
    " - Процент риска Региона 1: 1.5%\n"
   ]
  },
  {
   "cell_type": "markdown",
   "metadata": {},
   "source": [
    "**Предложения**"
   ]
  },
  {
   "cell_type": "markdown",
   "metadata": {},
   "source": [
    "**Регион 1** является самым перспективным как в плане средней прибыли(456.05 млн.руб.), так и наименьшего процента риска (1.5%)  \n",
    "**Регион 0** и **Регион 2** имеют меньшую среднюю прибыль и больший процент риска.\n"
   ]
  },
  {
   "cell_type": "code",
   "execution_count": null,
   "metadata": {},
   "outputs": [],
   "source": []
  }
 ],
 "metadata": {
  "ExecuteTimeLog": [
   {
    "duration": 1674,
    "start_time": "2022-04-22T17:55:35.381Z"
   },
   {
    "duration": 370,
    "start_time": "2022-04-22T17:55:39.156Z"
   },
   {
    "duration": 55,
    "start_time": "2022-04-22T17:56:14.910Z"
   },
   {
    "duration": 46,
    "start_time": "2022-04-22T17:56:34.546Z"
   },
   {
    "duration": 50,
    "start_time": "2022-04-22T17:56:50.018Z"
   },
   {
    "duration": 51,
    "start_time": "2022-04-22T17:57:27.783Z"
   },
   {
    "duration": 54,
    "start_time": "2022-04-22T17:57:34.030Z"
   },
   {
    "duration": 2152,
    "start_time": "2022-04-24T15:38:22.209Z"
   },
   {
    "duration": 446,
    "start_time": "2022-04-24T15:38:24.364Z"
   },
   {
    "duration": 92,
    "start_time": "2022-04-24T15:38:24.813Z"
   },
   {
    "duration": 108,
    "start_time": "2022-04-24T15:38:24.908Z"
   },
   {
    "duration": 103,
    "start_time": "2022-04-24T15:38:25.018Z"
   },
   {
    "duration": 69,
    "start_time": "2022-04-24T15:43:25.499Z"
   },
   {
    "duration": 204,
    "start_time": "2022-04-24T15:44:06.892Z"
   },
   {
    "duration": 20,
    "start_time": "2022-04-24T15:52:01.394Z"
   },
   {
    "duration": 20,
    "start_time": "2022-04-24T15:54:19.082Z"
   },
   {
    "duration": 15,
    "start_time": "2022-04-24T15:54:31.354Z"
   },
   {
    "duration": 15,
    "start_time": "2022-04-24T15:54:38.474Z"
   },
   {
    "duration": 13,
    "start_time": "2022-04-24T15:55:28.534Z"
   },
   {
    "duration": 12,
    "start_time": "2022-04-24T15:55:46.966Z"
   },
   {
    "duration": 17,
    "start_time": "2022-04-24T15:56:30.180Z"
   },
   {
    "duration": 13,
    "start_time": "2022-04-24T15:58:15.242Z"
   },
   {
    "duration": 13,
    "start_time": "2022-04-24T15:58:24.638Z"
   },
   {
    "duration": 11,
    "start_time": "2022-04-24T15:58:53.188Z"
   },
   {
    "duration": 12,
    "start_time": "2022-04-24T15:59:04.293Z"
   },
   {
    "duration": 13,
    "start_time": "2022-04-24T16:01:16.028Z"
   },
   {
    "duration": 26,
    "start_time": "2022-04-24T16:14:57.325Z"
   },
   {
    "duration": 10,
    "start_time": "2022-04-24T16:16:31.831Z"
   },
   {
    "duration": 319,
    "start_time": "2022-04-24T16:22:01.441Z"
   },
   {
    "duration": 377,
    "start_time": "2022-04-24T16:22:23.359Z"
   },
   {
    "duration": 320,
    "start_time": "2022-04-24T16:23:00.876Z"
   },
   {
    "duration": 1468,
    "start_time": "2022-04-26T05:50:35.315Z"
   },
   {
    "duration": 700,
    "start_time": "2022-04-26T05:50:36.785Z"
   },
   {
    "duration": 59,
    "start_time": "2022-04-26T05:50:37.487Z"
   },
   {
    "duration": 59,
    "start_time": "2022-04-26T05:50:37.548Z"
   },
   {
    "duration": 64,
    "start_time": "2022-04-26T05:50:37.609Z"
   },
   {
    "duration": 130,
    "start_time": "2022-04-26T05:50:37.675Z"
   },
   {
    "duration": 16,
    "start_time": "2022-04-26T05:50:37.808Z"
   },
   {
    "duration": 11,
    "start_time": "2022-04-26T05:50:37.826Z"
   },
   {
    "duration": 40,
    "start_time": "2022-04-26T05:50:37.839Z"
   },
   {
    "duration": 256,
    "start_time": "2022-04-26T05:50:37.882Z"
   },
   {
    "duration": 5,
    "start_time": "2022-04-26T06:53:32.816Z"
   },
   {
    "duration": 6,
    "start_time": "2022-04-26T06:56:03.046Z"
   },
   {
    "duration": 103,
    "start_time": "2022-04-26T06:59:14.073Z"
   },
   {
    "duration": 38,
    "start_time": "2022-04-26T06:59:54.143Z"
   },
   {
    "duration": 33,
    "start_time": "2022-04-26T06:59:56.297Z"
   },
   {
    "duration": 117,
    "start_time": "2022-04-26T07:37:57.897Z"
   },
   {
    "duration": 6,
    "start_time": "2022-04-26T07:43:50.325Z"
   },
   {
    "duration": 48,
    "start_time": "2022-04-26T07:43:55.737Z"
   },
   {
    "duration": 48,
    "start_time": "2022-04-26T07:43:58.135Z"
   },
   {
    "duration": 44,
    "start_time": "2022-04-26T07:44:00.377Z"
   },
   {
    "duration": 2,
    "start_time": "2022-04-26T07:46:19.456Z"
   },
   {
    "duration": 3,
    "start_time": "2022-04-26T08:39:24.966Z"
   },
   {
    "duration": 4,
    "start_time": "2022-04-26T08:40:38.086Z"
   },
   {
    "duration": 3,
    "start_time": "2022-04-26T08:40:44.246Z"
   },
   {
    "duration": 3,
    "start_time": "2022-04-26T09:57:42.909Z"
   },
   {
    "duration": 5,
    "start_time": "2022-04-26T09:59:00.373Z"
   },
   {
    "duration": 4,
    "start_time": "2022-04-26T09:59:23.842Z"
   },
   {
    "duration": 4,
    "start_time": "2022-04-26T09:59:30.708Z"
   },
   {
    "duration": 4,
    "start_time": "2022-04-26T10:01:02.239Z"
   },
   {
    "duration": 6,
    "start_time": "2022-04-26T10:02:41.951Z"
   },
   {
    "duration": 4,
    "start_time": "2022-04-26T10:04:29.403Z"
   },
   {
    "duration": 103,
    "start_time": "2022-04-26T10:21:18.364Z"
   },
   {
    "duration": 3,
    "start_time": "2022-04-26T10:21:43.291Z"
   },
   {
    "duration": 10,
    "start_time": "2022-04-26T12:03:59.712Z"
   },
   {
    "duration": 9,
    "start_time": "2022-04-26T12:04:23.419Z"
   },
   {
    "duration": 9,
    "start_time": "2022-04-26T12:05:05.605Z"
   },
   {
    "duration": 10,
    "start_time": "2022-04-26T12:05:36.361Z"
   },
   {
    "duration": 9,
    "start_time": "2022-04-26T12:05:52.406Z"
   },
   {
    "duration": 6,
    "start_time": "2022-04-26T13:10:27.206Z"
   },
   {
    "duration": 5,
    "start_time": "2022-04-26T13:12:17.405Z"
   },
   {
    "duration": 140,
    "start_time": "2022-04-26T13:13:00.594Z"
   },
   {
    "duration": 10,
    "start_time": "2022-04-26T13:13:15.326Z"
   },
   {
    "duration": 1666,
    "start_time": "2022-04-26T13:13:25.751Z"
   },
   {
    "duration": 5,
    "start_time": "2022-04-26T13:13:42.025Z"
   },
   {
    "duration": 1696,
    "start_time": "2022-04-26T13:13:45.760Z"
   },
   {
    "duration": 1652,
    "start_time": "2022-04-26T13:15:14.067Z"
   },
   {
    "duration": 1675,
    "start_time": "2022-04-26T13:15:17.849Z"
   },
   {
    "duration": 6,
    "start_time": "2022-04-26T13:25:17.055Z"
   },
   {
    "duration": 1616,
    "start_time": "2022-04-26T13:25:20.719Z"
   },
   {
    "duration": 5,
    "start_time": "2022-04-26T13:25:33.523Z"
   },
   {
    "duration": 1581,
    "start_time": "2022-04-26T13:25:39.896Z"
   },
   {
    "duration": 1437,
    "start_time": "2022-04-26T13:40:46.863Z"
   },
   {
    "duration": 2593,
    "start_time": "2022-04-26T13:40:48.302Z"
   },
   {
    "duration": 64,
    "start_time": "2022-04-26T13:40:50.897Z"
   },
   {
    "duration": 66,
    "start_time": "2022-04-26T13:40:50.963Z"
   },
   {
    "duration": 74,
    "start_time": "2022-04-26T13:40:51.030Z"
   },
   {
    "duration": 145,
    "start_time": "2022-04-26T13:40:51.106Z"
   },
   {
    "duration": 29,
    "start_time": "2022-04-26T13:40:51.252Z"
   },
   {
    "duration": 23,
    "start_time": "2022-04-26T13:40:51.284Z"
   },
   {
    "duration": 21,
    "start_time": "2022-04-26T13:40:51.309Z"
   },
   {
    "duration": 222,
    "start_time": "2022-04-26T13:40:51.333Z"
   },
   {
    "duration": 5,
    "start_time": "2022-04-26T13:40:51.557Z"
   },
   {
    "duration": 111,
    "start_time": "2022-04-26T13:40:51.564Z"
   },
   {
    "duration": 127,
    "start_time": "2022-04-26T13:40:51.677Z"
   },
   {
    "duration": 127,
    "start_time": "2022-04-26T13:40:51.875Z"
   },
   {
    "duration": 4,
    "start_time": "2022-04-26T13:40:52.075Z"
   },
   {
    "duration": 100,
    "start_time": "2022-04-26T13:40:52.082Z"
   },
   {
    "duration": 7,
    "start_time": "2022-04-26T13:40:52.184Z"
   },
   {
    "duration": 25,
    "start_time": "2022-04-26T13:40:52.193Z"
   },
   {
    "duration": 17,
    "start_time": "2022-04-26T13:40:52.220Z"
   },
   {
    "duration": 13,
    "start_time": "2022-04-26T13:40:52.239Z"
   },
   {
    "duration": 11,
    "start_time": "2022-04-26T13:40:52.254Z"
   },
   {
    "duration": 7,
    "start_time": "2022-04-26T13:40:52.266Z"
   },
   {
    "duration": 1553,
    "start_time": "2022-04-26T13:40:52.275Z"
   },
   {
    "duration": 1531,
    "start_time": "2022-04-26T13:40:53.830Z"
   },
   {
    "duration": 1525,
    "start_time": "2022-04-26T13:40:55.362Z"
   },
   {
    "duration": 1955,
    "start_time": "2022-04-27T12:23:26.792Z"
   },
   {
    "duration": 1137,
    "start_time": "2022-04-27T12:23:28.750Z"
   },
   {
    "duration": 95,
    "start_time": "2022-04-27T12:23:29.889Z"
   },
   {
    "duration": 75,
    "start_time": "2022-04-27T12:23:29.985Z"
   },
   {
    "duration": 81,
    "start_time": "2022-04-27T12:23:30.062Z"
   },
   {
    "duration": 176,
    "start_time": "2022-04-27T12:23:30.144Z"
   },
   {
    "duration": 14,
    "start_time": "2022-04-27T12:23:30.323Z"
   },
   {
    "duration": 35,
    "start_time": "2022-04-27T12:23:30.339Z"
   },
   {
    "duration": 29,
    "start_time": "2022-04-27T12:23:30.375Z"
   },
   {
    "duration": 274,
    "start_time": "2022-04-27T12:23:30.406Z"
   },
   {
    "duration": 10,
    "start_time": "2022-04-27T12:23:30.683Z"
   },
   {
    "duration": 116,
    "start_time": "2022-04-27T12:23:30.695Z"
   },
   {
    "duration": 194,
    "start_time": "2022-04-27T12:23:30.814Z"
   },
   {
    "duration": 108,
    "start_time": "2022-04-27T12:23:31.016Z"
   },
   {
    "duration": 78,
    "start_time": "2022-04-27T12:23:31.126Z"
   },
   {
    "duration": 107,
    "start_time": "2022-04-27T12:23:31.207Z"
   },
   {
    "duration": 25,
    "start_time": "2022-04-27T12:23:31.316Z"
   },
   {
    "duration": 23,
    "start_time": "2022-04-27T12:23:31.343Z"
   },
   {
    "duration": 13,
    "start_time": "2022-04-27T12:23:31.368Z"
   },
   {
    "duration": 13,
    "start_time": "2022-04-27T12:23:31.383Z"
   },
   {
    "duration": 15,
    "start_time": "2022-04-27T12:23:31.402Z"
   },
   {
    "duration": 8,
    "start_time": "2022-04-27T12:23:31.419Z"
   },
   {
    "duration": 1790,
    "start_time": "2022-04-27T12:23:31.429Z"
   },
   {
    "duration": 1599,
    "start_time": "2022-04-27T12:23:33.221Z"
   },
   {
    "duration": 1583,
    "start_time": "2022-04-27T12:23:34.821Z"
   },
   {
    "duration": 1647,
    "start_time": "2022-04-27T12:34:10.475Z"
   },
   {
    "duration": 372,
    "start_time": "2022-04-27T12:34:12.125Z"
   },
   {
    "duration": 63,
    "start_time": "2022-04-27T12:34:12.502Z"
   },
   {
    "duration": 97,
    "start_time": "2022-04-27T12:34:12.568Z"
   },
   {
    "duration": 93,
    "start_time": "2022-04-27T12:34:12.667Z"
   },
   {
    "duration": 154,
    "start_time": "2022-04-27T12:34:12.762Z"
   },
   {
    "duration": 17,
    "start_time": "2022-04-27T12:34:12.918Z"
   },
   {
    "duration": 17,
    "start_time": "2022-04-27T12:34:12.937Z"
   },
   {
    "duration": 39,
    "start_time": "2022-04-27T12:34:12.956Z"
   },
   {
    "duration": 334,
    "start_time": "2022-04-27T12:34:13.001Z"
   },
   {
    "duration": 5,
    "start_time": "2022-04-27T12:34:13.337Z"
   },
   {
    "duration": 149,
    "start_time": "2022-04-27T12:34:13.344Z"
   },
   {
    "duration": 132,
    "start_time": "2022-04-27T12:34:13.497Z"
   },
   {
    "duration": 177,
    "start_time": "2022-04-27T12:34:13.631Z"
   },
   {
    "duration": 184,
    "start_time": "2022-04-27T12:34:13.811Z"
   },
   {
    "duration": 12,
    "start_time": "2022-04-27T12:34:13.999Z"
   },
   {
    "duration": 17,
    "start_time": "2022-04-27T12:34:14.014Z"
   },
   {
    "duration": 9,
    "start_time": "2022-04-27T12:34:14.033Z"
   },
   {
    "duration": 144,
    "start_time": "2022-04-27T12:34:14.044Z"
   },
   {
    "duration": 0,
    "start_time": "2022-04-27T12:34:14.190Z"
   },
   {
    "duration": 0,
    "start_time": "2022-04-27T12:34:14.193Z"
   },
   {
    "duration": 0,
    "start_time": "2022-04-27T12:34:14.194Z"
   },
   {
    "duration": 0,
    "start_time": "2022-04-27T12:34:14.196Z"
   },
   {
    "duration": 0,
    "start_time": "2022-04-27T12:34:14.197Z"
   },
   {
    "duration": 0,
    "start_time": "2022-04-27T12:34:14.201Z"
   },
   {
    "duration": 2841,
    "start_time": "2022-04-27T12:35:08.439Z"
   },
   {
    "duration": 376,
    "start_time": "2022-04-27T12:35:11.282Z"
   },
   {
    "duration": 69,
    "start_time": "2022-04-27T12:35:11.660Z"
   },
   {
    "duration": 67,
    "start_time": "2022-04-27T12:35:11.731Z"
   },
   {
    "duration": 56,
    "start_time": "2022-04-27T12:35:11.807Z"
   },
   {
    "duration": 149,
    "start_time": "2022-04-27T12:35:11.865Z"
   },
   {
    "duration": 13,
    "start_time": "2022-04-27T12:35:12.016Z"
   },
   {
    "duration": 22,
    "start_time": "2022-04-27T12:35:12.031Z"
   },
   {
    "duration": 24,
    "start_time": "2022-04-27T12:35:12.055Z"
   },
   {
    "duration": 236,
    "start_time": "2022-04-27T12:35:12.081Z"
   },
   {
    "duration": 6,
    "start_time": "2022-04-27T12:35:12.319Z"
   },
   {
    "duration": 81,
    "start_time": "2022-04-27T12:35:12.327Z"
   },
   {
    "duration": 194,
    "start_time": "2022-04-27T12:35:12.410Z"
   },
   {
    "duration": 209,
    "start_time": "2022-04-27T12:35:12.614Z"
   },
   {
    "duration": 4,
    "start_time": "2022-04-27T12:35:12.825Z"
   },
   {
    "duration": 108,
    "start_time": "2022-04-27T12:35:12.895Z"
   },
   {
    "duration": 39,
    "start_time": "2022-04-27T12:35:13.008Z"
   },
   {
    "duration": 55,
    "start_time": "2022-04-27T12:35:13.049Z"
   },
   {
    "duration": 36,
    "start_time": "2022-04-27T12:35:13.107Z"
   },
   {
    "duration": 34,
    "start_time": "2022-04-27T12:35:13.145Z"
   },
   {
    "duration": 45,
    "start_time": "2022-04-27T12:35:13.181Z"
   },
   {
    "duration": 46,
    "start_time": "2022-04-27T12:35:13.228Z"
   },
   {
    "duration": 1577,
    "start_time": "2022-04-27T12:35:13.276Z"
   },
   {
    "duration": 1571,
    "start_time": "2022-04-27T12:35:14.854Z"
   },
   {
    "duration": 1529,
    "start_time": "2022-04-27T12:35:16.427Z"
   },
   {
    "duration": 49,
    "start_time": "2022-11-04T06:35:02.238Z"
   }
  ],
  "kernelspec": {
   "display_name": "Python 3 (ipykernel)",
   "language": "python",
   "name": "python3"
  },
  "language_info": {
   "codemirror_mode": {
    "name": "ipython",
    "version": 3
   },
   "file_extension": ".py",
   "mimetype": "text/x-python",
   "name": "python",
   "nbconvert_exporter": "python",
   "pygments_lexer": "ipython3",
   "version": "3.9.5"
  },
  "toc": {
   "base_numbering": 1,
   "nav_menu": {},
   "number_sections": true,
   "sideBar": true,
   "skip_h1_title": true,
   "title_cell": "Table of Contents",
   "title_sidebar": "Contents",
   "toc_cell": false,
   "toc_position": {},
   "toc_section_display": true,
   "toc_window_display": false
  }
 },
 "nbformat": 4,
 "nbformat_minor": 2
}
