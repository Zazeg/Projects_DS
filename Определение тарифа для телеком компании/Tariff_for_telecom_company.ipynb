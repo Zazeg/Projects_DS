{
 "cells": [
  {
   "cell_type": "markdown",
   "metadata": {},
   "source": [
    "# Открытие файла с данными и изучение общей информации"
   ]
  },
  {
   "cell_type": "markdown",
   "metadata": {},
   "source": [
    "Подключим библиотеки, необходимые для работы."
   ]
  },
  {
   "cell_type": "code",
   "execution_count": 1,
   "metadata": {},
   "outputs": [],
   "source": [
    "import pandas as pd\n",
    "import matplotlib.pyplot as plt\n",
    "from scipy import stats as st\n",
    "import numpy as np"
   ]
  },
  {
   "cell_type": "markdown",
   "metadata": {},
   "source": [
    "Открытие и изучение файлов с данными"
   ]
  },
  {
   "cell_type": "code",
   "execution_count": 2,
   "metadata": {},
   "outputs": [
    {
     "name": "stdout",
     "output_type": "stream",
     "text": [
      "<class 'pandas.core.frame.DataFrame'>\n",
      "RangeIndex: 202607 entries, 0 to 202606\n",
      "Data columns (total 4 columns):\n",
      " #   Column     Non-Null Count   Dtype  \n",
      "---  ------     --------------   -----  \n",
      " 0   id         202607 non-null  object \n",
      " 1   call_date  202607 non-null  object \n",
      " 2   duration   202607 non-null  float64\n",
      " 3   user_id    202607 non-null  int64  \n",
      "dtypes: float64(1), int64(1), object(2)\n",
      "memory usage: 6.2+ MB\n",
      "None\n"
     ]
    },
    {
     "data": {
      "text/html": [
       "<div>\n",
       "<style scoped>\n",
       "    .dataframe tbody tr th:only-of-type {\n",
       "        vertical-align: middle;\n",
       "    }\n",
       "\n",
       "    .dataframe tbody tr th {\n",
       "        vertical-align: top;\n",
       "    }\n",
       "\n",
       "    .dataframe thead th {\n",
       "        text-align: right;\n",
       "    }\n",
       "</style>\n",
       "<table border=\"1\" class=\"dataframe\">\n",
       "  <thead>\n",
       "    <tr style=\"text-align: right;\">\n",
       "      <th></th>\n",
       "      <th>id</th>\n",
       "      <th>call_date</th>\n",
       "      <th>duration</th>\n",
       "      <th>user_id</th>\n",
       "    </tr>\n",
       "  </thead>\n",
       "  <tbody>\n",
       "    <tr>\n",
       "      <th>0</th>\n",
       "      <td>1000_0</td>\n",
       "      <td>2018-07-25</td>\n",
       "      <td>0.00</td>\n",
       "      <td>1000</td>\n",
       "    </tr>\n",
       "    <tr>\n",
       "      <th>1</th>\n",
       "      <td>1000_1</td>\n",
       "      <td>2018-08-17</td>\n",
       "      <td>0.00</td>\n",
       "      <td>1000</td>\n",
       "    </tr>\n",
       "    <tr>\n",
       "      <th>2</th>\n",
       "      <td>1000_2</td>\n",
       "      <td>2018-06-11</td>\n",
       "      <td>2.85</td>\n",
       "      <td>1000</td>\n",
       "    </tr>\n",
       "    <tr>\n",
       "      <th>3</th>\n",
       "      <td>1000_3</td>\n",
       "      <td>2018-09-21</td>\n",
       "      <td>13.80</td>\n",
       "      <td>1000</td>\n",
       "    </tr>\n",
       "  </tbody>\n",
       "</table>\n",
       "</div>"
      ],
      "text/plain": [
       "       id   call_date  duration  user_id\n",
       "0  1000_0  2018-07-25      0.00     1000\n",
       "1  1000_1  2018-08-17      0.00     1000\n",
       "2  1000_2  2018-06-11      2.85     1000\n",
       "3  1000_3  2018-09-21     13.80     1000"
      ]
     },
     "execution_count": 2,
     "metadata": {},
     "output_type": "execute_result"
    }
   ],
   "source": [
    "calls = pd.read_csv('/datasets/calls.csv')\n",
    "print(calls.info())\n",
    "calls.head(4)"
   ]
  },
  {
   "cell_type": "code",
   "execution_count": 3,
   "metadata": {},
   "outputs": [
    {
     "name": "stdout",
     "output_type": "stream",
     "text": [
      "<class 'pandas.core.frame.DataFrame'>\n",
      "RangeIndex: 149396 entries, 0 to 149395\n",
      "Data columns (total 5 columns):\n",
      " #   Column        Non-Null Count   Dtype  \n",
      "---  ------        --------------   -----  \n",
      " 0   Unnamed: 0    149396 non-null  int64  \n",
      " 1   id            149396 non-null  object \n",
      " 2   mb_used       149396 non-null  float64\n",
      " 3   session_date  149396 non-null  object \n",
      " 4   user_id       149396 non-null  int64  \n",
      "dtypes: float64(1), int64(2), object(2)\n",
      "memory usage: 5.7+ MB\n",
      "None\n"
     ]
    },
    {
     "data": {
      "text/html": [
       "<div>\n",
       "<style scoped>\n",
       "    .dataframe tbody tr th:only-of-type {\n",
       "        vertical-align: middle;\n",
       "    }\n",
       "\n",
       "    .dataframe tbody tr th {\n",
       "        vertical-align: top;\n",
       "    }\n",
       "\n",
       "    .dataframe thead th {\n",
       "        text-align: right;\n",
       "    }\n",
       "</style>\n",
       "<table border=\"1\" class=\"dataframe\">\n",
       "  <thead>\n",
       "    <tr style=\"text-align: right;\">\n",
       "      <th></th>\n",
       "      <th>Unnamed: 0</th>\n",
       "      <th>id</th>\n",
       "      <th>mb_used</th>\n",
       "      <th>session_date</th>\n",
       "      <th>user_id</th>\n",
       "    </tr>\n",
       "  </thead>\n",
       "  <tbody>\n",
       "    <tr>\n",
       "      <th>0</th>\n",
       "      <td>0</td>\n",
       "      <td>1000_0</td>\n",
       "      <td>112.95</td>\n",
       "      <td>2018-11-25</td>\n",
       "      <td>1000</td>\n",
       "    </tr>\n",
       "    <tr>\n",
       "      <th>1</th>\n",
       "      <td>1</td>\n",
       "      <td>1000_1</td>\n",
       "      <td>1052.81</td>\n",
       "      <td>2018-09-07</td>\n",
       "      <td>1000</td>\n",
       "    </tr>\n",
       "    <tr>\n",
       "      <th>2</th>\n",
       "      <td>2</td>\n",
       "      <td>1000_2</td>\n",
       "      <td>1197.26</td>\n",
       "      <td>2018-06-25</td>\n",
       "      <td>1000</td>\n",
       "    </tr>\n",
       "    <tr>\n",
       "      <th>3</th>\n",
       "      <td>3</td>\n",
       "      <td>1000_3</td>\n",
       "      <td>550.27</td>\n",
       "      <td>2018-08-22</td>\n",
       "      <td>1000</td>\n",
       "    </tr>\n",
       "  </tbody>\n",
       "</table>\n",
       "</div>"
      ],
      "text/plain": [
       "   Unnamed: 0      id  mb_used session_date  user_id\n",
       "0           0  1000_0   112.95   2018-11-25     1000\n",
       "1           1  1000_1  1052.81   2018-09-07     1000\n",
       "2           2  1000_2  1197.26   2018-06-25     1000\n",
       "3           3  1000_3   550.27   2018-08-22     1000"
      ]
     },
     "execution_count": 3,
     "metadata": {},
     "output_type": "execute_result"
    }
   ],
   "source": [
    "internet = pd.read_csv('/datasets/internet.csv')\n",
    "print(internet.info())\n",
    "internet.head(4)"
   ]
  },
  {
   "cell_type": "code",
   "execution_count": 4,
   "metadata": {
    "scrolled": true
   },
   "outputs": [
    {
     "name": "stdout",
     "output_type": "stream",
     "text": [
      "<class 'pandas.core.frame.DataFrame'>\n",
      "RangeIndex: 123036 entries, 0 to 123035\n",
      "Data columns (total 3 columns):\n",
      " #   Column        Non-Null Count   Dtype \n",
      "---  ------        --------------   ----- \n",
      " 0   id            123036 non-null  object\n",
      " 1   message_date  123036 non-null  object\n",
      " 2   user_id       123036 non-null  int64 \n",
      "dtypes: int64(1), object(2)\n",
      "memory usage: 2.8+ MB\n",
      "None\n"
     ]
    },
    {
     "data": {
      "text/html": [
       "<div>\n",
       "<style scoped>\n",
       "    .dataframe tbody tr th:only-of-type {\n",
       "        vertical-align: middle;\n",
       "    }\n",
       "\n",
       "    .dataframe tbody tr th {\n",
       "        vertical-align: top;\n",
       "    }\n",
       "\n",
       "    .dataframe thead th {\n",
       "        text-align: right;\n",
       "    }\n",
       "</style>\n",
       "<table border=\"1\" class=\"dataframe\">\n",
       "  <thead>\n",
       "    <tr style=\"text-align: right;\">\n",
       "      <th></th>\n",
       "      <th>id</th>\n",
       "      <th>message_date</th>\n",
       "      <th>user_id</th>\n",
       "    </tr>\n",
       "  </thead>\n",
       "  <tbody>\n",
       "    <tr>\n",
       "      <th>0</th>\n",
       "      <td>1000_0</td>\n",
       "      <td>2018-06-27</td>\n",
       "      <td>1000</td>\n",
       "    </tr>\n",
       "    <tr>\n",
       "      <th>1</th>\n",
       "      <td>1000_1</td>\n",
       "      <td>2018-10-08</td>\n",
       "      <td>1000</td>\n",
       "    </tr>\n",
       "    <tr>\n",
       "      <th>2</th>\n",
       "      <td>1000_2</td>\n",
       "      <td>2018-08-04</td>\n",
       "      <td>1000</td>\n",
       "    </tr>\n",
       "    <tr>\n",
       "      <th>3</th>\n",
       "      <td>1000_3</td>\n",
       "      <td>2018-06-16</td>\n",
       "      <td>1000</td>\n",
       "    </tr>\n",
       "  </tbody>\n",
       "</table>\n",
       "</div>"
      ],
      "text/plain": [
       "       id message_date  user_id\n",
       "0  1000_0   2018-06-27     1000\n",
       "1  1000_1   2018-10-08     1000\n",
       "2  1000_2   2018-08-04     1000\n",
       "3  1000_3   2018-06-16     1000"
      ]
     },
     "execution_count": 4,
     "metadata": {},
     "output_type": "execute_result"
    }
   ],
   "source": [
    "messages = pd.read_csv('/datasets/messages.csv')\n",
    "print(messages.info())\n",
    "messages.head(4)"
   ]
  },
  {
   "cell_type": "code",
   "execution_count": 5,
   "metadata": {},
   "outputs": [
    {
     "name": "stdout",
     "output_type": "stream",
     "text": [
      "<class 'pandas.core.frame.DataFrame'>\n",
      "RangeIndex: 2 entries, 0 to 1\n",
      "Data columns (total 8 columns):\n",
      " #   Column                 Non-Null Count  Dtype \n",
      "---  ------                 --------------  ----- \n",
      " 0   messages_included      2 non-null      int64 \n",
      " 1   mb_per_month_included  2 non-null      int64 \n",
      " 2   minutes_included       2 non-null      int64 \n",
      " 3   rub_monthly_fee        2 non-null      int64 \n",
      " 4   rub_per_gb             2 non-null      int64 \n",
      " 5   rub_per_message        2 non-null      int64 \n",
      " 6   rub_per_minute         2 non-null      int64 \n",
      " 7   tariff_name            2 non-null      object\n",
      "dtypes: int64(7), object(1)\n",
      "memory usage: 256.0+ bytes\n",
      "None\n"
     ]
    },
    {
     "data": {
      "text/html": [
       "<div>\n",
       "<style scoped>\n",
       "    .dataframe tbody tr th:only-of-type {\n",
       "        vertical-align: middle;\n",
       "    }\n",
       "\n",
       "    .dataframe tbody tr th {\n",
       "        vertical-align: top;\n",
       "    }\n",
       "\n",
       "    .dataframe thead th {\n",
       "        text-align: right;\n",
       "    }\n",
       "</style>\n",
       "<table border=\"1\" class=\"dataframe\">\n",
       "  <thead>\n",
       "    <tr style=\"text-align: right;\">\n",
       "      <th></th>\n",
       "      <th>messages_included</th>\n",
       "      <th>mb_per_month_included</th>\n",
       "      <th>minutes_included</th>\n",
       "      <th>rub_monthly_fee</th>\n",
       "      <th>rub_per_gb</th>\n",
       "      <th>rub_per_message</th>\n",
       "      <th>rub_per_minute</th>\n",
       "      <th>tariff_name</th>\n",
       "    </tr>\n",
       "  </thead>\n",
       "  <tbody>\n",
       "    <tr>\n",
       "      <th>0</th>\n",
       "      <td>50</td>\n",
       "      <td>15360</td>\n",
       "      <td>500</td>\n",
       "      <td>550</td>\n",
       "      <td>200</td>\n",
       "      <td>3</td>\n",
       "      <td>3</td>\n",
       "      <td>smart</td>\n",
       "    </tr>\n",
       "    <tr>\n",
       "      <th>1</th>\n",
       "      <td>1000</td>\n",
       "      <td>30720</td>\n",
       "      <td>3000</td>\n",
       "      <td>1950</td>\n",
       "      <td>150</td>\n",
       "      <td>1</td>\n",
       "      <td>1</td>\n",
       "      <td>ultra</td>\n",
       "    </tr>\n",
       "  </tbody>\n",
       "</table>\n",
       "</div>"
      ],
      "text/plain": [
       "   messages_included  mb_per_month_included  minutes_included  \\\n",
       "0                 50                  15360               500   \n",
       "1               1000                  30720              3000   \n",
       "\n",
       "   rub_monthly_fee  rub_per_gb  rub_per_message  rub_per_minute tariff_name  \n",
       "0              550         200                3               3       smart  \n",
       "1             1950         150                1               1       ultra  "
      ]
     },
     "execution_count": 5,
     "metadata": {},
     "output_type": "execute_result"
    }
   ],
   "source": [
    "tariffs = pd.read_csv('/datasets/tariffs.csv')\n",
    "print(tariffs.info())\n",
    "tariffs.head()"
   ]
  },
  {
   "cell_type": "code",
   "execution_count": 6,
   "metadata": {
    "scrolled": true
   },
   "outputs": [
    {
     "name": "stdout",
     "output_type": "stream",
     "text": [
      "<class 'pandas.core.frame.DataFrame'>\n",
      "RangeIndex: 500 entries, 0 to 499\n",
      "Data columns (total 8 columns):\n",
      " #   Column      Non-Null Count  Dtype \n",
      "---  ------      --------------  ----- \n",
      " 0   user_id     500 non-null    int64 \n",
      " 1   age         500 non-null    int64 \n",
      " 2   churn_date  38 non-null     object\n",
      " 3   city        500 non-null    object\n",
      " 4   first_name  500 non-null    object\n",
      " 5   last_name   500 non-null    object\n",
      " 6   reg_date    500 non-null    object\n",
      " 7   tariff      500 non-null    object\n",
      "dtypes: int64(2), object(6)\n",
      "memory usage: 31.4+ KB\n",
      "None\n"
     ]
    },
    {
     "data": {
      "text/html": [
       "<div>\n",
       "<style scoped>\n",
       "    .dataframe tbody tr th:only-of-type {\n",
       "        vertical-align: middle;\n",
       "    }\n",
       "\n",
       "    .dataframe tbody tr th {\n",
       "        vertical-align: top;\n",
       "    }\n",
       "\n",
       "    .dataframe thead th {\n",
       "        text-align: right;\n",
       "    }\n",
       "</style>\n",
       "<table border=\"1\" class=\"dataframe\">\n",
       "  <thead>\n",
       "    <tr style=\"text-align: right;\">\n",
       "      <th></th>\n",
       "      <th>user_id</th>\n",
       "      <th>age</th>\n",
       "      <th>churn_date</th>\n",
       "      <th>city</th>\n",
       "      <th>first_name</th>\n",
       "      <th>last_name</th>\n",
       "      <th>reg_date</th>\n",
       "      <th>tariff</th>\n",
       "    </tr>\n",
       "  </thead>\n",
       "  <tbody>\n",
       "    <tr>\n",
       "      <th>0</th>\n",
       "      <td>1000</td>\n",
       "      <td>52</td>\n",
       "      <td>NaN</td>\n",
       "      <td>Краснодар</td>\n",
       "      <td>Рафаил</td>\n",
       "      <td>Верещагин</td>\n",
       "      <td>2018-05-25</td>\n",
       "      <td>ultra</td>\n",
       "    </tr>\n",
       "    <tr>\n",
       "      <th>1</th>\n",
       "      <td>1001</td>\n",
       "      <td>41</td>\n",
       "      <td>NaN</td>\n",
       "      <td>Москва</td>\n",
       "      <td>Иван</td>\n",
       "      <td>Ежов</td>\n",
       "      <td>2018-11-01</td>\n",
       "      <td>smart</td>\n",
       "    </tr>\n",
       "    <tr>\n",
       "      <th>2</th>\n",
       "      <td>1002</td>\n",
       "      <td>59</td>\n",
       "      <td>NaN</td>\n",
       "      <td>Стерлитамак</td>\n",
       "      <td>Евгений</td>\n",
       "      <td>Абрамович</td>\n",
       "      <td>2018-06-17</td>\n",
       "      <td>smart</td>\n",
       "    </tr>\n",
       "    <tr>\n",
       "      <th>3</th>\n",
       "      <td>1003</td>\n",
       "      <td>23</td>\n",
       "      <td>NaN</td>\n",
       "      <td>Москва</td>\n",
       "      <td>Белла</td>\n",
       "      <td>Белякова</td>\n",
       "      <td>2018-08-17</td>\n",
       "      <td>ultra</td>\n",
       "    </tr>\n",
       "  </tbody>\n",
       "</table>\n",
       "</div>"
      ],
      "text/plain": [
       "   user_id  age churn_date         city first_name  last_name    reg_date  \\\n",
       "0     1000   52        NaN    Краснодар     Рафаил  Верещагин  2018-05-25   \n",
       "1     1001   41        NaN       Москва       Иван       Ежов  2018-11-01   \n",
       "2     1002   59        NaN  Стерлитамак    Евгений  Абрамович  2018-06-17   \n",
       "3     1003   23        NaN       Москва      Белла   Белякова  2018-08-17   \n",
       "\n",
       "  tariff  \n",
       "0  ultra  \n",
       "1  smart  \n",
       "2  smart  \n",
       "3  ultra  "
      ]
     },
     "execution_count": 6,
     "metadata": {},
     "output_type": "execute_result"
    }
   ],
   "source": [
    "users = pd.read_csv('/datasets/users.csv')\n",
    "print(users.info())\n",
    "users.head(4)"
   ]
  },
  {
   "cell_type": "markdown",
   "metadata": {},
   "source": [
    " **Вывод:**  \n",
    "- В четырех таблицах неверный формат столбцов с датами.\n",
    "- В таблице Internet непонятный столбец, нужно избавиться от него.\n",
    "- Нужно округлить длительность звонков до минут, также мегабайты в бо́льшую сторону. "
   ]
  },
  {
   "cell_type": "markdown",
   "metadata": {},
   "source": [
    "# Предобработка данных."
   ]
  },
  {
   "cell_type": "markdown",
   "metadata": {},
   "source": [
    "Сначала приведем все столбцы с датами к нужному формату."
   ]
  },
  {
   "cell_type": "code",
   "execution_count": 7,
   "metadata": {},
   "outputs": [],
   "source": [
    "calls['call_date'] = pd.to_datetime(calls['call_date'], format='%Y-%m-%d')"
   ]
  },
  {
   "cell_type": "code",
   "execution_count": 8,
   "metadata": {},
   "outputs": [],
   "source": [
    "internet['session_date'] = pd.to_datetime(internet['session_date'], format='%Y-%m-%d')"
   ]
  },
  {
   "cell_type": "code",
   "execution_count": 9,
   "metadata": {},
   "outputs": [],
   "source": [
    "messages['message_date'] = pd.to_datetime(messages['message_date'], format='%Y-%m-%d')"
   ]
  },
  {
   "cell_type": "code",
   "execution_count": 10,
   "metadata": {},
   "outputs": [],
   "source": [
    "users['reg_date'] = pd.to_datetime(users['reg_date'], format='%Y-%m-%d')"
   ]
  },
  {
   "cell_type": "markdown",
   "metadata": {},
   "source": [
    "В столбце `churn_date` много отсутствующих значений. Проверка уникальных значений столбца:"
   ]
  },
  {
   "cell_type": "code",
   "execution_count": 11,
   "metadata": {},
   "outputs": [
    {
     "name": "stdout",
     "output_type": "stream",
     "text": [
      "[nan '2018-10-05' '2018-12-18' '2018-11-21' '2018-10-03' '2018-10-14'\n",
      " '2018-12-09' '2018-12-11' '2018-12-26' '2018-08-31' '2018-12-03'\n",
      " '2018-12-23' '2018-11-07' '2018-12-16' '2018-12-20' '2018-11-30'\n",
      " '2018-12-21' '2018-08-17' '2018-09-02' '2018-10-04' '2018-11-13'\n",
      " '2018-11-22' '2018-10-28' '2018-11-26' '2018-11-27' '2018-11-16'\n",
      " '2018-10-27' '2018-12-30' '2018-09-27' '2018-12-25' '2018-12-14'\n",
      " '2018-12-24' '2018-09-26' '2018-10-25']\n"
     ]
    }
   ],
   "source": [
    "print(users['churn_date'].unique())"
   ]
  },
  {
   "cell_type": "markdown",
   "metadata": {},
   "source": [
    "Все значения 2018 годом. Значит в таблице данные за 2018 год, его часть или ранее. Но важно тут то, что на 1 января 2019 года все пользователи были у оператора, а значит отсутсвующие значения в данном столбце можно заменить на 01.01.2019, а после этого привести к нужному формату столбца"
   ]
  },
  {
   "cell_type": "code",
   "execution_count": 12,
   "metadata": {},
   "outputs": [],
   "source": [
    "users['churn_date'].fillna('2019-01-01', inplace=True)\n",
    "users['churn_date'] = pd.to_datetime(users['churn_date'], format='%Y-%m-%d')"
   ]
  },
  {
   "cell_type": "markdown",
   "metadata": {},
   "source": [
    "Удаление лишнего столбца:"
   ]
  },
  {
   "cell_type": "code",
   "execution_count": 13,
   "metadata": {},
   "outputs": [],
   "source": [
    "internet.drop('Unnamed: 0', axis='columns', inplace=True)"
   ]
  },
  {
   "cell_type": "markdown",
   "metadata": {},
   "source": [
    "Округление звонков:"
   ]
  },
  {
   "cell_type": "code",
   "execution_count": 14,
   "metadata": {},
   "outputs": [],
   "source": [
    "calls['duration'] = calls['duration'].apply(np.ceil).astype('int')"
   ]
  },
  {
   "cell_type": "code",
   "execution_count": 15,
   "metadata": {},
   "outputs": [
    {
     "data": {
      "text/html": [
       "<div>\n",
       "<style scoped>\n",
       "    .dataframe tbody tr th:only-of-type {\n",
       "        vertical-align: middle;\n",
       "    }\n",
       "\n",
       "    .dataframe tbody tr th {\n",
       "        vertical-align: top;\n",
       "    }\n",
       "\n",
       "    .dataframe thead th {\n",
       "        text-align: right;\n",
       "    }\n",
       "</style>\n",
       "<table border=\"1\" class=\"dataframe\">\n",
       "  <thead>\n",
       "    <tr style=\"text-align: right;\">\n",
       "      <th></th>\n",
       "      <th>user_id</th>\n",
       "      <th>age</th>\n",
       "    </tr>\n",
       "  </thead>\n",
       "  <tbody>\n",
       "    <tr>\n",
       "      <th>count</th>\n",
       "      <td>500.000000</td>\n",
       "      <td>500.00000</td>\n",
       "    </tr>\n",
       "    <tr>\n",
       "      <th>mean</th>\n",
       "      <td>1249.500000</td>\n",
       "      <td>46.58800</td>\n",
       "    </tr>\n",
       "    <tr>\n",
       "      <th>std</th>\n",
       "      <td>144.481833</td>\n",
       "      <td>16.66763</td>\n",
       "    </tr>\n",
       "    <tr>\n",
       "      <th>min</th>\n",
       "      <td>1000.000000</td>\n",
       "      <td>18.00000</td>\n",
       "    </tr>\n",
       "    <tr>\n",
       "      <th>25%</th>\n",
       "      <td>1124.750000</td>\n",
       "      <td>32.00000</td>\n",
       "    </tr>\n",
       "    <tr>\n",
       "      <th>50%</th>\n",
       "      <td>1249.500000</td>\n",
       "      <td>46.00000</td>\n",
       "    </tr>\n",
       "    <tr>\n",
       "      <th>75%</th>\n",
       "      <td>1374.250000</td>\n",
       "      <td>62.00000</td>\n",
       "    </tr>\n",
       "    <tr>\n",
       "      <th>max</th>\n",
       "      <td>1499.000000</td>\n",
       "      <td>75.00000</td>\n",
       "    </tr>\n",
       "  </tbody>\n",
       "</table>\n",
       "</div>"
      ],
      "text/plain": [
       "           user_id        age\n",
       "count   500.000000  500.00000\n",
       "mean   1249.500000   46.58800\n",
       "std     144.481833   16.66763\n",
       "min    1000.000000   18.00000\n",
       "25%    1124.750000   32.00000\n",
       "50%    1249.500000   46.00000\n",
       "75%    1374.250000   62.00000\n",
       "max    1499.000000   75.00000"
      ]
     },
     "execution_count": 15,
     "metadata": {},
     "output_type": "execute_result"
    }
   ],
   "source": [
    "users.describe()"
   ]
  },
  {
   "cell_type": "markdown",
   "metadata": {},
   "source": [
    "Возраст пользователей от 18 до 75 лет. Всё нормально."
   ]
  },
  {
   "cell_type": "code",
   "execution_count": 16,
   "metadata": {},
   "outputs": [
    {
     "data": {
      "text/html": [
       "<div>\n",
       "<style scoped>\n",
       "    .dataframe tbody tr th:only-of-type {\n",
       "        vertical-align: middle;\n",
       "    }\n",
       "\n",
       "    .dataframe tbody tr th {\n",
       "        vertical-align: top;\n",
       "    }\n",
       "\n",
       "    .dataframe thead th {\n",
       "        text-align: right;\n",
       "    }\n",
       "</style>\n",
       "<table border=\"1\" class=\"dataframe\">\n",
       "  <thead>\n",
       "    <tr style=\"text-align: right;\">\n",
       "      <th></th>\n",
       "      <th>duration</th>\n",
       "      <th>user_id</th>\n",
       "    </tr>\n",
       "  </thead>\n",
       "  <tbody>\n",
       "    <tr>\n",
       "      <th>count</th>\n",
       "      <td>202607.000000</td>\n",
       "      <td>202607.000000</td>\n",
       "    </tr>\n",
       "    <tr>\n",
       "      <th>mean</th>\n",
       "      <td>7.158198</td>\n",
       "      <td>1253.940619</td>\n",
       "    </tr>\n",
       "    <tr>\n",
       "      <th>std</th>\n",
       "      <td>5.959173</td>\n",
       "      <td>144.722751</td>\n",
       "    </tr>\n",
       "    <tr>\n",
       "      <th>min</th>\n",
       "      <td>0.000000</td>\n",
       "      <td>1000.000000</td>\n",
       "    </tr>\n",
       "    <tr>\n",
       "      <th>25%</th>\n",
       "      <td>2.000000</td>\n",
       "      <td>1126.000000</td>\n",
       "    </tr>\n",
       "    <tr>\n",
       "      <th>50%</th>\n",
       "      <td>6.000000</td>\n",
       "      <td>1260.000000</td>\n",
       "    </tr>\n",
       "    <tr>\n",
       "      <th>75%</th>\n",
       "      <td>11.000000</td>\n",
       "      <td>1379.000000</td>\n",
       "    </tr>\n",
       "    <tr>\n",
       "      <th>max</th>\n",
       "      <td>38.000000</td>\n",
       "      <td>1499.000000</td>\n",
       "    </tr>\n",
       "  </tbody>\n",
       "</table>\n",
       "</div>"
      ],
      "text/plain": [
       "            duration        user_id\n",
       "count  202607.000000  202607.000000\n",
       "mean        7.158198    1253.940619\n",
       "std         5.959173     144.722751\n",
       "min         0.000000    1000.000000\n",
       "25%         2.000000    1126.000000\n",
       "50%         6.000000    1260.000000\n",
       "75%        11.000000    1379.000000\n",
       "max        38.000000    1499.000000"
      ]
     },
     "execution_count": 16,
     "metadata": {},
     "output_type": "execute_result"
    }
   ],
   "source": [
    "calls.describe()"
   ]
  },
  {
   "cell_type": "markdown",
   "metadata": {},
   "source": [
    "Звонки от 0 до 38 минут, вполне логично, учитывая условия, что 0 - это звонки без ответа, а 38 минут - часто у операторов встречается ограничение по длительности звонка как раз от 30 до 40 минут."
   ]
  },
  {
   "cell_type": "code",
   "execution_count": 17,
   "metadata": {},
   "outputs": [
    {
     "data": {
      "text/html": [
       "<div>\n",
       "<style scoped>\n",
       "    .dataframe tbody tr th:only-of-type {\n",
       "        vertical-align: middle;\n",
       "    }\n",
       "\n",
       "    .dataframe tbody tr th {\n",
       "        vertical-align: top;\n",
       "    }\n",
       "\n",
       "    .dataframe thead th {\n",
       "        text-align: right;\n",
       "    }\n",
       "</style>\n",
       "<table border=\"1\" class=\"dataframe\">\n",
       "  <thead>\n",
       "    <tr style=\"text-align: right;\">\n",
       "      <th></th>\n",
       "      <th>mb_used</th>\n",
       "      <th>user_id</th>\n",
       "    </tr>\n",
       "  </thead>\n",
       "  <tbody>\n",
       "    <tr>\n",
       "      <th>count</th>\n",
       "      <td>149396.000000</td>\n",
       "      <td>149396.000000</td>\n",
       "    </tr>\n",
       "    <tr>\n",
       "      <th>mean</th>\n",
       "      <td>370.192426</td>\n",
       "      <td>1252.099842</td>\n",
       "    </tr>\n",
       "    <tr>\n",
       "      <th>std</th>\n",
       "      <td>278.300951</td>\n",
       "      <td>144.050823</td>\n",
       "    </tr>\n",
       "    <tr>\n",
       "      <th>min</th>\n",
       "      <td>0.000000</td>\n",
       "      <td>1000.000000</td>\n",
       "    </tr>\n",
       "    <tr>\n",
       "      <th>25%</th>\n",
       "      <td>138.187500</td>\n",
       "      <td>1130.000000</td>\n",
       "    </tr>\n",
       "    <tr>\n",
       "      <th>50%</th>\n",
       "      <td>348.015000</td>\n",
       "      <td>1251.000000</td>\n",
       "    </tr>\n",
       "    <tr>\n",
       "      <th>75%</th>\n",
       "      <td>559.552500</td>\n",
       "      <td>1380.000000</td>\n",
       "    </tr>\n",
       "    <tr>\n",
       "      <th>max</th>\n",
       "      <td>1724.830000</td>\n",
       "      <td>1499.000000</td>\n",
       "    </tr>\n",
       "  </tbody>\n",
       "</table>\n",
       "</div>"
      ],
      "text/plain": [
       "             mb_used        user_id\n",
       "count  149396.000000  149396.000000\n",
       "mean      370.192426    1252.099842\n",
       "std       278.300951     144.050823\n",
       "min         0.000000    1000.000000\n",
       "25%       138.187500    1130.000000\n",
       "50%       348.015000    1251.000000\n",
       "75%       559.552500    1380.000000\n",
       "max      1724.830000    1499.000000"
      ]
     },
     "execution_count": 17,
     "metadata": {},
     "output_type": "execute_result"
    }
   ],
   "source": [
    "internet.describe()"
   ]
  },
  {
   "cell_type": "markdown",
   "metadata": {},
   "source": [
    "Интернет сессии до 1.7 Гб, ничего необычного. Фильм смотрел, наверное."
   ]
  },
  {
   "cell_type": "markdown",
   "metadata": {},
   "source": [
    "Добавление столбца с месяцем в каждую таблицу"
   ]
  },
  {
   "cell_type": "code",
   "execution_count": 18,
   "metadata": {},
   "outputs": [],
   "source": [
    "calls['month'] = calls['call_date'].dt.month\n",
    "messages['month'] = messages['message_date'].dt.month\n",
    "internet['month'] = internet['session_date'].dt.month"
   ]
  },
  {
   "cell_type": "markdown",
   "metadata": {},
   "source": [
    "Далее создаются сводные таблицы по каждой из услуг."
   ]
  },
  {
   "cell_type": "code",
   "execution_count": 19,
   "metadata": {},
   "outputs": [
    {
     "name": "stdout",
     "output_type": "stream",
     "text": [
      "Таблица звонков:\n"
     ]
    },
    {
     "data": {
      "text/html": [
       "<div>\n",
       "<style scoped>\n",
       "    .dataframe tbody tr th:only-of-type {\n",
       "        vertical-align: middle;\n",
       "    }\n",
       "\n",
       "    .dataframe tbody tr th {\n",
       "        vertical-align: top;\n",
       "    }\n",
       "\n",
       "    .dataframe thead th {\n",
       "        text-align: right;\n",
       "    }\n",
       "</style>\n",
       "<table border=\"1\" class=\"dataframe\">\n",
       "  <thead>\n",
       "    <tr style=\"text-align: right;\">\n",
       "      <th></th>\n",
       "      <th>user_id</th>\n",
       "      <th>month</th>\n",
       "      <th>minutes_in_month</th>\n",
       "    </tr>\n",
       "  </thead>\n",
       "  <tbody>\n",
       "    <tr>\n",
       "      <th>0</th>\n",
       "      <td>1000</td>\n",
       "      <td>5</td>\n",
       "      <td>159</td>\n",
       "    </tr>\n",
       "    <tr>\n",
       "      <th>1</th>\n",
       "      <td>1000</td>\n",
       "      <td>6</td>\n",
       "      <td>172</td>\n",
       "    </tr>\n",
       "    <tr>\n",
       "      <th>2</th>\n",
       "      <td>1000</td>\n",
       "      <td>7</td>\n",
       "      <td>340</td>\n",
       "    </tr>\n",
       "    <tr>\n",
       "      <th>3</th>\n",
       "      <td>1000</td>\n",
       "      <td>8</td>\n",
       "      <td>408</td>\n",
       "    </tr>\n",
       "    <tr>\n",
       "      <th>4</th>\n",
       "      <td>1000</td>\n",
       "      <td>9</td>\n",
       "      <td>466</td>\n",
       "    </tr>\n",
       "  </tbody>\n",
       "</table>\n",
       "</div>"
      ],
      "text/plain": [
       "   user_id  month  minutes_in_month\n",
       "0     1000      5               159\n",
       "1     1000      6               172\n",
       "2     1000      7               340\n",
       "3     1000      8               408\n",
       "4     1000      9               466"
      ]
     },
     "execution_count": 19,
     "metadata": {},
     "output_type": "execute_result"
    }
   ],
   "source": [
    "user_calls = calls.groupby(['user_id', 'month']).agg({'duration':'sum'}).reset_index()\\\n",
    "                  .rename(columns={'duration':'minutes_in_month'})\n",
    "print('Таблица звонков:')\n",
    "user_calls.head()"
   ]
  },
  {
   "cell_type": "code",
   "execution_count": 20,
   "metadata": {},
   "outputs": [
    {
     "name": "stdout",
     "output_type": "stream",
     "text": [
      "Таблица сообщений:\n"
     ]
    },
    {
     "data": {
      "text/html": [
       "<div>\n",
       "<style scoped>\n",
       "    .dataframe tbody tr th:only-of-type {\n",
       "        vertical-align: middle;\n",
       "    }\n",
       "\n",
       "    .dataframe tbody tr th {\n",
       "        vertical-align: top;\n",
       "    }\n",
       "\n",
       "    .dataframe thead th {\n",
       "        text-align: right;\n",
       "    }\n",
       "</style>\n",
       "<table border=\"1\" class=\"dataframe\">\n",
       "  <thead>\n",
       "    <tr style=\"text-align: right;\">\n",
       "      <th></th>\n",
       "      <th>user_id</th>\n",
       "      <th>month</th>\n",
       "      <th>messages_in_month</th>\n",
       "    </tr>\n",
       "  </thead>\n",
       "  <tbody>\n",
       "    <tr>\n",
       "      <th>0</th>\n",
       "      <td>1000</td>\n",
       "      <td>5</td>\n",
       "      <td>22</td>\n",
       "    </tr>\n",
       "    <tr>\n",
       "      <th>1</th>\n",
       "      <td>1000</td>\n",
       "      <td>6</td>\n",
       "      <td>60</td>\n",
       "    </tr>\n",
       "    <tr>\n",
       "      <th>2</th>\n",
       "      <td>1000</td>\n",
       "      <td>7</td>\n",
       "      <td>75</td>\n",
       "    </tr>\n",
       "    <tr>\n",
       "      <th>3</th>\n",
       "      <td>1000</td>\n",
       "      <td>8</td>\n",
       "      <td>81</td>\n",
       "    </tr>\n",
       "    <tr>\n",
       "      <th>4</th>\n",
       "      <td>1000</td>\n",
       "      <td>9</td>\n",
       "      <td>57</td>\n",
       "    </tr>\n",
       "  </tbody>\n",
       "</table>\n",
       "</div>"
      ],
      "text/plain": [
       "   user_id  month  messages_in_month\n",
       "0     1000      5                 22\n",
       "1     1000      6                 60\n",
       "2     1000      7                 75\n",
       "3     1000      8                 81\n",
       "4     1000      9                 57"
      ]
     },
     "execution_count": 20,
     "metadata": {},
     "output_type": "execute_result"
    }
   ],
   "source": [
    "user_messages = messages.groupby(['user_id', 'month']).agg({'id':'count'}).reset_index()\\\n",
    "                        .rename(columns={'id':'messages_in_month'})\n",
    "print('Таблица сообщений:')\n",
    "user_messages.head()"
   ]
  },
  {
   "cell_type": "code",
   "execution_count": 21,
   "metadata": {},
   "outputs": [
    {
     "name": "stdout",
     "output_type": "stream",
     "text": [
      "Таблица трафика:\n"
     ]
    },
    {
     "data": {
      "text/html": [
       "<div>\n",
       "<style scoped>\n",
       "    .dataframe tbody tr th:only-of-type {\n",
       "        vertical-align: middle;\n",
       "    }\n",
       "\n",
       "    .dataframe tbody tr th {\n",
       "        vertical-align: top;\n",
       "    }\n",
       "\n",
       "    .dataframe thead th {\n",
       "        text-align: right;\n",
       "    }\n",
       "</style>\n",
       "<table border=\"1\" class=\"dataframe\">\n",
       "  <thead>\n",
       "    <tr style=\"text-align: right;\">\n",
       "      <th></th>\n",
       "      <th>user_id</th>\n",
       "      <th>month</th>\n",
       "      <th>mb_in_month</th>\n",
       "    </tr>\n",
       "  </thead>\n",
       "  <tbody>\n",
       "    <tr>\n",
       "      <th>0</th>\n",
       "      <td>1000</td>\n",
       "      <td>5</td>\n",
       "      <td>2253.49</td>\n",
       "    </tr>\n",
       "    <tr>\n",
       "      <th>1</th>\n",
       "      <td>1000</td>\n",
       "      <td>6</td>\n",
       "      <td>23233.77</td>\n",
       "    </tr>\n",
       "    <tr>\n",
       "      <th>2</th>\n",
       "      <td>1000</td>\n",
       "      <td>7</td>\n",
       "      <td>14003.64</td>\n",
       "    </tr>\n",
       "    <tr>\n",
       "      <th>3</th>\n",
       "      <td>1000</td>\n",
       "      <td>8</td>\n",
       "      <td>14055.93</td>\n",
       "    </tr>\n",
       "    <tr>\n",
       "      <th>4</th>\n",
       "      <td>1000</td>\n",
       "      <td>9</td>\n",
       "      <td>14568.91</td>\n",
       "    </tr>\n",
       "  </tbody>\n",
       "</table>\n",
       "</div>"
      ],
      "text/plain": [
       "   user_id  month  mb_in_month\n",
       "0     1000      5      2253.49\n",
       "1     1000      6     23233.77\n",
       "2     1000      7     14003.64\n",
       "3     1000      8     14055.93\n",
       "4     1000      9     14568.91"
      ]
     },
     "execution_count": 21,
     "metadata": {},
     "output_type": "execute_result"
    }
   ],
   "source": [
    "user_internet = internet.groupby(['user_id', 'month']).agg({'mb_used':'sum'}) .reset_index()\\\n",
    "                        .rename(columns={'mb_used':'mb_in_month'})\n",
    "print('Таблица трафика:')\n",
    "user_internet.head()"
   ]
  },
  {
   "cell_type": "markdown",
   "metadata": {},
   "source": [
    "Объединение этих таблицы в одну."
   ]
  },
  {
   "cell_type": "code",
   "execution_count": 22,
   "metadata": {},
   "outputs": [
    {
     "data": {
      "text/html": [
       "<div>\n",
       "<style scoped>\n",
       "    .dataframe tbody tr th:only-of-type {\n",
       "        vertical-align: middle;\n",
       "    }\n",
       "\n",
       "    .dataframe tbody tr th {\n",
       "        vertical-align: top;\n",
       "    }\n",
       "\n",
       "    .dataframe thead th {\n",
       "        text-align: right;\n",
       "    }\n",
       "</style>\n",
       "<table border=\"1\" class=\"dataframe\">\n",
       "  <thead>\n",
       "    <tr style=\"text-align: right;\">\n",
       "      <th></th>\n",
       "      <th>user_id</th>\n",
       "      <th>month</th>\n",
       "      <th>minutes_in_month</th>\n",
       "      <th>messages_in_month</th>\n",
       "      <th>mb_in_month</th>\n",
       "    </tr>\n",
       "  </thead>\n",
       "  <tbody>\n",
       "    <tr>\n",
       "      <th>0</th>\n",
       "      <td>1000</td>\n",
       "      <td>5</td>\n",
       "      <td>159.0</td>\n",
       "      <td>22.0</td>\n",
       "      <td>2253.49</td>\n",
       "    </tr>\n",
       "    <tr>\n",
       "      <th>1</th>\n",
       "      <td>1000</td>\n",
       "      <td>6</td>\n",
       "      <td>172.0</td>\n",
       "      <td>60.0</td>\n",
       "      <td>23233.77</td>\n",
       "    </tr>\n",
       "    <tr>\n",
       "      <th>2</th>\n",
       "      <td>1000</td>\n",
       "      <td>7</td>\n",
       "      <td>340.0</td>\n",
       "      <td>75.0</td>\n",
       "      <td>14003.64</td>\n",
       "    </tr>\n",
       "    <tr>\n",
       "      <th>3</th>\n",
       "      <td>1000</td>\n",
       "      <td>8</td>\n",
       "      <td>408.0</td>\n",
       "      <td>81.0</td>\n",
       "      <td>14055.93</td>\n",
       "    </tr>\n",
       "    <tr>\n",
       "      <th>4</th>\n",
       "      <td>1000</td>\n",
       "      <td>9</td>\n",
       "      <td>466.0</td>\n",
       "      <td>57.0</td>\n",
       "      <td>14568.91</td>\n",
       "    </tr>\n",
       "  </tbody>\n",
       "</table>\n",
       "</div>"
      ],
      "text/plain": [
       "   user_id  month  minutes_in_month  messages_in_month  mb_in_month\n",
       "0     1000      5             159.0               22.0      2253.49\n",
       "1     1000      6             172.0               60.0     23233.77\n",
       "2     1000      7             340.0               75.0     14003.64\n",
       "3     1000      8             408.0               81.0     14055.93\n",
       "4     1000      9             466.0               57.0     14568.91"
      ]
     },
     "execution_count": 22,
     "metadata": {},
     "output_type": "execute_result"
    }
   ],
   "source": [
    "data = user_calls.merge(user_messages, on=['user_id','month'], how='outer')\n",
    "data = data.merge(user_internet, on=['user_id','month'], how='outer')\n",
    "data.head()"
   ]
  },
  {
   "cell_type": "markdown",
   "metadata": {},
   "source": [
    "Присоединение к объединенной таблице данных пользователей и тарифа:"
   ]
  },
  {
   "cell_type": "code",
   "execution_count": 23,
   "metadata": {
    "scrolled": false
   },
   "outputs": [
    {
     "data": {
      "text/html": [
       "<div>\n",
       "<style scoped>\n",
       "    .dataframe tbody tr th:only-of-type {\n",
       "        vertical-align: middle;\n",
       "    }\n",
       "\n",
       "    .dataframe tbody tr th {\n",
       "        vertical-align: top;\n",
       "    }\n",
       "\n",
       "    .dataframe thead th {\n",
       "        text-align: right;\n",
       "    }\n",
       "</style>\n",
       "<table border=\"1\" class=\"dataframe\">\n",
       "  <thead>\n",
       "    <tr style=\"text-align: right;\">\n",
       "      <th></th>\n",
       "      <th>user_id</th>\n",
       "      <th>month</th>\n",
       "      <th>minutes_in_month</th>\n",
       "      <th>messages_in_month</th>\n",
       "      <th>mb_in_month</th>\n",
       "      <th>age</th>\n",
       "      <th>churn_date</th>\n",
       "      <th>city</th>\n",
       "      <th>first_name</th>\n",
       "      <th>last_name</th>\n",
       "      <th>reg_date</th>\n",
       "      <th>tariff</th>\n",
       "      <th>messages_included</th>\n",
       "      <th>mb_per_month_included</th>\n",
       "      <th>minutes_included</th>\n",
       "      <th>rub_monthly_fee</th>\n",
       "      <th>rub_per_gb</th>\n",
       "      <th>rub_per_message</th>\n",
       "      <th>rub_per_minute</th>\n",
       "    </tr>\n",
       "  </thead>\n",
       "  <tbody>\n",
       "    <tr>\n",
       "      <th>0</th>\n",
       "      <td>1000</td>\n",
       "      <td>5</td>\n",
       "      <td>159.0</td>\n",
       "      <td>22.0</td>\n",
       "      <td>2253.49</td>\n",
       "      <td>52</td>\n",
       "      <td>2019-01-01</td>\n",
       "      <td>Краснодар</td>\n",
       "      <td>Рафаил</td>\n",
       "      <td>Верещагин</td>\n",
       "      <td>2018-05-25</td>\n",
       "      <td>ultra</td>\n",
       "      <td>1000</td>\n",
       "      <td>30720</td>\n",
       "      <td>3000</td>\n",
       "      <td>1950</td>\n",
       "      <td>150</td>\n",
       "      <td>1</td>\n",
       "      <td>1</td>\n",
       "    </tr>\n",
       "    <tr>\n",
       "      <th>1</th>\n",
       "      <td>1000</td>\n",
       "      <td>6</td>\n",
       "      <td>172.0</td>\n",
       "      <td>60.0</td>\n",
       "      <td>23233.77</td>\n",
       "      <td>52</td>\n",
       "      <td>2019-01-01</td>\n",
       "      <td>Краснодар</td>\n",
       "      <td>Рафаил</td>\n",
       "      <td>Верещагин</td>\n",
       "      <td>2018-05-25</td>\n",
       "      <td>ultra</td>\n",
       "      <td>1000</td>\n",
       "      <td>30720</td>\n",
       "      <td>3000</td>\n",
       "      <td>1950</td>\n",
       "      <td>150</td>\n",
       "      <td>1</td>\n",
       "      <td>1</td>\n",
       "    </tr>\n",
       "    <tr>\n",
       "      <th>2</th>\n",
       "      <td>1000</td>\n",
       "      <td>7</td>\n",
       "      <td>340.0</td>\n",
       "      <td>75.0</td>\n",
       "      <td>14003.64</td>\n",
       "      <td>52</td>\n",
       "      <td>2019-01-01</td>\n",
       "      <td>Краснодар</td>\n",
       "      <td>Рафаил</td>\n",
       "      <td>Верещагин</td>\n",
       "      <td>2018-05-25</td>\n",
       "      <td>ultra</td>\n",
       "      <td>1000</td>\n",
       "      <td>30720</td>\n",
       "      <td>3000</td>\n",
       "      <td>1950</td>\n",
       "      <td>150</td>\n",
       "      <td>1</td>\n",
       "      <td>1</td>\n",
       "    </tr>\n",
       "    <tr>\n",
       "      <th>3</th>\n",
       "      <td>1000</td>\n",
       "      <td>8</td>\n",
       "      <td>408.0</td>\n",
       "      <td>81.0</td>\n",
       "      <td>14055.93</td>\n",
       "      <td>52</td>\n",
       "      <td>2019-01-01</td>\n",
       "      <td>Краснодар</td>\n",
       "      <td>Рафаил</td>\n",
       "      <td>Верещагин</td>\n",
       "      <td>2018-05-25</td>\n",
       "      <td>ultra</td>\n",
       "      <td>1000</td>\n",
       "      <td>30720</td>\n",
       "      <td>3000</td>\n",
       "      <td>1950</td>\n",
       "      <td>150</td>\n",
       "      <td>1</td>\n",
       "      <td>1</td>\n",
       "    </tr>\n",
       "    <tr>\n",
       "      <th>4</th>\n",
       "      <td>1000</td>\n",
       "      <td>9</td>\n",
       "      <td>466.0</td>\n",
       "      <td>57.0</td>\n",
       "      <td>14568.91</td>\n",
       "      <td>52</td>\n",
       "      <td>2019-01-01</td>\n",
       "      <td>Краснодар</td>\n",
       "      <td>Рафаил</td>\n",
       "      <td>Верещагин</td>\n",
       "      <td>2018-05-25</td>\n",
       "      <td>ultra</td>\n",
       "      <td>1000</td>\n",
       "      <td>30720</td>\n",
       "      <td>3000</td>\n",
       "      <td>1950</td>\n",
       "      <td>150</td>\n",
       "      <td>1</td>\n",
       "      <td>1</td>\n",
       "    </tr>\n",
       "  </tbody>\n",
       "</table>\n",
       "</div>"
      ],
      "text/plain": [
       "   user_id  month  minutes_in_month  messages_in_month  mb_in_month  age  \\\n",
       "0     1000      5             159.0               22.0      2253.49   52   \n",
       "1     1000      6             172.0               60.0     23233.77   52   \n",
       "2     1000      7             340.0               75.0     14003.64   52   \n",
       "3     1000      8             408.0               81.0     14055.93   52   \n",
       "4     1000      9             466.0               57.0     14568.91   52   \n",
       "\n",
       "  churn_date       city first_name  last_name   reg_date tariff  \\\n",
       "0 2019-01-01  Краснодар     Рафаил  Верещагин 2018-05-25  ultra   \n",
       "1 2019-01-01  Краснодар     Рафаил  Верещагин 2018-05-25  ultra   \n",
       "2 2019-01-01  Краснодар     Рафаил  Верещагин 2018-05-25  ultra   \n",
       "3 2019-01-01  Краснодар     Рафаил  Верещагин 2018-05-25  ultra   \n",
       "4 2019-01-01  Краснодар     Рафаил  Верещагин 2018-05-25  ultra   \n",
       "\n",
       "   messages_included  mb_per_month_included  minutes_included  \\\n",
       "0               1000                  30720              3000   \n",
       "1               1000                  30720              3000   \n",
       "2               1000                  30720              3000   \n",
       "3               1000                  30720              3000   \n",
       "4               1000                  30720              3000   \n",
       "\n",
       "   rub_monthly_fee  rub_per_gb  rub_per_message  rub_per_minute  \n",
       "0             1950         150                1               1  \n",
       "1             1950         150                1               1  \n",
       "2             1950         150                1               1  \n",
       "3             1950         150                1               1  \n",
       "4             1950         150                1               1  "
      ]
     },
     "execution_count": 23,
     "metadata": {},
     "output_type": "execute_result"
    }
   ],
   "source": [
    "data = data.merge(users, on='user_id', how='left')\n",
    "tariffs = tariffs.rename(columns={'tariff_name':'tariff'}) # Переименовываю столбец для объединения таблиц\n",
    "data = data.merge(tariffs, on='tariff', how='left')\n",
    "data.head()"
   ]
  },
  {
   "cell_type": "markdown",
   "metadata": {},
   "source": [
    "Проверка на отсутствующие значения сводной таблицы:"
   ]
  },
  {
   "cell_type": "code",
   "execution_count": 24,
   "metadata": {},
   "outputs": [
    {
     "data": {
      "text/plain": [
       "user_id                    0\n",
       "month                      0\n",
       "minutes_in_month          40\n",
       "messages_in_month        497\n",
       "mb_in_month               11\n",
       "age                        0\n",
       "churn_date                 0\n",
       "city                       0\n",
       "first_name                 0\n",
       "last_name                  0\n",
       "reg_date                   0\n",
       "tariff                     0\n",
       "messages_included          0\n",
       "mb_per_month_included      0\n",
       "minutes_included           0\n",
       "rub_monthly_fee            0\n",
       "rub_per_gb                 0\n",
       "rub_per_message            0\n",
       "rub_per_minute             0\n",
       "dtype: int64"
      ]
     },
     "execution_count": 24,
     "metadata": {},
     "output_type": "execute_result"
    }
   ],
   "source": [
    "data.isna().sum()"
   ]
  },
  {
   "cell_type": "markdown",
   "metadata": {},
   "source": [
    "Месяцев, когда люди не пользовались sms больше всего. Логично. Заполнение отсутствующих данных:"
   ]
  },
  {
   "cell_type": "code",
   "execution_count": 25,
   "metadata": {},
   "outputs": [
    {
     "name": "stdout",
     "output_type": "stream",
     "text": [
      "Количество дубликатов в данных: 0\n"
     ]
    }
   ],
   "source": [
    "data = data.fillna(0)\n",
    "print('Количество дубликатов в данных:', data.duplicated().sum())"
   ]
  },
  {
   "cell_type": "markdown",
   "metadata": {},
   "source": [
    "Для рассчета ежемесячной выручки с каждого абонента создается функция:"
   ]
  },
  {
   "cell_type": "code",
   "execution_count": 26,
   "metadata": {},
   "outputs": [],
   "source": [
    "def over_tariff(row):\n",
    "    \"\"\"\n",
    "    Функция принимает в качестве данных ряд, рассчитывает выручку с абонента в месяц сверх тарифа.\n",
    "    \"\"\"\n",
    "    message = (row['messages_in_month'] - row['messages_included']) * row['rub_per_message']\n",
    "    minute = (row['minutes_in_month'] - row['minutes_included']) * row['rub_per_minute']\n",
    "    megabite = np.ceil((row['mb_in_month'] - row['mb_per_month_included']) / 1024) * row['rub_per_gb'] \n",
    "    payment = 0\n",
    "    for i in [message, minute, megabite]:\n",
    "        if i > 0:\n",
    "            payment += i\n",
    "    return payment"
   ]
  },
  {
   "cell_type": "code",
   "execution_count": 27,
   "metadata": {},
   "outputs": [],
   "source": [
    "data['over_tariff'] = data.apply(lambda x: over_tariff(x), axis=1)"
   ]
  },
  {
   "cell_type": "markdown",
   "metadata": {},
   "source": [
    "Создается столбец с помесячной выручкой с каждого абонента"
   ]
  },
  {
   "cell_type": "code",
   "execution_count": 28,
   "metadata": {},
   "outputs": [
    {
     "data": {
      "text/html": [
       "<div>\n",
       "<style scoped>\n",
       "    .dataframe tbody tr th:only-of-type {\n",
       "        vertical-align: middle;\n",
       "    }\n",
       "\n",
       "    .dataframe tbody tr th {\n",
       "        vertical-align: top;\n",
       "    }\n",
       "\n",
       "    .dataframe thead th {\n",
       "        text-align: right;\n",
       "    }\n",
       "</style>\n",
       "<table border=\"1\" class=\"dataframe\">\n",
       "  <thead>\n",
       "    <tr style=\"text-align: right;\">\n",
       "      <th></th>\n",
       "      <th>user_id</th>\n",
       "      <th>month</th>\n",
       "      <th>minutes_in_month</th>\n",
       "      <th>messages_in_month</th>\n",
       "      <th>mb_in_month</th>\n",
       "      <th>age</th>\n",
       "      <th>churn_date</th>\n",
       "      <th>city</th>\n",
       "      <th>first_name</th>\n",
       "      <th>last_name</th>\n",
       "      <th>...</th>\n",
       "      <th>tariff</th>\n",
       "      <th>messages_included</th>\n",
       "      <th>mb_per_month_included</th>\n",
       "      <th>minutes_included</th>\n",
       "      <th>rub_monthly_fee</th>\n",
       "      <th>rub_per_gb</th>\n",
       "      <th>rub_per_message</th>\n",
       "      <th>rub_per_minute</th>\n",
       "      <th>over_tariff</th>\n",
       "      <th>expenses</th>\n",
       "    </tr>\n",
       "  </thead>\n",
       "  <tbody>\n",
       "    <tr>\n",
       "      <th>0</th>\n",
       "      <td>1000</td>\n",
       "      <td>5</td>\n",
       "      <td>159.0</td>\n",
       "      <td>22.0</td>\n",
       "      <td>2253.49</td>\n",
       "      <td>52</td>\n",
       "      <td>2019-01-01</td>\n",
       "      <td>Краснодар</td>\n",
       "      <td>Рафаил</td>\n",
       "      <td>Верещагин</td>\n",
       "      <td>...</td>\n",
       "      <td>ultra</td>\n",
       "      <td>1000</td>\n",
       "      <td>30720</td>\n",
       "      <td>3000</td>\n",
       "      <td>1950</td>\n",
       "      <td>150</td>\n",
       "      <td>1</td>\n",
       "      <td>1</td>\n",
       "      <td>0.0</td>\n",
       "      <td>1950.0</td>\n",
       "    </tr>\n",
       "    <tr>\n",
       "      <th>1</th>\n",
       "      <td>1000</td>\n",
       "      <td>6</td>\n",
       "      <td>172.0</td>\n",
       "      <td>60.0</td>\n",
       "      <td>23233.77</td>\n",
       "      <td>52</td>\n",
       "      <td>2019-01-01</td>\n",
       "      <td>Краснодар</td>\n",
       "      <td>Рафаил</td>\n",
       "      <td>Верещагин</td>\n",
       "      <td>...</td>\n",
       "      <td>ultra</td>\n",
       "      <td>1000</td>\n",
       "      <td>30720</td>\n",
       "      <td>3000</td>\n",
       "      <td>1950</td>\n",
       "      <td>150</td>\n",
       "      <td>1</td>\n",
       "      <td>1</td>\n",
       "      <td>0.0</td>\n",
       "      <td>1950.0</td>\n",
       "    </tr>\n",
       "    <tr>\n",
       "      <th>2</th>\n",
       "      <td>1000</td>\n",
       "      <td>7</td>\n",
       "      <td>340.0</td>\n",
       "      <td>75.0</td>\n",
       "      <td>14003.64</td>\n",
       "      <td>52</td>\n",
       "      <td>2019-01-01</td>\n",
       "      <td>Краснодар</td>\n",
       "      <td>Рафаил</td>\n",
       "      <td>Верещагин</td>\n",
       "      <td>...</td>\n",
       "      <td>ultra</td>\n",
       "      <td>1000</td>\n",
       "      <td>30720</td>\n",
       "      <td>3000</td>\n",
       "      <td>1950</td>\n",
       "      <td>150</td>\n",
       "      <td>1</td>\n",
       "      <td>1</td>\n",
       "      <td>0.0</td>\n",
       "      <td>1950.0</td>\n",
       "    </tr>\n",
       "    <tr>\n",
       "      <th>3</th>\n",
       "      <td>1000</td>\n",
       "      <td>8</td>\n",
       "      <td>408.0</td>\n",
       "      <td>81.0</td>\n",
       "      <td>14055.93</td>\n",
       "      <td>52</td>\n",
       "      <td>2019-01-01</td>\n",
       "      <td>Краснодар</td>\n",
       "      <td>Рафаил</td>\n",
       "      <td>Верещагин</td>\n",
       "      <td>...</td>\n",
       "      <td>ultra</td>\n",
       "      <td>1000</td>\n",
       "      <td>30720</td>\n",
       "      <td>3000</td>\n",
       "      <td>1950</td>\n",
       "      <td>150</td>\n",
       "      <td>1</td>\n",
       "      <td>1</td>\n",
       "      <td>0.0</td>\n",
       "      <td>1950.0</td>\n",
       "    </tr>\n",
       "    <tr>\n",
       "      <th>4</th>\n",
       "      <td>1000</td>\n",
       "      <td>9</td>\n",
       "      <td>466.0</td>\n",
       "      <td>57.0</td>\n",
       "      <td>14568.91</td>\n",
       "      <td>52</td>\n",
       "      <td>2019-01-01</td>\n",
       "      <td>Краснодар</td>\n",
       "      <td>Рафаил</td>\n",
       "      <td>Верещагин</td>\n",
       "      <td>...</td>\n",
       "      <td>ultra</td>\n",
       "      <td>1000</td>\n",
       "      <td>30720</td>\n",
       "      <td>3000</td>\n",
       "      <td>1950</td>\n",
       "      <td>150</td>\n",
       "      <td>1</td>\n",
       "      <td>1</td>\n",
       "      <td>0.0</td>\n",
       "      <td>1950.0</td>\n",
       "    </tr>\n",
       "  </tbody>\n",
       "</table>\n",
       "<p>5 rows × 21 columns</p>\n",
       "</div>"
      ],
      "text/plain": [
       "   user_id  month  minutes_in_month  messages_in_month  mb_in_month  age  \\\n",
       "0     1000      5             159.0               22.0      2253.49   52   \n",
       "1     1000      6             172.0               60.0     23233.77   52   \n",
       "2     1000      7             340.0               75.0     14003.64   52   \n",
       "3     1000      8             408.0               81.0     14055.93   52   \n",
       "4     1000      9             466.0               57.0     14568.91   52   \n",
       "\n",
       "  churn_date       city first_name  last_name  ... tariff messages_included  \\\n",
       "0 2019-01-01  Краснодар     Рафаил  Верещагин  ...  ultra              1000   \n",
       "1 2019-01-01  Краснодар     Рафаил  Верещагин  ...  ultra              1000   \n",
       "2 2019-01-01  Краснодар     Рафаил  Верещагин  ...  ultra              1000   \n",
       "3 2019-01-01  Краснодар     Рафаил  Верещагин  ...  ultra              1000   \n",
       "4 2019-01-01  Краснодар     Рафаил  Верещагин  ...  ultra              1000   \n",
       "\n",
       "   mb_per_month_included  minutes_included  rub_monthly_fee  rub_per_gb  \\\n",
       "0                  30720              3000             1950         150   \n",
       "1                  30720              3000             1950         150   \n",
       "2                  30720              3000             1950         150   \n",
       "3                  30720              3000             1950         150   \n",
       "4                  30720              3000             1950         150   \n",
       "\n",
       "   rub_per_message  rub_per_minute  over_tariff  expenses  \n",
       "0                1               1          0.0    1950.0  \n",
       "1                1               1          0.0    1950.0  \n",
       "2                1               1          0.0    1950.0  \n",
       "3                1               1          0.0    1950.0  \n",
       "4                1               1          0.0    1950.0  \n",
       "\n",
       "[5 rows x 21 columns]"
      ]
     },
     "execution_count": 28,
     "metadata": {},
     "output_type": "execute_result"
    }
   ],
   "source": [
    "data['expenses'] = data['over_tariff'] + data['rub_monthly_fee']\n",
    "data.head()"
   ]
  },
  {
   "cell_type": "markdown",
   "metadata": {},
   "source": [
    "**Вывод**\n",
    "- Обработка: удаление лишних данных, исправление типа столбцов\n",
    "- Объединение таблиц в один большой датафрейм.\n",
    "- Дополнение: добавление столбцов в датафрейм\n",
    "- Создание таблиц с данными о тратах абонентов за месяц\n",
    "- Рассчет помесячной выручки с каждого абонента."
   ]
  },
  {
   "cell_type": "markdown",
   "metadata": {},
   "source": [
    "\n",
    "Анализ данных\n",
    "======"
   ]
  },
  {
   "cell_type": "markdown",
   "metadata": {},
   "source": [
    "Описание поведения клиентов оператора, исходя из выборки. Расчет сколько минут разговора, сколько сообщений и какой объём интернет-трафика требуется пользователям каждого тарифа в месяц? Расчет среднего количества, дисперсии и стандартного отклонения. Построение гистограмм. Описание распределения."
   ]
  },
  {
   "cell_type": "markdown",
   "metadata": {},
   "source": [
    "Деление пользователей по тарифам для их анализа."
   ]
  },
  {
   "cell_type": "code",
   "execution_count": 29,
   "metadata": {},
   "outputs": [],
   "source": [
    "ultra_data = data.query('tariff == \"ultra\"')\n",
    "smart_data = data.query('tariff == \"smart\"')"
   ]
  },
  {
   "cell_type": "markdown",
   "metadata": {},
   "source": [
    "**ultra, звонки**"
   ]
  },
  {
   "cell_type": "code",
   "execution_count": 30,
   "metadata": {
    "scrolled": true
   },
   "outputs": [
    {
     "data": {
      "image/png": "[encoded data removed]",
      "text/plain": [
       "<Figure size 432x288 with 1 Axes>"
      ]
     },
     "metadata": {
      "needs_background": "light"
     },
     "output_type": "display_data"
    }
   ],
   "source": [
    "bins = np.linspace(500, 6000, 50)\n",
    "fig, ax1 = plt.subplots()\n",
    "plt.hist(ultra_data['expenses'], bins, alpha=0.5, label='ultra')\n",
    "plt.hist(smart_data['expenses'], bins, alpha=0.5, label='smart')\n",
    "plt.legend(loc='upper right')\n",
    "ax1.set_title('Гистограмма платежей клиентов')\n",
    "ax1.set_xlabel('Сумма ежемесячных платежей')\n",
    "ax1.set_ylabel('Кол-во ежемеячных платежей')\n",
    "plt.show()"
   ]
  },
  {
   "cell_type": "markdown",
   "metadata": {},
   "source": [
    "По данной гистограмме видно, что клиенты тарифа smart гораздо реже \"вылезают\" за пределы своего тарифа, нежели пользоватили smart'а. Причем у последних наблюдаются ежемесячные платежи свыше 4000 рублей в месяц, хоть и редкие. Обе гистограммы скошены вправо.  \n",
    "Рассчет среднего, медианы, дисперсии и стандартного отклонения:"
   ]
  },
  {
   "cell_type": "code",
   "execution_count": 31,
   "metadata": {},
   "outputs": [
    {
     "data": {
      "text/html": [
       "<style  type=\"text/css\" >\n",
       "</style><table id=\"T_4dcc6_\" ><thead>    <tr>        <th class=\"blank level0\" ></th>        <th class=\"col_heading level0 col0\" colspan=\"4\">expenses</th>    </tr>    <tr>        <th class=\"blank level1\" ></th>        <th class=\"col_heading level1 col0\" >median</th>        <th class=\"col_heading level1 col1\" >mean</th>        <th class=\"col_heading level1 col2\" >var</th>        <th class=\"col_heading level1 col3\" >std</th>    </tr>    <tr>        <th class=\"index_name level0\" >tariff</th>        <th class=\"blank\" ></th>        <th class=\"blank\" ></th>        <th class=\"blank\" ></th>        <th class=\"blank\" ></th>    </tr></thead><tbody>\n",
       "                <tr>\n",
       "                        <th id=\"T_4dcc6_level0_row0\" class=\"row_heading level0 row0\" >smart</th>\n",
       "                        <td id=\"T_4dcc6_row0_col0\" class=\"data row0 col0\" >1023.000</td>\n",
       "                        <td id=\"T_4dcc6_row0_col1\" class=\"data row0 col1\" >1289.974</td>\n",
       "                        <td id=\"T_4dcc6_row0_col2\" class=\"data row0 col2\" >669785.708</td>\n",
       "                        <td id=\"T_4dcc6_row0_col3\" class=\"data row0 col3\" >818.404</td>\n",
       "            </tr>\n",
       "            <tr>\n",
       "                        <th id=\"T_4dcc6_level0_row1\" class=\"row_heading level0 row1\" >ultra</th>\n",
       "                        <td id=\"T_4dcc6_row1_col0\" class=\"data row1 col0\" >1950.000</td>\n",
       "                        <td id=\"T_4dcc6_row1_col1\" class=\"data row1 col1\" >2070.152</td>\n",
       "                        <td id=\"T_4dcc6_row1_col2\" class=\"data row1 col2\" >141516.745</td>\n",
       "                        <td id=\"T_4dcc6_row1_col3\" class=\"data row1 col3\" >376.187</td>\n",
       "            </tr>\n",
       "    </tbody></table>"
      ],
      "text/plain": [
       "<pandas.io.formats.style.Styler at 0x7f407aea88e0>"
      ]
     },
     "execution_count": 31,
     "metadata": {},
     "output_type": "execute_result"
    }
   ],
   "source": [
    "data.groupby('tariff').agg({'expenses':['median','mean','var','std']}).style.format(\"{:.3f}\")"
   ]
  },
  {
   "cell_type": "code",
   "execution_count": 32,
   "metadata": {},
   "outputs": [
    {
     "data": {
      "image/png": "[encoded data removed]",
      "text/plain": [
       "<Figure size 432x288 with 1 Axes>"
      ]
     },
     "metadata": {
      "needs_background": "light"
     },
     "output_type": "display_data"
    }
   ],
   "source": [
    "bins = np.linspace(0, 2000, 40)\n",
    "fig, ax1 = plt.subplots()\n",
    "plt.hist(ultra_data['minutes_in_month'], bins, alpha=0.5, label='ultra')\n",
    "plt.hist(smart_data['minutes_in_month'], bins, alpha=0.5, label='smart')\n",
    "plt.legend(loc='upper right')\n",
    "ax1.set_title('Гистограмма звонков в минутах в месяц')\n",
    "ax1.set_xlabel('Кол-во минут в месяц')\n",
    "ax1.set_ylabel('Кол-во абонентов')\n",
    "plt.show()"
   ]
  },
  {
   "cell_type": "markdown",
   "metadata": {},
   "source": [
    "Гистограмма для пользователей тарифа `ultra`скошена вправо. Большая часть использует лишь 350-650 минут из 3000, предложенных тарифом.  \n",
    "Гистограмма для пользователей тарифа `smart` нормальная. Большая часть использует лишь 350-550 минут из 500, предложенных тарифом. После 550 минут резко падает количество используемых минут.  \n",
    "Рассчет среднего, медианы, дисперсии и стандартного отклонения:"
   ]
  },
  {
   "cell_type": "code",
   "execution_count": 33,
   "metadata": {},
   "outputs": [
    {
     "name": "stdout",
     "output_type": "stream",
     "text": [
      "Звонки в минутах в месяц\n"
     ]
    },
    {
     "data": {
      "text/html": [
       "<style  type=\"text/css\" >\n",
       "</style><table id=\"T_2d91e_\" ><thead>    <tr>        <th class=\"blank level0\" ></th>        <th class=\"col_heading level0 col0\" colspan=\"4\">minutes_in_month</th>    </tr>    <tr>        <th class=\"blank level1\" ></th>        <th class=\"col_heading level1 col0\" >median</th>        <th class=\"col_heading level1 col1\" >mean</th>        <th class=\"col_heading level1 col2\" >var</th>        <th class=\"col_heading level1 col3\" >std</th>    </tr>    <tr>        <th class=\"index_name level0\" >tariff</th>        <th class=\"blank\" ></th>        <th class=\"blank\" ></th>        <th class=\"blank\" ></th>        <th class=\"blank\" ></th>    </tr></thead><tbody>\n",
       "                <tr>\n",
       "                        <th id=\"T_2d91e_level0_row0\" class=\"row_heading level0 row0\" >smart</th>\n",
       "                        <td id=\"T_2d91e_row0_col0\" class=\"data row0 col0\" >422.000</td>\n",
       "                        <td id=\"T_2d91e_row0_col1\" class=\"data row0 col1\" >417.935</td>\n",
       "                        <td id=\"T_2d91e_row0_col2\" class=\"data row0 col2\" >36219.316</td>\n",
       "                        <td id=\"T_2d91e_row0_col3\" class=\"data row0 col3\" >190.314</td>\n",
       "            </tr>\n",
       "            <tr>\n",
       "                        <th id=\"T_2d91e_level0_row1\" class=\"row_heading level0 row1\" >ultra</th>\n",
       "                        <td id=\"T_2d91e_row1_col0\" class=\"data row1 col0\" >518.000</td>\n",
       "                        <td id=\"T_2d91e_row1_col1\" class=\"data row1 col1\" >526.623</td>\n",
       "                        <td id=\"T_2d91e_row1_col2\" class=\"data row1 col2\" >100873.633</td>\n",
       "                        <td id=\"T_2d91e_row1_col3\" class=\"data row1 col3\" >317.606</td>\n",
       "            </tr>\n",
       "    </tbody></table>"
      ],
      "text/plain": [
       "<pandas.io.formats.style.Styler at 0x7f407ac53160>"
      ]
     },
     "execution_count": 33,
     "metadata": {},
     "output_type": "execute_result"
    }
   ],
   "source": [
    "print('Звонки в минутах в месяц')\n",
    "data.groupby('tariff').agg({'minutes_in_month':['median','mean','var','std']}).style.format(\"{:.3f}\")"
   ]
  },
  {
   "cell_type": "code",
   "execution_count": 34,
   "metadata": {},
   "outputs": [
    {
     "data": {
      "image/png": "[encoded data removed]",
      "text/plain": [
       "<Figure size 432x288 with 1 Axes>"
      ]
     },
     "metadata": {
      "needs_background": "light"
     },
     "output_type": "display_data"
    }
   ],
   "source": [
    "bins = np.linspace(0, 300, 40)\n",
    "fig, ax1 = plt.subplots()\n",
    "plt.hist(ultra_data['messages_in_month'], bins, alpha=0.5, label='ultra')\n",
    "plt.hist(smart_data['messages_in_month'], bins, alpha=0.5, label='smart')\n",
    "plt.legend(loc='upper right')\n",
    "ax1.set_title('Гистограмма сообщений в месяц')\n",
    "ax1.set_xlabel('Кол-во сообщений в месяц')\n",
    "ax1.set_ylabel('Кол-во абонентов')\n",
    "plt.show()"
   ]
  },
  {
   "cell_type": "markdown",
   "metadata": {},
   "source": [
    "Обе гистограммы скошены вправо. Пользователи тарифа `ultra` не используют все сообщения, предоставленные тарифом, в отличии от пользователей `smart`'а, которые нередко выходят из своего лимита в 50 сообщений.  \n",
    "Рассчет среднего, медианы, дисперсии и стандартного отклонения:"
   ]
  },
  {
   "cell_type": "code",
   "execution_count": 35,
   "metadata": {},
   "outputs": [
    {
     "name": "stdout",
     "output_type": "stream",
     "text": [
      "Сообщения в месяц\n"
     ]
    },
    {
     "data": {
      "text/html": [
       "<style  type=\"text/css\" >\n",
       "</style><table id=\"T_9366f_\" ><thead>    <tr>        <th class=\"blank level0\" ></th>        <th class=\"col_heading level0 col0\" colspan=\"4\">messages_in_month</th>    </tr>    <tr>        <th class=\"blank level1\" ></th>        <th class=\"col_heading level1 col0\" >median</th>        <th class=\"col_heading level1 col1\" >mean</th>        <th class=\"col_heading level1 col2\" >var</th>        <th class=\"col_heading level1 col3\" >std</th>    </tr>    <tr>        <th class=\"index_name level0\" >tariff</th>        <th class=\"blank\" ></th>        <th class=\"blank\" ></th>        <th class=\"blank\" ></th>        <th class=\"blank\" ></th>    </tr></thead><tbody>\n",
       "                <tr>\n",
       "                        <th id=\"T_9366f_level0_row0\" class=\"row_heading level0 row0\" >smart</th>\n",
       "                        <td id=\"T_9366f_row0_col0\" class=\"data row0 col0\" >28.000</td>\n",
       "                        <td id=\"T_9366f_row0_col1\" class=\"data row0 col1\" >33.384</td>\n",
       "                        <td id=\"T_9366f_row0_col2\" class=\"data row0 col2\" >796.813</td>\n",
       "                        <td id=\"T_9366f_row0_col3\" class=\"data row0 col3\" >28.228</td>\n",
       "            </tr>\n",
       "            <tr>\n",
       "                        <th id=\"T_9366f_level0_row1\" class=\"row_heading level0 row1\" >ultra</th>\n",
       "                        <td id=\"T_9366f_row1_col0\" class=\"data row1 col0\" >38.000</td>\n",
       "                        <td id=\"T_9366f_row1_col1\" class=\"data row1 col1\" >49.363</td>\n",
       "                        <td id=\"T_9366f_row1_col2\" class=\"data row1 col2\" >2285.266</td>\n",
       "                        <td id=\"T_9366f_row1_col3\" class=\"data row1 col3\" >47.804</td>\n",
       "            </tr>\n",
       "    </tbody></table>"
      ],
      "text/plain": [
       "<pandas.io.formats.style.Styler at 0x7f407ac64220>"
      ]
     },
     "execution_count": 35,
     "metadata": {},
     "output_type": "execute_result"
    }
   ],
   "source": [
    "print('Сообщения в месяц')\n",
    "data.groupby('tariff').agg({'messages_in_month':['median','mean','var','std']}).style.format(\"{:.3f}\")"
   ]
  },
  {
   "cell_type": "code",
   "execution_count": 36,
   "metadata": {},
   "outputs": [
    {
     "data": {
      "image/png": "[encoded data removed]",
      "text/plain": [
       "<Figure size 432x288 with 1 Axes>"
      ]
     },
     "metadata": {
      "needs_background": "light"
     },
     "output_type": "display_data"
    }
   ],
   "source": [
    "bins = np.linspace(0, 50000, 30)\n",
    "fig, ax1 = plt.subplots()\n",
    "plt.hist(ultra_data['mb_in_month'], bins, alpha=0.5, label='ultra')\n",
    "plt.hist(smart_data['mb_in_month'], bins, alpha=0.5, label='smart')\n",
    "plt.legend(loc='upper right')\n",
    "ax1.set_title('Гистограмма траффика в месяц')\n",
    "ax1.set_xlabel('Кол-во Мб в месяц')\n",
    "ax1.set_ylabel('Кол-во абонентов')\n",
    "plt.show()"
   ]
  },
  {
   "cell_type": "markdown",
   "metadata": {},
   "source": [
    "Обе гистограммы нормальные. В обоих тарифах абоненты выходят за лимиты своего тарифа, однако для абонентов тарифа `smart` это скорее норма, потому что большинство использует 14-20 Гб траффика, что в большей части выходит за лимит 15360 Мб.  \n",
    "Пользователи тарифа `ultra` больше используют интернет, много абонентов используют как 15, так 20 и 30Гб траффика.  \n",
    "Рассчет среднего, медианы, дисперсии и стандартного отклонения:"
   ]
  },
  {
   "cell_type": "code",
   "execution_count": 37,
   "metadata": {},
   "outputs": [
    {
     "name": "stdout",
     "output_type": "stream",
     "text": [
      "Траффик в месяц\n"
     ]
    },
    {
     "data": {
      "text/html": [
       "<style  type=\"text/css\" >\n",
       "</style><table id=\"T_e730a_\" ><thead>    <tr>        <th class=\"blank level0\" ></th>        <th class=\"col_heading level0 col0\" colspan=\"4\">mb_in_month</th>    </tr>    <tr>        <th class=\"blank level1\" ></th>        <th class=\"col_heading level1 col0\" >median</th>        <th class=\"col_heading level1 col1\" >mean</th>        <th class=\"col_heading level1 col2\" >var</th>        <th class=\"col_heading level1 col3\" >std</th>    </tr>    <tr>        <th class=\"index_name level0\" >tariff</th>        <th class=\"blank\" ></th>        <th class=\"blank\" ></th>        <th class=\"blank\" ></th>        <th class=\"blank\" ></th>    </tr></thead><tbody>\n",
       "                <tr>\n",
       "                        <th id=\"T_e730a_level0_row0\" class=\"row_heading level0 row0\" >smart</th>\n",
       "                        <td id=\"T_e730a_row0_col0\" class=\"data row0 col0\" >16506.840</td>\n",
       "                        <td id=\"T_e730a_row0_col1\" class=\"data row0 col1\" >16208.387</td>\n",
       "                        <td id=\"T_e730a_row0_col2\" class=\"data row0 col2\" >34462496.463</td>\n",
       "                        <td id=\"T_e730a_row0_col3\" class=\"data row0 col3\" >5870.477</td>\n",
       "            </tr>\n",
       "            <tr>\n",
       "                        <th id=\"T_e730a_level0_row1\" class=\"row_heading level0 row1\" >ultra</th>\n",
       "                        <td id=\"T_e730a_row1_col0\" class=\"data row1 col0\" >19308.010</td>\n",
       "                        <td id=\"T_e730a_row1_col1\" class=\"data row1 col1\" >19468.805</td>\n",
       "                        <td id=\"T_e730a_row1_col2\" class=\"data row1 col2\" >101751013.783</td>\n",
       "                        <td id=\"T_e730a_row1_col3\" class=\"data row1 col3\" >10087.171</td>\n",
       "            </tr>\n",
       "    </tbody></table>"
      ],
      "text/plain": [
       "<pandas.io.formats.style.Styler at 0x7f4079e94730>"
      ]
     },
     "execution_count": 37,
     "metadata": {},
     "output_type": "execute_result"
    }
   ],
   "source": [
    "print('Траффик в месяц')\n",
    "data.groupby('tariff').agg({'mb_in_month':['median','mean','var','std']}).style.format(\"{:.3f}\")"
   ]
  },
  {
   "cell_type": "markdown",
   "metadata": {},
   "source": [
    "**Вывод**  \n",
    "В среднем пользователи тарифа smart используют меньше сообщений, минут и интернета в месяц, нежели пользователи тарифа ultra, что вполне себе логично. Однако количество используемых минут и сообщений у обоих тарифов не сильно различаются, то пользователи тарифа ultra значительно больше используют интернет.  \n",
    "Видимо, пользователи этого тарифа выбирают его в большей степени ради интернета.  \n",
    "Пользователи тарифа smart часто выходят за лимиты своего тарифа в количестве используемых минут и Мб интернета, явно им его недостаточно."
   ]
  },
  {
   "cell_type": "markdown",
   "metadata": {},
   "source": [
    "Проверка гипотез\n",
    "======\n",
    "**Гипотеза 1**\n",
    "- Средняя выручка пользователей тарифов «Ультра» и «Смарт» различаются;"
   ]
  },
  {
   "cell_type": "markdown",
   "metadata": {},
   "source": [
    "Нужно сформулировать нулевую и альтернативную гипотезы. Нулевая гипотеза должна быть со знаком равно.  \n",
    "H₀ = средняя выручка пользователей тарифов «Ультра» и «Смарт» равна  \n",
    "H₁ - средняя выручка пользователей тарифов «Ультра» и «Смарт» не равна"
   ]
  },
  {
   "cell_type": "markdown",
   "metadata": {},
   "source": [
    "критический уровень статистической значимости:"
   ]
  },
  {
   "cell_type": "code",
   "execution_count": 38,
   "metadata": {},
   "outputs": [],
   "source": [
    "alpha = .05"
   ]
  },
  {
   "cell_type": "code",
   "execution_count": 39,
   "metadata": {},
   "outputs": [
    {
     "name": "stdout",
     "output_type": "stream",
     "text": [
      "p-значение: 1.4229814360764067e-160\n",
      "Отвергаем нулевую гипотезу\n",
      "Средняя выручка в месяц от пользователя тарифа ultra: 2070.1522842639592\n",
      "Средняя выручка в месяц от пользователя тарифа smart: 1289.9735307312696\n"
     ]
    }
   ],
   "source": [
    "test1 = st.ttest_ind(ultra_data['expenses'], smart_data['expenses'])\n",
    "\n",
    "print('p-значение:', test1.pvalue)\n",
    "\n",
    "if (test1.pvalue < alpha):\n",
    "    print(\"Отвергаем нулевую гипотезу\")\n",
    "else:\n",
    "    print(\"Не получилось отвергнуть нулевую гипотезу\")\n",
    "print('Средняя выручка в месяц от пользователя тарифа ultra:', ultra_data['expenses'].mean())\n",
    "print('Средняя выручка в месяц от пользователя тарифа smart:', smart_data['expenses'].mean())"
   ]
  },
  {
   "cell_type": "markdown",
   "metadata": {},
   "source": [
    "Разница между средней выручкой с пользователей разных тарифов довольно большая, тариф ultra для телеком-компании выгоднее.  \n",
    "Гипотеза 1 подтвердилась, выручки различаются."
   ]
  },
  {
   "cell_type": "markdown",
   "metadata": {},
   "source": [
    "**Гипотеза 2**  \n",
    "- Средняя выручка пользователей из Москвы отличается от выручки пользователей из других регионов."
   ]
  },
  {
   "cell_type": "markdown",
   "metadata": {},
   "source": [
    "Нужно сформулировать нулевую и альтернативную гипотезы.  \n",
    "H₀ = средняя выручка пользователей из Москвы и остальных регионов равна  \n",
    "H₁ - средняя выручка пользователей из Москвы и остальных регионов не равна"
   ]
  },
  {
   "cell_type": "markdown",
   "metadata": {},
   "source": [
    "Надо разделить пользователей, из Москвы и не из Москвы."
   ]
  },
  {
   "cell_type": "code",
   "execution_count": 40,
   "metadata": {},
   "outputs": [],
   "source": [
    "users_moscow = data.query('city == \"Москва\"')\n",
    "users_region = data.query('city != \"Москва\"')"
   ]
  },
  {
   "cell_type": "code",
   "execution_count": 41,
   "metadata": {},
   "outputs": [
    {
     "name": "stdout",
     "output_type": "stream",
     "text": [
      "p-значение: 0.5440152911670224\n",
      "Не получилось отвергнуть нулевую гипотезу\n",
      "Средняя выручка в месяц от пользователя из Москвы: 1546.7135842880523\n",
      "Средняя выручка в месяц от пользователя из региона: 1524.9362274298885\n"
     ]
    }
   ],
   "source": [
    "test2 = st.ttest_ind(users_moscow['expenses'], users_region['expenses'])\n",
    "\n",
    "print('p-значение:', test2.pvalue)\n",
    "\n",
    "if (test2.pvalue < alpha):\n",
    "    print(\"Отвергаем нулевую гипотезу\")\n",
    "else:\n",
    "    print(\"Не получилось отвергнуть нулевую гипотезу\")\n",
    "print('Средняя выручка в месяц от пользователя из Москвы:', users_moscow['expenses'].mean())\n",
    "print('Средняя выручка в месяц от пользователя из региона:', users_region['expenses'].mean())"
   ]
  },
  {
   "cell_type": "markdown",
   "metadata": {},
   "source": [
    "Рассчеты дают основание предполагать, что вторая гипотеза не подтвердилась, из Москвы и из региона пользователи тратят на связь практически одну и ту же сумму."
   ]
  },
  {
   "cell_type": "markdown",
   "metadata": {},
   "source": [
    "**Вывод**\n",
    "- Средняя выручка пользователей из Москвы отличается от выручки пользователей из других регионов: отвегнута\n",
    "- Средняя выручка пользователей тарифов «Ультра» и «Смарт» различаются: отвергнули."
   ]
  },
  {
   "cell_type": "markdown",
   "metadata": {},
   "source": [
    "# Общий вывод"
   ]
  },
  {
   "cell_type": "markdown",
   "metadata": {},
   "source": [
    "В данной проектной работе:  \n",
    "- Исправлен формат столбцов с датами\n",
    "- Проверены таблицы на выбросы\n",
    "- Сгруппированы таблицы и добавлены столбцы\n",
    "- Все таблицы объединены в одну для дальнейшего анализа и проверки гипотез\n",
    "- Рассчитана помесячная выручка с каждого абонента\n",
    "- Проведен анализ данных: сколько минут, сообщений и траффика интернета используют абоненты разных тарифов, насколько часто выходят за лимиты тарифов\n",
    "- Проверены две гипотезы, первая подтвердилась, вторая была отвергнута"
   ]
  },
  {
   "cell_type": "markdown",
   "metadata": {},
   "source": [
    "Тариф ultra приносит компании бо́льшую выручку. Оператору сфокусироваться на его продвижении.  \n",
    "Также стоит сократить количество доступных бесплатных смс, они явно излишни и не используются в тарифе ultra даже на 20%."
   ]
  }
 ],
 "metadata": {
  "ExecuteTimeLog": [
   {
    "duration": 1029,
    "start_time": "2022-03-01T17:23:21.191Z"
   },
   {
    "duration": 36,
    "start_time": "2022-03-01T17:24:57.945Z"
   },
   {
    "duration": 913,
    "start_time": "2022-03-01T17:29:52.553Z"
   },
   {
    "duration": 144,
    "start_time": "2022-03-01T17:29:53.468Z"
   },
   {
    "duration": 169,
    "start_time": "2022-03-01T17:29:53.615Z"
   },
   {
    "duration": 113,
    "start_time": "2022-03-01T17:29:53.786Z"
   },
   {
    "duration": 22,
    "start_time": "2022-03-01T17:29:53.901Z"
   },
   {
    "duration": 37,
    "start_time": "2022-03-01T17:29:53.924Z"
   },
   {
    "duration": 21,
    "start_time": "2022-03-01T17:30:06.655Z"
   },
   {
    "duration": 49,
    "start_time": "2022-03-01T17:37:33.466Z"
   },
   {
    "duration": 318,
    "start_time": "2022-03-01T17:52:49.153Z"
   },
   {
    "duration": 956,
    "start_time": "2022-03-01T17:53:05.138Z"
   },
   {
    "duration": 144,
    "start_time": "2022-03-01T17:53:06.095Z"
   },
   {
    "duration": 116,
    "start_time": "2022-03-01T17:53:06.240Z"
   },
   {
    "duration": 80,
    "start_time": "2022-03-01T17:53:06.358Z"
   },
   {
    "duration": 20,
    "start_time": "2022-03-01T17:53:06.439Z"
   },
   {
    "duration": 34,
    "start_time": "2022-03-01T17:53:06.461Z"
   },
   {
    "duration": 45,
    "start_time": "2022-03-01T17:53:06.496Z"
   },
   {
    "duration": 337,
    "start_time": "2022-03-01T17:56:22.675Z"
   },
   {
    "duration": 975,
    "start_time": "2022-03-01T17:56:27.993Z"
   },
   {
    "duration": 464,
    "start_time": "2022-03-01T17:56:30.371Z"
   },
   {
    "duration": 150,
    "start_time": "2022-03-01T17:56:38.967Z"
   },
   {
    "duration": 146,
    "start_time": "2022-03-01T17:56:50.867Z"
   },
   {
    "duration": 139,
    "start_time": "2022-03-01T17:57:16.057Z"
   },
   {
    "duration": 136,
    "start_time": "2022-03-01T17:57:23.070Z"
   },
   {
    "duration": 156,
    "start_time": "2022-03-01T17:57:27.618Z"
   },
   {
    "duration": 166,
    "start_time": "2022-03-01T17:57:37.417Z"
   },
   {
    "duration": 147,
    "start_time": "2022-03-01T17:57:46.969Z"
   },
   {
    "duration": 151,
    "start_time": "2022-03-01T17:58:05.047Z"
   },
   {
    "duration": 35,
    "start_time": "2022-03-01T17:59:07.730Z"
   },
   {
    "duration": 908,
    "start_time": "2022-03-01T17:59:34.556Z"
   },
   {
    "duration": 160,
    "start_time": "2022-03-01T17:59:35.466Z"
   },
   {
    "duration": 127,
    "start_time": "2022-03-01T17:59:35.628Z"
   },
   {
    "duration": 91,
    "start_time": "2022-03-01T17:59:35.756Z"
   },
   {
    "duration": 22,
    "start_time": "2022-03-01T17:59:35.849Z"
   },
   {
    "duration": 38,
    "start_time": "2022-03-01T17:59:35.872Z"
   },
   {
    "duration": 2,
    "start_time": "2022-03-01T17:59:35.911Z"
   },
   {
    "duration": 4,
    "start_time": "2022-03-01T17:59:35.915Z"
   },
   {
    "duration": 4,
    "start_time": "2022-03-01T17:59:35.920Z"
   },
   {
    "duration": 4,
    "start_time": "2022-03-01T17:59:35.926Z"
   },
   {
    "duration": 5,
    "start_time": "2022-03-01T17:59:35.931Z"
   },
   {
    "duration": 961,
    "start_time": "2022-03-01T19:01:20.901Z"
   },
   {
    "duration": 169,
    "start_time": "2022-03-01T19:01:21.863Z"
   },
   {
    "duration": 128,
    "start_time": "2022-03-01T19:01:22.035Z"
   },
   {
    "duration": 91,
    "start_time": "2022-03-01T19:01:22.165Z"
   },
   {
    "duration": 23,
    "start_time": "2022-03-01T19:01:22.257Z"
   },
   {
    "duration": 42,
    "start_time": "2022-03-01T19:01:22.282Z"
   },
   {
    "duration": 28,
    "start_time": "2022-03-01T19:01:22.325Z"
   },
   {
    "duration": 21,
    "start_time": "2022-03-01T19:01:22.355Z"
   },
   {
    "duration": 25,
    "start_time": "2022-03-01T19:01:22.378Z"
   },
   {
    "duration": 4,
    "start_time": "2022-03-01T19:01:22.405Z"
   },
   {
    "duration": 4,
    "start_time": "2022-03-01T19:03:12.946Z"
   },
   {
    "duration": 343,
    "start_time": "2022-03-01T19:03:28.270Z"
   },
   {
    "duration": 3,
    "start_time": "2022-03-01T19:03:38.565Z"
   },
   {
    "duration": 3,
    "start_time": "2022-03-01T19:11:56.559Z"
   },
   {
    "duration": 5,
    "start_time": "2022-03-01T19:12:43.813Z"
   },
   {
    "duration": 62,
    "start_time": "2022-03-01T19:19:49.769Z"
   },
   {
    "duration": 16,
    "start_time": "2022-03-01T19:32:37.699Z"
   },
   {
    "duration": 1023,
    "start_time": "2022-03-02T06:16:11.922Z"
   },
   {
    "duration": 188,
    "start_time": "2022-03-02T06:16:12.947Z"
   },
   {
    "duration": 154,
    "start_time": "2022-03-02T06:16:13.139Z"
   },
   {
    "duration": 104,
    "start_time": "2022-03-02T06:16:13.294Z"
   },
   {
    "duration": 19,
    "start_time": "2022-03-02T06:16:13.400Z"
   },
   {
    "duration": 48,
    "start_time": "2022-03-02T06:16:13.422Z"
   },
   {
    "duration": 35,
    "start_time": "2022-03-02T06:16:13.473Z"
   },
   {
    "duration": 26,
    "start_time": "2022-03-02T06:16:13.510Z"
   },
   {
    "duration": 39,
    "start_time": "2022-03-02T06:16:13.537Z"
   },
   {
    "duration": 5,
    "start_time": "2022-03-02T06:16:13.578Z"
   },
   {
    "duration": 5,
    "start_time": "2022-03-02T06:16:13.585Z"
   },
   {
    "duration": 7,
    "start_time": "2022-03-02T06:16:13.592Z"
   },
   {
    "duration": 102,
    "start_time": "2022-03-02T06:16:13.600Z"
   },
   {
    "duration": 18,
    "start_time": "2022-03-02T06:16:13.704Z"
   },
   {
    "duration": 9,
    "start_time": "2022-03-02T06:16:33.212Z"
   },
   {
    "duration": 259,
    "start_time": "2022-03-02T06:23:52.579Z"
   },
   {
    "duration": 5,
    "start_time": "2022-03-02T06:24:15.012Z"
   },
   {
    "duration": 6,
    "start_time": "2022-03-02T06:24:43.058Z"
   },
   {
    "duration": 6,
    "start_time": "2022-03-02T06:27:26.982Z"
   },
   {
    "duration": 347,
    "start_time": "2022-03-02T06:29:53.851Z"
   },
   {
    "duration": 6,
    "start_time": "2022-03-02T07:03:56.635Z"
   },
   {
    "duration": 18,
    "start_time": "2022-03-02T07:05:05.072Z"
   },
   {
    "duration": 20,
    "start_time": "2022-03-02T07:07:05.484Z"
   },
   {
    "duration": 19,
    "start_time": "2022-03-02T07:07:14.427Z"
   },
   {
    "duration": 28,
    "start_time": "2022-03-02T07:07:29.354Z"
   },
   {
    "duration": 197,
    "start_time": "2022-03-02T07:07:51.330Z"
   },
   {
    "duration": 23,
    "start_time": "2022-03-02T07:07:55.400Z"
   },
   {
    "duration": 351,
    "start_time": "2022-03-02T07:14:26.165Z"
   },
   {
    "duration": 316,
    "start_time": "2022-03-02T07:16:36.974Z"
   },
   {
    "duration": 1078,
    "start_time": "2022-03-02T07:23:32.255Z"
   },
   {
    "duration": 176,
    "start_time": "2022-03-02T07:23:33.335Z"
   },
   {
    "duration": 140,
    "start_time": "2022-03-02T07:23:33.513Z"
   },
   {
    "duration": 112,
    "start_time": "2022-03-02T07:23:33.655Z"
   },
   {
    "duration": 19,
    "start_time": "2022-03-02T07:23:33.770Z"
   },
   {
    "duration": 26,
    "start_time": "2022-03-02T07:23:33.790Z"
   },
   {
    "duration": 46,
    "start_time": "2022-03-02T07:23:33.818Z"
   },
   {
    "duration": 27,
    "start_time": "2022-03-02T07:23:33.867Z"
   },
   {
    "duration": 18,
    "start_time": "2022-03-02T07:23:33.895Z"
   },
   {
    "duration": 4,
    "start_time": "2022-03-02T07:23:33.914Z"
   },
   {
    "duration": 7,
    "start_time": "2022-03-02T07:23:33.920Z"
   },
   {
    "duration": 8,
    "start_time": "2022-03-02T07:23:33.928Z"
   },
   {
    "duration": 14,
    "start_time": "2022-03-02T07:23:33.959Z"
   },
   {
    "duration": 7,
    "start_time": "2022-03-02T07:23:33.975Z"
   },
   {
    "duration": 5,
    "start_time": "2022-03-02T07:23:33.984Z"
   },
   {
    "duration": 6,
    "start_time": "2022-03-02T07:23:33.991Z"
   },
   {
    "duration": 408,
    "start_time": "2022-03-02T07:23:33.999Z"
   },
   {
    "duration": 84,
    "start_time": "2022-03-02T07:23:34.409Z"
   },
   {
    "duration": 110,
    "start_time": "2022-03-02T07:25:36.029Z"
   },
   {
    "duration": 111,
    "start_time": "2022-03-02T07:26:57.449Z"
   },
   {
    "duration": 1087,
    "start_time": "2022-03-02T07:28:09.050Z"
   },
   {
    "duration": 195,
    "start_time": "2022-03-02T07:28:10.139Z"
   },
   {
    "duration": 152,
    "start_time": "2022-03-02T07:28:10.335Z"
   },
   {
    "duration": 109,
    "start_time": "2022-03-02T07:28:10.489Z"
   },
   {
    "duration": 20,
    "start_time": "2022-03-02T07:28:10.600Z"
   },
   {
    "duration": 26,
    "start_time": "2022-03-02T07:28:10.622Z"
   },
   {
    "duration": 38,
    "start_time": "2022-03-02T07:28:10.660Z"
   },
   {
    "duration": 25,
    "start_time": "2022-03-02T07:28:10.700Z"
   },
   {
    "duration": 47,
    "start_time": "2022-03-02T07:28:10.727Z"
   },
   {
    "duration": 5,
    "start_time": "2022-03-02T07:28:10.776Z"
   },
   {
    "duration": 9,
    "start_time": "2022-03-02T07:28:10.783Z"
   },
   {
    "duration": 9,
    "start_time": "2022-03-02T07:28:10.793Z"
   },
   {
    "duration": 17,
    "start_time": "2022-03-02T07:28:10.803Z"
   },
   {
    "duration": 6,
    "start_time": "2022-03-02T07:28:10.822Z"
   },
   {
    "duration": 5,
    "start_time": "2022-03-02T07:28:10.830Z"
   },
   {
    "duration": 27,
    "start_time": "2022-03-02T07:28:10.836Z"
   },
   {
    "duration": 391,
    "start_time": "2022-03-02T07:28:10.866Z"
   },
   {
    "duration": 134,
    "start_time": "2022-03-02T07:28:11.259Z"
   },
   {
    "duration": 1029,
    "start_time": "2022-03-02T07:28:39.010Z"
   },
   {
    "duration": 200,
    "start_time": "2022-03-02T07:28:40.041Z"
   },
   {
    "duration": 152,
    "start_time": "2022-03-02T07:28:40.245Z"
   },
   {
    "duration": 111,
    "start_time": "2022-03-02T07:28:40.399Z"
   },
   {
    "duration": 18,
    "start_time": "2022-03-02T07:28:40.512Z"
   },
   {
    "duration": 33,
    "start_time": "2022-03-02T07:28:40.531Z"
   },
   {
    "duration": 33,
    "start_time": "2022-03-02T07:28:40.567Z"
   },
   {
    "duration": 24,
    "start_time": "2022-03-02T07:28:40.602Z"
   },
   {
    "duration": 44,
    "start_time": "2022-03-02T07:28:40.627Z"
   },
   {
    "duration": 5,
    "start_time": "2022-03-02T07:28:40.673Z"
   },
   {
    "duration": 7,
    "start_time": "2022-03-02T07:28:40.680Z"
   },
   {
    "duration": 6,
    "start_time": "2022-03-02T07:28:40.688Z"
   },
   {
    "duration": 14,
    "start_time": "2022-03-02T07:28:40.696Z"
   },
   {
    "duration": 6,
    "start_time": "2022-03-02T07:28:40.712Z"
   },
   {
    "duration": 6,
    "start_time": "2022-03-02T07:28:40.719Z"
   },
   {
    "duration": 34,
    "start_time": "2022-03-02T07:28:40.726Z"
   },
   {
    "duration": 378,
    "start_time": "2022-03-02T07:28:40.763Z"
   },
   {
    "duration": 68,
    "start_time": "2022-03-02T07:28:41.143Z"
   },
   {
    "duration": 182,
    "start_time": "2022-03-02T07:33:24.649Z"
   },
   {
    "duration": 49,
    "start_time": "2022-03-02T07:43:18.425Z"
   },
   {
    "duration": 45,
    "start_time": "2022-03-02T07:49:20.244Z"
   },
   {
    "duration": 329,
    "start_time": "2022-03-02T07:49:31.122Z"
   },
   {
    "duration": 40,
    "start_time": "2022-03-02T07:49:48.605Z"
   },
   {
    "duration": 228,
    "start_time": "2022-03-02T07:49:58.681Z"
   },
   {
    "duration": 42,
    "start_time": "2022-03-02T07:50:37.513Z"
   },
   {
    "duration": 162,
    "start_time": "2022-03-02T07:51:06.475Z"
   },
   {
    "duration": 187,
    "start_time": "2022-03-02T07:53:57.723Z"
   },
   {
    "duration": 82,
    "start_time": "2022-03-02T07:55:59.421Z"
   },
   {
    "duration": 80,
    "start_time": "2022-03-02T08:34:25.346Z"
   },
   {
    "duration": 138,
    "start_time": "2022-03-02T08:34:30.906Z"
   },
   {
    "duration": 96,
    "start_time": "2022-03-02T08:35:10.623Z"
   },
   {
    "duration": 91,
    "start_time": "2022-03-02T08:35:39.067Z"
   },
   {
    "duration": 95,
    "start_time": "2022-03-02T09:16:24.201Z"
   },
   {
    "duration": 131,
    "start_time": "2022-03-02T09:19:32.557Z"
   },
   {
    "duration": 279,
    "start_time": "2022-03-02T09:24:01.619Z"
   },
   {
    "duration": 104,
    "start_time": "2022-03-02T09:25:06.178Z"
   },
   {
    "duration": 317,
    "start_time": "2022-03-02T09:25:08.894Z"
   },
   {
    "duration": 291,
    "start_time": "2022-03-02T09:25:48.575Z"
   },
   {
    "duration": 97,
    "start_time": "2022-03-02T09:28:54.613Z"
   },
   {
    "duration": 63,
    "start_time": "2022-03-02T09:29:52.478Z"
   },
   {
    "duration": 54,
    "start_time": "2022-03-02T09:33:13.903Z"
   },
   {
    "duration": 55,
    "start_time": "2022-03-02T09:33:37.279Z"
   },
   {
    "duration": 59,
    "start_time": "2022-03-02T09:33:48.742Z"
   },
   {
    "duration": 55,
    "start_time": "2022-03-02T09:41:25.896Z"
   },
   {
    "duration": 56,
    "start_time": "2022-03-02T09:41:49.034Z"
   },
   {
    "duration": 66,
    "start_time": "2022-03-02T09:41:52.349Z"
   },
   {
    "duration": 4786,
    "start_time": "2022-03-02T10:22:35.273Z"
   },
   {
    "duration": 16,
    "start_time": "2022-03-02T10:23:29.876Z"
   },
   {
    "duration": 16,
    "start_time": "2022-03-02T10:24:14.751Z"
   },
   {
    "duration": 18,
    "start_time": "2022-03-02T10:24:29.492Z"
   },
   {
    "duration": 214,
    "start_time": "2022-03-02T10:28:25.588Z"
   },
   {
    "duration": 215,
    "start_time": "2022-03-02T10:28:36.689Z"
   },
   {
    "duration": 1055,
    "start_time": "2022-03-02T10:28:54.494Z"
   },
   {
    "duration": 198,
    "start_time": "2022-03-02T10:28:55.551Z"
   },
   {
    "duration": 151,
    "start_time": "2022-03-02T10:28:55.760Z"
   },
   {
    "duration": 108,
    "start_time": "2022-03-02T10:28:55.913Z"
   },
   {
    "duration": 17,
    "start_time": "2022-03-02T10:28:56.023Z"
   },
   {
    "duration": 31,
    "start_time": "2022-03-02T10:28:56.042Z"
   },
   {
    "duration": 53,
    "start_time": "2022-03-02T10:28:56.075Z"
   },
   {
    "duration": 27,
    "start_time": "2022-03-02T10:28:56.129Z"
   },
   {
    "duration": 22,
    "start_time": "2022-03-02T10:28:56.159Z"
   },
   {
    "duration": 19,
    "start_time": "2022-03-02T10:28:56.183Z"
   },
   {
    "duration": 15,
    "start_time": "2022-03-02T10:28:56.204Z"
   },
   {
    "duration": 13,
    "start_time": "2022-03-02T10:28:56.221Z"
   },
   {
    "duration": 32,
    "start_time": "2022-03-02T10:28:56.236Z"
   },
   {
    "duration": 45,
    "start_time": "2022-03-02T10:28:56.271Z"
   },
   {
    "duration": 8,
    "start_time": "2022-03-02T10:28:56.318Z"
   },
   {
    "duration": 16,
    "start_time": "2022-03-02T10:28:56.328Z"
   },
   {
    "duration": 406,
    "start_time": "2022-03-02T10:28:56.345Z"
   },
   {
    "duration": 197,
    "start_time": "2022-03-02T10:28:56.752Z"
   },
   {
    "duration": 84,
    "start_time": "2022-03-02T10:28:56.951Z"
   },
   {
    "duration": 153,
    "start_time": "2022-03-02T10:28:57.037Z"
   },
   {
    "duration": 53,
    "start_time": "2022-03-02T10:28:57.191Z"
   },
   {
    "duration": 69,
    "start_time": "2022-03-02T10:28:57.246Z"
   },
   {
    "duration": 4992,
    "start_time": "2022-03-02T10:28:57.317Z"
   },
   {
    "duration": -42,
    "start_time": "2022-03-02T10:29:02.353Z"
   },
   {
    "duration": 17,
    "start_time": "2022-03-02T10:31:48.254Z"
   },
   {
    "duration": 255,
    "start_time": "2022-03-02T10:32:44.215Z"
   },
   {
    "duration": 221,
    "start_time": "2022-03-02T10:33:11.067Z"
   },
   {
    "duration": 220,
    "start_time": "2022-03-02T10:33:31.264Z"
   },
   {
    "duration": 286,
    "start_time": "2022-03-02T10:34:06.684Z"
   },
   {
    "duration": 17,
    "start_time": "2022-03-02T10:34:16.320Z"
   },
   {
    "duration": 16,
    "start_time": "2022-03-02T10:35:19.582Z"
   },
   {
    "duration": 225,
    "start_time": "2022-03-02T10:50:47.114Z"
   },
   {
    "duration": 5137,
    "start_time": "2022-03-02T10:51:15.840Z"
   },
   {
    "duration": 18,
    "start_time": "2022-03-02T10:51:31.459Z"
   },
   {
    "duration": 21,
    "start_time": "2022-03-02T11:21:12.433Z"
   },
   {
    "duration": 26,
    "start_time": "2022-03-02T11:28:03.683Z"
   },
   {
    "duration": 19,
    "start_time": "2022-03-02T11:28:17.046Z"
   },
   {
    "duration": 17,
    "start_time": "2022-03-02T11:28:24.334Z"
   },
   {
    "duration": 4857,
    "start_time": "2022-03-02T11:29:18.197Z"
   },
   {
    "duration": 1148,
    "start_time": "2022-03-02T11:29:26.093Z"
   },
   {
    "duration": 202,
    "start_time": "2022-03-02T11:29:27.243Z"
   },
   {
    "duration": 168,
    "start_time": "2022-03-02T11:29:27.447Z"
   },
   {
    "duration": 111,
    "start_time": "2022-03-02T11:29:27.617Z"
   },
   {
    "duration": 33,
    "start_time": "2022-03-02T11:29:27.729Z"
   },
   {
    "duration": 58,
    "start_time": "2022-03-02T11:29:27.763Z"
   },
   {
    "duration": 34,
    "start_time": "2022-03-02T11:29:27.824Z"
   },
   {
    "duration": 33,
    "start_time": "2022-03-02T11:29:27.862Z"
   },
   {
    "duration": 21,
    "start_time": "2022-03-02T11:29:27.898Z"
   },
   {
    "duration": 5,
    "start_time": "2022-03-02T11:29:27.921Z"
   },
   {
    "duration": 21,
    "start_time": "2022-03-02T11:29:27.928Z"
   },
   {
    "duration": 16,
    "start_time": "2022-03-02T11:29:27.950Z"
   },
   {
    "duration": 29,
    "start_time": "2022-03-02T11:29:27.969Z"
   },
   {
    "duration": 17,
    "start_time": "2022-03-02T11:29:28.000Z"
   },
   {
    "duration": 21,
    "start_time": "2022-03-02T11:29:28.018Z"
   },
   {
    "duration": 408,
    "start_time": "2022-03-02T11:29:28.040Z"
   },
   {
    "duration": 195,
    "start_time": "2022-03-02T11:29:28.449Z"
   },
   {
    "duration": 93,
    "start_time": "2022-03-02T11:29:28.646Z"
   },
   {
    "duration": 165,
    "start_time": "2022-03-02T11:29:28.741Z"
   },
   {
    "duration": 57,
    "start_time": "2022-03-02T11:29:28.908Z"
   },
   {
    "duration": 61,
    "start_time": "2022-03-02T11:29:28.967Z"
   },
   {
    "duration": 34,
    "start_time": "2022-03-02T11:29:29.030Z"
   },
   {
    "duration": 19,
    "start_time": "2022-03-02T11:29:29.068Z"
   },
   {
    "duration": 23,
    "start_time": "2022-03-02T11:29:29.090Z"
   },
   {
    "duration": 55,
    "start_time": "2022-03-02T11:29:29.115Z"
   },
   {
    "duration": 5,
    "start_time": "2022-03-02T11:29:29.172Z"
   },
   {
    "duration": 1031,
    "start_time": "2022-03-02T13:31:16.419Z"
   },
   {
    "duration": 177,
    "start_time": "2022-03-02T13:31:17.452Z"
   },
   {
    "duration": 158,
    "start_time": "2022-03-02T13:31:17.633Z"
   },
   {
    "duration": 143,
    "start_time": "2022-03-02T13:31:17.793Z"
   },
   {
    "duration": 21,
    "start_time": "2022-03-02T13:31:17.938Z"
   },
   {
    "duration": 29,
    "start_time": "2022-03-02T13:31:17.961Z"
   },
   {
    "duration": 29,
    "start_time": "2022-03-02T13:31:17.991Z"
   },
   {
    "duration": 39,
    "start_time": "2022-03-02T13:31:18.023Z"
   },
   {
    "duration": 18,
    "start_time": "2022-03-02T13:31:18.065Z"
   },
   {
    "duration": 4,
    "start_time": "2022-03-02T13:31:18.085Z"
   },
   {
    "duration": 12,
    "start_time": "2022-03-02T13:31:18.091Z"
   },
   {
    "duration": 10,
    "start_time": "2022-03-02T13:31:18.105Z"
   },
   {
    "duration": 23,
    "start_time": "2022-03-02T13:31:18.117Z"
   },
   {
    "duration": 8,
    "start_time": "2022-03-02T13:31:18.143Z"
   },
   {
    "duration": 8,
    "start_time": "2022-03-02T13:31:18.152Z"
   },
   {
    "duration": 461,
    "start_time": "2022-03-02T13:31:18.162Z"
   },
   {
    "duration": 218,
    "start_time": "2022-03-02T13:31:18.625Z"
   },
   {
    "duration": 100,
    "start_time": "2022-03-02T13:31:18.845Z"
   },
   {
    "duration": 152,
    "start_time": "2022-03-02T13:31:18.947Z"
   },
   {
    "duration": 81,
    "start_time": "2022-03-02T13:31:19.101Z"
   },
   {
    "duration": 83,
    "start_time": "2022-03-02T13:31:19.184Z"
   },
   {
    "duration": 26,
    "start_time": "2022-03-02T13:31:19.269Z"
   },
   {
    "duration": 44,
    "start_time": "2022-03-02T13:31:19.298Z"
   },
   {
    "duration": 24,
    "start_time": "2022-03-02T13:31:19.344Z"
   },
   {
    "duration": 26,
    "start_time": "2022-03-02T13:31:19.370Z"
   },
   {
    "duration": 4,
    "start_time": "2022-03-02T13:31:19.397Z"
   },
   {
    "duration": 13,
    "start_time": "2022-03-02T13:37:06.935Z"
   },
   {
    "duration": 60,
    "start_time": "2022-03-02T13:38:02.799Z"
   },
   {
    "duration": 275,
    "start_time": "2022-03-02T13:40:09.272Z"
   },
   {
    "duration": 191,
    "start_time": "2022-03-02T13:41:43.961Z"
   },
   {
    "duration": 1180,
    "start_time": "2022-03-02T13:41:56.804Z"
   },
   {
    "duration": 257,
    "start_time": "2022-03-02T13:41:57.987Z"
   },
   {
    "duration": 202,
    "start_time": "2022-03-02T13:41:58.247Z"
   },
   {
    "duration": 108,
    "start_time": "2022-03-02T13:41:58.451Z"
   },
   {
    "duration": 25,
    "start_time": "2022-03-02T13:41:58.560Z"
   },
   {
    "duration": 31,
    "start_time": "2022-03-02T13:41:58.587Z"
   },
   {
    "duration": 49,
    "start_time": "2022-03-02T13:41:58.620Z"
   },
   {
    "duration": 33,
    "start_time": "2022-03-02T13:41:58.672Z"
   },
   {
    "duration": 37,
    "start_time": "2022-03-02T13:41:58.708Z"
   },
   {
    "duration": 5,
    "start_time": "2022-03-02T13:41:58.749Z"
   },
   {
    "duration": 8,
    "start_time": "2022-03-02T13:41:58.756Z"
   },
   {
    "duration": 7,
    "start_time": "2022-03-02T13:41:58.765Z"
   },
   {
    "duration": 12,
    "start_time": "2022-03-02T13:41:58.773Z"
   },
   {
    "duration": 8,
    "start_time": "2022-03-02T13:41:58.787Z"
   },
   {
    "duration": 7,
    "start_time": "2022-03-02T13:41:58.797Z"
   },
   {
    "duration": 373,
    "start_time": "2022-03-02T13:41:58.806Z"
   },
   {
    "duration": 188,
    "start_time": "2022-03-02T13:41:59.180Z"
   },
   {
    "duration": 85,
    "start_time": "2022-03-02T13:41:59.370Z"
   },
   {
    "duration": 148,
    "start_time": "2022-03-02T13:41:59.457Z"
   },
   {
    "duration": 78,
    "start_time": "2022-03-02T13:41:59.607Z"
   },
   {
    "duration": 83,
    "start_time": "2022-03-02T13:41:59.687Z"
   },
   {
    "duration": 19,
    "start_time": "2022-03-02T13:41:59.772Z"
   },
   {
    "duration": 14,
    "start_time": "2022-03-02T13:41:59.794Z"
   },
   {
    "duration": 44,
    "start_time": "2022-03-02T13:41:59.810Z"
   },
   {
    "duration": 47,
    "start_time": "2022-03-02T13:41:59.856Z"
   },
   {
    "duration": 5,
    "start_time": "2022-03-02T13:41:59.905Z"
   },
   {
    "duration": 38,
    "start_time": "2022-03-02T13:41:59.911Z"
   },
   {
    "duration": 10,
    "start_time": "2022-03-02T13:42:21.858Z"
   },
   {
    "duration": 66,
    "start_time": "2022-03-02T14:21:20.065Z"
   },
   {
    "duration": 458,
    "start_time": "2022-03-02T14:21:30.497Z"
   },
   {
    "duration": 120,
    "start_time": "2022-03-02T14:21:59.628Z"
   },
   {
    "duration": 83,
    "start_time": "2022-03-02T14:22:21.227Z"
   },
   {
    "duration": 74,
    "start_time": "2022-03-02T14:23:20.552Z"
   },
   {
    "duration": 80,
    "start_time": "2022-03-02T14:25:37.848Z"
   },
   {
    "duration": 68,
    "start_time": "2022-03-02T14:28:01.249Z"
   },
   {
    "duration": 954,
    "start_time": "2022-03-03T06:02:55.437Z"
   },
   {
    "duration": 156,
    "start_time": "2022-03-03T06:02:56.392Z"
   },
   {
    "duration": 126,
    "start_time": "2022-03-03T06:02:56.549Z"
   },
   {
    "duration": 90,
    "start_time": "2022-03-03T06:02:56.677Z"
   },
   {
    "duration": 22,
    "start_time": "2022-03-03T06:02:56.768Z"
   },
   {
    "duration": 35,
    "start_time": "2022-03-03T06:02:56.791Z"
   },
   {
    "duration": 27,
    "start_time": "2022-03-03T06:02:56.827Z"
   },
   {
    "duration": 19,
    "start_time": "2022-03-03T06:02:56.856Z"
   },
   {
    "duration": 16,
    "start_time": "2022-03-03T06:02:56.877Z"
   },
   {
    "duration": 12,
    "start_time": "2022-03-03T06:02:56.895Z"
   },
   {
    "duration": 5,
    "start_time": "2022-03-03T06:02:56.908Z"
   },
   {
    "duration": 6,
    "start_time": "2022-03-03T06:02:56.914Z"
   },
   {
    "duration": 9,
    "start_time": "2022-03-03T06:02:56.922Z"
   },
   {
    "duration": 5,
    "start_time": "2022-03-03T06:02:56.933Z"
   },
   {
    "duration": 9,
    "start_time": "2022-03-03T06:02:56.939Z"
   },
   {
    "duration": 335,
    "start_time": "2022-03-03T06:02:56.949Z"
   },
   {
    "duration": 167,
    "start_time": "2022-03-03T06:02:57.286Z"
   },
   {
    "duration": 77,
    "start_time": "2022-03-03T06:02:57.454Z"
   },
   {
    "duration": 134,
    "start_time": "2022-03-03T06:02:57.532Z"
   },
   {
    "duration": 49,
    "start_time": "2022-03-03T06:02:57.668Z"
   },
   {
    "duration": 49,
    "start_time": "2022-03-03T06:02:57.719Z"
   },
   {
    "duration": 15,
    "start_time": "2022-03-03T06:02:57.770Z"
   },
   {
    "duration": 28,
    "start_time": "2022-03-03T06:02:57.788Z"
   },
   {
    "duration": 14,
    "start_time": "2022-03-03T06:02:57.818Z"
   },
   {
    "duration": 41,
    "start_time": "2022-03-03T06:02:57.834Z"
   },
   {
    "duration": 4,
    "start_time": "2022-03-03T06:02:57.877Z"
   },
   {
    "duration": 36,
    "start_time": "2022-03-03T06:02:57.882Z"
   },
   {
    "duration": 64,
    "start_time": "2022-03-03T06:02:57.919Z"
   },
   {
    "duration": 386,
    "start_time": "2022-03-03T06:02:57.985Z"
   },
   {
    "duration": 92,
    "start_time": "2022-03-03T06:04:08.473Z"
   },
   {
    "duration": 8,
    "start_time": "2022-03-03T06:04:27.067Z"
   },
   {
    "duration": 6,
    "start_time": "2022-03-03T06:07:44.298Z"
   },
   {
    "duration": 8,
    "start_time": "2022-03-03T06:09:22.753Z"
   },
   {
    "duration": 10,
    "start_time": "2022-03-03T06:10:17.622Z"
   },
   {
    "duration": 4,
    "start_time": "2022-03-03T06:13:50.060Z"
   },
   {
    "duration": 4,
    "start_time": "2022-03-03T06:18:21.708Z"
   },
   {
    "duration": 337,
    "start_time": "2022-03-03T06:23:48.144Z"
   },
   {
    "duration": 199,
    "start_time": "2022-03-03T06:25:12.325Z"
   },
   {
    "duration": 203,
    "start_time": "2022-03-03T06:29:00.322Z"
   },
   {
    "duration": 288,
    "start_time": "2022-03-03T06:44:48.243Z"
   },
   {
    "duration": 1022,
    "start_time": "2022-03-03T06:45:00.994Z"
   },
   {
    "duration": 197,
    "start_time": "2022-03-03T06:45:02.018Z"
   },
   {
    "duration": 144,
    "start_time": "2022-03-03T06:45:02.217Z"
   },
   {
    "duration": 101,
    "start_time": "2022-03-03T06:45:02.363Z"
   },
   {
    "duration": 23,
    "start_time": "2022-03-03T06:45:02.466Z"
   },
   {
    "duration": 35,
    "start_time": "2022-03-03T06:45:02.491Z"
   },
   {
    "duration": 29,
    "start_time": "2022-03-03T06:45:02.528Z"
   },
   {
    "duration": 22,
    "start_time": "2022-03-03T06:45:02.559Z"
   },
   {
    "duration": 31,
    "start_time": "2022-03-03T06:45:02.583Z"
   },
   {
    "duration": 5,
    "start_time": "2022-03-03T06:45:02.615Z"
   },
   {
    "duration": 8,
    "start_time": "2022-03-03T06:45:02.621Z"
   },
   {
    "duration": 6,
    "start_time": "2022-03-03T06:45:02.631Z"
   },
   {
    "duration": 12,
    "start_time": "2022-03-03T06:45:02.639Z"
   },
   {
    "duration": 5,
    "start_time": "2022-03-03T06:45:02.653Z"
   },
   {
    "duration": 6,
    "start_time": "2022-03-03T06:45:02.660Z"
   },
   {
    "duration": 345,
    "start_time": "2022-03-03T06:45:02.668Z"
   },
   {
    "duration": 160,
    "start_time": "2022-03-03T06:45:03.015Z"
   },
   {
    "duration": 73,
    "start_time": "2022-03-03T06:45:03.177Z"
   },
   {
    "duration": 132,
    "start_time": "2022-03-03T06:45:03.252Z"
   },
   {
    "duration": 52,
    "start_time": "2022-03-03T06:45:03.385Z"
   },
   {
    "duration": 50,
    "start_time": "2022-03-03T06:45:03.438Z"
   },
   {
    "duration": 26,
    "start_time": "2022-03-03T06:45:03.489Z"
   },
   {
    "duration": 12,
    "start_time": "2022-03-03T06:45:03.518Z"
   },
   {
    "duration": 13,
    "start_time": "2022-03-03T06:45:03.532Z"
   },
   {
    "duration": 62,
    "start_time": "2022-03-03T06:45:03.547Z"
   },
   {
    "duration": 4,
    "start_time": "2022-03-03T06:45:03.610Z"
   },
   {
    "duration": 15,
    "start_time": "2022-03-03T06:45:03.616Z"
   },
   {
    "duration": 72,
    "start_time": "2022-03-03T06:45:03.633Z"
   },
   {
    "duration": 8,
    "start_time": "2022-03-03T06:45:03.707Z"
   },
   {
    "duration": 7,
    "start_time": "2022-03-03T06:45:03.716Z"
   },
   {
    "duration": 6,
    "start_time": "2022-03-03T06:45:03.724Z"
   },
   {
    "duration": 220,
    "start_time": "2022-03-03T06:45:03.731Z"
   },
   {
    "duration": 6,
    "start_time": "2022-03-03T06:45:03.953Z"
   },
   {
    "duration": 5,
    "start_time": "2022-03-03T06:48:04.701Z"
   },
   {
    "duration": 208,
    "start_time": "2022-03-03T06:48:37.064Z"
   },
   {
    "duration": 206,
    "start_time": "2022-03-03T06:51:41.202Z"
   },
   {
    "duration": 8,
    "start_time": "2022-03-03T06:56:57.717Z"
   },
   {
    "duration": 7,
    "start_time": "2022-03-03T06:58:03.789Z"
   },
   {
    "duration": 5,
    "start_time": "2022-03-03T06:59:25.196Z"
   },
   {
    "duration": 194,
    "start_time": "2022-03-03T07:00:05.407Z"
   },
   {
    "duration": 7,
    "start_time": "2022-03-03T07:21:17.482Z"
   },
   {
    "duration": 5,
    "start_time": "2022-03-03T07:22:30.930Z"
   },
   {
    "duration": 198,
    "start_time": "2022-03-03T07:23:06.465Z"
   },
   {
    "duration": 454,
    "start_time": "2022-03-03T07:36:48.616Z"
   },
   {
    "duration": 290,
    "start_time": "2022-03-03T07:36:54.821Z"
   },
   {
    "duration": 57,
    "start_time": "2022-03-03T07:38:31.217Z"
   },
   {
    "duration": 51,
    "start_time": "2022-03-03T07:38:47.062Z"
   },
   {
    "duration": 9,
    "start_time": "2022-03-03T07:39:19.863Z"
   },
   {
    "duration": 6,
    "start_time": "2022-03-03T07:39:22.498Z"
   },
   {
    "duration": 5,
    "start_time": "2022-03-03T07:40:05.011Z"
   },
   {
    "duration": 193,
    "start_time": "2022-03-03T07:42:07.171Z"
   },
   {
    "duration": 161,
    "start_time": "2022-03-03T07:42:15.922Z"
   },
   {
    "duration": 7,
    "start_time": "2022-03-03T07:44:09.217Z"
   },
   {
    "duration": 4,
    "start_time": "2022-03-03T07:44:35.933Z"
   },
   {
    "duration": 159,
    "start_time": "2022-03-03T07:45:04.237Z"
   },
   {
    "duration": 234,
    "start_time": "2022-03-03T07:46:15.809Z"
   },
   {
    "duration": 180,
    "start_time": "2022-03-03T07:46:34.034Z"
   },
   {
    "duration": 157,
    "start_time": "2022-03-03T07:47:45.630Z"
   },
   {
    "duration": 164,
    "start_time": "2022-03-03T07:48:00.241Z"
   },
   {
    "duration": 181,
    "start_time": "2022-03-03T07:48:08.797Z"
   },
   {
    "duration": 199,
    "start_time": "2022-03-03T07:51:01.977Z"
   },
   {
    "duration": 1000,
    "start_time": "2022-03-03T07:55:42.571Z"
   },
   {
    "duration": 167,
    "start_time": "2022-03-03T07:55:43.573Z"
   },
   {
    "duration": 129,
    "start_time": "2022-03-03T07:55:43.742Z"
   },
   {
    "duration": 93,
    "start_time": "2022-03-03T07:55:43.873Z"
   },
   {
    "duration": 22,
    "start_time": "2022-03-03T07:55:43.967Z"
   },
   {
    "duration": 35,
    "start_time": "2022-03-03T07:55:43.990Z"
   },
   {
    "duration": 27,
    "start_time": "2022-03-03T07:55:44.027Z"
   },
   {
    "duration": 21,
    "start_time": "2022-03-03T07:55:44.056Z"
   },
   {
    "duration": 15,
    "start_time": "2022-03-03T07:55:44.079Z"
   },
   {
    "duration": 11,
    "start_time": "2022-03-03T07:55:44.096Z"
   },
   {
    "duration": 7,
    "start_time": "2022-03-03T07:55:44.109Z"
   },
   {
    "duration": 6,
    "start_time": "2022-03-03T07:55:44.118Z"
   },
   {
    "duration": 9,
    "start_time": "2022-03-03T07:55:44.126Z"
   },
   {
    "duration": 6,
    "start_time": "2022-03-03T07:55:44.137Z"
   },
   {
    "duration": 7,
    "start_time": "2022-03-03T07:55:44.144Z"
   },
   {
    "duration": 332,
    "start_time": "2022-03-03T07:55:44.152Z"
   },
   {
    "duration": 162,
    "start_time": "2022-03-03T07:55:44.485Z"
   },
   {
    "duration": 76,
    "start_time": "2022-03-03T07:55:44.649Z"
   },
   {
    "duration": 127,
    "start_time": "2022-03-03T07:55:44.726Z"
   },
   {
    "duration": 53,
    "start_time": "2022-03-03T07:55:44.854Z"
   },
   {
    "duration": 52,
    "start_time": "2022-03-03T07:55:44.908Z"
   },
   {
    "duration": 17,
    "start_time": "2022-03-03T07:55:44.962Z"
   },
   {
    "duration": 36,
    "start_time": "2022-03-03T07:55:44.982Z"
   },
   {
    "duration": 24,
    "start_time": "2022-03-03T07:55:45.021Z"
   },
   {
    "duration": 44,
    "start_time": "2022-03-03T07:55:45.047Z"
   },
   {
    "duration": 14,
    "start_time": "2022-03-03T07:55:45.093Z"
   },
   {
    "duration": 10,
    "start_time": "2022-03-03T07:55:45.108Z"
   },
   {
    "duration": 65,
    "start_time": "2022-03-03T07:55:45.120Z"
   },
   {
    "duration": 9,
    "start_time": "2022-03-03T07:55:45.206Z"
   },
   {
    "duration": 8,
    "start_time": "2022-03-03T07:55:45.216Z"
   },
   {
    "duration": 4,
    "start_time": "2022-03-03T07:55:45.226Z"
   },
   {
    "duration": 219,
    "start_time": "2022-03-03T07:55:45.231Z"
   },
   {
    "duration": 6,
    "start_time": "2022-03-03T07:55:45.452Z"
   },
   {
    "duration": 11,
    "start_time": "2022-03-03T07:55:45.460Z"
   },
   {
    "duration": 203,
    "start_time": "2022-03-03T07:55:45.473Z"
   },
   {
    "duration": 10,
    "start_time": "2022-03-03T07:55:45.677Z"
   },
   {
    "duration": 20,
    "start_time": "2022-03-03T07:55:45.688Z"
   },
   {
    "duration": 4,
    "start_time": "2022-03-03T07:55:45.709Z"
   },
   {
    "duration": 197,
    "start_time": "2022-03-03T07:55:45.715Z"
   },
   {
    "duration": 7,
    "start_time": "2022-03-03T07:55:45.914Z"
   },
   {
    "duration": 7,
    "start_time": "2022-03-03T07:55:45.923Z"
   },
   {
    "duration": 213,
    "start_time": "2022-03-03T07:55:45.932Z"
   },
   {
    "duration": 9,
    "start_time": "2022-03-03T07:55:46.147Z"
   },
   {
    "duration": 7,
    "start_time": "2022-03-03T07:55:46.157Z"
   },
   {
    "duration": 5,
    "start_time": "2022-03-03T07:55:46.165Z"
   },
   {
    "duration": 211,
    "start_time": "2022-03-03T07:55:46.172Z"
   },
   {
    "duration": 6,
    "start_time": "2022-03-03T07:55:46.384Z"
   },
   {
    "duration": 14,
    "start_time": "2022-03-03T07:55:46.392Z"
   },
   {
    "duration": 199,
    "start_time": "2022-03-03T07:55:46.408Z"
   },
   {
    "duration": 3,
    "start_time": "2022-03-03T08:30:26.382Z"
   },
   {
    "duration": 3,
    "start_time": "2022-03-03T08:30:30.868Z"
   },
   {
    "duration": 7675,
    "start_time": "2022-03-03T09:06:58.173Z"
   },
   {
    "duration": 7362,
    "start_time": "2022-03-03T09:12:27.358Z"
   },
   {
    "duration": 1043,
    "start_time": "2022-03-03T09:20:51.817Z"
   },
   {
    "duration": 156,
    "start_time": "2022-03-03T09:20:52.862Z"
   },
   {
    "duration": 130,
    "start_time": "2022-03-03T09:20:53.020Z"
   },
   {
    "duration": 93,
    "start_time": "2022-03-03T09:20:53.152Z"
   },
   {
    "duration": 21,
    "start_time": "2022-03-03T09:20:53.246Z"
   },
   {
    "duration": 42,
    "start_time": "2022-03-03T09:20:53.268Z"
   },
   {
    "duration": 27,
    "start_time": "2022-03-03T09:20:53.311Z"
   },
   {
    "duration": 20,
    "start_time": "2022-03-03T09:20:53.341Z"
   },
   {
    "duration": 16,
    "start_time": "2022-03-03T09:20:53.363Z"
   },
   {
    "duration": 3,
    "start_time": "2022-03-03T09:20:53.380Z"
   },
   {
    "duration": 21,
    "start_time": "2022-03-03T09:20:53.385Z"
   },
   {
    "duration": 5,
    "start_time": "2022-03-03T09:20:53.407Z"
   },
   {
    "duration": 10,
    "start_time": "2022-03-03T09:20:53.413Z"
   },
   {
    "duration": 5,
    "start_time": "2022-03-03T09:20:53.425Z"
   },
   {
    "duration": 5,
    "start_time": "2022-03-03T09:20:53.431Z"
   },
   {
    "duration": 341,
    "start_time": "2022-03-03T09:20:53.437Z"
   },
   {
    "duration": 174,
    "start_time": "2022-03-03T09:20:53.780Z"
   },
   {
    "duration": 72,
    "start_time": "2022-03-03T09:20:53.956Z"
   },
   {
    "duration": 129,
    "start_time": "2022-03-03T09:20:54.029Z"
   },
   {
    "duration": 51,
    "start_time": "2022-03-03T09:20:54.159Z"
   },
   {
    "duration": 53,
    "start_time": "2022-03-03T09:20:54.211Z"
   },
   {
    "duration": 15,
    "start_time": "2022-03-03T09:20:54.266Z"
   },
   {
    "duration": 34,
    "start_time": "2022-03-03T09:20:54.284Z"
   },
   {
    "duration": 15,
    "start_time": "2022-03-03T09:20:54.320Z"
   },
   {
    "duration": 43,
    "start_time": "2022-03-03T09:20:54.337Z"
   },
   {
    "duration": 4,
    "start_time": "2022-03-03T09:20:54.381Z"
   },
   {
    "duration": 15,
    "start_time": "2022-03-03T09:20:54.406Z"
   },
   {
    "duration": 64,
    "start_time": "2022-03-03T09:20:54.422Z"
   },
   {
    "duration": 21,
    "start_time": "2022-03-03T09:20:54.487Z"
   },
   {
    "duration": 6,
    "start_time": "2022-03-03T09:20:54.510Z"
   },
   {
    "duration": 4,
    "start_time": "2022-03-03T09:20:54.518Z"
   },
   {
    "duration": 218,
    "start_time": "2022-03-03T09:20:54.524Z"
   },
   {
    "duration": 6,
    "start_time": "2022-03-03T09:20:54.744Z"
   },
   {
    "duration": 5,
    "start_time": "2022-03-03T09:20:54.752Z"
   },
   {
    "duration": 220,
    "start_time": "2022-03-03T09:20:54.758Z"
   },
   {
    "duration": 9,
    "start_time": "2022-03-03T09:20:54.980Z"
   },
   {
    "duration": 17,
    "start_time": "2022-03-03T09:20:54.991Z"
   },
   {
    "duration": 7,
    "start_time": "2022-03-03T09:20:55.010Z"
   },
   {
    "duration": 207,
    "start_time": "2022-03-03T09:20:55.018Z"
   },
   {
    "duration": 6,
    "start_time": "2022-03-03T09:20:55.227Z"
   },
   {
    "duration": 6,
    "start_time": "2022-03-03T09:20:55.235Z"
   },
   {
    "duration": 211,
    "start_time": "2022-03-03T09:20:55.243Z"
   },
   {
    "duration": 8,
    "start_time": "2022-03-03T09:20:55.456Z"
   },
   {
    "duration": 6,
    "start_time": "2022-03-03T09:20:55.466Z"
   },
   {
    "duration": 6,
    "start_time": "2022-03-03T09:20:55.473Z"
   },
   {
    "duration": 196,
    "start_time": "2022-03-03T09:20:55.481Z"
   },
   {
    "duration": 7,
    "start_time": "2022-03-03T09:20:55.678Z"
   },
   {
    "duration": 9,
    "start_time": "2022-03-03T09:20:55.686Z"
   },
   {
    "duration": 186,
    "start_time": "2022-03-03T09:20:55.705Z"
   },
   {
    "duration": 2,
    "start_time": "2022-03-03T09:20:55.893Z"
   },
   {
    "duration": 7734,
    "start_time": "2022-03-03T09:20:55.896Z"
   },
   {
    "duration": 976,
    "start_time": "2022-03-03T09:35:58.269Z"
   },
   {
    "duration": 1062,
    "start_time": "2022-03-03T09:36:58.203Z"
   },
   {
    "duration": 167,
    "start_time": "2022-03-03T09:36:59.267Z"
   },
   {
    "duration": 129,
    "start_time": "2022-03-03T09:36:59.436Z"
   },
   {
    "duration": 91,
    "start_time": "2022-03-03T09:36:59.567Z"
   },
   {
    "duration": 22,
    "start_time": "2022-03-03T09:36:59.660Z"
   },
   {
    "duration": 42,
    "start_time": "2022-03-03T09:36:59.683Z"
   },
   {
    "duration": 28,
    "start_time": "2022-03-03T09:36:59.726Z"
   },
   {
    "duration": 20,
    "start_time": "2022-03-03T09:36:59.756Z"
   },
   {
    "duration": 16,
    "start_time": "2022-03-03T09:36:59.777Z"
   },
   {
    "duration": 12,
    "start_time": "2022-03-03T09:36:59.794Z"
   },
   {
    "duration": 7,
    "start_time": "2022-03-03T09:36:59.807Z"
   },
   {
    "duration": 6,
    "start_time": "2022-03-03T09:36:59.815Z"
   },
   {
    "duration": 14,
    "start_time": "2022-03-03T09:36:59.822Z"
   },
   {
    "duration": 8,
    "start_time": "2022-03-03T09:36:59.837Z"
   },
   {
    "duration": 5,
    "start_time": "2022-03-03T09:36:59.847Z"
   },
   {
    "duration": 348,
    "start_time": "2022-03-03T09:36:59.853Z"
   },
   {
    "duration": 161,
    "start_time": "2022-03-03T09:37:00.205Z"
   },
   {
    "duration": 77,
    "start_time": "2022-03-03T09:37:00.368Z"
   },
   {
    "duration": 131,
    "start_time": "2022-03-03T09:37:00.446Z"
   },
   {
    "duration": 51,
    "start_time": "2022-03-03T09:37:00.579Z"
   },
   {
    "duration": 55,
    "start_time": "2022-03-03T09:37:00.631Z"
   },
   {
    "duration": 29,
    "start_time": "2022-03-03T09:37:00.687Z"
   },
   {
    "duration": 19,
    "start_time": "2022-03-03T09:37:00.719Z"
   },
   {
    "duration": 15,
    "start_time": "2022-03-03T09:37:00.739Z"
   },
   {
    "duration": 59,
    "start_time": "2022-03-03T09:37:00.756Z"
   },
   {
    "duration": 4,
    "start_time": "2022-03-03T09:37:00.816Z"
   },
   {
    "duration": 19,
    "start_time": "2022-03-03T09:37:00.821Z"
   },
   {
    "duration": 75,
    "start_time": "2022-03-03T09:37:00.841Z"
   },
   {
    "duration": 520,
    "start_time": "2022-03-03T09:37:00.917Z"
   },
   {
    "duration": 464,
    "start_time": "2022-03-03T09:37:00.975Z"
   },
   {
    "duration": 461,
    "start_time": "2022-03-03T09:37:00.979Z"
   },
   {
    "duration": 458,
    "start_time": "2022-03-03T09:37:00.983Z"
   },
   {
    "duration": 454,
    "start_time": "2022-03-03T09:37:00.988Z"
   },
   {
    "duration": 450,
    "start_time": "2022-03-03T09:37:00.992Z"
   },
   {
    "duration": 447,
    "start_time": "2022-03-03T09:37:00.996Z"
   },
   {
    "duration": 444,
    "start_time": "2022-03-03T09:37:01.000Z"
   },
   {
    "duration": 441,
    "start_time": "2022-03-03T09:37:01.004Z"
   },
   {
    "duration": 437,
    "start_time": "2022-03-03T09:37:01.008Z"
   },
   {
    "duration": 435,
    "start_time": "2022-03-03T09:37:01.011Z"
   },
   {
    "duration": 421,
    "start_time": "2022-03-03T09:37:01.026Z"
   },
   {
    "duration": 416,
    "start_time": "2022-03-03T09:37:01.032Z"
   },
   {
    "duration": 409,
    "start_time": "2022-03-03T09:37:01.039Z"
   },
   {
    "duration": 406,
    "start_time": "2022-03-03T09:37:01.043Z"
   },
   {
    "duration": 403,
    "start_time": "2022-03-03T09:37:01.047Z"
   },
   {
    "duration": 400,
    "start_time": "2022-03-03T09:37:01.051Z"
   },
   {
    "duration": 388,
    "start_time": "2022-03-03T09:37:01.064Z"
   },
   {
    "duration": 385,
    "start_time": "2022-03-03T09:37:01.068Z"
   },
   {
    "duration": 380,
    "start_time": "2022-03-03T09:37:01.074Z"
   },
   {
    "duration": 377,
    "start_time": "2022-03-03T09:37:01.078Z"
   },
   {
    "duration": 374,
    "start_time": "2022-03-03T09:37:01.082Z"
   },
   {
    "duration": 371,
    "start_time": "2022-03-03T09:37:01.086Z"
   },
   {
    "duration": 69,
    "start_time": "2022-03-03T09:39:24.591Z"
   },
   {
    "duration": 7,
    "start_time": "2022-03-03T09:42:20.343Z"
   },
   {
    "duration": 1006,
    "start_time": "2022-03-03T09:45:12.676Z"
   },
   {
    "duration": 175,
    "start_time": "2022-03-03T09:45:13.683Z"
   },
   {
    "duration": 135,
    "start_time": "2022-03-03T09:45:13.859Z"
   },
   {
    "duration": 94,
    "start_time": "2022-03-03T09:45:13.996Z"
   },
   {
    "duration": 22,
    "start_time": "2022-03-03T09:45:14.091Z"
   },
   {
    "duration": 42,
    "start_time": "2022-03-03T09:45:14.114Z"
   },
   {
    "duration": 28,
    "start_time": "2022-03-03T09:45:14.158Z"
   },
   {
    "duration": 20,
    "start_time": "2022-03-03T09:45:14.188Z"
   },
   {
    "duration": 19,
    "start_time": "2022-03-03T09:45:14.210Z"
   },
   {
    "duration": 3,
    "start_time": "2022-03-03T09:45:14.230Z"
   },
   {
    "duration": 9,
    "start_time": "2022-03-03T09:45:14.235Z"
   },
   {
    "duration": 6,
    "start_time": "2022-03-03T09:45:14.245Z"
   },
   {
    "duration": 11,
    "start_time": "2022-03-03T09:45:14.253Z"
   },
   {
    "duration": 6,
    "start_time": "2022-03-03T09:45:14.265Z"
   },
   {
    "duration": 5,
    "start_time": "2022-03-03T09:45:14.273Z"
   },
   {
    "duration": 343,
    "start_time": "2022-03-03T09:45:14.280Z"
   },
   {
    "duration": 164,
    "start_time": "2022-03-03T09:45:14.624Z"
   },
   {
    "duration": 75,
    "start_time": "2022-03-03T09:45:14.790Z"
   },
   {
    "duration": 137,
    "start_time": "2022-03-03T09:45:14.866Z"
   },
   {
    "duration": 49,
    "start_time": "2022-03-03T09:45:15.006Z"
   },
   {
    "duration": 68,
    "start_time": "2022-03-03T09:45:15.056Z"
   },
   {
    "duration": 16,
    "start_time": "2022-03-03T09:45:15.125Z"
   },
   {
    "duration": 13,
    "start_time": "2022-03-03T09:45:15.144Z"
   },
   {
    "duration": 14,
    "start_time": "2022-03-03T09:45:15.159Z"
   },
   {
    "duration": 67,
    "start_time": "2022-03-03T09:45:15.175Z"
   },
   {
    "duration": 3,
    "start_time": "2022-03-03T09:45:15.244Z"
   },
   {
    "duration": 12,
    "start_time": "2022-03-03T09:45:15.249Z"
   },
   {
    "duration": 82,
    "start_time": "2022-03-03T09:45:15.262Z"
   },
   {
    "duration": 6,
    "start_time": "2022-03-03T09:45:15.345Z"
   },
   {
    "duration": 10,
    "start_time": "2022-03-03T09:45:15.352Z"
   },
   {
    "duration": 6,
    "start_time": "2022-03-03T09:45:15.363Z"
   },
   {
    "duration": 5,
    "start_time": "2022-03-03T09:45:15.370Z"
   },
   {
    "duration": 223,
    "start_time": "2022-03-03T09:45:15.377Z"
   },
   {
    "duration": 8,
    "start_time": "2022-03-03T09:45:15.601Z"
   },
   {
    "duration": 5,
    "start_time": "2022-03-03T09:45:15.611Z"
   },
   {
    "duration": 210,
    "start_time": "2022-03-03T09:45:15.618Z"
   },
   {
    "duration": 9,
    "start_time": "2022-03-03T09:45:15.830Z"
   },
   {
    "duration": 9,
    "start_time": "2022-03-03T09:45:15.840Z"
   },
   {
    "duration": 7,
    "start_time": "2022-03-03T09:45:15.850Z"
   },
   {
    "duration": 211,
    "start_time": "2022-03-03T09:45:15.859Z"
   },
   {
    "duration": 8,
    "start_time": "2022-03-03T09:45:16.072Z"
   },
   {
    "duration": 17,
    "start_time": "2022-03-03T09:45:16.081Z"
   },
   {
    "duration": 206,
    "start_time": "2022-03-03T09:45:16.099Z"
   },
   {
    "duration": 9,
    "start_time": "2022-03-03T09:45:16.306Z"
   },
   {
    "duration": 6,
    "start_time": "2022-03-03T09:45:16.316Z"
   },
   {
    "duration": 6,
    "start_time": "2022-03-03T09:45:16.323Z"
   },
   {
    "duration": 203,
    "start_time": "2022-03-03T09:45:16.330Z"
   },
   {
    "duration": 7,
    "start_time": "2022-03-03T09:45:16.535Z"
   },
   {
    "duration": 11,
    "start_time": "2022-03-03T09:45:16.543Z"
   },
   {
    "duration": 195,
    "start_time": "2022-03-03T09:45:16.555Z"
   },
   {
    "duration": 2,
    "start_time": "2022-03-03T09:45:16.752Z"
   },
   {
    "duration": 7,
    "start_time": "2022-03-03T09:45:16.756Z"
   },
   {
    "duration": 6,
    "start_time": "2022-03-03T09:45:46.830Z"
   },
   {
    "duration": 7,
    "start_time": "2022-03-03T09:46:17.472Z"
   },
   {
    "duration": 6,
    "start_time": "2022-03-03T10:12:59.798Z"
   },
   {
    "duration": 6,
    "start_time": "2022-03-03T10:15:10.768Z"
   },
   {
    "duration": 6,
    "start_time": "2022-03-03T10:16:05.028Z"
   },
   {
    "duration": 1360,
    "start_time": "2022-03-11T17:17:08.122Z"
   },
   {
    "duration": 253,
    "start_time": "2022-03-11T17:17:09.488Z"
   },
   {
    "duration": 199,
    "start_time": "2022-03-11T17:17:09.744Z"
   },
   {
    "duration": 214,
    "start_time": "2022-03-11T17:17:09.947Z"
   },
   {
    "duration": 45,
    "start_time": "2022-03-11T17:17:10.165Z"
   },
   {
    "duration": 37,
    "start_time": "2022-03-11T17:17:10.214Z"
   },
   {
    "duration": 67,
    "start_time": "2022-03-11T17:17:10.254Z"
   },
   {
    "duration": 34,
    "start_time": "2022-03-11T17:17:10.326Z"
   },
   {
    "duration": 46,
    "start_time": "2022-03-11T17:17:10.363Z"
   },
   {
    "duration": 6,
    "start_time": "2022-03-11T17:17:10.412Z"
   },
   {
    "duration": 12,
    "start_time": "2022-03-11T17:17:10.420Z"
   },
   {
    "duration": 14,
    "start_time": "2022-03-11T17:17:10.435Z"
   },
   {
    "duration": 39,
    "start_time": "2022-03-11T17:17:10.451Z"
   },
   {
    "duration": 9,
    "start_time": "2022-03-11T17:17:10.493Z"
   },
   {
    "duration": 11,
    "start_time": "2022-03-11T17:17:10.504Z"
   },
   {
    "duration": 502,
    "start_time": "2022-03-11T17:17:10.517Z"
   },
   {
    "duration": 256,
    "start_time": "2022-03-11T17:17:11.021Z"
   },
   {
    "duration": 127,
    "start_time": "2022-03-11T17:17:11.280Z"
   },
   {
    "duration": 205,
    "start_time": "2022-03-11T17:17:11.410Z"
   },
   {
    "duration": 89,
    "start_time": "2022-03-11T17:17:11.617Z"
   },
   {
    "duration": 102,
    "start_time": "2022-03-11T17:17:11.708Z"
   },
   {
    "duration": 28,
    "start_time": "2022-03-11T17:17:11.812Z"
   },
   {
    "duration": 49,
    "start_time": "2022-03-11T17:17:11.845Z"
   },
   {
    "duration": 27,
    "start_time": "2022-03-11T17:17:11.897Z"
   },
   {
    "duration": 100,
    "start_time": "2022-03-11T17:17:11.927Z"
   },
   {
    "duration": 7,
    "start_time": "2022-03-11T17:17:12.030Z"
   },
   {
    "duration": 46,
    "start_time": "2022-03-11T17:17:12.041Z"
   },
   {
    "duration": 182,
    "start_time": "2022-03-11T17:17:12.090Z"
   },
   {
    "duration": 21,
    "start_time": "2022-03-11T17:17:12.275Z"
   },
   {
    "duration": 16,
    "start_time": "2022-03-11T17:17:12.299Z"
   },
   {
    "duration": 11,
    "start_time": "2022-03-11T17:17:12.318Z"
   },
   {
    "duration": 11,
    "start_time": "2022-03-11T17:17:12.332Z"
   },
   {
    "duration": 444,
    "start_time": "2022-03-11T17:17:12.346Z"
   },
   {
    "duration": 13,
    "start_time": "2022-03-11T17:17:12.793Z"
   },
   {
    "duration": 8,
    "start_time": "2022-03-11T17:17:12.809Z"
   },
   {
    "duration": 415,
    "start_time": "2022-03-11T17:17:12.820Z"
   },
   {
    "duration": 15,
    "start_time": "2022-03-11T17:17:13.237Z"
   },
   {
    "duration": 35,
    "start_time": "2022-03-11T17:17:13.254Z"
   },
   {
    "duration": 9,
    "start_time": "2022-03-11T17:17:13.291Z"
   },
   {
    "duration": 387,
    "start_time": "2022-03-11T17:17:13.303Z"
   },
   {
    "duration": 11,
    "start_time": "2022-03-11T17:17:13.692Z"
   },
   {
    "duration": 9,
    "start_time": "2022-03-11T17:17:13.705Z"
   },
   {
    "duration": 408,
    "start_time": "2022-03-11T17:17:13.717Z"
   },
   {
    "duration": 15,
    "start_time": "2022-03-11T17:17:14.127Z"
   },
   {
    "duration": 10,
    "start_time": "2022-03-11T17:17:14.145Z"
   },
   {
    "duration": 34,
    "start_time": "2022-03-11T17:17:14.157Z"
   },
   {
    "duration": 378,
    "start_time": "2022-03-11T17:17:14.193Z"
   },
   {
    "duration": 24,
    "start_time": "2022-03-11T17:17:14.573Z"
   },
   {
    "duration": 8,
    "start_time": "2022-03-11T17:17:14.599Z"
   },
   {
    "duration": 402,
    "start_time": "2022-03-11T17:17:14.609Z"
   },
   {
    "duration": 4,
    "start_time": "2022-03-11T17:17:15.013Z"
   },
   {
    "duration": 34,
    "start_time": "2022-03-11T17:17:15.019Z"
   },
   {
    "duration": 18,
    "start_time": "2022-03-11T17:17:15.055Z"
   },
   {
    "duration": 17,
    "start_time": "2022-03-11T17:17:15.076Z"
   },
   {
    "duration": 41,
    "start_time": "2022-03-11T17:19:38.673Z"
   },
   {
    "duration": 19,
    "start_time": "2022-03-11T17:21:43.614Z"
   },
   {
    "duration": 75,
    "start_time": "2022-03-11T17:22:06.334Z"
   },
   {
    "duration": 73,
    "start_time": "2022-03-11T17:22:48.664Z"
   },
   {
    "duration": 18,
    "start_time": "2022-03-11T17:24:49.594Z"
   },
   {
    "duration": 369,
    "start_time": "2022-03-14T11:33:21.885Z"
   },
   {
    "duration": 1041,
    "start_time": "2022-03-14T11:33:33.641Z"
   },
   {
    "duration": 186,
    "start_time": "2022-03-14T11:33:34.684Z"
   },
   {
    "duration": 150,
    "start_time": "2022-03-14T11:33:34.872Z"
   },
   {
    "duration": 100,
    "start_time": "2022-03-14T11:33:35.024Z"
   },
   {
    "duration": 24,
    "start_time": "2022-03-14T11:33:35.126Z"
   },
   {
    "duration": 99,
    "start_time": "2022-03-14T11:33:35.152Z"
   },
   {
    "duration": 29,
    "start_time": "2022-03-14T11:33:35.253Z"
   },
   {
    "duration": 21,
    "start_time": "2022-03-14T11:33:35.284Z"
   },
   {
    "duration": 18,
    "start_time": "2022-03-14T11:33:35.307Z"
   },
   {
    "duration": 5,
    "start_time": "2022-03-14T11:33:35.326Z"
   },
   {
    "duration": 18,
    "start_time": "2022-03-14T11:33:35.332Z"
   },
   {
    "duration": 6,
    "start_time": "2022-03-14T11:33:35.351Z"
   },
   {
    "duration": 12,
    "start_time": "2022-03-14T11:33:35.359Z"
   },
   {
    "duration": 6,
    "start_time": "2022-03-14T11:33:35.373Z"
   },
   {
    "duration": 23,
    "start_time": "2022-03-14T11:33:35.380Z"
   },
   {
    "duration": 426,
    "start_time": "2022-03-14T11:33:35.404Z"
   },
   {
    "duration": 13,
    "start_time": "2022-03-14T11:33:35.832Z"
   },
   {
    "duration": 271,
    "start_time": "2022-03-14T11:33:35.847Z"
   },
   {
    "duration": 74,
    "start_time": "2022-03-14T11:33:36.120Z"
   },
   {
    "duration": 134,
    "start_time": "2022-03-14T11:33:36.202Z"
   },
   {
    "duration": 52,
    "start_time": "2022-03-14T11:33:36.338Z"
   },
   {
    "duration": 61,
    "start_time": "2022-03-14T11:33:36.392Z"
   },
   {
    "duration": 14,
    "start_time": "2022-03-14T11:33:36.456Z"
   },
   {
    "duration": 33,
    "start_time": "2022-03-14T11:33:36.472Z"
   },
   {
    "duration": 16,
    "start_time": "2022-03-14T11:33:36.507Z"
   },
   {
    "duration": 45,
    "start_time": "2022-03-14T11:33:36.525Z"
   },
   {
    "duration": 4,
    "start_time": "2022-03-14T11:33:36.571Z"
   },
   {
    "duration": 34,
    "start_time": "2022-03-14T11:33:36.576Z"
   },
   {
    "duration": 64,
    "start_time": "2022-03-14T11:33:36.611Z"
   },
   {
    "duration": 5,
    "start_time": "2022-03-14T11:33:36.677Z"
   },
   {
    "duration": 23,
    "start_time": "2022-03-14T11:33:36.684Z"
   },
   {
    "duration": 6,
    "start_time": "2022-03-14T11:33:36.709Z"
   },
   {
    "duration": 6,
    "start_time": "2022-03-14T11:33:36.716Z"
   },
   {
    "duration": 228,
    "start_time": "2022-03-14T11:33:36.723Z"
   },
   {
    "duration": 7,
    "start_time": "2022-03-14T11:33:36.953Z"
   },
   {
    "duration": 5,
    "start_time": "2022-03-14T11:33:36.962Z"
   },
   {
    "duration": 218,
    "start_time": "2022-03-14T11:33:36.969Z"
   },
   {
    "duration": 15,
    "start_time": "2022-03-14T11:33:37.188Z"
   },
   {
    "duration": 7,
    "start_time": "2022-03-14T11:33:37.205Z"
   },
   {
    "duration": 5,
    "start_time": "2022-03-14T11:33:37.213Z"
   },
   {
    "duration": 202,
    "start_time": "2022-03-14T11:33:37.219Z"
   },
   {
    "duration": 6,
    "start_time": "2022-03-14T11:33:37.423Z"
   },
   {
    "duration": 9,
    "start_time": "2022-03-14T11:33:37.430Z"
   },
   {
    "duration": 212,
    "start_time": "2022-03-14T11:33:37.440Z"
   },
   {
    "duration": 8,
    "start_time": "2022-03-14T11:33:37.654Z"
   },
   {
    "duration": 6,
    "start_time": "2022-03-14T11:33:37.663Z"
   },
   {
    "duration": 5,
    "start_time": "2022-03-14T11:33:37.671Z"
   },
   {
    "duration": 207,
    "start_time": "2022-03-14T11:33:37.677Z"
   },
   {
    "duration": 7,
    "start_time": "2022-03-14T11:33:37.885Z"
   },
   {
    "duration": 5,
    "start_time": "2022-03-14T11:33:37.901Z"
   },
   {
    "duration": 199,
    "start_time": "2022-03-14T11:33:37.908Z"
   },
   {
    "duration": 3,
    "start_time": "2022-03-14T11:33:38.108Z"
   },
   {
    "duration": 8,
    "start_time": "2022-03-14T11:33:38.112Z"
   },
   {
    "duration": 6,
    "start_time": "2022-03-14T11:33:38.122Z"
   },
   {
    "duration": 6,
    "start_time": "2022-03-14T11:33:38.129Z"
   },
   {
    "duration": 24,
    "start_time": "2022-03-14T11:34:39.829Z"
   },
   {
    "duration": 22,
    "start_time": "2022-03-14T11:35:09.340Z"
   },
   {
    "duration": 1023,
    "start_time": "2022-03-14T11:35:50.005Z"
   },
   {
    "duration": 12,
    "start_time": "2022-03-14T11:36:00.331Z"
   },
   {
    "duration": 1007,
    "start_time": "2022-03-14T11:36:08.250Z"
   },
   {
    "duration": 153,
    "start_time": "2022-03-14T11:36:09.259Z"
   },
   {
    "duration": 125,
    "start_time": "2022-03-14T11:36:09.416Z"
   },
   {
    "duration": 94,
    "start_time": "2022-03-14T11:36:09.542Z"
   },
   {
    "duration": 24,
    "start_time": "2022-03-14T11:36:09.638Z"
   },
   {
    "duration": 85,
    "start_time": "2022-03-14T11:36:09.663Z"
   },
   {
    "duration": 26,
    "start_time": "2022-03-14T11:36:09.751Z"
   },
   {
    "duration": 19,
    "start_time": "2022-03-14T11:36:09.779Z"
   },
   {
    "duration": 15,
    "start_time": "2022-03-14T11:36:09.799Z"
   },
   {
    "duration": 3,
    "start_time": "2022-03-14T11:36:09.816Z"
   },
   {
    "duration": 5,
    "start_time": "2022-03-14T11:36:09.820Z"
   },
   {
    "duration": 6,
    "start_time": "2022-03-14T11:36:09.826Z"
   },
   {
    "duration": 10,
    "start_time": "2022-03-14T11:36:09.833Z"
   },
   {
    "duration": 6,
    "start_time": "2022-03-14T11:36:09.844Z"
   },
   {
    "duration": 8,
    "start_time": "2022-03-14T11:36:09.851Z"
   },
   {
    "duration": 321,
    "start_time": "2022-03-14T11:36:09.861Z"
   },
   {
    "duration": 22,
    "start_time": "2022-03-14T11:36:10.183Z"
   },
   {
    "duration": 22,
    "start_time": "2022-03-14T11:36:10.207Z"
   },
   {
    "duration": 19,
    "start_time": "2022-03-14T11:36:10.231Z"
   },
   {
    "duration": 11,
    "start_time": "2022-03-14T11:36:10.251Z"
   },
   {
    "duration": 204,
    "start_time": "2022-03-14T11:36:10.264Z"
   },
   {
    "duration": 72,
    "start_time": "2022-03-14T11:36:10.472Z"
   },
   {
    "duration": 130,
    "start_time": "2022-03-14T11:36:10.547Z"
   },
   {
    "duration": 55,
    "start_time": "2022-03-14T11:36:10.679Z"
   },
   {
    "duration": 51,
    "start_time": "2022-03-14T11:36:10.736Z"
   },
   {
    "duration": 25,
    "start_time": "2022-03-14T11:36:10.789Z"
   },
   {
    "duration": 13,
    "start_time": "2022-03-14T11:36:10.815Z"
   },
   {
    "duration": 15,
    "start_time": "2022-03-14T11:36:10.830Z"
   },
   {
    "duration": 68,
    "start_time": "2022-03-14T11:36:10.846Z"
   },
   {
    "duration": 3,
    "start_time": "2022-03-14T11:36:10.916Z"
   },
   {
    "duration": 10,
    "start_time": "2022-03-14T11:36:10.921Z"
   },
   {
    "duration": 79,
    "start_time": "2022-03-14T11:36:10.932Z"
   },
   {
    "duration": 6,
    "start_time": "2022-03-14T11:36:11.012Z"
   },
   {
    "duration": 12,
    "start_time": "2022-03-14T11:36:11.019Z"
   },
   {
    "duration": 6,
    "start_time": "2022-03-14T11:36:11.032Z"
   },
   {
    "duration": 5,
    "start_time": "2022-03-14T11:36:11.039Z"
   },
   {
    "duration": 222,
    "start_time": "2022-03-14T11:36:11.046Z"
   },
   {
    "duration": 6,
    "start_time": "2022-03-14T11:36:11.270Z"
   },
   {
    "duration": 5,
    "start_time": "2022-03-14T11:36:11.278Z"
   },
   {
    "duration": 208,
    "start_time": "2022-03-14T11:36:11.301Z"
   },
   {
    "duration": 9,
    "start_time": "2022-03-14T11:36:11.510Z"
   },
   {
    "duration": 6,
    "start_time": "2022-03-14T11:36:11.520Z"
   },
   {
    "duration": 5,
    "start_time": "2022-03-14T11:36:11.527Z"
   },
   {
    "duration": 216,
    "start_time": "2022-03-14T11:36:11.534Z"
   },
   {
    "duration": 7,
    "start_time": "2022-03-14T11:36:11.752Z"
   },
   {
    "duration": 5,
    "start_time": "2022-03-14T11:36:11.761Z"
   },
   {
    "duration": 221,
    "start_time": "2022-03-14T11:36:11.768Z"
   },
   {
    "duration": 17,
    "start_time": "2022-03-14T11:36:11.990Z"
   },
   {
    "duration": 7,
    "start_time": "2022-03-14T11:36:12.009Z"
   },
   {
    "duration": 4,
    "start_time": "2022-03-14T11:36:12.017Z"
   },
   {
    "duration": 206,
    "start_time": "2022-03-14T11:36:12.023Z"
   },
   {
    "duration": 7,
    "start_time": "2022-03-14T11:36:12.231Z"
   },
   {
    "duration": 6,
    "start_time": "2022-03-14T11:36:12.240Z"
   },
   {
    "duration": 212,
    "start_time": "2022-03-14T11:36:12.247Z"
   },
   {
    "duration": 2,
    "start_time": "2022-03-14T11:36:12.461Z"
   },
   {
    "duration": 10,
    "start_time": "2022-03-14T11:36:12.465Z"
   },
   {
    "duration": 13,
    "start_time": "2022-03-14T11:36:12.477Z"
   },
   {
    "duration": 13,
    "start_time": "2022-03-14T11:36:12.491Z"
   },
   {
    "duration": 1212,
    "start_time": "2022-03-14T13:11:23.243Z"
   },
   {
    "duration": 257,
    "start_time": "2022-03-14T13:11:24.457Z"
   },
   {
    "duration": 207,
    "start_time": "2022-03-14T13:11:24.719Z"
   },
   {
    "duration": 116,
    "start_time": "2022-03-14T13:11:24.928Z"
   },
   {
    "duration": 26,
    "start_time": "2022-03-14T13:11:25.046Z"
   },
   {
    "duration": 62,
    "start_time": "2022-03-14T13:11:25.074Z"
   },
   {
    "duration": 32,
    "start_time": "2022-03-14T13:11:25.138Z"
   },
   {
    "duration": 27,
    "start_time": "2022-03-14T13:11:25.173Z"
   },
   {
    "duration": 23,
    "start_time": "2022-03-14T13:11:25.202Z"
   },
   {
    "duration": 10,
    "start_time": "2022-03-14T13:11:25.227Z"
   },
   {
    "duration": 6,
    "start_time": "2022-03-14T13:11:25.239Z"
   },
   {
    "duration": 6,
    "start_time": "2022-03-14T13:11:25.247Z"
   },
   {
    "duration": 13,
    "start_time": "2022-03-14T13:11:25.255Z"
   },
   {
    "duration": 6,
    "start_time": "2022-03-14T13:11:25.270Z"
   },
   {
    "duration": 20,
    "start_time": "2022-03-14T13:11:25.304Z"
   },
   {
    "duration": 35,
    "start_time": "2022-03-14T13:11:25.326Z"
   },
   {
    "duration": 46,
    "start_time": "2022-03-14T13:11:25.363Z"
   },
   {
    "duration": 9,
    "start_time": "2022-03-14T13:11:25.411Z"
   },
   {
    "duration": 379,
    "start_time": "2022-03-14T13:11:25.423Z"
   },
   {
    "duration": 186,
    "start_time": "2022-03-14T13:11:25.804Z"
   },
   {
    "duration": 96,
    "start_time": "2022-03-14T13:11:25.992Z"
   },
   {
    "duration": 188,
    "start_time": "2022-03-14T13:11:26.093Z"
   },
   {
    "duration": 52,
    "start_time": "2022-03-14T13:11:26.284Z"
   },
   {
    "duration": 85,
    "start_time": "2022-03-14T13:11:26.339Z"
   },
   {
    "duration": 23,
    "start_time": "2022-03-14T13:11:26.426Z"
   },
   {
    "duration": 21,
    "start_time": "2022-03-14T13:11:26.453Z"
   },
   {
    "duration": 37,
    "start_time": "2022-03-14T13:11:26.475Z"
   },
   {
    "duration": 52,
    "start_time": "2022-03-14T13:11:26.514Z"
   },
   {
    "duration": 4,
    "start_time": "2022-03-14T13:11:26.568Z"
   },
   {
    "duration": 41,
    "start_time": "2022-03-14T13:11:26.573Z"
   },
   {
    "duration": 89,
    "start_time": "2022-03-14T13:11:26.615Z"
   },
   {
    "duration": 7,
    "start_time": "2022-03-14T13:11:26.705Z"
   },
   {
    "duration": 13,
    "start_time": "2022-03-14T13:11:26.714Z"
   },
   {
    "duration": 8,
    "start_time": "2022-03-14T13:11:26.729Z"
   },
   {
    "duration": 8,
    "start_time": "2022-03-14T13:11:26.741Z"
   },
   {
    "duration": 282,
    "start_time": "2022-03-14T13:11:26.751Z"
   },
   {
    "duration": 7,
    "start_time": "2022-03-14T13:11:27.035Z"
   },
   {
    "duration": 6,
    "start_time": "2022-03-14T13:11:27.044Z"
   },
   {
    "duration": 278,
    "start_time": "2022-03-14T13:11:27.052Z"
   },
   {
    "duration": 15,
    "start_time": "2022-03-14T13:11:27.332Z"
   },
   {
    "duration": 8,
    "start_time": "2022-03-14T13:11:27.349Z"
   },
   {
    "duration": 7,
    "start_time": "2022-03-14T13:11:27.359Z"
   },
   {
    "duration": 256,
    "start_time": "2022-03-14T13:11:27.367Z"
   },
   {
    "duration": 8,
    "start_time": "2022-03-14T13:11:27.625Z"
   },
   {
    "duration": 6,
    "start_time": "2022-03-14T13:11:27.635Z"
   },
   {
    "duration": 358,
    "start_time": "2022-03-14T13:11:27.643Z"
   },
   {
    "duration": 10,
    "start_time": "2022-03-14T13:11:28.002Z"
   },
   {
    "duration": 8,
    "start_time": "2022-03-14T13:11:28.013Z"
   },
   {
    "duration": 6,
    "start_time": "2022-03-14T13:11:28.023Z"
   },
   {
    "duration": 228,
    "start_time": "2022-03-14T13:11:28.030Z"
   },
   {
    "duration": 7,
    "start_time": "2022-03-14T13:11:28.260Z"
   },
   {
    "duration": 7,
    "start_time": "2022-03-14T13:11:28.269Z"
   },
   {
    "duration": 219,
    "start_time": "2022-03-14T13:11:28.278Z"
   },
   {
    "duration": 2,
    "start_time": "2022-03-14T13:11:28.499Z"
   },
   {
    "duration": 10,
    "start_time": "2022-03-14T13:11:28.503Z"
   },
   {
    "duration": 8,
    "start_time": "2022-03-14T13:11:28.514Z"
   },
   {
    "duration": 9,
    "start_time": "2022-03-14T13:11:28.523Z"
   },
   {
    "duration": 7,
    "start_time": "2022-03-14T13:16:42.873Z"
   },
   {
    "duration": 44,
    "start_time": "2022-03-14T13:18:22.048Z"
   },
   {
    "duration": 10,
    "start_time": "2022-03-14T13:23:04.151Z"
   },
   {
    "duration": 2,
    "start_time": "2022-03-14T17:40:26.148Z"
   },
   {
    "duration": 1044,
    "start_time": "2022-03-14T17:43:02.218Z"
   },
   {
    "duration": 172,
    "start_time": "2022-03-14T17:43:03.264Z"
   },
   {
    "duration": 744,
    "start_time": "2022-03-14T17:43:03.438Z"
   },
   {
    "duration": 1015,
    "start_time": "2022-03-14T17:43:04.184Z"
   },
   {
    "duration": 836,
    "start_time": "2022-03-14T17:43:05.201Z"
   },
   {
    "duration": 247,
    "start_time": "2022-03-14T17:43:06.038Z"
   },
   {
    "duration": 305,
    "start_time": "2022-03-14T17:43:06.286Z"
   },
   {
    "duration": 150,
    "start_time": "2022-03-14T17:43:06.594Z"
   },
   {
    "duration": 226,
    "start_time": "2022-03-14T17:43:06.746Z"
   },
   {
    "duration": 151,
    "start_time": "2022-03-14T17:43:06.973Z"
   },
   {
    "duration": 194,
    "start_time": "2022-03-14T17:43:07.126Z"
   },
   {
    "duration": 397,
    "start_time": "2022-03-14T17:43:07.322Z"
   },
   {
    "duration": 379,
    "start_time": "2022-03-14T17:43:07.721Z"
   },
   {
    "duration": 843,
    "start_time": "2022-03-14T17:43:08.103Z"
   },
   {
    "duration": 1643,
    "start_time": "2022-03-14T17:43:08.948Z"
   },
   {
    "duration": 1202,
    "start_time": "2022-03-14T17:43:10.593Z"
   },
   {
    "duration": 1174,
    "start_time": "2022-03-14T17:43:11.797Z"
   },
   {
    "duration": 742,
    "start_time": "2022-03-14T17:43:12.972Z"
   },
   {
    "duration": 878,
    "start_time": "2022-03-14T17:43:13.715Z"
   },
   {
    "duration": 691,
    "start_time": "2022-03-14T17:43:14.595Z"
   },
   {
    "duration": -627,
    "start_time": "2022-03-14T17:43:15.916Z"
   },
   {
    "duration": -632,
    "start_time": "2022-03-14T17:43:15.922Z"
   },
   {
    "duration": -638,
    "start_time": "2022-03-14T17:43:15.929Z"
   },
   {
    "duration": -643,
    "start_time": "2022-03-14T17:43:15.935Z"
   },
   {
    "duration": -647,
    "start_time": "2022-03-14T17:43:15.940Z"
   },
   {
    "duration": -665,
    "start_time": "2022-03-14T17:43:15.959Z"
   },
   {
    "duration": -670,
    "start_time": "2022-03-14T17:43:15.965Z"
   },
   {
    "duration": -675,
    "start_time": "2022-03-14T17:43:15.971Z"
   },
   {
    "duration": -680,
    "start_time": "2022-03-14T17:43:15.977Z"
   },
   {
    "duration": -685,
    "start_time": "2022-03-14T17:43:15.983Z"
   },
   {
    "duration": -689,
    "start_time": "2022-03-14T17:43:15.988Z"
   },
   {
    "duration": -694,
    "start_time": "2022-03-14T17:43:15.994Z"
   },
   {
    "duration": -697,
    "start_time": "2022-03-14T17:43:15.999Z"
   },
   {
    "duration": -702,
    "start_time": "2022-03-14T17:43:16.004Z"
   },
   {
    "duration": -707,
    "start_time": "2022-03-14T17:43:16.010Z"
   },
   {
    "duration": -711,
    "start_time": "2022-03-14T17:43:16.015Z"
   },
   {
    "duration": -716,
    "start_time": "2022-03-14T17:43:16.021Z"
   },
   {
    "duration": -721,
    "start_time": "2022-03-14T17:43:16.027Z"
   },
   {
    "duration": -725,
    "start_time": "2022-03-14T17:43:16.032Z"
   },
   {
    "duration": -730,
    "start_time": "2022-03-14T17:43:16.038Z"
   },
   {
    "duration": -733,
    "start_time": "2022-03-14T17:43:16.043Z"
   },
   {
    "duration": -736,
    "start_time": "2022-03-14T17:43:16.048Z"
   },
   {
    "duration": -740,
    "start_time": "2022-03-14T17:43:16.053Z"
   },
   {
    "duration": -759,
    "start_time": "2022-03-14T17:43:16.073Z"
   },
   {
    "duration": -764,
    "start_time": "2022-03-14T17:43:16.079Z"
   },
   {
    "duration": -769,
    "start_time": "2022-03-14T17:43:16.084Z"
   },
   {
    "duration": -773,
    "start_time": "2022-03-14T17:43:16.089Z"
   },
   {
    "duration": -777,
    "start_time": "2022-03-14T17:43:16.095Z"
   },
   {
    "duration": -779,
    "start_time": "2022-03-14T17:43:16.099Z"
   },
   {
    "duration": -784,
    "start_time": "2022-03-14T17:43:16.105Z"
   },
   {
    "duration": -787,
    "start_time": "2022-03-14T17:43:16.110Z"
   },
   {
    "duration": -791,
    "start_time": "2022-03-14T17:43:16.115Z"
   },
   {
    "duration": -794,
    "start_time": "2022-03-14T17:43:16.119Z"
   },
   {
    "duration": -797,
    "start_time": "2022-03-14T17:43:16.124Z"
   },
   {
    "duration": -801,
    "start_time": "2022-03-14T17:43:16.129Z"
   },
   {
    "duration": -805,
    "start_time": "2022-03-14T17:43:16.134Z"
   },
   {
    "duration": -807,
    "start_time": "2022-03-14T17:43:16.139Z"
   },
   {
    "duration": -812,
    "start_time": "2022-03-14T17:43:16.146Z"
   },
   {
    "duration": 315,
    "start_time": "2022-03-14T17:44:56.419Z"
   },
   {
    "duration": 306,
    "start_time": "2022-03-14T17:46:42.521Z"
   },
   {
    "duration": 300,
    "start_time": "2022-03-14T17:49:28.020Z"
   },
   {
    "duration": 20,
    "start_time": "2022-03-14T19:09:19.136Z"
   },
   {
    "duration": 49,
    "start_time": "2022-03-14T19:09:28.283Z"
   },
   {
    "duration": -578,
    "start_time": "2022-03-14T19:15:23.767Z"
   },
   {
    "duration": 2312,
    "start_time": "2022-03-14T19:15:28.085Z"
   },
   {
    "duration": 1635,
    "start_time": "2022-03-14T19:15:34.091Z"
   },
   {
    "duration": 19,
    "start_time": "2022-03-14T19:15:49.572Z"
   },
   {
    "duration": 18,
    "start_time": "2022-03-14T19:16:13.377Z"
   },
   {
    "duration": 19,
    "start_time": "2022-03-14T19:20:02.216Z"
   },
   {
    "duration": 28,
    "start_time": "2022-03-14T19:21:51.326Z"
   },
   {
    "duration": 33,
    "start_time": "2022-03-14T19:22:15.432Z"
   },
   {
    "duration": 19,
    "start_time": "2022-03-14T19:24:58.487Z"
   },
   {
    "duration": 18,
    "start_time": "2022-03-14T19:26:33.058Z"
   },
   {
    "duration": 11,
    "start_time": "2022-03-14T19:29:54.128Z"
   },
   {
    "duration": 17,
    "start_time": "2022-03-14T19:30:09.981Z"
   },
   {
    "duration": 342,
    "start_time": "2022-03-14T19:34:52.710Z"
   },
   {
    "duration": 468,
    "start_time": "2022-03-14T19:35:22.995Z"
   },
   {
    "duration": 1011,
    "start_time": "2022-03-14T19:36:03.357Z"
   },
   {
    "duration": 2425,
    "start_time": "2022-03-14T19:36:04.370Z"
   },
   {
    "duration": 3199,
    "start_time": "2022-03-14T19:36:06.797Z"
   },
   {
    "duration": 4546,
    "start_time": "2022-03-14T19:36:10.002Z"
   },
   {
    "duration": 6197,
    "start_time": "2022-03-14T19:36:14.550Z"
   },
   {
    "duration": 2625,
    "start_time": "2022-03-14T19:36:20.749Z"
   },
   {
    "duration": 3042,
    "start_time": "2022-03-14T19:36:23.376Z"
   },
   {
    "duration": 8130,
    "start_time": "2022-03-14T19:36:26.420Z"
   },
   {
    "duration": 6521,
    "start_time": "2022-03-14T19:36:34.552Z"
   },
   {
    "duration": 3796,
    "start_time": "2022-03-14T19:36:41.074Z"
   },
   {
    "duration": 1695,
    "start_time": "2022-03-14T19:36:44.872Z"
   },
   {
    "duration": 2044,
    "start_time": "2022-03-14T19:36:46.568Z"
   },
   {
    "duration": 3113,
    "start_time": "2022-03-14T19:36:48.614Z"
   },
   {
    "duration": 4235,
    "start_time": "2022-03-14T19:36:51.729Z"
   },
   {
    "duration": 5126,
    "start_time": "2022-03-14T19:36:55.966Z"
   },
   {
    "duration": 6327,
    "start_time": "2022-03-14T19:37:01.094Z"
   },
   {
    "duration": 4828,
    "start_time": "2022-03-14T19:37:07.422Z"
   },
   {
    "duration": 1963,
    "start_time": "2022-03-14T19:37:12.251Z"
   },
   {
    "duration": 3171,
    "start_time": "2022-03-14T19:37:14.216Z"
   },
   {
    "duration": 4026,
    "start_time": "2022-03-14T19:37:17.389Z"
   },
   {
    "duration": 2963,
    "start_time": "2022-03-14T19:37:21.417Z"
   },
   {
    "duration": 2268,
    "start_time": "2022-03-14T19:37:24.382Z"
   },
   {
    "duration": 5444,
    "start_time": "2022-03-14T19:37:26.653Z"
   },
   {
    "duration": 4419,
    "start_time": "2022-03-14T19:37:32.099Z"
   },
   {
    "duration": 27895,
    "start_time": "2022-03-14T19:37:36.519Z"
   },
   {
    "duration": 6675,
    "start_time": "2022-03-14T19:38:04.415Z"
   },
   {
    "duration": -618,
    "start_time": "2022-03-14T19:38:11.710Z"
   },
   {
    "duration": -623,
    "start_time": "2022-03-14T19:38:11.716Z"
   },
   {
    "duration": -627,
    "start_time": "2022-03-14T19:38:11.721Z"
   },
   {
    "duration": -632,
    "start_time": "2022-03-14T19:38:11.727Z"
   },
   {
    "duration": -637,
    "start_time": "2022-03-14T19:38:11.733Z"
   },
   {
    "duration": -640,
    "start_time": "2022-03-14T19:38:11.737Z"
   },
   {
    "duration": -644,
    "start_time": "2022-03-14T19:38:11.742Z"
   },
   {
    "duration": -648,
    "start_time": "2022-03-14T19:38:11.747Z"
   },
   {
    "duration": -654,
    "start_time": "2022-03-14T19:38:11.753Z"
   },
   {
    "duration": -658,
    "start_time": "2022-03-14T19:38:11.758Z"
   },
   {
    "duration": -662,
    "start_time": "2022-03-14T19:38:11.763Z"
   },
   {
    "duration": -666,
    "start_time": "2022-03-14T19:38:11.768Z"
   },
   {
    "duration": -670,
    "start_time": "2022-03-14T19:38:11.773Z"
   },
   {
    "duration": -674,
    "start_time": "2022-03-14T19:38:11.777Z"
   },
   {
    "duration": -678,
    "start_time": "2022-03-14T19:38:11.783Z"
   },
   {
    "duration": -682,
    "start_time": "2022-03-14T19:38:11.788Z"
   },
   {
    "duration": -697,
    "start_time": "2022-03-14T19:38:11.804Z"
   },
   {
    "duration": -701,
    "start_time": "2022-03-14T19:38:11.808Z"
   },
   {
    "duration": -706,
    "start_time": "2022-03-14T19:38:11.814Z"
   },
   {
    "duration": -709,
    "start_time": "2022-03-14T19:38:11.818Z"
   },
   {
    "duration": -713,
    "start_time": "2022-03-14T19:38:11.823Z"
   },
   {
    "duration": -718,
    "start_time": "2022-03-14T19:38:11.828Z"
   },
   {
    "duration": -723,
    "start_time": "2022-03-14T19:38:11.834Z"
   },
   {
    "duration": -726,
    "start_time": "2022-03-14T19:38:11.838Z"
   },
   {
    "duration": -731,
    "start_time": "2022-03-14T19:38:11.843Z"
   },
   {
    "duration": -734,
    "start_time": "2022-03-14T19:38:11.847Z"
   },
   {
    "duration": -738,
    "start_time": "2022-03-14T19:38:11.852Z"
   },
   {
    "duration": -741,
    "start_time": "2022-03-14T19:38:11.856Z"
   },
   {
    "duration": -747,
    "start_time": "2022-03-14T19:38:11.862Z"
   },
   {
    "duration": -751,
    "start_time": "2022-03-14T19:38:11.867Z"
   },
   {
    "duration": -754,
    "start_time": "2022-03-14T19:38:11.871Z"
   },
   {
    "duration": -759,
    "start_time": "2022-03-14T19:38:11.876Z"
   },
   {
    "duration": -763,
    "start_time": "2022-03-14T19:38:11.881Z"
   },
   {
    "duration": -766,
    "start_time": "2022-03-14T19:38:11.885Z"
   },
   {
    "duration": -772,
    "start_time": "2022-03-14T19:38:11.891Z"
   },
   {
    "duration": -776,
    "start_time": "2022-03-14T19:38:11.896Z"
   },
   {
    "duration": -780,
    "start_time": "2022-03-14T19:38:11.901Z"
   },
   {
    "duration": -795,
    "start_time": "2022-03-14T19:38:11.917Z"
   },
   {
    "duration": 300,
    "start_time": "2022-03-14T19:42:07.301Z"
   },
   {
    "duration": 15,
    "start_time": "2022-03-14T19:44:05.100Z"
   },
   {
    "duration": 308,
    "start_time": "2022-03-14T19:44:43.734Z"
   },
   {
    "duration": 35,
    "start_time": "2022-03-14T19:45:16.251Z"
   },
   {
    "duration": 387,
    "start_time": "2022-03-14T19:45:21.870Z"
   },
   {
    "duration": 80,
    "start_time": "2022-03-14T19:45:32.025Z"
   },
   {
    "duration": 37,
    "start_time": "2022-03-14T19:45:41.239Z"
   },
   {
    "duration": 346,
    "start_time": "2022-03-14T19:47:36.151Z"
   },
   {
    "duration": 66,
    "start_time": "2022-03-14T19:47:50.725Z"
   },
   {
    "duration": 534,
    "start_time": "2022-03-14T19:49:04.450Z"
   },
   {
    "duration": 60,
    "start_time": "2022-03-14T19:50:03.171Z"
   },
   {
    "duration": 2081,
    "start_time": "2022-03-14T19:51:20.895Z"
   },
   {
    "duration": 174,
    "start_time": "2022-03-14T19:51:22.978Z"
   },
   {
    "duration": 1472,
    "start_time": "2022-03-14T19:51:23.154Z"
   },
   {
    "duration": 2414,
    "start_time": "2022-03-14T19:51:24.627Z"
   },
   {
    "duration": 6885,
    "start_time": "2022-03-14T19:51:27.042Z"
   },
   {
    "duration": 7201,
    "start_time": "2022-03-14T19:51:33.929Z"
   },
   {
    "duration": 4011,
    "start_time": "2022-03-14T19:51:41.133Z"
   },
   {
    "duration": 4342,
    "start_time": "2022-03-14T19:51:45.146Z"
   },
   {
    "duration": 2393,
    "start_time": "2022-03-14T19:51:49.490Z"
   },
   {
    "duration": 1319,
    "start_time": "2022-03-14T19:51:51.885Z"
   },
   {
    "duration": 3596,
    "start_time": "2022-03-14T19:51:53.206Z"
   },
   {
    "duration": 3972,
    "start_time": "2022-03-14T19:51:56.803Z"
   },
   {
    "duration": 7367,
    "start_time": "2022-03-14T19:52:00.777Z"
   },
   {
    "duration": 5165,
    "start_time": "2022-03-14T19:52:08.145Z"
   },
   {
    "duration": 2293,
    "start_time": "2022-03-14T19:52:13.312Z"
   },
   {
    "duration": 3299,
    "start_time": "2022-03-14T19:52:15.606Z"
   },
   {
    "duration": 1919,
    "start_time": "2022-03-14T19:52:18.906Z"
   },
   {
    "duration": 4170,
    "start_time": "2022-03-14T19:52:20.827Z"
   },
   {
    "duration": 3978,
    "start_time": "2022-03-14T19:52:24.998Z"
   },
   {
    "duration": 10756,
    "start_time": "2022-03-14T19:52:28.978Z"
   },
   {
    "duration": 4135,
    "start_time": "2022-03-14T19:52:39.736Z"
   },
   {
    "duration": 1102,
    "start_time": "2022-03-14T19:52:43.873Z"
   },
   {
    "duration": 2457,
    "start_time": "2022-03-14T19:52:44.979Z"
   },
   {
    "duration": 3745,
    "start_time": "2022-03-14T19:52:47.438Z"
   },
   {
    "duration": 4836,
    "start_time": "2022-03-14T19:52:51.184Z"
   },
   {
    "duration": 7372,
    "start_time": "2022-03-14T19:52:56.021Z"
   },
   {
    "duration": 1683,
    "start_time": "2022-03-14T19:53:03.394Z"
   },
   {
    "duration": 1799,
    "start_time": "2022-03-14T19:53:05.079Z"
   },
   {
    "duration": 2468,
    "start_time": "2022-03-14T19:53:06.880Z"
   },
   {
    "duration": 3941,
    "start_time": "2022-03-14T19:53:09.350Z"
   },
   {
    "duration": 7400,
    "start_time": "2022-03-14T19:53:13.292Z"
   },
   {
    "duration": 6784,
    "start_time": "2022-03-14T19:53:20.694Z"
   },
   {
    "duration": 6521,
    "start_time": "2022-03-14T19:53:27.480Z"
   },
   {
    "duration": 4723,
    "start_time": "2022-03-14T19:53:34.002Z"
   },
   {
    "duration": 5219,
    "start_time": "2022-03-14T19:53:38.727Z"
   },
   {
    "duration": 16163,
    "start_time": "2022-03-14T19:53:43.948Z"
   },
   {
    "duration": 5198,
    "start_time": "2022-03-14T19:54:00.113Z"
   },
   {
    "duration": 1235,
    "start_time": "2022-03-14T19:54:05.313Z"
   },
   {
    "duration": 2726,
    "start_time": "2022-03-14T19:54:06.550Z"
   },
   {
    "duration": 5419,
    "start_time": "2022-03-14T19:54:09.278Z"
   },
   {
    "duration": -620,
    "start_time": "2022-03-14T19:54:15.319Z"
   },
   {
    "duration": -624,
    "start_time": "2022-03-14T19:54:15.325Z"
   },
   {
    "duration": -629,
    "start_time": "2022-03-14T19:54:15.330Z"
   },
   {
    "duration": -633,
    "start_time": "2022-03-14T19:54:15.335Z"
   },
   {
    "duration": -636,
    "start_time": "2022-03-14T19:54:15.339Z"
   },
   {
    "duration": -640,
    "start_time": "2022-03-14T19:54:15.344Z"
   },
   {
    "duration": -644,
    "start_time": "2022-03-14T19:54:15.349Z"
   },
   {
    "duration": -647,
    "start_time": "2022-03-14T19:54:15.353Z"
   },
   {
    "duration": -652,
    "start_time": "2022-03-14T19:54:15.358Z"
   },
   {
    "duration": -655,
    "start_time": "2022-03-14T19:54:15.362Z"
   },
   {
    "duration": -659,
    "start_time": "2022-03-14T19:54:15.367Z"
   },
   {
    "duration": -663,
    "start_time": "2022-03-14T19:54:15.372Z"
   },
   {
    "duration": -666,
    "start_time": "2022-03-14T19:54:15.376Z"
   },
   {
    "duration": -670,
    "start_time": "2022-03-14T19:54:15.381Z"
   },
   {
    "duration": -674,
    "start_time": "2022-03-14T19:54:15.385Z"
   },
   {
    "duration": -677,
    "start_time": "2022-03-14T19:54:15.389Z"
   },
   {
    "duration": -681,
    "start_time": "2022-03-14T19:54:15.394Z"
   },
   {
    "duration": -685,
    "start_time": "2022-03-14T19:54:15.399Z"
   },
   {
    "duration": -688,
    "start_time": "2022-03-14T19:54:15.403Z"
   },
   {
    "duration": -693,
    "start_time": "2022-03-14T19:54:15.408Z"
   },
   {
    "duration": -707,
    "start_time": "2022-03-14T19:54:15.423Z"
   },
   {
    "duration": -712,
    "start_time": "2022-03-14T19:54:15.429Z"
   },
   {
    "duration": -716,
    "start_time": "2022-03-14T19:54:15.434Z"
   },
   {
    "duration": -722,
    "start_time": "2022-03-14T19:54:15.441Z"
   },
   {
    "duration": 7,
    "start_time": "2022-03-14T19:56:29.444Z"
   },
   {
    "duration": 5,
    "start_time": "2022-03-14T19:59:36.158Z"
   },
   {
    "duration": 14,
    "start_time": "2022-03-14T19:59:44.222Z"
   },
   {
    "duration": 8,
    "start_time": "2022-03-14T20:00:09.602Z"
   },
   {
    "duration": 5,
    "start_time": "2022-03-14T20:00:21.447Z"
   },
   {
    "duration": 4,
    "start_time": "2022-03-14T20:27:56.386Z"
   },
   {
    "duration": 4,
    "start_time": "2022-03-14T20:29:36.508Z"
   },
   {
    "duration": 4,
    "start_time": "2022-03-14T20:30:41.660Z"
   },
   {
    "duration": 497,
    "start_time": "2022-03-14T20:33:50.906Z"
   },
   {
    "duration": 5,
    "start_time": "2022-03-14T20:33:57.807Z"
   },
   {
    "duration": 9339,
    "start_time": "2022-03-14T20:34:00.531Z"
   },
   {
    "duration": 4,
    "start_time": "2022-03-14T20:35:39.405Z"
   },
   {
    "duration": 12445,
    "start_time": "2022-03-14T20:35:43.039Z"
   },
   {
    "duration": 4,
    "start_time": "2022-03-14T20:36:08.761Z"
   },
   {
    "duration": 197,
    "start_time": "2022-03-14T20:36:11.770Z"
   },
   {
    "duration": 190,
    "start_time": "2022-03-14T20:36:27.165Z"
   },
   {
    "duration": 7,
    "start_time": "2022-03-14T20:38:53.437Z"
   },
   {
    "duration": 18,
    "start_time": "2022-03-14T20:39:32.892Z"
   },
   {
    "duration": 19,
    "start_time": "2022-03-14T20:40:36.050Z"
   },
   {
    "duration": 17,
    "start_time": "2022-03-14T20:41:15.100Z"
   },
   {
    "duration": 8,
    "start_time": "2022-03-14T20:49:36.411Z"
   },
   {
    "duration": 42,
    "start_time": "2022-03-14T20:49:45.774Z"
   },
   {
    "duration": 483,
    "start_time": "2022-03-14T20:53:42.581Z"
   },
   {
    "duration": 7,
    "start_time": "2022-03-14T20:53:52.912Z"
   },
   {
    "duration": 19,
    "start_time": "2022-03-14T20:53:56.092Z"
   },
   {
    "duration": 356,
    "start_time": "2022-03-15T09:22:11.543Z"
   },
   {
    "duration": 1085,
    "start_time": "2022-03-15T09:22:18.975Z"
   },
   {
    "duration": 173,
    "start_time": "2022-03-15T09:22:20.062Z"
   },
   {
    "duration": 130,
    "start_time": "2022-03-15T09:22:20.237Z"
   },
   {
    "duration": 95,
    "start_time": "2022-03-15T09:22:20.369Z"
   },
   {
    "duration": 24,
    "start_time": "2022-03-15T09:22:20.465Z"
   },
   {
    "duration": 43,
    "start_time": "2022-03-15T09:22:20.490Z"
   },
   {
    "duration": 27,
    "start_time": "2022-03-15T09:22:20.535Z"
   },
   {
    "duration": 20,
    "start_time": "2022-03-15T09:22:20.565Z"
   },
   {
    "duration": 17,
    "start_time": "2022-03-15T09:22:20.587Z"
   },
   {
    "duration": 4,
    "start_time": "2022-03-15T09:22:20.606Z"
   },
   {
    "duration": 4,
    "start_time": "2022-03-15T09:22:20.611Z"
   },
   {
    "duration": 5,
    "start_time": "2022-03-15T09:22:20.617Z"
   },
   {
    "duration": 9,
    "start_time": "2022-03-15T09:22:20.624Z"
   },
   {
    "duration": 4,
    "start_time": "2022-03-15T09:22:20.635Z"
   },
   {
    "duration": 14,
    "start_time": "2022-03-15T09:22:20.641Z"
   },
   {
    "duration": 60,
    "start_time": "2022-03-15T09:22:20.656Z"
   },
   {
    "duration": 21,
    "start_time": "2022-03-15T09:22:20.717Z"
   },
   {
    "duration": 2,
    "start_time": "2022-03-15T09:22:20.740Z"
   },
   {
    "duration": 6,
    "start_time": "2022-03-15T09:22:20.743Z"
   },
   {
    "duration": 68,
    "start_time": "2022-03-15T09:22:20.750Z"
   },
   {
    "duration": 27,
    "start_time": "2022-03-15T09:22:20.820Z"
   },
   {
    "duration": 23,
    "start_time": "2022-03-15T09:22:20.849Z"
   },
   {
    "duration": 40,
    "start_time": "2022-03-15T09:22:20.876Z"
   },
   {
    "duration": 17,
    "start_time": "2022-03-15T09:22:20.918Z"
   },
   {
    "duration": 22,
    "start_time": "2022-03-15T09:22:20.936Z"
   },
   {
    "duration": 7,
    "start_time": "2022-03-15T09:22:20.960Z"
   },
   {
    "duration": 44,
    "start_time": "2022-03-15T09:22:20.969Z"
   },
   {
    "duration": 5,
    "start_time": "2022-03-15T09:22:21.015Z"
   },
   {
    "duration": 350,
    "start_time": "2022-03-15T09:22:21.022Z"
   },
   {
    "duration": 28,
    "start_time": "2022-03-15T09:22:21.374Z"
   },
   {
    "duration": 3,
    "start_time": "2022-03-15T09:22:21.404Z"
   },
   {
    "duration": 5,
    "start_time": "2022-03-15T09:22:21.409Z"
   },
   {
    "duration": 4,
    "start_time": "2022-03-15T09:22:21.416Z"
   },
   {
    "duration": 5,
    "start_time": "2022-03-15T09:22:21.421Z"
   },
   {
    "duration": 14,
    "start_time": "2022-03-15T09:22:21.428Z"
   },
   {
    "duration": 5,
    "start_time": "2022-03-15T09:22:21.444Z"
   },
   {
    "duration": 10,
    "start_time": "2022-03-15T09:22:21.450Z"
   },
   {
    "duration": 16,
    "start_time": "2022-03-15T09:22:21.462Z"
   },
   {
    "duration": 7,
    "start_time": "2022-03-15T09:22:21.479Z"
   },
   {
    "duration": 7,
    "start_time": "2022-03-15T09:22:21.488Z"
   },
   {
    "duration": 6,
    "start_time": "2022-03-15T09:22:21.501Z"
   },
   {
    "duration": 7,
    "start_time": "2022-03-15T09:22:21.508Z"
   },
   {
    "duration": 7,
    "start_time": "2022-03-15T09:22:21.516Z"
   },
   {
    "duration": 13,
    "start_time": "2022-03-15T09:22:21.525Z"
   },
   {
    "duration": 19,
    "start_time": "2022-03-15T09:22:21.540Z"
   },
   {
    "duration": 437,
    "start_time": "2022-03-15T09:22:21.560Z"
   },
   {
    "duration": -1386,
    "start_time": "2022-03-15T09:22:23.385Z"
   },
   {
    "duration": -1390,
    "start_time": "2022-03-15T09:22:23.390Z"
   },
   {
    "duration": -1394,
    "start_time": "2022-03-15T09:22:23.395Z"
   },
   {
    "duration": -1398,
    "start_time": "2022-03-15T09:22:23.400Z"
   },
   {
    "duration": -1401,
    "start_time": "2022-03-15T09:22:23.404Z"
   },
   {
    "duration": -1407,
    "start_time": "2022-03-15T09:22:23.410Z"
   },
   {
    "duration": -1430,
    "start_time": "2022-03-15T09:22:23.434Z"
   },
   {
    "duration": -1437,
    "start_time": "2022-03-15T09:22:23.442Z"
   },
   {
    "duration": -1441,
    "start_time": "2022-03-15T09:22:23.447Z"
   },
   {
    "duration": -1445,
    "start_time": "2022-03-15T09:22:23.452Z"
   },
   {
    "duration": -1449,
    "start_time": "2022-03-15T09:22:23.457Z"
   },
   {
    "duration": -1454,
    "start_time": "2022-03-15T09:22:23.462Z"
   },
   {
    "duration": -1458,
    "start_time": "2022-03-15T09:22:23.467Z"
   },
   {
    "duration": -1462,
    "start_time": "2022-03-15T09:22:23.472Z"
   },
   {
    "duration": -1465,
    "start_time": "2022-03-15T09:22:23.476Z"
   },
   {
    "duration": -1470,
    "start_time": "2022-03-15T09:22:23.481Z"
   },
   {
    "duration": -1474,
    "start_time": "2022-03-15T09:22:23.486Z"
   },
   {
    "duration": -1478,
    "start_time": "2022-03-15T09:22:23.491Z"
   },
   {
    "duration": -1482,
    "start_time": "2022-03-15T09:22:23.496Z"
   },
   {
    "duration": -1485,
    "start_time": "2022-03-15T09:22:23.500Z"
   },
   {
    "duration": -1489,
    "start_time": "2022-03-15T09:22:23.505Z"
   },
   {
    "duration": -1493,
    "start_time": "2022-03-15T09:22:23.510Z"
   },
   {
    "duration": 304,
    "start_time": "2022-03-15T12:09:35.791Z"
   },
   {
    "duration": 317,
    "start_time": "2022-03-15T12:09:43.977Z"
   },
   {
    "duration": 918,
    "start_time": "2022-03-15T12:10:04.420Z"
   },
   {
    "duration": 921,
    "start_time": "2022-03-15T12:22:08.913Z"
   },
   {
    "duration": 293,
    "start_time": "2022-03-15T12:24:25.198Z"
   },
   {
    "duration": 292,
    "start_time": "2022-03-15T12:24:57.146Z"
   },
   {
    "duration": 311,
    "start_time": "2022-03-15T12:28:25.323Z"
   },
   {
    "duration": 594,
    "start_time": "2022-03-15T12:28:49.888Z"
   },
   {
    "duration": 660,
    "start_time": "2022-03-15T12:29:25.198Z"
   },
   {
    "duration": 313,
    "start_time": "2022-03-15T14:17:11.813Z"
   },
   {
    "duration": 309,
    "start_time": "2022-03-15T14:18:57.625Z"
   },
   {
    "duration": 320,
    "start_time": "2022-03-15T14:20:28.481Z"
   },
   {
    "duration": 300,
    "start_time": "2022-03-15T14:33:35.176Z"
   },
   {
    "duration": 824,
    "start_time": "2022-03-15T14:40:23.408Z"
   },
   {
    "duration": 275,
    "start_time": "2022-03-15T14:43:21.820Z"
   },
   {
    "duration": 319,
    "start_time": "2022-03-15T14:43:31.498Z"
   },
   {
    "duration": 270,
    "start_time": "2022-03-15T14:51:16.597Z"
   },
   {
    "duration": 12,
    "start_time": "2022-03-15T16:03:32.269Z"
   },
   {
    "duration": 12,
    "start_time": "2022-03-15T16:04:49.890Z"
   },
   {
    "duration": 311,
    "start_time": "2022-03-15T16:06:20.978Z"
   },
   {
    "duration": 268,
    "start_time": "2022-03-15T16:06:35.111Z"
   },
   {
    "duration": 344,
    "start_time": "2022-03-15T16:06:43.219Z"
   },
   {
    "duration": 274,
    "start_time": "2022-03-15T16:08:43.134Z"
   },
   {
    "duration": 12,
    "start_time": "2022-03-15T16:13:41.309Z"
   },
   {
    "duration": 272,
    "start_time": "2022-03-15T16:15:02.160Z"
   },
   {
    "duration": 262,
    "start_time": "2022-03-15T16:15:22.714Z"
   },
   {
    "duration": 268,
    "start_time": "2022-03-15T16:16:59.334Z"
   },
   {
    "duration": 341,
    "start_time": "2022-03-15T16:17:05.331Z"
   },
   {
    "duration": 12,
    "start_time": "2022-03-15T16:26:32.816Z"
   },
   {
    "duration": 210,
    "start_time": "2022-03-15T16:32:31.065Z"
   },
   {
    "duration": 238,
    "start_time": "2022-03-15T16:32:44.573Z"
   },
   {
    "duration": 654,
    "start_time": "2022-03-15T16:40:42.926Z"
   },
   {
    "duration": 2,
    "start_time": "2022-03-15T16:40:55.055Z"
   },
   {
    "duration": 6,
    "start_time": "2022-03-15T16:40:57.097Z"
   },
   {
    "duration": 10,
    "start_time": "2022-03-15T16:41:54.497Z"
   },
   {
    "duration": 8,
    "start_time": "2022-03-15T16:42:08.531Z"
   },
   {
    "duration": 956,
    "start_time": "2022-03-15T16:43:03.226Z"
   },
   {
    "duration": 166,
    "start_time": "2022-03-15T16:43:04.184Z"
   },
   {
    "duration": 132,
    "start_time": "2022-03-15T16:43:04.353Z"
   },
   {
    "duration": 97,
    "start_time": "2022-03-15T16:43:04.488Z"
   },
   {
    "duration": 23,
    "start_time": "2022-03-15T16:43:04.587Z"
   },
   {
    "duration": 36,
    "start_time": "2022-03-15T16:43:04.612Z"
   },
   {
    "duration": 29,
    "start_time": "2022-03-15T16:43:04.650Z"
   },
   {
    "duration": 24,
    "start_time": "2022-03-15T16:43:04.682Z"
   },
   {
    "duration": 18,
    "start_time": "2022-03-15T16:43:04.708Z"
   },
   {
    "duration": 4,
    "start_time": "2022-03-15T16:43:04.728Z"
   },
   {
    "duration": 5,
    "start_time": "2022-03-15T16:43:04.733Z"
   },
   {
    "duration": 6,
    "start_time": "2022-03-15T16:43:04.739Z"
   },
   {
    "duration": 10,
    "start_time": "2022-03-15T16:43:04.747Z"
   },
   {
    "duration": 6,
    "start_time": "2022-03-15T16:43:04.758Z"
   },
   {
    "duration": 47,
    "start_time": "2022-03-15T16:43:04.766Z"
   },
   {
    "duration": 25,
    "start_time": "2022-03-15T16:43:04.815Z"
   },
   {
    "duration": 18,
    "start_time": "2022-03-15T16:43:04.842Z"
   },
   {
    "duration": 2,
    "start_time": "2022-03-15T16:43:04.862Z"
   },
   {
    "duration": 7,
    "start_time": "2022-03-15T16:43:04.865Z"
   },
   {
    "duration": 74,
    "start_time": "2022-03-15T16:43:04.873Z"
   },
   {
    "duration": 27,
    "start_time": "2022-03-15T16:43:04.948Z"
   },
   {
    "duration": 37,
    "start_time": "2022-03-15T16:43:04.977Z"
   },
   {
    "duration": 18,
    "start_time": "2022-03-15T16:43:05.018Z"
   },
   {
    "duration": 17,
    "start_time": "2022-03-15T16:43:05.039Z"
   },
   {
    "duration": 52,
    "start_time": "2022-03-15T16:43:05.058Z"
   },
   {
    "duration": 6,
    "start_time": "2022-03-15T16:43:05.111Z"
   },
   {
    "duration": 11,
    "start_time": "2022-03-15T16:43:05.119Z"
   },
   {
    "duration": 3,
    "start_time": "2022-03-15T16:43:05.132Z"
   },
   {
    "duration": 226,
    "start_time": "2022-03-15T16:43:05.137Z"
   },
   {
    "duration": 20,
    "start_time": "2022-03-15T16:43:05.364Z"
   },
   {
    "duration": 2,
    "start_time": "2022-03-15T16:43:05.385Z"
   },
   {
    "duration": 12,
    "start_time": "2022-03-15T16:43:05.389Z"
   },
   {
    "duration": 2,
    "start_time": "2022-03-15T16:43:05.402Z"
   },
   {
    "duration": 6,
    "start_time": "2022-03-15T16:43:05.405Z"
   },
   {
    "duration": 6,
    "start_time": "2022-03-15T16:43:05.412Z"
   },
   {
    "duration": 6,
    "start_time": "2022-03-15T16:43:05.419Z"
   },
   {
    "duration": 9,
    "start_time": "2022-03-15T16:43:05.426Z"
   },
   {
    "duration": 8,
    "start_time": "2022-03-15T16:43:05.436Z"
   },
   {
    "duration": 9,
    "start_time": "2022-03-15T16:43:05.445Z"
   },
   {
    "duration": 9,
    "start_time": "2022-03-15T16:43:05.455Z"
   },
   {
    "duration": 10,
    "start_time": "2022-03-15T16:43:05.466Z"
   },
   {
    "duration": 11,
    "start_time": "2022-03-15T16:43:05.477Z"
   },
   {
    "duration": 9,
    "start_time": "2022-03-15T16:43:05.490Z"
   },
   {
    "duration": 15,
    "start_time": "2022-03-15T16:43:05.500Z"
   },
   {
    "duration": 309,
    "start_time": "2022-03-15T16:43:05.517Z"
   },
   {
    "duration": 455,
    "start_time": "2022-03-15T16:43:05.828Z"
   },
   {
    "duration": 280,
    "start_time": "2022-03-15T16:43:06.285Z"
   },
   {
    "duration": 380,
    "start_time": "2022-03-15T16:43:06.567Z"
   },
   {
    "duration": -751,
    "start_time": "2022-03-15T16:43:07.700Z"
   },
   {
    "duration": -756,
    "start_time": "2022-03-15T16:43:07.706Z"
   },
   {
    "duration": -761,
    "start_time": "2022-03-15T16:43:07.712Z"
   },
   {
    "duration": -775,
    "start_time": "2022-03-15T16:43:07.727Z"
   },
   {
    "duration": -780,
    "start_time": "2022-03-15T16:43:07.733Z"
   },
   {
    "duration": -785,
    "start_time": "2022-03-15T16:43:07.739Z"
   },
   {
    "duration": -789,
    "start_time": "2022-03-15T16:43:07.744Z"
   },
   {
    "duration": -793,
    "start_time": "2022-03-15T16:43:07.749Z"
   },
   {
    "duration": -798,
    "start_time": "2022-03-15T16:43:07.755Z"
   },
   {
    "duration": -802,
    "start_time": "2022-03-15T16:43:07.760Z"
   },
   {
    "duration": -815,
    "start_time": "2022-03-15T16:43:07.773Z"
   },
   {
    "duration": -819,
    "start_time": "2022-03-15T16:43:07.778Z"
   },
   {
    "duration": -823,
    "start_time": "2022-03-15T16:43:07.783Z"
   },
   {
    "duration": -828,
    "start_time": "2022-03-15T16:43:07.789Z"
   },
   {
    "duration": -832,
    "start_time": "2022-03-15T16:43:07.794Z"
   },
   {
    "duration": -836,
    "start_time": "2022-03-15T16:43:07.799Z"
   },
   {
    "duration": -841,
    "start_time": "2022-03-15T16:43:07.805Z"
   },
   {
    "duration": -845,
    "start_time": "2022-03-15T16:43:07.810Z"
   },
   {
    "duration": -851,
    "start_time": "2022-03-15T16:43:07.816Z"
   },
   {
    "duration": -856,
    "start_time": "2022-03-15T16:43:07.822Z"
   },
   {
    "duration": -860,
    "start_time": "2022-03-15T16:43:07.827Z"
   },
   {
    "duration": -864,
    "start_time": "2022-03-15T16:43:07.832Z"
   },
   {
    "duration": -869,
    "start_time": "2022-03-15T16:43:07.838Z"
   },
   {
    "duration": 1100,
    "start_time": "2022-03-15T16:44:47.174Z"
   },
   {
    "duration": 172,
    "start_time": "2022-03-15T16:44:48.276Z"
   },
   {
    "duration": 134,
    "start_time": "2022-03-15T16:44:48.450Z"
   },
   {
    "duration": 99,
    "start_time": "2022-03-15T16:44:48.586Z"
   },
   {
    "duration": 24,
    "start_time": "2022-03-15T16:44:48.687Z"
   },
   {
    "duration": 37,
    "start_time": "2022-03-15T16:44:48.713Z"
   },
   {
    "duration": 30,
    "start_time": "2022-03-15T16:44:48.751Z"
   },
   {
    "duration": 26,
    "start_time": "2022-03-15T16:44:48.784Z"
   },
   {
    "duration": 18,
    "start_time": "2022-03-15T16:44:48.812Z"
   },
   {
    "duration": 4,
    "start_time": "2022-03-15T16:44:48.832Z"
   },
   {
    "duration": 5,
    "start_time": "2022-03-15T16:44:48.838Z"
   },
   {
    "duration": 5,
    "start_time": "2022-03-15T16:44:48.845Z"
   },
   {
    "duration": 10,
    "start_time": "2022-03-15T16:44:48.852Z"
   },
   {
    "duration": 38,
    "start_time": "2022-03-15T16:44:48.864Z"
   },
   {
    "duration": 15,
    "start_time": "2022-03-15T16:44:48.904Z"
   },
   {
    "duration": 26,
    "start_time": "2022-03-15T16:44:48.920Z"
   },
   {
    "duration": 19,
    "start_time": "2022-03-15T16:44:48.948Z"
   },
   {
    "duration": 2,
    "start_time": "2022-03-15T16:44:48.969Z"
   },
   {
    "duration": 4,
    "start_time": "2022-03-15T16:44:49.000Z"
   },
   {
    "duration": 44,
    "start_time": "2022-03-15T16:44:49.006Z"
   },
   {
    "duration": 27,
    "start_time": "2022-03-15T16:44:49.052Z"
   },
   {
    "duration": 41,
    "start_time": "2022-03-15T16:44:49.081Z"
   },
   {
    "duration": 21,
    "start_time": "2022-03-15T16:44:49.126Z"
   },
   {
    "duration": 18,
    "start_time": "2022-03-15T16:44:49.149Z"
   },
   {
    "duration": 48,
    "start_time": "2022-03-15T16:44:49.168Z"
   },
   {
    "duration": 6,
    "start_time": "2022-03-15T16:44:49.218Z"
   },
   {
    "duration": 11,
    "start_time": "2022-03-15T16:44:49.225Z"
   },
   {
    "duration": 3,
    "start_time": "2022-03-15T16:44:49.238Z"
   },
   {
    "duration": 215,
    "start_time": "2022-03-15T16:44:49.243Z"
   },
   {
    "duration": 21,
    "start_time": "2022-03-15T16:44:49.459Z"
   },
   {
    "duration": 2,
    "start_time": "2022-03-15T16:44:49.482Z"
   },
   {
    "duration": 6,
    "start_time": "2022-03-15T16:44:49.485Z"
   },
   {
    "duration": 2,
    "start_time": "2022-03-15T16:44:49.501Z"
   },
   {
    "duration": 6,
    "start_time": "2022-03-15T16:44:49.504Z"
   },
   {
    "duration": 5,
    "start_time": "2022-03-15T16:44:49.511Z"
   },
   {
    "duration": 6,
    "start_time": "2022-03-15T16:44:49.517Z"
   },
   {
    "duration": 8,
    "start_time": "2022-03-15T16:44:49.524Z"
   },
   {
    "duration": 7,
    "start_time": "2022-03-15T16:44:49.534Z"
   },
   {
    "duration": 11,
    "start_time": "2022-03-15T16:44:49.542Z"
   },
   {
    "duration": 8,
    "start_time": "2022-03-15T16:44:49.554Z"
   },
   {
    "duration": 10,
    "start_time": "2022-03-15T16:44:49.563Z"
   },
   {
    "duration": 9,
    "start_time": "2022-03-15T16:44:49.574Z"
   },
   {
    "duration": 8,
    "start_time": "2022-03-15T16:44:49.584Z"
   },
   {
    "duration": 18,
    "start_time": "2022-03-15T16:44:49.594Z"
   },
   {
    "duration": 312,
    "start_time": "2022-03-15T16:44:49.613Z"
   },
   {
    "duration": 455,
    "start_time": "2022-03-15T16:44:49.927Z"
   },
   {
    "duration": 280,
    "start_time": "2022-03-15T16:44:50.384Z"
   },
   {
    "duration": 12,
    "start_time": "2022-03-15T16:44:50.666Z"
   },
   {
    "duration": 293,
    "start_time": "2022-03-15T16:44:50.680Z"
   },
   {
    "duration": 12,
    "start_time": "2022-03-15T16:44:50.974Z"
   },
   {
    "duration": 394,
    "start_time": "2022-03-15T16:44:50.988Z"
   },
   {
    "duration": 20,
    "start_time": "2022-03-15T16:44:51.384Z"
   },
   {
    "duration": 391,
    "start_time": "2022-03-15T16:44:51.405Z"
   },
   {
    "duration": -767,
    "start_time": "2022-03-15T16:44:52.565Z"
   },
   {
    "duration": -770,
    "start_time": "2022-03-15T16:44:52.570Z"
   },
   {
    "duration": -775,
    "start_time": "2022-03-15T16:44:52.576Z"
   },
   {
    "duration": -779,
    "start_time": "2022-03-15T16:44:52.582Z"
   },
   {
    "duration": -783,
    "start_time": "2022-03-15T16:44:52.587Z"
   },
   {
    "duration": -789,
    "start_time": "2022-03-15T16:44:52.594Z"
   },
   {
    "duration": -791,
    "start_time": "2022-03-15T16:44:52.598Z"
   },
   {
    "duration": -797,
    "start_time": "2022-03-15T16:44:52.605Z"
   },
   {
    "duration": -801,
    "start_time": "2022-03-15T16:44:52.610Z"
   },
   {
    "duration": -805,
    "start_time": "2022-03-15T16:44:52.616Z"
   },
   {
    "duration": -809,
    "start_time": "2022-03-15T16:44:52.621Z"
   },
   {
    "duration": -823,
    "start_time": "2022-03-15T16:44:52.636Z"
   },
   {
    "duration": -826,
    "start_time": "2022-03-15T16:44:52.641Z"
   },
   {
    "duration": -831,
    "start_time": "2022-03-15T16:44:52.647Z"
   },
   {
    "duration": -835,
    "start_time": "2022-03-15T16:44:52.652Z"
   },
   {
    "duration": -838,
    "start_time": "2022-03-15T16:44:52.657Z"
   },
   {
    "duration": -842,
    "start_time": "2022-03-15T16:44:52.662Z"
   },
   {
    "duration": 1050,
    "start_time": "2022-03-15T16:45:38.647Z"
   },
   {
    "duration": 165,
    "start_time": "2022-03-15T16:45:39.699Z"
   },
   {
    "duration": 133,
    "start_time": "2022-03-15T16:45:39.866Z"
   },
   {
    "duration": 96,
    "start_time": "2022-03-15T16:45:40.002Z"
   },
   {
    "duration": 25,
    "start_time": "2022-03-15T16:45:40.100Z"
   },
   {
    "duration": 38,
    "start_time": "2022-03-15T16:45:40.126Z"
   },
   {
    "duration": 27,
    "start_time": "2022-03-15T16:45:40.166Z"
   },
   {
    "duration": 20,
    "start_time": "2022-03-15T16:45:40.196Z"
   },
   {
    "duration": 16,
    "start_time": "2022-03-15T16:45:40.218Z"
   },
   {
    "duration": 3,
    "start_time": "2022-03-15T16:45:40.235Z"
   },
   {
    "duration": 6,
    "start_time": "2022-03-15T16:45:40.239Z"
   },
   {
    "duration": 5,
    "start_time": "2022-03-15T16:45:40.246Z"
   },
   {
    "duration": 9,
    "start_time": "2022-03-15T16:45:40.253Z"
   },
   {
    "duration": 8,
    "start_time": "2022-03-15T16:45:40.263Z"
   },
   {
    "duration": 35,
    "start_time": "2022-03-15T16:45:40.272Z"
   },
   {
    "duration": 26,
    "start_time": "2022-03-15T16:45:40.308Z"
   },
   {
    "duration": 20,
    "start_time": "2022-03-15T16:45:40.335Z"
   },
   {
    "duration": 2,
    "start_time": "2022-03-15T16:45:40.356Z"
   },
   {
    "duration": 8,
    "start_time": "2022-03-15T16:45:40.359Z"
   },
   {
    "duration": 69,
    "start_time": "2022-03-15T16:45:40.368Z"
   },
   {
    "duration": 29,
    "start_time": "2022-03-15T16:45:40.438Z"
   },
   {
    "duration": 36,
    "start_time": "2022-03-15T16:45:40.468Z"
   },
   {
    "duration": 19,
    "start_time": "2022-03-15T16:45:40.508Z"
   },
   {
    "duration": 14,
    "start_time": "2022-03-15T16:45:40.529Z"
   },
   {
    "duration": 20,
    "start_time": "2022-03-15T16:45:40.545Z"
   },
   {
    "duration": 5,
    "start_time": "2022-03-15T16:45:40.567Z"
   },
   {
    "duration": 36,
    "start_time": "2022-03-15T16:45:40.574Z"
   },
   {
    "duration": 3,
    "start_time": "2022-03-15T16:45:40.612Z"
   },
   {
    "duration": 202,
    "start_time": "2022-03-15T16:45:40.617Z"
   },
   {
    "duration": 20,
    "start_time": "2022-03-15T16:45:40.821Z"
   },
   {
    "duration": 2,
    "start_time": "2022-03-15T16:45:40.842Z"
   },
   {
    "duration": 3,
    "start_time": "2022-03-15T16:45:40.846Z"
   },
   {
    "duration": 4,
    "start_time": "2022-03-15T16:45:40.851Z"
   },
   {
    "duration": 5,
    "start_time": "2022-03-15T16:45:40.856Z"
   },
   {
    "duration": 4,
    "start_time": "2022-03-15T16:45:40.863Z"
   },
   {
    "duration": 9,
    "start_time": "2022-03-15T16:45:40.868Z"
   },
   {
    "duration": 26,
    "start_time": "2022-03-15T16:45:40.878Z"
   },
   {
    "duration": 7,
    "start_time": "2022-03-15T16:45:40.906Z"
   },
   {
    "duration": 10,
    "start_time": "2022-03-15T16:45:40.914Z"
   },
   {
    "duration": 7,
    "start_time": "2022-03-15T16:45:40.925Z"
   },
   {
    "duration": 9,
    "start_time": "2022-03-15T16:45:40.933Z"
   },
   {
    "duration": 8,
    "start_time": "2022-03-15T16:45:40.944Z"
   },
   {
    "duration": 9,
    "start_time": "2022-03-15T16:45:40.953Z"
   },
   {
    "duration": 14,
    "start_time": "2022-03-15T16:45:40.964Z"
   },
   {
    "duration": 313,
    "start_time": "2022-03-15T16:45:40.979Z"
   },
   {
    "duration": 454,
    "start_time": "2022-03-15T16:45:41.293Z"
   },
   {
    "duration": 381,
    "start_time": "2022-03-15T16:45:41.749Z"
   },
   {
    "duration": 12,
    "start_time": "2022-03-15T16:45:42.132Z"
   },
   {
    "duration": 295,
    "start_time": "2022-03-15T16:45:42.145Z"
   },
   {
    "duration": 11,
    "start_time": "2022-03-15T16:45:42.442Z"
   },
   {
    "duration": 326,
    "start_time": "2022-03-15T16:45:42.455Z"
   },
   {
    "duration": 11,
    "start_time": "2022-03-15T16:45:42.782Z"
   },
   {
    "duration": 3,
    "start_time": "2022-03-15T16:45:42.801Z"
   },
   {
    "duration": 7,
    "start_time": "2022-03-15T16:45:42.805Z"
   },
   {
    "duration": 8,
    "start_time": "2022-03-15T16:45:42.813Z"
   },
   {
    "duration": 5,
    "start_time": "2022-03-15T16:45:42.823Z"
   },
   {
    "duration": 989,
    "start_time": "2022-03-15T17:01:10.080Z"
   },
   {
    "duration": 169,
    "start_time": "2022-03-15T17:01:11.071Z"
   },
   {
    "duration": 127,
    "start_time": "2022-03-15T17:01:11.242Z"
   },
   {
    "duration": 90,
    "start_time": "2022-03-15T17:01:11.371Z"
   },
   {
    "duration": 23,
    "start_time": "2022-03-15T17:01:11.463Z"
   },
   {
    "duration": 36,
    "start_time": "2022-03-15T17:01:11.488Z"
   },
   {
    "duration": 28,
    "start_time": "2022-03-15T17:01:11.526Z"
   },
   {
    "duration": 21,
    "start_time": "2022-03-15T17:01:11.557Z"
   },
   {
    "duration": 21,
    "start_time": "2022-03-15T17:01:11.580Z"
   },
   {
    "duration": 4,
    "start_time": "2022-03-15T17:01:11.603Z"
   },
   {
    "duration": 4,
    "start_time": "2022-03-15T17:01:11.609Z"
   },
   {
    "duration": 5,
    "start_time": "2022-03-15T17:01:11.615Z"
   },
   {
    "duration": 10,
    "start_time": "2022-03-15T17:01:11.622Z"
   },
   {
    "duration": 5,
    "start_time": "2022-03-15T17:01:11.633Z"
   },
   {
    "duration": 13,
    "start_time": "2022-03-15T17:01:11.639Z"
   },
   {
    "duration": 53,
    "start_time": "2022-03-15T17:01:11.653Z"
   },
   {
    "duration": 19,
    "start_time": "2022-03-15T17:01:11.707Z"
   },
   {
    "duration": 2,
    "start_time": "2022-03-15T17:01:11.727Z"
   },
   {
    "duration": 7,
    "start_time": "2022-03-15T17:01:11.730Z"
   },
   {
    "duration": 62,
    "start_time": "2022-03-15T17:01:11.739Z"
   },
   {
    "duration": 29,
    "start_time": "2022-03-15T17:01:11.803Z"
   },
   {
    "duration": 23,
    "start_time": "2022-03-15T17:01:11.833Z"
   },
   {
    "duration": 42,
    "start_time": "2022-03-15T17:01:11.859Z"
   },
   {
    "duration": 16,
    "start_time": "2022-03-15T17:01:11.903Z"
   },
   {
    "duration": 21,
    "start_time": "2022-03-15T17:01:11.921Z"
   },
   {
    "duration": 6,
    "start_time": "2022-03-15T17:01:11.944Z"
   },
   {
    "duration": 10,
    "start_time": "2022-03-15T17:01:11.952Z"
   },
   {
    "duration": 3,
    "start_time": "2022-03-15T17:01:11.964Z"
   },
   {
    "duration": 233,
    "start_time": "2022-03-15T17:01:11.968Z"
   },
   {
    "duration": 21,
    "start_time": "2022-03-15T17:01:12.202Z"
   },
   {
    "duration": 2,
    "start_time": "2022-03-15T17:01:12.225Z"
   },
   {
    "duration": 5,
    "start_time": "2022-03-15T17:01:12.228Z"
   },
   {
    "duration": 4,
    "start_time": "2022-03-15T17:01:12.234Z"
   },
   {
    "duration": 5,
    "start_time": "2022-03-15T17:01:12.240Z"
   },
   {
    "duration": 7,
    "start_time": "2022-03-15T17:01:12.246Z"
   },
   {
    "duration": 7,
    "start_time": "2022-03-15T17:01:12.255Z"
   },
   {
    "duration": 8,
    "start_time": "2022-03-15T17:01:12.264Z"
   },
   {
    "duration": 8,
    "start_time": "2022-03-15T17:01:12.273Z"
   },
   {
    "duration": 19,
    "start_time": "2022-03-15T17:01:12.282Z"
   },
   {
    "duration": 6,
    "start_time": "2022-03-15T17:01:12.302Z"
   },
   {
    "duration": 10,
    "start_time": "2022-03-15T17:01:12.309Z"
   },
   {
    "duration": 8,
    "start_time": "2022-03-15T17:01:12.320Z"
   },
   {
    "duration": 10,
    "start_time": "2022-03-15T17:01:12.330Z"
   },
   {
    "duration": 13,
    "start_time": "2022-03-15T17:01:12.342Z"
   },
   {
    "duration": 317,
    "start_time": "2022-03-15T17:01:12.357Z"
   },
   {
    "duration": 661,
    "start_time": "2022-03-15T17:01:12.675Z"
   },
   {
    "duration": 283,
    "start_time": "2022-03-15T17:01:13.338Z"
   },
   {
    "duration": 12,
    "start_time": "2022-03-15T17:01:13.623Z"
   },
   {
    "duration": 288,
    "start_time": "2022-03-15T17:01:13.637Z"
   },
   {
    "duration": 12,
    "start_time": "2022-03-15T17:01:13.927Z"
   },
   {
    "duration": 320,
    "start_time": "2022-03-15T17:01:13.941Z"
   },
   {
    "duration": 11,
    "start_time": "2022-03-15T17:01:14.263Z"
   },
   {
    "duration": 2,
    "start_time": "2022-03-15T17:01:14.275Z"
   },
   {
    "duration": 23,
    "start_time": "2022-03-15T17:01:14.279Z"
   },
   {
    "duration": 7,
    "start_time": "2022-03-15T17:01:14.303Z"
   },
   {
    "duration": 7,
    "start_time": "2022-03-15T17:01:14.311Z"
   },
   {
    "duration": 1022,
    "start_time": "2022-03-15T19:25:42.930Z"
   },
   {
    "duration": 159,
    "start_time": "2022-03-15T19:25:43.954Z"
   },
   {
    "duration": 139,
    "start_time": "2022-03-15T19:25:44.115Z"
   },
   {
    "duration": 92,
    "start_time": "2022-03-15T19:25:44.256Z"
   },
   {
    "duration": 24,
    "start_time": "2022-03-15T19:25:44.350Z"
   },
   {
    "duration": 36,
    "start_time": "2022-03-15T19:25:44.376Z"
   },
   {
    "duration": 29,
    "start_time": "2022-03-15T19:25:44.414Z"
   },
   {
    "duration": 21,
    "start_time": "2022-03-15T19:25:44.445Z"
   },
   {
    "duration": 36,
    "start_time": "2022-03-15T19:25:44.469Z"
   },
   {
    "duration": 3,
    "start_time": "2022-03-15T19:25:44.507Z"
   },
   {
    "duration": 5,
    "start_time": "2022-03-15T19:25:44.512Z"
   },
   {
    "duration": 7,
    "start_time": "2022-03-15T19:25:44.518Z"
   },
   {
    "duration": 10,
    "start_time": "2022-03-15T19:25:44.526Z"
   },
   {
    "duration": 7,
    "start_time": "2022-03-15T19:25:44.537Z"
   },
   {
    "duration": 14,
    "start_time": "2022-03-15T19:25:44.546Z"
   },
   {
    "duration": 55,
    "start_time": "2022-03-15T19:25:44.561Z"
   },
   {
    "duration": 21,
    "start_time": "2022-03-15T19:25:44.618Z"
   },
   {
    "duration": 2,
    "start_time": "2022-03-15T19:25:44.640Z"
   },
   {
    "duration": 5,
    "start_time": "2022-03-15T19:25:44.644Z"
   },
   {
    "duration": 66,
    "start_time": "2022-03-15T19:25:44.651Z"
   },
   {
    "duration": 28,
    "start_time": "2022-03-15T19:25:44.719Z"
   },
   {
    "duration": 22,
    "start_time": "2022-03-15T19:25:44.749Z"
   },
   {
    "duration": 40,
    "start_time": "2022-03-15T19:25:44.773Z"
   },
   {
    "duration": 18,
    "start_time": "2022-03-15T19:25:44.814Z"
   },
   {
    "duration": 23,
    "start_time": "2022-03-15T19:25:44.833Z"
   },
   {
    "duration": 6,
    "start_time": "2022-03-15T19:25:44.858Z"
   },
   {
    "duration": 42,
    "start_time": "2022-03-15T19:25:44.867Z"
   },
   {
    "duration": 4,
    "start_time": "2022-03-15T19:25:44.911Z"
   },
   {
    "duration": 208,
    "start_time": "2022-03-15T19:25:44.916Z"
   },
   {
    "duration": 21,
    "start_time": "2022-03-15T19:25:45.125Z"
   },
   {
    "duration": 2,
    "start_time": "2022-03-15T19:25:45.148Z"
   },
   {
    "duration": 5,
    "start_time": "2022-03-15T19:25:45.151Z"
   },
   {
    "duration": 5,
    "start_time": "2022-03-15T19:25:45.157Z"
   },
   {
    "duration": 8,
    "start_time": "2022-03-15T19:25:45.163Z"
   },
   {
    "duration": 5,
    "start_time": "2022-03-15T19:25:45.172Z"
   },
   {
    "duration": 24,
    "start_time": "2022-03-15T19:25:45.178Z"
   },
   {
    "duration": 6,
    "start_time": "2022-03-15T19:25:45.204Z"
   },
   {
    "duration": 10,
    "start_time": "2022-03-15T19:25:45.212Z"
   },
   {
    "duration": 10,
    "start_time": "2022-03-15T19:25:45.223Z"
   },
   {
    "duration": 8,
    "start_time": "2022-03-15T19:25:45.235Z"
   },
   {
    "duration": 9,
    "start_time": "2022-03-15T19:25:45.245Z"
   },
   {
    "duration": 9,
    "start_time": "2022-03-15T19:25:45.256Z"
   },
   {
    "duration": 9,
    "start_time": "2022-03-15T19:25:45.267Z"
   },
   {
    "duration": 14,
    "start_time": "2022-03-15T19:25:45.277Z"
   },
   {
    "duration": 311,
    "start_time": "2022-03-15T19:25:45.292Z"
   },
   {
    "duration": 869,
    "start_time": "2022-03-15T19:25:45.605Z"
   },
   {
    "duration": 272,
    "start_time": "2022-03-15T19:25:46.476Z"
   },
   {
    "duration": 13,
    "start_time": "2022-03-15T19:25:46.749Z"
   },
   {
    "duration": 280,
    "start_time": "2022-03-15T19:25:46.763Z"
   },
   {
    "duration": 11,
    "start_time": "2022-03-15T19:25:47.044Z"
   },
   {
    "duration": 333,
    "start_time": "2022-03-15T19:25:47.057Z"
   },
   {
    "duration": 11,
    "start_time": "2022-03-15T19:25:47.400Z"
   },
   {
    "duration": 2,
    "start_time": "2022-03-15T19:25:47.412Z"
   },
   {
    "duration": 8,
    "start_time": "2022-03-15T19:25:47.416Z"
   },
   {
    "duration": 9,
    "start_time": "2022-03-15T19:25:47.426Z"
   },
   {
    "duration": 6,
    "start_time": "2022-03-15T19:25:47.436Z"
   },
   {
    "duration": 1194,
    "start_time": "2022-03-15T19:26:50.240Z"
   },
   {
    "duration": 229,
    "start_time": "2022-03-15T19:26:51.437Z"
   },
   {
    "duration": 190,
    "start_time": "2022-03-15T19:26:51.668Z"
   },
   {
    "duration": 131,
    "start_time": "2022-03-15T19:26:51.860Z"
   },
   {
    "duration": 28,
    "start_time": "2022-03-15T19:26:51.992Z"
   },
   {
    "duration": 34,
    "start_time": "2022-03-15T19:26:52.021Z"
   },
   {
    "duration": 26,
    "start_time": "2022-03-15T19:26:52.057Z"
   },
   {
    "duration": 21,
    "start_time": "2022-03-15T19:26:52.086Z"
   },
   {
    "duration": 17,
    "start_time": "2022-03-15T19:26:52.109Z"
   },
   {
    "duration": 5,
    "start_time": "2022-03-15T19:26:52.128Z"
   },
   {
    "duration": 4,
    "start_time": "2022-03-15T19:26:52.134Z"
   },
   {
    "duration": 6,
    "start_time": "2022-03-15T19:26:52.140Z"
   },
   {
    "duration": 11,
    "start_time": "2022-03-15T19:26:52.148Z"
   },
   {
    "duration": 5,
    "start_time": "2022-03-15T19:26:52.161Z"
   },
   {
    "duration": 49,
    "start_time": "2022-03-15T19:26:52.168Z"
   },
   {
    "duration": 34,
    "start_time": "2022-03-15T19:26:52.219Z"
   },
   {
    "duration": 26,
    "start_time": "2022-03-15T19:26:52.255Z"
   },
   {
    "duration": 18,
    "start_time": "2022-03-15T19:26:52.283Z"
   },
   {
    "duration": 4,
    "start_time": "2022-03-15T19:26:52.302Z"
   },
   {
    "duration": 45,
    "start_time": "2022-03-15T19:26:52.308Z"
   },
   {
    "duration": 47,
    "start_time": "2022-03-15T19:26:52.355Z"
   },
   {
    "duration": 23,
    "start_time": "2022-03-15T19:26:52.403Z"
   },
   {
    "duration": 19,
    "start_time": "2022-03-15T19:26:52.429Z"
   },
   {
    "duration": 17,
    "start_time": "2022-03-15T19:26:52.450Z"
   },
   {
    "duration": 52,
    "start_time": "2022-03-15T19:26:52.469Z"
   },
   {
    "duration": 7,
    "start_time": "2022-03-15T19:26:52.523Z"
   },
   {
    "duration": 13,
    "start_time": "2022-03-15T19:26:52.532Z"
   },
   {
    "duration": 4,
    "start_time": "2022-03-15T19:26:52.546Z"
   },
   {
    "duration": 227,
    "start_time": "2022-03-15T19:26:52.552Z"
   },
   {
    "duration": 25,
    "start_time": "2022-03-15T19:26:52.781Z"
   },
   {
    "duration": 2,
    "start_time": "2022-03-15T19:26:52.807Z"
   },
   {
    "duration": 5,
    "start_time": "2022-03-15T19:26:52.810Z"
   },
   {
    "duration": 7,
    "start_time": "2022-03-15T19:26:52.817Z"
   },
   {
    "duration": 5,
    "start_time": "2022-03-15T19:26:52.825Z"
   },
   {
    "duration": 7,
    "start_time": "2022-03-15T19:26:52.831Z"
   },
   {
    "duration": 5,
    "start_time": "2022-03-15T19:26:52.839Z"
   },
   {
    "duration": 9,
    "start_time": "2022-03-15T19:26:52.845Z"
   },
   {
    "duration": 9,
    "start_time": "2022-03-15T19:26:52.855Z"
   },
   {
    "duration": 7,
    "start_time": "2022-03-15T19:26:52.866Z"
   },
   {
    "duration": 7,
    "start_time": "2022-03-15T19:26:52.874Z"
   },
   {
    "duration": 24,
    "start_time": "2022-03-15T19:26:52.883Z"
   },
   {
    "duration": 9,
    "start_time": "2022-03-15T19:26:52.908Z"
   },
   {
    "duration": 7,
    "start_time": "2022-03-15T19:26:52.918Z"
   },
   {
    "duration": 14,
    "start_time": "2022-03-15T19:26:52.927Z"
   },
   {
    "duration": 299,
    "start_time": "2022-03-15T19:26:52.942Z"
   },
   {
    "duration": 863,
    "start_time": "2022-03-15T19:26:53.243Z"
   },
   {
    "duration": 286,
    "start_time": "2022-03-15T19:26:54.108Z"
   },
   {
    "duration": 14,
    "start_time": "2022-03-15T19:26:54.396Z"
   },
   {
    "duration": 284,
    "start_time": "2022-03-15T19:26:54.412Z"
   },
   {
    "duration": 13,
    "start_time": "2022-03-15T19:26:54.697Z"
   },
   {
    "duration": 332,
    "start_time": "2022-03-15T19:26:54.711Z"
   },
   {
    "duration": 11,
    "start_time": "2022-03-15T19:26:55.045Z"
   },
   {
    "duration": 3,
    "start_time": "2022-03-15T19:26:55.057Z"
   },
   {
    "duration": 12,
    "start_time": "2022-03-15T19:26:55.061Z"
   },
   {
    "duration": 29,
    "start_time": "2022-03-15T19:26:55.075Z"
   },
   {
    "duration": 6,
    "start_time": "2022-03-15T19:26:55.105Z"
   },
   {
    "duration": 26,
    "start_time": "2022-03-15T19:32:53.780Z"
   },
   {
    "duration": 18,
    "start_time": "2022-03-15T19:33:39.971Z"
   },
   {
    "duration": 1259,
    "start_time": "2022-11-25T15:44:06.026Z"
   },
   {
    "duration": 212,
    "start_time": "2022-11-25T15:44:07.287Z"
   },
   {
    "duration": 182,
    "start_time": "2022-11-25T15:44:07.501Z"
   },
   {
    "duration": 128,
    "start_time": "2022-11-25T15:44:07.684Z"
   },
   {
    "duration": 28,
    "start_time": "2022-11-25T15:44:07.814Z"
   },
   {
    "duration": 49,
    "start_time": "2022-11-25T15:44:07.844Z"
   },
   {
    "duration": 32,
    "start_time": "2022-11-25T15:44:07.895Z"
   },
   {
    "duration": 32,
    "start_time": "2022-11-25T15:44:07.929Z"
   },
   {
    "duration": 20,
    "start_time": "2022-11-25T15:44:07.963Z"
   },
   {
    "duration": 5,
    "start_time": "2022-11-25T15:44:07.985Z"
   },
   {
    "duration": 7,
    "start_time": "2022-11-25T15:44:07.991Z"
   },
   {
    "duration": 11,
    "start_time": "2022-11-25T15:44:07.999Z"
   },
   {
    "duration": 16,
    "start_time": "2022-11-25T15:44:08.012Z"
   },
   {
    "duration": 8,
    "start_time": "2022-11-25T15:44:08.030Z"
   },
   {
    "duration": 32,
    "start_time": "2022-11-25T15:44:08.039Z"
   },
   {
    "duration": 31,
    "start_time": "2022-11-25T15:44:08.073Z"
   },
   {
    "duration": 22,
    "start_time": "2022-11-25T15:44:08.106Z"
   },
   {
    "duration": 75,
    "start_time": "2022-11-25T15:44:08.130Z"
   },
   {
    "duration": 27,
    "start_time": "2022-11-25T15:44:08.207Z"
   },
   {
    "duration": 38,
    "start_time": "2022-11-25T15:44:08.236Z"
   },
   {
    "duration": 20,
    "start_time": "2022-11-25T15:44:08.275Z"
   },
   {
    "duration": 18,
    "start_time": "2022-11-25T15:44:08.297Z"
   },
   {
    "duration": 58,
    "start_time": "2022-11-25T15:44:08.317Z"
   },
   {
    "duration": 7,
    "start_time": "2022-11-25T15:44:08.376Z"
   },
   {
    "duration": 14,
    "start_time": "2022-11-25T15:44:08.385Z"
   },
   {
    "duration": 4,
    "start_time": "2022-11-25T15:44:08.401Z"
   },
   {
    "duration": 163,
    "start_time": "2022-11-25T15:44:08.407Z"
   },
   {
    "duration": 21,
    "start_time": "2022-11-25T15:44:08.573Z"
   },
   {
    "duration": 10,
    "start_time": "2022-11-25T15:44:08.595Z"
   },
   {
    "duration": 297,
    "start_time": "2022-11-25T15:44:08.606Z"
   },
   {
    "duration": 60,
    "start_time": "2022-11-25T15:44:08.904Z"
   },
   {
    "duration": 251,
    "start_time": "2022-11-25T15:44:08.966Z"
   },
   {
    "duration": 13,
    "start_time": "2022-11-25T15:44:09.219Z"
   },
   {
    "duration": 267,
    "start_time": "2022-11-25T15:44:09.234Z"
   },
   {
    "duration": 13,
    "start_time": "2022-11-25T15:44:09.503Z"
   },
   {
    "duration": 313,
    "start_time": "2022-11-25T15:44:09.518Z"
   },
   {
    "duration": 28,
    "start_time": "2022-11-25T15:44:09.833Z"
   },
   {
    "duration": 5,
    "start_time": "2022-11-25T15:44:09.862Z"
   },
   {
    "duration": 11,
    "start_time": "2022-11-25T15:44:09.869Z"
   },
   {
    "duration": 8,
    "start_time": "2022-11-25T15:44:09.882Z"
   },
   {
    "duration": 10,
    "start_time": "2022-11-25T15:44:09.892Z"
   }
  ],
  "kernelspec": {
   "display_name": "Python 3 (ipykernel)",
   "language": "python",
   "name": "python3"
  },
  "language_info": {
   "codemirror_mode": {
    "name": "ipython",
    "version": 3
   },
   "file_extension": ".py",
   "mimetype": "text/x-python",
   "name": "python",
   "nbconvert_exporter": "python",
   "pygments_lexer": "ipython3",
   "version": "3.9.5"
  },
  "toc": {
   "base_numbering": 1,
   "nav_menu": {},
   "number_sections": false,
   "sideBar": true,
   "skip_h1_title": false,
   "title_cell": "Table of Contents",
   "title_sidebar": "Contents",
   "toc_cell": false,
   "toc_position": {
    "height": "calc(100% - 180px)",
    "left": "10px",
    "top": "150px",
    "width": "348.352px"
   },
   "toc_section_display": true,
   "toc_window_display": true
  }
 },
 "nbformat": 4,
 "nbformat_minor": 2
}
