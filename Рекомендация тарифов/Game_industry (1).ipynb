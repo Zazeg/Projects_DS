{
 "cells": [
  {
   "cell_type": "markdown",
   "metadata": {
    "toc": true
   },
   "source": [
    "<h1>Содержание<span class=\"tocSkip\"></span></h1>\n",
    "<div class=\"toc\"><ul class=\"toc-item\"><li><span><a href=\"#Открытие-файла\" data-toc-modified-id=\"Открытие-файла-1\"><span class=\"toc-item-num\">1&nbsp;&nbsp;</span>Открытие файла</a></span></li><li><span><a href=\"#Предобработка-данных.\" data-toc-modified-id=\"Предобработка-данных.-2\"><span class=\"toc-item-num\">2&nbsp;&nbsp;</span>Предобработка данных.</a></span><ul class=\"toc-item\"><li><span><a href=\"#Замените-названия-столбцов-(приведите-к-нижнему-регистру)\" data-toc-modified-id=\"Замените-названия-столбцов-(приведите-к-нижнему-регистру)-2.1\"><span class=\"toc-item-num\">2.1&nbsp;&nbsp;</span>Замените названия столбцов (приведите к нижнему регистру)</a></span></li><li><span><a href=\"#Преобразуйте-данные-в-нужные-типы.-Опишите,-в-каких-столбцах-заменили-тип-данных-и-почему\" data-toc-modified-id=\"Преобразуйте-данные-в-нужные-типы.-Опишите,-в-каких-столбцах-заменили-тип-данных-и-почему-2.2\"><span class=\"toc-item-num\">2.2&nbsp;&nbsp;</span>Преобразуйте данные в нужные типы. Опишите, в каких столбцах заменили тип данных и почему</a></span></li><li><span><a href=\"#Обработайте-пропуски-при-необходимости:\" data-toc-modified-id=\"Обработайте-пропуски-при-необходимости:-2.3\"><span class=\"toc-item-num\">2.3&nbsp;&nbsp;</span>Обработайте пропуски при необходимости:</a></span></li><li><span><a href=\"#Посчитайте-суммарные-продажи-во-всех-регионах-и-запишите-их-в-отдельный-столбец\" data-toc-modified-id=\"Посчитайте-суммарные-продажи-во-всех-регионах-и-запишите-их-в-отдельный-столбец-2.4\"><span class=\"toc-item-num\">2.4&nbsp;&nbsp;</span>Посчитайте суммарные продажи во всех регионах и запишите их в отдельный столбец</a></span></li><li><span><a href=\"#Вывод\" data-toc-modified-id=\"Вывод-2.5\"><span class=\"toc-item-num\">2.5&nbsp;&nbsp;</span>Вывод</a></span></li></ul></li><li><span><a href=\"#Проведение-исследовательского-анализа-данных\" data-toc-modified-id=\"Проведение-исследовательского-анализа-данных-3\"><span class=\"toc-item-num\">3&nbsp;&nbsp;</span>Проведение исследовательского анализа данных</a></span><ul class=\"toc-item\"><li><span><a href=\"#Посмотрите,-сколько-игр-выпускалось-в-разные-годы.-Важны-ли-данные-за-все-периоды?\" data-toc-modified-id=\"Посмотрите,-сколько-игр-выпускалось-в-разные-годы.-Важны-ли-данные-за-все-периоды?-3.1\"><span class=\"toc-item-num\">3.1&nbsp;&nbsp;</span>Посмотрите, сколько игр выпускалось в разные годы. Важны ли данные за все периоды?</a></span></li><li><span><a href=\"#Посмотрите,-как-менялись-продажи-по-платформам.-Выберите-платформы-с-наибольшими-суммарными-продажами-и-постройте-распределение-по-годам.-За-какой-характерный-срок-появляются-новые-и-исчезают-старые-платформы?\" data-toc-modified-id=\"Посмотрите,-как-менялись-продажи-по-платформам.-Выберите-платформы-с-наибольшими-суммарными-продажами-и-постройте-распределение-по-годам.-За-какой-характерный-срок-появляются-новые-и-исчезают-старые-платформы?-3.2\"><span class=\"toc-item-num\">3.2&nbsp;&nbsp;</span>Посмотрите, как менялись продажи по платформам. Выберите платформы с наибольшими суммарными продажами и постройте распределение по годам. За какой характерный срок появляются новые и исчезают старые платформы?</a></span></li><li><span><a href=\"#Какие-платформы-лидируют-по-продажам,-растут-или-падают?-Выберите-несколько-потенциально-прибыльных-платформ.\" data-toc-modified-id=\"Какие-платформы-лидируют-по-продажам,-растут-или-падают?-Выберите-несколько-потенциально-прибыльных-платформ.-3.3\"><span class=\"toc-item-num\">3.3&nbsp;&nbsp;</span>Какие платформы лидируют по продажам, растут или падают? Выберите несколько потенциально прибыльных платформ.</a></span></li><li><span><a href=\"#Постройте-график-«ящик-с-усами»-по-глобальным-продажам-игр-в-разбивке-по-платформам.-Опишите-результат.\" data-toc-modified-id=\"Постройте-график-«ящик-с-усами»-по-глобальным-продажам-игр-в-разбивке-по-платформам.-Опишите-результат.-3.4\"><span class=\"toc-item-num\">3.4&nbsp;&nbsp;</span>Постройте график «ящик с усами» по глобальным продажам игр в разбивке по платформам. Опишите результат.</a></span></li><li><span><a href=\"#Посмотрите,-как-влияют-на-продажи-внутри-одной-популярной-платформы-отзывы-пользователей-и-критиков.-Постройте-диаграмму-рассеяния-и-посчитайте-корреляцию-между-отзывами-и-продажами.-Сформулируйте-выводы.\" data-toc-modified-id=\"Посмотрите,-как-влияют-на-продажи-внутри-одной-популярной-платформы-отзывы-пользователей-и-критиков.-Постройте-диаграмму-рассеяния-и-посчитайте-корреляцию-между-отзывами-и-продажами.-Сформулируйте-выводы.-3.5\"><span class=\"toc-item-num\">3.5&nbsp;&nbsp;</span>Посмотрите, как влияют на продажи внутри одной популярной платформы отзывы пользователей и критиков. Постройте диаграмму рассеяния и посчитайте корреляцию между отзывами и продажами. Сформулируйте выводы.</a></span></li><li><span><a href=\"#Соотнесите-выводы-с-продажами-игр-на-других-платформах.\" data-toc-modified-id=\"Соотнесите-выводы-с-продажами-игр-на-других-платформах.-3.6\"><span class=\"toc-item-num\">3.6&nbsp;&nbsp;</span>Соотнесите выводы с продажами игр на других платформах.</a></span></li><li><span><a href=\"#Посмотрите-на-общее-распределение-игр-по-жанрам.-Что-можно-сказать-о-самых-прибыльных-жанрах?-Выделяются-ли-жанры-с-высокими-и-низкими-продажами?\" data-toc-modified-id=\"Посмотрите-на-общее-распределение-игр-по-жанрам.-Что-можно-сказать-о-самых-прибыльных-жанрах?-Выделяются-ли-жанры-с-высокими-и-низкими-продажами?-3.7\"><span class=\"toc-item-num\">3.7&nbsp;&nbsp;</span>Посмотрите на общее распределение игр по жанрам. Что можно сказать о самых прибыльных жанрах? Выделяются ли жанры с высокими и низкими продажами?</a></span></li></ul></li><li><span><a href=\"#Составление-портрета-пользователя-каждого-региона\" data-toc-modified-id=\"Составление-портрета-пользователя-каждого-региона-4\"><span class=\"toc-item-num\">4&nbsp;&nbsp;</span>Составление портрета пользователя каждого региона</a></span><ul class=\"toc-item\"><li><span><a href=\"#Самые-популярные-платформы\" data-toc-modified-id=\"Самые-популярные-платформы-4.1\"><span class=\"toc-item-num\">4.1&nbsp;&nbsp;</span>Самые популярные платформы</a></span></li><li><span><a href=\"#Самые-популярные-жанры\" data-toc-modified-id=\"Самые-популярные-жанры-4.2\"><span class=\"toc-item-num\">4.2&nbsp;&nbsp;</span>Самые популярные жанры</a></span></li><li><span><a href=\"#Влияет-ли-рейтинг-ESRB-на-продажи-в-отдельном-регионе?\" data-toc-modified-id=\"Влияет-ли-рейтинг-ESRB-на-продажи-в-отдельном-регионе?-4.3\"><span class=\"toc-item-num\">4.3&nbsp;&nbsp;</span>Влияет ли рейтинг ESRB на продажи в отдельном регионе?</a></span></li></ul></li><li><span><a href=\"#Проверка-гипотез\" data-toc-modified-id=\"Проверка-гипотез-5\"><span class=\"toc-item-num\">5&nbsp;&nbsp;</span>Проверка гипотез</a></span><ul class=\"toc-item\"><li><span><a href=\"#Средние-пользовательские-рейтинги-платформ-Xbox-One-и-PC-одинаковые;\" data-toc-modified-id=\"Средние-пользовательские-рейтинги-платформ-Xbox-One-и-PC-одинаковые;-5.1\"><span class=\"toc-item-num\">5.1&nbsp;&nbsp;</span>Средние пользовательские рейтинги платформ Xbox One и PC одинаковые;</a></span></li><li><span><a href=\"#Средние-пользовательские-рейтинги-жанров-Action-(англ.-«действие»,-экшен-игры)-и-Sports-(англ.-«спортивные-соревнования»)-разные.\" data-toc-modified-id=\"Средние-пользовательские-рейтинги-жанров-Action-(англ.-«действие»,-экшен-игры)-и-Sports-(англ.-«спортивные-соревнования»)-разные.-5.2\"><span class=\"toc-item-num\">5.2&nbsp;&nbsp;</span>Средние пользовательские рейтинги жанров Action (англ. «действие», экшен-игры) и Sports (англ. «спортивные соревнования») разные.</a></span></li></ul></li><li><span><a href=\"#Общий-вывод\" data-toc-modified-id=\"Общий-вывод-6\"><span class=\"toc-item-num\">6&nbsp;&nbsp;</span>Общий вывод</a></span></li></ul></div>"
   ]
  },
  {
   "cell_type": "markdown",
   "metadata": {},
   "source": [
    "# Подготовка данных\n",
    "- Замените названия столбцов (приведите к нижнему регистру);\n",
    "- Преобразуйте данные в нужные типы. Опишите, в каких столбцах заменили тип данных и почему;\n",
    "- Обработайте пропуски при необходимости:\n",
    " - Объясните, почему заполнили пропуски определённым образом или почему не стали это делать;\n",
    " - Опишите причины, которые могли привести к пропускам;\n",
    " - Обратите внимание на аббревиатуру 'tbd' в столбце с оценкой пользователей. Отдельно разберите это значение и опишите, как его обработать;\n",
    "- Посчитайте суммарные продажи во всех регионах и запишите их в отдельный столбец.\n",
    "\n",
    "# Проведение исследовательского анализа данных\n",
    "- Посмотрите, сколько игр выпускалось в разные годы. Важны ли данные за все периоды?\n",
    "- Посмотрите, как менялись продажи по платформам. Выберите платформы с наибольшими суммарными продажами и постройте распределение по годам. За какой характерный срок появляются новые и исчезают старые платформы?\n",
    "- Возьмите данные за соответствующий актуальный период. Актуальный период определите самостоятельно в результате исследования предыдущих вопросов. Основной фактор — эти данные помогут построить прогноз на 2017 год.\n",
    "- Не учитывайте в работе данные за предыдущие годы.\n",
    "- Какие платформы лидируют по продажам, растут или падают? Выберите несколько потенциально прибыльных платформ.\n",
    "- Постройте график «ящик с усами» по глобальным продажам игр в разбивке по платформам. Опишите результат.\n",
    "- Посмотрите, как влияют на продажи внутри одной популярной платформы отзывы пользователей и критиков. Постройте диаграмму рассеяния и посчитайте корреляцию между отзывами и продажами. Сформулируйте выводы.\n",
    "- Соотнесите выводы с продажами игр на других платформах.\n",
    "- Посмотрите на общее распределение игр по жанрам. Что можно сказать о самых прибыльных жанрах? Выделяются ли жанры с высокими и низкими продажами?\n",
    "\n",
    "# Составление портрета пользователя каждого региона\n",
    "Определите для пользователя каждого региона (NA, EU, JP):\n",
    "- Самые популярные платформы (топ-5). Опишите различия в долях продаж.\n",
    "- Самые популярные жанры (топ-5). Поясните разницу.\n",
    "- Влияет ли рейтинг ESRB на продажи в отдельном регионе?\n",
    "\n",
    "# Проверка гипотез\n",
    "- Средние пользовательские рейтинги платформ Xbox One и PC одинаковые;\n",
    "- Средние пользовательские рейтинги жанров Action (англ. «действие», экшен-игры) и Sports (англ. «спортивные соревнования») разные.\n",
    "Задайте самостоятельно пороговое значение alpha.\n",
    "Поясните:\n",
    "- Как вы сформулировали нулевую и альтернативную гипотезы;\n",
    "- Какой критерий применили для проверки гипотез и почему.\n"
   ]
  },
  {
   "cell_type": "markdown",
   "metadata": {},
   "source": [
    "## Открытие файла\n"
   ]
  },
  {
   "cell_type": "markdown",
   "metadata": {},
   "source": [
    "Для работы с проектом импортирование библиотек"
   ]
  },
  {
   "cell_type": "code",
   "execution_count": 1,
   "metadata": {},
   "outputs": [],
   "source": [
    "import pandas as pd\n",
    "import matplotlib.pyplot as plt\n",
    "from datetime import datetime\n",
    "from scipy import stats as st\n",
    "import numpy as np\n",
    "import seaborn as sns"
   ]
  },
  {
   "cell_type": "code",
   "execution_count": 2,
   "metadata": {},
   "outputs": [],
   "source": [
    "pd.set_option('display.max_columns', None) # для удобства просмотра данных ставлю отображение всех столбцов таблиц\n",
    "pd.options.display.float_format = '{:,.2f}'.format # и формат всех отображаемых данных типа float с 2 знаками после ,"
   ]
  },
  {
   "cell_type": "code",
   "execution_count": 3,
   "metadata": {
    "scrolled": false
   },
   "outputs": [
    {
     "data": {
      "text/html": [
       "<div>\n",
       "<style scoped>\n",
       "    .dataframe tbody tr th:only-of-type {\n",
       "        vertical-align: middle;\n",
       "    }\n",
       "\n",
       "    .dataframe tbody tr th {\n",
       "        vertical-align: top;\n",
       "    }\n",
       "\n",
       "    .dataframe thead th {\n",
       "        text-align: right;\n",
       "    }\n",
       "</style>\n",
       "<table border=\"1\" class=\"dataframe\">\n",
       "  <thead>\n",
       "    <tr style=\"text-align: right;\">\n",
       "      <th></th>\n",
       "      <th>Name</th>\n",
       "      <th>Platform</th>\n",
       "      <th>Year_of_Release</th>\n",
       "      <th>Genre</th>\n",
       "      <th>NA_sales</th>\n",
       "      <th>EU_sales</th>\n",
       "      <th>JP_sales</th>\n",
       "      <th>Other_sales</th>\n",
       "      <th>Critic_Score</th>\n",
       "      <th>User_Score</th>\n",
       "      <th>Rating</th>\n",
       "    </tr>\n",
       "  </thead>\n",
       "  <tbody>\n",
       "    <tr>\n",
       "      <th>0</th>\n",
       "      <td>Wii Sports</td>\n",
       "      <td>Wii</td>\n",
       "      <td>2,006.00</td>\n",
       "      <td>Sports</td>\n",
       "      <td>41.36</td>\n",
       "      <td>28.96</td>\n",
       "      <td>3.77</td>\n",
       "      <td>8.45</td>\n",
       "      <td>76.00</td>\n",
       "      <td>8</td>\n",
       "      <td>E</td>\n",
       "    </tr>\n",
       "    <tr>\n",
       "      <th>1</th>\n",
       "      <td>Super Mario Bros.</td>\n",
       "      <td>NES</td>\n",
       "      <td>1,985.00</td>\n",
       "      <td>Platform</td>\n",
       "      <td>29.08</td>\n",
       "      <td>3.58</td>\n",
       "      <td>6.81</td>\n",
       "      <td>0.77</td>\n",
       "      <td>NaN</td>\n",
       "      <td>NaN</td>\n",
       "      <td>NaN</td>\n",
       "    </tr>\n",
       "    <tr>\n",
       "      <th>2</th>\n",
       "      <td>Mario Kart Wii</td>\n",
       "      <td>Wii</td>\n",
       "      <td>2,008.00</td>\n",
       "      <td>Racing</td>\n",
       "      <td>15.68</td>\n",
       "      <td>12.76</td>\n",
       "      <td>3.79</td>\n",
       "      <td>3.29</td>\n",
       "      <td>82.00</td>\n",
       "      <td>8.3</td>\n",
       "      <td>E</td>\n",
       "    </tr>\n",
       "    <tr>\n",
       "      <th>3</th>\n",
       "      <td>Wii Sports Resort</td>\n",
       "      <td>Wii</td>\n",
       "      <td>2,009.00</td>\n",
       "      <td>Sports</td>\n",
       "      <td>15.61</td>\n",
       "      <td>10.93</td>\n",
       "      <td>3.28</td>\n",
       "      <td>2.95</td>\n",
       "      <td>80.00</td>\n",
       "      <td>8</td>\n",
       "      <td>E</td>\n",
       "    </tr>\n",
       "    <tr>\n",
       "      <th>4</th>\n",
       "      <td>Pokemon Red/Pokemon Blue</td>\n",
       "      <td>GB</td>\n",
       "      <td>1,996.00</td>\n",
       "      <td>Role-Playing</td>\n",
       "      <td>11.27</td>\n",
       "      <td>8.89</td>\n",
       "      <td>10.22</td>\n",
       "      <td>1.00</td>\n",
       "      <td>NaN</td>\n",
       "      <td>NaN</td>\n",
       "      <td>NaN</td>\n",
       "    </tr>\n",
       "  </tbody>\n",
       "</table>\n",
       "</div>"
      ],
      "text/plain": [
       "                       Name Platform  Year_of_Release         Genre  NA_sales  \\\n",
       "0                Wii Sports      Wii         2,006.00        Sports     41.36   \n",
       "1         Super Mario Bros.      NES         1,985.00      Platform     29.08   \n",
       "2            Mario Kart Wii      Wii         2,008.00        Racing     15.68   \n",
       "3         Wii Sports Resort      Wii         2,009.00        Sports     15.61   \n",
       "4  Pokemon Red/Pokemon Blue       GB         1,996.00  Role-Playing     11.27   \n",
       "\n",
       "   EU_sales  JP_sales  Other_sales  Critic_Score User_Score Rating  \n",
       "0     28.96      3.77         8.45         76.00          8      E  \n",
       "1      3.58      6.81         0.77           NaN        NaN    NaN  \n",
       "2     12.76      3.79         3.29         82.00        8.3      E  \n",
       "3     10.93      3.28         2.95         80.00          8      E  \n",
       "4      8.89     10.22         1.00           NaN        NaN    NaN  "
      ]
     },
     "execution_count": 3,
     "metadata": {},
     "output_type": "execute_result"
    }
   ],
   "source": [
    "games = pd.read_csv('/datasets/games.csv')\n",
    "games.head()"
   ]
  },
  {
   "cell_type": "code",
   "execution_count": 4,
   "metadata": {},
   "outputs": [
    {
     "name": "stdout",
     "output_type": "stream",
     "text": [
      "<class 'pandas.core.frame.DataFrame'>\n",
      "RangeIndex: 16715 entries, 0 to 16714\n",
      "Data columns (total 11 columns):\n",
      " #   Column           Non-Null Count  Dtype  \n",
      "---  ------           --------------  -----  \n",
      " 0   Name             16713 non-null  object \n",
      " 1   Platform         16715 non-null  object \n",
      " 2   Year_of_Release  16446 non-null  float64\n",
      " 3   Genre            16713 non-null  object \n",
      " 4   NA_sales         16715 non-null  float64\n",
      " 5   EU_sales         16715 non-null  float64\n",
      " 6   JP_sales         16715 non-null  float64\n",
      " 7   Other_sales      16715 non-null  float64\n",
      " 8   Critic_Score     8137 non-null   float64\n",
      " 9   User_Score       10014 non-null  object \n",
      " 10  Rating           9949 non-null   object \n",
      "dtypes: float64(6), object(5)\n",
      "memory usage: 1.4+ MB\n"
     ]
    }
   ],
   "source": [
    "games.info()"
   ]
  },
  {
   "cell_type": "code",
   "execution_count": 5,
   "metadata": {
    "scrolled": true
   },
   "outputs": [
    {
     "data": {
      "text/html": [
       "<div>\n",
       "<style scoped>\n",
       "    .dataframe tbody tr th:only-of-type {\n",
       "        vertical-align: middle;\n",
       "    }\n",
       "\n",
       "    .dataframe tbody tr th {\n",
       "        vertical-align: top;\n",
       "    }\n",
       "\n",
       "    .dataframe thead th {\n",
       "        text-align: right;\n",
       "    }\n",
       "</style>\n",
       "<table border=\"1\" class=\"dataframe\">\n",
       "  <thead>\n",
       "    <tr style=\"text-align: right;\">\n",
       "      <th></th>\n",
       "      <th>Year_of_Release</th>\n",
       "      <th>NA_sales</th>\n",
       "      <th>EU_sales</th>\n",
       "      <th>JP_sales</th>\n",
       "      <th>Other_sales</th>\n",
       "      <th>Critic_Score</th>\n",
       "    </tr>\n",
       "  </thead>\n",
       "  <tbody>\n",
       "    <tr>\n",
       "      <th>count</th>\n",
       "      <td>16,446.00</td>\n",
       "      <td>16,715.00</td>\n",
       "      <td>16,715.00</td>\n",
       "      <td>16,715.00</td>\n",
       "      <td>16,715.00</td>\n",
       "      <td>8,137.00</td>\n",
       "    </tr>\n",
       "    <tr>\n",
       "      <th>mean</th>\n",
       "      <td>2,006.48</td>\n",
       "      <td>0.26</td>\n",
       "      <td>0.15</td>\n",
       "      <td>0.08</td>\n",
       "      <td>0.05</td>\n",
       "      <td>68.97</td>\n",
       "    </tr>\n",
       "    <tr>\n",
       "      <th>std</th>\n",
       "      <td>5.88</td>\n",
       "      <td>0.81</td>\n",
       "      <td>0.50</td>\n",
       "      <td>0.31</td>\n",
       "      <td>0.19</td>\n",
       "      <td>13.94</td>\n",
       "    </tr>\n",
       "    <tr>\n",
       "      <th>min</th>\n",
       "      <td>1,980.00</td>\n",
       "      <td>0.00</td>\n",
       "      <td>0.00</td>\n",
       "      <td>0.00</td>\n",
       "      <td>0.00</td>\n",
       "      <td>13.00</td>\n",
       "    </tr>\n",
       "    <tr>\n",
       "      <th>25%</th>\n",
       "      <td>2,003.00</td>\n",
       "      <td>0.00</td>\n",
       "      <td>0.00</td>\n",
       "      <td>0.00</td>\n",
       "      <td>0.00</td>\n",
       "      <td>60.00</td>\n",
       "    </tr>\n",
       "    <tr>\n",
       "      <th>50%</th>\n",
       "      <td>2,007.00</td>\n",
       "      <td>0.08</td>\n",
       "      <td>0.02</td>\n",
       "      <td>0.00</td>\n",
       "      <td>0.01</td>\n",
       "      <td>71.00</td>\n",
       "    </tr>\n",
       "    <tr>\n",
       "      <th>75%</th>\n",
       "      <td>2,010.00</td>\n",
       "      <td>0.24</td>\n",
       "      <td>0.11</td>\n",
       "      <td>0.04</td>\n",
       "      <td>0.03</td>\n",
       "      <td>79.00</td>\n",
       "    </tr>\n",
       "    <tr>\n",
       "      <th>max</th>\n",
       "      <td>2,016.00</td>\n",
       "      <td>41.36</td>\n",
       "      <td>28.96</td>\n",
       "      <td>10.22</td>\n",
       "      <td>10.57</td>\n",
       "      <td>98.00</td>\n",
       "    </tr>\n",
       "  </tbody>\n",
       "</table>\n",
       "</div>"
      ],
      "text/plain": [
       "       Year_of_Release  NA_sales  EU_sales  JP_sales  Other_sales  \\\n",
       "count        16,446.00 16,715.00 16,715.00 16,715.00    16,715.00   \n",
       "mean          2,006.48      0.26      0.15      0.08         0.05   \n",
       "std               5.88      0.81      0.50      0.31         0.19   \n",
       "min           1,980.00      0.00      0.00      0.00         0.00   \n",
       "25%           2,003.00      0.00      0.00      0.00         0.00   \n",
       "50%           2,007.00      0.08      0.02      0.00         0.01   \n",
       "75%           2,010.00      0.24      0.11      0.04         0.03   \n",
       "max           2,016.00     41.36     28.96     10.22        10.57   \n",
       "\n",
       "       Critic_Score  \n",
       "count      8,137.00  \n",
       "mean          68.97  \n",
       "std           13.94  \n",
       "min           13.00  \n",
       "25%           60.00  \n",
       "50%           71.00  \n",
       "75%           79.00  \n",
       "max           98.00  "
      ]
     },
     "execution_count": 5,
     "metadata": {},
     "output_type": "execute_result"
    }
   ],
   "source": [
    "games.describe()"
   ]
  },
  {
   "cell_type": "markdown",
   "metadata": {},
   "source": [
    "Данным в таблице явно нужна обработка."
   ]
  },
  {
   "cell_type": "markdown",
   "metadata": {},
   "source": [
    "## Предобработка данных."
   ]
  },
  {
   "cell_type": "markdown",
   "metadata": {},
   "source": [
    "### Замените названия столбцов (приведите к нижнему регистру)"
   ]
  },
  {
   "cell_type": "code",
   "execution_count": 6,
   "metadata": {},
   "outputs": [],
   "source": [
    "games.columns = [x.lower() for x in games.columns]"
   ]
  },
  {
   "cell_type": "markdown",
   "metadata": {},
   "source": [
    "### Преобразуйте данные в нужные типы. Опишите, в каких столбцах заменили тип данных и почему"
   ]
  },
  {
   "cell_type": "code",
   "execution_count": 7,
   "metadata": {},
   "outputs": [
    {
     "name": "stdout",
     "output_type": "stream",
     "text": [
      "<class 'pandas.core.frame.DataFrame'>\n",
      "RangeIndex: 16715 entries, 0 to 16714\n",
      "Data columns (total 11 columns):\n",
      " #   Column           Non-Null Count  Dtype  \n",
      "---  ------           --------------  -----  \n",
      " 0   name             16713 non-null  object \n",
      " 1   platform         16715 non-null  object \n",
      " 2   year_of_release  16446 non-null  float64\n",
      " 3   genre            16713 non-null  object \n",
      " 4   na_sales         16715 non-null  float64\n",
      " 5   eu_sales         16715 non-null  float64\n",
      " 6   jp_sales         16715 non-null  float64\n",
      " 7   other_sales      16715 non-null  float64\n",
      " 8   critic_score     8137 non-null   float64\n",
      " 9   user_score       10014 non-null  object \n",
      " 10  rating           9949 non-null   object \n",
      "dtypes: float64(6), object(5)\n",
      "memory usage: 1.4+ MB\n"
     ]
    }
   ],
   "source": [
    "games.info()"
   ]
  },
  {
   "cell_type": "markdown",
   "metadata": {},
   "source": [
    "Столбец с годом нужно привести к годам, а столбец с оценкой пользователей к float.  \n",
    "Для приведения столбца с годом надо заполнить пропуска. Замена будет производиться на выбивающееся значение, например -1."
   ]
  },
  {
   "cell_type": "code",
   "execution_count": 8,
   "metadata": {},
   "outputs": [],
   "source": [
    "games['year_of_release'] = games['year_of_release'].fillna(-1).astype(int)"
   ]
  },
  {
   "cell_type": "code",
   "execution_count": 9,
   "metadata": {},
   "outputs": [
    {
     "data": {
      "text/plain": [
       "array(['8', nan, '8.3', '8.5', '6.6', '8.4', '8.6', '7.7', '6.3', '7.4',\n",
       "       '8.2', '9', '7.9', '8.1', '8.7', '7.1', '3.4', '5.3', '4.8', '3.2',\n",
       "       '8.9', '6.4', '7.8', '7.5', '2.6', '7.2', '9.2', '7', '7.3', '4.3',\n",
       "       '7.6', '5.7', '5', '9.1', '6.5', 'tbd', '8.8', '6.9', '9.4', '6.8',\n",
       "       '6.1', '6.7', '5.4', '4', '4.9', '4.5', '9.3', '6.2', '4.2', '6',\n",
       "       '3.7', '4.1', '5.8', '5.6', '5.5', '4.4', '4.6', '5.9', '3.9',\n",
       "       '3.1', '2.9', '5.2', '3.3', '4.7', '5.1', '3.5', '2.5', '1.9', '3',\n",
       "       '2.7', '2.2', '2', '9.5', '2.1', '3.6', '2.8', '1.8', '3.8', '0',\n",
       "       '1.6', '9.6', '2.4', '1.7', '1.1', '0.3', '1.5', '0.7', '1.2',\n",
       "       '2.3', '0.5', '1.3', '0.2', '0.6', '1.4', '0.9', '1', '9.7'],\n",
       "      dtype=object)"
      ]
     },
     "execution_count": 9,
     "metadata": {},
     "output_type": "execute_result"
    }
   ],
   "source": [
    "games['user_score'].unique() # Выводим уникальные значения оценки пользователей."
   ]
  },
  {
   "cell_type": "code",
   "execution_count": 10,
   "metadata": {},
   "outputs": [
    {
     "data": {
      "text/plain": [
       "2424"
      ]
     },
     "execution_count": 10,
     "metadata": {},
     "output_type": "execute_result"
    }
   ],
   "source": [
    "games[games['user_score'] == 'tbd']['user_score'].count()"
   ]
  },
  {
   "cell_type": "markdown",
   "metadata": {},
   "source": [
    "tbd означает, что данное значение только будет определено, а на данный момент нет никаких данных о рейтинге.  \n",
    "Можно этим значениям задать -1, как и отсутствующим значениям рейтинга критиков и пользователей, чтобы не мешались с рейтингом, поставленным ими."
   ]
  },
  {
   "cell_type": "code",
   "execution_count": 11,
   "metadata": {},
   "outputs": [
    {
     "name": "stdout",
     "output_type": "stream",
     "text": [
      "<class 'pandas.core.frame.DataFrame'>\n",
      "RangeIndex: 16715 entries, 0 to 16714\n",
      "Data columns (total 11 columns):\n",
      " #   Column           Non-Null Count  Dtype  \n",
      "---  ------           --------------  -----  \n",
      " 0   name             16713 non-null  object \n",
      " 1   platform         16715 non-null  object \n",
      " 2   year_of_release  16715 non-null  int64  \n",
      " 3   genre            16713 non-null  object \n",
      " 4   na_sales         16715 non-null  float64\n",
      " 5   eu_sales         16715 non-null  float64\n",
      " 6   jp_sales         16715 non-null  float64\n",
      " 7   other_sales      16715 non-null  float64\n",
      " 8   critic_score     16715 non-null  float64\n",
      " 9   user_score       16715 non-null  float64\n",
      " 10  rating           9949 non-null   object \n",
      "dtypes: float64(6), int64(1), object(4)\n",
      "memory usage: 1.4+ MB\n"
     ]
    }
   ],
   "source": [
    "games.loc[games['user_score'] == 'tbd','user_score'] = -1\n",
    "games['user_score'] = games['user_score'].fillna(-1)\n",
    "games['user_score'] = games['user_score'].astype('float')\n",
    "games['critic_score'] = games['critic_score'].fillna(-1)\n",
    "games.info()"
   ]
  },
  {
   "cell_type": "markdown",
   "metadata": {},
   "source": [
    "### Обработайте пропуски при необходимости:"
   ]
  },
  {
   "cell_type": "code",
   "execution_count": 12,
   "metadata": {},
   "outputs": [
    {
     "data": {
      "text/html": [
       "<div>\n",
       "<style scoped>\n",
       "    .dataframe tbody tr th:only-of-type {\n",
       "        vertical-align: middle;\n",
       "    }\n",
       "\n",
       "    .dataframe tbody tr th {\n",
       "        vertical-align: top;\n",
       "    }\n",
       "\n",
       "    .dataframe thead th {\n",
       "        text-align: right;\n",
       "    }\n",
       "</style>\n",
       "<table border=\"1\" class=\"dataframe\">\n",
       "  <thead>\n",
       "    <tr style=\"text-align: right;\">\n",
       "      <th></th>\n",
       "      <th>name</th>\n",
       "      <th>platform</th>\n",
       "      <th>year_of_release</th>\n",
       "      <th>genre</th>\n",
       "      <th>na_sales</th>\n",
       "      <th>eu_sales</th>\n",
       "      <th>jp_sales</th>\n",
       "      <th>other_sales</th>\n",
       "      <th>critic_score</th>\n",
       "      <th>user_score</th>\n",
       "      <th>rating</th>\n",
       "    </tr>\n",
       "  </thead>\n",
       "  <tbody>\n",
       "    <tr>\n",
       "      <th>1</th>\n",
       "      <td>Super Mario Bros.</td>\n",
       "      <td>NES</td>\n",
       "      <td>1985</td>\n",
       "      <td>Platform</td>\n",
       "      <td>29.08</td>\n",
       "      <td>3.58</td>\n",
       "      <td>6.81</td>\n",
       "      <td>0.77</td>\n",
       "      <td>-1.00</td>\n",
       "      <td>-1.00</td>\n",
       "      <td>NaN</td>\n",
       "    </tr>\n",
       "    <tr>\n",
       "      <th>4</th>\n",
       "      <td>Pokemon Red/Pokemon Blue</td>\n",
       "      <td>GB</td>\n",
       "      <td>1996</td>\n",
       "      <td>Role-Playing</td>\n",
       "      <td>11.27</td>\n",
       "      <td>8.89</td>\n",
       "      <td>10.22</td>\n",
       "      <td>1.00</td>\n",
       "      <td>-1.00</td>\n",
       "      <td>-1.00</td>\n",
       "      <td>NaN</td>\n",
       "    </tr>\n",
       "    <tr>\n",
       "      <th>5</th>\n",
       "      <td>Tetris</td>\n",
       "      <td>GB</td>\n",
       "      <td>1989</td>\n",
       "      <td>Puzzle</td>\n",
       "      <td>23.20</td>\n",
       "      <td>2.26</td>\n",
       "      <td>4.22</td>\n",
       "      <td>0.58</td>\n",
       "      <td>-1.00</td>\n",
       "      <td>-1.00</td>\n",
       "      <td>NaN</td>\n",
       "    </tr>\n",
       "    <tr>\n",
       "      <th>9</th>\n",
       "      <td>Duck Hunt</td>\n",
       "      <td>NES</td>\n",
       "      <td>1984</td>\n",
       "      <td>Shooter</td>\n",
       "      <td>26.93</td>\n",
       "      <td>0.63</td>\n",
       "      <td>0.28</td>\n",
       "      <td>0.47</td>\n",
       "      <td>-1.00</td>\n",
       "      <td>-1.00</td>\n",
       "      <td>NaN</td>\n",
       "    </tr>\n",
       "    <tr>\n",
       "      <th>10</th>\n",
       "      <td>Nintendogs</td>\n",
       "      <td>DS</td>\n",
       "      <td>2005</td>\n",
       "      <td>Simulation</td>\n",
       "      <td>9.05</td>\n",
       "      <td>10.95</td>\n",
       "      <td>1.93</td>\n",
       "      <td>2.74</td>\n",
       "      <td>-1.00</td>\n",
       "      <td>-1.00</td>\n",
       "      <td>NaN</td>\n",
       "    </tr>\n",
       "    <tr>\n",
       "      <th>...</th>\n",
       "      <td>...</td>\n",
       "      <td>...</td>\n",
       "      <td>...</td>\n",
       "      <td>...</td>\n",
       "      <td>...</td>\n",
       "      <td>...</td>\n",
       "      <td>...</td>\n",
       "      <td>...</td>\n",
       "      <td>...</td>\n",
       "      <td>...</td>\n",
       "      <td>...</td>\n",
       "    </tr>\n",
       "    <tr>\n",
       "      <th>16710</th>\n",
       "      <td>Samurai Warriors: Sanada Maru</td>\n",
       "      <td>PS3</td>\n",
       "      <td>2016</td>\n",
       "      <td>Action</td>\n",
       "      <td>0.00</td>\n",
       "      <td>0.00</td>\n",
       "      <td>0.01</td>\n",
       "      <td>0.00</td>\n",
       "      <td>-1.00</td>\n",
       "      <td>-1.00</td>\n",
       "      <td>NaN</td>\n",
       "    </tr>\n",
       "    <tr>\n",
       "      <th>16711</th>\n",
       "      <td>LMA Manager 2007</td>\n",
       "      <td>X360</td>\n",
       "      <td>2006</td>\n",
       "      <td>Sports</td>\n",
       "      <td>0.00</td>\n",
       "      <td>0.01</td>\n",
       "      <td>0.00</td>\n",
       "      <td>0.00</td>\n",
       "      <td>-1.00</td>\n",
       "      <td>-1.00</td>\n",
       "      <td>NaN</td>\n",
       "    </tr>\n",
       "    <tr>\n",
       "      <th>16712</th>\n",
       "      <td>Haitaka no Psychedelica</td>\n",
       "      <td>PSV</td>\n",
       "      <td>2016</td>\n",
       "      <td>Adventure</td>\n",
       "      <td>0.00</td>\n",
       "      <td>0.00</td>\n",
       "      <td>0.01</td>\n",
       "      <td>0.00</td>\n",
       "      <td>-1.00</td>\n",
       "      <td>-1.00</td>\n",
       "      <td>NaN</td>\n",
       "    </tr>\n",
       "    <tr>\n",
       "      <th>16713</th>\n",
       "      <td>Spirits &amp; Spells</td>\n",
       "      <td>GBA</td>\n",
       "      <td>2003</td>\n",
       "      <td>Platform</td>\n",
       "      <td>0.01</td>\n",
       "      <td>0.00</td>\n",
       "      <td>0.00</td>\n",
       "      <td>0.00</td>\n",
       "      <td>-1.00</td>\n",
       "      <td>-1.00</td>\n",
       "      <td>NaN</td>\n",
       "    </tr>\n",
       "    <tr>\n",
       "      <th>16714</th>\n",
       "      <td>Winning Post 8 2016</td>\n",
       "      <td>PSV</td>\n",
       "      <td>2016</td>\n",
       "      <td>Simulation</td>\n",
       "      <td>0.00</td>\n",
       "      <td>0.00</td>\n",
       "      <td>0.01</td>\n",
       "      <td>0.00</td>\n",
       "      <td>-1.00</td>\n",
       "      <td>-1.00</td>\n",
       "      <td>NaN</td>\n",
       "    </tr>\n",
       "  </tbody>\n",
       "</table>\n",
       "<p>6766 rows × 11 columns</p>\n",
       "</div>"
      ],
      "text/plain": [
       "                                name platform  year_of_release         genre  \\\n",
       "1                  Super Mario Bros.      NES             1985      Platform   \n",
       "4           Pokemon Red/Pokemon Blue       GB             1996  Role-Playing   \n",
       "5                             Tetris       GB             1989        Puzzle   \n",
       "9                          Duck Hunt      NES             1984       Shooter   \n",
       "10                        Nintendogs       DS             2005    Simulation   \n",
       "...                              ...      ...              ...           ...   \n",
       "16710  Samurai Warriors: Sanada Maru      PS3             2016        Action   \n",
       "16711               LMA Manager 2007     X360             2006        Sports   \n",
       "16712        Haitaka no Psychedelica      PSV             2016     Adventure   \n",
       "16713               Spirits & Spells      GBA             2003      Platform   \n",
       "16714            Winning Post 8 2016      PSV             2016    Simulation   \n",
       "\n",
       "       na_sales  eu_sales  jp_sales  other_sales  critic_score  user_score  \\\n",
       "1         29.08      3.58      6.81         0.77         -1.00       -1.00   \n",
       "4         11.27      8.89     10.22         1.00         -1.00       -1.00   \n",
       "5         23.20      2.26      4.22         0.58         -1.00       -1.00   \n",
       "9         26.93      0.63      0.28         0.47         -1.00       -1.00   \n",
       "10         9.05     10.95      1.93         2.74         -1.00       -1.00   \n",
       "...         ...       ...       ...          ...           ...         ...   \n",
       "16710      0.00      0.00      0.01         0.00         -1.00       -1.00   \n",
       "16711      0.00      0.01      0.00         0.00         -1.00       -1.00   \n",
       "16712      0.00      0.00      0.01         0.00         -1.00       -1.00   \n",
       "16713      0.01      0.00      0.00         0.00         -1.00       -1.00   \n",
       "16714      0.00      0.00      0.01         0.00         -1.00       -1.00   \n",
       "\n",
       "      rating  \n",
       "1        NaN  \n",
       "4        NaN  \n",
       "5        NaN  \n",
       "9        NaN  \n",
       "10       NaN  \n",
       "...      ...  \n",
       "16710    NaN  \n",
       "16711    NaN  \n",
       "16712    NaN  \n",
       "16713    NaN  \n",
       "16714    NaN  \n",
       "\n",
       "[6766 rows x 11 columns]"
      ]
     },
     "execution_count": 12,
     "metadata": {},
     "output_type": "execute_result"
    }
   ],
   "source": [
    "games.query('rating.isnull()')"
   ]
  },
  {
   "cell_type": "code",
   "execution_count": 13,
   "metadata": {},
   "outputs": [
    {
     "name": "stdout",
     "output_type": "stream",
     "text": [
      "Пропусков в столбце с рейтингом: 6766\n"
     ]
    }
   ],
   "source": [
    "print('Пропусков в столбце с рейтингом:', len(games.query('rating.isnull()')))"
   ]
  },
  {
   "cell_type": "markdown",
   "metadata": {},
   "source": [
    "Причины отсутствия этих данных могут быть разные. Например - не все производители все свои игры отправляют на комиссию для проставления рейтинга. Нужно обозначить отсутствие рейтинга, заменю на -1."
   ]
  },
  {
   "cell_type": "code",
   "execution_count": 14,
   "metadata": {},
   "outputs": [],
   "source": [
    "games['rating'] = games['rating'].fillna(-1)"
   ]
  },
  {
   "cell_type": "code",
   "execution_count": 15,
   "metadata": {},
   "outputs": [
    {
     "data": {
      "text/html": [
       "<div>\n",
       "<style scoped>\n",
       "    .dataframe tbody tr th:only-of-type {\n",
       "        vertical-align: middle;\n",
       "    }\n",
       "\n",
       "    .dataframe tbody tr th {\n",
       "        vertical-align: top;\n",
       "    }\n",
       "\n",
       "    .dataframe thead th {\n",
       "        text-align: right;\n",
       "    }\n",
       "</style>\n",
       "<table border=\"1\" class=\"dataframe\">\n",
       "  <thead>\n",
       "    <tr style=\"text-align: right;\">\n",
       "      <th></th>\n",
       "      <th>name</th>\n",
       "      <th>platform</th>\n",
       "      <th>year_of_release</th>\n",
       "      <th>genre</th>\n",
       "      <th>na_sales</th>\n",
       "      <th>eu_sales</th>\n",
       "      <th>jp_sales</th>\n",
       "      <th>other_sales</th>\n",
       "      <th>critic_score</th>\n",
       "      <th>user_score</th>\n",
       "      <th>rating</th>\n",
       "    </tr>\n",
       "  </thead>\n",
       "  <tbody>\n",
       "    <tr>\n",
       "      <th>659</th>\n",
       "      <td>NaN</td>\n",
       "      <td>GEN</td>\n",
       "      <td>1993</td>\n",
       "      <td>NaN</td>\n",
       "      <td>1.78</td>\n",
       "      <td>0.53</td>\n",
       "      <td>0.00</td>\n",
       "      <td>0.08</td>\n",
       "      <td>-1.00</td>\n",
       "      <td>-1.00</td>\n",
       "      <td>-1</td>\n",
       "    </tr>\n",
       "    <tr>\n",
       "      <th>14244</th>\n",
       "      <td>NaN</td>\n",
       "      <td>GEN</td>\n",
       "      <td>1993</td>\n",
       "      <td>NaN</td>\n",
       "      <td>0.00</td>\n",
       "      <td>0.00</td>\n",
       "      <td>0.03</td>\n",
       "      <td>0.00</td>\n",
       "      <td>-1.00</td>\n",
       "      <td>-1.00</td>\n",
       "      <td>-1</td>\n",
       "    </tr>\n",
       "  </tbody>\n",
       "</table>\n",
       "</div>"
      ],
      "text/plain": [
       "      name platform  year_of_release genre  na_sales  eu_sales  jp_sales  \\\n",
       "659    NaN      GEN             1993   NaN      1.78      0.53      0.00   \n",
       "14244  NaN      GEN             1993   NaN      0.00      0.00      0.03   \n",
       "\n",
       "       other_sales  critic_score  user_score rating  \n",
       "659           0.08         -1.00       -1.00     -1  \n",
       "14244         0.00         -1.00       -1.00     -1  "
      ]
     },
     "execution_count": 15,
     "metadata": {},
     "output_type": "execute_result"
    }
   ],
   "source": [
    "games.query('name.isnull()')"
   ]
  },
  {
   "cell_type": "markdown",
   "metadata": {},
   "source": [
    "Эх, две игры на платформе GEN. Их итак мало в рейтинге, но без имени не имеет смысла хранить эти данные. Удалю их."
   ]
  },
  {
   "cell_type": "code",
   "execution_count": 16,
   "metadata": {},
   "outputs": [
    {
     "name": "stdout",
     "output_type": "stream",
     "text": [
      "<class 'pandas.core.frame.DataFrame'>\n",
      "Int64Index: 16713 entries, 0 to 16714\n",
      "Data columns (total 11 columns):\n",
      " #   Column           Non-Null Count  Dtype  \n",
      "---  ------           --------------  -----  \n",
      " 0   name             16713 non-null  object \n",
      " 1   platform         16713 non-null  object \n",
      " 2   year_of_release  16713 non-null  int64  \n",
      " 3   genre            16713 non-null  object \n",
      " 4   na_sales         16713 non-null  float64\n",
      " 5   eu_sales         16713 non-null  float64\n",
      " 6   jp_sales         16713 non-null  float64\n",
      " 7   other_sales      16713 non-null  float64\n",
      " 8   critic_score     16713 non-null  float64\n",
      " 9   user_score       16713 non-null  float64\n",
      " 10  rating           16713 non-null  object \n",
      "dtypes: float64(6), int64(1), object(4)\n",
      "memory usage: 1.5+ MB\n"
     ]
    }
   ],
   "source": [
    "games.dropna(subset = ['name'], inplace = True)\n",
    "games.info()"
   ]
  },
  {
   "cell_type": "code",
   "execution_count": 17,
   "metadata": {},
   "outputs": [
    {
     "name": "stdout",
     "output_type": "stream",
     "text": [
      "Дубликатов в данных: 0\n"
     ]
    }
   ],
   "source": [
    "print('Дубликатов в данных:', games.duplicated().sum())"
   ]
  },
  {
   "cell_type": "markdown",
   "metadata": {},
   "source": [
    "### Посчитайте суммарные продажи во всех регионах и запишите их в отдельный столбец"
   ]
  },
  {
   "cell_type": "code",
   "execution_count": 18,
   "metadata": {},
   "outputs": [],
   "source": [
    "games['total_sales'] = games['na_sales'] + games['eu_sales'] + games['jp_sales'] + games['other_sales']"
   ]
  },
  {
   "cell_type": "markdown",
   "metadata": {},
   "source": [
    "### Вывод\n",
    "\n",
    "1. Названия столбцов приведены к нижнему регистру.\n",
    "2. Исправлены типы столбцов года выпуска игры на int, а оценки пользователей на float.\n",
    "3. Обработаны пропуски: заменены отсутствующие значения столбцов с оценкой пользователей, оценкой критиков, рейтингом и годом выпуска игр на -1\n",
    "4. Значения 'tbd' столбца рейтинга пользователей заменены на -1\n",
    "5. Добавлен столбец с суммарной продажей игры во всех регионах."
   ]
  },
  {
   "cell_type": "markdown",
   "metadata": {},
   "source": [
    "## Проведение исследовательского анализа данных"
   ]
  },
  {
   "cell_type": "markdown",
   "metadata": {},
   "source": [
    "### Посмотрите, сколько игр выпускалось в разные годы. Важны ли данные за все периоды?"
   ]
  },
  {
   "cell_type": "code",
   "execution_count": 19,
   "metadata": {},
   "outputs": [
    {
     "data": {
      "text/plain": [
       "Text(0.5, 1.0, 'Распределение по годам релиза')"
      ]
     },
     "execution_count": 19,
     "metadata": {},
     "output_type": "execute_result"
    },
    {
     "data": {
      "image/png": "[encoded data removed]",
      "text/plain": [
       "<Figure size 432x288 with 1 Axes>"
      ]
     },
     "metadata": {
      "needs_background": "light"
     },
     "output_type": "display_data"
    }
   ],
   "source": [
    "games[games['year_of_release'] > 0]['year_of_release'].plot(kind='hist', bins=37).legend()\n",
    "plt.title('Распределение по годам релиза')"
   ]
  },
  {
   "cell_type": "markdown",
   "metadata": {},
   "source": [
    "Данные до 1994 года не так важны. С 1995 года мощность компьютеров значительно увеличивалась с каждым годом, и ПК становились доступными всё большей массе людей. С 2000 года наблюдался сильный рост количества игр, достигнув пика в 2009, а далее пошёл на спад."
   ]
  },
  {
   "cell_type": "markdown",
   "metadata": {},
   "source": [
    "### Посмотрите, как менялись продажи по платформам. Выберите платформы с наибольшими суммарными продажами и постройте распределение по годам. За какой характерный срок появляются новые и исчезают старые платформы?"
   ]
  },
  {
   "cell_type": "code",
   "execution_count": 20,
   "metadata": {
    "scrolled": true
   },
   "outputs": [
    {
     "data": {
      "text/html": [
       "<div>\n",
       "<style scoped>\n",
       "    .dataframe tbody tr th:only-of-type {\n",
       "        vertical-align: middle;\n",
       "    }\n",
       "\n",
       "    .dataframe tbody tr th {\n",
       "        vertical-align: top;\n",
       "    }\n",
       "\n",
       "    .dataframe thead th {\n",
       "        text-align: right;\n",
       "    }\n",
       "</style>\n",
       "<table border=\"1\" class=\"dataframe\">\n",
       "  <thead>\n",
       "    <tr style=\"text-align: right;\">\n",
       "      <th>year_of_release</th>\n",
       "      <th>1996</th>\n",
       "      <th>1997</th>\n",
       "      <th>1998</th>\n",
       "      <th>1999</th>\n",
       "      <th>2000</th>\n",
       "      <th>2001</th>\n",
       "      <th>2002</th>\n",
       "      <th>2003</th>\n",
       "      <th>2004</th>\n",
       "      <th>2005</th>\n",
       "      <th>2006</th>\n",
       "      <th>2007</th>\n",
       "      <th>2008</th>\n",
       "      <th>2009</th>\n",
       "      <th>2010</th>\n",
       "      <th>2011</th>\n",
       "      <th>2012</th>\n",
       "      <th>2013</th>\n",
       "      <th>2014</th>\n",
       "      <th>2015</th>\n",
       "      <th>2016</th>\n",
       "    </tr>\n",
       "    <tr>\n",
       "      <th>platform</th>\n",
       "      <th></th>\n",
       "      <th></th>\n",
       "      <th></th>\n",
       "      <th></th>\n",
       "      <th></th>\n",
       "      <th></th>\n",
       "      <th></th>\n",
       "      <th></th>\n",
       "      <th></th>\n",
       "      <th></th>\n",
       "      <th></th>\n",
       "      <th></th>\n",
       "      <th></th>\n",
       "      <th></th>\n",
       "      <th></th>\n",
       "      <th></th>\n",
       "      <th></th>\n",
       "      <th></th>\n",
       "      <th></th>\n",
       "      <th></th>\n",
       "      <th></th>\n",
       "    </tr>\n",
       "  </thead>\n",
       "  <tbody>\n",
       "    <tr>\n",
       "      <th>3DS</th>\n",
       "      <td>*</td>\n",
       "      <td>*</td>\n",
       "      <td>*</td>\n",
       "      <td>*</td>\n",
       "      <td>*</td>\n",
       "      <td>*</td>\n",
       "      <td>*</td>\n",
       "      <td>*</td>\n",
       "      <td>*</td>\n",
       "      <td>*</td>\n",
       "      <td>*</td>\n",
       "      <td>*</td>\n",
       "      <td>*</td>\n",
       "      <td>*</td>\n",
       "      <td>*</td>\n",
       "      <td>116.00</td>\n",
       "      <td>93.00</td>\n",
       "      <td>91.00</td>\n",
       "      <td>80.00</td>\n",
       "      <td>86.00</td>\n",
       "      <td>46.00</td>\n",
       "    </tr>\n",
       "    <tr>\n",
       "      <th>DC</th>\n",
       "      <td>*</td>\n",
       "      <td>*</td>\n",
       "      <td>7.00</td>\n",
       "      <td>14.00</td>\n",
       "      <td>20.00</td>\n",
       "      <td>8.00</td>\n",
       "      <td>1.00</td>\n",
       "      <td>*</td>\n",
       "      <td>*</td>\n",
       "      <td>*</td>\n",
       "      <td>*</td>\n",
       "      <td>1.00</td>\n",
       "      <td>1.00</td>\n",
       "      <td>*</td>\n",
       "      <td>*</td>\n",
       "      <td>*</td>\n",
       "      <td>*</td>\n",
       "      <td>*</td>\n",
       "      <td>*</td>\n",
       "      <td>*</td>\n",
       "      <td>*</td>\n",
       "    </tr>\n",
       "    <tr>\n",
       "      <th>DS</th>\n",
       "      <td>*</td>\n",
       "      <td>*</td>\n",
       "      <td>*</td>\n",
       "      <td>*</td>\n",
       "      <td>*</td>\n",
       "      <td>*</td>\n",
       "      <td>*</td>\n",
       "      <td>*</td>\n",
       "      <td>23.00</td>\n",
       "      <td>118.00</td>\n",
       "      <td>201.00</td>\n",
       "      <td>376.00</td>\n",
       "      <td>492.00</td>\n",
       "      <td>403.00</td>\n",
       "      <td>323.00</td>\n",
       "      <td>153.00</td>\n",
       "      <td>23.00</td>\n",
       "      <td>8.00</td>\n",
       "      <td>*</td>\n",
       "      <td>*</td>\n",
       "      <td>*</td>\n",
       "    </tr>\n",
       "    <tr>\n",
       "      <th>GB</th>\n",
       "      <td>6.00</td>\n",
       "      <td>8.00</td>\n",
       "      <td>8.00</td>\n",
       "      <td>11.00</td>\n",
       "      <td>17.00</td>\n",
       "      <td>10.00</td>\n",
       "      <td>*</td>\n",
       "      <td>*</td>\n",
       "      <td>*</td>\n",
       "      <td>*</td>\n",
       "      <td>*</td>\n",
       "      <td>*</td>\n",
       "      <td>*</td>\n",
       "      <td>*</td>\n",
       "      <td>*</td>\n",
       "      <td>*</td>\n",
       "      <td>*</td>\n",
       "      <td>*</td>\n",
       "      <td>*</td>\n",
       "      <td>*</td>\n",
       "      <td>*</td>\n",
       "    </tr>\n",
       "    <tr>\n",
       "      <th>GBA</th>\n",
       "      <td>*</td>\n",
       "      <td>*</td>\n",
       "      <td>*</td>\n",
       "      <td>*</td>\n",
       "      <td>1.00</td>\n",
       "      <td>107.00</td>\n",
       "      <td>198.00</td>\n",
       "      <td>150.00</td>\n",
       "      <td>175.00</td>\n",
       "      <td>135.00</td>\n",
       "      <td>39.00</td>\n",
       "      <td>6.00</td>\n",
       "      <td>*</td>\n",
       "      <td>*</td>\n",
       "      <td>*</td>\n",
       "      <td>*</td>\n",
       "      <td>*</td>\n",
       "      <td>*</td>\n",
       "      <td>*</td>\n",
       "      <td>*</td>\n",
       "      <td>*</td>\n",
       "    </tr>\n",
       "    <tr>\n",
       "      <th>GC</th>\n",
       "      <td>*</td>\n",
       "      <td>*</td>\n",
       "      <td>*</td>\n",
       "      <td>*</td>\n",
       "      <td>*</td>\n",
       "      <td>22.00</td>\n",
       "      <td>152.00</td>\n",
       "      <td>144.00</td>\n",
       "      <td>83.00</td>\n",
       "      <td>97.00</td>\n",
       "      <td>40.00</td>\n",
       "      <td>4.00</td>\n",
       "      <td>*</td>\n",
       "      <td>*</td>\n",
       "      <td>*</td>\n",
       "      <td>*</td>\n",
       "      <td>*</td>\n",
       "      <td>*</td>\n",
       "      <td>*</td>\n",
       "      <td>*</td>\n",
       "      <td>*</td>\n",
       "    </tr>\n",
       "    <tr>\n",
       "      <th>N64</th>\n",
       "      <td>18.00</td>\n",
       "      <td>49.00</td>\n",
       "      <td>77.00</td>\n",
       "      <td>102.00</td>\n",
       "      <td>60.00</td>\n",
       "      <td>9.00</td>\n",
       "      <td>1.00</td>\n",
       "      <td>*</td>\n",
       "      <td>*</td>\n",
       "      <td>*</td>\n",
       "      <td>*</td>\n",
       "      <td>*</td>\n",
       "      <td>*</td>\n",
       "      <td>*</td>\n",
       "      <td>*</td>\n",
       "      <td>*</td>\n",
       "      <td>*</td>\n",
       "      <td>*</td>\n",
       "      <td>*</td>\n",
       "      <td>*</td>\n",
       "      <td>*</td>\n",
       "    </tr>\n",
       "    <tr>\n",
       "      <th>NG</th>\n",
       "      <td>2.00</td>\n",
       "      <td>*</td>\n",
       "      <td>*</td>\n",
       "      <td>*</td>\n",
       "      <td>*</td>\n",
       "      <td>*</td>\n",
       "      <td>*</td>\n",
       "      <td>*</td>\n",
       "      <td>*</td>\n",
       "      <td>*</td>\n",
       "      <td>*</td>\n",
       "      <td>*</td>\n",
       "      <td>*</td>\n",
       "      <td>*</td>\n",
       "      <td>*</td>\n",
       "      <td>*</td>\n",
       "      <td>*</td>\n",
       "      <td>*</td>\n",
       "      <td>*</td>\n",
       "      <td>*</td>\n",
       "      <td>*</td>\n",
       "    </tr>\n",
       "    <tr>\n",
       "      <th>PC</th>\n",
       "      <td>4.00</td>\n",
       "      <td>6.00</td>\n",
       "      <td>8.00</td>\n",
       "      <td>7.00</td>\n",
       "      <td>7.00</td>\n",
       "      <td>15.00</td>\n",
       "      <td>19.00</td>\n",
       "      <td>33.00</td>\n",
       "      <td>30.00</td>\n",
       "      <td>37.00</td>\n",
       "      <td>52.00</td>\n",
       "      <td>62.00</td>\n",
       "      <td>76.00</td>\n",
       "      <td>107.00</td>\n",
       "      <td>90.00</td>\n",
       "      <td>139.00</td>\n",
       "      <td>61.00</td>\n",
       "      <td>38.00</td>\n",
       "      <td>47.00</td>\n",
       "      <td>50.00</td>\n",
       "      <td>54.00</td>\n",
       "    </tr>\n",
       "    <tr>\n",
       "      <th>PCFX</th>\n",
       "      <td>1.00</td>\n",
       "      <td>*</td>\n",
       "      <td>*</td>\n",
       "      <td>*</td>\n",
       "      <td>*</td>\n",
       "      <td>*</td>\n",
       "      <td>*</td>\n",
       "      <td>*</td>\n",
       "      <td>*</td>\n",
       "      <td>*</td>\n",
       "      <td>*</td>\n",
       "      <td>*</td>\n",
       "      <td>*</td>\n",
       "      <td>*</td>\n",
       "      <td>*</td>\n",
       "      <td>*</td>\n",
       "      <td>*</td>\n",
       "      <td>*</td>\n",
       "      <td>*</td>\n",
       "      <td>*</td>\n",
       "      <td>*</td>\n",
       "    </tr>\n",
       "    <tr>\n",
       "      <th>PS</th>\n",
       "      <td>164.00</td>\n",
       "      <td>188.00</td>\n",
       "      <td>248.00</td>\n",
       "      <td>200.00</td>\n",
       "      <td>160.00</td>\n",
       "      <td>91.00</td>\n",
       "      <td>20.00</td>\n",
       "      <td>3.00</td>\n",
       "      <td>*</td>\n",
       "      <td>*</td>\n",
       "      <td>*</td>\n",
       "      <td>*</td>\n",
       "      <td>*</td>\n",
       "      <td>*</td>\n",
       "      <td>*</td>\n",
       "      <td>*</td>\n",
       "      <td>*</td>\n",
       "      <td>*</td>\n",
       "      <td>*</td>\n",
       "      <td>*</td>\n",
       "      <td>*</td>\n",
       "    </tr>\n",
       "    <tr>\n",
       "      <th>PS2</th>\n",
       "      <td>*</td>\n",
       "      <td>*</td>\n",
       "      <td>*</td>\n",
       "      <td>*</td>\n",
       "      <td>82.00</td>\n",
       "      <td>185.00</td>\n",
       "      <td>280.00</td>\n",
       "      <td>256.00</td>\n",
       "      <td>259.00</td>\n",
       "      <td>260.00</td>\n",
       "      <td>259.00</td>\n",
       "      <td>214.00</td>\n",
       "      <td>191.00</td>\n",
       "      <td>96.00</td>\n",
       "      <td>38.00</td>\n",
       "      <td>7.00</td>\n",
       "      <td>*</td>\n",
       "      <td>*</td>\n",
       "      <td>*</td>\n",
       "      <td>*</td>\n",
       "      <td>*</td>\n",
       "    </tr>\n",
       "    <tr>\n",
       "      <th>PS3</th>\n",
       "      <td>*</td>\n",
       "      <td>*</td>\n",
       "      <td>*</td>\n",
       "      <td>*</td>\n",
       "      <td>*</td>\n",
       "      <td>*</td>\n",
       "      <td>*</td>\n",
       "      <td>*</td>\n",
       "      <td>*</td>\n",
       "      <td>*</td>\n",
       "      <td>27.00</td>\n",
       "      <td>90.00</td>\n",
       "      <td>138.00</td>\n",
       "      <td>162.00</td>\n",
       "      <td>181.00</td>\n",
       "      <td>215.00</td>\n",
       "      <td>148.00</td>\n",
       "      <td>126.00</td>\n",
       "      <td>108.00</td>\n",
       "      <td>73.00</td>\n",
       "      <td>38.00</td>\n",
       "    </tr>\n",
       "    <tr>\n",
       "      <th>PS4</th>\n",
       "      <td>*</td>\n",
       "      <td>*</td>\n",
       "      <td>*</td>\n",
       "      <td>*</td>\n",
       "      <td>*</td>\n",
       "      <td>*</td>\n",
       "      <td>*</td>\n",
       "      <td>*</td>\n",
       "      <td>*</td>\n",
       "      <td>*</td>\n",
       "      <td>*</td>\n",
       "      <td>*</td>\n",
       "      <td>*</td>\n",
       "      <td>*</td>\n",
       "      <td>*</td>\n",
       "      <td>*</td>\n",
       "      <td>*</td>\n",
       "      <td>16.00</td>\n",
       "      <td>75.00</td>\n",
       "      <td>137.00</td>\n",
       "      <td>164.00</td>\n",
       "    </tr>\n",
       "    <tr>\n",
       "      <th>PSP</th>\n",
       "      <td>*</td>\n",
       "      <td>*</td>\n",
       "      <td>*</td>\n",
       "      <td>*</td>\n",
       "      <td>*</td>\n",
       "      <td>*</td>\n",
       "      <td>*</td>\n",
       "      <td>*</td>\n",
       "      <td>15.00</td>\n",
       "      <td>95.00</td>\n",
       "      <td>189.00</td>\n",
       "      <td>133.00</td>\n",
       "      <td>100.00</td>\n",
       "      <td>161.00</td>\n",
       "      <td>188.00</td>\n",
       "      <td>139.00</td>\n",
       "      <td>106.00</td>\n",
       "      <td>54.00</td>\n",
       "      <td>10.00</td>\n",
       "      <td>3.00</td>\n",
       "      <td>*</td>\n",
       "    </tr>\n",
       "    <tr>\n",
       "      <th>PSV</th>\n",
       "      <td>*</td>\n",
       "      <td>*</td>\n",
       "      <td>*</td>\n",
       "      <td>*</td>\n",
       "      <td>*</td>\n",
       "      <td>*</td>\n",
       "      <td>*</td>\n",
       "      <td>*</td>\n",
       "      <td>*</td>\n",
       "      <td>*</td>\n",
       "      <td>*</td>\n",
       "      <td>*</td>\n",
       "      <td>*</td>\n",
       "      <td>*</td>\n",
       "      <td>*</td>\n",
       "      <td>18.00</td>\n",
       "      <td>53.00</td>\n",
       "      <td>63.00</td>\n",
       "      <td>100.00</td>\n",
       "      <td>110.00</td>\n",
       "      <td>85.00</td>\n",
       "    </tr>\n",
       "    <tr>\n",
       "      <th>SAT</th>\n",
       "      <td>38.00</td>\n",
       "      <td>34.00</td>\n",
       "      <td>29.00</td>\n",
       "      <td>1.00</td>\n",
       "      <td>*</td>\n",
       "      <td>*</td>\n",
       "      <td>*</td>\n",
       "      <td>*</td>\n",
       "      <td>*</td>\n",
       "      <td>*</td>\n",
       "      <td>*</td>\n",
       "      <td>*</td>\n",
       "      <td>*</td>\n",
       "      <td>*</td>\n",
       "      <td>*</td>\n",
       "      <td>*</td>\n",
       "      <td>*</td>\n",
       "      <td>*</td>\n",
       "      <td>*</td>\n",
       "      <td>*</td>\n",
       "      <td>*</td>\n",
       "    </tr>\n",
       "    <tr>\n",
       "      <th>SNES</th>\n",
       "      <td>30.00</td>\n",
       "      <td>4.00</td>\n",
       "      <td>2.00</td>\n",
       "      <td>1.00</td>\n",
       "      <td>*</td>\n",
       "      <td>*</td>\n",
       "      <td>*</td>\n",
       "      <td>*</td>\n",
       "      <td>*</td>\n",
       "      <td>*</td>\n",
       "      <td>*</td>\n",
       "      <td>*</td>\n",
       "      <td>*</td>\n",
       "      <td>*</td>\n",
       "      <td>*</td>\n",
       "      <td>*</td>\n",
       "      <td>*</td>\n",
       "      <td>*</td>\n",
       "      <td>*</td>\n",
       "      <td>*</td>\n",
       "      <td>*</td>\n",
       "    </tr>\n",
       "    <tr>\n",
       "      <th>WS</th>\n",
       "      <td>*</td>\n",
       "      <td>*</td>\n",
       "      <td>*</td>\n",
       "      <td>2.00</td>\n",
       "      <td>2.00</td>\n",
       "      <td>2.00</td>\n",
       "      <td>*</td>\n",
       "      <td>*</td>\n",
       "      <td>*</td>\n",
       "      <td>*</td>\n",
       "      <td>*</td>\n",
       "      <td>*</td>\n",
       "      <td>*</td>\n",
       "      <td>*</td>\n",
       "      <td>*</td>\n",
       "      <td>*</td>\n",
       "      <td>*</td>\n",
       "      <td>*</td>\n",
       "      <td>*</td>\n",
       "      <td>*</td>\n",
       "      <td>*</td>\n",
       "    </tr>\n",
       "    <tr>\n",
       "      <th>Wii</th>\n",
       "      <td>*</td>\n",
       "      <td>*</td>\n",
       "      <td>*</td>\n",
       "      <td>*</td>\n",
       "      <td>*</td>\n",
       "      <td>*</td>\n",
       "      <td>*</td>\n",
       "      <td>*</td>\n",
       "      <td>*</td>\n",
       "      <td>*</td>\n",
       "      <td>44.00</td>\n",
       "      <td>185.00</td>\n",
       "      <td>282.00</td>\n",
       "      <td>325.00</td>\n",
       "      <td>253.00</td>\n",
       "      <td>143.00</td>\n",
       "      <td>31.00</td>\n",
       "      <td>12.00</td>\n",
       "      <td>6.00</td>\n",
       "      <td>4.00</td>\n",
       "      <td>1.00</td>\n",
       "    </tr>\n",
       "    <tr>\n",
       "      <th>WiiU</th>\n",
       "      <td>*</td>\n",
       "      <td>*</td>\n",
       "      <td>*</td>\n",
       "      <td>*</td>\n",
       "      <td>*</td>\n",
       "      <td>*</td>\n",
       "      <td>*</td>\n",
       "      <td>*</td>\n",
       "      <td>*</td>\n",
       "      <td>*</td>\n",
       "      <td>*</td>\n",
       "      <td>*</td>\n",
       "      <td>*</td>\n",
       "      <td>*</td>\n",
       "      <td>*</td>\n",
       "      <td>*</td>\n",
       "      <td>32.00</td>\n",
       "      <td>42.00</td>\n",
       "      <td>31.00</td>\n",
       "      <td>28.00</td>\n",
       "      <td>14.00</td>\n",
       "    </tr>\n",
       "    <tr>\n",
       "      <th>X360</th>\n",
       "      <td>*</td>\n",
       "      <td>*</td>\n",
       "      <td>*</td>\n",
       "      <td>*</td>\n",
       "      <td>*</td>\n",
       "      <td>*</td>\n",
       "      <td>*</td>\n",
       "      <td>*</td>\n",
       "      <td>*</td>\n",
       "      <td>18.00</td>\n",
       "      <td>93.00</td>\n",
       "      <td>123.00</td>\n",
       "      <td>146.00</td>\n",
       "      <td>172.00</td>\n",
       "      <td>182.00</td>\n",
       "      <td>206.00</td>\n",
       "      <td>106.00</td>\n",
       "      <td>75.00</td>\n",
       "      <td>63.00</td>\n",
       "      <td>35.00</td>\n",
       "      <td>13.00</td>\n",
       "    </tr>\n",
       "    <tr>\n",
       "      <th>XB</th>\n",
       "      <td>*</td>\n",
       "      <td>*</td>\n",
       "      <td>*</td>\n",
       "      <td>*</td>\n",
       "      <td>1.00</td>\n",
       "      <td>33.00</td>\n",
       "      <td>158.00</td>\n",
       "      <td>189.00</td>\n",
       "      <td>177.00</td>\n",
       "      <td>179.00</td>\n",
       "      <td>62.00</td>\n",
       "      <td>3.00</td>\n",
       "      <td>1.00</td>\n",
       "      <td>*</td>\n",
       "      <td>*</td>\n",
       "      <td>*</td>\n",
       "      <td>*</td>\n",
       "      <td>*</td>\n",
       "      <td>*</td>\n",
       "      <td>*</td>\n",
       "      <td>*</td>\n",
       "    </tr>\n",
       "    <tr>\n",
       "      <th>XOne</th>\n",
       "      <td>*</td>\n",
       "      <td>*</td>\n",
       "      <td>*</td>\n",
       "      <td>*</td>\n",
       "      <td>*</td>\n",
       "      <td>*</td>\n",
       "      <td>*</td>\n",
       "      <td>*</td>\n",
       "      <td>*</td>\n",
       "      <td>*</td>\n",
       "      <td>*</td>\n",
       "      <td>*</td>\n",
       "      <td>*</td>\n",
       "      <td>*</td>\n",
       "      <td>*</td>\n",
       "      <td>*</td>\n",
       "      <td>*</td>\n",
       "      <td>19.00</td>\n",
       "      <td>61.00</td>\n",
       "      <td>80.00</td>\n",
       "      <td>87.00</td>\n",
       "    </tr>\n",
       "  </tbody>\n",
       "</table>\n",
       "</div>"
      ],
      "text/plain": [
       "year_of_release   1996   1997   1998   1999   2000   2001   2002   2003  \\\n",
       "platform                                                                  \n",
       "3DS                  *      *      *      *      *      *      *      *   \n",
       "DC                   *      *   7.00  14.00  20.00   8.00   1.00      *   \n",
       "DS                   *      *      *      *      *      *      *      *   \n",
       "GB                6.00   8.00   8.00  11.00  17.00  10.00      *      *   \n",
       "GBA                  *      *      *      *   1.00 107.00 198.00 150.00   \n",
       "GC                   *      *      *      *      *  22.00 152.00 144.00   \n",
       "N64              18.00  49.00  77.00 102.00  60.00   9.00   1.00      *   \n",
       "NG                2.00      *      *      *      *      *      *      *   \n",
       "PC                4.00   6.00   8.00   7.00   7.00  15.00  19.00  33.00   \n",
       "PCFX              1.00      *      *      *      *      *      *      *   \n",
       "PS              164.00 188.00 248.00 200.00 160.00  91.00  20.00   3.00   \n",
       "PS2                  *      *      *      *  82.00 185.00 280.00 256.00   \n",
       "PS3                  *      *      *      *      *      *      *      *   \n",
       "PS4                  *      *      *      *      *      *      *      *   \n",
       "PSP                  *      *      *      *      *      *      *      *   \n",
       "PSV                  *      *      *      *      *      *      *      *   \n",
       "SAT              38.00  34.00  29.00   1.00      *      *      *      *   \n",
       "SNES             30.00   4.00   2.00   1.00      *      *      *      *   \n",
       "WS                   *      *      *   2.00   2.00   2.00      *      *   \n",
       "Wii                  *      *      *      *      *      *      *      *   \n",
       "WiiU                 *      *      *      *      *      *      *      *   \n",
       "X360                 *      *      *      *      *      *      *      *   \n",
       "XB                   *      *      *      *   1.00  33.00 158.00 189.00   \n",
       "XOne                 *      *      *      *      *      *      *      *   \n",
       "\n",
       "year_of_release   2004   2005   2006   2007   2008   2009   2010   2011  \\\n",
       "platform                                                                  \n",
       "3DS                  *      *      *      *      *      *      * 116.00   \n",
       "DC                   *      *      *   1.00   1.00      *      *      *   \n",
       "DS               23.00 118.00 201.00 376.00 492.00 403.00 323.00 153.00   \n",
       "GB                   *      *      *      *      *      *      *      *   \n",
       "GBA             175.00 135.00  39.00   6.00      *      *      *      *   \n",
       "GC               83.00  97.00  40.00   4.00      *      *      *      *   \n",
       "N64                  *      *      *      *      *      *      *      *   \n",
       "NG                   *      *      *      *      *      *      *      *   \n",
       "PC               30.00  37.00  52.00  62.00  76.00 107.00  90.00 139.00   \n",
       "PCFX                 *      *      *      *      *      *      *      *   \n",
       "PS                   *      *      *      *      *      *      *      *   \n",
       "PS2             259.00 260.00 259.00 214.00 191.00  96.00  38.00   7.00   \n",
       "PS3                  *      *  27.00  90.00 138.00 162.00 181.00 215.00   \n",
       "PS4                  *      *      *      *      *      *      *      *   \n",
       "PSP              15.00  95.00 189.00 133.00 100.00 161.00 188.00 139.00   \n",
       "PSV                  *      *      *      *      *      *      *  18.00   \n",
       "SAT                  *      *      *      *      *      *      *      *   \n",
       "SNES                 *      *      *      *      *      *      *      *   \n",
       "WS                   *      *      *      *      *      *      *      *   \n",
       "Wii                  *      *  44.00 185.00 282.00 325.00 253.00 143.00   \n",
       "WiiU                 *      *      *      *      *      *      *      *   \n",
       "X360                 *  18.00  93.00 123.00 146.00 172.00 182.00 206.00   \n",
       "XB              177.00 179.00  62.00   3.00   1.00      *      *      *   \n",
       "XOne                 *      *      *      *      *      *      *      *   \n",
       "\n",
       "year_of_release   2012   2013   2014   2015   2016  \n",
       "platform                                            \n",
       "3DS              93.00  91.00  80.00  86.00  46.00  \n",
       "DC                   *      *      *      *      *  \n",
       "DS               23.00   8.00      *      *      *  \n",
       "GB                   *      *      *      *      *  \n",
       "GBA                  *      *      *      *      *  \n",
       "GC                   *      *      *      *      *  \n",
       "N64                  *      *      *      *      *  \n",
       "NG                   *      *      *      *      *  \n",
       "PC               61.00  38.00  47.00  50.00  54.00  \n",
       "PCFX                 *      *      *      *      *  \n",
       "PS                   *      *      *      *      *  \n",
       "PS2                  *      *      *      *      *  \n",
       "PS3             148.00 126.00 108.00  73.00  38.00  \n",
       "PS4                  *  16.00  75.00 137.00 164.00  \n",
       "PSP             106.00  54.00  10.00   3.00      *  \n",
       "PSV              53.00  63.00 100.00 110.00  85.00  \n",
       "SAT                  *      *      *      *      *  \n",
       "SNES                 *      *      *      *      *  \n",
       "WS                   *      *      *      *      *  \n",
       "Wii              31.00  12.00   6.00   4.00   1.00  \n",
       "WiiU             32.00  42.00  31.00  28.00  14.00  \n",
       "X360            106.00  75.00  63.00  35.00  13.00  \n",
       "XB                   *      *      *      *      *  \n",
       "XOne                 *  19.00  61.00  80.00  87.00  "
      ]
     },
     "execution_count": 20,
     "metadata": {},
     "output_type": "execute_result"
    }
   ],
   "source": [
    "games.query('year_of_release > 1995')\\\n",
    "     .pivot_table(index='platform', columns='year_of_release', values='name', aggfunc='count', fill_value='*')"
   ]
  },
  {
   "cell_type": "markdown",
   "metadata": {},
   "source": [
    "Видно, что каждая платформа появляется и исчезает, и для каждого года есть свой ряд игровых платформ."
   ]
  },
  {
   "cell_type": "code",
   "execution_count": 21,
   "metadata": {
    "scrolled": false
   },
   "outputs": [
    {
     "data": {
      "text/plain": [
       "'топ 10 игровых платформ по кол-ву продаж'"
      ]
     },
     "metadata": {},
     "output_type": "display_data"
    },
    {
     "data": {
      "text/html": [
       "<div>\n",
       "<style scoped>\n",
       "    .dataframe tbody tr th:only-of-type {\n",
       "        vertical-align: middle;\n",
       "    }\n",
       "\n",
       "    .dataframe tbody tr th {\n",
       "        vertical-align: top;\n",
       "    }\n",
       "\n",
       "    .dataframe thead th {\n",
       "        text-align: right;\n",
       "    }\n",
       "</style>\n",
       "<table border=\"1\" class=\"dataframe\">\n",
       "  <thead>\n",
       "    <tr style=\"text-align: right;\">\n",
       "      <th></th>\n",
       "      <th>total_sales</th>\n",
       "    </tr>\n",
       "    <tr>\n",
       "      <th>platform</th>\n",
       "      <th></th>\n",
       "    </tr>\n",
       "  </thead>\n",
       "  <tbody>\n",
       "    <tr>\n",
       "      <th>PS2</th>\n",
       "      <td>1,255.77</td>\n",
       "    </tr>\n",
       "    <tr>\n",
       "      <th>X360</th>\n",
       "      <td>971.42</td>\n",
       "    </tr>\n",
       "    <tr>\n",
       "      <th>PS3</th>\n",
       "      <td>939.65</td>\n",
       "    </tr>\n",
       "    <tr>\n",
       "      <th>Wii</th>\n",
       "      <td>907.51</td>\n",
       "    </tr>\n",
       "    <tr>\n",
       "      <th>DS</th>\n",
       "      <td>806.12</td>\n",
       "    </tr>\n",
       "    <tr>\n",
       "      <th>PS</th>\n",
       "      <td>730.86</td>\n",
       "    </tr>\n",
       "    <tr>\n",
       "      <th>GBA</th>\n",
       "      <td>317.85</td>\n",
       "    </tr>\n",
       "    <tr>\n",
       "      <th>PS4</th>\n",
       "      <td>314.14</td>\n",
       "    </tr>\n",
       "    <tr>\n",
       "      <th>PSP</th>\n",
       "      <td>294.05</td>\n",
       "    </tr>\n",
       "    <tr>\n",
       "      <th>PC</th>\n",
       "      <td>259.52</td>\n",
       "    </tr>\n",
       "  </tbody>\n",
       "</table>\n",
       "</div>"
      ],
      "text/plain": [
       "          total_sales\n",
       "platform             \n",
       "PS2          1,255.77\n",
       "X360           971.42\n",
       "PS3            939.65\n",
       "Wii            907.51\n",
       "DS             806.12\n",
       "PS             730.86\n",
       "GBA            317.85\n",
       "PS4            314.14\n",
       "PSP            294.05\n",
       "PC             259.52"
      ]
     },
     "metadata": {},
     "output_type": "display_data"
    }
   ],
   "source": [
    "games_sales_top = games.pivot_table(index='platform', values='total_sales', aggfunc='sum').nlargest(10, 'total_sales')\n",
    "display('топ 10 игровых платформ по кол-ву продаж', games_sales_top)"
   ]
  },
  {
   "cell_type": "markdown",
   "metadata": {},
   "source": [
    "Xbox 360 и PS3 стремились догнать PS2, но тот был и остался бесспорным лидером продаж."
   ]
  },
  {
   "cell_type": "code",
   "execution_count": 22,
   "metadata": {},
   "outputs": [
    {
     "name": "stdout",
     "output_type": "stream",
     "text": [
      "Index(['PS2', 'X360', 'PS3', 'Wii', 'DS', 'PS', 'GBA', 'PS4', 'PSP', 'PC'], dtype='object', name='platform')\n"
     ]
    }
   ],
   "source": [
    "print(games_sales_top.index)"
   ]
  },
  {
   "cell_type": "code",
   "execution_count": 23,
   "metadata": {
    "scrolled": false
   },
   "outputs": [
    {
     "data": {
      "image/png": "[encoded data removed]",
      "text/plain": [
       "<Figure size 1440x576 with 1 Axes>"
      ]
     },
     "metadata": {
      "needs_background": "light"
     },
     "output_type": "display_data"
    }
   ],
   "source": [
    "games10 = games[games['year_of_release'] >= 1994]\\\n",
    "               .pivot_table(index='year_of_release', columns='platform', values='total_sales', aggfunc='sum')\\\n",
    "               .loc[:, ['PS2', 'X360', 'PS3', 'Wii', 'DS', 'PS', 'GBA', 'PS4', 'PSP', 'PC']]\n",
    "plt.figure(figsize=(20,8))\n",
    "sns.lineplot(data = games10, linewidth = 5, dashes=False)\n",
    "plt.title('Распределение по годам платформ с максимальными продажами')\n",
    "plt.xlabel('Год')\n",
    "plt.ylabel('Продажи, млн.')\n",
    "plt.legend(loc='upper left', fontsize=18)\n",
    "plt.show()"
   ]
  },
  {
   "cell_type": "markdown",
   "metadata": {},
   "source": [
    "Ладно уж игры на ПК со времен 80-х, но игры на DS, с учетом, что платформа появилась после нулевых...  \n",
    "Рассчет среднего времени жизни платформы этот один результат может исказить."
   ]
  },
  {
   "cell_type": "code",
   "execution_count": 24,
   "metadata": {
    "scrolled": true
   },
   "outputs": [
    {
     "data": {
      "text/html": [
       "<div>\n",
       "<style scoped>\n",
       "    .dataframe tbody tr th:only-of-type {\n",
       "        vertical-align: middle;\n",
       "    }\n",
       "\n",
       "    .dataframe tbody tr th {\n",
       "        vertical-align: top;\n",
       "    }\n",
       "\n",
       "    .dataframe thead th {\n",
       "        text-align: right;\n",
       "    }\n",
       "</style>\n",
       "<table border=\"1\" class=\"dataframe\">\n",
       "  <thead>\n",
       "    <tr style=\"text-align: right;\">\n",
       "      <th></th>\n",
       "      <th>name</th>\n",
       "      <th>platform</th>\n",
       "      <th>year_of_release</th>\n",
       "      <th>genre</th>\n",
       "      <th>na_sales</th>\n",
       "      <th>eu_sales</th>\n",
       "      <th>jp_sales</th>\n",
       "      <th>other_sales</th>\n",
       "      <th>critic_score</th>\n",
       "      <th>user_score</th>\n",
       "      <th>rating</th>\n",
       "      <th>total_sales</th>\n",
       "    </tr>\n",
       "  </thead>\n",
       "  <tbody>\n",
       "    <tr>\n",
       "      <th>15957</th>\n",
       "      <td>Strongest Tokyo University Shogi DS</td>\n",
       "      <td>DS</td>\n",
       "      <td>1985</td>\n",
       "      <td>Action</td>\n",
       "      <td>0.00</td>\n",
       "      <td>0.00</td>\n",
       "      <td>0.02</td>\n",
       "      <td>0.00</td>\n",
       "      <td>-1.00</td>\n",
       "      <td>-1.00</td>\n",
       "      <td>-1</td>\n",
       "      <td>0.02</td>\n",
       "    </tr>\n",
       "  </tbody>\n",
       "</table>\n",
       "</div>"
      ],
      "text/plain": [
       "                                      name platform  year_of_release   genre  \\\n",
       "15957  Strongest Tokyo University Shogi DS       DS             1985  Action   \n",
       "\n",
       "       na_sales  eu_sales  jp_sales  other_sales  critic_score  user_score  \\\n",
       "15957      0.00      0.00      0.02         0.00         -1.00       -1.00   \n",
       "\n",
       "      rating  total_sales  \n",
       "15957     -1         0.02  "
      ]
     },
     "execution_count": 24,
     "metadata": {},
     "output_type": "execute_result"
    }
   ],
   "source": [
    "games.query('platform == \"DS\" and 1980 < year_of_release < 2000')"
   ]
  },
  {
   "cell_type": "code",
   "execution_count": 25,
   "metadata": {},
   "outputs": [],
   "source": [
    "games.loc[15957, 'release_year'] = 2010 # Трудно найти актуальную информацию, но вроде 2010 год в интеренте нашёл"
   ]
  },
  {
   "cell_type": "markdown",
   "metadata": {},
   "source": []
  },
  {
   "cell_type": "code",
   "execution_count": 26,
   "metadata": {
    "scrolled": true
   },
   "outputs": [
    {
     "name": "stdout",
     "output_type": "stream",
     "text": [
      "годы жизни всех платформ:\n",
      "[10, 2, 6, 11, 29, 14, 8, 7, 5, 1, 7, 12, 4, 32, 1, 10, 12, 11, 4, 12, 6, 6, 2, 10, 1, 3, 11, 5, 12, 9, 4]\n",
      "Средняя продолжительность жизни платформы: 9 лет\n"
     ]
    }
   ],
   "source": [
    "games_plat = games[games['year_of_release'] != -1]\\\n",
    "               .pivot_table(index='year_of_release', columns='platform', values='total_sales', aggfunc='sum')\n",
    "duration=[]\n",
    "for plat in games_plat.columns:\n",
    "    lst=(games_plat.index[~games_plat[plat].isnull()])\n",
    "    period =lst.max()-lst.min()+1\n",
    "    duration.append(period)\n",
    "print('годы жизни всех платформ:')\n",
    "print(duration)\n",
    "print('Средняя продолжительность жизни платформы:', round(np.mean(duration)), 'лет')\n"
   ]
  },
  {
   "cell_type": "markdown",
   "metadata": {},
   "source": [
    "**- Возьмите данные за соответствующий актуальный период. Актуальный период определите самостоятельно в результате исследования предыдущих вопросов. Основной фактор — эти данные помогут построить прогноз на 2017 год.**  \n",
    "**- Не учитывайте в работе данные за предыдущие годы.**"
   ]
  },
  {
   "cell_type": "markdown",
   "metadata": {},
   "source": [
    "Актуальный период - за последние 3 года. Более ранние данные не имеет смысла учитывать в столь быстро меняющейся индустрии."
   ]
  },
  {
   "cell_type": "code",
   "execution_count": 27,
   "metadata": {},
   "outputs": [],
   "source": [
    "games_relevant = games.query('year_of_release > 2013')"
   ]
  },
  {
   "cell_type": "markdown",
   "metadata": {},
   "source": [
    "### Какие платформы лидируют по продажам, растут или падают? Выберите несколько потенциально прибыльных платформ."
   ]
  },
  {
   "cell_type": "code",
   "execution_count": 28,
   "metadata": {},
   "outputs": [
    {
     "name": "stdout",
     "output_type": "stream",
     "text": [
      "10 лидеров по продажам:\n",
      "['PS4', 'XOne', '3DS', 'PS3', 'X360', 'WiiU', 'PC', 'PSV', 'Wii', 'PSP']\n"
     ]
    }
   ],
   "source": [
    "platform = games_relevant.pivot_table(index='platform', values='total_sales', aggfunc='sum').nlargest(10, 'total_sales')     \n",
    "print('10 лидеров по продажам:')\n",
    "print(list(platform.index))"
   ]
  },
  {
   "cell_type": "code",
   "execution_count": 29,
   "metadata": {
    "scrolled": true
   },
   "outputs": [
    {
     "data": {
      "image/png": "[encoded data removed]",
      "text/plain": [
       "<Figure size 720x432 with 1 Axes>"
      ]
     },
     "metadata": {
      "needs_background": "light"
     },
     "output_type": "display_data"
    }
   ],
   "source": [
    "top_platform = games_relevant\\\n",
    "              .pivot_table(index='year_of_release', columns='platform', values='total_sales', aggfunc='sum')\\\n",
    "              .loc[:, ['PS4', 'XOne', '3DS', 'PS3', 'X360', 'WiiU', 'PC', 'PSV', 'Wii', 'PSP']]\n",
    "plt.figure(figsize=(10,6))\n",
    "sns.lineplot(data = top_platform, linewidth = 4, dashes=False)\n",
    "plt.title('10 платформ с наибольшими продажами по годам')\n",
    "plt.xlabel('Год')\n",
    "plt.ylabel('Продажи, млн')\n",
    "plt.legend(loc='upper right', fontsize=20, bbox_to_anchor=(1.25, 1))\n",
    "plt.show()"
   ]
  },
  {
   "cell_type": "markdown",
   "metadata": {},
   "source": [
    "За последние три года лидерами по продажам были PS4, Xone, 3Ds и PS3, однако за последний год все эти платформы падают в количестве продаж. В то же время к 2016 году все остальные платформы, как и PS3 сошли на нет, устарели. По сути на рынке остаются лишь PS4 и Xone, которые остаются ещё прибыльными, поэтому за актуальный период можно взять года с появления этих платформ на рынке."
   ]
  },
  {
   "cell_type": "markdown",
   "metadata": {},
   "source": [
    "### Постройте график «ящик с усами» по глобальным продажам игр в разбивке по платформам. Опишите результат."
   ]
  },
  {
   "cell_type": "code",
   "execution_count": 30,
   "metadata": {},
   "outputs": [
    {
     "data": {
      "text/plain": [
       "(0.0, 2.5)"
      ]
     },
     "execution_count": 30,
     "metadata": {},
     "output_type": "execute_result"
    },
    {
     "data": {
      "image/png": "[encoded data removed]",
      "text/plain": [
       "<Figure size 504x504 with 1 Axes>"
      ]
     },
     "metadata": {
      "needs_background": "light"
     },
     "output_type": "display_data"
    }
   ],
   "source": [
    "sns.catplot(x=\"platform\", y='total_sales', \n",
    "            kind=\"box\", data=games_relevant, \n",
    "            orient='v', height=7)\n",
    "plt.title('Количество продаж на платформах за 2013-16гг')\n",
    "plt.xlabel('Платформы')\n",
    "plt.ylabel('Продажи, млн')\n",
    "plt.ylim(0, 2.5)"
   ]
  },
  {
   "cell_type": "markdown",
   "metadata": {},
   "source": [
    "Количество продаж на всех платформах в основном не достигает 800 тысяч, \"усы\" платформ с наибольшими продажами в среднем около отметки в 1,5 млн копий. Выбивающиеся значения достигают миллионов проданных копий, лишь у малого количества игр достигая в десятки миллионов продаж."
   ]
  },
  {
   "cell_type": "markdown",
   "metadata": {},
   "source": [
    "### Посмотрите, как влияют на продажи внутри одной популярной платформы отзывы пользователей и критиков. Постройте диаграмму рассеяния и посчитайте корреляцию между отзывами и продажами. Сформулируйте выводы."
   ]
  },
  {
   "cell_type": "markdown",
   "metadata": {},
   "source": [
    "Возьму для рассмотрения платформу PS4."
   ]
  },
  {
   "cell_type": "code",
   "execution_count": 31,
   "metadata": {
    "scrolled": true
   },
   "outputs": [
    {
     "data": {
      "image/png": "[encoded data removed]",
      "text/plain": [
       "<Figure size 432x288 with 1 Axes>"
      ]
     },
     "metadata": {
      "needs_background": "light"
     },
     "output_type": "display_data"
    },
    {
     "name": "stdout",
     "output_type": "stream",
     "text": [
      "Коэффициент корреляции: -0.043\n"
     ]
    }
   ],
   "source": [
    "games_relevant = games_relevant.query('user_score != -1 and critic_score != -1')\n",
    "ps4 = games_relevant.query('platform ==\"PS4\"')\n",
    "sns.scatterplot(data=ps4, \n",
    "            x='user_score', \n",
    "            y='total_sales',\n",
    "            )\n",
    "plt.title('Влияние отзывов пользователей на продажи PS4')\n",
    "plt.xlabel('Оценка')\n",
    "plt.ylabel('Продажи, млн')\n",
    "plt.xlim(0, 10)\n",
    "plt.show()\n",
    "print('Коэффициент корреляции: ' + str(round(ps4['user_score'].corr(ps4['total_sales']),3)))"
   ]
  },
  {
   "cell_type": "code",
   "execution_count": 32,
   "metadata": {},
   "outputs": [
    {
     "data": {
      "image/png": "[encoded data removed]",
      "text/plain": [
       "<Figure size 432x288 with 1 Axes>"
      ]
     },
     "metadata": {
      "needs_background": "light"
     },
     "output_type": "display_data"
    },
    {
     "name": "stdout",
     "output_type": "stream",
     "text": [
      "Коэффициент корреляции: 0.402\n"
     ]
    }
   ],
   "source": [
    "sns.scatterplot(data=ps4, \n",
    "            x='critic_score', \n",
    "            y='total_sales',\n",
    "            )\n",
    "plt.title('Влияние оценки критиков на продажи PS4')\n",
    "plt.xlabel('Оценка')\n",
    "plt.ylabel('Продажи, млн')\n",
    "plt.xlim(0, 100)\n",
    "plt.show()\n",
    "print('Коэффициент корреляции: ' + str(round(ps4['critic_score'].corr(ps4['total_sales']),3)))"
   ]
  },
  {
   "cell_type": "markdown",
   "metadata": {},
   "source": [
    "Связи между отзывами пользователей и продажами нет, в то время как оценка критиков оказывает среднее влияние на продажи. Тем не менее есть игры с невысокой оценкой критиков, но продаж у них было много - возможно повлияли другие факторы, например реклама. Также есть игры с высокой оценкой и малыми продажами."
   ]
  },
  {
   "cell_type": "markdown",
   "metadata": {},
   "source": [
    "### Соотнесите выводы с продажами игр на других платформах."
   ]
  },
  {
   "cell_type": "code",
   "execution_count": 33,
   "metadata": {},
   "outputs": [
    {
     "name": "stdout",
     "output_type": "stream",
     "text": [
      "Коэффициент корреляции оценок пользователей к продажам PS3 0.157\n",
      "Коэффициент корреляции оценок пользователей к продажам X360 0.337\n",
      "Коэффициент корреляции оценок пользователей к продажам Wii nan\n",
      "Коэффициент корреляции оценок пользователей к продажам DS nan\n",
      "Коэффициент корреляции оценок пользователей к продажам 3DS 0.28\n",
      "Коэффициент корреляции оценок пользователей к продажам XOne -0.092\n",
      "Коэффициент корреляции оценок пользователей к продажам PC -0.09\n",
      "Коэффициент корреляции оценок пользователей к продажам PSP nan\n",
      "Коэффициент корреляции оценок пользователей к продажам PS2 nan\n"
     ]
    }
   ],
   "source": [
    "for exemple in ['PS3', 'X360', 'Wii', 'DS', '3DS', 'XOne', 'PC', 'PSP', 'PS2']:\n",
    "    plat = games_relevant.query('platform == @exemple')\n",
    "    correlation = round(plat['user_score'].corr(plat['total_sales']),3)\n",
    "    print('Коэффициент корреляции оценок пользователей к продажам', exemple, correlation)"
   ]
  },
  {
   "cell_type": "code",
   "execution_count": 34,
   "metadata": {},
   "outputs": [
    {
     "name": "stdout",
     "output_type": "stream",
     "text": [
      "Коэффициент корреляции оценок критиков к продажам PS3 0.447\n",
      "Коэффициент корреляции оценок критиков к продажам X360 0.526\n",
      "Коэффициент корреляции оценок критиков к продажам Wii nan\n",
      "Коэффициент корреляции оценок критиков к продажам DS nan\n",
      "Коэффициент корреляции оценок критиков к продажам 3DS 0.285\n",
      "Коэффициент корреляции оценок критиков к продажам XOne 0.422\n",
      "Коэффициент корреляции оценок критиков к продажам PC 0.172\n",
      "Коэффициент корреляции оценок критиков к продажам PSP nan\n",
      "Коэффициент корреляции оценок критиков к продажам PS2 nan\n"
     ]
    }
   ],
   "source": [
    "for exemple in ['PS3', 'X360', 'Wii', 'DS', '3DS', 'XOne', 'PC', 'PSP', 'PS2']:\n",
    "    plat = games_relevant.query('platform == @exemple')\n",
    "    correlation = round(plat['critic_score'].corr(plat['total_sales']),3)\n",
    "    print('Коэффициент корреляции оценок критиков к продажам', exemple, correlation)"
   ]
  },
  {
   "cell_type": "markdown",
   "metadata": {},
   "source": [
    "Связь оценок пользователей и продаж наблюдается только с платформами 3DS и X360, и то небольшая. По остальным же связь отсутствует.  \n",
    "Связь же оценок критиков и продаж на том же среднем уровне, что и с PS4. Незначительное влияние оценки оказывают на PC и 3DS"
   ]
  },
  {
   "cell_type": "markdown",
   "metadata": {},
   "source": [
    "### Посмотрите на общее распределение игр по жанрам. Что можно сказать о самых прибыльных жанрах? Выделяются ли жанры с высокими и низкими продажами?"
   ]
  },
  {
   "cell_type": "markdown",
   "metadata": {},
   "source": [
    "Нагляднее всего процентное соотношение покажет кругвая диаграмма."
   ]
  },
  {
   "cell_type": "code",
   "execution_count": 35,
   "metadata": {},
   "outputs": [
    {
     "data": {
      "text/html": [
       "<div>\n",
       "<style scoped>\n",
       "    .dataframe tbody tr th:only-of-type {\n",
       "        vertical-align: middle;\n",
       "    }\n",
       "\n",
       "    .dataframe tbody tr th {\n",
       "        vertical-align: top;\n",
       "    }\n",
       "\n",
       "    .dataframe thead th {\n",
       "        text-align: right;\n",
       "    }\n",
       "</style>\n",
       "<table border=\"1\" class=\"dataframe\">\n",
       "  <thead>\n",
       "    <tr style=\"text-align: right;\">\n",
       "      <th></th>\n",
       "      <th>sum</th>\n",
       "      <th>count</th>\n",
       "      <th>mean</th>\n",
       "      <th>median</th>\n",
       "    </tr>\n",
       "    <tr>\n",
       "      <th>genre</th>\n",
       "      <th></th>\n",
       "      <th></th>\n",
       "      <th></th>\n",
       "      <th></th>\n",
       "    </tr>\n",
       "  </thead>\n",
       "  <tbody>\n",
       "    <tr>\n",
       "      <th>Action</th>\n",
       "      <td>126.39</td>\n",
       "      <td>227</td>\n",
       "      <td>0.56</td>\n",
       "      <td>0.16</td>\n",
       "    </tr>\n",
       "    <tr>\n",
       "      <th>Role-Playing</th>\n",
       "      <td>49.14</td>\n",
       "      <td>97</td>\n",
       "      <td>0.51</td>\n",
       "      <td>0.16</td>\n",
       "    </tr>\n",
       "    <tr>\n",
       "      <th>Shooter</th>\n",
       "      <td>111.09</td>\n",
       "      <td>87</td>\n",
       "      <td>1.28</td>\n",
       "      <td>0.62</td>\n",
       "    </tr>\n",
       "    <tr>\n",
       "      <th>Sports</th>\n",
       "      <td>78.27</td>\n",
       "      <td>83</td>\n",
       "      <td>0.94</td>\n",
       "      <td>0.43</td>\n",
       "    </tr>\n",
       "    <tr>\n",
       "      <th>Racing</th>\n",
       "      <td>22.00</td>\n",
       "      <td>45</td>\n",
       "      <td>0.49</td>\n",
       "      <td>0.13</td>\n",
       "    </tr>\n",
       "    <tr>\n",
       "      <th>Adventure</th>\n",
       "      <td>5.74</td>\n",
       "      <td>34</td>\n",
       "      <td>0.17</td>\n",
       "      <td>0.07</td>\n",
       "    </tr>\n",
       "    <tr>\n",
       "      <th>Misc</th>\n",
       "      <td>12.04</td>\n",
       "      <td>32</td>\n",
       "      <td>0.38</td>\n",
       "      <td>0.32</td>\n",
       "    </tr>\n",
       "    <tr>\n",
       "      <th>Fighting</th>\n",
       "      <td>12.37</td>\n",
       "      <td>31</td>\n",
       "      <td>0.40</td>\n",
       "      <td>0.15</td>\n",
       "    </tr>\n",
       "    <tr>\n",
       "      <th>Platform</th>\n",
       "      <td>15.00</td>\n",
       "      <td>26</td>\n",
       "      <td>0.58</td>\n",
       "      <td>0.15</td>\n",
       "    </tr>\n",
       "    <tr>\n",
       "      <th>Simulation</th>\n",
       "      <td>9.73</td>\n",
       "      <td>20</td>\n",
       "      <td>0.49</td>\n",
       "      <td>0.15</td>\n",
       "    </tr>\n",
       "    <tr>\n",
       "      <th>Strategy</th>\n",
       "      <td>2.67</td>\n",
       "      <td>18</td>\n",
       "      <td>0.15</td>\n",
       "      <td>0.11</td>\n",
       "    </tr>\n",
       "    <tr>\n",
       "      <th>Puzzle</th>\n",
       "      <td>1.28</td>\n",
       "      <td>4</td>\n",
       "      <td>0.32</td>\n",
       "      <td>0.04</td>\n",
       "    </tr>\n",
       "  </tbody>\n",
       "</table>\n",
       "</div>"
      ],
      "text/plain": [
       "                sum  count  mean  median\n",
       "genre                                   \n",
       "Action       126.39    227  0.56    0.16\n",
       "Role-Playing  49.14     97  0.51    0.16\n",
       "Shooter      111.09     87  1.28    0.62\n",
       "Sports        78.27     83  0.94    0.43\n",
       "Racing        22.00     45  0.49    0.13\n",
       "Adventure      5.74     34  0.17    0.07\n",
       "Misc          12.04     32  0.38    0.32\n",
       "Fighting      12.37     31  0.40    0.15\n",
       "Platform      15.00     26  0.58    0.15\n",
       "Simulation     9.73     20  0.49    0.15\n",
       "Strategy       2.67     18  0.15    0.11\n",
       "Puzzle         1.28      4  0.32    0.04"
      ]
     },
     "execution_count": 35,
     "metadata": {},
     "output_type": "execute_result"
    }
   ],
   "source": [
    "games_genre = games_relevant.pivot_table(index='genre', values='total_sales', aggfunc=['sum', 'count', 'mean', 'median'])\n",
    "games_genre.columns = ['sum', 'count', 'mean', 'median']\n",
    "games_genre.sort_values(by='count', ascending=False)"
   ]
  },
  {
   "cell_type": "code",
   "execution_count": 36,
   "metadata": {},
   "outputs": [
    {
     "data": {
      "text/plain": [
       "[Text(0, 0.5, '')]"
      ]
     },
     "execution_count": 36,
     "metadata": {},
     "output_type": "execute_result"
    },
    {
     "data": {
      "image/png": "[encoded data removed]",
      "text/plain": [
       "<Figure size 504x504 with 1 Axes>"
      ]
     },
     "metadata": {},
     "output_type": "display_data"
    }
   ],
   "source": [
    "games_genre.plot(kind='pie',y='count', autopct='%1.0f%%', legend=False,\\\n",
    "                 title = 'Доля жанров в общем количестве игр', figsize=(7,7)).set(ylabel='')"
   ]
  },
  {
   "cell_type": "code",
   "execution_count": 37,
   "metadata": {},
   "outputs": [
    {
     "data": {
      "text/plain": [
       "[Text(0, 0.5, '')]"
      ]
     },
     "execution_count": 37,
     "metadata": {},
     "output_type": "execute_result"
    },
    {
     "data": {
      "image/png": "[encoded data removed]",
      "text/plain": [
       "<Figure size 504x504 with 1 Axes>"
      ]
     },
     "metadata": {},
     "output_type": "display_data"
    }
   ],
   "source": [
    "games_genre.plot(kind='pie',y='median', autopct='%1.0f%%', legend=False,\\\n",
    "                 title = 'Медианный доход игр по жанрам', figsize=(7,7)).set(ylabel='')"
   ]
  },
  {
   "cell_type": "markdown",
   "metadata": {},
   "source": [
    "Игр жанра Action больше всего, в количественном аспекте они лидеры, однако `самый прибыльный жанр` - шутеры, затем идет спорт и после - аркады (Misc). Жанры, в которых меньше всего прибыли - приключения и пазлы.  \n",
    "Жанры shooter и sport имеют наибольший коэффициент количества выпущенных игр к прибыли с их продаж.  \n",
    "Разница в разы между средним и медианным значениями говорит о том, что в данных жанрах есть игры с огромной долей выручки и много игр с невысокими доходами."
   ]
  },
  {
   "cell_type": "markdown",
   "metadata": {},
   "source": [
    "## Составление портрета пользователя каждого региона"
   ]
  },
  {
   "cell_type": "markdown",
   "metadata": {},
   "source": [
    "### Самые популярные платформы"
   ]
  },
  {
   "cell_type": "code",
   "execution_count": 38,
   "metadata": {},
   "outputs": [
    {
     "data": {
      "text/plain": [
       "<AxesSubplot:title={'center':'Популярные платформы в Америке'}, ylabel='sales'>"
      ]
     },
     "execution_count": 38,
     "metadata": {},
     "output_type": "execute_result"
    },
    {
     "data": {
      "image/png": "[encoded data removed]",
      "text/plain": [
       "<Figure size 504x504 with 1 Axes>"
      ]
     },
     "metadata": {},
     "output_type": "display_data"
    }
   ],
   "source": [
    "na_sales = games_relevant.pivot_table(index='platform', values='na_sales', aggfunc='sum').nlargest(5, 'na_sales')\n",
    "na_sales.columns = ['sales']\n",
    "na_sales.plot(kind='pie',y=\"sales\", autopct='%1.0f%%', legend=False,\\\n",
    "              title = \"Популярные платформы в Америке\", figsize=(7,7))"
   ]
  },
  {
   "cell_type": "code",
   "execution_count": 39,
   "metadata": {},
   "outputs": [
    {
     "data": {
      "text/plain": [
       "<AxesSubplot:title={'center':'Популярные платформы в Европе'}, ylabel='sales'>"
      ]
     },
     "execution_count": 39,
     "metadata": {},
     "output_type": "execute_result"
    },
    {
     "data": {
      "image/png": "[encoded data removed]",
      "text/plain": [
       "<Figure size 504x504 with 1 Axes>"
      ]
     },
     "metadata": {},
     "output_type": "display_data"
    }
   ],
   "source": [
    "eu_sales = games_relevant.pivot_table(index='platform', values='eu_sales', aggfunc='sum').nlargest(5, 'eu_sales')\n",
    "eu_sales.columns = ['sales']\n",
    "eu_sales.plot(kind='pie',y=\"sales\", autopct='%1.0f%%', legend=False,\\\n",
    "              title = \"Популярные платформы в Европе\", figsize=(7,7))"
   ]
  },
  {
   "cell_type": "code",
   "execution_count": 40,
   "metadata": {
    "scrolled": false
   },
   "outputs": [
    {
     "data": {
      "text/plain": [
       "<AxesSubplot:title={'center':'Популярные платформы в Японии'}, ylabel='sales'>"
      ]
     },
     "execution_count": 40,
     "metadata": {},
     "output_type": "execute_result"
    },
    {
     "data": {
      "image/png": "[encoded data removed]",
      "text/plain": [
       "<Figure size 504x504 with 1 Axes>"
      ]
     },
     "metadata": {},
     "output_type": "display_data"
    }
   ],
   "source": [
    "jp_sales = games_relevant.pivot_table(index='platform', values='jp_sales', aggfunc='sum').nlargest(5, 'jp_sales')\n",
    "jp_sales.columns = ['sales']\n",
    "jp_sales.plot(kind='pie',y=\"sales\", autopct='%1.0f%%', legend=False,\\\n",
    "              title = \"Популярные платформы в Японии\", figsize=(7,7))"
   ]
  },
  {
   "cell_type": "markdown",
   "metadata": {},
   "source": [
    "В Европе и Америке популярные платформы почти одни и те же, небольшая разница в доле на рынке. В Японии же в лидерах карманные приставки и PS3/4. "
   ]
  },
  {
   "cell_type": "markdown",
   "metadata": {},
   "source": [
    "### Самые популярные жанры"
   ]
  },
  {
   "cell_type": "code",
   "execution_count": 41,
   "metadata": {},
   "outputs": [
    {
     "data": {
      "text/plain": [
       "[Text(0, 0.5, '')]"
      ]
     },
     "execution_count": 41,
     "metadata": {},
     "output_type": "execute_result"
    },
    {
     "data": {
      "image/png": "[encoded data removed]",
      "text/plain": [
       "<Figure size 504x504 with 1 Axes>"
      ]
     },
     "metadata": {},
     "output_type": "display_data"
    }
   ],
   "source": [
    "na_genre = games_relevant.pivot_table(index='genre', values='na_sales', aggfunc='sum').nlargest(5, 'na_sales')\n",
    "na_genre.columns = ['sales']\n",
    "na_genre.plot(kind='pie',y=\"sales\", autopct='%1.0f%%', legend=False,\\\n",
    "              title = \"Популярные жанры в Америке\", figsize=(7,7)).set(ylabel='')"
   ]
  },
  {
   "cell_type": "code",
   "execution_count": 42,
   "metadata": {},
   "outputs": [
    {
     "data": {
      "text/plain": [
       "[Text(0, 0.5, '')]"
      ]
     },
     "execution_count": 42,
     "metadata": {},
     "output_type": "execute_result"
    },
    {
     "data": {
      "image/png": "[encoded data removed]",
      "text/plain": [
       "<Figure size 504x504 with 1 Axes>"
      ]
     },
     "metadata": {},
     "output_type": "display_data"
    }
   ],
   "source": [
    "eu_genre = games_relevant.pivot_table(index='genre', values='eu_sales', aggfunc='sum').nlargest(5, 'eu_sales')\n",
    "eu_genre.columns = ['sales']\n",
    "eu_genre.plot(kind='pie',y=\"sales\", autopct='%1.0f%%', legend=False,\\\n",
    "              title = \"Популярные жанры в Европе\", figsize=(7,7)).set(ylabel='')"
   ]
  },
  {
   "cell_type": "code",
   "execution_count": 43,
   "metadata": {
    "scrolled": false
   },
   "outputs": [
    {
     "data": {
      "text/plain": [
       "[Text(0, 0.5, '')]"
      ]
     },
     "execution_count": 43,
     "metadata": {},
     "output_type": "execute_result"
    },
    {
     "data": {
      "image/png": "[encoded data removed]",
      "text/plain": [
       "<Figure size 504x504 with 1 Axes>"
      ]
     },
     "metadata": {},
     "output_type": "display_data"
    }
   ],
   "source": [
    "jp_genre = games_relevant.pivot_table(index='genre', values='jp_sales', aggfunc='sum').nlargest(5, 'jp_sales')\n",
    "jp_genre.columns = ['sales']\n",
    "jp_genre.plot(kind='pie',y=\"sales\", autopct='%1.0f%%', legend=False,\\\n",
    "              title = \"Популярные жанры в Японии\", figsize=(7,7)).set(ylabel='')"
   ]
  },
  {
   "cell_type": "markdown",
   "metadata": {},
   "source": [
    "В Америке и Европе даже жанры одни и те же в лидерах, процентное соотношение очень похоже. В Японии же среди лидеров ролевые игры, помимо тех же, что у других в обзоре. То, что говорят о японцах подтверждается и в жанрах игр."
   ]
  },
  {
   "cell_type": "markdown",
   "metadata": {},
   "source": [
    "### Влияет ли рейтинг ESRB на продажи в отдельном регионе?"
   ]
  },
  {
   "cell_type": "code",
   "execution_count": 44,
   "metadata": {
    "scrolled": false
   },
   "outputs": [
    {
     "data": {
      "text/plain": [
       "[Text(0, 0.5, '')]"
      ]
     },
     "execution_count": 44,
     "metadata": {},
     "output_type": "execute_result"
    },
    {
     "data": {
      "image/png": "[encoded data removed]",
      "text/plain": [
       "<Figure size 504x504 with 1 Axes>"
      ]
     },
     "metadata": {},
     "output_type": "display_data"
    }
   ],
   "source": [
    "na_rating = games_relevant.pivot_table(index='rating', values='na_sales', aggfunc='sum')\n",
    "na_rating.columns = ['sales']\n",
    "na_rating.plot(kind='pie',y=\"sales\", autopct='%1.0f%%', legend=False,\\\n",
    "               title = \"Зависимость продаж от рейтинга в Америке\", figsize=(7,7)).set(ylabel='')"
   ]
  },
  {
   "cell_type": "code",
   "execution_count": 45,
   "metadata": {},
   "outputs": [
    {
     "data": {
      "text/plain": [
       "[Text(0, 0.5, '')]"
      ]
     },
     "execution_count": 45,
     "metadata": {},
     "output_type": "execute_result"
    },
    {
     "data": {
      "image/png": "[encoded data removed]",
      "text/plain": [
       "<Figure size 504x504 with 1 Axes>"
      ]
     },
     "metadata": {},
     "output_type": "display_data"
    }
   ],
   "source": [
    "eu_rating = games_relevant.pivot_table(index='rating', values='eu_sales', aggfunc='sum')\n",
    "eu_rating.columns = ['sales']\n",
    "eu_rating.plot(kind='pie',y=\"sales\", autopct='%1.0f%%', legend=False,\\\n",
    "                title = \"Зависимость продаж от рейтинга в Европе\", figsize=(7,7)).set(ylabel='')"
   ]
  },
  {
   "cell_type": "code",
   "execution_count": 46,
   "metadata": {},
   "outputs": [
    {
     "data": {
      "text/plain": [
       "[Text(0, 0.5, '')]"
      ]
     },
     "execution_count": 46,
     "metadata": {},
     "output_type": "execute_result"
    },
    {
     "data": {
      "image/png": "[encoded data removed]",
      "text/plain": [
       "<Figure size 504x504 with 1 Axes>"
      ]
     },
     "metadata": {},
     "output_type": "display_data"
    }
   ],
   "source": [
    "jp_rating = games_relevant.pivot_table(index='rating', values='jp_sales', aggfunc='sum')\n",
    "jp_rating.columns = ['sales']\n",
    "jp_rating.plot(kind='pie',y=\"sales\", autopct='%1.0f%%', legend=False,\\\n",
    "               title = \"Зависимость продаж от рейтинга в Японии\", figsize=(7,7)).set(ylabel='')"
   ]
  },
  {
   "cell_type": "markdown",
   "metadata": {},
   "source": [
    "В Европе и Америке половину рынка составляют игры с жанром для взрослых, четверть рынка игры для всех, и вообще процентные распределения жанров почти одинаковые.  \n",
    "В Японии же большую долю рынка составляют игры для подростков, затем игры для всех и игры для взрослых. Такое распределение может объясняться тем, что в Японии очень много работают, перерабатывают, и нет смысла делать акцент на взрослое население страны. Интереснее было бы взглянуть на данные Южной Кореи..."
   ]
  },
  {
   "cell_type": "markdown",
   "metadata": {},
   "source": [
    "## Проверка гипотез"
   ]
  },
  {
   "cell_type": "markdown",
   "metadata": {},
   "source": [
    "Нулевая гипотеза должна быть со знаком равно, альтернативная же - не равно, соттветственно."
   ]
  },
  {
   "cell_type": "markdown",
   "metadata": {},
   "source": [
    "### Средние пользовательские рейтинги платформ Xbox One и PC одинаковые;\n",
    "Задайте самостоятельно пороговое значение alpha. Поясните:\n",
    "Как вы сформулировали нулевую и альтернативную гипотезы;\n",
    "Какой критерий применили для проверки гипотез и почему."
   ]
  },
  {
   "cell_type": "markdown",
   "metadata": {},
   "source": [
    "Нулевая гипотеза H₀: Средние пользовательские рейтинги платформ Xbox One и PC одинаковые  \n",
    "Альтернативная гипотеза H₁: Средние пользовательские рейтинги платформ Xbox One и PC различны"
   ]
  },
  {
   "cell_type": "code",
   "execution_count": 47,
   "metadata": {},
   "outputs": [
    {
     "name": "stdout",
     "output_type": "stream",
     "text": [
      "p-значение: 0.12817793652639856\n",
      "Не получилось отвергнуть нулевую гипотезу\n"
     ]
    }
   ],
   "source": [
    "alpha = .05 # Стандартное значение порогового значения\n",
    "xone = games_relevant.query('platform == \"XOne\"')['user_score']\n",
    "pc = games_relevant.query('platform == \"PC\"')['user_score']\n",
    "test1 = st.ttest_ind(xone, pc)\n",
    "\n",
    "print('p-значение:', test1.pvalue)\n",
    "\n",
    "if (test1.pvalue < alpha):\n",
    "    print(\"Отвергаем нулевую гипотезу\")\n",
    "else:\n",
    "    print(\"Не получилось отвергнуть нулевую гипотезу\")"
   ]
  },
  {
   "cell_type": "markdown",
   "metadata": {},
   "source": [
    "Первую гипотезу отвергнуть не удалось, на это дали основание предполагать рассчеты, и средние пользовательские рейтинги платформ Xbox One и PC одинаковые"
   ]
  },
  {
   "cell_type": "markdown",
   "metadata": {},
   "source": [
    "### Средние пользовательские рейтинги жанров Action (англ. «действие», экшен-игры) и Sports (англ. «спортивные соревнования») разные."
   ]
  },
  {
   "cell_type": "markdown",
   "metadata": {},
   "source": [
    "Нулевая гипотеза H₀: Средние пользовательские рейтинги жанров Action и Sports одинаковые  \n",
    "Альтернативная гипотеза H₁: Средние пользовательские рейтинги жанров Action и Sports различны"
   ]
  },
  {
   "cell_type": "code",
   "execution_count": 48,
   "metadata": {
    "scrolled": true
   },
   "outputs": [
    {
     "name": "stdout",
     "output_type": "stream",
     "text": [
      "p-значение: 4.0540895999943237e-10\n",
      "Отвергаем нулевую гипотезу\n"
     ]
    }
   ],
   "source": [
    "action = games_relevant.query('genre==\"Action\"')['user_score']\n",
    "sports = games_relevant.query('genre==\"Sports\"')['user_score']\n",
    "test2 = st.ttest_ind(action, sports)\n",
    "\n",
    "print('p-значение:', test2.pvalue)\n",
    "\n",
    "if (test2.pvalue < alpha):\n",
    "    print(\"Отвергаем нулевую гипотезу\")\n",
    "else:\n",
    "    print(\"Не получилось отвергнуть нулевую гипотезу\")"
   ]
  },
  {
   "cell_type": "markdown",
   "metadata": {},
   "source": [
    "Рассчеты дают основание предполагать, что вторая гипотезу отвергнуть не удалось, и средние пользовательские рейтинги жанров Action и Sports разные"
   ]
  },
  {
   "cell_type": "markdown",
   "metadata": {},
   "source": [
    "## Общий вывод"
   ]
  },
  {
   "cell_type": "markdown",
   "metadata": {},
   "source": [
    "- При планировании бюджета на проведение рекламной кампании стоит обратить внимание на игровые платформы Xone и PS4, а также следить за появлением и набирающим популярность новых игровых платформ.  \n",
    "- Обязательно стоит учитывать регион проведения этих рекламных кампаний, ведь если рынки в Европе и Америке друг на друга похожи, то в Японии актуальны будут совершенно другие направления игровой индустрии.  \n",
    "- Среди жанров стоит сфокусироваться на shooter и sport, как самых прибыльных, если речь идёт об американском и европейском рынках, и на RPG, Misc, action, если дело касается Японии.  \n",
    "- Самые низкие сборы у жанров Adventure, Puzzle и Strategy.\n",
    "- Наибольшее количество игр имеет жанр action, также этот жанр распространен на всех рынках. Однако стоит учитывать, что в данном жанре есть как игры с огромным количеством продаж в десятки миллионов, так и игры, особо не замеченные или неитересные пользователям.\n",
    "- Среди платформ на всех рынках в лидерах платформа PS4, но в то же время в Японии очень развит рынок карманных консолей. \n",
    "- Целевая аудитория на европейском и американском рынках - взрослые люди, старше 18 лет лет, когда на японском рынке - игры для подростков.\n",
    "- Оценка пользователей не влияет на продажи игр, ведь оценки тут ставят уже после того, как приобрели игру. Потому на них не стоит обращать внимания. Оценки критиков оказывают среднее влияние на рынок игр, ведь зачастую они получают игры до официальных релизов."
   ]
  },
  {
   "cell_type": "markdown",
   "metadata": {},
   "source": [
    "В данной проектной работе были проверены две гипотезы:  \n",
    "- Средние пользовательские рейтинги платформ Xbox One и PC одинаковые\n",
    "- Средние пользовательские рейтинги жанров Action и Sports разные. \n",
    "\n",
    "Обе гипотезы отвергнуть не удалось."
   ]
  },
  {
   "cell_type": "markdown",
   "metadata": {},
   "source": [
    "**Рекомендации:**\n",
    "В данных очень много пропусков, и в основном они в столбцах с рейтингом и оценкой критиков/пользователей. Для минимизации количества отсутствующих данных лучше заполнять такие ячейки каким-нибудь общим значением по умолчанию, например 12345 или -1. Это упростит обработку данных при анализе в дальнейшем."
   ]
  }
 ],
 "metadata": {
  "ExecuteTimeLog": [
   {
    "duration": 1263,
    "start_time": "2022-03-17T19:26:14.753Z"
   },
   {
    "duration": 4,
    "start_time": "2022-03-17T19:27:37.911Z"
   },
   {
    "duration": 43,
    "start_time": "2022-03-17T19:28:23.746Z"
   },
   {
    "duration": 49,
    "start_time": "2022-03-17T19:28:41.091Z"
   },
   {
    "duration": 3,
    "start_time": "2022-03-17T19:30:37.607Z"
   },
   {
    "duration": 15,
    "start_time": "2022-03-17T19:31:24.701Z"
   },
   {
    "duration": 26,
    "start_time": "2022-03-17T19:36:08.752Z"
   },
   {
    "duration": 1178,
    "start_time": "2022-03-18T15:31:11.382Z"
   },
   {
    "duration": 1017,
    "start_time": "2022-03-18T15:39:49.259Z"
   },
   {
    "duration": 3,
    "start_time": "2022-03-18T15:39:50.278Z"
   },
   {
    "duration": 51,
    "start_time": "2022-03-18T15:39:50.282Z"
   },
   {
    "duration": 15,
    "start_time": "2022-03-18T15:39:50.335Z"
   },
   {
    "duration": 24,
    "start_time": "2022-03-18T15:39:50.351Z"
   },
   {
    "duration": 641,
    "start_time": "2022-03-18T15:39:50.377Z"
   },
   {
    "duration": 622,
    "start_time": "2022-03-18T15:42:50.097Z"
   },
   {
    "duration": 4,
    "start_time": "2022-03-18T15:43:01.391Z"
   },
   {
    "duration": 9,
    "start_time": "2022-03-18T15:43:51.496Z"
   },
   {
    "duration": 631,
    "start_time": "2022-03-18T15:44:18.617Z"
   },
   {
    "duration": 3,
    "start_time": "2022-03-18T15:48:41.107Z"
   },
   {
    "duration": 14,
    "start_time": "2022-03-18T15:49:07.258Z"
   },
   {
    "duration": 14,
    "start_time": "2022-03-18T15:51:26.741Z"
   },
   {
    "duration": 4,
    "start_time": "2022-03-18T17:31:43.798Z"
   },
   {
    "duration": 5,
    "start_time": "2022-03-18T17:34:19.192Z"
   },
   {
    "duration": 6,
    "start_time": "2022-03-18T17:36:57.301Z"
   },
   {
    "duration": 7,
    "start_time": "2022-03-18T18:32:38.304Z"
   },
   {
    "duration": 8,
    "start_time": "2022-03-18T18:33:07.451Z"
   },
   {
    "duration": 16,
    "start_time": "2022-03-18T18:33:18.223Z"
   },
   {
    "duration": 7,
    "start_time": "2022-03-18T18:34:20.875Z"
   },
   {
    "duration": 16,
    "start_time": "2022-03-18T18:34:27.020Z"
   },
   {
    "duration": 1439,
    "start_time": "2022-03-18T18:34:45.801Z"
   },
   {
    "duration": 2,
    "start_time": "2022-03-18T18:34:47.243Z"
   },
   {
    "duration": 50,
    "start_time": "2022-03-18T18:34:47.247Z"
   },
   {
    "duration": 16,
    "start_time": "2022-03-18T18:34:47.299Z"
   },
   {
    "duration": 38,
    "start_time": "2022-03-18T18:34:47.317Z"
   },
   {
    "duration": 3,
    "start_time": "2022-03-18T18:34:47.357Z"
   },
   {
    "duration": 22,
    "start_time": "2022-03-18T18:34:47.362Z"
   },
   {
    "duration": 9,
    "start_time": "2022-03-18T18:34:47.386Z"
   },
   {
    "duration": 7,
    "start_time": "2022-03-18T18:34:47.397Z"
   },
   {
    "duration": 9,
    "start_time": "2022-03-18T18:34:47.434Z"
   },
   {
    "duration": 27,
    "start_time": "2022-03-18T18:34:47.445Z"
   },
   {
    "duration": 9,
    "start_time": "2022-03-18T18:35:17.182Z"
   },
   {
    "duration": 21,
    "start_time": "2022-03-18T18:35:25.323Z"
   },
   {
    "duration": 7,
    "start_time": "2022-03-18T18:38:13.653Z"
   },
   {
    "duration": 4,
    "start_time": "2022-03-18T18:39:57.621Z"
   },
   {
    "duration": 5,
    "start_time": "2022-03-18T18:40:53.894Z"
   },
   {
    "duration": 5,
    "start_time": "2022-03-18T18:41:52.366Z"
   },
   {
    "duration": 20,
    "start_time": "2022-03-18T18:57:03.972Z"
   },
   {
    "duration": 11,
    "start_time": "2022-03-18T19:04:05.243Z"
   },
   {
    "duration": 1079,
    "start_time": "2022-03-18T19:09:13.383Z"
   },
   {
    "duration": 3,
    "start_time": "2022-03-18T19:09:14.466Z"
   },
   {
    "duration": 52,
    "start_time": "2022-03-18T19:09:14.471Z"
   },
   {
    "duration": 19,
    "start_time": "2022-03-18T19:09:14.524Z"
   },
   {
    "duration": 25,
    "start_time": "2022-03-18T19:09:14.546Z"
   },
   {
    "duration": 3,
    "start_time": "2022-03-18T19:09:14.573Z"
   },
   {
    "duration": 20,
    "start_time": "2022-03-18T19:09:14.577Z"
   },
   {
    "duration": 36,
    "start_time": "2022-03-18T19:09:14.599Z"
   },
   {
    "duration": 6,
    "start_time": "2022-03-18T19:09:14.637Z"
   },
   {
    "duration": 14,
    "start_time": "2022-03-18T19:09:14.644Z"
   },
   {
    "duration": 21,
    "start_time": "2022-03-18T19:09:14.660Z"
   },
   {
    "duration": 21,
    "start_time": "2022-03-18T19:09:14.682Z"
   },
   {
    "duration": 35,
    "start_time": "2022-03-18T19:09:14.705Z"
   },
   {
    "duration": 4,
    "start_time": "2022-03-18T19:09:14.743Z"
   },
   {
    "duration": 14,
    "start_time": "2022-03-18T19:12:53.043Z"
   },
   {
    "duration": 102,
    "start_time": "2022-03-18T19:13:34.046Z"
   },
   {
    "duration": 10,
    "start_time": "2022-03-18T19:13:54.589Z"
   },
   {
    "duration": 13,
    "start_time": "2022-03-18T19:14:27.481Z"
   },
   {
    "duration": 15,
    "start_time": "2022-03-18T19:14:45.952Z"
   },
   {
    "duration": 12,
    "start_time": "2022-03-18T19:15:33.345Z"
   },
   {
    "duration": 10,
    "start_time": "2022-03-18T19:18:28.490Z"
   },
   {
    "duration": 19,
    "start_time": "2022-03-18T19:18:37.783Z"
   },
   {
    "duration": 5,
    "start_time": "2022-03-18T19:21:42.585Z"
   },
   {
    "duration": 9,
    "start_time": "2022-03-18T19:23:18.933Z"
   },
   {
    "duration": 8,
    "start_time": "2022-03-18T19:23:25.607Z"
   },
   {
    "duration": 14,
    "start_time": "2022-03-18T19:23:41.498Z"
   },
   {
    "duration": 1317,
    "start_time": "2022-03-20T14:15:11.785Z"
   },
   {
    "duration": 3,
    "start_time": "2022-03-20T14:15:13.104Z"
   },
   {
    "duration": 50,
    "start_time": "2022-03-20T14:15:13.108Z"
   },
   {
    "duration": 22,
    "start_time": "2022-03-20T14:15:13.162Z"
   },
   {
    "duration": 23,
    "start_time": "2022-03-20T14:15:13.188Z"
   },
   {
    "duration": 3,
    "start_time": "2022-03-20T14:15:13.212Z"
   },
   {
    "duration": 18,
    "start_time": "2022-03-20T14:15:13.217Z"
   },
   {
    "duration": 28,
    "start_time": "2022-03-20T14:15:13.237Z"
   },
   {
    "duration": 8,
    "start_time": "2022-03-20T14:15:13.268Z"
   },
   {
    "duration": 19,
    "start_time": "2022-03-20T14:15:13.277Z"
   },
   {
    "duration": 23,
    "start_time": "2022-03-20T14:15:13.297Z"
   },
   {
    "duration": 22,
    "start_time": "2022-03-20T14:15:13.322Z"
   },
   {
    "duration": 27,
    "start_time": "2022-03-20T14:15:13.346Z"
   },
   {
    "duration": 13,
    "start_time": "2022-03-20T14:15:13.380Z"
   },
   {
    "duration": 16,
    "start_time": "2022-03-20T14:15:13.394Z"
   },
   {
    "duration": 23,
    "start_time": "2022-03-20T14:15:13.412Z"
   },
   {
    "duration": 29,
    "start_time": "2022-03-20T14:15:13.437Z"
   },
   {
    "duration": 5,
    "start_time": "2022-03-20T14:15:13.469Z"
   },
   {
    "duration": 201,
    "start_time": "2022-03-20T14:21:47.532Z"
   },
   {
    "duration": 185,
    "start_time": "2022-03-20T14:22:49.907Z"
   },
   {
    "duration": 182,
    "start_time": "2022-03-20T14:23:55.662Z"
   },
   {
    "duration": 234,
    "start_time": "2022-03-20T14:27:58.774Z"
   },
   {
    "duration": 276,
    "start_time": "2022-03-20T14:32:36.813Z"
   },
   {
    "duration": 206,
    "start_time": "2022-03-20T14:33:05.884Z"
   },
   {
    "duration": 201,
    "start_time": "2022-03-20T14:34:21.732Z"
   },
   {
    "duration": 160,
    "start_time": "2022-03-20T14:35:06.659Z"
   },
   {
    "duration": 1109,
    "start_time": "2022-03-20T14:35:27.698Z"
   },
   {
    "duration": 3,
    "start_time": "2022-03-20T14:35:28.808Z"
   },
   {
    "duration": 73,
    "start_time": "2022-03-20T14:35:28.812Z"
   },
   {
    "duration": 16,
    "start_time": "2022-03-20T14:35:28.886Z"
   },
   {
    "duration": 24,
    "start_time": "2022-03-20T14:35:28.904Z"
   },
   {
    "duration": 3,
    "start_time": "2022-03-20T14:35:28.930Z"
   },
   {
    "duration": 33,
    "start_time": "2022-03-20T14:35:28.934Z"
   },
   {
    "duration": 7,
    "start_time": "2022-03-20T14:35:28.968Z"
   },
   {
    "duration": 5,
    "start_time": "2022-03-20T14:35:28.976Z"
   },
   {
    "duration": 8,
    "start_time": "2022-03-20T14:35:28.984Z"
   },
   {
    "duration": 20,
    "start_time": "2022-03-20T14:35:28.993Z"
   },
   {
    "duration": 49,
    "start_time": "2022-03-20T14:35:29.015Z"
   },
   {
    "duration": 9,
    "start_time": "2022-03-20T14:35:29.066Z"
   },
   {
    "duration": 7,
    "start_time": "2022-03-20T14:35:29.077Z"
   },
   {
    "duration": 17,
    "start_time": "2022-03-20T14:35:29.085Z"
   },
   {
    "duration": 19,
    "start_time": "2022-03-20T14:35:29.104Z"
   },
   {
    "duration": 39,
    "start_time": "2022-03-20T14:35:29.125Z"
   },
   {
    "duration": 5,
    "start_time": "2022-03-20T14:35:29.165Z"
   },
   {
    "duration": 193,
    "start_time": "2022-03-20T14:35:29.171Z"
   },
   {
    "duration": 274,
    "start_time": "2022-03-20T14:36:35.774Z"
   },
   {
    "duration": 194,
    "start_time": "2022-03-20T14:37:01.242Z"
   },
   {
    "duration": 200,
    "start_time": "2022-03-20T14:37:31.895Z"
   },
   {
    "duration": 247,
    "start_time": "2022-03-20T14:43:15.836Z"
   },
   {
    "duration": 115,
    "start_time": "2022-03-20T14:45:13.587Z"
   },
   {
    "duration": 124,
    "start_time": "2022-03-20T14:46:08.118Z"
   },
   {
    "duration": 126,
    "start_time": "2022-03-20T14:49:36.424Z"
   },
   {
    "duration": 9,
    "start_time": "2022-03-20T14:49:44.755Z"
   },
   {
    "duration": 11,
    "start_time": "2022-03-20T14:49:55.132Z"
   },
   {
    "duration": 18,
    "start_time": "2022-03-20T14:50:37.340Z"
   },
   {
    "duration": 15,
    "start_time": "2022-03-20T14:50:43.766Z"
   },
   {
    "duration": 12,
    "start_time": "2022-03-20T14:51:36.037Z"
   },
   {
    "duration": 1325,
    "start_time": "2022-03-20T14:52:44.141Z"
   },
   {
    "duration": 2,
    "start_time": "2022-03-20T14:52:45.468Z"
   },
   {
    "duration": 52,
    "start_time": "2022-03-20T14:52:45.472Z"
   },
   {
    "duration": 15,
    "start_time": "2022-03-20T14:52:45.526Z"
   },
   {
    "duration": 41,
    "start_time": "2022-03-20T14:52:45.543Z"
   },
   {
    "duration": 3,
    "start_time": "2022-03-20T14:52:45.586Z"
   },
   {
    "duration": 16,
    "start_time": "2022-03-20T14:52:45.590Z"
   },
   {
    "duration": 7,
    "start_time": "2022-03-20T14:52:45.607Z"
   },
   {
    "duration": 6,
    "start_time": "2022-03-20T14:52:45.616Z"
   },
   {
    "duration": 43,
    "start_time": "2022-03-20T14:52:45.624Z"
   },
   {
    "duration": 20,
    "start_time": "2022-03-20T14:52:45.668Z"
   },
   {
    "duration": 22,
    "start_time": "2022-03-20T14:52:45.690Z"
   },
   {
    "duration": 8,
    "start_time": "2022-03-20T14:52:45.714Z"
   },
   {
    "duration": 6,
    "start_time": "2022-03-20T14:52:45.723Z"
   },
   {
    "duration": 14,
    "start_time": "2022-03-20T14:52:45.763Z"
   },
   {
    "duration": 19,
    "start_time": "2022-03-20T14:52:45.778Z"
   },
   {
    "duration": 13,
    "start_time": "2022-03-20T14:52:45.799Z"
   },
   {
    "duration": 5,
    "start_time": "2022-03-20T14:52:45.814Z"
   },
   {
    "duration": 43,
    "start_time": "2022-03-20T14:52:45.821Z"
   },
   {
    "duration": 15,
    "start_time": "2022-03-20T14:52:45.866Z"
   },
   {
    "duration": 1182,
    "start_time": "2022-03-20T14:53:20.628Z"
   },
   {
    "duration": 3,
    "start_time": "2022-03-20T14:53:21.812Z"
   },
   {
    "duration": 54,
    "start_time": "2022-03-20T14:53:21.816Z"
   },
   {
    "duration": 16,
    "start_time": "2022-03-20T14:53:21.872Z"
   },
   {
    "duration": 33,
    "start_time": "2022-03-20T14:53:21.889Z"
   },
   {
    "duration": 2,
    "start_time": "2022-03-20T14:53:21.924Z"
   },
   {
    "duration": 38,
    "start_time": "2022-03-20T14:53:21.929Z"
   },
   {
    "duration": 7,
    "start_time": "2022-03-20T14:53:21.969Z"
   },
   {
    "duration": 5,
    "start_time": "2022-03-20T14:53:21.978Z"
   },
   {
    "duration": 7,
    "start_time": "2022-03-20T14:53:21.986Z"
   },
   {
    "duration": 22,
    "start_time": "2022-03-20T14:53:21.994Z"
   },
   {
    "duration": 11,
    "start_time": "2022-03-20T14:53:22.017Z"
   },
   {
    "duration": 54,
    "start_time": "2022-03-20T14:53:22.029Z"
   },
   {
    "duration": 9,
    "start_time": "2022-03-20T14:53:22.085Z"
   },
   {
    "duration": 5,
    "start_time": "2022-03-20T14:53:22.096Z"
   },
   {
    "duration": 17,
    "start_time": "2022-03-20T14:53:22.103Z"
   },
   {
    "duration": 42,
    "start_time": "2022-03-20T14:53:22.121Z"
   },
   {
    "duration": 15,
    "start_time": "2022-03-20T14:53:22.165Z"
   },
   {
    "duration": 5,
    "start_time": "2022-03-20T14:53:22.182Z"
   },
   {
    "duration": 17,
    "start_time": "2022-03-20T14:53:22.189Z"
   },
   {
    "duration": 1371,
    "start_time": "2022-03-20T14:53:59.089Z"
   },
   {
    "duration": 6,
    "start_time": "2022-03-20T14:54:00.463Z"
   },
   {
    "duration": 87,
    "start_time": "2022-03-20T14:54:00.471Z"
   },
   {
    "duration": 23,
    "start_time": "2022-03-20T14:54:00.561Z"
   },
   {
    "duration": 62,
    "start_time": "2022-03-20T14:54:00.586Z"
   },
   {
    "duration": 7,
    "start_time": "2022-03-20T14:54:00.650Z"
   },
   {
    "duration": 39,
    "start_time": "2022-03-20T14:54:00.659Z"
   },
   {
    "duration": 16,
    "start_time": "2022-03-20T14:54:00.701Z"
   },
   {
    "duration": 13,
    "start_time": "2022-03-20T14:54:00.719Z"
   },
   {
    "duration": 16,
    "start_time": "2022-03-20T14:54:00.736Z"
   },
   {
    "duration": 12,
    "start_time": "2022-03-20T14:54:00.754Z"
   },
   {
    "duration": 23,
    "start_time": "2022-03-20T14:54:00.768Z"
   },
   {
    "duration": 23,
    "start_time": "2022-03-20T14:54:00.793Z"
   },
   {
    "duration": 8,
    "start_time": "2022-03-20T14:54:00.817Z"
   },
   {
    "duration": 26,
    "start_time": "2022-03-20T14:54:00.827Z"
   },
   {
    "duration": 16,
    "start_time": "2022-03-20T14:54:00.854Z"
   },
   {
    "duration": 22,
    "start_time": "2022-03-20T14:54:00.872Z"
   },
   {
    "duration": 17,
    "start_time": "2022-03-20T14:54:00.896Z"
   },
   {
    "duration": 5,
    "start_time": "2022-03-20T14:54:00.915Z"
   },
   {
    "duration": 46,
    "start_time": "2022-03-20T14:54:00.922Z"
   },
   {
    "duration": 1088,
    "start_time": "2022-03-20T14:56:04.909Z"
   },
   {
    "duration": 3,
    "start_time": "2022-03-20T14:56:05.999Z"
   },
   {
    "duration": 63,
    "start_time": "2022-03-20T14:56:06.004Z"
   },
   {
    "duration": 16,
    "start_time": "2022-03-20T14:56:06.069Z"
   },
   {
    "duration": 24,
    "start_time": "2022-03-20T14:56:06.086Z"
   },
   {
    "duration": 3,
    "start_time": "2022-03-20T14:56:06.112Z"
   },
   {
    "duration": 15,
    "start_time": "2022-03-20T14:56:06.117Z"
   },
   {
    "duration": 30,
    "start_time": "2022-03-20T14:56:06.133Z"
   },
   {
    "duration": 10,
    "start_time": "2022-03-20T14:56:06.165Z"
   },
   {
    "duration": 9,
    "start_time": "2022-03-20T14:56:06.177Z"
   },
   {
    "duration": 16,
    "start_time": "2022-03-20T14:56:06.188Z"
   },
   {
    "duration": 24,
    "start_time": "2022-03-20T14:56:06.205Z"
   },
   {
    "duration": 40,
    "start_time": "2022-03-20T14:56:06.231Z"
   },
   {
    "duration": 10,
    "start_time": "2022-03-20T14:56:06.273Z"
   },
   {
    "duration": 11,
    "start_time": "2022-03-20T14:56:06.284Z"
   },
   {
    "duration": 21,
    "start_time": "2022-03-20T14:56:06.296Z"
   },
   {
    "duration": 24,
    "start_time": "2022-03-20T14:56:06.318Z"
   },
   {
    "duration": 31,
    "start_time": "2022-03-20T14:56:06.344Z"
   },
   {
    "duration": 4,
    "start_time": "2022-03-20T14:56:06.377Z"
   },
   {
    "duration": 17,
    "start_time": "2022-03-20T14:56:06.383Z"
   },
   {
    "duration": 1127,
    "start_time": "2022-03-20T14:56:17.786Z"
   },
   {
    "duration": 3,
    "start_time": "2022-03-20T14:56:18.915Z"
   },
   {
    "duration": 54,
    "start_time": "2022-03-20T14:56:18.919Z"
   },
   {
    "duration": 17,
    "start_time": "2022-03-20T14:56:18.975Z"
   },
   {
    "duration": 27,
    "start_time": "2022-03-20T14:56:18.994Z"
   },
   {
    "duration": 3,
    "start_time": "2022-03-20T14:56:19.023Z"
   },
   {
    "duration": 43,
    "start_time": "2022-03-20T14:56:19.028Z"
   },
   {
    "duration": 8,
    "start_time": "2022-03-20T14:56:19.075Z"
   },
   {
    "duration": 14,
    "start_time": "2022-03-20T14:56:19.084Z"
   },
   {
    "duration": 7,
    "start_time": "2022-03-20T14:56:19.101Z"
   },
   {
    "duration": 10,
    "start_time": "2022-03-20T14:56:19.109Z"
   },
   {
    "duration": 46,
    "start_time": "2022-03-20T14:56:19.120Z"
   },
   {
    "duration": 22,
    "start_time": "2022-03-20T14:56:19.168Z"
   },
   {
    "duration": 8,
    "start_time": "2022-03-20T14:56:19.191Z"
   },
   {
    "duration": 8,
    "start_time": "2022-03-20T14:56:19.201Z"
   },
   {
    "duration": 20,
    "start_time": "2022-03-20T14:56:19.211Z"
   },
   {
    "duration": 45,
    "start_time": "2022-03-20T14:56:19.232Z"
   },
   {
    "duration": 12,
    "start_time": "2022-03-20T14:56:19.279Z"
   },
   {
    "duration": 4,
    "start_time": "2022-03-20T14:56:19.292Z"
   },
   {
    "duration": 25,
    "start_time": "2022-03-20T14:56:19.298Z"
   },
   {
    "duration": 4,
    "start_time": "2022-03-20T14:57:28.316Z"
   },
   {
    "duration": 1152,
    "start_time": "2022-03-20T14:57:40.602Z"
   },
   {
    "duration": 3,
    "start_time": "2022-03-20T14:57:41.756Z"
   },
   {
    "duration": 54,
    "start_time": "2022-03-20T14:57:41.762Z"
   },
   {
    "duration": 18,
    "start_time": "2022-03-20T14:57:41.819Z"
   },
   {
    "duration": 41,
    "start_time": "2022-03-20T14:57:41.839Z"
   },
   {
    "duration": 2,
    "start_time": "2022-03-20T14:57:41.882Z"
   },
   {
    "duration": 21,
    "start_time": "2022-03-20T14:57:41.886Z"
   },
   {
    "duration": 4,
    "start_time": "2022-03-20T14:57:41.909Z"
   },
   {
    "duration": 7,
    "start_time": "2022-03-20T14:57:41.914Z"
   },
   {
    "duration": 7,
    "start_time": "2022-03-20T14:57:41.923Z"
   },
   {
    "duration": 46,
    "start_time": "2022-03-20T14:57:41.932Z"
   },
   {
    "duration": 22,
    "start_time": "2022-03-20T14:57:41.981Z"
   },
   {
    "duration": 9,
    "start_time": "2022-03-20T14:57:42.005Z"
   },
   {
    "duration": 6,
    "start_time": "2022-03-20T14:57:42.015Z"
   },
   {
    "duration": 42,
    "start_time": "2022-03-20T14:57:42.022Z"
   },
   {
    "duration": 19,
    "start_time": "2022-03-20T14:57:42.066Z"
   },
   {
    "duration": 13,
    "start_time": "2022-03-20T14:57:42.087Z"
   },
   {
    "duration": 4,
    "start_time": "2022-03-20T14:57:42.102Z"
   },
   {
    "duration": 16,
    "start_time": "2022-03-20T14:57:42.108Z"
   },
   {
    "duration": 228,
    "start_time": "2022-03-20T14:58:00.135Z"
   },
   {
    "duration": 196,
    "start_time": "2022-03-20T14:58:58.617Z"
   },
   {
    "duration": 214,
    "start_time": "2022-03-20T14:59:20.451Z"
   },
   {
    "duration": 2,
    "start_time": "2022-03-20T15:06:53.745Z"
   },
   {
    "duration": 227,
    "start_time": "2022-03-20T15:11:38.631Z"
   },
   {
    "duration": 46,
    "start_time": "2022-03-20T15:13:18.950Z"
   },
   {
    "duration": 49,
    "start_time": "2022-03-20T15:13:40.545Z"
   },
   {
    "duration": 41,
    "start_time": "2022-03-20T15:13:58.998Z"
   },
   {
    "duration": 16,
    "start_time": "2022-03-20T15:29:40.676Z"
   },
   {
    "duration": 13,
    "start_time": "2022-03-20T16:09:19.836Z"
   },
   {
    "duration": 16,
    "start_time": "2022-03-20T16:10:06.256Z"
   },
   {
    "duration": 17,
    "start_time": "2022-03-20T16:22:16.365Z"
   },
   {
    "duration": 10,
    "start_time": "2022-03-20T16:24:19.497Z"
   },
   {
    "duration": 3,
    "start_time": "2022-03-20T16:25:01.416Z"
   },
   {
    "duration": 4,
    "start_time": "2022-03-20T16:25:08.344Z"
   },
   {
    "duration": 9,
    "start_time": "2022-03-20T16:25:26.470Z"
   },
   {
    "duration": 9,
    "start_time": "2022-03-20T16:25:37.982Z"
   },
   {
    "duration": 9,
    "start_time": "2022-03-20T16:26:36.119Z"
   },
   {
    "duration": 8,
    "start_time": "2022-03-20T16:28:51.399Z"
   },
   {
    "duration": 10,
    "start_time": "2022-03-20T16:29:31.811Z"
   },
   {
    "duration": 9,
    "start_time": "2022-03-20T16:29:40.175Z"
   },
   {
    "duration": 10,
    "start_time": "2022-03-20T16:29:46.977Z"
   },
   {
    "duration": 201,
    "start_time": "2022-03-20T16:29:59.907Z"
   },
   {
    "duration": 4,
    "start_time": "2022-03-20T16:30:06.217Z"
   },
   {
    "duration": 1282,
    "start_time": "2022-03-20T16:30:15.074Z"
   },
   {
    "duration": 5,
    "start_time": "2022-03-20T16:30:16.358Z"
   },
   {
    "duration": 73,
    "start_time": "2022-03-20T16:30:16.365Z"
   },
   {
    "duration": 16,
    "start_time": "2022-03-20T16:30:16.441Z"
   },
   {
    "duration": 27,
    "start_time": "2022-03-20T16:30:16.459Z"
   },
   {
    "duration": 3,
    "start_time": "2022-03-20T16:30:16.488Z"
   },
   {
    "duration": 18,
    "start_time": "2022-03-20T16:30:16.493Z"
   },
   {
    "duration": 3,
    "start_time": "2022-03-20T16:30:16.513Z"
   },
   {
    "duration": 7,
    "start_time": "2022-03-20T16:30:16.519Z"
   },
   {
    "duration": 35,
    "start_time": "2022-03-20T16:30:16.528Z"
   },
   {
    "duration": 23,
    "start_time": "2022-03-20T16:30:16.566Z"
   },
   {
    "duration": 22,
    "start_time": "2022-03-20T16:30:16.591Z"
   },
   {
    "duration": 8,
    "start_time": "2022-03-20T16:30:16.615Z"
   },
   {
    "duration": 6,
    "start_time": "2022-03-20T16:30:16.625Z"
   },
   {
    "duration": 45,
    "start_time": "2022-03-20T16:30:16.633Z"
   },
   {
    "duration": 20,
    "start_time": "2022-03-20T16:30:16.680Z"
   },
   {
    "duration": 14,
    "start_time": "2022-03-20T16:30:16.702Z"
   },
   {
    "duration": 5,
    "start_time": "2022-03-20T16:30:16.718Z"
   },
   {
    "duration": 253,
    "start_time": "2022-03-20T16:30:16.724Z"
   },
   {
    "duration": 47,
    "start_time": "2022-03-20T16:30:16.979Z"
   },
   {
    "duration": 35,
    "start_time": "2022-03-20T16:30:17.027Z"
   },
   {
    "duration": 5,
    "start_time": "2022-03-20T16:30:17.065Z"
   },
   {
    "duration": 4,
    "start_time": "2022-03-20T16:33:53.754Z"
   },
   {
    "duration": 102,
    "start_time": "2022-03-20T16:36:28.389Z"
   },
   {
    "duration": 25,
    "start_time": "2022-03-20T16:38:38.302Z"
   },
   {
    "duration": 60,
    "start_time": "2022-03-20T17:41:11.658Z"
   },
   {
    "duration": 591,
    "start_time": "2022-03-20T17:42:02.795Z"
   },
   {
    "duration": 364,
    "start_time": "2022-03-20T17:43:17.627Z"
   },
   {
    "duration": 530,
    "start_time": "2022-03-20T17:43:28.752Z"
   },
   {
    "duration": 456,
    "start_time": "2022-03-20T17:43:43.273Z"
   },
   {
    "duration": 378,
    "start_time": "2022-03-20T17:43:58.211Z"
   },
   {
    "duration": 374,
    "start_time": "2022-03-20T17:44:11.041Z"
   },
   {
    "duration": 364,
    "start_time": "2022-03-20T17:44:26.960Z"
   },
   {
    "duration": 470,
    "start_time": "2022-03-20T17:44:37.461Z"
   },
   {
    "duration": 366,
    "start_time": "2022-03-20T17:45:11.970Z"
   },
   {
    "duration": 553,
    "start_time": "2022-03-20T17:47:01.220Z"
   },
   {
    "duration": 245,
    "start_time": "2022-03-20T17:47:47.677Z"
   },
   {
    "duration": 394,
    "start_time": "2022-03-20T17:48:35.757Z"
   },
   {
    "duration": 165,
    "start_time": "2022-03-20T17:48:53.803Z"
   },
   {
    "duration": 426,
    "start_time": "2022-03-20T17:48:57.904Z"
   },
   {
    "duration": 1459,
    "start_time": "2022-03-21T16:32:59.757Z"
   },
   {
    "duration": 4,
    "start_time": "2022-03-21T16:33:01.218Z"
   },
   {
    "duration": 96,
    "start_time": "2022-03-21T16:33:01.223Z"
   },
   {
    "duration": 17,
    "start_time": "2022-03-21T16:33:01.321Z"
   },
   {
    "duration": 66,
    "start_time": "2022-03-21T16:33:01.341Z"
   },
   {
    "duration": 24,
    "start_time": "2022-03-21T16:33:01.409Z"
   },
   {
    "duration": 53,
    "start_time": "2022-03-21T16:33:01.436Z"
   },
   {
    "duration": 18,
    "start_time": "2022-03-21T16:33:01.491Z"
   },
   {
    "duration": 27,
    "start_time": "2022-03-21T16:33:01.511Z"
   },
   {
    "duration": 36,
    "start_time": "2022-03-21T16:33:01.541Z"
   },
   {
    "duration": 45,
    "start_time": "2022-03-21T16:33:01.579Z"
   },
   {
    "duration": 42,
    "start_time": "2022-03-21T16:33:01.626Z"
   },
   {
    "duration": 18,
    "start_time": "2022-03-21T16:33:01.670Z"
   },
   {
    "duration": 35,
    "start_time": "2022-03-21T16:33:01.690Z"
   },
   {
    "duration": 48,
    "start_time": "2022-03-21T16:33:01.727Z"
   },
   {
    "duration": 42,
    "start_time": "2022-03-21T16:33:01.777Z"
   },
   {
    "duration": 63,
    "start_time": "2022-03-21T16:33:01.823Z"
   },
   {
    "duration": 20,
    "start_time": "2022-03-21T16:33:01.888Z"
   },
   {
    "duration": 290,
    "start_time": "2022-03-21T16:33:01.910Z"
   },
   {
    "duration": 66,
    "start_time": "2022-03-21T16:33:02.202Z"
   },
   {
    "duration": 18,
    "start_time": "2022-03-21T16:33:02.269Z"
   },
   {
    "duration": 15,
    "start_time": "2022-03-21T16:33:02.289Z"
   },
   {
    "duration": 494,
    "start_time": "2022-03-21T16:33:02.306Z"
   },
   {
    "duration": 412,
    "start_time": "2022-03-21T16:33:31.466Z"
   },
   {
    "duration": 21,
    "start_time": "2022-03-21T16:53:01.699Z"
   },
   {
    "duration": 15,
    "start_time": "2022-03-21T16:53:24.680Z"
   },
   {
    "duration": 5,
    "start_time": "2022-03-21T17:01:23.479Z"
   },
   {
    "duration": 17,
    "start_time": "2022-03-21T19:04:42.320Z"
   },
   {
    "duration": 108,
    "start_time": "2022-03-21T19:07:23.156Z"
   },
   {
    "duration": 34,
    "start_time": "2022-03-21T19:07:49.277Z"
   },
   {
    "duration": 31,
    "start_time": "2022-03-21T19:08:15.407Z"
   },
   {
    "duration": 26,
    "start_time": "2022-03-21T19:08:29.838Z"
   },
   {
    "duration": 27,
    "start_time": "2022-03-21T19:09:22.578Z"
   },
   {
    "duration": 27,
    "start_time": "2022-03-21T19:10:54.162Z"
   },
   {
    "duration": 179,
    "start_time": "2022-03-21T19:12:03.344Z"
   },
   {
    "duration": 26,
    "start_time": "2022-03-21T19:14:06.098Z"
   },
   {
    "duration": 25,
    "start_time": "2022-03-21T19:14:21.475Z"
   },
   {
    "duration": 6,
    "start_time": "2022-03-21T19:21:40.977Z"
   },
   {
    "duration": 10,
    "start_time": "2022-03-21T19:32:09.179Z"
   },
   {
    "duration": 239,
    "start_time": "2022-03-21T19:35:50.106Z"
   },
   {
    "duration": 12,
    "start_time": "2022-03-21T19:44:21.622Z"
   },
   {
    "duration": 11,
    "start_time": "2022-03-21T19:44:36.761Z"
   },
   {
    "duration": 12,
    "start_time": "2022-03-21T19:46:12.504Z"
   },
   {
    "duration": 11,
    "start_time": "2022-03-21T19:47:32.429Z"
   },
   {
    "duration": 16,
    "start_time": "2022-03-21T19:48:15.782Z"
   },
   {
    "duration": 16,
    "start_time": "2022-03-21T19:48:26.276Z"
   },
   {
    "duration": 269,
    "start_time": "2022-03-21T19:51:03.259Z"
   },
   {
    "duration": 14,
    "start_time": "2022-03-21T19:56:44.742Z"
   },
   {
    "duration": 383,
    "start_time": "2022-03-21T19:56:59.361Z"
   },
   {
    "duration": 499,
    "start_time": "2022-03-21T19:59:06.634Z"
   },
   {
    "duration": 11,
    "start_time": "2022-03-21T20:00:44.274Z"
   },
   {
    "duration": 270,
    "start_time": "2022-03-21T20:00:49.715Z"
   },
   {
    "duration": 24,
    "start_time": "2022-03-21T20:01:31.963Z"
   },
   {
    "duration": 9,
    "start_time": "2022-03-21T20:02:25.790Z"
   },
   {
    "duration": 421,
    "start_time": "2022-03-21T20:03:42.114Z"
   },
   {
    "duration": 15,
    "start_time": "2022-03-21T20:05:36.417Z"
   },
   {
    "duration": 15,
    "start_time": "2022-03-21T20:05:49.909Z"
   },
   {
    "duration": 2964,
    "start_time": "2022-03-21T20:06:20.813Z"
   },
   {
    "duration": 4,
    "start_time": "2022-03-21T20:06:38.550Z"
   },
   {
    "duration": 3012,
    "start_time": "2022-03-21T20:06:52.683Z"
   },
   {
    "duration": 170,
    "start_time": "2022-03-21T20:08:35.487Z"
   },
   {
    "duration": 12,
    "start_time": "2022-03-21T20:08:39.880Z"
   },
   {
    "duration": 12,
    "start_time": "2022-03-21T20:08:48.447Z"
   },
   {
    "duration": 445,
    "start_time": "2022-03-21T20:10:45.361Z"
   },
   {
    "duration": 391,
    "start_time": "2022-03-21T20:11:04.471Z"
   },
   {
    "duration": 390,
    "start_time": "2022-03-21T20:11:29.732Z"
   },
   {
    "duration": 444,
    "start_time": "2022-03-21T20:11:47.064Z"
   },
   {
    "duration": 382,
    "start_time": "2022-03-21T20:11:53.537Z"
   },
   {
    "duration": 375,
    "start_time": "2022-03-21T20:13:14.128Z"
   },
   {
    "duration": 7,
    "start_time": "2022-03-21T20:24:49.887Z"
   },
   {
    "duration": 1209,
    "start_time": "2022-03-21T20:24:57.717Z"
   },
   {
    "duration": 3,
    "start_time": "2022-03-21T20:24:58.929Z"
   },
   {
    "duration": 70,
    "start_time": "2022-03-21T20:24:58.934Z"
   },
   {
    "duration": 15,
    "start_time": "2022-03-21T20:24:59.007Z"
   },
   {
    "duration": 32,
    "start_time": "2022-03-21T20:24:59.023Z"
   },
   {
    "duration": 3,
    "start_time": "2022-03-21T20:24:59.057Z"
   },
   {
    "duration": 16,
    "start_time": "2022-03-21T20:24:59.062Z"
   },
   {
    "duration": 5,
    "start_time": "2022-03-21T20:24:59.080Z"
   },
   {
    "duration": 7,
    "start_time": "2022-03-21T20:24:59.086Z"
   },
   {
    "duration": 36,
    "start_time": "2022-03-21T20:24:59.097Z"
   },
   {
    "duration": 27,
    "start_time": "2022-03-21T20:24:59.134Z"
   },
   {
    "duration": 21,
    "start_time": "2022-03-21T20:24:59.163Z"
   },
   {
    "duration": 9,
    "start_time": "2022-03-21T20:24:59.185Z"
   },
   {
    "duration": 5,
    "start_time": "2022-03-21T20:24:59.195Z"
   },
   {
    "duration": 40,
    "start_time": "2022-03-21T20:24:59.202Z"
   },
   {
    "duration": 18,
    "start_time": "2022-03-21T20:24:59.244Z"
   },
   {
    "duration": 14,
    "start_time": "2022-03-21T20:24:59.264Z"
   },
   {
    "duration": 4,
    "start_time": "2022-03-21T20:24:59.280Z"
   },
   {
    "duration": 281,
    "start_time": "2022-03-21T20:24:59.286Z"
   },
   {
    "duration": 47,
    "start_time": "2022-03-21T20:24:59.569Z"
   },
   {
    "duration": 25,
    "start_time": "2022-03-21T20:24:59.618Z"
   },
   {
    "duration": 3,
    "start_time": "2022-03-21T20:24:59.645Z"
   },
   {
    "duration": 450,
    "start_time": "2022-03-21T20:24:59.650Z"
   },
   {
    "duration": 15,
    "start_time": "2022-03-21T20:25:00.102Z"
   },
   {
    "duration": 6,
    "start_time": "2022-03-21T20:25:00.119Z"
   },
   {
    "duration": 31,
    "start_time": "2022-03-21T20:25:00.127Z"
   },
   {
    "duration": 6,
    "start_time": "2022-03-21T20:25:00.160Z"
   },
   {
    "duration": 12,
    "start_time": "2022-03-21T20:25:00.169Z"
   },
   {
    "duration": 407,
    "start_time": "2022-03-21T20:25:00.183Z"
   },
   {
    "duration": 7,
    "start_time": "2022-03-21T20:25:00.592Z"
   },
   {
    "duration": 104,
    "start_time": "2022-03-21T20:30:08.040Z"
   },
   {
    "duration": 16,
    "start_time": "2022-03-21T20:30:18.452Z"
   },
   {
    "duration": 508,
    "start_time": "2022-03-21T20:30:28.384Z"
   },
   {
    "duration": 543,
    "start_time": "2022-03-21T20:31:23.326Z"
   },
   {
    "duration": 470,
    "start_time": "2022-03-21T20:31:44.211Z"
   },
   {
    "duration": 448,
    "start_time": "2022-03-21T20:31:59.654Z"
   },
   {
    "duration": 464,
    "start_time": "2022-03-21T20:32:12.334Z"
   },
   {
    "duration": 482,
    "start_time": "2022-03-21T20:32:29.571Z"
   },
   {
    "duration": 490,
    "start_time": "2022-03-21T20:32:41.312Z"
   },
   {
    "duration": 1303,
    "start_time": "2022-03-21T20:34:16.929Z"
   },
   {
    "duration": 4,
    "start_time": "2022-03-21T20:34:18.234Z"
   },
   {
    "duration": 60,
    "start_time": "2022-03-21T20:34:18.239Z"
   },
   {
    "duration": 16,
    "start_time": "2022-03-21T20:34:18.302Z"
   },
   {
    "duration": 38,
    "start_time": "2022-03-21T20:34:18.320Z"
   },
   {
    "duration": 3,
    "start_time": "2022-03-21T20:34:18.359Z"
   },
   {
    "duration": 17,
    "start_time": "2022-03-21T20:34:18.364Z"
   },
   {
    "duration": 4,
    "start_time": "2022-03-21T20:34:18.383Z"
   },
   {
    "duration": 9,
    "start_time": "2022-03-21T20:34:18.389Z"
   },
   {
    "duration": 36,
    "start_time": "2022-03-21T20:34:18.401Z"
   },
   {
    "duration": 23,
    "start_time": "2022-03-21T20:34:18.439Z"
   },
   {
    "duration": 22,
    "start_time": "2022-03-21T20:34:18.464Z"
   },
   {
    "duration": 8,
    "start_time": "2022-03-21T20:34:18.488Z"
   },
   {
    "duration": 36,
    "start_time": "2022-03-21T20:34:18.498Z"
   },
   {
    "duration": 18,
    "start_time": "2022-03-21T20:34:18.536Z"
   },
   {
    "duration": 21,
    "start_time": "2022-03-21T20:34:18.556Z"
   },
   {
    "duration": 13,
    "start_time": "2022-03-21T20:34:18.579Z"
   },
   {
    "duration": 4,
    "start_time": "2022-03-21T20:34:18.594Z"
   },
   {
    "duration": 256,
    "start_time": "2022-03-21T20:34:18.631Z"
   },
   {
    "duration": 55,
    "start_time": "2022-03-21T20:34:18.889Z"
   },
   {
    "duration": 16,
    "start_time": "2022-03-21T20:34:18.946Z"
   },
   {
    "duration": 3,
    "start_time": "2022-03-21T20:34:18.964Z"
   },
   {
    "duration": 443,
    "start_time": "2022-03-21T20:34:18.969Z"
   },
   {
    "duration": 16,
    "start_time": "2022-03-21T20:34:19.413Z"
   },
   {
    "duration": 4,
    "start_time": "2022-03-21T20:34:19.431Z"
   },
   {
    "duration": 34,
    "start_time": "2022-03-21T20:34:19.436Z"
   },
   {
    "duration": 6,
    "start_time": "2022-03-21T20:34:19.472Z"
   },
   {
    "duration": 15,
    "start_time": "2022-03-21T20:34:19.481Z"
   },
   {
    "duration": 436,
    "start_time": "2022-03-21T20:34:19.498Z"
   },
   {
    "duration": 6,
    "start_time": "2022-03-21T20:34:19.936Z"
   },
   {
    "duration": 467,
    "start_time": "2022-03-21T20:34:19.944Z"
   },
   {
    "duration": 106,
    "start_time": "2022-03-21T20:48:22.801Z"
   },
   {
    "duration": 8,
    "start_time": "2022-03-21T20:48:44.150Z"
   },
   {
    "duration": 49,
    "start_time": "2022-03-22T05:51:45.529Z"
   },
   {
    "duration": 1237,
    "start_time": "2022-03-22T05:51:51.189Z"
   },
   {
    "duration": 5,
    "start_time": "2022-03-22T05:51:52.428Z"
   },
   {
    "duration": 59,
    "start_time": "2022-03-22T05:51:52.434Z"
   },
   {
    "duration": 13,
    "start_time": "2022-03-22T05:51:52.495Z"
   },
   {
    "duration": 25,
    "start_time": "2022-03-22T05:51:52.510Z"
   },
   {
    "duration": 3,
    "start_time": "2022-03-22T05:51:52.536Z"
   },
   {
    "duration": 16,
    "start_time": "2022-03-22T05:51:52.541Z"
   },
   {
    "duration": 4,
    "start_time": "2022-03-22T05:51:52.558Z"
   },
   {
    "duration": 10,
    "start_time": "2022-03-22T05:51:52.563Z"
   },
   {
    "duration": 7,
    "start_time": "2022-03-22T05:51:52.575Z"
   },
   {
    "duration": 22,
    "start_time": "2022-03-22T05:51:52.583Z"
   },
   {
    "duration": 21,
    "start_time": "2022-03-22T05:51:52.633Z"
   },
   {
    "duration": 9,
    "start_time": "2022-03-22T05:51:52.655Z"
   },
   {
    "duration": 9,
    "start_time": "2022-03-22T05:51:52.666Z"
   },
   {
    "duration": 14,
    "start_time": "2022-03-22T05:51:52.676Z"
   },
   {
    "duration": 42,
    "start_time": "2022-03-22T05:51:52.692Z"
   },
   {
    "duration": 14,
    "start_time": "2022-03-22T05:51:52.735Z"
   },
   {
    "duration": 4,
    "start_time": "2022-03-22T05:51:52.750Z"
   },
   {
    "duration": 227,
    "start_time": "2022-03-22T05:51:52.756Z"
   },
   {
    "duration": 52,
    "start_time": "2022-03-22T05:51:52.985Z"
   },
   {
    "duration": 16,
    "start_time": "2022-03-22T05:51:53.039Z"
   },
   {
    "duration": 3,
    "start_time": "2022-03-22T05:51:53.056Z"
   },
   {
    "duration": 388,
    "start_time": "2022-03-22T05:51:53.061Z"
   },
   {
    "duration": 14,
    "start_time": "2022-03-22T05:51:53.451Z"
   },
   {
    "duration": 10,
    "start_time": "2022-03-22T05:51:53.467Z"
   },
   {
    "duration": 28,
    "start_time": "2022-03-22T05:51:53.479Z"
   },
   {
    "duration": 6,
    "start_time": "2022-03-22T05:51:53.509Z"
   },
   {
    "duration": 23,
    "start_time": "2022-03-22T05:51:53.517Z"
   },
   {
    "duration": 341,
    "start_time": "2022-03-22T05:51:53.542Z"
   },
   {
    "duration": 6,
    "start_time": "2022-03-22T05:51:53.884Z"
   },
   {
    "duration": 472,
    "start_time": "2022-03-22T05:51:53.892Z"
   },
   {
    "duration": 951,
    "start_time": "2022-03-22T05:51:54.366Z"
   },
   {
    "duration": 1218,
    "start_time": "2022-03-22T05:53:12.775Z"
   },
   {
    "duration": 602,
    "start_time": "2022-03-22T05:54:54.893Z"
   },
   {
    "duration": 99,
    "start_time": "2022-03-22T05:55:25.520Z"
   },
   {
    "duration": 394,
    "start_time": "2022-03-22T05:55:30.130Z"
   },
   {
    "duration": 1072,
    "start_time": "2022-03-22T05:55:47.346Z"
   },
   {
    "duration": 3,
    "start_time": "2022-03-22T05:55:48.420Z"
   },
   {
    "duration": 54,
    "start_time": "2022-03-22T05:55:48.424Z"
   },
   {
    "duration": 14,
    "start_time": "2022-03-22T05:55:48.481Z"
   },
   {
    "duration": 23,
    "start_time": "2022-03-22T05:55:48.497Z"
   },
   {
    "duration": 4,
    "start_time": "2022-03-22T05:55:48.533Z"
   },
   {
    "duration": 16,
    "start_time": "2022-03-22T05:55:48.539Z"
   },
   {
    "duration": 4,
    "start_time": "2022-03-22T05:55:48.556Z"
   },
   {
    "duration": 6,
    "start_time": "2022-03-22T05:55:48.562Z"
   },
   {
    "duration": 8,
    "start_time": "2022-03-22T05:55:48.571Z"
   },
   {
    "duration": 54,
    "start_time": "2022-03-22T05:55:48.581Z"
   },
   {
    "duration": 21,
    "start_time": "2022-03-22T05:55:48.637Z"
   },
   {
    "duration": 9,
    "start_time": "2022-03-22T05:55:48.659Z"
   },
   {
    "duration": 6,
    "start_time": "2022-03-22T05:55:48.669Z"
   },
   {
    "duration": 22,
    "start_time": "2022-03-22T05:55:48.676Z"
   },
   {
    "duration": 58,
    "start_time": "2022-03-22T05:55:48.701Z"
   },
   {
    "duration": 13,
    "start_time": "2022-03-22T05:55:48.761Z"
   },
   {
    "duration": 4,
    "start_time": "2022-03-22T05:55:48.776Z"
   },
   {
    "duration": 217,
    "start_time": "2022-03-22T05:55:48.781Z"
   },
   {
    "duration": 52,
    "start_time": "2022-03-22T05:55:48.999Z"
   },
   {
    "duration": 14,
    "start_time": "2022-03-22T05:55:49.053Z"
   },
   {
    "duration": 3,
    "start_time": "2022-03-22T05:55:49.069Z"
   },
   {
    "duration": 385,
    "start_time": "2022-03-22T05:55:49.073Z"
   },
   {
    "duration": 14,
    "start_time": "2022-03-22T05:55:49.459Z"
   },
   {
    "duration": 10,
    "start_time": "2022-03-22T05:55:49.475Z"
   },
   {
    "duration": 28,
    "start_time": "2022-03-22T05:55:49.486Z"
   },
   {
    "duration": 6,
    "start_time": "2022-03-22T05:55:49.515Z"
   },
   {
    "duration": 10,
    "start_time": "2022-03-22T05:55:49.532Z"
   },
   {
    "duration": 353,
    "start_time": "2022-03-22T05:55:49.544Z"
   },
   {
    "duration": 6,
    "start_time": "2022-03-22T05:55:49.898Z"
   },
   {
    "duration": 443,
    "start_time": "2022-03-22T05:55:49.905Z"
   },
   {
    "duration": 700,
    "start_time": "2022-03-22T05:55:50.349Z"
   },
   {
    "duration": 104,
    "start_time": "2022-03-22T05:57:25.220Z"
   },
   {
    "duration": 138,
    "start_time": "2022-03-22T05:59:15.367Z"
   },
   {
    "duration": 447,
    "start_time": "2022-03-22T06:00:16.214Z"
   },
   {
    "duration": 21,
    "start_time": "2022-03-22T06:02:43.451Z"
   },
   {
    "duration": 143,
    "start_time": "2022-03-22T06:03:00.707Z"
   },
   {
    "duration": 171,
    "start_time": "2022-03-22T06:05:03.265Z"
   },
   {
    "duration": 162,
    "start_time": "2022-03-22T06:05:12.893Z"
   },
   {
    "duration": 264,
    "start_time": "2022-03-22T06:05:21.455Z"
   },
   {
    "duration": 135,
    "start_time": "2022-03-22T06:05:34.102Z"
   },
   {
    "duration": 144,
    "start_time": "2022-03-22T06:08:18.918Z"
   },
   {
    "duration": 146,
    "start_time": "2022-03-22T06:08:28.771Z"
   },
   {
    "duration": 140,
    "start_time": "2022-03-22T06:09:17.148Z"
   },
   {
    "duration": 132,
    "start_time": "2022-03-22T06:09:35.476Z"
   },
   {
    "duration": 136,
    "start_time": "2022-03-22T06:17:14.945Z"
   },
   {
    "duration": 1140,
    "start_time": "2022-03-22T06:17:56.070Z"
   },
   {
    "duration": 2,
    "start_time": "2022-03-22T06:17:57.212Z"
   },
   {
    "duration": 57,
    "start_time": "2022-03-22T06:17:57.216Z"
   },
   {
    "duration": 15,
    "start_time": "2022-03-22T06:17:57.275Z"
   },
   {
    "duration": 25,
    "start_time": "2022-03-22T06:17:57.292Z"
   },
   {
    "duration": 16,
    "start_time": "2022-03-22T06:17:57.318Z"
   },
   {
    "duration": 21,
    "start_time": "2022-03-22T06:17:57.335Z"
   },
   {
    "duration": 6,
    "start_time": "2022-03-22T06:17:57.358Z"
   },
   {
    "duration": 8,
    "start_time": "2022-03-22T06:17:57.365Z"
   },
   {
    "duration": 7,
    "start_time": "2022-03-22T06:17:57.375Z"
   },
   {
    "duration": 21,
    "start_time": "2022-03-22T06:17:57.384Z"
   },
   {
    "duration": 42,
    "start_time": "2022-03-22T06:17:57.406Z"
   },
   {
    "duration": 8,
    "start_time": "2022-03-22T06:17:57.450Z"
   },
   {
    "duration": 5,
    "start_time": "2022-03-22T06:17:57.459Z"
   },
   {
    "duration": 14,
    "start_time": "2022-03-22T06:17:57.466Z"
   },
   {
    "duration": 19,
    "start_time": "2022-03-22T06:17:57.481Z"
   },
   {
    "duration": 42,
    "start_time": "2022-03-22T06:17:57.501Z"
   },
   {
    "duration": 5,
    "start_time": "2022-03-22T06:17:57.544Z"
   },
   {
    "duration": 224,
    "start_time": "2022-03-22T06:17:57.550Z"
   },
   {
    "duration": 44,
    "start_time": "2022-03-22T06:17:57.776Z"
   },
   {
    "duration": 17,
    "start_time": "2022-03-22T06:17:57.833Z"
   },
   {
    "duration": 4,
    "start_time": "2022-03-22T06:17:57.852Z"
   },
   {
    "duration": 580,
    "start_time": "2022-03-22T06:17:57.857Z"
   },
   {
    "duration": 14,
    "start_time": "2022-03-22T06:17:58.440Z"
   },
   {
    "duration": 13,
    "start_time": "2022-03-22T06:17:58.456Z"
   },
   {
    "duration": 34,
    "start_time": "2022-03-22T06:17:58.470Z"
   },
   {
    "duration": 7,
    "start_time": "2022-03-22T06:17:58.506Z"
   },
   {
    "duration": 24,
    "start_time": "2022-03-22T06:17:58.517Z"
   },
   {
    "duration": 365,
    "start_time": "2022-03-22T06:17:58.542Z"
   },
   {
    "duration": 6,
    "start_time": "2022-03-22T06:17:58.908Z"
   },
   {
    "duration": 419,
    "start_time": "2022-03-22T06:17:58.916Z"
   },
   {
    "duration": 151,
    "start_time": "2022-03-22T06:17:59.337Z"
   },
   {
    "duration": 232,
    "start_time": "2022-03-22T06:17:59.490Z"
   },
   {
    "duration": 136,
    "start_time": "2022-03-22T06:18:32.953Z"
   },
   {
    "duration": 137,
    "start_time": "2022-03-22T06:21:14.024Z"
   },
   {
    "duration": 23,
    "start_time": "2022-03-22T07:44:07.012Z"
   },
   {
    "duration": 31,
    "start_time": "2022-03-22T07:48:34.764Z"
   },
   {
    "duration": 40,
    "start_time": "2022-03-22T07:50:11.545Z"
   },
   {
    "duration": 1268,
    "start_time": "2022-03-22T07:50:28.064Z"
   },
   {
    "duration": 3,
    "start_time": "2022-03-22T07:50:29.334Z"
   },
   {
    "duration": 57,
    "start_time": "2022-03-22T07:50:29.338Z"
   },
   {
    "duration": 14,
    "start_time": "2022-03-22T07:50:29.398Z"
   },
   {
    "duration": 34,
    "start_time": "2022-03-22T07:50:29.413Z"
   },
   {
    "duration": 3,
    "start_time": "2022-03-22T07:50:29.448Z"
   },
   {
    "duration": 16,
    "start_time": "2022-03-22T07:50:29.453Z"
   },
   {
    "duration": 4,
    "start_time": "2022-03-22T07:50:29.471Z"
   },
   {
    "duration": 6,
    "start_time": "2022-03-22T07:50:29.476Z"
   },
   {
    "duration": 8,
    "start_time": "2022-03-22T07:50:29.485Z"
   },
   {
    "duration": 47,
    "start_time": "2022-03-22T07:50:29.494Z"
   },
   {
    "duration": 21,
    "start_time": "2022-03-22T07:50:29.542Z"
   },
   {
    "duration": 9,
    "start_time": "2022-03-22T07:50:29.565Z"
   },
   {
    "duration": 8,
    "start_time": "2022-03-22T07:50:29.575Z"
   },
   {
    "duration": 17,
    "start_time": "2022-03-22T07:50:29.584Z"
   },
   {
    "duration": 42,
    "start_time": "2022-03-22T07:50:29.603Z"
   },
   {
    "duration": 12,
    "start_time": "2022-03-22T07:50:29.647Z"
   },
   {
    "duration": 5,
    "start_time": "2022-03-22T07:50:29.661Z"
   },
   {
    "duration": 237,
    "start_time": "2022-03-22T07:50:29.667Z"
   },
   {
    "duration": 56,
    "start_time": "2022-03-22T07:50:29.905Z"
   },
   {
    "duration": 18,
    "start_time": "2022-03-22T07:50:29.963Z"
   },
   {
    "duration": 4,
    "start_time": "2022-03-22T07:50:29.982Z"
   },
   {
    "duration": 390,
    "start_time": "2022-03-22T07:50:29.988Z"
   },
   {
    "duration": 16,
    "start_time": "2022-03-22T07:50:30.380Z"
   },
   {
    "duration": 17,
    "start_time": "2022-03-22T07:50:30.398Z"
   },
   {
    "duration": 53,
    "start_time": "2022-03-22T07:50:30.416Z"
   },
   {
    "duration": 9,
    "start_time": "2022-03-22T07:50:30.471Z"
   },
   {
    "duration": 19,
    "start_time": "2022-03-22T07:50:30.483Z"
   },
   {
    "duration": 379,
    "start_time": "2022-03-22T07:50:30.504Z"
   },
   {
    "duration": 7,
    "start_time": "2022-03-22T07:50:30.885Z"
   },
   {
    "duration": 431,
    "start_time": "2022-03-22T07:50:30.893Z"
   },
   {
    "duration": 148,
    "start_time": "2022-03-22T07:50:31.333Z"
   },
   {
    "duration": 225,
    "start_time": "2022-03-22T07:50:31.483Z"
   },
   {
    "duration": 41,
    "start_time": "2022-03-22T07:50:31.710Z"
   },
   {
    "duration": 32,
    "start_time": "2022-03-22T07:50:31.753Z"
   },
   {
    "duration": 45,
    "start_time": "2022-03-22T07:51:52.583Z"
   },
   {
    "duration": 40,
    "start_time": "2022-03-22T07:53:03.816Z"
   },
   {
    "duration": 1243,
    "start_time": "2022-03-22T07:53:10.477Z"
   },
   {
    "duration": 3,
    "start_time": "2022-03-22T07:53:11.722Z"
   },
   {
    "duration": 51,
    "start_time": "2022-03-22T07:53:11.733Z"
   },
   {
    "duration": 15,
    "start_time": "2022-03-22T07:53:11.786Z"
   },
   {
    "duration": 50,
    "start_time": "2022-03-22T07:53:11.804Z"
   },
   {
    "duration": 4,
    "start_time": "2022-03-22T07:53:11.856Z"
   },
   {
    "duration": 18,
    "start_time": "2022-03-22T07:53:11.862Z"
   },
   {
    "duration": 4,
    "start_time": "2022-03-22T07:53:11.882Z"
   },
   {
    "duration": 7,
    "start_time": "2022-03-22T07:53:11.888Z"
   },
   {
    "duration": 8,
    "start_time": "2022-03-22T07:53:11.898Z"
   },
   {
    "duration": 22,
    "start_time": "2022-03-22T07:53:11.933Z"
   },
   {
    "duration": 21,
    "start_time": "2022-03-22T07:53:11.956Z"
   },
   {
    "duration": 10,
    "start_time": "2022-03-22T07:53:11.979Z"
   },
   {
    "duration": 8,
    "start_time": "2022-03-22T07:53:11.991Z"
   },
   {
    "duration": 43,
    "start_time": "2022-03-22T07:53:12.001Z"
   },
   {
    "duration": 20,
    "start_time": "2022-03-22T07:53:12.046Z"
   },
   {
    "duration": 13,
    "start_time": "2022-03-22T07:53:12.067Z"
   },
   {
    "duration": 5,
    "start_time": "2022-03-22T07:53:12.081Z"
   },
   {
    "duration": 263,
    "start_time": "2022-03-22T07:53:12.088Z"
   },
   {
    "duration": 46,
    "start_time": "2022-03-22T07:53:12.353Z"
   },
   {
    "duration": 43,
    "start_time": "2022-03-22T07:53:12.402Z"
   },
   {
    "duration": 4,
    "start_time": "2022-03-22T07:53:12.447Z"
   },
   {
    "duration": 433,
    "start_time": "2022-03-22T07:53:12.452Z"
   },
   {
    "duration": 16,
    "start_time": "2022-03-22T07:53:12.887Z"
   },
   {
    "duration": 11,
    "start_time": "2022-03-22T07:53:12.904Z"
   },
   {
    "duration": 36,
    "start_time": "2022-03-22T07:53:12.918Z"
   },
   {
    "duration": 6,
    "start_time": "2022-03-22T07:53:12.956Z"
   },
   {
    "duration": 15,
    "start_time": "2022-03-22T07:53:12.965Z"
   },
   {
    "duration": 369,
    "start_time": "2022-03-22T07:53:12.982Z"
   },
   {
    "duration": 6,
    "start_time": "2022-03-22T07:53:13.353Z"
   },
   {
    "duration": 433,
    "start_time": "2022-03-22T07:53:13.361Z"
   },
   {
    "duration": 164,
    "start_time": "2022-03-22T07:53:13.795Z"
   },
   {
    "duration": 228,
    "start_time": "2022-03-22T07:53:13.961Z"
   },
   {
    "duration": 48,
    "start_time": "2022-03-22T07:53:14.190Z"
   },
   {
    "duration": 36,
    "start_time": "2022-03-22T07:53:14.240Z"
   },
   {
    "duration": 28,
    "start_time": "2022-03-22T07:53:42.406Z"
   },
   {
    "duration": 37,
    "start_time": "2022-03-22T07:54:26.595Z"
   },
   {
    "duration": 1222,
    "start_time": "2022-03-22T07:54:41.505Z"
   },
   {
    "duration": 3,
    "start_time": "2022-03-22T07:54:42.729Z"
   },
   {
    "duration": 63,
    "start_time": "2022-03-22T07:54:42.734Z"
   },
   {
    "duration": 14,
    "start_time": "2022-03-22T07:54:42.799Z"
   },
   {
    "duration": 50,
    "start_time": "2022-03-22T07:54:42.815Z"
   },
   {
    "duration": 4,
    "start_time": "2022-03-22T07:54:42.867Z"
   },
   {
    "duration": 29,
    "start_time": "2022-03-22T07:54:42.873Z"
   },
   {
    "duration": 4,
    "start_time": "2022-03-22T07:54:42.904Z"
   },
   {
    "duration": 9,
    "start_time": "2022-03-22T07:54:42.910Z"
   },
   {
    "duration": 7,
    "start_time": "2022-03-22T07:54:42.934Z"
   },
   {
    "duration": 24,
    "start_time": "2022-03-22T07:54:42.943Z"
   },
   {
    "duration": 22,
    "start_time": "2022-03-22T07:54:42.970Z"
   },
   {
    "duration": 8,
    "start_time": "2022-03-22T07:54:42.994Z"
   },
   {
    "duration": 5,
    "start_time": "2022-03-22T07:54:43.033Z"
   },
   {
    "duration": 17,
    "start_time": "2022-03-22T07:54:43.039Z"
   },
   {
    "duration": 21,
    "start_time": "2022-03-22T07:54:43.057Z"
   },
   {
    "duration": 13,
    "start_time": "2022-03-22T07:54:43.079Z"
   },
   {
    "duration": 4,
    "start_time": "2022-03-22T07:54:43.094Z"
   },
   {
    "duration": 259,
    "start_time": "2022-03-22T07:54:43.099Z"
   },
   {
    "duration": 47,
    "start_time": "2022-03-22T07:54:43.359Z"
   },
   {
    "duration": 32,
    "start_time": "2022-03-22T07:54:43.407Z"
   },
   {
    "duration": 3,
    "start_time": "2022-03-22T07:54:43.441Z"
   },
   {
    "duration": 411,
    "start_time": "2022-03-22T07:54:43.446Z"
   },
   {
    "duration": 14,
    "start_time": "2022-03-22T07:54:43.859Z"
   },
   {
    "duration": 9,
    "start_time": "2022-03-22T07:54:43.874Z"
   },
   {
    "duration": 35,
    "start_time": "2022-03-22T07:54:43.885Z"
   },
   {
    "duration": 6,
    "start_time": "2022-03-22T07:54:43.922Z"
   },
   {
    "duration": 13,
    "start_time": "2022-03-22T07:54:43.931Z"
   },
   {
    "duration": 443,
    "start_time": "2022-03-22T07:54:43.946Z"
   },
   {
    "duration": 9,
    "start_time": "2022-03-22T07:54:44.391Z"
   },
   {
    "duration": 456,
    "start_time": "2022-03-22T07:54:44.402Z"
   },
   {
    "duration": 181,
    "start_time": "2022-03-22T07:54:44.860Z"
   },
   {
    "duration": 237,
    "start_time": "2022-03-22T07:54:45.042Z"
   },
   {
    "duration": 58,
    "start_time": "2022-03-22T07:54:45.281Z"
   },
   {
    "duration": 1561,
    "start_time": "2022-03-22T07:56:11.790Z"
   },
   {
    "duration": 3,
    "start_time": "2022-03-22T07:56:13.354Z"
   },
   {
    "duration": 55,
    "start_time": "2022-03-22T07:56:13.359Z"
   },
   {
    "duration": 18,
    "start_time": "2022-03-22T07:56:13.416Z"
   },
   {
    "duration": 27,
    "start_time": "2022-03-22T07:56:13.436Z"
   },
   {
    "duration": 3,
    "start_time": "2022-03-22T07:56:13.465Z"
   },
   {
    "duration": 20,
    "start_time": "2022-03-22T07:56:13.469Z"
   },
   {
    "duration": 5,
    "start_time": "2022-03-22T07:56:13.490Z"
   },
   {
    "duration": 13,
    "start_time": "2022-03-22T07:56:13.496Z"
   },
   {
    "duration": 8,
    "start_time": "2022-03-22T07:56:13.535Z"
   },
   {
    "duration": 25,
    "start_time": "2022-03-22T07:56:13.545Z"
   },
   {
    "duration": 21,
    "start_time": "2022-03-22T07:56:13.572Z"
   },
   {
    "duration": 9,
    "start_time": "2022-03-22T07:56:13.594Z"
   },
   {
    "duration": 5,
    "start_time": "2022-03-22T07:56:13.633Z"
   },
   {
    "duration": 16,
    "start_time": "2022-03-22T07:56:13.640Z"
   },
   {
    "duration": 19,
    "start_time": "2022-03-22T07:56:13.658Z"
   },
   {
    "duration": 14,
    "start_time": "2022-03-22T07:56:13.679Z"
   },
   {
    "duration": 38,
    "start_time": "2022-03-22T07:56:13.695Z"
   },
   {
    "duration": 235,
    "start_time": "2022-03-22T07:56:13.735Z"
   },
   {
    "duration": 48,
    "start_time": "2022-03-22T07:56:13.972Z"
   },
   {
    "duration": 27,
    "start_time": "2022-03-22T07:56:14.021Z"
   },
   {
    "duration": 4,
    "start_time": "2022-03-22T07:56:14.049Z"
   },
   {
    "duration": 430,
    "start_time": "2022-03-22T07:56:14.055Z"
   },
   {
    "duration": 15,
    "start_time": "2022-03-22T07:56:14.487Z"
   },
   {
    "duration": 8,
    "start_time": "2022-03-22T07:56:14.504Z"
   },
   {
    "duration": 31,
    "start_time": "2022-03-22T07:56:14.513Z"
   },
   {
    "duration": 7,
    "start_time": "2022-03-22T07:56:14.547Z"
   },
   {
    "duration": 12,
    "start_time": "2022-03-22T07:56:14.559Z"
   },
   {
    "duration": 386,
    "start_time": "2022-03-22T07:56:14.572Z"
   },
   {
    "duration": 7,
    "start_time": "2022-03-22T07:56:14.960Z"
   },
   {
    "duration": 463,
    "start_time": "2022-03-22T07:56:14.968Z"
   },
   {
    "duration": 151,
    "start_time": "2022-03-22T07:56:15.433Z"
   },
   {
    "duration": 239,
    "start_time": "2022-03-22T07:56:15.586Z"
   },
   {
    "duration": 33,
    "start_time": "2022-03-22T07:56:15.826Z"
   },
   {
    "duration": 36,
    "start_time": "2022-03-22T07:56:15.861Z"
   },
   {
    "duration": 1286,
    "start_time": "2022-03-22T07:57:37.184Z"
   },
   {
    "duration": 4,
    "start_time": "2022-03-22T07:57:38.472Z"
   },
   {
    "duration": 51,
    "start_time": "2022-03-22T07:57:38.477Z"
   },
   {
    "duration": 16,
    "start_time": "2022-03-22T07:57:38.538Z"
   },
   {
    "duration": 31,
    "start_time": "2022-03-22T07:57:38.556Z"
   },
   {
    "duration": 3,
    "start_time": "2022-03-22T07:57:38.589Z"
   },
   {
    "duration": 21,
    "start_time": "2022-03-22T07:57:38.594Z"
   },
   {
    "duration": 19,
    "start_time": "2022-03-22T07:57:38.616Z"
   },
   {
    "duration": 9,
    "start_time": "2022-03-22T07:57:38.636Z"
   },
   {
    "duration": 9,
    "start_time": "2022-03-22T07:57:38.648Z"
   },
   {
    "duration": 25,
    "start_time": "2022-03-22T07:57:38.658Z"
   },
   {
    "duration": 51,
    "start_time": "2022-03-22T07:57:38.685Z"
   },
   {
    "duration": 11,
    "start_time": "2022-03-22T07:57:38.738Z"
   },
   {
    "duration": 12,
    "start_time": "2022-03-22T07:57:38.751Z"
   },
   {
    "duration": 28,
    "start_time": "2022-03-22T07:57:38.765Z"
   },
   {
    "duration": 38,
    "start_time": "2022-03-22T07:57:38.794Z"
   },
   {
    "duration": 23,
    "start_time": "2022-03-22T07:57:38.834Z"
   },
   {
    "duration": 4,
    "start_time": "2022-03-22T07:57:38.860Z"
   },
   {
    "duration": 278,
    "start_time": "2022-03-22T07:57:38.866Z"
   },
   {
    "duration": 50,
    "start_time": "2022-03-22T07:57:39.145Z"
   },
   {
    "duration": 38,
    "start_time": "2022-03-22T07:57:39.196Z"
   },
   {
    "duration": 4,
    "start_time": "2022-03-22T07:57:39.236Z"
   },
   {
    "duration": 412,
    "start_time": "2022-03-22T07:57:39.241Z"
   },
   {
    "duration": 20,
    "start_time": "2022-03-22T07:57:39.655Z"
   },
   {
    "duration": 5,
    "start_time": "2022-03-22T07:57:39.677Z"
   },
   {
    "duration": 50,
    "start_time": "2022-03-22T07:57:39.684Z"
   },
   {
    "duration": 7,
    "start_time": "2022-03-22T07:57:39.736Z"
   },
   {
    "duration": 14,
    "start_time": "2022-03-22T07:57:39.746Z"
   },
   {
    "duration": 412,
    "start_time": "2022-03-22T07:57:39.761Z"
   },
   {
    "duration": 8,
    "start_time": "2022-03-22T07:57:40.174Z"
   },
   {
    "duration": 454,
    "start_time": "2022-03-22T07:57:40.183Z"
   },
   {
    "duration": 158,
    "start_time": "2022-03-22T07:57:40.639Z"
   },
   {
    "duration": 325,
    "start_time": "2022-03-22T07:57:40.799Z"
   },
   {
    "duration": 36,
    "start_time": "2022-03-22T07:57:41.132Z"
   },
   {
    "duration": 34,
    "start_time": "2022-03-22T07:57:41.170Z"
   },
   {
    "duration": 26,
    "start_time": "2022-03-22T07:58:03.329Z"
   },
   {
    "duration": 28,
    "start_time": "2022-03-22T08:33:36.129Z"
   },
   {
    "duration": 89,
    "start_time": "2022-03-22T08:35:04.511Z"
   },
   {
    "duration": 169,
    "start_time": "2022-03-22T08:35:13.418Z"
   },
   {
    "duration": 14,
    "start_time": "2022-03-22T08:35:59.174Z"
   },
   {
    "duration": 21,
    "start_time": "2022-03-22T08:36:09.156Z"
   },
   {
    "duration": 1363,
    "start_time": "2022-03-22T08:37:03.647Z"
   },
   {
    "duration": 3,
    "start_time": "2022-03-22T08:37:05.012Z"
   },
   {
    "duration": 51,
    "start_time": "2022-03-22T08:37:05.017Z"
   },
   {
    "duration": 15,
    "start_time": "2022-03-22T08:37:05.070Z"
   },
   {
    "duration": 28,
    "start_time": "2022-03-22T08:37:05.086Z"
   },
   {
    "duration": 3,
    "start_time": "2022-03-22T08:37:05.132Z"
   },
   {
    "duration": 17,
    "start_time": "2022-03-22T08:37:05.137Z"
   },
   {
    "duration": 4,
    "start_time": "2022-03-22T08:37:05.156Z"
   },
   {
    "duration": 9,
    "start_time": "2022-03-22T08:37:05.162Z"
   },
   {
    "duration": 9,
    "start_time": "2022-03-22T08:37:05.174Z"
   },
   {
    "duration": 25,
    "start_time": "2022-03-22T08:37:05.185Z"
   },
   {
    "duration": 22,
    "start_time": "2022-03-22T08:37:05.234Z"
   },
   {
    "duration": 10,
    "start_time": "2022-03-22T08:37:05.257Z"
   },
   {
    "duration": 9,
    "start_time": "2022-03-22T08:37:05.268Z"
   },
   {
    "duration": 23,
    "start_time": "2022-03-22T08:37:05.278Z"
   },
   {
    "duration": 42,
    "start_time": "2022-03-22T08:37:05.304Z"
   },
   {
    "duration": 13,
    "start_time": "2022-03-22T08:37:05.347Z"
   },
   {
    "duration": 4,
    "start_time": "2022-03-22T08:37:05.362Z"
   },
   {
    "duration": 232,
    "start_time": "2022-03-22T08:37:05.367Z"
   },
   {
    "duration": 48,
    "start_time": "2022-03-22T08:37:05.601Z"
   },
   {
    "duration": 15,
    "start_time": "2022-03-22T08:37:05.651Z"
   },
   {
    "duration": 3,
    "start_time": "2022-03-22T08:37:05.667Z"
   },
   {
    "duration": 398,
    "start_time": "2022-03-22T08:37:05.672Z"
   },
   {
    "duration": 15,
    "start_time": "2022-03-22T08:37:06.071Z"
   },
   {
    "duration": 11,
    "start_time": "2022-03-22T08:37:06.087Z"
   },
   {
    "duration": 33,
    "start_time": "2022-03-22T08:37:06.100Z"
   },
   {
    "duration": 7,
    "start_time": "2022-03-22T08:37:06.135Z"
   },
   {
    "duration": 14,
    "start_time": "2022-03-22T08:37:06.145Z"
   },
   {
    "duration": 358,
    "start_time": "2022-03-22T08:37:06.160Z"
   },
   {
    "duration": 16,
    "start_time": "2022-03-22T08:37:06.519Z"
   },
   {
    "duration": 398,
    "start_time": "2022-03-22T08:37:06.537Z"
   },
   {
    "duration": 153,
    "start_time": "2022-03-22T08:37:06.937Z"
   },
   {
    "duration": 240,
    "start_time": "2022-03-22T08:37:07.091Z"
   },
   {
    "duration": 29,
    "start_time": "2022-03-22T08:37:07.333Z"
   },
   {
    "duration": 29,
    "start_time": "2022-03-22T08:37:07.364Z"
   },
   {
    "duration": 51,
    "start_time": "2022-03-22T08:37:07.396Z"
   },
   {
    "duration": 194,
    "start_time": "2022-03-22T08:37:07.448Z"
   },
   {
    "duration": 147,
    "start_time": "2022-03-22T08:37:29.974Z"
   },
   {
    "duration": 166,
    "start_time": "2022-03-22T08:37:42.816Z"
   },
   {
    "duration": 300,
    "start_time": "2022-03-22T08:38:02.839Z"
   },
   {
    "duration": 132,
    "start_time": "2022-03-22T08:38:46.368Z"
   },
   {
    "duration": 122,
    "start_time": "2022-03-22T08:38:56.154Z"
   },
   {
    "duration": 123,
    "start_time": "2022-03-22T08:39:03.304Z"
   },
   {
    "duration": 138,
    "start_time": "2022-03-22T08:39:08.197Z"
   },
   {
    "duration": 137,
    "start_time": "2022-03-22T08:39:42.966Z"
   },
   {
    "duration": 159,
    "start_time": "2022-03-22T08:43:34.393Z"
   },
   {
    "duration": 19,
    "start_time": "2022-03-22T08:49:39.677Z"
   },
   {
    "duration": 25,
    "start_time": "2022-03-22T08:49:54.055Z"
   },
   {
    "duration": 20,
    "start_time": "2022-03-22T08:49:59.853Z"
   },
   {
    "duration": 108,
    "start_time": "2022-03-22T09:06:01.991Z"
   },
   {
    "duration": 197,
    "start_time": "2022-03-22T09:06:36.673Z"
   },
   {
    "duration": 106,
    "start_time": "2022-03-22T09:07:04.146Z"
   },
   {
    "duration": 113,
    "start_time": "2022-03-22T09:07:07.225Z"
   },
   {
    "duration": 10,
    "start_time": "2022-03-22T09:29:27.759Z"
   },
   {
    "duration": 109,
    "start_time": "2022-03-22T09:29:39.269Z"
   },
   {
    "duration": 110,
    "start_time": "2022-03-22T09:29:42.224Z"
   },
   {
    "duration": 104,
    "start_time": "2022-03-22T09:29:44.477Z"
   },
   {
    "duration": 101,
    "start_time": "2022-03-22T09:41:47.715Z"
   },
   {
    "duration": 10,
    "start_time": "2022-03-22T09:43:41.788Z"
   },
   {
    "duration": 104,
    "start_time": "2022-03-22T09:44:21.477Z"
   },
   {
    "duration": 1223,
    "start_time": "2022-03-22T09:44:31.013Z"
   },
   {
    "duration": 3,
    "start_time": "2022-03-22T09:44:32.238Z"
   },
   {
    "duration": 59,
    "start_time": "2022-03-22T09:44:32.242Z"
   },
   {
    "duration": 16,
    "start_time": "2022-03-22T09:44:32.303Z"
   },
   {
    "duration": 36,
    "start_time": "2022-03-22T09:44:32.320Z"
   },
   {
    "duration": 3,
    "start_time": "2022-03-22T09:44:32.358Z"
   },
   {
    "duration": 15,
    "start_time": "2022-03-22T09:44:32.363Z"
   },
   {
    "duration": 4,
    "start_time": "2022-03-22T09:44:32.380Z"
   },
   {
    "duration": 9,
    "start_time": "2022-03-22T09:44:32.386Z"
   },
   {
    "duration": 8,
    "start_time": "2022-03-22T09:44:32.399Z"
   },
   {
    "duration": 22,
    "start_time": "2022-03-22T09:44:32.434Z"
   },
   {
    "duration": 21,
    "start_time": "2022-03-22T09:44:32.458Z"
   },
   {
    "duration": 9,
    "start_time": "2022-03-22T09:44:32.481Z"
   },
   {
    "duration": 11,
    "start_time": "2022-03-22T09:44:32.491Z"
   },
   {
    "duration": 48,
    "start_time": "2022-03-22T09:44:32.503Z"
   },
   {
    "duration": 18,
    "start_time": "2022-03-22T09:44:32.554Z"
   },
   {
    "duration": 14,
    "start_time": "2022-03-22T09:44:32.574Z"
   },
   {
    "duration": 5,
    "start_time": "2022-03-22T09:44:32.590Z"
   },
   {
    "duration": 237,
    "start_time": "2022-03-22T09:44:32.597Z"
   },
   {
    "duration": 47,
    "start_time": "2022-03-22T09:44:32.836Z"
   },
   {
    "duration": 16,
    "start_time": "2022-03-22T09:44:32.885Z"
   },
   {
    "duration": 31,
    "start_time": "2022-03-22T09:44:32.904Z"
   },
   {
    "duration": 389,
    "start_time": "2022-03-22T09:44:32.937Z"
   },
   {
    "duration": 14,
    "start_time": "2022-03-22T09:44:33.327Z"
   },
   {
    "duration": 5,
    "start_time": "2022-03-22T09:44:33.343Z"
   },
   {
    "duration": 27,
    "start_time": "2022-03-22T09:44:33.350Z"
   },
   {
    "duration": 6,
    "start_time": "2022-03-22T09:44:33.379Z"
   },
   {
    "duration": 16,
    "start_time": "2022-03-22T09:44:33.388Z"
   },
   {
    "duration": 395,
    "start_time": "2022-03-22T09:44:33.406Z"
   },
   {
    "duration": 7,
    "start_time": "2022-03-22T09:44:33.803Z"
   },
   {
    "duration": 439,
    "start_time": "2022-03-22T09:44:33.812Z"
   },
   {
    "duration": 149,
    "start_time": "2022-03-22T09:44:34.253Z"
   },
   {
    "duration": 221,
    "start_time": "2022-03-22T09:44:34.404Z"
   },
   {
    "duration": 33,
    "start_time": "2022-03-22T09:44:34.627Z"
   },
   {
    "duration": 25,
    "start_time": "2022-03-22T09:44:34.662Z"
   },
   {
    "duration": 45,
    "start_time": "2022-03-22T09:44:34.689Z"
   },
   {
    "duration": 178,
    "start_time": "2022-03-22T09:44:34.736Z"
   },
   {
    "duration": 121,
    "start_time": "2022-03-22T09:44:34.916Z"
   },
   {
    "duration": 118,
    "start_time": "2022-03-22T09:44:35.039Z"
   },
   {
    "duration": 124,
    "start_time": "2022-03-22T09:44:35.159Z"
   },
   {
    "duration": 115,
    "start_time": "2022-03-22T09:44:35.285Z"
   },
   {
    "duration": 118,
    "start_time": "2022-03-22T09:44:35.402Z"
   },
   {
    "duration": 126,
    "start_time": "2022-03-22T09:44:35.522Z"
   },
   {
    "duration": 120,
    "start_time": "2022-03-22T09:44:35.650Z"
   },
   {
    "duration": 114,
    "start_time": "2022-03-22T09:44:35.772Z"
   },
   {
    "duration": 117,
    "start_time": "2022-03-22T09:44:35.888Z"
   },
   {
    "duration": 1170,
    "start_time": "2022-03-22T09:48:42.249Z"
   },
   {
    "duration": 3,
    "start_time": "2022-03-22T09:48:43.421Z"
   },
   {
    "duration": 57,
    "start_time": "2022-03-22T09:48:43.426Z"
   },
   {
    "duration": 15,
    "start_time": "2022-03-22T09:48:43.485Z"
   },
   {
    "duration": 33,
    "start_time": "2022-03-22T09:48:43.501Z"
   },
   {
    "duration": 3,
    "start_time": "2022-03-22T09:48:43.535Z"
   },
   {
    "duration": 19,
    "start_time": "2022-03-22T09:48:43.539Z"
   },
   {
    "duration": 4,
    "start_time": "2022-03-22T09:48:43.560Z"
   },
   {
    "duration": 10,
    "start_time": "2022-03-22T09:48:43.566Z"
   },
   {
    "duration": 9,
    "start_time": "2022-03-22T09:48:43.578Z"
   },
   {
    "duration": 23,
    "start_time": "2022-03-22T09:48:43.589Z"
   },
   {
    "duration": 21,
    "start_time": "2022-03-22T09:48:43.633Z"
   },
   {
    "duration": 9,
    "start_time": "2022-03-22T09:48:44.039Z"
   },
   {
    "duration": 8,
    "start_time": "2022-03-22T09:48:44.050Z"
   },
   {
    "duration": 16,
    "start_time": "2022-03-22T09:48:44.059Z"
   },
   {
    "duration": 19,
    "start_time": "2022-03-22T09:48:44.077Z"
   },
   {
    "duration": 13,
    "start_time": "2022-03-22T09:48:44.098Z"
   },
   {
    "duration": 23,
    "start_time": "2022-03-22T09:48:44.112Z"
   },
   {
    "duration": 223,
    "start_time": "2022-03-22T09:48:44.136Z"
   },
   {
    "duration": 45,
    "start_time": "2022-03-22T09:48:44.360Z"
   },
   {
    "duration": 32,
    "start_time": "2022-03-22T09:48:44.406Z"
   },
   {
    "duration": 4,
    "start_time": "2022-03-22T09:48:44.440Z"
   },
   {
    "duration": 384,
    "start_time": "2022-03-22T09:48:44.445Z"
   },
   {
    "duration": 15,
    "start_time": "2022-03-22T09:48:44.831Z"
   },
   {
    "duration": 11,
    "start_time": "2022-03-22T09:48:44.848Z"
   },
   {
    "duration": 32,
    "start_time": "2022-03-22T09:48:44.860Z"
   },
   {
    "duration": 7,
    "start_time": "2022-03-22T09:48:44.893Z"
   },
   {
    "duration": 32,
    "start_time": "2022-03-22T09:48:44.901Z"
   },
   {
    "duration": 375,
    "start_time": "2022-03-22T09:48:44.934Z"
   },
   {
    "duration": 7,
    "start_time": "2022-03-22T09:48:45.310Z"
   },
   {
    "duration": 432,
    "start_time": "2022-03-22T09:48:45.318Z"
   },
   {
    "duration": 155,
    "start_time": "2022-03-22T09:48:45.752Z"
   },
   {
    "duration": 231,
    "start_time": "2022-03-22T09:48:45.910Z"
   },
   {
    "duration": 27,
    "start_time": "2022-03-22T09:48:46.142Z"
   },
   {
    "duration": 28,
    "start_time": "2022-03-22T09:48:46.171Z"
   },
   {
    "duration": 48,
    "start_time": "2022-03-22T09:48:46.200Z"
   },
   {
    "duration": 186,
    "start_time": "2022-03-22T09:48:46.250Z"
   },
   {
    "duration": 131,
    "start_time": "2022-03-22T09:48:46.438Z"
   },
   {
    "duration": 118,
    "start_time": "2022-03-22T09:48:46.570Z"
   },
   {
    "duration": 126,
    "start_time": "2022-03-22T09:48:46.689Z"
   },
   {
    "duration": 128,
    "start_time": "2022-03-22T09:48:46.817Z"
   },
   {
    "duration": 128,
    "start_time": "2022-03-22T09:48:46.946Z"
   },
   {
    "duration": 131,
    "start_time": "2022-03-22T09:48:47.076Z"
   },
   {
    "duration": 134,
    "start_time": "2022-03-22T09:48:47.209Z"
   },
   {
    "duration": 125,
    "start_time": "2022-03-22T09:48:47.345Z"
   },
   {
    "duration": 127,
    "start_time": "2022-03-22T09:48:47.472Z"
   },
   {
    "duration": 369,
    "start_time": "2022-03-22T09:50:16.501Z"
   },
   {
    "duration": 199,
    "start_time": "2022-03-22T09:57:51.719Z"
   },
   {
    "duration": 111,
    "start_time": "2022-03-22T09:58:01.710Z"
   },
   {
    "duration": 10,
    "start_time": "2022-03-22T10:45:39.268Z"
   },
   {
    "duration": 10,
    "start_time": "2022-03-22T10:55:12.473Z"
   },
   {
    "duration": 1236,
    "start_time": "2022-03-22T11:14:52.480Z"
   },
   {
    "duration": 3,
    "start_time": "2022-03-22T11:14:53.718Z"
   },
   {
    "duration": 51,
    "start_time": "2022-03-22T11:14:53.723Z"
   },
   {
    "duration": 15,
    "start_time": "2022-03-22T11:14:53.776Z"
   },
   {
    "duration": 44,
    "start_time": "2022-03-22T11:14:53.793Z"
   },
   {
    "duration": 3,
    "start_time": "2022-03-22T11:14:53.838Z"
   },
   {
    "duration": 17,
    "start_time": "2022-03-22T11:14:53.843Z"
   },
   {
    "duration": 4,
    "start_time": "2022-03-22T11:14:53.861Z"
   },
   {
    "duration": 8,
    "start_time": "2022-03-22T11:14:53.867Z"
   },
   {
    "duration": 8,
    "start_time": "2022-03-22T11:14:53.878Z"
   },
   {
    "duration": 47,
    "start_time": "2022-03-22T11:14:53.888Z"
   },
   {
    "duration": 22,
    "start_time": "2022-03-22T11:14:53.936Z"
   },
   {
    "duration": 9,
    "start_time": "2022-03-22T11:14:53.959Z"
   },
   {
    "duration": 6,
    "start_time": "2022-03-22T11:14:53.969Z"
   },
   {
    "duration": 15,
    "start_time": "2022-03-22T11:14:53.977Z"
   },
   {
    "duration": 55,
    "start_time": "2022-03-22T11:14:53.993Z"
   },
   {
    "duration": 12,
    "start_time": "2022-03-22T11:14:54.050Z"
   },
   {
    "duration": 4,
    "start_time": "2022-03-22T11:14:54.064Z"
   },
   {
    "duration": 225,
    "start_time": "2022-03-22T11:14:54.070Z"
   },
   {
    "duration": 55,
    "start_time": "2022-03-22T11:14:54.296Z"
   },
   {
    "duration": 15,
    "start_time": "2022-03-22T11:14:54.353Z"
   },
   {
    "duration": 4,
    "start_time": "2022-03-22T11:14:54.369Z"
   },
   {
    "duration": 371,
    "start_time": "2022-03-22T11:14:54.374Z"
   },
   {
    "duration": 14,
    "start_time": "2022-03-22T11:14:54.747Z"
   },
   {
    "duration": 6,
    "start_time": "2022-03-22T11:14:54.763Z"
   },
   {
    "duration": 33,
    "start_time": "2022-03-22T11:14:54.771Z"
   },
   {
    "duration": 29,
    "start_time": "2022-03-22T11:14:54.806Z"
   },
   {
    "duration": 12,
    "start_time": "2022-03-22T11:14:54.839Z"
   },
   {
    "duration": 379,
    "start_time": "2022-03-22T11:14:54.853Z"
   },
   {
    "duration": 7,
    "start_time": "2022-03-22T11:14:55.234Z"
   },
   {
    "duration": 399,
    "start_time": "2022-03-22T11:14:55.242Z"
   },
   {
    "duration": 155,
    "start_time": "2022-03-22T11:14:55.642Z"
   },
   {
    "duration": 225,
    "start_time": "2022-03-22T11:14:55.798Z"
   },
   {
    "duration": 28,
    "start_time": "2022-03-22T11:14:56.032Z"
   },
   {
    "duration": 27,
    "start_time": "2022-03-22T11:14:56.061Z"
   },
   {
    "duration": 44,
    "start_time": "2022-03-22T11:14:56.090Z"
   },
   {
    "duration": 171,
    "start_time": "2022-03-22T11:14:56.136Z"
   },
   {
    "duration": 131,
    "start_time": "2022-03-22T11:14:56.309Z"
   },
   {
    "duration": 119,
    "start_time": "2022-03-22T11:14:56.441Z"
   },
   {
    "duration": 130,
    "start_time": "2022-03-22T11:14:56.561Z"
   },
   {
    "duration": 122,
    "start_time": "2022-03-22T11:14:56.692Z"
   },
   {
    "duration": 134,
    "start_time": "2022-03-22T11:14:56.815Z"
   },
   {
    "duration": 123,
    "start_time": "2022-03-22T11:14:56.951Z"
   },
   {
    "duration": 123,
    "start_time": "2022-03-22T11:14:57.076Z"
   },
   {
    "duration": 122,
    "start_time": "2022-03-22T11:14:57.201Z"
   },
   {
    "duration": 115,
    "start_time": "2022-03-22T11:14:57.332Z"
   },
   {
    "duration": 9,
    "start_time": "2022-03-22T11:14:57.449Z"
   },
   {
    "duration": 14,
    "start_time": "2022-03-22T11:14:57.459Z"
   },
   {
    "duration": 1452,
    "start_time": "2022-04-03T12:28:09.286Z"
   },
   {
    "duration": 3,
    "start_time": "2022-04-03T12:28:10.740Z"
   },
   {
    "duration": 55,
    "start_time": "2022-04-03T12:28:10.745Z"
   },
   {
    "duration": 16,
    "start_time": "2022-04-03T12:28:10.802Z"
   },
   {
    "duration": 28,
    "start_time": "2022-04-03T12:28:10.820Z"
   },
   {
    "duration": 3,
    "start_time": "2022-04-03T12:28:10.850Z"
   },
   {
    "duration": 35,
    "start_time": "2022-04-03T12:28:10.855Z"
   },
   {
    "duration": 6,
    "start_time": "2022-04-03T12:28:10.901Z"
   },
   {
    "duration": 8,
    "start_time": "2022-04-03T12:28:10.908Z"
   },
   {
    "duration": 9,
    "start_time": "2022-04-03T12:28:10.919Z"
   },
   {
    "duration": 22,
    "start_time": "2022-04-03T12:28:10.929Z"
   },
   {
    "duration": 55,
    "start_time": "2022-04-03T12:28:10.952Z"
   },
   {
    "duration": 8,
    "start_time": "2022-04-03T12:28:11.009Z"
   },
   {
    "duration": 9,
    "start_time": "2022-04-03T12:28:11.019Z"
   },
   {
    "duration": 18,
    "start_time": "2022-04-03T12:28:11.030Z"
   },
   {
    "duration": 20,
    "start_time": "2022-04-03T12:28:11.050Z"
   },
   {
    "duration": 39,
    "start_time": "2022-04-03T12:28:11.072Z"
   },
   {
    "duration": 5,
    "start_time": "2022-04-03T12:28:11.112Z"
   },
   {
    "duration": 241,
    "start_time": "2022-04-03T12:28:11.119Z"
   },
   {
    "duration": 58,
    "start_time": "2022-04-03T12:28:11.361Z"
   },
   {
    "duration": 16,
    "start_time": "2022-04-03T12:28:11.421Z"
   },
   {
    "duration": 3,
    "start_time": "2022-04-03T12:28:11.439Z"
   },
   {
    "duration": 422,
    "start_time": "2022-04-03T12:28:11.444Z"
   },
   {
    "duration": 14,
    "start_time": "2022-04-03T12:28:11.868Z"
   },
   {
    "duration": 7,
    "start_time": "2022-04-03T12:28:11.884Z"
   },
   {
    "duration": 30,
    "start_time": "2022-04-03T12:28:11.893Z"
   },
   {
    "duration": 6,
    "start_time": "2022-04-03T12:28:11.926Z"
   },
   {
    "duration": 12,
    "start_time": "2022-04-03T12:28:11.936Z"
   },
   {
    "duration": 468,
    "start_time": "2022-04-03T12:28:11.950Z"
   },
   {
    "duration": 6,
    "start_time": "2022-04-03T12:28:12.420Z"
   },
   {
    "duration": 532,
    "start_time": "2022-04-03T12:28:12.428Z"
   },
   {
    "duration": 158,
    "start_time": "2022-04-03T12:28:12.962Z"
   },
   {
    "duration": 227,
    "start_time": "2022-04-03T12:28:13.122Z"
   },
   {
    "duration": 30,
    "start_time": "2022-04-03T12:28:13.350Z"
   },
   {
    "duration": 41,
    "start_time": "2022-04-03T12:28:13.381Z"
   },
   {
    "duration": 19,
    "start_time": "2022-04-03T12:28:13.423Z"
   },
   {
    "duration": 198,
    "start_time": "2022-04-03T12:28:13.444Z"
   },
   {
    "duration": 131,
    "start_time": "2022-04-03T12:28:13.644Z"
   },
   {
    "duration": 136,
    "start_time": "2022-04-03T12:28:13.776Z"
   },
   {
    "duration": 127,
    "start_time": "2022-04-03T12:28:13.914Z"
   },
   {
    "duration": 129,
    "start_time": "2022-04-03T12:28:14.044Z"
   },
   {
    "duration": 138,
    "start_time": "2022-04-03T12:28:14.175Z"
   },
   {
    "duration": 135,
    "start_time": "2022-04-03T12:28:14.316Z"
   },
   {
    "duration": 128,
    "start_time": "2022-04-03T12:28:14.454Z"
   },
   {
    "duration": 135,
    "start_time": "2022-04-03T12:28:14.585Z"
   },
   {
    "duration": 128,
    "start_time": "2022-04-03T12:28:14.723Z"
   },
   {
    "duration": 11,
    "start_time": "2022-04-03T12:28:14.853Z"
   },
   {
    "duration": 11,
    "start_time": "2022-04-03T12:28:14.866Z"
   },
   {
    "duration": 7,
    "start_time": "2022-04-03T12:32:31.884Z"
   },
   {
    "duration": 8,
    "start_time": "2022-04-03T12:32:32.100Z"
   },
   {
    "duration": 1300,
    "start_time": "2022-04-03T12:32:45.853Z"
   },
   {
    "duration": 4,
    "start_time": "2022-04-03T12:32:47.155Z"
   },
   {
    "duration": 71,
    "start_time": "2022-04-03T12:32:47.160Z"
   },
   {
    "duration": 16,
    "start_time": "2022-04-03T12:32:47.233Z"
   },
   {
    "duration": 50,
    "start_time": "2022-04-03T12:32:47.252Z"
   },
   {
    "duration": 5,
    "start_time": "2022-04-03T12:32:47.305Z"
   },
   {
    "duration": 25,
    "start_time": "2022-04-03T12:32:47.313Z"
   },
   {
    "duration": 5,
    "start_time": "2022-04-03T12:32:47.340Z"
   },
   {
    "duration": 11,
    "start_time": "2022-04-03T12:32:47.346Z"
   },
   {
    "duration": 7,
    "start_time": "2022-04-03T12:32:47.360Z"
   },
   {
    "duration": 56,
    "start_time": "2022-04-03T12:32:47.369Z"
   },
   {
    "duration": 22,
    "start_time": "2022-04-03T12:32:47.426Z"
   },
   {
    "duration": 9,
    "start_time": "2022-04-03T12:32:47.450Z"
   },
   {
    "duration": 7,
    "start_time": "2022-04-03T12:32:47.460Z"
   },
   {
    "duration": 42,
    "start_time": "2022-04-03T12:32:47.469Z"
   },
   {
    "duration": 20,
    "start_time": "2022-04-03T12:32:47.513Z"
   },
   {
    "duration": 14,
    "start_time": "2022-04-03T12:32:47.535Z"
   },
   {
    "duration": 5,
    "start_time": "2022-04-03T12:32:47.551Z"
   },
   {
    "duration": 270,
    "start_time": "2022-04-03T12:32:47.558Z"
   },
   {
    "duration": 45,
    "start_time": "2022-04-03T12:32:47.830Z"
   },
   {
    "duration": 33,
    "start_time": "2022-04-03T12:32:47.877Z"
   },
   {
    "duration": 4,
    "start_time": "2022-04-03T12:32:47.917Z"
   },
   {
    "duration": 436,
    "start_time": "2022-04-03T12:32:47.922Z"
   },
   {
    "duration": 14,
    "start_time": "2022-04-03T12:32:48.359Z"
   },
   {
    "duration": 7,
    "start_time": "2022-04-03T12:32:48.375Z"
   },
   {
    "duration": 38,
    "start_time": "2022-04-03T12:32:48.384Z"
   },
   {
    "duration": 7,
    "start_time": "2022-04-03T12:32:48.424Z"
   },
   {
    "duration": 12,
    "start_time": "2022-04-03T12:32:48.435Z"
   },
   {
    "duration": 143,
    "start_time": "2022-04-03T12:32:48.449Z"
   },
   {
    "duration": 0,
    "start_time": "2022-04-03T12:32:48.593Z"
   },
   {
    "duration": 0,
    "start_time": "2022-04-03T12:32:48.595Z"
   },
   {
    "duration": 0,
    "start_time": "2022-04-03T12:32:48.596Z"
   },
   {
    "duration": 0,
    "start_time": "2022-04-03T12:32:48.601Z"
   },
   {
    "duration": 0,
    "start_time": "2022-04-03T12:32:48.603Z"
   },
   {
    "duration": 0,
    "start_time": "2022-04-03T12:32:48.605Z"
   },
   {
    "duration": 0,
    "start_time": "2022-04-03T12:32:48.606Z"
   },
   {
    "duration": 0,
    "start_time": "2022-04-03T12:32:48.607Z"
   },
   {
    "duration": 0,
    "start_time": "2022-04-03T12:32:48.609Z"
   },
   {
    "duration": 1,
    "start_time": "2022-04-03T12:32:48.610Z"
   },
   {
    "duration": 0,
    "start_time": "2022-04-03T12:32:48.612Z"
   },
   {
    "duration": 0,
    "start_time": "2022-04-03T12:32:48.614Z"
   },
   {
    "duration": 0,
    "start_time": "2022-04-03T12:32:48.615Z"
   },
   {
    "duration": 0,
    "start_time": "2022-04-03T12:32:48.617Z"
   },
   {
    "duration": 0,
    "start_time": "2022-04-03T12:32:48.618Z"
   },
   {
    "duration": 0,
    "start_time": "2022-04-03T12:32:48.620Z"
   },
   {
    "duration": 0,
    "start_time": "2022-04-03T12:32:48.621Z"
   },
   {
    "duration": 0,
    "start_time": "2022-04-03T12:32:48.622Z"
   },
   {
    "duration": 0,
    "start_time": "2022-04-03T12:32:48.623Z"
   },
   {
    "duration": 351,
    "start_time": "2022-04-03T12:35:06.087Z"
   },
   {
    "duration": 351,
    "start_time": "2022-04-03T12:36:25.094Z"
   },
   {
    "duration": 423,
    "start_time": "2022-04-03T12:38:08.886Z"
   },
   {
    "duration": 366,
    "start_time": "2022-04-03T12:38:23.456Z"
   },
   {
    "duration": 366,
    "start_time": "2022-04-03T12:38:36.753Z"
   },
   {
    "duration": 368,
    "start_time": "2022-04-03T12:38:46.976Z"
   },
   {
    "duration": 379,
    "start_time": "2022-04-03T12:39:32.825Z"
   },
   {
    "duration": 362,
    "start_time": "2022-04-03T12:39:43.158Z"
   },
   {
    "duration": 365,
    "start_time": "2022-04-03T12:39:54.003Z"
   },
   {
    "duration": 1308,
    "start_time": "2022-04-03T12:45:45.911Z"
   },
   {
    "duration": 4,
    "start_time": "2022-04-03T12:45:47.221Z"
   },
   {
    "duration": 58,
    "start_time": "2022-04-03T12:45:47.227Z"
   },
   {
    "duration": 27,
    "start_time": "2022-04-03T12:45:47.288Z"
   },
   {
    "duration": 30,
    "start_time": "2022-04-03T12:45:47.316Z"
   },
   {
    "duration": 4,
    "start_time": "2022-04-03T12:45:47.347Z"
   },
   {
    "duration": 19,
    "start_time": "2022-04-03T12:45:47.352Z"
   },
   {
    "duration": 30,
    "start_time": "2022-04-03T12:45:47.373Z"
   },
   {
    "duration": 9,
    "start_time": "2022-04-03T12:45:47.405Z"
   },
   {
    "duration": 11,
    "start_time": "2022-04-03T12:45:47.417Z"
   },
   {
    "duration": 24,
    "start_time": "2022-04-03T12:45:47.429Z"
   },
   {
    "duration": 22,
    "start_time": "2022-04-03T12:45:47.455Z"
   },
   {
    "duration": 9,
    "start_time": "2022-04-03T12:45:47.502Z"
   },
   {
    "duration": 8,
    "start_time": "2022-04-03T12:45:47.512Z"
   },
   {
    "duration": 19,
    "start_time": "2022-04-03T12:45:47.521Z"
   },
   {
    "duration": 22,
    "start_time": "2022-04-03T12:45:47.542Z"
   },
   {
    "duration": 39,
    "start_time": "2022-04-03T12:45:47.566Z"
   },
   {
    "duration": 6,
    "start_time": "2022-04-03T12:45:47.606Z"
   },
   {
    "duration": 395,
    "start_time": "2022-04-03T12:45:47.615Z"
   },
   {
    "duration": 47,
    "start_time": "2022-04-03T12:45:48.012Z"
   },
   {
    "duration": 17,
    "start_time": "2022-04-03T12:45:48.061Z"
   },
   {
    "duration": 21,
    "start_time": "2022-04-03T12:45:48.080Z"
   },
   {
    "duration": 411,
    "start_time": "2022-04-03T12:45:48.103Z"
   },
   {
    "duration": 15,
    "start_time": "2022-04-03T12:45:48.516Z"
   },
   {
    "duration": 9,
    "start_time": "2022-04-03T12:45:48.532Z"
   },
   {
    "duration": 32,
    "start_time": "2022-04-03T12:45:48.543Z"
   },
   {
    "duration": 7,
    "start_time": "2022-04-03T12:45:48.577Z"
   },
   {
    "duration": 13,
    "start_time": "2022-04-03T12:45:48.604Z"
   },
   {
    "duration": 390,
    "start_time": "2022-04-03T12:45:48.618Z"
   },
   {
    "duration": 3,
    "start_time": "2022-04-03T12:45:49.009Z"
   },
   {
    "duration": 408,
    "start_time": "2022-04-03T12:45:49.014Z"
   },
   {
    "duration": 163,
    "start_time": "2022-04-03T12:45:49.424Z"
   },
   {
    "duration": 242,
    "start_time": "2022-04-03T12:45:49.589Z"
   },
   {
    "duration": 28,
    "start_time": "2022-04-03T12:45:49.833Z"
   },
   {
    "duration": 55,
    "start_time": "2022-04-03T12:45:49.863Z"
   },
   {
    "duration": 20,
    "start_time": "2022-04-03T12:45:49.920Z"
   },
   {
    "duration": 201,
    "start_time": "2022-04-03T12:45:49.942Z"
   },
   {
    "duration": 133,
    "start_time": "2022-04-03T12:45:50.146Z"
   },
   {
    "duration": 138,
    "start_time": "2022-04-03T12:45:50.281Z"
   },
   {
    "duration": 138,
    "start_time": "2022-04-03T12:45:50.421Z"
   },
   {
    "duration": 124,
    "start_time": "2022-04-03T12:45:50.561Z"
   },
   {
    "duration": 141,
    "start_time": "2022-04-03T12:45:50.687Z"
   },
   {
    "duration": 137,
    "start_time": "2022-04-03T12:45:50.830Z"
   },
   {
    "duration": 135,
    "start_time": "2022-04-03T12:45:50.969Z"
   },
   {
    "duration": 127,
    "start_time": "2022-04-03T12:45:51.106Z"
   },
   {
    "duration": 128,
    "start_time": "2022-04-03T12:45:51.235Z"
   },
   {
    "duration": 10,
    "start_time": "2022-04-03T12:45:51.365Z"
   },
   {
    "duration": 33,
    "start_time": "2022-04-03T12:45:51.377Z"
   },
   {
    "duration": 127,
    "start_time": "2022-04-03T12:46:40.536Z"
   },
   {
    "duration": 1349,
    "start_time": "2022-04-03T12:46:54.019Z"
   },
   {
    "duration": 4,
    "start_time": "2022-04-03T12:46:55.371Z"
   },
   {
    "duration": 64,
    "start_time": "2022-04-03T12:46:55.377Z"
   },
   {
    "duration": 17,
    "start_time": "2022-04-03T12:46:55.443Z"
   },
   {
    "duration": 52,
    "start_time": "2022-04-03T12:46:55.462Z"
   },
   {
    "duration": 4,
    "start_time": "2022-04-03T12:46:55.516Z"
   },
   {
    "duration": 21,
    "start_time": "2022-04-03T12:46:55.523Z"
   },
   {
    "duration": 23,
    "start_time": "2022-04-03T12:46:55.546Z"
   },
   {
    "duration": 22,
    "start_time": "2022-04-03T12:46:55.571Z"
   },
   {
    "duration": 18,
    "start_time": "2022-04-03T12:46:55.596Z"
   },
   {
    "duration": 32,
    "start_time": "2022-04-03T12:46:55.617Z"
   },
   {
    "duration": 25,
    "start_time": "2022-04-03T12:46:55.651Z"
   },
   {
    "duration": 11,
    "start_time": "2022-04-03T12:46:55.678Z"
   },
   {
    "duration": 6,
    "start_time": "2022-04-03T12:46:55.701Z"
   },
   {
    "duration": 24,
    "start_time": "2022-04-03T12:46:55.709Z"
   },
   {
    "duration": 20,
    "start_time": "2022-04-03T12:46:55.735Z"
   },
   {
    "duration": 26,
    "start_time": "2022-04-03T12:46:55.758Z"
   },
   {
    "duration": 18,
    "start_time": "2022-04-03T12:46:55.786Z"
   },
   {
    "duration": 292,
    "start_time": "2022-04-03T12:46:55.806Z"
   },
   {
    "duration": 49,
    "start_time": "2022-04-03T12:46:56.100Z"
   },
   {
    "duration": 17,
    "start_time": "2022-04-03T12:46:56.150Z"
   },
   {
    "duration": 3,
    "start_time": "2022-04-03T12:46:56.169Z"
   },
   {
    "duration": 420,
    "start_time": "2022-04-03T12:46:56.202Z"
   },
   {
    "duration": 14,
    "start_time": "2022-04-03T12:46:56.624Z"
   },
   {
    "duration": 31,
    "start_time": "2022-04-03T12:46:56.640Z"
   },
   {
    "duration": 46,
    "start_time": "2022-04-03T12:46:56.673Z"
   },
   {
    "duration": 7,
    "start_time": "2022-04-03T12:46:56.721Z"
   },
   {
    "duration": 19,
    "start_time": "2022-04-03T12:46:56.732Z"
   },
   {
    "duration": 454,
    "start_time": "2022-04-03T12:46:56.753Z"
   },
   {
    "duration": 3,
    "start_time": "2022-04-03T12:46:57.209Z"
   },
   {
    "duration": 393,
    "start_time": "2022-04-03T12:46:57.214Z"
   },
   {
    "duration": 163,
    "start_time": "2022-04-03T12:46:57.609Z"
   },
   {
    "duration": 224,
    "start_time": "2022-04-03T12:46:57.774Z"
   },
   {
    "duration": 28,
    "start_time": "2022-04-03T12:46:58.000Z"
   },
   {
    "duration": 28,
    "start_time": "2022-04-03T12:46:58.030Z"
   },
   {
    "duration": 53,
    "start_time": "2022-04-03T12:46:58.060Z"
   },
   {
    "duration": 189,
    "start_time": "2022-04-03T12:46:58.115Z"
   },
   {
    "duration": 139,
    "start_time": "2022-04-03T12:46:58.306Z"
   },
   {
    "duration": 135,
    "start_time": "2022-04-03T12:46:58.447Z"
   },
   {
    "duration": 136,
    "start_time": "2022-04-03T12:46:58.584Z"
   },
   {
    "duration": 135,
    "start_time": "2022-04-03T12:46:58.722Z"
   },
   {
    "duration": 125,
    "start_time": "2022-04-03T12:46:58.859Z"
   },
   {
    "duration": 138,
    "start_time": "2022-04-03T12:46:58.986Z"
   },
   {
    "duration": 126,
    "start_time": "2022-04-03T12:46:59.126Z"
   },
   {
    "duration": 125,
    "start_time": "2022-04-03T12:46:59.254Z"
   },
   {
    "duration": 132,
    "start_time": "2022-04-03T12:46:59.381Z"
   },
   {
    "duration": 11,
    "start_time": "2022-04-03T12:46:59.515Z"
   },
   {
    "duration": 15,
    "start_time": "2022-04-03T12:46:59.527Z"
   },
   {
    "duration": 121,
    "start_time": "2022-04-03T12:47:23.932Z"
   },
   {
    "duration": 1262,
    "start_time": "2022-04-03T12:47:31.756Z"
   },
   {
    "duration": 3,
    "start_time": "2022-04-03T12:47:33.021Z"
   },
   {
    "duration": 57,
    "start_time": "2022-04-03T12:47:33.025Z"
   },
   {
    "duration": 20,
    "start_time": "2022-04-03T12:47:33.085Z"
   },
   {
    "duration": 29,
    "start_time": "2022-04-03T12:47:33.107Z"
   },
   {
    "duration": 4,
    "start_time": "2022-04-03T12:47:33.137Z"
   },
   {
    "duration": 20,
    "start_time": "2022-04-03T12:47:33.142Z"
   },
   {
    "duration": 5,
    "start_time": "2022-04-03T12:47:33.164Z"
   },
   {
    "duration": 7,
    "start_time": "2022-04-03T12:47:33.200Z"
   },
   {
    "duration": 13,
    "start_time": "2022-04-03T12:47:33.210Z"
   },
   {
    "duration": 24,
    "start_time": "2022-04-03T12:47:33.225Z"
   },
   {
    "duration": 25,
    "start_time": "2022-04-03T12:47:33.251Z"
   },
   {
    "duration": 10,
    "start_time": "2022-04-03T12:47:33.302Z"
   },
   {
    "duration": 10,
    "start_time": "2022-04-03T12:47:33.314Z"
   },
   {
    "duration": 21,
    "start_time": "2022-04-03T12:47:33.327Z"
   },
   {
    "duration": 26,
    "start_time": "2022-04-03T12:47:33.349Z"
   },
   {
    "duration": 31,
    "start_time": "2022-04-03T12:47:33.377Z"
   },
   {
    "duration": 4,
    "start_time": "2022-04-03T12:47:33.410Z"
   },
   {
    "duration": 242,
    "start_time": "2022-04-03T12:47:33.416Z"
   },
   {
    "duration": 63,
    "start_time": "2022-04-03T12:47:33.659Z"
   },
   {
    "duration": 17,
    "start_time": "2022-04-03T12:47:33.723Z"
   },
   {
    "duration": 4,
    "start_time": "2022-04-03T12:47:33.741Z"
   },
   {
    "duration": 407,
    "start_time": "2022-04-03T12:47:33.747Z"
   },
   {
    "duration": 16,
    "start_time": "2022-04-03T12:47:34.155Z"
   },
   {
    "duration": 7,
    "start_time": "2022-04-03T12:47:34.173Z"
   },
   {
    "duration": 35,
    "start_time": "2022-04-03T12:47:34.182Z"
   },
   {
    "duration": 7,
    "start_time": "2022-04-03T12:47:34.218Z"
   },
   {
    "duration": 17,
    "start_time": "2022-04-03T12:47:34.229Z"
   },
   {
    "duration": 355,
    "start_time": "2022-04-03T12:47:34.248Z"
   },
   {
    "duration": 2,
    "start_time": "2022-04-03T12:47:34.606Z"
   },
   {
    "duration": 457,
    "start_time": "2022-04-03T12:47:34.610Z"
   },
   {
    "duration": 163,
    "start_time": "2022-04-03T12:47:35.069Z"
   },
   {
    "duration": 233,
    "start_time": "2022-04-03T12:47:35.234Z"
   },
   {
    "duration": 41,
    "start_time": "2022-04-03T12:47:35.469Z"
   },
   {
    "duration": 29,
    "start_time": "2022-04-03T12:47:35.512Z"
   },
   {
    "duration": 20,
    "start_time": "2022-04-03T12:47:35.543Z"
   },
   {
    "duration": 206,
    "start_time": "2022-04-03T12:47:35.565Z"
   },
   {
    "duration": 127,
    "start_time": "2022-04-03T12:47:35.773Z"
   },
   {
    "duration": 134,
    "start_time": "2022-04-03T12:47:35.902Z"
   },
   {
    "duration": 129,
    "start_time": "2022-04-03T12:47:36.037Z"
   },
   {
    "duration": 125,
    "start_time": "2022-04-03T12:47:36.168Z"
   },
   {
    "duration": 140,
    "start_time": "2022-04-03T12:47:36.302Z"
   },
   {
    "duration": 133,
    "start_time": "2022-04-03T12:47:36.444Z"
   },
   {
    "duration": 133,
    "start_time": "2022-04-03T12:47:36.579Z"
   },
   {
    "duration": 126,
    "start_time": "2022-04-03T12:47:36.714Z"
   },
   {
    "duration": 129,
    "start_time": "2022-04-03T12:47:36.842Z"
   },
   {
    "duration": 9,
    "start_time": "2022-04-03T12:47:36.973Z"
   },
   {
    "duration": 25,
    "start_time": "2022-04-03T12:47:36.984Z"
   },
   {
    "duration": 120,
    "start_time": "2022-04-03T12:48:18.756Z"
   },
   {
    "duration": 1181,
    "start_time": "2022-04-03T12:48:25.528Z"
   },
   {
    "duration": 4,
    "start_time": "2022-04-03T12:48:26.711Z"
   },
   {
    "duration": 58,
    "start_time": "2022-04-03T12:48:26.716Z"
   },
   {
    "duration": 27,
    "start_time": "2022-04-03T12:48:26.777Z"
   },
   {
    "duration": 29,
    "start_time": "2022-04-03T12:48:26.806Z"
   },
   {
    "duration": 4,
    "start_time": "2022-04-03T12:48:26.837Z"
   },
   {
    "duration": 17,
    "start_time": "2022-04-03T12:48:26.843Z"
   },
   {
    "duration": 5,
    "start_time": "2022-04-03T12:48:26.862Z"
   },
   {
    "duration": 35,
    "start_time": "2022-04-03T12:48:26.868Z"
   },
   {
    "duration": 10,
    "start_time": "2022-04-03T12:48:26.906Z"
   },
   {
    "duration": 23,
    "start_time": "2022-04-03T12:48:26.918Z"
   },
   {
    "duration": 23,
    "start_time": "2022-04-03T12:48:26.943Z"
   },
   {
    "duration": 34,
    "start_time": "2022-04-03T12:48:26.967Z"
   },
   {
    "duration": 5,
    "start_time": "2022-04-03T12:48:27.003Z"
   },
   {
    "duration": 17,
    "start_time": "2022-04-03T12:48:27.009Z"
   },
   {
    "duration": 20,
    "start_time": "2022-04-03T12:48:27.028Z"
   },
   {
    "duration": 14,
    "start_time": "2022-04-03T12:48:27.049Z"
   },
   {
    "duration": 38,
    "start_time": "2022-04-03T12:48:27.065Z"
   },
   {
    "duration": 228,
    "start_time": "2022-04-03T12:48:27.105Z"
   },
   {
    "duration": 45,
    "start_time": "2022-04-03T12:48:27.335Z"
   },
   {
    "duration": 33,
    "start_time": "2022-04-03T12:48:27.382Z"
   },
   {
    "duration": 10,
    "start_time": "2022-04-03T12:48:27.417Z"
   },
   {
    "duration": 405,
    "start_time": "2022-04-03T12:48:27.429Z"
   },
   {
    "duration": 15,
    "start_time": "2022-04-03T12:48:27.836Z"
   },
   {
    "duration": 25,
    "start_time": "2022-04-03T12:48:27.853Z"
   },
   {
    "duration": 41,
    "start_time": "2022-04-03T12:48:27.880Z"
   },
   {
    "duration": 7,
    "start_time": "2022-04-03T12:48:27.923Z"
   },
   {
    "duration": 27,
    "start_time": "2022-04-03T12:48:27.934Z"
   },
   {
    "duration": 346,
    "start_time": "2022-04-03T12:48:27.963Z"
   },
   {
    "duration": 3,
    "start_time": "2022-04-03T12:48:28.311Z"
   },
   {
    "duration": 387,
    "start_time": "2022-04-03T12:48:28.315Z"
   },
   {
    "duration": 159,
    "start_time": "2022-04-03T12:48:28.704Z"
   },
   {
    "duration": 223,
    "start_time": "2022-04-03T12:48:28.865Z"
   },
   {
    "duration": 38,
    "start_time": "2022-04-03T12:48:29.090Z"
   },
   {
    "duration": 28,
    "start_time": "2022-04-03T12:48:29.130Z"
   },
   {
    "duration": 48,
    "start_time": "2022-04-03T12:48:29.159Z"
   },
   {
    "duration": 181,
    "start_time": "2022-04-03T12:48:29.209Z"
   },
   {
    "duration": 135,
    "start_time": "2022-04-03T12:48:29.391Z"
   },
   {
    "duration": 135,
    "start_time": "2022-04-03T12:48:29.527Z"
   },
   {
    "duration": 141,
    "start_time": "2022-04-03T12:48:29.664Z"
   },
   {
    "duration": 139,
    "start_time": "2022-04-03T12:48:29.807Z"
   },
   {
    "duration": 136,
    "start_time": "2022-04-03T12:48:29.948Z"
   },
   {
    "duration": 142,
    "start_time": "2022-04-03T12:48:30.086Z"
   },
   {
    "duration": 124,
    "start_time": "2022-04-03T12:48:30.230Z"
   },
   {
    "duration": 124,
    "start_time": "2022-04-03T12:48:30.356Z"
   },
   {
    "duration": 134,
    "start_time": "2022-04-03T12:48:30.482Z"
   },
   {
    "duration": 11,
    "start_time": "2022-04-03T12:48:30.618Z"
   },
   {
    "duration": 31,
    "start_time": "2022-04-03T12:48:30.631Z"
   },
   {
    "duration": 1197,
    "start_time": "2022-04-03T12:49:16.320Z"
   },
   {
    "duration": 4,
    "start_time": "2022-04-03T12:49:17.519Z"
   },
   {
    "duration": 57,
    "start_time": "2022-04-03T12:49:17.525Z"
   },
   {
    "duration": 20,
    "start_time": "2022-04-03T12:49:17.584Z"
   },
   {
    "duration": 26,
    "start_time": "2022-04-03T12:49:17.606Z"
   },
   {
    "duration": 3,
    "start_time": "2022-04-03T12:49:17.634Z"
   },
   {
    "duration": 20,
    "start_time": "2022-04-03T12:49:17.639Z"
   },
   {
    "duration": 4,
    "start_time": "2022-04-03T12:49:17.661Z"
   },
   {
    "duration": 36,
    "start_time": "2022-04-03T12:49:17.666Z"
   },
   {
    "duration": 7,
    "start_time": "2022-04-03T12:49:17.705Z"
   },
   {
    "duration": 21,
    "start_time": "2022-04-03T12:49:17.715Z"
   },
   {
    "duration": 24,
    "start_time": "2022-04-03T12:49:17.738Z"
   },
   {
    "duration": 37,
    "start_time": "2022-04-03T12:49:17.764Z"
   },
   {
    "duration": 9,
    "start_time": "2022-04-03T12:49:17.803Z"
   },
   {
    "duration": 18,
    "start_time": "2022-04-03T12:49:17.813Z"
   },
   {
    "duration": 22,
    "start_time": "2022-04-03T12:49:17.832Z"
   },
   {
    "duration": 14,
    "start_time": "2022-04-03T12:49:17.856Z"
   },
   {
    "duration": 29,
    "start_time": "2022-04-03T12:49:17.872Z"
   },
   {
    "duration": 223,
    "start_time": "2022-04-03T12:49:17.903Z"
   },
   {
    "duration": 47,
    "start_time": "2022-04-03T12:49:18.127Z"
   },
   {
    "duration": 34,
    "start_time": "2022-04-03T12:49:18.176Z"
   },
   {
    "duration": 3,
    "start_time": "2022-04-03T12:49:18.212Z"
   },
   {
    "duration": 505,
    "start_time": "2022-04-03T12:49:18.217Z"
   },
   {
    "duration": 16,
    "start_time": "2022-04-03T12:49:18.724Z"
   },
   {
    "duration": 13,
    "start_time": "2022-04-03T12:49:18.742Z"
   },
   {
    "duration": 30,
    "start_time": "2022-04-03T12:49:18.757Z"
   },
   {
    "duration": 14,
    "start_time": "2022-04-03T12:49:18.789Z"
   },
   {
    "duration": 13,
    "start_time": "2022-04-03T12:49:18.808Z"
   },
   {
    "duration": 348,
    "start_time": "2022-04-03T12:49:18.823Z"
   },
   {
    "duration": 2,
    "start_time": "2022-04-03T12:49:19.173Z"
   },
   {
    "duration": 426,
    "start_time": "2022-04-03T12:49:19.177Z"
   },
   {
    "duration": 160,
    "start_time": "2022-04-03T12:49:19.604Z"
   },
   {
    "duration": 228,
    "start_time": "2022-04-03T12:49:19.766Z"
   },
   {
    "duration": 31,
    "start_time": "2022-04-03T12:49:19.996Z"
   },
   {
    "duration": 42,
    "start_time": "2022-04-03T12:49:20.029Z"
   },
   {
    "duration": 40,
    "start_time": "2022-04-03T12:49:20.074Z"
   },
   {
    "duration": 198,
    "start_time": "2022-04-03T12:49:20.116Z"
   },
   {
    "duration": 131,
    "start_time": "2022-04-03T12:49:20.316Z"
   },
   {
    "duration": 130,
    "start_time": "2022-04-03T12:49:20.450Z"
   },
   {
    "duration": 137,
    "start_time": "2022-04-03T12:49:20.583Z"
   },
   {
    "duration": 125,
    "start_time": "2022-04-03T12:49:20.722Z"
   },
   {
    "duration": 133,
    "start_time": "2022-04-03T12:49:20.849Z"
   },
   {
    "duration": 136,
    "start_time": "2022-04-03T12:49:20.984Z"
   },
   {
    "duration": 121,
    "start_time": "2022-04-03T12:49:21.121Z"
   },
   {
    "duration": 127,
    "start_time": "2022-04-03T12:49:21.243Z"
   },
   {
    "duration": 131,
    "start_time": "2022-04-03T12:49:21.372Z"
   },
   {
    "duration": 10,
    "start_time": "2022-04-03T12:49:21.505Z"
   },
   {
    "duration": 17,
    "start_time": "2022-04-03T12:49:21.517Z"
   },
   {
    "duration": 1279,
    "start_time": "2022-04-03T14:37:40.661Z"
   },
   {
    "duration": 4,
    "start_time": "2022-04-03T14:37:41.942Z"
   },
   {
    "duration": 73,
    "start_time": "2022-04-03T14:37:41.947Z"
   },
   {
    "duration": 17,
    "start_time": "2022-04-03T14:37:42.022Z"
   },
   {
    "duration": 29,
    "start_time": "2022-04-03T14:37:42.041Z"
   },
   {
    "duration": 4,
    "start_time": "2022-04-03T14:37:42.071Z"
   },
   {
    "duration": 40,
    "start_time": "2022-04-03T14:37:42.077Z"
   },
   {
    "duration": 17,
    "start_time": "2022-04-03T14:37:42.119Z"
   },
   {
    "duration": 26,
    "start_time": "2022-04-03T14:37:42.138Z"
   },
   {
    "duration": 28,
    "start_time": "2022-04-03T14:37:42.167Z"
   },
   {
    "duration": 48,
    "start_time": "2022-04-03T14:37:42.197Z"
   },
   {
    "duration": 26,
    "start_time": "2022-04-03T14:37:42.247Z"
   },
   {
    "duration": 11,
    "start_time": "2022-04-03T14:37:42.275Z"
   },
   {
    "duration": 20,
    "start_time": "2022-04-03T14:37:42.288Z"
   },
   {
    "duration": 31,
    "start_time": "2022-04-03T14:37:42.311Z"
   },
   {
    "duration": 29,
    "start_time": "2022-04-03T14:37:42.344Z"
   },
   {
    "duration": 15,
    "start_time": "2022-04-03T14:37:42.376Z"
   },
   {
    "duration": 15,
    "start_time": "2022-04-03T14:37:42.393Z"
   },
   {
    "duration": 286,
    "start_time": "2022-04-03T14:37:42.415Z"
   },
   {
    "duration": 55,
    "start_time": "2022-04-03T14:37:42.703Z"
   },
   {
    "duration": 18,
    "start_time": "2022-04-03T14:37:42.760Z"
   },
   {
    "duration": 4,
    "start_time": "2022-04-03T14:37:42.803Z"
   },
   {
    "duration": 453,
    "start_time": "2022-04-03T14:37:42.809Z"
   },
   {
    "duration": 16,
    "start_time": "2022-04-03T14:37:43.264Z"
   },
   {
    "duration": 16,
    "start_time": "2022-04-03T14:37:43.282Z"
   },
   {
    "duration": 52,
    "start_time": "2022-04-03T14:37:43.302Z"
   },
   {
    "duration": 8,
    "start_time": "2022-04-03T14:37:43.356Z"
   },
   {
    "duration": 26,
    "start_time": "2022-04-03T14:37:43.369Z"
   },
   {
    "duration": 396,
    "start_time": "2022-04-03T14:37:43.397Z"
   },
   {
    "duration": 7,
    "start_time": "2022-04-03T14:37:43.795Z"
   },
   {
    "duration": 453,
    "start_time": "2022-04-03T14:37:43.804Z"
   },
   {
    "duration": 169,
    "start_time": "2022-04-03T14:37:44.259Z"
   },
   {
    "duration": 239,
    "start_time": "2022-04-03T14:37:44.429Z"
   },
   {
    "duration": 53,
    "start_time": "2022-04-03T14:37:44.670Z"
   },
   {
    "duration": 30,
    "start_time": "2022-04-03T14:37:44.725Z"
   },
   {
    "duration": 22,
    "start_time": "2022-04-03T14:37:44.758Z"
   },
   {
    "duration": 184,
    "start_time": "2022-04-03T14:37:44.808Z"
   },
   {
    "duration": 146,
    "start_time": "2022-04-03T14:37:44.994Z"
   },
   {
    "duration": 134,
    "start_time": "2022-04-03T14:37:45.142Z"
   },
   {
    "duration": 148,
    "start_time": "2022-04-03T14:37:45.278Z"
   },
   {
    "duration": 150,
    "start_time": "2022-04-03T14:37:45.428Z"
   },
   {
    "duration": 145,
    "start_time": "2022-04-03T14:37:45.580Z"
   },
   {
    "duration": 143,
    "start_time": "2022-04-03T14:37:45.727Z"
   },
   {
    "duration": 145,
    "start_time": "2022-04-03T14:37:45.871Z"
   },
   {
    "duration": 150,
    "start_time": "2022-04-03T14:37:46.018Z"
   },
   {
    "duration": 135,
    "start_time": "2022-04-03T14:37:46.171Z"
   },
   {
    "duration": 14,
    "start_time": "2022-04-03T14:37:46.309Z"
   },
   {
    "duration": 19,
    "start_time": "2022-04-03T14:37:46.325Z"
   },
   {
    "duration": 388,
    "start_time": "2022-04-03T14:39:21.414Z"
   },
   {
    "duration": 1489,
    "start_time": "2022-04-03T14:39:43.087Z"
   },
   {
    "duration": 4,
    "start_time": "2022-04-03T14:39:44.579Z"
   },
   {
    "duration": 72,
    "start_time": "2022-04-03T14:39:44.585Z"
   },
   {
    "duration": 18,
    "start_time": "2022-04-03T14:39:44.659Z"
   },
   {
    "duration": 50,
    "start_time": "2022-04-03T14:39:44.679Z"
   },
   {
    "duration": 4,
    "start_time": "2022-04-03T14:39:44.731Z"
   },
   {
    "duration": 31,
    "start_time": "2022-04-03T14:39:44.737Z"
   },
   {
    "duration": 5,
    "start_time": "2022-04-03T14:39:44.770Z"
   },
   {
    "duration": 11,
    "start_time": "2022-04-03T14:39:44.777Z"
   },
   {
    "duration": 11,
    "start_time": "2022-04-03T14:39:44.809Z"
   },
   {
    "duration": 27,
    "start_time": "2022-04-03T14:39:44.821Z"
   },
   {
    "duration": 26,
    "start_time": "2022-04-03T14:39:44.850Z"
   },
   {
    "duration": 35,
    "start_time": "2022-04-03T14:39:44.878Z"
   },
   {
    "duration": 16,
    "start_time": "2022-04-03T14:39:44.915Z"
   },
   {
    "duration": 17,
    "start_time": "2022-04-03T14:39:44.934Z"
   },
   {
    "duration": 22,
    "start_time": "2022-04-03T14:39:44.953Z"
   },
   {
    "duration": 39,
    "start_time": "2022-04-03T14:39:44.978Z"
   },
   {
    "duration": 21,
    "start_time": "2022-04-03T14:39:45.022Z"
   },
   {
    "duration": 244,
    "start_time": "2022-04-03T14:39:45.045Z"
   },
   {
    "duration": 59,
    "start_time": "2022-04-03T14:39:45.291Z"
   },
   {
    "duration": 22,
    "start_time": "2022-04-03T14:39:45.353Z"
   },
   {
    "duration": 25,
    "start_time": "2022-04-03T14:39:45.377Z"
   },
   {
    "duration": 623,
    "start_time": "2022-04-03T14:39:45.407Z"
   },
   {
    "duration": 17,
    "start_time": "2022-04-03T14:39:46.032Z"
   },
   {
    "duration": 9,
    "start_time": "2022-04-03T14:39:46.050Z"
   },
   {
    "duration": 31,
    "start_time": "2022-04-03T14:39:46.061Z"
   },
   {
    "duration": 9,
    "start_time": "2022-04-03T14:39:46.104Z"
   },
   {
    "duration": 21,
    "start_time": "2022-04-03T14:39:46.121Z"
   },
   {
    "duration": 383,
    "start_time": "2022-04-03T14:39:46.144Z"
   },
   {
    "duration": 3,
    "start_time": "2022-04-03T14:39:46.530Z"
   },
   {
    "duration": 503,
    "start_time": "2022-04-03T14:39:46.535Z"
   },
   {
    "duration": 172,
    "start_time": "2022-04-03T14:39:47.039Z"
   },
   {
    "duration": 323,
    "start_time": "2022-04-03T14:39:47.214Z"
   },
   {
    "duration": 29,
    "start_time": "2022-04-03T14:39:47.539Z"
   },
   {
    "duration": 61,
    "start_time": "2022-04-03T14:39:47.571Z"
   },
   {
    "duration": 21,
    "start_time": "2022-04-03T14:39:47.634Z"
   },
   {
    "duration": 206,
    "start_time": "2022-04-03T14:39:47.658Z"
   },
   {
    "duration": 152,
    "start_time": "2022-04-03T14:39:47.866Z"
   },
   {
    "duration": 143,
    "start_time": "2022-04-03T14:39:48.020Z"
   },
   {
    "duration": 141,
    "start_time": "2022-04-03T14:39:48.165Z"
   },
   {
    "duration": 138,
    "start_time": "2022-04-03T14:39:48.308Z"
   },
   {
    "duration": 142,
    "start_time": "2022-04-03T14:39:48.448Z"
   },
   {
    "duration": 141,
    "start_time": "2022-04-03T14:39:48.592Z"
   },
   {
    "duration": 140,
    "start_time": "2022-04-03T14:39:48.736Z"
   },
   {
    "duration": 140,
    "start_time": "2022-04-03T14:39:48.878Z"
   },
   {
    "duration": 136,
    "start_time": "2022-04-03T14:39:49.020Z"
   },
   {
    "duration": 11,
    "start_time": "2022-04-03T14:39:49.157Z"
   },
   {
    "duration": 13,
    "start_time": "2022-04-03T14:39:49.170Z"
   },
   {
    "duration": 38,
    "start_time": "2022-04-03T15:34:42.837Z"
   },
   {
    "duration": 172,
    "start_time": "2022-04-03T15:35:33.655Z"
   },
   {
    "duration": 249,
    "start_time": "2022-04-03T15:35:53.559Z"
   },
   {
    "duration": 33,
    "start_time": "2022-04-03T15:39:17.311Z"
   },
   {
    "duration": 166,
    "start_time": "2022-04-03T15:57:50.537Z"
   },
   {
    "duration": 174,
    "start_time": "2022-04-03T15:58:25.666Z"
   },
   {
    "duration": 167,
    "start_time": "2022-04-03T15:59:18.467Z"
   },
   {
    "duration": 34,
    "start_time": "2022-04-03T16:06:24.928Z"
   },
   {
    "duration": 1344,
    "start_time": "2022-04-03T18:18:02.890Z"
   },
   {
    "duration": 3,
    "start_time": "2022-04-03T18:18:04.237Z"
   },
   {
    "duration": 71,
    "start_time": "2022-04-03T18:18:04.242Z"
   },
   {
    "duration": 17,
    "start_time": "2022-04-03T18:18:04.316Z"
   },
   {
    "duration": 31,
    "start_time": "2022-04-03T18:18:04.335Z"
   },
   {
    "duration": 4,
    "start_time": "2022-04-03T18:18:04.368Z"
   },
   {
    "duration": 15,
    "start_time": "2022-04-03T18:18:04.402Z"
   },
   {
    "duration": 11,
    "start_time": "2022-04-03T18:18:04.420Z"
   },
   {
    "duration": 25,
    "start_time": "2022-04-03T18:18:04.433Z"
   },
   {
    "duration": 18,
    "start_time": "2022-04-03T18:18:04.461Z"
   },
   {
    "duration": 38,
    "start_time": "2022-04-03T18:18:04.481Z"
   },
   {
    "duration": 41,
    "start_time": "2022-04-03T18:18:04.521Z"
   },
   {
    "duration": 10,
    "start_time": "2022-04-03T18:18:04.563Z"
   },
   {
    "duration": 14,
    "start_time": "2022-04-03T18:18:04.575Z"
   },
   {
    "duration": 36,
    "start_time": "2022-04-03T18:18:04.591Z"
   },
   {
    "duration": 28,
    "start_time": "2022-04-03T18:18:04.629Z"
   },
   {
    "duration": 15,
    "start_time": "2022-04-03T18:18:04.659Z"
   },
   {
    "duration": 8,
    "start_time": "2022-04-03T18:18:04.677Z"
   },
   {
    "duration": 249,
    "start_time": "2022-04-03T18:18:04.687Z"
   },
   {
    "duration": 63,
    "start_time": "2022-04-03T18:18:04.938Z"
   },
   {
    "duration": 17,
    "start_time": "2022-04-03T18:18:05.003Z"
   },
   {
    "duration": 9,
    "start_time": "2022-04-03T18:18:05.022Z"
   },
   {
    "duration": 410,
    "start_time": "2022-04-03T18:18:05.033Z"
   },
   {
    "duration": 15,
    "start_time": "2022-04-03T18:18:05.444Z"
   },
   {
    "duration": 27,
    "start_time": "2022-04-03T18:18:05.461Z"
   },
   {
    "duration": 49,
    "start_time": "2022-04-03T18:18:05.490Z"
   },
   {
    "duration": 7,
    "start_time": "2022-04-03T18:18:05.541Z"
   },
   {
    "duration": 26,
    "start_time": "2022-04-03T18:18:05.552Z"
   },
   {
    "duration": 357,
    "start_time": "2022-04-03T18:18:05.580Z"
   },
   {
    "duration": 3,
    "start_time": "2022-04-03T18:18:05.939Z"
   },
   {
    "duration": 453,
    "start_time": "2022-04-03T18:18:05.944Z"
   },
   {
    "duration": 170,
    "start_time": "2022-04-03T18:18:06.402Z"
   },
   {
    "duration": 248,
    "start_time": "2022-04-03T18:18:06.574Z"
   },
   {
    "duration": 30,
    "start_time": "2022-04-03T18:18:06.824Z"
   },
   {
    "duration": 62,
    "start_time": "2022-04-03T18:18:06.856Z"
   },
   {
    "duration": 30,
    "start_time": "2022-04-03T18:18:06.920Z"
   },
   {
    "duration": 208,
    "start_time": "2022-04-03T18:18:06.952Z"
   },
   {
    "duration": 188,
    "start_time": "2022-04-03T18:18:07.162Z"
   },
   {
    "duration": 139,
    "start_time": "2022-04-03T18:18:07.352Z"
   },
   {
    "duration": 153,
    "start_time": "2022-04-03T18:18:07.492Z"
   },
   {
    "duration": 142,
    "start_time": "2022-04-03T18:18:07.647Z"
   },
   {
    "duration": 146,
    "start_time": "2022-04-03T18:18:07.800Z"
   },
   {
    "duration": 137,
    "start_time": "2022-04-03T18:18:07.948Z"
   },
   {
    "duration": 143,
    "start_time": "2022-04-03T18:18:08.087Z"
   },
   {
    "duration": 140,
    "start_time": "2022-04-03T18:18:08.232Z"
   },
   {
    "duration": 134,
    "start_time": "2022-04-03T18:18:08.374Z"
   },
   {
    "duration": 131,
    "start_time": "2022-04-03T18:18:08.510Z"
   },
   {
    "duration": 11,
    "start_time": "2022-04-03T18:18:08.643Z"
   },
   {
    "duration": 13,
    "start_time": "2022-04-03T18:18:08.656Z"
   },
   {
    "duration": 1743,
    "start_time": "2022-04-04T04:30:09.539Z"
   },
   {
    "duration": 4,
    "start_time": "2022-04-04T04:30:11.286Z"
   },
   {
    "duration": 72,
    "start_time": "2022-04-04T04:30:11.292Z"
   },
   {
    "duration": 25,
    "start_time": "2022-04-04T04:30:11.366Z"
   },
   {
    "duration": 35,
    "start_time": "2022-04-04T04:30:11.393Z"
   },
   {
    "duration": 4,
    "start_time": "2022-04-04T04:30:11.430Z"
   },
   {
    "duration": 46,
    "start_time": "2022-04-04T04:30:11.437Z"
   },
   {
    "duration": 5,
    "start_time": "2022-04-04T04:30:11.486Z"
   },
   {
    "duration": 9,
    "start_time": "2022-04-04T04:30:11.493Z"
   },
   {
    "duration": 10,
    "start_time": "2022-04-04T04:30:11.507Z"
   },
   {
    "duration": 72,
    "start_time": "2022-04-04T04:30:11.520Z"
   },
   {
    "duration": 31,
    "start_time": "2022-04-04T04:30:11.595Z"
   },
   {
    "duration": 12,
    "start_time": "2022-04-04T04:30:11.628Z"
   },
   {
    "duration": 40,
    "start_time": "2022-04-04T04:30:11.643Z"
   },
   {
    "duration": 21,
    "start_time": "2022-04-04T04:30:11.686Z"
   },
   {
    "duration": 25,
    "start_time": "2022-04-04T04:30:11.710Z"
   },
   {
    "duration": 56,
    "start_time": "2022-04-04T04:30:11.737Z"
   },
   {
    "duration": 7,
    "start_time": "2022-04-04T04:30:11.795Z"
   },
   {
    "duration": 332,
    "start_time": "2022-04-04T04:30:11.805Z"
   },
   {
    "duration": 77,
    "start_time": "2022-04-04T04:30:12.139Z"
   },
   {
    "duration": 21,
    "start_time": "2022-04-04T04:30:12.218Z"
   },
   {
    "duration": 4,
    "start_time": "2022-04-04T04:30:12.241Z"
   },
   {
    "duration": 596,
    "start_time": "2022-04-04T04:30:12.247Z"
   },
   {
    "duration": 22,
    "start_time": "2022-04-04T04:30:12.845Z"
   },
   {
    "duration": 13,
    "start_time": "2022-04-04T04:30:12.869Z"
   },
   {
    "duration": 41,
    "start_time": "2022-04-04T04:30:12.884Z"
   },
   {
    "duration": 8,
    "start_time": "2022-04-04T04:30:12.927Z"
   },
   {
    "duration": 42,
    "start_time": "2022-04-04T04:30:12.940Z"
   },
   {
    "duration": 498,
    "start_time": "2022-04-04T04:30:12.984Z"
   },
   {
    "duration": 3,
    "start_time": "2022-04-04T04:30:13.484Z"
   },
   {
    "duration": 655,
    "start_time": "2022-04-04T04:30:13.489Z"
   },
   {
    "duration": 301,
    "start_time": "2022-04-04T04:30:14.146Z"
   },
   {
    "duration": 218,
    "start_time": "2022-04-04T04:30:14.449Z"
   },
   {
    "duration": 48,
    "start_time": "2022-04-04T04:30:14.669Z"
   },
   {
    "duration": 62,
    "start_time": "2022-04-04T04:30:14.720Z"
   },
   {
    "duration": 45,
    "start_time": "2022-04-04T04:30:14.784Z"
   },
   {
    "duration": 279,
    "start_time": "2022-04-04T04:30:14.832Z"
   },
   {
    "duration": 269,
    "start_time": "2022-04-04T04:30:15.113Z"
   },
   {
    "duration": 196,
    "start_time": "2022-04-04T04:30:15.384Z"
   },
   {
    "duration": 201,
    "start_time": "2022-04-04T04:30:15.582Z"
   },
   {
    "duration": 192,
    "start_time": "2022-04-04T04:30:15.785Z"
   },
   {
    "duration": 192,
    "start_time": "2022-04-04T04:30:15.983Z"
   },
   {
    "duration": 196,
    "start_time": "2022-04-04T04:30:16.178Z"
   },
   {
    "duration": 198,
    "start_time": "2022-04-04T04:30:16.377Z"
   },
   {
    "duration": 185,
    "start_time": "2022-04-04T04:30:16.577Z"
   },
   {
    "duration": 188,
    "start_time": "2022-04-04T04:30:16.765Z"
   },
   {
    "duration": 262,
    "start_time": "2022-04-04T04:30:16.955Z"
   },
   {
    "duration": 13,
    "start_time": "2022-04-04T04:30:17.219Z"
   },
   {
    "duration": 16,
    "start_time": "2022-04-04T04:30:17.234Z"
   },
   {
    "duration": 1144,
    "start_time": "2022-11-25T16:08:01.909Z"
   },
   {
    "duration": 10,
    "start_time": "2022-11-25T16:08:03.057Z"
   },
   {
    "duration": 156,
    "start_time": "2022-11-25T16:08:03.069Z"
   },
   {
    "duration": 14,
    "start_time": "2022-11-25T16:08:03.227Z"
   },
   {
    "duration": 66,
    "start_time": "2022-11-25T16:08:03.242Z"
   },
   {
    "duration": 11,
    "start_time": "2022-11-25T16:08:03.310Z"
   },
   {
    "duration": 73,
    "start_time": "2022-11-25T16:08:03.323Z"
   },
   {
    "duration": 16,
    "start_time": "2022-11-25T16:08:03.398Z"
   },
   {
    "duration": 24,
    "start_time": "2022-11-25T16:08:03.415Z"
   },
   {
    "duration": 51,
    "start_time": "2022-11-25T16:08:03.442Z"
   },
   {
    "duration": 38,
    "start_time": "2022-11-25T16:08:03.494Z"
   },
   {
    "duration": 40,
    "start_time": "2022-11-25T16:08:03.534Z"
   },
   {
    "duration": 31,
    "start_time": "2022-11-25T16:08:03.576Z"
   },
   {
    "duration": 20,
    "start_time": "2022-11-25T16:08:03.609Z"
   },
   {
    "duration": 57,
    "start_time": "2022-11-25T16:08:03.631Z"
   },
   {
    "duration": 24,
    "start_time": "2022-11-25T16:08:03.690Z"
   },
   {
    "duration": 51,
    "start_time": "2022-11-25T16:08:03.716Z"
   },
   {
    "duration": 41,
    "start_time": "2022-11-25T16:08:03.769Z"
   },
   {
    "duration": 283,
    "start_time": "2022-11-25T16:08:03.812Z"
   },
   {
    "duration": 59,
    "start_time": "2022-11-25T16:08:04.097Z"
   },
   {
    "duration": 19,
    "start_time": "2022-11-25T16:08:04.158Z"
   },
   {
    "duration": 74,
    "start_time": "2022-11-25T16:08:04.178Z"
   },
   {
    "duration": 484,
    "start_time": "2022-11-25T16:08:04.254Z"
   },
   {
    "duration": 34,
    "start_time": "2022-11-25T16:08:04.741Z"
   },
   {
    "duration": 12,
    "start_time": "2022-11-25T16:08:04.777Z"
   },
   {
    "duration": 324,
    "start_time": "2022-11-25T16:08:04.791Z"
   },
   {
    "duration": 11,
    "start_time": "2022-11-25T16:08:05.117Z"
   },
   {
    "duration": 37,
    "start_time": "2022-11-25T16:08:05.131Z"
   },
   {
    "duration": 380,
    "start_time": "2022-11-25T16:08:05.170Z"
   },
   {
    "duration": 450,
    "start_time": "2022-11-25T16:08:05.553Z"
   },
   {
    "duration": 268,
    "start_time": "2022-11-25T16:08:06.004Z"
   },
   {
    "duration": 153,
    "start_time": "2022-11-25T16:08:06.275Z"
   },
   {
    "duration": 39,
    "start_time": "2022-11-25T16:08:06.430Z"
   },
   {
    "duration": 43,
    "start_time": "2022-11-25T16:08:06.471Z"
   },
   {
    "duration": 314,
    "start_time": "2022-11-25T16:08:06.515Z"
   },
   {
    "duration": 214,
    "start_time": "2022-11-25T16:08:06.830Z"
   },
   {
    "duration": 194,
    "start_time": "2022-11-25T16:08:07.046Z"
   },
   {
    "duration": 130,
    "start_time": "2022-11-25T16:08:07.241Z"
   },
   {
    "duration": 134,
    "start_time": "2022-11-25T16:08:07.373Z"
   },
   {
    "duration": 135,
    "start_time": "2022-11-25T16:08:07.509Z"
   },
   {
    "duration": 141,
    "start_time": "2022-11-25T16:08:07.645Z"
   },
   {
    "duration": 138,
    "start_time": "2022-11-25T16:08:07.787Z"
   },
   {
    "duration": 152,
    "start_time": "2022-11-25T16:08:07.927Z"
   },
   {
    "duration": 133,
    "start_time": "2022-11-25T16:08:08.081Z"
   },
   {
    "duration": 137,
    "start_time": "2022-11-25T16:08:08.215Z"
   },
   {
    "duration": 209,
    "start_time": "2022-11-25T16:08:08.358Z"
   },
   {
    "duration": 10,
    "start_time": "2022-11-25T16:08:08.568Z"
   },
   {
    "duration": 25,
    "start_time": "2022-11-25T16:08:08.580Z"
   }
  ],
  "kernelspec": {
   "display_name": "Python 3 (ipykernel)",
   "language": "python",
   "name": "python3"
  },
  "language_info": {
   "codemirror_mode": {
    "name": "ipython",
    "version": 3
   },
   "file_extension": ".py",
   "mimetype": "text/x-python",
   "name": "python",
   "nbconvert_exporter": "python",
   "pygments_lexer": "ipython3",
   "version": "3.9.5"
  },
  "toc": {
   "base_numbering": 1,
   "nav_menu": {},
   "number_sections": true,
   "sideBar": true,
   "skip_h1_title": true,
   "title_cell": "Содержание",
   "title_sidebar": "Contents",
   "toc_cell": true,
   "toc_position": {},
   "toc_section_display": true,
   "toc_window_display": true
  }
 },
 "nbformat": 4,
 "nbformat_minor": 2
}
