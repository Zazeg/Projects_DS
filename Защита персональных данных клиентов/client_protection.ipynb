{
 "cells": [
  {
   "cell_type": "markdown",
   "metadata": {
    "toc": true
   },
   "source": [
    "<h1>Содержание<span class=\"tocSkip\"></span></h1>\n",
    "<div class=\"toc\"><ul class=\"toc-item\"><li><span><a href=\"#Загрузка-данных\" data-toc-modified-id=\"Загрузка-данных-1\"><span class=\"toc-item-num\">1&nbsp;&nbsp;</span>Загрузка данных</a></span></li><li><span><a href=\"#Умножение-матриц\" data-toc-modified-id=\"Умножение-матриц-2\"><span class=\"toc-item-num\">2&nbsp;&nbsp;</span>Умножение матриц</a></span></li><li><span><a href=\"#Алгоритм-преобразования\" data-toc-modified-id=\"Алгоритм-преобразования-3\"><span class=\"toc-item-num\">3&nbsp;&nbsp;</span>Алгоритм преобразования</a></span></li><li><span><a href=\"#Проверка-алгоритма\" data-toc-modified-id=\"Проверка-алгоритма-4\"><span class=\"toc-item-num\">4&nbsp;&nbsp;</span>Проверка алгоритма</a></span></li><li><span><a href=\"#Чек-лист-проверки\" data-toc-modified-id=\"Чек-лист-проверки-5\"><span class=\"toc-item-num\">5&nbsp;&nbsp;</span>Чек-лист проверки</a></span></li></ul></div>"
   ]
  },
  {
   "cell_type": "markdown",
   "metadata": {},
   "source": [
    "# Защита персональных данных клиентов"
   ]
  },
  {
   "cell_type": "markdown",
   "metadata": {},
   "source": [
    "Вам нужно защитить данные клиентов страховой компании «Хоть потоп». Разработайте такой метод преобразования данных, чтобы по ним было сложно восстановить персональную информацию. Обоснуйте корректность его работы.\n",
    "\n",
    "Нужно защитить данные, чтобы при преобразовании качество моделей машинного обучения не ухудшилось. Подбирать наилучшую модель не требуется."
   ]
  },
  {
   "cell_type": "markdown",
   "metadata": {},
   "source": [
    "## Загрузка данных"
   ]
  },
  {
   "cell_type": "code",
   "execution_count": 1,
   "metadata": {},
   "outputs": [],
   "source": [
    "import pandas as pd\n",
    "import numpy as np\n",
    "import seaborn as sns\n",
    "import warnings\n",
    "from sklearn.linear_model import LinearRegression\n",
    "from sklearn.metrics import r2_score\n",
    "warnings.filterwarnings(\"ignore\")"
   ]
  },
  {
   "cell_type": "code",
   "execution_count": 2,
   "metadata": {},
   "outputs": [],
   "source": [
    "data = pd.read_csv('/datasets/insurance.csv')"
   ]
  },
  {
   "cell_type": "code",
   "execution_count": 3,
   "metadata": {},
   "outputs": [
    {
     "name": "stdout",
     "output_type": "stream",
     "text": [
      "<class 'pandas.core.frame.DataFrame'>\n",
      "RangeIndex: 5000 entries, 0 to 4999\n",
      "Data columns (total 5 columns):\n",
      " #   Column             Non-Null Count  Dtype  \n",
      "---  ------             --------------  -----  \n",
      " 0   Пол                5000 non-null   int64  \n",
      " 1   Возраст            5000 non-null   float64\n",
      " 2   Зарплата           5000 non-null   float64\n",
      " 3   Члены семьи        5000 non-null   int64  \n",
      " 4   Страховые выплаты  5000 non-null   int64  \n",
      "dtypes: float64(2), int64(3)\n",
      "memory usage: 195.4 KB\n"
     ]
    },
    {
     "data": {
      "text/html": [
       "<div>\n",
       "<style scoped>\n",
       "    .dataframe tbody tr th:only-of-type {\n",
       "        vertical-align: middle;\n",
       "    }\n",
       "\n",
       "    .dataframe tbody tr th {\n",
       "        vertical-align: top;\n",
       "    }\n",
       "\n",
       "    .dataframe thead th {\n",
       "        text-align: right;\n",
       "    }\n",
       "</style>\n",
       "<table border=\"1\" class=\"dataframe\">\n",
       "  <thead>\n",
       "    <tr style=\"text-align: right;\">\n",
       "      <th></th>\n",
       "      <th>Пол</th>\n",
       "      <th>Возраст</th>\n",
       "      <th>Зарплата</th>\n",
       "      <th>Члены семьи</th>\n",
       "      <th>Страховые выплаты</th>\n",
       "    </tr>\n",
       "  </thead>\n",
       "  <tbody>\n",
       "    <tr>\n",
       "      <th>0</th>\n",
       "      <td>1</td>\n",
       "      <td>41.0</td>\n",
       "      <td>49600.0</td>\n",
       "      <td>1</td>\n",
       "      <td>0</td>\n",
       "    </tr>\n",
       "    <tr>\n",
       "      <th>1</th>\n",
       "      <td>0</td>\n",
       "      <td>46.0</td>\n",
       "      <td>38000.0</td>\n",
       "      <td>1</td>\n",
       "      <td>1</td>\n",
       "    </tr>\n",
       "    <tr>\n",
       "      <th>2</th>\n",
       "      <td>0</td>\n",
       "      <td>29.0</td>\n",
       "      <td>21000.0</td>\n",
       "      <td>0</td>\n",
       "      <td>0</td>\n",
       "    </tr>\n",
       "    <tr>\n",
       "      <th>3</th>\n",
       "      <td>0</td>\n",
       "      <td>21.0</td>\n",
       "      <td>41700.0</td>\n",
       "      <td>2</td>\n",
       "      <td>0</td>\n",
       "    </tr>\n",
       "    <tr>\n",
       "      <th>4</th>\n",
       "      <td>1</td>\n",
       "      <td>28.0</td>\n",
       "      <td>26100.0</td>\n",
       "      <td>0</td>\n",
       "      <td>0</td>\n",
       "    </tr>\n",
       "  </tbody>\n",
       "</table>\n",
       "</div>"
      ],
      "text/plain": [
       "   Пол  Возраст  Зарплата  Члены семьи  Страховые выплаты\n",
       "0    1     41.0   49600.0            1                  0\n",
       "1    0     46.0   38000.0            1                  1\n",
       "2    0     29.0   21000.0            0                  0\n",
       "3    0     21.0   41700.0            2                  0\n",
       "4    1     28.0   26100.0            0                  0"
      ]
     },
     "metadata": {},
     "output_type": "display_data"
    },
    {
     "data": {
      "text/html": [
       "<div>\n",
       "<style scoped>\n",
       "    .dataframe tbody tr th:only-of-type {\n",
       "        vertical-align: middle;\n",
       "    }\n",
       "\n",
       "    .dataframe tbody tr th {\n",
       "        vertical-align: top;\n",
       "    }\n",
       "\n",
       "    .dataframe thead th {\n",
       "        text-align: right;\n",
       "    }\n",
       "</style>\n",
       "<table border=\"1\" class=\"dataframe\">\n",
       "  <thead>\n",
       "    <tr style=\"text-align: right;\">\n",
       "      <th></th>\n",
       "      <th>Пол</th>\n",
       "      <th>Возраст</th>\n",
       "      <th>Зарплата</th>\n",
       "      <th>Члены семьи</th>\n",
       "      <th>Страховые выплаты</th>\n",
       "    </tr>\n",
       "  </thead>\n",
       "  <tbody>\n",
       "    <tr>\n",
       "      <th>count</th>\n",
       "      <td>5000.000000</td>\n",
       "      <td>5000.000000</td>\n",
       "      <td>5000.000000</td>\n",
       "      <td>5000.000000</td>\n",
       "      <td>5000.000000</td>\n",
       "    </tr>\n",
       "    <tr>\n",
       "      <th>mean</th>\n",
       "      <td>0.499000</td>\n",
       "      <td>30.952800</td>\n",
       "      <td>39916.360000</td>\n",
       "      <td>1.194200</td>\n",
       "      <td>0.148000</td>\n",
       "    </tr>\n",
       "    <tr>\n",
       "      <th>std</th>\n",
       "      <td>0.500049</td>\n",
       "      <td>8.440807</td>\n",
       "      <td>9900.083569</td>\n",
       "      <td>1.091387</td>\n",
       "      <td>0.463183</td>\n",
       "    </tr>\n",
       "    <tr>\n",
       "      <th>min</th>\n",
       "      <td>0.000000</td>\n",
       "      <td>18.000000</td>\n",
       "      <td>5300.000000</td>\n",
       "      <td>0.000000</td>\n",
       "      <td>0.000000</td>\n",
       "    </tr>\n",
       "    <tr>\n",
       "      <th>25%</th>\n",
       "      <td>0.000000</td>\n",
       "      <td>24.000000</td>\n",
       "      <td>33300.000000</td>\n",
       "      <td>0.000000</td>\n",
       "      <td>0.000000</td>\n",
       "    </tr>\n",
       "    <tr>\n",
       "      <th>50%</th>\n",
       "      <td>0.000000</td>\n",
       "      <td>30.000000</td>\n",
       "      <td>40200.000000</td>\n",
       "      <td>1.000000</td>\n",
       "      <td>0.000000</td>\n",
       "    </tr>\n",
       "    <tr>\n",
       "      <th>75%</th>\n",
       "      <td>1.000000</td>\n",
       "      <td>37.000000</td>\n",
       "      <td>46600.000000</td>\n",
       "      <td>2.000000</td>\n",
       "      <td>0.000000</td>\n",
       "    </tr>\n",
       "    <tr>\n",
       "      <th>max</th>\n",
       "      <td>1.000000</td>\n",
       "      <td>65.000000</td>\n",
       "      <td>79000.000000</td>\n",
       "      <td>6.000000</td>\n",
       "      <td>5.000000</td>\n",
       "    </tr>\n",
       "  </tbody>\n",
       "</table>\n",
       "</div>"
      ],
      "text/plain": [
       "               Пол      Возраст      Зарплата  Члены семьи  Страховые выплаты\n",
       "count  5000.000000  5000.000000   5000.000000  5000.000000        5000.000000\n",
       "mean      0.499000    30.952800  39916.360000     1.194200           0.148000\n",
       "std       0.500049     8.440807   9900.083569     1.091387           0.463183\n",
       "min       0.000000    18.000000   5300.000000     0.000000           0.000000\n",
       "25%       0.000000    24.000000  33300.000000     0.000000           0.000000\n",
       "50%       0.000000    30.000000  40200.000000     1.000000           0.000000\n",
       "75%       1.000000    37.000000  46600.000000     2.000000           0.000000\n",
       "max       1.000000    65.000000  79000.000000     6.000000           5.000000"
      ]
     },
     "metadata": {},
     "output_type": "display_data"
    }
   ],
   "source": [
    "data.info()\n",
    "display(data.head())\n",
    "display(data.describe())"
   ]
  },
  {
   "cell_type": "code",
   "execution_count": 4,
   "metadata": {
    "scrolled": false
   },
   "outputs": [
    {
     "name": "stdout",
     "output_type": "stream",
     "text": [
      "Дубликатов в данных: 153\n"
     ]
    }
   ],
   "source": [
    "print('Дубликатов в данных:', data.duplicated().sum())"
   ]
  },
  {
   "cell_type": "markdown",
   "metadata": {},
   "source": [
    "Удаление дубликатов"
   ]
  },
  {
   "cell_type": "code",
   "execution_count": 5,
   "metadata": {
    "scrolled": true
   },
   "outputs": [],
   "source": [
    "data = data.drop_duplicates().reset_index(drop=True)"
   ]
  },
  {
   "cell_type": "code",
   "execution_count": 6,
   "metadata": {
    "scrolled": true
   },
   "outputs": [
    {
     "name": "stdout",
     "output_type": "stream",
     "text": [
      "               Пол      Возраст      Зарплата  Члены семьи  Страховые выплаты\n",
      "count  4847.000000  4847.000000   4847.000000  4847.000000        4847.000000\n",
      "mean      0.498453    31.023932  39895.811842     1.203425           0.152259\n",
      "std       0.500049     8.487995   9972.953985     1.098664           0.468934\n",
      "min       0.000000    18.000000   5300.000000     0.000000           0.000000\n",
      "25%       0.000000    24.000000  33200.000000     0.000000           0.000000\n",
      "50%       0.000000    30.000000  40200.000000     1.000000           0.000000\n",
      "75%       1.000000    37.000000  46600.000000     2.000000           0.000000\n",
      "max       1.000000    65.000000  79000.000000     6.000000           5.000000\n"
     ]
    }
   ],
   "source": [
    "print(data.describe())"
   ]
  },
  {
   "cell_type": "code",
   "execution_count": 7,
   "metadata": {},
   "outputs": [
    {
     "name": "stdout",
     "output_type": "stream",
     "text": [
      "(4847, 5)\n"
     ]
    }
   ],
   "source": [
    "print(data.shape)"
   ]
  },
  {
   "cell_type": "code",
   "execution_count": 8,
   "metadata": {},
   "outputs": [
    {
     "data": {
      "text/plain": [
       "<seaborn.axisgrid.PairGrid at 0x7fed58fbc5e0>"
      ]
     },
     "execution_count": 8,
     "metadata": {},
     "output_type": "execute_result"
    },
    {
     "data": {
      "image/png": "[encoded data removed]",
      "text/plain": [
       "<Figure size 834.5x720 with 20 Axes>"
      ]
     },
     "metadata": {
      "needs_background": "light"
     },
     "output_type": "display_data"
    }
   ],
   "source": [
    "sns.pairplot(data, hue='Страховые выплаты')"
   ]
  },
  {
   "cell_type": "markdown",
   "metadata": {},
   "source": [
    "Дубликаты в данных можно удалить, а можно было не удалять, так как у одних и тех же клиентов может быть несколько страховых продуктов в одной страховой компании. Однако, как видно из гистограмм, страховые выплаты за последние 5 лет были выплачены людям в возрасте: чем больше выплат, тем возраст старше. Поэтому предположу, что страховали в данном случае скорее всего здоровье, а в одной и той же компании несколько раз в год страховать здоровье - мне кажется странным. Поэтому мною было решено удалить дубликаты."
   ]
  },
  {
   "cell_type": "markdown",
   "metadata": {},
   "source": [
    "**Вывод**  \n",
    "\n",
    "- В данных 4847 строк после удаления дубликатов.  \n",
    "- Пол в данных распределен приблизительно равномерно.  \n",
    "- Из графиков видно, что чем старше клиенты, тем больше страховых выплат.\n",
    "- Названия признаков кириллицей и с большой буквы - можно исправить, но буду работать с существующими названиями."
   ]
  },
  {
   "cell_type": "markdown",
   "metadata": {},
   "source": [
    "## Умножение матриц"
   ]
  },
  {
   "cell_type": "markdown",
   "metadata": {},
   "source": [
    "В этом задании вы можете записывать формулы в *Jupyter Notebook.*\n",
    "\n",
    "Чтобы записать формулу внутри текста, окружите её символами доллара \\\\$; если снаружи —  двойными символами \\\\$\\\\$. Эти формулы записываются на языке вёрстки *LaTeX.* \n",
    "\n",
    "Для примера мы записали формулы линейной регрессии. Можете их скопировать и отредактировать, чтобы решить задачу.\n",
    "\n",
    "Работать в *LaTeX* необязательно."
   ]
  },
  {
   "cell_type": "markdown",
   "metadata": {},
   "source": [
    "Обозначения:\n",
    "\n",
    "- $X$ — матрица признаков (нулевой столбец состоит из единиц)\n",
    "\n",
    "- $y$ — вектор целевого признака\n",
    "\n",
    "- $P$ — матрица, на которую умножаются признаки\n",
    "\n",
    "- $w$ — вектор весов линейной регрессии (нулевой элемент равен сдвигу)"
   ]
  },
  {
   "cell_type": "markdown",
   "metadata": {},
   "source": [
    "Предсказания:\n",
    "\n",
    "$$\n",
    "a = Xw\n",
    "$$\n",
    "\n",
    "Задача обучения:\n",
    "\n",
    "$$\n",
    "w = \\arg\\min_w MSE(Xw, y)\n",
    "$$\n",
    "\n",
    "Формула обучения:\n",
    "\n",
    "$$\n",
    "w = (𝑋^𝑇 𝑋)^{−1}𝑋^𝑇𝑦\n",
    "$$"
   ]
  },
  {
   "cell_type": "markdown",
   "metadata": {},
   "source": [
    "**Вопрос**  \n",
    "\n",
    "Признаки умножают на обратимую матрицу. Изменится ли качество линейной регрессии?"
   ]
  },
  {
   "cell_type": "markdown",
   "metadata": {},
   "source": [
    "**Ответ:**  \n",
    "\n",
    "Не изменится.\n",
    "\n",
    "**Обоснование:**  \n",
    "\n",
    "Умножим признаки на обратимую матрицу:  \n",
    "\n",
    "$$\n",
    "𝑤_1=((XP)^T X P)^{-1} (XP)^T y\n",
    "$$  \n",
    "\n",
    "Учитывая, что $ (A * B)^{-1} = B^{-1} * A^{-1}$ , то получается:  \n",
    "\n",
    "$$\n",
    "w_1=(P^T X^T X P)^{-1} P^T X^T y  \n",
    "$$  \n",
    "\n",
    "$$\n",
    "w_1 = P^{-1} (X^T X)^{-1} (P^T)^{-1} P^T X^T y\n",
    "$$  \n",
    "\n",
    "$$\n",
    "w_1 = P^{-1} (X^T X)^{-1} E  X^T y\n",
    "$$  \n",
    "\n",
    "При умножении матрицы на обратную получается единичная матрица, при умножении любой матрицы на которую получается та же матрица. Потому матрицу и обратную можно \"сократить\". Матрицы А и B квадратные, P, P^T и X^T X квадратные.\n",
    "\n",
    "$$\n",
    "w_1=P^{-1} (X^T X)^{-1}  X^T y\n",
    "$$  \n",
    "\n",
    "При этом \n",
    "$$ a_1=X P w_1 $$  \n",
    "\n",
    "$$a_1=X P P^{-1} (X^T X)^{-1}  X^T y$$  \n",
    "\n",
    "$$a_1=X (X^T X)^{-1} X^T y$$  \n",
    "\n",
    "$$a_1=X w$$"
   ]
  },
  {
   "cell_type": "markdown",
   "metadata": {},
   "source": [
    "**Вывод**  \n",
    "\n",
    "При умножении признаков на обратимую матрицу **P**  качество не меняется."
   ]
  },
  {
   "cell_type": "markdown",
   "metadata": {},
   "source": [
    "## Алгоритм преобразования"
   ]
  },
  {
   "cell_type": "markdown",
   "metadata": {},
   "source": [
    "**Алгоритм**\n",
    "\n",
    "Для шифрования данных нужно умножить признаки данных на матрицу шифрования. Для перемножения нужно сгенерировать обратимую матрицу размера 4х4 по количеству признаков, потому что при перемножении матриц количество столбцов исходной должно равняться количеству строк матрицы шифрования, которая должна быть квадратной."
   ]
  },
  {
   "cell_type": "markdown",
   "metadata": {},
   "source": [
    "**Обоснование**"
   ]
  },
  {
   "cell_type": "markdown",
   "metadata": {},
   "source": [
    "Выделение из данных целевого признака."
   ]
  },
  {
   "cell_type": "code",
   "execution_count": 9,
   "metadata": {},
   "outputs": [],
   "source": [
    "features = data.drop('Страховые выплаты', axis=1)\n",
    "target = data['Страховые выплаты']"
   ]
  },
  {
   "cell_type": "markdown",
   "metadata": {},
   "source": [
    "Создание матрицы нужной размерности"
   ]
  },
  {
   "cell_type": "code",
   "execution_count": 10,
   "metadata": {},
   "outputs": [],
   "source": [
    "matrix_rand = np.random.random((features.shape[1], features.shape[1]))"
   ]
  },
  {
   "cell_type": "markdown",
   "metadata": {},
   "source": [
    "Шифрование данных"
   ]
  },
  {
   "cell_type": "code",
   "execution_count": 11,
   "metadata": {
    "scrolled": true
   },
   "outputs": [
    {
     "data": {
      "text/html": [
       "<div>\n",
       "<style scoped>\n",
       "    .dataframe tbody tr th:only-of-type {\n",
       "        vertical-align: middle;\n",
       "    }\n",
       "\n",
       "    .dataframe tbody tr th {\n",
       "        vertical-align: top;\n",
       "    }\n",
       "\n",
       "    .dataframe thead th {\n",
       "        text-align: right;\n",
       "    }\n",
       "</style>\n",
       "<table border=\"1\" class=\"dataframe\">\n",
       "  <thead>\n",
       "    <tr style=\"text-align: right;\">\n",
       "      <th></th>\n",
       "      <th>0</th>\n",
       "      <th>1</th>\n",
       "      <th>2</th>\n",
       "      <th>3</th>\n",
       "    </tr>\n",
       "  </thead>\n",
       "  <tbody>\n",
       "    <tr>\n",
       "      <th>0</th>\n",
       "      <td>24540.388294</td>\n",
       "      <td>24564.040350</td>\n",
       "      <td>39846.229283</td>\n",
       "      <td>33373.387810</td>\n",
       "    </tr>\n",
       "    <tr>\n",
       "      <th>1</th>\n",
       "      <td>18811.371575</td>\n",
       "      <td>18830.045801</td>\n",
       "      <td>30534.030667</td>\n",
       "      <td>25577.690614</td>\n",
       "    </tr>\n",
       "    <tr>\n",
       "      <th>2</th>\n",
       "      <td>10397.868633</td>\n",
       "      <td>10408.699321</td>\n",
       "      <td>16875.496618</td>\n",
       "      <td>14137.137115</td>\n",
       "    </tr>\n",
       "    <tr>\n",
       "      <th>3</th>\n",
       "      <td>20623.165401</td>\n",
       "      <td>20640.754888</td>\n",
       "      <td>33493.235607</td>\n",
       "      <td>28049.150605</td>\n",
       "    </tr>\n",
       "    <tr>\n",
       "      <th>4</th>\n",
       "      <td>12917.497857</td>\n",
       "      <td>12931.089943</td>\n",
       "      <td>20970.649467</td>\n",
       "      <td>17565.604519</td>\n",
       "    </tr>\n",
       "  </tbody>\n",
       "</table>\n",
       "</div>"
      ],
      "text/plain": [
       "              0             1             2             3\n",
       "0  24540.388294  24564.040350  39846.229283  33373.387810\n",
       "1  18811.371575  18830.045801  30534.030667  25577.690614\n",
       "2  10397.868633  10408.699321  16875.496618  14137.137115\n",
       "3  20623.165401  20640.754888  33493.235607  28049.150605\n",
       "4  12917.497857  12931.089943  20970.649467  17565.604519"
      ]
     },
     "metadata": {},
     "output_type": "display_data"
    }
   ],
   "source": [
    "features_rand = features @ matrix_rand\n",
    "display(features_rand.head(5))"
   ]
  },
  {
   "cell_type": "markdown",
   "metadata": {},
   "source": [
    "Создается функция, на входе получает признаки, проверяется матрица на обратимость, а возвращается зашифрованная матрица."
   ]
  },
  {
   "cell_type": "code",
   "execution_count": 12,
   "metadata": {},
   "outputs": [],
   "source": [
    "def features_random(features):\n",
    "    features_cr = features\n",
    "    matrix_rand = np.random.random((features_cr.shape[1], features_cr.shape[1]))\n",
    "    det_matrix = np.linalg.det(matrix_rand)\n",
    "    while det_matrix == 0:\n",
    "        matrix_rand = np.random.random((features_cr.shape[1], features_cr.shape[1]))\n",
    "        det_matrix = np.linalg.det(matrix_rand)\n",
    "    features_cr = features_cr @ matrix_rand\n",
    "    return features_cr"
   ]
  },
  {
   "cell_type": "markdown",
   "metadata": {},
   "source": [
    "**Вывод**  \n",
    "\n",
    "Выделил признаки из данных и зашифровал их, создав раномную матрицу с помощью библиотеки NumPy."
   ]
  },
  {
   "cell_type": "markdown",
   "metadata": {},
   "source": [
    "## Проверка алгоритма"
   ]
  },
  {
   "cell_type": "markdown",
   "metadata": {},
   "source": [
    "Обучение модели линейной регрессии и вычисление метрики R2 на оригинальных данных и на зашифрованных."
   ]
  },
  {
   "cell_type": "markdown",
   "metadata": {},
   "source": [
    "Оригинальные данные"
   ]
  },
  {
   "cell_type": "code",
   "execution_count": 13,
   "metadata": {},
   "outputs": [
    {
     "name": "stdout",
     "output_type": "stream",
     "text": [
      "0.4302010044852066\n"
     ]
    }
   ],
   "source": [
    "model = LinearRegression()\n",
    "model.fit(features, target)\n",
    "predictions = model.predict(features)\n",
    "print(r2_score(target, predictions))"
   ]
  },
  {
   "cell_type": "markdown",
   "metadata": {},
   "source": [
    "Зашифрованные данные"
   ]
  },
  {
   "cell_type": "code",
   "execution_count": 14,
   "metadata": {},
   "outputs": [],
   "source": [
    "features_rand = features_random(features)"
   ]
  },
  {
   "cell_type": "code",
   "execution_count": 15,
   "metadata": {},
   "outputs": [
    {
     "name": "stdout",
     "output_type": "stream",
     "text": [
      "0.4302010044854292\n"
     ]
    }
   ],
   "source": [
    "model = LinearRegression()\n",
    "model.fit(features_rand, target)\n",
    "predictions = model.predict(features_rand)\n",
    "print(r2_score(target, predictions))"
   ]
  },
  {
   "cell_type": "markdown",
   "metadata": {},
   "source": [
    "Качество метрики R2 незначительно различается, скорее всего из-за работы и перемножения с числами типа `float`."
   ]
  },
  {
   "cell_type": "markdown",
   "metadata": {},
   "source": [
    "**Вывод**  \n",
    "\n",
    "При шифровании данных путем умножения матрицы признаков на обратимую матрицу качество моделей `не изменяется`."
   ]
  }
 ],
 "metadata": {
  "ExecuteTimeLog": [
   {
    "duration": 1083,
    "start_time": "2022-05-10T17:24:52.010Z"
   },
   {
    "duration": 46,
    "start_time": "2022-05-10T17:25:13.706Z"
   },
   {
    "duration": 17,
    "start_time": "2022-05-10T17:26:37.822Z"
   },
   {
    "duration": 10,
    "start_time": "2022-05-10T17:26:50.270Z"
   },
   {
    "duration": 19,
    "start_time": "2022-05-10T17:27:04.428Z"
   },
   {
    "duration": 35,
    "start_time": "2022-05-10T17:28:13.985Z"
   },
   {
    "duration": 5,
    "start_time": "2022-05-10T17:54:23.779Z"
   },
   {
    "duration": 111,
    "start_time": "2022-05-10T17:56:56.854Z"
   },
   {
    "duration": 5,
    "start_time": "2022-05-10T17:57:07.958Z"
   },
   {
    "duration": 90,
    "start_time": "2022-05-10T17:58:13.050Z"
   },
   {
    "duration": 5,
    "start_time": "2022-05-10T17:59:03.742Z"
   },
   {
    "duration": 29,
    "start_time": "2022-05-10T17:59:23.650Z"
   },
   {
    "duration": 18,
    "start_time": "2022-05-10T18:01:32.013Z"
   },
   {
    "duration": 14,
    "start_time": "2022-05-10T18:01:49.913Z"
   },
   {
    "duration": 13,
    "start_time": "2022-05-10T18:02:13.516Z"
   },
   {
    "duration": 14,
    "start_time": "2022-05-10T18:02:26.682Z"
   },
   {
    "duration": 1114,
    "start_time": "2022-05-10T18:02:47.290Z"
   },
   {
    "duration": 18,
    "start_time": "2022-05-10T18:02:48.406Z"
   },
   {
    "duration": 42,
    "start_time": "2022-05-10T18:02:48.426Z"
   },
   {
    "duration": 6,
    "start_time": "2022-05-10T18:02:48.472Z"
   },
   {
    "duration": 42,
    "start_time": "2022-05-10T18:02:48.480Z"
   },
   {
    "duration": 104,
    "start_time": "2022-05-10T18:03:05.681Z"
   },
   {
    "duration": 16,
    "start_time": "2022-05-10T18:04:53.194Z"
   },
   {
    "duration": 16,
    "start_time": "2022-05-10T18:05:06.981Z"
   },
   {
    "duration": 1103,
    "start_time": "2022-05-10T18:05:18.144Z"
   },
   {
    "duration": 13,
    "start_time": "2022-05-10T18:05:19.249Z"
   },
   {
    "duration": 42,
    "start_time": "2022-05-10T18:05:19.264Z"
   },
   {
    "duration": 5,
    "start_time": "2022-05-10T18:05:19.308Z"
   },
   {
    "duration": 105,
    "start_time": "2022-05-10T18:05:19.314Z"
   },
   {
    "duration": 9,
    "start_time": "2022-05-10T18:05:52.957Z"
   },
   {
    "duration": 1069,
    "start_time": "2022-05-10T18:06:19.082Z"
   },
   {
    "duration": 12,
    "start_time": "2022-05-10T18:06:20.152Z"
   },
   {
    "duration": 45,
    "start_time": "2022-05-10T18:06:20.165Z"
   },
   {
    "duration": 6,
    "start_time": "2022-05-10T18:06:20.212Z"
   },
   {
    "duration": 9,
    "start_time": "2022-05-10T18:06:20.219Z"
   },
   {
    "duration": 104,
    "start_time": "2022-05-10T18:06:20.229Z"
   },
   {
    "duration": 3,
    "start_time": "2022-05-10T18:07:07.789Z"
   },
   {
    "duration": 3,
    "start_time": "2022-05-10T18:07:34.292Z"
   },
   {
    "duration": 9,
    "start_time": "2022-05-10T18:07:36.661Z"
   },
   {
    "duration": 1077,
    "start_time": "2022-05-10T18:07:43.474Z"
   },
   {
    "duration": 17,
    "start_time": "2022-05-10T18:07:44.553Z"
   },
   {
    "duration": 44,
    "start_time": "2022-05-10T18:07:44.571Z"
   },
   {
    "duration": 6,
    "start_time": "2022-05-10T18:07:44.618Z"
   },
   {
    "duration": 6,
    "start_time": "2022-05-10T18:07:44.626Z"
   },
   {
    "duration": 9,
    "start_time": "2022-05-10T18:07:44.634Z"
   },
   {
    "duration": 22,
    "start_time": "2022-05-10T18:08:14.364Z"
   },
   {
    "duration": 6,
    "start_time": "2022-05-10T18:10:10.605Z"
   },
   {
    "duration": 20,
    "start_time": "2022-05-10T18:10:13.261Z"
   },
   {
    "duration": 3,
    "start_time": "2022-05-10T18:11:45.470Z"
   },
   {
    "duration": 6,
    "start_time": "2022-05-10T18:12:19.464Z"
   },
   {
    "duration": 93,
    "start_time": "2022-05-10T18:12:22.289Z"
   },
   {
    "duration": 1114,
    "start_time": "2022-05-10T18:12:41.101Z"
   },
   {
    "duration": 13,
    "start_time": "2022-05-10T18:12:42.216Z"
   },
   {
    "duration": 51,
    "start_time": "2022-05-10T18:12:42.230Z"
   },
   {
    "duration": 5,
    "start_time": "2022-05-10T18:12:42.283Z"
   },
   {
    "duration": 9,
    "start_time": "2022-05-10T18:12:42.290Z"
   },
   {
    "duration": 107,
    "start_time": "2022-05-10T18:12:42.300Z"
   },
   {
    "duration": 0,
    "start_time": "2022-05-10T18:12:42.408Z"
   },
   {
    "duration": 8,
    "start_time": "2022-05-10T18:12:52.734Z"
   },
   {
    "duration": 1155,
    "start_time": "2022-05-10T18:12:59.253Z"
   },
   {
    "duration": 12,
    "start_time": "2022-05-10T18:13:00.410Z"
   },
   {
    "duration": 51,
    "start_time": "2022-05-10T18:13:00.424Z"
   },
   {
    "duration": 6,
    "start_time": "2022-05-10T18:13:00.476Z"
   },
   {
    "duration": 15,
    "start_time": "2022-05-10T18:13:00.484Z"
   },
   {
    "duration": 35,
    "start_time": "2022-05-10T18:13:00.501Z"
   },
   {
    "duration": 4,
    "start_time": "2022-05-10T18:13:00.538Z"
   },
   {
    "duration": 1107,
    "start_time": "2022-05-10T18:13:25.997Z"
   },
   {
    "duration": 13,
    "start_time": "2022-05-10T18:13:27.106Z"
   },
   {
    "duration": 59,
    "start_time": "2022-05-10T18:13:27.123Z"
   },
   {
    "duration": 5,
    "start_time": "2022-05-10T18:13:27.184Z"
   },
   {
    "duration": 7,
    "start_time": "2022-05-10T18:13:27.191Z"
   },
   {
    "duration": 20,
    "start_time": "2022-05-10T18:13:27.199Z"
   },
   {
    "duration": 3,
    "start_time": "2022-05-10T18:13:27.220Z"
   },
   {
    "duration": 92,
    "start_time": "2022-05-10T18:16:20.032Z"
   },
   {
    "duration": 501,
    "start_time": "2022-05-10T18:16:27.188Z"
   },
   {
    "duration": 6273,
    "start_time": "2022-05-10T18:16:31.025Z"
   },
   {
    "duration": 3217,
    "start_time": "2022-05-12T14:11:04.974Z"
   },
   {
    "duration": 42,
    "start_time": "2022-05-12T14:11:08.194Z"
   },
   {
    "duration": 56,
    "start_time": "2022-05-12T14:11:08.238Z"
   },
   {
    "duration": 6,
    "start_time": "2022-05-12T14:11:08.297Z"
   },
   {
    "duration": 28,
    "start_time": "2022-05-12T14:11:08.305Z"
   },
   {
    "duration": 65,
    "start_time": "2022-05-12T14:11:08.335Z"
   },
   {
    "duration": 11,
    "start_time": "2022-05-12T14:11:08.402Z"
   },
   {
    "duration": 9405,
    "start_time": "2022-05-12T14:11:08.415Z"
   },
   {
    "duration": 1673,
    "start_time": "2022-05-12T16:23:58.041Z"
   },
   {
    "duration": 51,
    "start_time": "2022-05-12T16:23:59.716Z"
   },
   {
    "duration": 40,
    "start_time": "2022-05-12T16:23:59.769Z"
   },
   {
    "duration": 5,
    "start_time": "2022-05-12T16:23:59.812Z"
   },
   {
    "duration": 9,
    "start_time": "2022-05-12T16:23:59.819Z"
   },
   {
    "duration": 33,
    "start_time": "2022-05-12T16:23:59.829Z"
   },
   {
    "duration": 6,
    "start_time": "2022-05-12T16:23:59.864Z"
   },
   {
    "duration": 6776,
    "start_time": "2022-05-12T16:23:59.872Z"
   },
   {
    "duration": 4,
    "start_time": "2022-05-12T19:24:02.423Z"
   },
   {
    "duration": 6733,
    "start_time": "2022-05-12T19:24:06.210Z"
   },
   {
    "duration": 3,
    "start_time": "2022-05-12T19:30:56.334Z"
   },
   {
    "duration": 6596,
    "start_time": "2022-05-12T19:30:59.492Z"
   },
   {
    "duration": 1765,
    "start_time": "2022-05-13T15:18:50.749Z"
   },
   {
    "duration": 29,
    "start_time": "2022-05-13T15:18:52.516Z"
   },
   {
    "duration": 45,
    "start_time": "2022-05-13T15:18:52.547Z"
   },
   {
    "duration": 6,
    "start_time": "2022-05-13T15:18:52.594Z"
   },
   {
    "duration": 10,
    "start_time": "2022-05-13T15:18:52.602Z"
   },
   {
    "duration": 20,
    "start_time": "2022-05-13T15:18:52.634Z"
   },
   {
    "duration": 4,
    "start_time": "2022-05-13T15:18:52.655Z"
   },
   {
    "duration": 7190,
    "start_time": "2022-05-13T15:18:52.660Z"
   },
   {
    "duration": 4,
    "start_time": "2022-05-13T15:57:56.659Z"
   },
   {
    "duration": 4,
    "start_time": "2022-05-13T16:05:25.687Z"
   },
   {
    "duration": 4,
    "start_time": "2022-05-13T16:05:41.986Z"
   },
   {
    "duration": 3,
    "start_time": "2022-05-13T16:05:42.608Z"
   },
   {
    "duration": 3,
    "start_time": "2022-05-13T16:05:43.040Z"
   },
   {
    "duration": 4,
    "start_time": "2022-05-13T16:05:43.395Z"
   },
   {
    "duration": 4,
    "start_time": "2022-05-13T16:07:05.431Z"
   },
   {
    "duration": 4,
    "start_time": "2022-05-13T16:07:35.796Z"
   },
   {
    "duration": 10,
    "start_time": "2022-05-13T16:09:46.661Z"
   },
   {
    "duration": 12,
    "start_time": "2022-05-13T17:08:15.948Z"
   },
   {
    "duration": 12,
    "start_time": "2022-05-13T17:09:04.206Z"
   },
   {
    "duration": 12,
    "start_time": "2022-05-13T17:11:13.919Z"
   },
   {
    "duration": 12,
    "start_time": "2022-05-13T17:11:23.853Z"
   },
   {
    "duration": 8,
    "start_time": "2022-05-13T17:15:24.736Z"
   },
   {
    "duration": 12,
    "start_time": "2022-05-13T17:15:46.324Z"
   },
   {
    "duration": 10,
    "start_time": "2022-05-13T17:15:50.155Z"
   },
   {
    "duration": 12,
    "start_time": "2022-05-13T17:19:37.172Z"
   },
   {
    "duration": 11,
    "start_time": "2022-05-13T17:19:39.500Z"
   },
   {
    "duration": 1683,
    "start_time": "2022-05-13T17:40:56.796Z"
   },
   {
    "duration": 20,
    "start_time": "2022-05-13T17:40:58.481Z"
   },
   {
    "duration": 46,
    "start_time": "2022-05-13T17:40:58.503Z"
   },
   {
    "duration": 6,
    "start_time": "2022-05-13T17:40:58.552Z"
   },
   {
    "duration": 6,
    "start_time": "2022-05-13T17:40:58.560Z"
   },
   {
    "duration": 21,
    "start_time": "2022-05-13T17:40:58.568Z"
   },
   {
    "duration": 3,
    "start_time": "2022-05-13T17:40:58.591Z"
   },
   {
    "duration": 7282,
    "start_time": "2022-05-13T17:40:58.596Z"
   },
   {
    "duration": 5,
    "start_time": "2022-05-13T17:41:05.880Z"
   },
   {
    "duration": 10,
    "start_time": "2022-05-13T17:41:05.888Z"
   },
   {
    "duration": 12,
    "start_time": "2022-05-13T17:41:05.900Z"
   },
   {
    "duration": 24,
    "start_time": "2022-05-13T17:41:05.914Z"
   },
   {
    "duration": 198,
    "start_time": "2022-05-13T17:41:05.939Z"
   },
   {
    "duration": 1621,
    "start_time": "2022-05-13T17:44:03.409Z"
   },
   {
    "duration": 23,
    "start_time": "2022-05-13T17:44:05.032Z"
   },
   {
    "duration": 59,
    "start_time": "2022-05-13T17:44:05.057Z"
   },
   {
    "duration": 8,
    "start_time": "2022-05-13T17:44:05.133Z"
   },
   {
    "duration": 8,
    "start_time": "2022-05-13T17:44:05.143Z"
   },
   {
    "duration": 32,
    "start_time": "2022-05-13T17:44:05.153Z"
   },
   {
    "duration": 3,
    "start_time": "2022-05-13T17:44:05.188Z"
   },
   {
    "duration": 7357,
    "start_time": "2022-05-13T17:44:05.193Z"
   },
   {
    "duration": 5,
    "start_time": "2022-05-13T17:44:12.552Z"
   },
   {
    "duration": 24,
    "start_time": "2022-05-13T17:44:12.560Z"
   },
   {
    "duration": 30,
    "start_time": "2022-05-13T17:44:12.586Z"
   },
   {
    "duration": 125,
    "start_time": "2022-05-13T17:44:12.619Z"
   },
   {
    "duration": 104,
    "start_time": "2022-05-13T17:44:12.747Z"
   },
   {
    "duration": 3,
    "start_time": "2022-05-13T20:07:21.063Z"
   },
   {
    "duration": 109,
    "start_time": "2022-05-13T20:09:11.458Z"
   },
   {
    "duration": 4,
    "start_time": "2022-05-13T20:09:19.880Z"
   },
   {
    "duration": 5,
    "start_time": "2022-05-13T20:09:58.117Z"
   },
   {
    "duration": 4,
    "start_time": "2022-05-13T21:36:43.702Z"
   },
   {
    "duration": 11,
    "start_time": "2022-05-13T21:40:52.772Z"
   },
   {
    "duration": 11,
    "start_time": "2022-05-13T21:40:55.907Z"
   },
   {
    "duration": 11,
    "start_time": "2022-05-13T21:40:56.554Z"
   },
   {
    "duration": 11,
    "start_time": "2022-05-13T21:40:56.968Z"
   },
   {
    "duration": 9,
    "start_time": "2022-05-13T21:40:59.872Z"
   },
   {
    "duration": 10,
    "start_time": "2022-05-13T21:41:46.338Z"
   },
   {
    "duration": 4,
    "start_time": "2022-05-13T21:42:10.745Z"
   },
   {
    "duration": 10,
    "start_time": "2022-05-13T21:42:14.097Z"
   },
   {
    "duration": 1542,
    "start_time": "2022-05-13T21:42:25.657Z"
   },
   {
    "duration": 20,
    "start_time": "2022-05-13T21:42:27.201Z"
   },
   {
    "duration": 45,
    "start_time": "2022-05-13T21:42:27.223Z"
   },
   {
    "duration": 5,
    "start_time": "2022-05-13T21:42:27.271Z"
   },
   {
    "duration": 10,
    "start_time": "2022-05-13T21:42:27.277Z"
   },
   {
    "duration": 23,
    "start_time": "2022-05-13T21:42:27.288Z"
   },
   {
    "duration": 3,
    "start_time": "2022-05-13T21:42:27.333Z"
   },
   {
    "duration": 7063,
    "start_time": "2022-05-13T21:42:27.338Z"
   },
   {
    "duration": 4,
    "start_time": "2022-05-13T21:42:34.403Z"
   },
   {
    "duration": 7,
    "start_time": "2022-05-13T21:42:34.410Z"
   },
   {
    "duration": 14,
    "start_time": "2022-05-13T21:42:34.419Z"
   },
   {
    "duration": 4,
    "start_time": "2022-05-13T21:42:34.435Z"
   },
   {
    "duration": 93,
    "start_time": "2022-05-13T21:42:34.440Z"
   },
   {
    "duration": 103,
    "start_time": "2022-05-13T21:42:34.536Z"
   },
   {
    "duration": 13,
    "start_time": "2022-05-13T21:42:34.641Z"
   },
   {
    "duration": 1545,
    "start_time": "2022-05-13T21:49:31.897Z"
   },
   {
    "duration": 22,
    "start_time": "2022-05-13T21:49:33.444Z"
   },
   {
    "duration": 45,
    "start_time": "2022-05-13T21:49:33.468Z"
   },
   {
    "duration": 17,
    "start_time": "2022-05-13T21:49:33.516Z"
   },
   {
    "duration": 10,
    "start_time": "2022-05-13T21:49:33.535Z"
   },
   {
    "duration": 23,
    "start_time": "2022-05-13T21:49:33.547Z"
   },
   {
    "duration": 3,
    "start_time": "2022-05-13T21:49:33.572Z"
   },
   {
    "duration": 7021,
    "start_time": "2022-05-13T21:49:33.577Z"
   },
   {
    "duration": 4,
    "start_time": "2022-05-13T21:49:40.600Z"
   },
   {
    "duration": 6,
    "start_time": "2022-05-13T21:49:40.606Z"
   },
   {
    "duration": 13,
    "start_time": "2022-05-13T21:49:40.613Z"
   },
   {
    "duration": 3,
    "start_time": "2022-05-13T21:49:40.633Z"
   },
   {
    "duration": 17,
    "start_time": "2022-05-13T21:49:40.638Z"
   },
   {
    "duration": 102,
    "start_time": "2022-05-13T21:49:40.733Z"
   },
   {
    "duration": 411,
    "start_time": "2022-05-13T21:49:40.837Z"
   }
  ],
  "kernelspec": {
   "display_name": "Python 3 (ipykernel)",
   "language": "python",
   "name": "python3"
  },
  "language_info": {
   "codemirror_mode": {
    "name": "ipython",
    "version": 3
   },
   "file_extension": ".py",
   "mimetype": "text/x-python",
   "name": "python",
   "nbconvert_exporter": "python",
   "pygments_lexer": "ipython3",
   "version": "3.9.5"
  },
  "toc": {
   "base_numbering": 1,
   "nav_menu": {},
   "number_sections": true,
   "sideBar": true,
   "skip_h1_title": true,
   "title_cell": "Содержание",
   "title_sidebar": "Contents",
   "toc_cell": true,
   "toc_position": {},
   "toc_section_display": true,
   "toc_window_display": true
  }
 },
 "nbformat": 4,
 "nbformat_minor": 2
}
