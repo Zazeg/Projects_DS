{
 "cells": [
  {
   "cell_type": "markdown",
   "metadata": {
    "toc": true
   },
   "source": [
    "<h1>Содержание<span class=\"tocSkip\"></span></h1>\n",
    "<div class=\"toc\"><ul class=\"toc-item\"><li><span><a href=\"#Подготовка\" data-toc-modified-id=\"Подготовка-1\"><span class=\"toc-item-num\">1&nbsp;&nbsp;</span>Подготовка</a></span></li><li><span><a href=\"#Обучение\" data-toc-modified-id=\"Обучение-2\"><span class=\"toc-item-num\">2&nbsp;&nbsp;</span>Обучение</a></span><ul class=\"toc-item\"><li><span><a href=\"#Логистическая-регрессия\" data-toc-modified-id=\"Логистическая-регрессия-2.1\"><span class=\"toc-item-num\">2.1&nbsp;&nbsp;</span>Логистическая регрессия</a></span></li><li><span><a href=\"#Модель-SGDClassifier\" data-toc-modified-id=\"Модель-SGDClassifier-2.2\"><span class=\"toc-item-num\">2.2&nbsp;&nbsp;</span>Модель SGDClassifier</a></span></li><li><span><a href=\"#Модель-LinearSVC\" data-toc-modified-id=\"Модель-LinearSVC-2.3\"><span class=\"toc-item-num\">2.3&nbsp;&nbsp;</span>Модель LinearSVC</a></span></li></ul></li><li><span><a href=\"#Выводы\" data-toc-modified-id=\"Выводы-3\"><span class=\"toc-item-num\">3&nbsp;&nbsp;</span>Выводы</a></span></li><li><span><a href=\"#Чек-лист-проверки\" data-toc-modified-id=\"Чек-лист-проверки-4\"><span class=\"toc-item-num\">4&nbsp;&nbsp;</span>Чек-лист проверки</a></span></li></ul></div>"
   ]
  },
  {
   "cell_type": "markdown",
   "metadata": {},
   "source": [
    "## Подготовка"
   ]
  },
  {
   "cell_type": "code",
   "execution_count": 1,
   "metadata": {},
   "outputs": [
    {
     "name": "stderr",
     "output_type": "stream",
     "text": [
      "[nltk_data] Downloading package stopwords to /home/jovyan/nltk_data...\n",
      "[nltk_data]   Package stopwords is already up-to-date!\n"
     ]
    },
    {
     "data": {
      "text/plain": [
       "True"
      ]
     },
     "execution_count": 1,
     "metadata": {},
     "output_type": "execute_result"
    }
   ],
   "source": [
    "import pandas as pd\n",
    "import numpy as np\n",
    "import re\n",
    "import nltk\n",
    "\n",
    "from sklearn.linear_model import LogisticRegression, SGDClassifier\n",
    "from sklearn.svm import LinearSVC\n",
    "\n",
    "from sklearn.utils import resample\n",
    "from sklearn.model_selection import train_test_split, GridSearchCV, cross_val_score\n",
    "from sklearn.metrics import f1_score\n",
    "from sklearn.feature_extraction.text import TfidfVectorizer\n",
    "from nltk.corpus import stopwords\n",
    "from nltk.stem import WordNetLemmatizer \n",
    "\n",
    "import warnings\n",
    "warnings.filterwarnings('ignore')\n",
    "nltk.download('stopwords')"
   ]
  },
  {
   "cell_type": "code",
   "execution_count": 2,
   "metadata": {},
   "outputs": [
    {
     "data": {
      "text/html": [
       "<div>\n",
       "<style scoped>\n",
       "    .dataframe tbody tr th:only-of-type {\n",
       "        vertical-align: middle;\n",
       "    }\n",
       "\n",
       "    .dataframe tbody tr th {\n",
       "        vertical-align: top;\n",
       "    }\n",
       "\n",
       "    .dataframe thead th {\n",
       "        text-align: right;\n",
       "    }\n",
       "</style>\n",
       "<table border=\"1\" class=\"dataframe\">\n",
       "  <thead>\n",
       "    <tr style=\"text-align: right;\">\n",
       "      <th></th>\n",
       "      <th>text</th>\n",
       "      <th>toxic</th>\n",
       "    </tr>\n",
       "  </thead>\n",
       "  <tbody>\n",
       "    <tr>\n",
       "      <th>0</th>\n",
       "      <td>Explanation\\nWhy the edits made under my usern...</td>\n",
       "      <td>0</td>\n",
       "    </tr>\n",
       "    <tr>\n",
       "      <th>1</th>\n",
       "      <td>D'aww! He matches this background colour I'm s...</td>\n",
       "      <td>0</td>\n",
       "    </tr>\n",
       "    <tr>\n",
       "      <th>2</th>\n",
       "      <td>Hey man, I'm really not trying to edit war. It...</td>\n",
       "      <td>0</td>\n",
       "    </tr>\n",
       "    <tr>\n",
       "      <th>3</th>\n",
       "      <td>\"\\nMore\\nI can't make any real suggestions on ...</td>\n",
       "      <td>0</td>\n",
       "    </tr>\n",
       "    <tr>\n",
       "      <th>4</th>\n",
       "      <td>You, sir, are my hero. Any chance you remember...</td>\n",
       "      <td>0</td>\n",
       "    </tr>\n",
       "  </tbody>\n",
       "</table>\n",
       "</div>"
      ],
      "text/plain": [
       "                                                text  toxic\n",
       "0  Explanation\\nWhy the edits made under my usern...      0\n",
       "1  D'aww! He matches this background colour I'm s...      0\n",
       "2  Hey man, I'm really not trying to edit war. It...      0\n",
       "3  \"\\nMore\\nI can't make any real suggestions on ...      0\n",
       "4  You, sir, are my hero. Any chance you remember...      0"
      ]
     },
     "execution_count": 2,
     "metadata": {},
     "output_type": "execute_result"
    }
   ],
   "source": [
    "data = pd.read_csv('/datasets/toxic_comments.csv')\n",
    "data.head()"
   ]
  },
  {
   "cell_type": "code",
   "execution_count": 3,
   "metadata": {},
   "outputs": [
    {
     "name": "stdout",
     "output_type": "stream",
     "text": [
      "<class 'pandas.core.frame.DataFrame'>\n",
      "RangeIndex: 159571 entries, 0 to 159570\n",
      "Data columns (total 2 columns):\n",
      " #   Column  Non-Null Count   Dtype \n",
      "---  ------  --------------   ----- \n",
      " 0   text    159571 non-null  object\n",
      " 1   toxic   159571 non-null  int64 \n",
      "dtypes: int64(1), object(1)\n",
      "memory usage: 2.4+ MB\n"
     ]
    }
   ],
   "source": [
    "data.info()"
   ]
  },
  {
   "cell_type": "code",
   "execution_count": 4,
   "metadata": {},
   "outputs": [
    {
     "name": "stdout",
     "output_type": "stream",
     "text": [
      "0    143346\n",
      "1     16225\n",
      "Name: toxic, dtype: int64\n"
     ]
    }
   ],
   "source": [
    "tox = data['toxic'].value_counts()\n",
    "print(tox)"
   ]
  },
  {
   "cell_type": "code",
   "execution_count": 5,
   "metadata": {},
   "outputs": [
    {
     "name": "stdout",
     "output_type": "stream",
     "text": [
      "0    28773\n",
      "1     3141\n",
      "Name: toxic, dtype: int64\n"
     ]
    }
   ],
   "source": [
    "data = data.sample(frac=0.2).reset_index(drop=True)\n",
    "\n",
    "tox = data['toxic'].value_counts()\n",
    "print(tox)"
   ]
  },
  {
   "cell_type": "markdown",
   "metadata": {},
   "source": [
    "Данных много, однако классы несбалансированы. Уравнивать классы буду техникой downsampling."
   ]
  },
  {
   "cell_type": "code",
   "execution_count": 6,
   "metadata": {},
   "outputs": [
    {
     "name": "stdout",
     "output_type": "stream",
     "text": [
      "0    3141\n",
      "1    3141\n",
      "Name: toxic, dtype: int64\n"
     ]
    }
   ],
   "source": [
    "comm_pos = data[data['toxic'] == 0]\n",
    "comm_tox = data[data['toxic'] == 1]\n",
    "data_sample = resample(comm_pos, replace=False, n_samples=tox[1], random_state=12345)\n",
    "data_new = pd.concat([data_sample, comm_tox])\n",
    "print(data_new['toxic'].value_counts())"
   ]
  },
  {
   "cell_type": "markdown",
   "metadata": {},
   "source": [
    "Классы уравнены. Напишу функцию для лемматизации текста и функцию для очистки текста от лишних символов"
   ]
  },
  {
   "cell_type": "code",
   "execution_count": 7,
   "metadata": {},
   "outputs": [],
   "source": [
    "lemma = WordNetLemmatizer()\n",
    "def clear(text): \n",
    "    clear_text = re.sub(r'[^a-zA-Z]', ' ', text)\n",
    "    clear_text = clear_text.split()\n",
    "    clear_text = \" \".join(clear_text)\n",
    "    return clear_text\n",
    "\n",
    "def lemm_text(text):\n",
    "    word_list = nltk.word_tokenize(text)\n",
    "    lemma_text = ' '.join([lemma.lemmatize(w) for w in word_list])\n",
    "    return lemma_text"
   ]
  },
  {
   "cell_type": "code",
   "execution_count": 8,
   "metadata": {},
   "outputs": [
    {
     "data": {
      "text/html": [
       "<div>\n",
       "<style scoped>\n",
       "    .dataframe tbody tr th:only-of-type {\n",
       "        vertical-align: middle;\n",
       "    }\n",
       "\n",
       "    .dataframe tbody tr th {\n",
       "        vertical-align: top;\n",
       "    }\n",
       "\n",
       "    .dataframe thead th {\n",
       "        text-align: right;\n",
       "    }\n",
       "</style>\n",
       "<table border=\"1\" class=\"dataframe\">\n",
       "  <thead>\n",
       "    <tr style=\"text-align: right;\">\n",
       "      <th></th>\n",
       "      <th>toxic</th>\n",
       "      <th>lemm_text</th>\n",
       "    </tr>\n",
       "  </thead>\n",
       "  <tbody>\n",
       "    <tr>\n",
       "      <th>20323</th>\n",
       "      <td>0</td>\n",
       "      <td>GT Pro Series GT Cube is a separate game in ma...</td>\n",
       "    </tr>\n",
       "    <tr>\n",
       "      <th>21458</th>\n",
       "      <td>0</td>\n",
       "      <td>Any comment Yeah Buh bye</td>\n",
       "    </tr>\n",
       "    <tr>\n",
       "      <th>31490</th>\n",
       "      <td>0</td>\n",
       "      <td>User Nasrallah block Probable sockpuppet Dec UTC</td>\n",
       "    </tr>\n",
       "  </tbody>\n",
       "</table>\n",
       "</div>"
      ],
      "text/plain": [
       "       toxic                                          lemm_text\n",
       "20323      0  GT Pro Series GT Cube is a separate game in ma...\n",
       "21458      0                           Any comment Yeah Buh bye\n",
       "31490      0   User Nasrallah block Probable sockpuppet Dec UTC"
      ]
     },
     "metadata": {},
     "output_type": "display_data"
    }
   ],
   "source": [
    "data_new['text'] = data_new['text'].apply(clear)\n",
    "data_new['lemm_text'] = data_new['text'].apply(lemm_text)\n",
    "data_new = data_new.drop(['text'], axis=1)\n",
    "display(data_new.head(3))"
   ]
  },
  {
   "cell_type": "markdown",
   "metadata": {},
   "source": [
    "Выделение целевого признака и разделение данных на обучающую (корпус) и тестовую выборки"
   ]
  },
  {
   "cell_type": "code",
   "execution_count": 9,
   "metadata": {},
   "outputs": [],
   "source": [
    "features = data_new['lemm_text']\n",
    "target = data_new['toxic']\n",
    "features_train, features_test, target_train, target_test = train_test_split(features, target, \\\n",
    "                                                                            test_size=0.25, random_state = 54321)"
   ]
  },
  {
   "cell_type": "markdown",
   "metadata": {},
   "source": [
    "Для обучения моделей нужны признаки, создам их с помощью вычисления TF-IDF"
   ]
  },
  {
   "cell_type": "code",
   "execution_count": 10,
   "metadata": {},
   "outputs": [],
   "source": [
    "n_stopwords = set(stopwords.words('english'))\n",
    "count_tf_idf = TfidfVectorizer(stop_words=n_stopwords)\n",
    "count_tf_idf.fit(features_train)\n",
    "features_train = count_tf_idf.fit_transform(features_train).toarray()\n",
    "features_test = count_tf_idf.transform(features_test).toarray()"
   ]
  },
  {
   "cell_type": "markdown",
   "metadata": {},
   "source": [
    "Удаление больших и уже ненужных датафреймов"
   ]
  },
  {
   "cell_type": "code",
   "execution_count": 11,
   "metadata": {},
   "outputs": [],
   "source": [
    "del data\n",
    "del data_sample\n",
    "del comm_pos\n",
    "del data_new "
   ]
  },
  {
   "cell_type": "markdown",
   "metadata": {},
   "source": [
    "## Обучение"
   ]
  },
  {
   "cell_type": "code",
   "execution_count": 12,
   "metadata": {},
   "outputs": [],
   "source": [
    "f1_metric = {}"
   ]
  },
  {
   "cell_type": "markdown",
   "metadata": {},
   "source": [
    "### Логистическая регрессия"
   ]
  },
  {
   "cell_type": "code",
   "execution_count": 13,
   "metadata": {},
   "outputs": [
    {
     "name": "stdout",
     "output_type": "stream",
     "text": [
      "Метрика F1 на обучающей выборке: 0.9466268146883007\n"
     ]
    }
   ],
   "source": [
    "\n",
    "\n",
    "model_logist = LogisticRegression(solver='liblinear', random_state=12345)\n",
    "model_logist = model_logist.fit(features_train, target_train)\n",
    "\n",
    "predictions_train = model_logist.predict(features_train)\n",
    "f1_train_logist = f1_score(target_train, predictions_train)\n",
    "print('Метрика F1 на обучающей выборке:', f1_train_logist)"
   ]
  },
  {
   "cell_type": "code",
   "execution_count": 14,
   "metadata": {
    "scrolled": false
   },
   "outputs": [
    {
     "name": "stdout",
     "output_type": "stream",
     "text": [
      "Метрика F1 на тестовой выборке: 0.8655913978494625\n"
     ]
    }
   ],
   "source": [
    "predictions_test = model_logist.predict(features_test)\n",
    "f1_test_logist = f1_score(target_test, predictions_test)\n",
    "print('Метрика F1 на тестовой выборке:', f1_test_logist)"
   ]
  },
  {
   "cell_type": "code",
   "execution_count": 15,
   "metadata": {},
   "outputs": [],
   "source": [
    "f1_metric['LogisticRegression'] = [f1_train_logist, f1_test_logist]"
   ]
  },
  {
   "cell_type": "markdown",
   "metadata": {},
   "source": [
    "### Модель SGDClassifier"
   ]
  },
  {
   "cell_type": "code",
   "execution_count": 16,
   "metadata": {},
   "outputs": [
    {
     "name": "stdout",
     "output_type": "stream",
     "text": [
      "Метрика F1 на обучающей выборке: 0.9949516196886833\n"
     ]
    }
   ],
   "source": [
    "model_sgd = SGDClassifier(shuffle=True, random_state=42)\n",
    "model_sgd.fit(features_train, target_train)\n",
    "predictions = model_sgd.predict(features_train)\n",
    "f1_train_sgd = f1_score(target_train, predictions)\n",
    "print('Метрика F1 на обучающей выборке:', f1_train_sgd)"
   ]
  },
  {
   "cell_type": "code",
   "execution_count": 17,
   "metadata": {},
   "outputs": [
    {
     "name": "stdout",
     "output_type": "stream",
     "text": [
      "Метрика F1 на тестовой выборке: 0.8654891304347827\n"
     ]
    }
   ],
   "source": [
    "predictions_tes = model_sgd.predict(features_test)\n",
    "f1_test_sgd = f1_score(target_test, predictions_tes)\n",
    "print('Метрика F1 на тестовой выборке:', f1_test_sgd)"
   ]
  },
  {
   "cell_type": "code",
   "execution_count": 18,
   "metadata": {},
   "outputs": [],
   "source": [
    "f1_metric['SGDClassifier'] = [f1_train_sgd, f1_test_sgd]"
   ]
  },
  {
   "cell_type": "markdown",
   "metadata": {},
   "source": [
    "### Модель LinearSVC"
   ]
  },
  {
   "cell_type": "code",
   "execution_count": 19,
   "metadata": {},
   "outputs": [
    {
     "data": {
      "text/plain": [
       "0.9981080512928318"
      ]
     },
     "execution_count": 19,
     "metadata": {},
     "output_type": "execute_result"
    }
   ],
   "source": [
    "model_svc = LinearSVC()\n",
    "model_svc.fit(features_train, target_train)\n",
    "predictions1 = model_svc.predict(features_train)\n",
    "f1_train_svc = f1_score(target_train, predictions1)\n",
    "f1_train_svc"
   ]
  },
  {
   "cell_type": "code",
   "execution_count": 20,
   "metadata": {},
   "outputs": [
    {
     "name": "stdout",
     "output_type": "stream",
     "text": [
      "Метрика F1 на тестовой выборке: 0.8717259905977167\n"
     ]
    }
   ],
   "source": [
    "predictions2 = model_svc.predict(features_test)\n",
    "f1_test_svc = f1_score(target_test, predictions2)\n",
    "print('Метрика F1 на тестовой выборке:', f1_test_svc)"
   ]
  },
  {
   "cell_type": "code",
   "execution_count": 21,
   "metadata": {},
   "outputs": [],
   "source": [
    "f1_metric['LinearSVC'] = [f1_train_svc, f1_test_svc]"
   ]
  },
  {
   "cell_type": "markdown",
   "metadata": {},
   "source": [
    "## Выводы"
   ]
  },
  {
   "cell_type": "code",
   "execution_count": 22,
   "metadata": {},
   "outputs": [
    {
     "data": {
      "text/html": [
       "<div>\n",
       "<style scoped>\n",
       "    .dataframe tbody tr th:only-of-type {\n",
       "        vertical-align: middle;\n",
       "    }\n",
       "\n",
       "    .dataframe tbody tr th {\n",
       "        vertical-align: top;\n",
       "    }\n",
       "\n",
       "    .dataframe thead th {\n",
       "        text-align: right;\n",
       "    }\n",
       "</style>\n",
       "<table border=\"1\" class=\"dataframe\">\n",
       "  <thead>\n",
       "    <tr style=\"text-align: right;\">\n",
       "      <th></th>\n",
       "      <th>f1_train</th>\n",
       "      <th>f1_test</th>\n",
       "    </tr>\n",
       "  </thead>\n",
       "  <tbody>\n",
       "    <tr>\n",
       "      <th>LogisticRegression</th>\n",
       "      <td>0.946627</td>\n",
       "      <td>0.865591</td>\n",
       "    </tr>\n",
       "    <tr>\n",
       "      <th>SGDClassifier</th>\n",
       "      <td>0.994952</td>\n",
       "      <td>0.865489</td>\n",
       "    </tr>\n",
       "    <tr>\n",
       "      <th>LinearSVC</th>\n",
       "      <td>0.998108</td>\n",
       "      <td>0.871726</td>\n",
       "    </tr>\n",
       "  </tbody>\n",
       "</table>\n",
       "</div>"
      ],
      "text/plain": [
       "                    f1_train   f1_test\n",
       "LogisticRegression  0.946627  0.865591\n",
       "SGDClassifier       0.994952  0.865489\n",
       "LinearSVC           0.998108  0.871726"
      ]
     },
     "metadata": {},
     "output_type": "display_data"
    },
    {
     "data": {
      "text/plain": [
       "<matplotlib.collections.LineCollection at 0x7f065a852430>"
      ]
     },
     "execution_count": 22,
     "metadata": {},
     "output_type": "execute_result"
    },
    {
     "data": {
      "image/png": "[encoded data removed]",
      "text/plain": [
       "<Figure size 432x288 with 1 Axes>"
      ]
     },
     "metadata": {
      "needs_background": "light"
     },
     "output_type": "display_data"
    }
   ],
   "source": [
    "data_f1 = pd.DataFrame.from_dict(data=f1_metric, columns=['f1_train', 'f1_test'], orient='index')\n",
    "display(data_f1)\n",
    "data_f1.plot.bar(stacked=False).hlines(0.75, -5, 10, color='k')"
   ]
  },
  {
   "cell_type": "markdown",
   "metadata": {},
   "source": [
    "- Все три модели показали результат метрики F1 выше порога в 0.75.  \n",
    "- Лучшее значение метрики F1 на тестовых данных показала модель SGDClassifier.\n",
    "- Модели LogisticRegression и LinearSVC показали значение незначительно, но меньше.\n",
    "- Чем больше данных в обучении моделей участвует - тем выше значение их метрик. Если не уменьшать исследуемый датафрейм (я его уменьшал в 5 раз), то модели покажут значение метрики F1 в 0.88-0.90, что не сильно меньше."
   ]
  }
 ],
 "metadata": {
  "ExecuteTimeLog": [
   {
    "duration": 356,
    "start_time": "2022-07-01T20:01:51.755Z"
   },
   {
    "duration": 128,
    "start_time": "2022-07-01T20:02:44.971Z"
   },
   {
    "duration": 61,
    "start_time": "2022-07-01T20:03:22.713Z"
   },
   {
    "duration": 3328,
    "start_time": "2022-07-01T20:05:25.378Z"
   },
   {
    "duration": 39,
    "start_time": "2022-07-01T20:06:03.485Z"
   },
   {
    "duration": 385,
    "start_time": "2022-07-02T08:33:42.478Z"
   },
   {
    "duration": 2491,
    "start_time": "2022-07-02T08:33:42.865Z"
   },
   {
    "duration": 32,
    "start_time": "2022-07-02T08:33:45.358Z"
   },
   {
    "duration": 414,
    "start_time": "2022-07-02T16:23:58.854Z"
   },
   {
    "duration": 3414,
    "start_time": "2022-07-02T16:23:59.270Z"
   },
   {
    "duration": 31,
    "start_time": "2022-07-02T16:24:02.685Z"
   },
   {
    "duration": 1931,
    "start_time": "2022-07-02T17:40:32.488Z"
   },
   {
    "duration": 5,
    "start_time": "2022-07-02T17:41:19.689Z"
   },
   {
    "duration": 5,
    "start_time": "2022-07-02T18:14:21.191Z"
   },
   {
    "duration": 4,
    "start_time": "2022-07-02T18:23:47.550Z"
   },
   {
    "duration": 28,
    "start_time": "2022-07-02T18:26:51.280Z"
   },
   {
    "duration": 7,
    "start_time": "2022-07-02T18:28:55.597Z"
   },
   {
    "duration": 30,
    "start_time": "2022-07-02T18:30:20.025Z"
   },
   {
    "duration": 4,
    "start_time": "2022-07-02T18:54:00.583Z"
   },
   {
    "duration": 5,
    "start_time": "2022-07-02T18:57:27.450Z"
   },
   {
    "duration": 1251,
    "start_time": "2022-07-02T19:07:05.115Z"
   },
   {
    "duration": 4,
    "start_time": "2022-07-02T19:07:53.331Z"
   },
   {
    "duration": 18397,
    "start_time": "2022-07-02T19:07:59.066Z"
   },
   {
    "duration": 1623,
    "start_time": "2022-07-02T19:10:42.768Z"
   },
   {
    "duration": 859,
    "start_time": "2022-07-02T19:10:44.393Z"
   },
   {
    "duration": 34,
    "start_time": "2022-07-02T19:10:45.256Z"
   },
   {
    "duration": 5,
    "start_time": "2022-07-02T19:10:45.292Z"
   },
   {
    "duration": 48,
    "start_time": "2022-07-02T19:10:45.299Z"
   },
   {
    "duration": 5,
    "start_time": "2022-07-02T19:10:45.350Z"
   },
   {
    "duration": 17372,
    "start_time": "2022-07-02T19:10:45.357Z"
   },
   {
    "duration": 3,
    "start_time": "2022-07-02T19:48:59.125Z"
   },
   {
    "duration": 10,
    "start_time": "2022-07-02T19:52:17.250Z"
   },
   {
    "duration": 230,
    "start_time": "2022-07-02T19:53:58.080Z"
   },
   {
    "duration": 9,
    "start_time": "2022-07-02T20:01:17.012Z"
   },
   {
    "duration": 9,
    "start_time": "2022-07-02T20:03:09.296Z"
   },
   {
    "duration": 120,
    "start_time": "2022-07-02T20:03:11.659Z"
   },
   {
    "duration": 7,
    "start_time": "2022-07-02T20:04:22.672Z"
   },
   {
    "duration": 12,
    "start_time": "2022-07-02T20:04:31.306Z"
   },
   {
    "duration": 4991,
    "start_time": "2022-07-02T20:06:18.702Z"
   },
   {
    "duration": 10644,
    "start_time": "2022-07-02T20:16:09.405Z"
   },
   {
    "duration": 174,
    "start_time": "2022-07-02T20:17:31.070Z"
   },
   {
    "duration": 5141,
    "start_time": "2022-07-02T20:17:38.746Z"
   },
   {
    "duration": 826,
    "start_time": "2022-07-02T20:18:09.817Z"
   },
   {
    "duration": 11086,
    "start_time": "2022-07-02T20:34:17.163Z"
   },
   {
    "duration": 242,
    "start_time": "2022-07-02T20:34:29.814Z"
   },
   {
    "duration": 13670,
    "start_time": "2022-07-02T20:37:45.379Z"
   },
   {
    "duration": 282,
    "start_time": "2022-07-02T20:38:00.171Z"
   },
   {
    "duration": 1925,
    "start_time": "2022-07-03T08:11:28.876Z"
   },
   {
    "duration": 3687,
    "start_time": "2022-07-03T08:11:30.803Z"
   },
   {
    "duration": 38,
    "start_time": "2022-07-03T08:11:34.503Z"
   },
   {
    "duration": 5,
    "start_time": "2022-07-03T08:11:34.542Z"
   },
   {
    "duration": 88,
    "start_time": "2022-07-03T08:11:34.550Z"
   },
   {
    "duration": 4,
    "start_time": "2022-07-03T08:11:34.640Z"
   },
   {
    "duration": 24057,
    "start_time": "2022-07-03T08:11:34.648Z"
   },
   {
    "duration": 12,
    "start_time": "2022-07-03T08:11:58.710Z"
   },
   {
    "duration": 196,
    "start_time": "2022-07-03T08:11:58.724Z"
   },
   {
    "duration": 0,
    "start_time": "2022-07-03T08:11:58.921Z"
   },
   {
    "duration": 0,
    "start_time": "2022-07-03T08:11:58.923Z"
   },
   {
    "duration": 6053,
    "start_time": "2022-07-03T08:13:09.020Z"
   },
   {
    "duration": 14858,
    "start_time": "2022-07-03T08:13:36.113Z"
   },
   {
    "duration": 923,
    "start_time": "2022-07-03T08:13:56.876Z"
   },
   {
    "duration": 63,
    "start_time": "2022-07-03T08:32:45.682Z"
   },
   {
    "duration": 5154,
    "start_time": "2022-07-03T08:32:53.336Z"
   },
   {
    "duration": 3920,
    "start_time": "2022-07-03T08:32:58.496Z"
   },
   {
    "duration": 42,
    "start_time": "2022-07-03T08:33:02.418Z"
   },
   {
    "duration": 53,
    "start_time": "2022-07-03T08:33:02.480Z"
   },
   {
    "duration": 124,
    "start_time": "2022-07-03T08:33:02.535Z"
   },
   {
    "duration": 5,
    "start_time": "2022-07-03T08:33:02.662Z"
   },
   {
    "duration": 24063,
    "start_time": "2022-07-03T08:33:02.669Z"
   },
   {
    "duration": 8,
    "start_time": "2022-07-03T08:33:26.733Z"
   },
   {
    "duration": 5977,
    "start_time": "2022-07-03T08:33:26.743Z"
   },
   {
    "duration": 14391,
    "start_time": "2022-07-03T08:33:32.729Z"
   },
   {
    "duration": 939,
    "start_time": "2022-07-03T08:33:47.123Z"
   },
   {
    "duration": 5302,
    "start_time": "2022-07-03T08:37:39.095Z"
   },
   {
    "duration": 3930,
    "start_time": "2022-07-03T08:37:44.399Z"
   },
   {
    "duration": 51,
    "start_time": "2022-07-03T08:37:48.331Z"
   },
   {
    "duration": 41,
    "start_time": "2022-07-03T08:37:48.387Z"
   },
   {
    "duration": 64,
    "start_time": "2022-07-03T08:37:48.430Z"
   },
   {
    "duration": 9,
    "start_time": "2022-07-03T08:37:48.497Z"
   },
   {
    "duration": 24894,
    "start_time": "2022-07-03T08:37:48.509Z"
   },
   {
    "duration": 27,
    "start_time": "2022-07-03T08:38:13.408Z"
   },
   {
    "duration": 6686,
    "start_time": "2022-07-03T08:38:13.437Z"
   },
   {
    "duration": 15145,
    "start_time": "2022-07-03T08:38:20.125Z"
   },
   {
    "duration": 949,
    "start_time": "2022-07-03T08:38:35.284Z"
   },
   {
    "duration": 63,
    "start_time": "2022-07-03T08:42:51.085Z"
   },
   {
    "duration": 2201,
    "start_time": "2022-07-03T08:50:47.401Z"
   },
   {
    "duration": 3586,
    "start_time": "2022-07-03T08:50:49.605Z"
   },
   {
    "duration": 37,
    "start_time": "2022-07-03T08:50:53.192Z"
   },
   {
    "duration": 6,
    "start_time": "2022-07-03T08:50:53.230Z"
   },
   {
    "duration": 28,
    "start_time": "2022-07-03T08:50:53.238Z"
   },
   {
    "duration": 28,
    "start_time": "2022-07-03T08:50:53.268Z"
   },
   {
    "duration": 23,
    "start_time": "2022-07-03T08:50:53.298Z"
   },
   {
    "duration": 18706,
    "start_time": "2022-07-03T08:50:53.323Z"
   },
   {
    "duration": 9,
    "start_time": "2022-07-03T08:51:12.031Z"
   },
   {
    "duration": 4674,
    "start_time": "2022-07-03T08:51:12.042Z"
   },
   {
    "duration": 9972,
    "start_time": "2022-07-03T08:51:16.717Z"
   },
   {
    "duration": 680,
    "start_time": "2022-07-03T08:51:26.695Z"
   },
   {
    "duration": 1838,
    "start_time": "2022-07-03T08:57:47.913Z"
   },
   {
    "duration": 2656,
    "start_time": "2022-07-03T08:57:49.754Z"
   },
   {
    "duration": 52,
    "start_time": "2022-07-03T08:57:52.413Z"
   },
   {
    "duration": 15,
    "start_time": "2022-07-03T08:57:52.467Z"
   },
   {
    "duration": 36,
    "start_time": "2022-07-03T08:57:52.485Z"
   },
   {
    "duration": 32,
    "start_time": "2022-07-03T08:57:52.524Z"
   },
   {
    "duration": 17,
    "start_time": "2022-07-03T08:57:52.558Z"
   },
   {
    "duration": 16143,
    "start_time": "2022-07-03T08:57:52.578Z"
   },
   {
    "duration": 8,
    "start_time": "2022-07-03T08:58:08.723Z"
   },
   {
    "duration": 4277,
    "start_time": "2022-07-03T08:58:08.735Z"
   },
   {
    "duration": 52,
    "start_time": "2022-07-03T08:58:13.014Z"
   },
   {
    "duration": 0,
    "start_time": "2022-07-03T08:58:13.070Z"
   },
   {
    "duration": 0,
    "start_time": "2022-07-03T08:58:13.073Z"
   },
   {
    "duration": 0,
    "start_time": "2022-07-03T08:58:13.075Z"
   },
   {
    "duration": 10,
    "start_time": "2022-07-03T08:58:17.707Z"
   },
   {
    "duration": 8793,
    "start_time": "2022-07-03T08:58:20.068Z"
   },
   {
    "duration": 567,
    "start_time": "2022-07-03T08:58:30.710Z"
   },
   {
    "duration": 1784,
    "start_time": "2022-07-03T09:07:03.671Z"
   },
   {
    "duration": 2679,
    "start_time": "2022-07-03T09:07:05.457Z"
   },
   {
    "duration": 47,
    "start_time": "2022-07-03T09:07:08.146Z"
   },
   {
    "duration": 21,
    "start_time": "2022-07-03T09:07:08.196Z"
   },
   {
    "duration": 38,
    "start_time": "2022-07-03T09:07:08.221Z"
   },
   {
    "duration": 34,
    "start_time": "2022-07-03T09:07:08.261Z"
   },
   {
    "duration": 5,
    "start_time": "2022-07-03T09:07:08.297Z"
   },
   {
    "duration": 14851,
    "start_time": "2022-07-03T09:07:08.305Z"
   },
   {
    "duration": 15,
    "start_time": "2022-07-03T09:07:23.163Z"
   },
   {
    "duration": 4158,
    "start_time": "2022-07-03T09:07:23.180Z"
   },
   {
    "duration": 12,
    "start_time": "2022-07-03T09:07:27.340Z"
   },
   {
    "duration": 7218,
    "start_time": "2022-07-03T09:07:27.355Z"
   },
   {
    "duration": 604,
    "start_time": "2022-07-03T09:07:34.575Z"
   },
   {
    "duration": 2222,
    "start_time": "2022-07-03T09:12:00.074Z"
   },
   {
    "duration": 2837,
    "start_time": "2022-07-03T09:12:02.299Z"
   },
   {
    "duration": 48,
    "start_time": "2022-07-03T09:12:05.138Z"
   },
   {
    "duration": 55,
    "start_time": "2022-07-03T09:12:05.191Z"
   },
   {
    "duration": 74,
    "start_time": "2022-07-03T09:12:05.248Z"
   },
   {
    "duration": 38,
    "start_time": "2022-07-03T09:12:05.325Z"
   },
   {
    "duration": 9,
    "start_time": "2022-07-03T09:12:05.365Z"
   },
   {
    "duration": 15392,
    "start_time": "2022-07-03T09:12:05.379Z"
   },
   {
    "duration": 11,
    "start_time": "2022-07-03T09:12:20.776Z"
   },
   {
    "duration": 4313,
    "start_time": "2022-07-03T09:12:20.790Z"
   },
   {
    "duration": 9,
    "start_time": "2022-07-03T09:12:25.105Z"
   },
   {
    "duration": 8145,
    "start_time": "2022-07-03T09:12:25.115Z"
   },
   {
    "duration": 604,
    "start_time": "2022-07-03T09:12:33.262Z"
   },
   {
    "duration": 8266,
    "start_time": "2022-07-03T10:03:33.633Z"
   },
   {
    "duration": 6406,
    "start_time": "2022-07-03T10:03:41.910Z"
   },
   {
    "duration": 43,
    "start_time": "2022-07-03T10:03:48.319Z"
   },
   {
    "duration": 66,
    "start_time": "2022-07-03T10:03:48.364Z"
   },
   {
    "duration": 158,
    "start_time": "2022-07-03T10:03:48.435Z"
   },
   {
    "duration": 119,
    "start_time": "2022-07-03T10:03:48.603Z"
   },
   {
    "duration": 52,
    "start_time": "2022-07-03T10:03:48.724Z"
   },
   {
    "duration": 25230,
    "start_time": "2022-07-03T10:03:48.792Z"
   },
   {
    "duration": 13,
    "start_time": "2022-07-03T10:04:14.025Z"
   },
   {
    "duration": 5676,
    "start_time": "2022-07-03T10:04:14.041Z"
   },
   {
    "duration": 18,
    "start_time": "2022-07-03T10:04:19.720Z"
   },
   {
    "duration": 10453,
    "start_time": "2022-07-03T10:04:19.745Z"
   },
   {
    "duration": 771,
    "start_time": "2022-07-03T10:04:30.206Z"
   },
   {
    "duration": 20,
    "start_time": "2022-07-03T10:08:27.995Z"
   },
   {
    "duration": 10642,
    "start_time": "2022-07-03T10:11:07.689Z"
   },
   {
    "duration": 5080,
    "start_time": "2022-07-03T10:11:18.334Z"
   },
   {
    "duration": 39,
    "start_time": "2022-07-03T10:11:23.421Z"
   },
   {
    "duration": 10,
    "start_time": "2022-07-03T10:11:23.462Z"
   },
   {
    "duration": 128,
    "start_time": "2022-07-03T10:11:23.474Z"
   },
   {
    "duration": 67,
    "start_time": "2022-07-03T10:11:23.604Z"
   },
   {
    "duration": 25,
    "start_time": "2022-07-03T10:11:23.673Z"
   },
   {
    "duration": 24451,
    "start_time": "2022-07-03T10:11:23.700Z"
   },
   {
    "duration": 32,
    "start_time": "2022-07-03T10:11:48.160Z"
   },
   {
    "duration": 5826,
    "start_time": "2022-07-03T10:11:48.201Z"
   },
   {
    "duration": 15,
    "start_time": "2022-07-03T10:11:54.031Z"
   },
   {
    "duration": 10891,
    "start_time": "2022-07-03T10:11:54.064Z"
   },
   {
    "duration": 796,
    "start_time": "2022-07-03T10:12:04.968Z"
   },
   {
    "duration": 123,
    "start_time": "2022-07-03T12:00:58.217Z"
   },
   {
    "duration": 86,
    "start_time": "2022-07-03T12:01:09.947Z"
   },
   {
    "duration": 3383,
    "start_time": "2022-07-03T12:01:25.328Z"
   },
   {
    "duration": 5295,
    "start_time": "2022-07-03T12:01:28.715Z"
   },
   {
    "duration": 51,
    "start_time": "2022-07-03T12:01:34.013Z"
   },
   {
    "duration": 44,
    "start_time": "2022-07-03T12:01:34.079Z"
   },
   {
    "duration": 73,
    "start_time": "2022-07-03T12:01:34.126Z"
   },
   {
    "duration": 64,
    "start_time": "2022-07-03T12:01:34.202Z"
   },
   {
    "duration": 18,
    "start_time": "2022-07-03T12:01:34.269Z"
   },
   {
    "duration": 24411,
    "start_time": "2022-07-03T12:01:34.289Z"
   },
   {
    "duration": 16,
    "start_time": "2022-07-03T12:01:58.707Z"
   },
   {
    "duration": 6419,
    "start_time": "2022-07-03T12:01:58.727Z"
   },
   {
    "duration": 9,
    "start_time": "2022-07-03T12:02:05.149Z"
   },
   {
    "duration": 11846,
    "start_time": "2022-07-03T12:02:05.160Z"
   },
   {
    "duration": 779,
    "start_time": "2022-07-03T12:02:17.011Z"
   },
   {
    "duration": 6844,
    "start_time": "2022-07-03T12:12:39.770Z"
   },
   {
    "duration": 4514,
    "start_time": "2022-07-03T12:12:46.616Z"
   },
   {
    "duration": 59,
    "start_time": "2022-07-03T12:12:51.132Z"
   },
   {
    "duration": 36,
    "start_time": "2022-07-03T12:12:51.195Z"
   },
   {
    "duration": 45,
    "start_time": "2022-07-03T12:12:51.235Z"
   },
   {
    "duration": 84,
    "start_time": "2022-07-03T12:12:51.287Z"
   },
   {
    "duration": 15,
    "start_time": "2022-07-03T12:12:51.380Z"
   },
   {
    "duration": 21150,
    "start_time": "2022-07-03T12:12:51.405Z"
   },
   {
    "duration": 21,
    "start_time": "2022-07-03T12:13:12.557Z"
   },
   {
    "duration": 5438,
    "start_time": "2022-07-03T12:13:12.589Z"
   },
   {
    "duration": 8,
    "start_time": "2022-07-03T12:13:18.029Z"
   },
   {
    "duration": 9872,
    "start_time": "2022-07-03T12:13:18.039Z"
   },
   {
    "duration": 687,
    "start_time": "2022-07-03T12:13:27.921Z"
   },
   {
    "duration": 2112,
    "start_time": "2022-07-03T12:17:08.441Z"
   },
   {
    "duration": 1166,
    "start_time": "2022-07-03T12:17:10.560Z"
   },
   {
    "duration": 68,
    "start_time": "2022-07-03T12:17:11.738Z"
   },
   {
    "duration": 33,
    "start_time": "2022-07-03T12:17:11.812Z"
   },
   {
    "duration": 103,
    "start_time": "2022-07-03T12:17:11.847Z"
   },
   {
    "duration": 312,
    "start_time": "2022-07-03T12:17:11.957Z"
   },
   {
    "duration": 0,
    "start_time": "2022-07-03T12:17:12.272Z"
   },
   {
    "duration": 0,
    "start_time": "2022-07-03T12:17:12.273Z"
   },
   {
    "duration": 0,
    "start_time": "2022-07-03T12:17:12.279Z"
   },
   {
    "duration": 1,
    "start_time": "2022-07-03T12:17:12.279Z"
   },
   {
    "duration": 0,
    "start_time": "2022-07-03T12:17:12.281Z"
   },
   {
    "duration": 0,
    "start_time": "2022-07-03T12:17:12.282Z"
   },
   {
    "duration": 0,
    "start_time": "2022-07-03T12:17:12.283Z"
   },
   {
    "duration": 0,
    "start_time": "2022-07-03T12:17:12.284Z"
   },
   {
    "duration": 2125,
    "start_time": "2022-07-03T12:17:47.046Z"
   },
   {
    "duration": 1192,
    "start_time": "2022-07-03T12:17:49.178Z"
   },
   {
    "duration": 47,
    "start_time": "2022-07-03T12:17:50.374Z"
   },
   {
    "duration": 10,
    "start_time": "2022-07-03T12:17:50.426Z"
   },
   {
    "duration": 12,
    "start_time": "2022-07-03T12:17:50.439Z"
   },
   {
    "duration": 242,
    "start_time": "2022-07-03T12:17:50.456Z"
   },
   {
    "duration": 0,
    "start_time": "2022-07-03T12:17:50.702Z"
   },
   {
    "duration": 0,
    "start_time": "2022-07-03T12:17:50.707Z"
   },
   {
    "duration": 0,
    "start_time": "2022-07-03T12:17:50.709Z"
   },
   {
    "duration": 0,
    "start_time": "2022-07-03T12:17:50.711Z"
   },
   {
    "duration": 0,
    "start_time": "2022-07-03T12:17:50.723Z"
   },
   {
    "duration": 0,
    "start_time": "2022-07-03T12:17:50.725Z"
   },
   {
    "duration": 0,
    "start_time": "2022-07-03T12:17:50.727Z"
   },
   {
    "duration": 0,
    "start_time": "2022-07-03T12:17:50.728Z"
   },
   {
    "duration": 2566,
    "start_time": "2022-07-03T12:18:41.978Z"
   },
   {
    "duration": 1126,
    "start_time": "2022-07-03T12:18:44.547Z"
   },
   {
    "duration": 47,
    "start_time": "2022-07-03T12:18:45.680Z"
   },
   {
    "duration": 37,
    "start_time": "2022-07-03T12:18:45.729Z"
   },
   {
    "duration": 21,
    "start_time": "2022-07-03T12:18:45.776Z"
   },
   {
    "duration": 44,
    "start_time": "2022-07-03T12:18:45.799Z"
   },
   {
    "duration": 83,
    "start_time": "2022-07-03T12:18:45.845Z"
   },
   {
    "duration": 17218,
    "start_time": "2022-07-03T12:18:45.931Z"
   },
   {
    "duration": 27,
    "start_time": "2022-07-03T12:19:03.151Z"
   },
   {
    "duration": 4141,
    "start_time": "2022-07-03T12:19:03.192Z"
   },
   {
    "duration": 7,
    "start_time": "2022-07-03T12:19:07.336Z"
   },
   {
    "duration": 7659,
    "start_time": "2022-07-03T12:19:07.346Z"
   },
   {
    "duration": 598,
    "start_time": "2022-07-03T12:19:15.007Z"
   },
   {
    "duration": 2629,
    "start_time": "2022-07-03T12:29:25.489Z"
   },
   {
    "duration": 4224,
    "start_time": "2022-07-03T12:29:28.121Z"
   },
   {
    "duration": 52,
    "start_time": "2022-07-03T12:29:32.347Z"
   },
   {
    "duration": 88,
    "start_time": "2022-07-03T12:29:32.402Z"
   },
   {
    "duration": 66,
    "start_time": "2022-07-03T12:29:32.492Z"
   },
   {
    "duration": 73,
    "start_time": "2022-07-03T12:29:32.569Z"
   },
   {
    "duration": 85,
    "start_time": "2022-07-03T12:29:32.646Z"
   },
   {
    "duration": 18291,
    "start_time": "2022-07-03T12:29:32.733Z"
   },
   {
    "duration": 9,
    "start_time": "2022-07-03T12:29:51.026Z"
   },
   {
    "duration": 4278,
    "start_time": "2022-07-03T12:29:51.038Z"
   },
   {
    "duration": 9,
    "start_time": "2022-07-03T12:29:55.318Z"
   },
   {
    "duration": 6877,
    "start_time": "2022-07-03T12:29:55.329Z"
   },
   {
    "duration": 654,
    "start_time": "2022-07-03T12:30:02.222Z"
   },
   {
    "duration": 24869,
    "start_time": "2022-07-03T12:30:02.879Z"
   },
   {
    "duration": 25118,
    "start_time": "2022-07-03T12:30:55.281Z"
   },
   {
    "duration": 2203,
    "start_time": "2022-07-03T12:34:22.343Z"
   },
   {
    "duration": 1269,
    "start_time": "2022-07-03T12:34:24.549Z"
   },
   {
    "duration": 53,
    "start_time": "2022-07-03T12:34:25.821Z"
   },
   {
    "duration": 226,
    "start_time": "2022-07-03T12:34:25.876Z"
   },
   {
    "duration": 169,
    "start_time": "2022-07-03T12:34:26.105Z"
   },
   {
    "duration": 124,
    "start_time": "2022-07-03T12:34:26.276Z"
   },
   {
    "duration": 32,
    "start_time": "2022-07-03T12:34:26.402Z"
   },
   {
    "duration": 23600,
    "start_time": "2022-07-03T12:34:26.436Z"
   },
   {
    "duration": 25,
    "start_time": "2022-07-03T12:34:50.038Z"
   },
   {
    "duration": 5885,
    "start_time": "2022-07-03T12:34:50.076Z"
   },
   {
    "duration": 23,
    "start_time": "2022-07-03T12:34:55.995Z"
   },
   {
    "duration": 12850,
    "start_time": "2022-07-03T12:34:56.020Z"
   },
   {
    "duration": 791,
    "start_time": "2022-07-03T12:35:08.884Z"
   },
   {
    "duration": 50119,
    "start_time": "2022-07-03T12:35:09.679Z"
   },
   {
    "duration": 1998,
    "start_time": "2022-07-03T12:42:56.898Z"
   },
   {
    "duration": 3434,
    "start_time": "2022-07-03T12:42:58.899Z"
   },
   {
    "duration": 54,
    "start_time": "2022-07-03T12:43:02.335Z"
   },
   {
    "duration": 42,
    "start_time": "2022-07-03T12:43:02.391Z"
   },
   {
    "duration": 63,
    "start_time": "2022-07-03T12:43:02.439Z"
   },
   {
    "duration": 43,
    "start_time": "2022-07-03T12:43:02.505Z"
   },
   {
    "duration": 16,
    "start_time": "2022-07-03T12:43:02.550Z"
   },
   {
    "duration": 20750,
    "start_time": "2022-07-03T12:43:02.576Z"
   },
   {
    "duration": 12,
    "start_time": "2022-07-03T12:43:23.333Z"
   },
   {
    "duration": 5640,
    "start_time": "2022-07-03T12:43:23.348Z"
   },
   {
    "duration": 18,
    "start_time": "2022-07-03T12:43:28.992Z"
   },
   {
    "duration": 12173,
    "start_time": "2022-07-03T12:43:29.013Z"
   },
   {
    "duration": 871,
    "start_time": "2022-07-03T12:43:41.188Z"
   },
   {
    "duration": 1921,
    "start_time": "2022-07-03T12:48:56.916Z"
   },
   {
    "duration": 3258,
    "start_time": "2022-07-03T12:48:58.839Z"
   },
   {
    "duration": 39,
    "start_time": "2022-07-03T12:49:02.099Z"
   },
   {
    "duration": 64,
    "start_time": "2022-07-03T12:49:02.141Z"
   },
   {
    "duration": 81,
    "start_time": "2022-07-03T12:49:02.210Z"
   },
   {
    "duration": 71,
    "start_time": "2022-07-03T12:49:02.293Z"
   },
   {
    "duration": 57,
    "start_time": "2022-07-03T12:49:02.366Z"
   },
   {
    "duration": 17871,
    "start_time": "2022-07-03T12:49:02.425Z"
   },
   {
    "duration": 14,
    "start_time": "2022-07-03T12:49:20.299Z"
   },
   {
    "duration": 5110,
    "start_time": "2022-07-03T12:49:20.317Z"
   },
   {
    "duration": 12,
    "start_time": "2022-07-03T12:49:25.428Z"
   },
   {
    "duration": 10001,
    "start_time": "2022-07-03T12:49:25.454Z"
   },
   {
    "duration": 708,
    "start_time": "2022-07-03T12:49:35.464Z"
   },
   {
    "duration": 1769,
    "start_time": "2022-07-03T12:58:27.676Z"
   },
   {
    "duration": 2880,
    "start_time": "2022-07-03T12:58:29.447Z"
   },
   {
    "duration": 46,
    "start_time": "2022-07-03T12:58:32.330Z"
   },
   {
    "duration": 19,
    "start_time": "2022-07-03T12:58:32.378Z"
   },
   {
    "duration": 54,
    "start_time": "2022-07-03T12:58:32.400Z"
   },
   {
    "duration": 35,
    "start_time": "2022-07-03T12:58:32.456Z"
   },
   {
    "duration": 6,
    "start_time": "2022-07-03T12:58:32.494Z"
   },
   {
    "duration": 19982,
    "start_time": "2022-07-03T12:58:32.502Z"
   },
   {
    "duration": 13,
    "start_time": "2022-07-03T12:58:52.487Z"
   },
   {
    "duration": 4878,
    "start_time": "2022-07-03T12:58:52.502Z"
   },
   {
    "duration": 11,
    "start_time": "2022-07-03T12:58:57.382Z"
   },
   {
    "duration": 10767,
    "start_time": "2022-07-03T12:58:57.396Z"
   },
   {
    "duration": 699,
    "start_time": "2022-07-03T12:59:08.164Z"
   },
   {
    "duration": 2062,
    "start_time": "2022-07-03T13:01:19.431Z"
   },
   {
    "duration": 2944,
    "start_time": "2022-07-03T13:01:21.496Z"
   },
   {
    "duration": 44,
    "start_time": "2022-07-03T13:01:24.442Z"
   },
   {
    "duration": 7,
    "start_time": "2022-07-03T13:01:24.489Z"
   },
   {
    "duration": 43,
    "start_time": "2022-07-03T13:01:24.498Z"
   },
   {
    "duration": 38,
    "start_time": "2022-07-03T13:01:24.543Z"
   },
   {
    "duration": 8,
    "start_time": "2022-07-03T13:01:24.584Z"
   },
   {
    "duration": 17636,
    "start_time": "2022-07-03T13:01:24.594Z"
   },
   {
    "duration": 9,
    "start_time": "2022-07-03T13:01:42.232Z"
   },
   {
    "duration": 4933,
    "start_time": "2022-07-03T13:01:42.244Z"
   },
   {
    "duration": 13,
    "start_time": "2022-07-03T13:01:47.179Z"
   },
   {
    "duration": 8968,
    "start_time": "2022-07-03T13:01:47.194Z"
   },
   {
    "duration": 700,
    "start_time": "2022-07-03T13:01:56.164Z"
   },
   {
    "duration": 1667,
    "start_time": "2022-07-03T16:59:39.313Z"
   },
   {
    "duration": 2617,
    "start_time": "2022-07-03T16:59:40.982Z"
   },
   {
    "duration": 39,
    "start_time": "2022-07-03T16:59:43.601Z"
   },
   {
    "duration": 18,
    "start_time": "2022-07-03T16:59:43.642Z"
   },
   {
    "duration": 36,
    "start_time": "2022-07-03T16:59:43.662Z"
   },
   {
    "duration": 25,
    "start_time": "2022-07-03T16:59:43.701Z"
   },
   {
    "duration": 11,
    "start_time": "2022-07-03T16:59:43.727Z"
   },
   {
    "duration": 15857,
    "start_time": "2022-07-03T16:59:43.740Z"
   },
   {
    "duration": 11,
    "start_time": "2022-07-03T16:59:59.600Z"
   },
   {
    "duration": 4751,
    "start_time": "2022-07-03T16:59:59.614Z"
   },
   {
    "duration": 12,
    "start_time": "2022-07-03T17:00:04.366Z"
   },
   {
    "duration": 10047,
    "start_time": "2022-07-03T17:00:04.380Z"
   },
   {
    "duration": 806,
    "start_time": "2022-07-03T17:00:14.429Z"
   },
   {
    "duration": 1675,
    "start_time": "2022-07-03T17:01:50.178Z"
   },
   {
    "duration": 2493,
    "start_time": "2022-07-03T17:01:51.855Z"
   },
   {
    "duration": 35,
    "start_time": "2022-07-03T17:01:54.350Z"
   },
   {
    "duration": 12,
    "start_time": "2022-07-03T17:01:54.389Z"
   },
   {
    "duration": 48,
    "start_time": "2022-07-03T17:01:54.403Z"
   },
   {
    "duration": 34,
    "start_time": "2022-07-03T17:01:54.453Z"
   },
   {
    "duration": 8,
    "start_time": "2022-07-03T17:01:54.489Z"
   },
   {
    "duration": 15897,
    "start_time": "2022-07-03T17:01:54.498Z"
   },
   {
    "duration": 10,
    "start_time": "2022-07-03T17:02:10.397Z"
   },
   {
    "duration": 4507,
    "start_time": "2022-07-03T17:02:10.410Z"
   },
   {
    "duration": 24,
    "start_time": "2022-07-03T17:02:14.918Z"
   },
   {
    "duration": 10199,
    "start_time": "2022-07-03T17:02:14.944Z"
   },
   {
    "duration": 797,
    "start_time": "2022-07-03T17:02:25.146Z"
   },
   {
    "duration": 1671,
    "start_time": "2022-07-03T17:04:51.112Z"
   },
   {
    "duration": 1677,
    "start_time": "2022-07-03T17:12:56.313Z"
   },
   {
    "duration": 2290,
    "start_time": "2022-07-03T17:12:57.992Z"
   },
   {
    "duration": 38,
    "start_time": "2022-07-03T17:13:00.285Z"
   },
   {
    "duration": 6,
    "start_time": "2022-07-03T17:13:00.326Z"
   },
   {
    "duration": 48,
    "start_time": "2022-07-03T17:13:00.333Z"
   },
   {
    "duration": 26,
    "start_time": "2022-07-03T17:13:00.383Z"
   },
   {
    "duration": 5,
    "start_time": "2022-07-03T17:13:00.411Z"
   },
   {
    "duration": 15863,
    "start_time": "2022-07-03T17:13:00.426Z"
   },
   {
    "duration": 14,
    "start_time": "2022-07-03T17:13:16.290Z"
   },
   {
    "duration": 4423,
    "start_time": "2022-07-03T17:13:16.308Z"
   },
   {
    "duration": 12,
    "start_time": "2022-07-03T17:13:20.733Z"
   },
   {
    "duration": 8691,
    "start_time": "2022-07-03T17:13:20.747Z"
   },
   {
    "duration": 890,
    "start_time": "2022-07-03T17:13:29.440Z"
   },
   {
    "duration": 1560,
    "start_time": "2022-07-03T17:17:32.625Z"
   },
   {
    "duration": 2303,
    "start_time": "2022-07-03T17:17:34.187Z"
   },
   {
    "duration": 38,
    "start_time": "2022-07-03T17:17:36.495Z"
   },
   {
    "duration": 5,
    "start_time": "2022-07-03T17:17:36.534Z"
   },
   {
    "duration": 31,
    "start_time": "2022-07-03T17:17:36.541Z"
   },
   {
    "duration": 23,
    "start_time": "2022-07-03T17:17:36.573Z"
   },
   {
    "duration": 31,
    "start_time": "2022-07-03T17:17:36.597Z"
   },
   {
    "duration": 15082,
    "start_time": "2022-07-03T17:17:36.630Z"
   },
   {
    "duration": 11,
    "start_time": "2022-07-03T17:17:51.715Z"
   },
   {
    "duration": 4220,
    "start_time": "2022-07-03T17:17:51.728Z"
   },
   {
    "duration": 10,
    "start_time": "2022-07-03T17:17:55.950Z"
   },
   {
    "duration": 9575,
    "start_time": "2022-07-03T17:17:55.961Z"
   },
   {
    "duration": 789,
    "start_time": "2022-07-03T17:18:05.538Z"
   },
   {
    "duration": 6118,
    "start_time": "2022-07-03T17:18:06.330Z"
   },
   {
    "duration": 39919,
    "start_time": "2022-07-03T17:20:11.330Z"
   },
   {
    "duration": 298,
    "start_time": "2022-07-03T17:30:11.143Z"
   },
   {
    "duration": 1823,
    "start_time": "2022-07-03T17:36:41.923Z"
   },
   {
    "duration": 997,
    "start_time": "2022-07-03T17:36:43.748Z"
   },
   {
    "duration": 45,
    "start_time": "2022-07-03T17:36:44.747Z"
   },
   {
    "duration": 6,
    "start_time": "2022-07-03T17:36:44.794Z"
   },
   {
    "duration": 59,
    "start_time": "2022-07-03T17:36:44.802Z"
   },
   {
    "duration": 26,
    "start_time": "2022-07-03T17:36:44.863Z"
   },
   {
    "duration": 4,
    "start_time": "2022-07-03T17:36:44.891Z"
   },
   {
    "duration": 16697,
    "start_time": "2022-07-03T17:36:44.898Z"
   },
   {
    "duration": 12,
    "start_time": "2022-07-03T17:37:01.597Z"
   },
   {
    "duration": 4761,
    "start_time": "2022-07-03T17:37:01.627Z"
   },
   {
    "duration": 12,
    "start_time": "2022-07-03T17:37:06.390Z"
   },
   {
    "duration": 6,
    "start_time": "2022-07-03T17:37:06.404Z"
   },
   {
    "duration": 10845,
    "start_time": "2022-07-03T17:37:06.412Z"
   },
   {
    "duration": 979,
    "start_time": "2022-07-03T17:37:17.261Z"
   },
   {
    "duration": 3,
    "start_time": "2022-07-03T17:37:18.253Z"
   },
   {
    "duration": 40892,
    "start_time": "2022-07-03T17:37:18.258Z"
   },
   {
    "duration": 0,
    "start_time": "2022-07-03T17:37:59.155Z"
   },
   {
    "duration": 1,
    "start_time": "2022-07-03T17:37:59.156Z"
   },
   {
    "duration": 0,
    "start_time": "2022-07-03T17:37:59.157Z"
   },
   {
    "duration": 0,
    "start_time": "2022-07-03T17:37:59.158Z"
   },
   {
    "duration": 0,
    "start_time": "2022-07-03T17:37:59.160Z"
   },
   {
    "duration": 0,
    "start_time": "2022-07-03T17:37:59.162Z"
   },
   {
    "duration": 39118,
    "start_time": "2022-07-03T17:38:13.410Z"
   },
   {
    "duration": 263,
    "start_time": "2022-07-03T17:38:55.288Z"
   },
   {
    "duration": 3,
    "start_time": "2022-07-03T17:39:03.316Z"
   },
   {
    "duration": 6409,
    "start_time": "2022-07-03T17:39:08.923Z"
   },
   {
    "duration": 297,
    "start_time": "2022-07-03T17:39:18.045Z"
   },
   {
    "duration": 4,
    "start_time": "2022-07-03T17:39:21.887Z"
   },
   {
    "duration": 9,
    "start_time": "2022-07-03T17:39:24.991Z"
   },
   {
    "duration": 705,
    "start_time": "2022-07-03T17:41:47.686Z"
   },
   {
    "duration": 23,
    "start_time": "2022-07-03T17:44:06.753Z"
   },
   {
    "duration": 1776,
    "start_time": "2022-07-03T17:44:14.602Z"
   },
   {
    "duration": 903,
    "start_time": "2022-07-03T17:44:16.380Z"
   },
   {
    "duration": 57,
    "start_time": "2022-07-03T17:44:17.285Z"
   },
   {
    "duration": 5,
    "start_time": "2022-07-03T17:44:17.343Z"
   },
   {
    "duration": 10,
    "start_time": "2022-07-03T17:44:17.351Z"
   },
   {
    "duration": 141,
    "start_time": "2022-07-03T17:44:17.363Z"
   },
   {
    "duration": 0,
    "start_time": "2022-07-03T17:44:17.506Z"
   },
   {
    "duration": 0,
    "start_time": "2022-07-03T17:44:17.508Z"
   },
   {
    "duration": 0,
    "start_time": "2022-07-03T17:44:17.509Z"
   },
   {
    "duration": 0,
    "start_time": "2022-07-03T17:44:17.510Z"
   },
   {
    "duration": 0,
    "start_time": "2022-07-03T17:44:17.511Z"
   },
   {
    "duration": 0,
    "start_time": "2022-07-03T17:44:17.512Z"
   },
   {
    "duration": 0,
    "start_time": "2022-07-03T17:44:17.513Z"
   },
   {
    "duration": 0,
    "start_time": "2022-07-03T17:44:17.514Z"
   },
   {
    "duration": 0,
    "start_time": "2022-07-03T17:44:17.515Z"
   },
   {
    "duration": 0,
    "start_time": "2022-07-03T17:44:17.517Z"
   },
   {
    "duration": 0,
    "start_time": "2022-07-03T17:44:17.518Z"
   },
   {
    "duration": 0,
    "start_time": "2022-07-03T17:44:17.519Z"
   },
   {
    "duration": 1,
    "start_time": "2022-07-03T17:44:17.529Z"
   },
   {
    "duration": 0,
    "start_time": "2022-07-03T17:44:17.532Z"
   },
   {
    "duration": 0,
    "start_time": "2022-07-03T17:44:17.532Z"
   },
   {
    "duration": 0,
    "start_time": "2022-07-03T17:44:17.533Z"
   },
   {
    "duration": 1759,
    "start_time": "2022-07-03T17:45:06.641Z"
   },
   {
    "duration": 966,
    "start_time": "2022-07-03T17:45:08.402Z"
   },
   {
    "duration": 38,
    "start_time": "2022-07-03T17:45:09.372Z"
   },
   {
    "duration": 17,
    "start_time": "2022-07-03T17:45:09.427Z"
   },
   {
    "duration": 35,
    "start_time": "2022-07-03T17:45:09.445Z"
   },
   {
    "duration": 5,
    "start_time": "2022-07-03T17:45:09.482Z"
   },
   {
    "duration": 18903,
    "start_time": "2022-07-03T17:45:09.489Z"
   },
   {
    "duration": 11,
    "start_time": "2022-07-03T17:45:28.394Z"
   },
   {
    "duration": 5152,
    "start_time": "2022-07-03T17:45:28.406Z"
   },
   {
    "duration": 7,
    "start_time": "2022-07-03T17:45:33.560Z"
   },
   {
    "duration": 8,
    "start_time": "2022-07-03T17:45:33.568Z"
   },
   {
    "duration": 13652,
    "start_time": "2022-07-03T17:45:33.578Z"
   },
   {
    "duration": 908,
    "start_time": "2022-07-03T17:45:47.237Z"
   },
   {
    "duration": 79,
    "start_time": "2022-07-03T17:45:48.150Z"
   },
   {
    "duration": 48816,
    "start_time": "2022-07-03T17:45:48.231Z"
   },
   {
    "duration": 404,
    "start_time": "2022-07-03T17:46:37.049Z"
   },
   {
    "duration": 5,
    "start_time": "2022-07-03T17:46:37.528Z"
   },
   {
    "duration": 8213,
    "start_time": "2022-07-03T17:46:37.539Z"
   },
   {
    "duration": 397,
    "start_time": "2022-07-03T17:46:45.754Z"
   },
   {
    "duration": 77,
    "start_time": "2022-07-03T17:46:46.153Z"
   },
   {
    "duration": 420,
    "start_time": "2022-07-03T17:46:46.240Z"
   },
   {
    "duration": 1808,
    "start_time": "2022-07-03T17:47:38.349Z"
   },
   {
    "duration": 935,
    "start_time": "2022-07-03T17:47:40.160Z"
   },
   {
    "duration": 59,
    "start_time": "2022-07-03T17:47:41.097Z"
   },
   {
    "duration": 15,
    "start_time": "2022-07-03T17:47:41.161Z"
   },
   {
    "duration": 173,
    "start_time": "2022-07-03T17:47:41.178Z"
   },
   {
    "duration": 0,
    "start_time": "2022-07-03T17:47:41.368Z"
   },
   {
    "duration": 0,
    "start_time": "2022-07-03T17:47:41.370Z"
   },
   {
    "duration": 0,
    "start_time": "2022-07-03T17:47:41.371Z"
   },
   {
    "duration": 0,
    "start_time": "2022-07-03T17:47:41.384Z"
   },
   {
    "duration": 0,
    "start_time": "2022-07-03T17:47:41.385Z"
   },
   {
    "duration": 0,
    "start_time": "2022-07-03T17:47:41.390Z"
   },
   {
    "duration": 0,
    "start_time": "2022-07-03T17:47:41.392Z"
   },
   {
    "duration": 0,
    "start_time": "2022-07-03T17:47:41.394Z"
   },
   {
    "duration": 1,
    "start_time": "2022-07-03T17:47:41.395Z"
   },
   {
    "duration": 0,
    "start_time": "2022-07-03T17:47:41.397Z"
   },
   {
    "duration": 0,
    "start_time": "2022-07-03T17:47:41.399Z"
   },
   {
    "duration": 0,
    "start_time": "2022-07-03T17:47:41.400Z"
   },
   {
    "duration": 0,
    "start_time": "2022-07-03T17:47:41.402Z"
   },
   {
    "duration": 0,
    "start_time": "2022-07-03T17:47:41.403Z"
   },
   {
    "duration": 0,
    "start_time": "2022-07-03T17:47:41.405Z"
   },
   {
    "duration": 0,
    "start_time": "2022-07-03T17:47:41.406Z"
   },
   {
    "duration": 0,
    "start_time": "2022-07-03T17:47:41.408Z"
   },
   {
    "duration": 1751,
    "start_time": "2022-07-03T17:48:41.812Z"
   },
   {
    "duration": 959,
    "start_time": "2022-07-03T17:48:43.565Z"
   },
   {
    "duration": 46,
    "start_time": "2022-07-03T17:48:44.526Z"
   },
   {
    "duration": 28,
    "start_time": "2022-07-03T17:48:44.576Z"
   },
   {
    "duration": 188,
    "start_time": "2022-07-03T17:48:44.606Z"
   },
   {
    "duration": 0,
    "start_time": "2022-07-03T17:48:44.798Z"
   },
   {
    "duration": 0,
    "start_time": "2022-07-03T17:48:44.799Z"
   },
   {
    "duration": 0,
    "start_time": "2022-07-03T17:48:44.800Z"
   },
   {
    "duration": 0,
    "start_time": "2022-07-03T17:48:44.801Z"
   },
   {
    "duration": 0,
    "start_time": "2022-07-03T17:48:44.803Z"
   },
   {
    "duration": 0,
    "start_time": "2022-07-03T17:48:44.805Z"
   },
   {
    "duration": 0,
    "start_time": "2022-07-03T17:48:44.806Z"
   },
   {
    "duration": 0,
    "start_time": "2022-07-03T17:48:44.825Z"
   },
   {
    "duration": 0,
    "start_time": "2022-07-03T17:48:44.827Z"
   },
   {
    "duration": 0,
    "start_time": "2022-07-03T17:48:44.829Z"
   },
   {
    "duration": 0,
    "start_time": "2022-07-03T17:48:44.830Z"
   },
   {
    "duration": 0,
    "start_time": "2022-07-03T17:48:44.833Z"
   },
   {
    "duration": 0,
    "start_time": "2022-07-03T17:48:44.834Z"
   },
   {
    "duration": 0,
    "start_time": "2022-07-03T17:48:44.834Z"
   },
   {
    "duration": 0,
    "start_time": "2022-07-03T17:48:44.835Z"
   },
   {
    "duration": 0,
    "start_time": "2022-07-03T17:48:44.837Z"
   },
   {
    "duration": 0,
    "start_time": "2022-07-03T17:48:44.838Z"
   },
   {
    "duration": 1884,
    "start_time": "2022-07-03T17:49:03.215Z"
   },
   {
    "duration": 961,
    "start_time": "2022-07-03T17:49:05.102Z"
   },
   {
    "duration": 36,
    "start_time": "2022-07-03T17:49:06.064Z"
   },
   {
    "duration": 25,
    "start_time": "2022-07-03T17:49:06.102Z"
   },
   {
    "duration": 33,
    "start_time": "2022-07-03T17:49:06.129Z"
   },
   {
    "duration": 23,
    "start_time": "2022-07-03T17:49:06.164Z"
   },
   {
    "duration": 4,
    "start_time": "2022-07-03T17:49:06.189Z"
   },
   {
    "duration": 14237,
    "start_time": "2022-07-03T17:49:06.194Z"
   },
   {
    "duration": 11,
    "start_time": "2022-07-03T17:49:20.438Z"
   },
   {
    "duration": 4132,
    "start_time": "2022-07-03T17:49:20.452Z"
   },
   {
    "duration": 12,
    "start_time": "2022-07-03T17:49:24.586Z"
   },
   {
    "duration": 9,
    "start_time": "2022-07-03T17:49:24.600Z"
   },
   {
    "duration": 8520,
    "start_time": "2022-07-03T17:49:24.612Z"
   },
   {
    "duration": 610,
    "start_time": "2022-07-03T17:49:33.134Z"
   },
   {
    "duration": 9,
    "start_time": "2022-07-03T17:49:33.827Z"
   },
   {
    "duration": 29499,
    "start_time": "2022-07-03T17:49:33.838Z"
   },
   {
    "duration": 387,
    "start_time": "2022-07-03T17:50:03.339Z"
   },
   {
    "duration": 11,
    "start_time": "2022-07-03T17:50:03.729Z"
   },
   {
    "duration": 5496,
    "start_time": "2022-07-03T17:50:03.743Z"
   },
   {
    "duration": 302,
    "start_time": "2022-07-03T17:50:09.240Z"
   },
   {
    "duration": 3,
    "start_time": "2022-07-03T17:50:09.544Z"
   },
   {
    "duration": 460,
    "start_time": "2022-07-03T17:50:09.549Z"
   },
   {
    "duration": 1707,
    "start_time": "2022-07-03T17:50:53.757Z"
   },
   {
    "duration": 931,
    "start_time": "2022-07-03T17:50:55.466Z"
   },
   {
    "duration": 40,
    "start_time": "2022-07-03T17:50:56.399Z"
   },
   {
    "duration": 21,
    "start_time": "2022-07-03T17:50:56.451Z"
   },
   {
    "duration": 26,
    "start_time": "2022-07-03T17:50:56.475Z"
   },
   {
    "duration": 23,
    "start_time": "2022-07-03T17:50:56.502Z"
   },
   {
    "duration": 5,
    "start_time": "2022-07-03T17:50:56.528Z"
   },
   {
    "duration": 15601,
    "start_time": "2022-07-03T17:50:56.535Z"
   },
   {
    "duration": 8,
    "start_time": "2022-07-03T17:51:12.138Z"
   },
   {
    "duration": 4052,
    "start_time": "2022-07-03T17:51:12.149Z"
   },
   {
    "duration": 9,
    "start_time": "2022-07-03T17:51:16.203Z"
   },
   {
    "duration": 14,
    "start_time": "2022-07-03T17:51:16.214Z"
   },
   {
    "duration": 8218,
    "start_time": "2022-07-03T17:51:16.239Z"
   },
   {
    "duration": 878,
    "start_time": "2022-07-03T17:51:24.459Z"
   },
   {
    "duration": 6,
    "start_time": "2022-07-03T17:51:25.341Z"
   },
   {
    "duration": 27185,
    "start_time": "2022-07-03T17:51:25.350Z"
   },
   {
    "duration": 397,
    "start_time": "2022-07-03T17:51:52.539Z"
   },
   {
    "duration": 4,
    "start_time": "2022-07-03T17:51:52.945Z"
   },
   {
    "duration": 5000,
    "start_time": "2022-07-03T17:51:52.951Z"
   },
   {
    "duration": 477,
    "start_time": "2022-07-03T17:51:57.954Z"
   },
   {
    "duration": 12,
    "start_time": "2022-07-03T17:51:58.432Z"
   },
   {
    "duration": 354,
    "start_time": "2022-07-03T17:51:58.445Z"
   },
   {
    "duration": 1574,
    "start_time": "2022-07-03T18:12:24.550Z"
   },
   {
    "duration": 941,
    "start_time": "2022-07-03T18:12:26.130Z"
   },
   {
    "duration": 37,
    "start_time": "2022-07-03T18:12:27.073Z"
   },
   {
    "duration": 16,
    "start_time": "2022-07-03T18:12:27.125Z"
   },
   {
    "duration": 34,
    "start_time": "2022-07-03T18:12:27.142Z"
   },
   {
    "duration": 23,
    "start_time": "2022-07-03T18:12:27.178Z"
   },
   {
    "duration": 4,
    "start_time": "2022-07-03T18:12:27.203Z"
   },
   {
    "duration": 14985,
    "start_time": "2022-07-03T18:12:27.210Z"
   },
   {
    "duration": 12,
    "start_time": "2022-07-03T18:12:42.197Z"
   },
   {
    "duration": 4319,
    "start_time": "2022-07-03T18:12:42.213Z"
   },
   {
    "duration": 11,
    "start_time": "2022-07-03T18:12:46.535Z"
   },
   {
    "duration": 8,
    "start_time": "2022-07-03T18:12:46.548Z"
   },
   {
    "duration": 7891,
    "start_time": "2022-07-03T18:12:46.557Z"
   },
   {
    "duration": 805,
    "start_time": "2022-07-03T18:12:54.450Z"
   },
   {
    "duration": 8,
    "start_time": "2022-07-03T18:12:55.328Z"
   },
   {
    "duration": 32701,
    "start_time": "2022-07-03T18:12:55.338Z"
   },
   {
    "duration": 394,
    "start_time": "2022-07-03T18:13:28.048Z"
   },
   {
    "duration": 4,
    "start_time": "2022-07-03T18:13:28.447Z"
   },
   {
    "duration": 4898,
    "start_time": "2022-07-03T18:13:28.453Z"
   },
   {
    "duration": 386,
    "start_time": "2022-07-03T18:13:33.358Z"
   },
   {
    "duration": 83,
    "start_time": "2022-07-03T18:13:33.746Z"
   },
   {
    "duration": 379,
    "start_time": "2022-07-03T18:13:33.834Z"
   },
   {
    "duration": 1772,
    "start_time": "2022-07-03T18:18:21.390Z"
   },
   {
    "duration": 932,
    "start_time": "2022-07-03T18:18:23.164Z"
   },
   {
    "duration": 45,
    "start_time": "2022-07-03T18:18:24.097Z"
   },
   {
    "duration": 17,
    "start_time": "2022-07-03T18:18:24.144Z"
   },
   {
    "duration": 28,
    "start_time": "2022-07-03T18:18:24.164Z"
   },
   {
    "duration": 44,
    "start_time": "2022-07-03T18:18:24.195Z"
   },
   {
    "duration": 5,
    "start_time": "2022-07-03T18:18:24.242Z"
   },
   {
    "duration": 10336,
    "start_time": "2022-07-03T18:18:24.249Z"
   },
   {
    "duration": 9,
    "start_time": "2022-07-03T18:18:34.587Z"
   },
   {
    "duration": 2589,
    "start_time": "2022-07-03T18:18:34.599Z"
   },
   {
    "duration": 10,
    "start_time": "2022-07-03T18:18:37.190Z"
   },
   {
    "duration": 9,
    "start_time": "2022-07-03T18:18:37.202Z"
   },
   {
    "duration": 4834,
    "start_time": "2022-07-03T18:18:37.213Z"
   },
   {
    "duration": 478,
    "start_time": "2022-07-03T18:18:42.051Z"
   },
   {
    "duration": 3,
    "start_time": "2022-07-03T18:18:42.531Z"
   },
   {
    "duration": 21609,
    "start_time": "2022-07-03T18:18:42.536Z"
   },
   {
    "duration": 296,
    "start_time": "2022-07-03T18:19:04.147Z"
   },
   {
    "duration": 9,
    "start_time": "2022-07-03T18:19:04.449Z"
   },
   {
    "duration": 2867,
    "start_time": "2022-07-03T18:19:04.460Z"
   },
   {
    "duration": 213,
    "start_time": "2022-07-03T18:19:07.329Z"
   },
   {
    "duration": 86,
    "start_time": "2022-07-03T18:19:07.552Z"
   },
   {
    "duration": 390,
    "start_time": "2022-07-03T18:19:07.650Z"
   },
   {
    "duration": 1961,
    "start_time": "2022-07-03T18:21:02.658Z"
   },
   {
    "duration": 994,
    "start_time": "2022-07-03T18:21:04.622Z"
   },
   {
    "duration": 42,
    "start_time": "2022-07-03T18:21:05.618Z"
   },
   {
    "duration": 8,
    "start_time": "2022-07-03T18:21:05.663Z"
   },
   {
    "duration": 70,
    "start_time": "2022-07-03T18:21:05.673Z"
   },
   {
    "duration": 6,
    "start_time": "2022-07-03T18:21:05.746Z"
   },
   {
    "duration": 19849,
    "start_time": "2022-07-03T18:21:05.754Z"
   },
   {
    "duration": 10,
    "start_time": "2022-07-03T18:21:25.605Z"
   },
   {
    "duration": 5217,
    "start_time": "2022-07-03T18:21:25.627Z"
   },
   {
    "duration": 8,
    "start_time": "2022-07-03T18:21:30.849Z"
   },
   {
    "duration": 20,
    "start_time": "2022-07-03T18:21:30.858Z"
   },
   {
    "duration": 13778,
    "start_time": "2022-07-03T18:21:30.880Z"
   },
   {
    "duration": 1186,
    "start_time": "2022-07-03T18:21:44.662Z"
   },
   {
    "duration": 88,
    "start_time": "2022-07-03T18:21:45.851Z"
   },
   {
    "duration": 52902,
    "start_time": "2022-07-03T18:21:45.944Z"
   },
   {
    "duration": 500,
    "start_time": "2022-07-03T18:22:38.848Z"
   },
   {
    "duration": 74,
    "start_time": "2022-07-03T18:22:39.353Z"
   },
   {
    "duration": 7706,
    "start_time": "2022-07-03T18:22:39.434Z"
   },
   {
    "duration": 514,
    "start_time": "2022-07-03T18:22:47.144Z"
   },
   {
    "duration": 4,
    "start_time": "2022-07-03T18:22:47.661Z"
   },
   {
    "duration": 394,
    "start_time": "2022-07-03T18:22:47.729Z"
   },
   {
    "duration": 1675,
    "start_time": "2022-07-03T18:27:55.855Z"
   },
   {
    "duration": 2563,
    "start_time": "2022-07-03T18:27:57.532Z"
   },
   {
    "duration": 47,
    "start_time": "2022-07-03T18:28:00.097Z"
   },
   {
    "duration": 22,
    "start_time": "2022-07-03T18:28:00.146Z"
   },
   {
    "duration": 22,
    "start_time": "2022-07-03T18:28:00.169Z"
   },
   {
    "duration": 17,
    "start_time": "2022-07-03T18:28:00.193Z"
   },
   {
    "duration": 17,
    "start_time": "2022-07-03T18:28:00.212Z"
   },
   {
    "duration": 6681,
    "start_time": "2022-07-03T18:28:00.231Z"
   },
   {
    "duration": 5,
    "start_time": "2022-07-03T18:28:06.914Z"
   },
   {
    "duration": 1612,
    "start_time": "2022-07-03T18:28:06.930Z"
   },
   {
    "duration": 9,
    "start_time": "2022-07-03T18:28:08.545Z"
   },
   {
    "duration": 14,
    "start_time": "2022-07-03T18:28:08.556Z"
   },
   {
    "duration": 2877,
    "start_time": "2022-07-03T18:28:08.572Z"
   },
   {
    "duration": 281,
    "start_time": "2022-07-03T18:28:11.452Z"
   },
   {
    "duration": 6,
    "start_time": "2022-07-03T18:28:11.736Z"
   },
   {
    "duration": 10085,
    "start_time": "2022-07-03T18:28:11.744Z"
   },
   {
    "duration": 113,
    "start_time": "2022-07-03T18:28:21.831Z"
   },
   {
    "duration": 4,
    "start_time": "2022-07-03T18:28:22.025Z"
   },
   {
    "duration": 1301,
    "start_time": "2022-07-03T18:28:22.031Z"
   },
   {
    "duration": 105,
    "start_time": "2022-07-03T18:28:23.333Z"
   },
   {
    "duration": 79,
    "start_time": "2022-07-03T18:28:23.449Z"
   },
   {
    "duration": 318,
    "start_time": "2022-07-03T18:28:23.537Z"
   },
   {
    "duration": 1683,
    "start_time": "2022-07-03T18:28:57.895Z"
   },
   {
    "duration": 916,
    "start_time": "2022-07-03T18:28:59.580Z"
   },
   {
    "duration": 47,
    "start_time": "2022-07-03T18:29:00.498Z"
   },
   {
    "duration": 17,
    "start_time": "2022-07-03T18:29:00.548Z"
   },
   {
    "duration": 37,
    "start_time": "2022-07-03T18:29:00.566Z"
   },
   {
    "duration": 13,
    "start_time": "2022-07-03T18:29:00.605Z"
   },
   {
    "duration": 27,
    "start_time": "2022-07-03T18:29:00.619Z"
   },
   {
    "duration": 5001,
    "start_time": "2022-07-03T18:29:00.648Z"
   },
   {
    "duration": 6,
    "start_time": "2022-07-03T18:29:05.651Z"
   },
   {
    "duration": 872,
    "start_time": "2022-07-03T18:29:05.660Z"
   },
   {
    "duration": 5,
    "start_time": "2022-07-03T18:29:06.533Z"
   },
   {
    "duration": 14,
    "start_time": "2022-07-03T18:29:06.540Z"
   },
   {
    "duration": 2089,
    "start_time": "2022-07-03T18:29:06.556Z"
   },
   {
    "duration": 192,
    "start_time": "2022-07-03T18:29:08.651Z"
   },
   {
    "duration": 83,
    "start_time": "2022-07-03T18:29:08.850Z"
   },
   {
    "duration": 6191,
    "start_time": "2022-07-03T18:29:08.937Z"
   },
   {
    "duration": 116,
    "start_time": "2022-07-03T18:29:15.131Z"
   },
   {
    "duration": 184,
    "start_time": "2022-07-03T18:29:15.251Z"
   },
   {
    "duration": 690,
    "start_time": "2022-07-03T18:29:15.437Z"
   },
   {
    "duration": 109,
    "start_time": "2022-07-03T18:29:16.131Z"
   },
   {
    "duration": 4,
    "start_time": "2022-07-03T18:29:16.242Z"
   },
   {
    "duration": 418,
    "start_time": "2022-07-03T18:29:16.247Z"
   },
   {
    "duration": 1657,
    "start_time": "2022-07-03T18:37:23.724Z"
   },
   {
    "duration": 909,
    "start_time": "2022-07-03T18:37:25.383Z"
   },
   {
    "duration": 50,
    "start_time": "2022-07-03T18:37:26.295Z"
   },
   {
    "duration": 7,
    "start_time": "2022-07-03T18:37:26.347Z"
   },
   {
    "duration": 17,
    "start_time": "2022-07-03T18:37:26.357Z"
   },
   {
    "duration": 15,
    "start_time": "2022-07-03T18:37:26.377Z"
   },
   {
    "duration": 4,
    "start_time": "2022-07-03T18:37:26.393Z"
   },
   {
    "duration": 4730,
    "start_time": "2022-07-03T18:37:26.399Z"
   },
   {
    "duration": 13,
    "start_time": "2022-07-03T18:37:31.132Z"
   },
   {
    "duration": 965,
    "start_time": "2022-07-03T18:37:31.147Z"
   },
   {
    "duration": 5,
    "start_time": "2022-07-03T18:37:32.114Z"
   },
   {
    "duration": 17,
    "start_time": "2022-07-03T18:37:32.128Z"
   },
   {
    "duration": 998,
    "start_time": "2022-07-03T18:37:32.147Z"
   },
   {
    "duration": 123,
    "start_time": "2022-07-03T18:37:33.231Z"
   },
   {
    "duration": 9,
    "start_time": "2022-07-03T18:37:33.430Z"
   },
   {
    "duration": 5495,
    "start_time": "2022-07-03T18:37:33.441Z"
   },
   {
    "duration": 191,
    "start_time": "2022-07-03T18:37:38.944Z"
   },
   {
    "duration": 99,
    "start_time": "2022-07-03T18:37:39.137Z"
   },
   {
    "duration": 694,
    "start_time": "2022-07-03T18:37:39.238Z"
   },
   {
    "duration": 103,
    "start_time": "2022-07-03T18:37:39.934Z"
   },
   {
    "duration": 115,
    "start_time": "2022-07-03T18:37:40.041Z"
   },
   {
    "duration": 438,
    "start_time": "2022-07-03T18:37:40.158Z"
   },
   {
    "duration": 2180,
    "start_time": "2022-07-03T22:54:33.720Z"
   },
   {
    "duration": 2820,
    "start_time": "2022-07-03T22:54:35.903Z"
   },
   {
    "duration": 45,
    "start_time": "2022-07-03T22:54:38.726Z"
   },
   {
    "duration": 7,
    "start_time": "2022-07-03T22:54:38.773Z"
   },
   {
    "duration": 45,
    "start_time": "2022-07-03T22:54:38.783Z"
   },
   {
    "duration": 15,
    "start_time": "2022-07-03T22:54:39.247Z"
   },
   {
    "duration": 5,
    "start_time": "2022-07-03T22:54:41.107Z"
   },
   {
    "duration": 4631,
    "start_time": "2022-07-03T22:54:41.387Z"
   },
   {
    "duration": 5,
    "start_time": "2022-07-03T22:54:49.454Z"
   },
   {
    "duration": 998,
    "start_time": "2022-07-03T22:54:53.292Z"
   },
   {
    "duration": 155,
    "start_time": "2022-07-03T22:55:05.153Z"
   },
   {
    "duration": 16,
    "start_time": "2022-07-03T22:55:14.783Z"
   },
   {
    "duration": 759,
    "start_time": "2022-07-03T22:55:15.360Z"
   },
   {
    "duration": 9,
    "start_time": "2022-07-03T22:55:18.417Z"
   },
   {
    "duration": 3,
    "start_time": "2022-07-03T22:55:20.264Z"
   },
   {
    "duration": 3506,
    "start_time": "2022-07-03T22:55:21.544Z"
   },
   {
    "duration": 276,
    "start_time": "2022-07-03T22:55:25.052Z"
   },
   {
    "duration": 2,
    "start_time": "2022-07-03T22:55:30.710Z"
   },
   {
    "duration": 5392,
    "start_time": "2022-07-03T22:55:31.154Z"
   },
   {
    "duration": 181,
    "start_time": "2022-07-03T22:55:36.548Z"
   },
   {
    "duration": 1589,
    "start_time": "2022-07-03T22:55:38.704Z"
   },
   {
    "duration": 955,
    "start_time": "2022-07-03T22:55:40.296Z"
   },
   {
    "duration": 37,
    "start_time": "2022-07-03T22:55:41.252Z"
   },
   {
    "duration": 6,
    "start_time": "2022-07-03T22:55:41.291Z"
   },
   {
    "duration": 44,
    "start_time": "2022-07-03T22:55:41.300Z"
   },
   {
    "duration": 15,
    "start_time": "2022-07-03T22:55:41.346Z"
   },
   {
    "duration": 5,
    "start_time": "2022-07-03T22:55:41.363Z"
   },
   {
    "duration": 4651,
    "start_time": "2022-07-03T22:55:41.370Z"
   },
   {
    "duration": 19,
    "start_time": "2022-07-03T22:55:46.023Z"
   },
   {
    "duration": 926,
    "start_time": "2022-07-03T22:55:46.048Z"
   },
   {
    "duration": 5,
    "start_time": "2022-07-03T22:55:46.976Z"
   },
   {
    "duration": 4,
    "start_time": "2022-07-03T22:55:46.983Z"
   },
   {
    "duration": 1151,
    "start_time": "2022-07-03T22:55:46.989Z"
   },
   {
    "duration": 195,
    "start_time": "2022-07-03T22:55:48.145Z"
   },
   {
    "duration": 91,
    "start_time": "2022-07-03T22:55:48.346Z"
   },
   {
    "duration": 5901,
    "start_time": "2022-07-03T22:55:48.442Z"
   },
   {
    "duration": 186,
    "start_time": "2022-07-03T22:55:54.345Z"
   },
   {
    "duration": 112,
    "start_time": "2022-07-03T22:55:54.533Z"
   },
   {
    "duration": 595,
    "start_time": "2022-07-03T22:55:54.647Z"
   },
   {
    "duration": 200,
    "start_time": "2022-07-03T22:55:55.244Z"
   },
   {
    "duration": 82,
    "start_time": "2022-07-03T22:55:55.446Z"
   },
   {
    "duration": 611,
    "start_time": "2022-07-03T22:55:55.534Z"
   }
  ],
  "kernelspec": {
   "display_name": "Python 3 (ipykernel)",
   "language": "python",
   "name": "python3"
  },
  "language_info": {
   "codemirror_mode": {
    "name": "ipython",
    "version": 3
   },
   "file_extension": ".py",
   "mimetype": "text/x-python",
   "name": "python",
   "nbconvert_exporter": "python",
   "pygments_lexer": "ipython3",
   "version": "3.9.5"
  },
  "toc": {
   "base_numbering": 1,
   "nav_menu": {},
   "number_sections": true,
   "sideBar": true,
   "skip_h1_title": true,
   "title_cell": "Содержание",
   "title_sidebar": "Contents",
   "toc_cell": true,
   "toc_position": {
    "height": "calc(100% - 180px)",
    "left": "10px",
    "top": "150px",
    "width": "302.391px"
   },
   "toc_section_display": true,
   "toc_window_display": false
  }
 },
 "nbformat": 4,
 "nbformat_minor": 2
}
