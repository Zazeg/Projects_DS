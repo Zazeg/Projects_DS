{
 "cells": [
  {
   "cell_type": "markdown",
   "metadata": {
    "toc": true
   },
   "source": [
    "<h1>Содержание<span class=\"tocSkip\"></span></h1>\n",
    "<div class=\"toc\"><ul class=\"toc-item\"><li><span><a href=\"#Подготовка\" data-toc-modified-id=\"Подготовка-1\"><span class=\"toc-item-num\">1&nbsp;&nbsp;</span>Подготовка</a></span></li><li><span><a href=\"#Анализ\" data-toc-modified-id=\"Анализ-2\"><span class=\"toc-item-num\">2&nbsp;&nbsp;</span>Анализ</a></span></li><li><span><a href=\"#Обучение\" data-toc-modified-id=\"Обучение-3\"><span class=\"toc-item-num\">3&nbsp;&nbsp;</span>Обучение</a></span><ul class=\"toc-item\"><li><span><a href=\"#Линейная-регрессия\" data-toc-modified-id=\"Линейная-регрессия-3.1\"><span class=\"toc-item-num\">3.1&nbsp;&nbsp;</span>Линейная регрессия</a></span></li><li><span><a href=\"#Решающее-дерево\" data-toc-modified-id=\"Решающее-дерево-3.2\"><span class=\"toc-item-num\">3.2&nbsp;&nbsp;</span>Решающее дерево</a></span></li><li><span><a href=\"#CatBoostRegressor\" data-toc-modified-id=\"CatBoostRegressor-3.3\"><span class=\"toc-item-num\">3.3&nbsp;&nbsp;</span>CatBoostRegressor</a></span></li><li><span><a href=\"#LGBMRegressor\" data-toc-modified-id=\"LGBMRegressor-3.4\"><span class=\"toc-item-num\">3.4&nbsp;&nbsp;</span>LGBMRegressor</a></span></li></ul></li><li><span><a href=\"#Тестирование\" data-toc-modified-id=\"Тестирование-4\"><span class=\"toc-item-num\">4&nbsp;&nbsp;</span>Тестирование</a></span></li></ul></div>"
   ]
  },
  {
   "cell_type": "markdown",
   "metadata": {},
   "source": [
    "#  Прогнозирование заказов такси"
   ]
  },
  {
   "cell_type": "markdown",
   "metadata": {},
   "source": [
    "## Подготовка"
   ]
  },
  {
   "cell_type": "code",
   "execution_count": 1,
   "metadata": {},
   "outputs": [],
   "source": [
    "import pandas as pd\n",
    "import numpy as np\n",
    "import seaborn as sns\n",
    "import matplotlib.pyplot as plt\n",
    "import warnings\n",
    "\n",
    "from sklearn.model_selection import train_test_split, KFold, GridSearchCV, TimeSeriesSplit\n",
    "from sklearn.metrics import mean_squared_error\n",
    "from sklearn.linear_model import LinearRegression\n",
    "from sklearn.tree import DecisionTreeRegressor\n",
    "from catboost import CatBoostRegressor\n",
    "from lightgbm import LGBMRegressor\n",
    "from statsmodels.tsa.seasonal import seasonal_decompose\n",
    "\n",
    "warnings.filterwarnings(\"ignore\")"
   ]
  },
  {
   "cell_type": "code",
   "execution_count": 2,
   "metadata": {
    "scrolled": true
   },
   "outputs": [
    {
     "name": "stdout",
     "output_type": "stream",
     "text": [
      "<class 'pandas.core.frame.DataFrame'>\n",
      "DatetimeIndex: 26496 entries, 2018-03-01 00:00:00 to 2018-08-31 23:50:00\n",
      "Data columns (total 1 columns):\n",
      " #   Column      Non-Null Count  Dtype\n",
      "---  ------      --------------  -----\n",
      " 0   num_orders  26496 non-null  int64\n",
      "dtypes: int64(1)\n",
      "memory usage: 414.0 KB\n"
     ]
    }
   ],
   "source": [
    "taxi = pd.read_csv('/datasets/taxi.csv', index_col=[0], parse_dates=[0])\n",
    "taxi.sort_index(inplace=True)\n",
    "taxi.info()"
   ]
  },
  {
   "cell_type": "code",
   "execution_count": 3,
   "metadata": {
    "scrolled": true
   },
   "outputs": [
    {
     "data": {
      "text/html": [
       "<div>\n",
       "<style scoped>\n",
       "    .dataframe tbody tr th:only-of-type {\n",
       "        vertical-align: middle;\n",
       "    }\n",
       "\n",
       "    .dataframe tbody tr th {\n",
       "        vertical-align: top;\n",
       "    }\n",
       "\n",
       "    .dataframe thead th {\n",
       "        text-align: right;\n",
       "    }\n",
       "</style>\n",
       "<table border=\"1\" class=\"dataframe\">\n",
       "  <thead>\n",
       "    <tr style=\"text-align: right;\">\n",
       "      <th></th>\n",
       "      <th>num_orders</th>\n",
       "    </tr>\n",
       "  </thead>\n",
       "  <tbody>\n",
       "    <tr>\n",
       "      <th>count</th>\n",
       "      <td>26496.000000</td>\n",
       "    </tr>\n",
       "    <tr>\n",
       "      <th>mean</th>\n",
       "      <td>14.070463</td>\n",
       "    </tr>\n",
       "    <tr>\n",
       "      <th>std</th>\n",
       "      <td>9.211330</td>\n",
       "    </tr>\n",
       "    <tr>\n",
       "      <th>min</th>\n",
       "      <td>0.000000</td>\n",
       "    </tr>\n",
       "    <tr>\n",
       "      <th>25%</th>\n",
       "      <td>8.000000</td>\n",
       "    </tr>\n",
       "    <tr>\n",
       "      <th>50%</th>\n",
       "      <td>13.000000</td>\n",
       "    </tr>\n",
       "    <tr>\n",
       "      <th>75%</th>\n",
       "      <td>19.000000</td>\n",
       "    </tr>\n",
       "    <tr>\n",
       "      <th>max</th>\n",
       "      <td>119.000000</td>\n",
       "    </tr>\n",
       "  </tbody>\n",
       "</table>\n",
       "</div>"
      ],
      "text/plain": [
       "         num_orders\n",
       "count  26496.000000\n",
       "mean      14.070463\n",
       "std        9.211330\n",
       "min        0.000000\n",
       "25%        8.000000\n",
       "50%       13.000000\n",
       "75%       19.000000\n",
       "max      119.000000"
      ]
     },
     "execution_count": 3,
     "metadata": {},
     "output_type": "execute_result"
    }
   ],
   "source": [
    "taxi.describe()"
   ]
  },
  {
   "cell_type": "code",
   "execution_count": 4,
   "metadata": {},
   "outputs": [
    {
     "data": {
      "text/html": [
       "<div>\n",
       "<style scoped>\n",
       "    .dataframe tbody tr th:only-of-type {\n",
       "        vertical-align: middle;\n",
       "    }\n",
       "\n",
       "    .dataframe tbody tr th {\n",
       "        vertical-align: top;\n",
       "    }\n",
       "\n",
       "    .dataframe thead th {\n",
       "        text-align: right;\n",
       "    }\n",
       "</style>\n",
       "<table border=\"1\" class=\"dataframe\">\n",
       "  <thead>\n",
       "    <tr style=\"text-align: right;\">\n",
       "      <th></th>\n",
       "      <th>num_orders</th>\n",
       "    </tr>\n",
       "    <tr>\n",
       "      <th>datetime</th>\n",
       "      <th></th>\n",
       "    </tr>\n",
       "  </thead>\n",
       "  <tbody>\n",
       "    <tr>\n",
       "      <th>2018-03-01 00:00:00</th>\n",
       "      <td>9</td>\n",
       "    </tr>\n",
       "    <tr>\n",
       "      <th>2018-03-01 00:10:00</th>\n",
       "      <td>14</td>\n",
       "    </tr>\n",
       "    <tr>\n",
       "      <th>2018-03-01 00:20:00</th>\n",
       "      <td>28</td>\n",
       "    </tr>\n",
       "    <tr>\n",
       "      <th>2018-03-01 00:30:00</th>\n",
       "      <td>20</td>\n",
       "    </tr>\n",
       "    <tr>\n",
       "      <th>2018-03-01 00:40:00</th>\n",
       "      <td>32</td>\n",
       "    </tr>\n",
       "    <tr>\n",
       "      <th>2018-03-01 00:50:00</th>\n",
       "      <td>21</td>\n",
       "    </tr>\n",
       "    <tr>\n",
       "      <th>2018-03-01 01:00:00</th>\n",
       "      <td>7</td>\n",
       "    </tr>\n",
       "  </tbody>\n",
       "</table>\n",
       "</div>"
      ],
      "text/plain": [
       "                     num_orders\n",
       "datetime                       \n",
       "2018-03-01 00:00:00           9\n",
       "2018-03-01 00:10:00          14\n",
       "2018-03-01 00:20:00          28\n",
       "2018-03-01 00:30:00          20\n",
       "2018-03-01 00:40:00          32\n",
       "2018-03-01 00:50:00          21\n",
       "2018-03-01 01:00:00           7"
      ]
     },
     "metadata": {},
     "output_type": "display_data"
    }
   ],
   "source": [
    "display(taxi.head(7))"
   ]
  },
  {
   "cell_type": "code",
   "execution_count": 5,
   "metadata": {},
   "outputs": [
    {
     "data": {
      "text/plain": [
       "<AxesSubplot:xlabel='datetime'>"
      ]
     },
     "execution_count": 5,
     "metadata": {},
     "output_type": "execute_result"
    },
    {
     "data": {
      "image/png": "[encoded data removed]",
      "text/plain": [
       "<Figure size 1008x360 with 1 Axes>"
      ]
     },
     "metadata": {
      "needs_background": "light"
     },
     "output_type": "display_data"
    }
   ],
   "source": [
    "taxi = taxi.resample('1H').sum()\n",
    "taxi['num_orders'].plot(figsize=(14,5))"
   ]
  },
  {
   "cell_type": "markdown",
   "metadata": {},
   "source": [
    "## Анализ"
   ]
  },
  {
   "cell_type": "code",
   "execution_count": 6,
   "metadata": {},
   "outputs": [
    {
     "data": {
      "text/plain": [
       "Text(0, 0.5, 'Количество заказов в час')"
      ]
     },
     "execution_count": 6,
     "metadata": {},
     "output_type": "execute_result"
    },
    {
     "data": {
      "image/png": "[encoded data removed]",
      "text/plain": [
       "<Figure size 1008x360 with 1 Axes>"
      ]
     },
     "metadata": {
      "needs_background": "light"
     },
     "output_type": "display_data"
    }
   ],
   "source": [
    "decomposed = seasonal_decompose(taxi)\n",
    "plt.figure(figsize=(14, 5))\n",
    "decomposed.trend.plot(ax=plt.gca())\n",
    "plt.title('Тренд за 6 емсяцев')\n",
    "plt.ylabel('Количество заказов в час')"
   ]
  },
  {
   "cell_type": "markdown",
   "metadata": {},
   "source": [
    "По графику виден растущий тренд, значит временной ряд не является стационарным."
   ]
  },
  {
   "cell_type": "code",
   "execution_count": 7,
   "metadata": {},
   "outputs": [
    {
     "data": {
      "text/plain": [
       "Text(0.5, 1.0, 'Сезонность по часам')"
      ]
     },
     "execution_count": 7,
     "metadata": {},
     "output_type": "execute_result"
    },
    {
     "data": {
      "image/png": "[encoded data removed]",
      "text/plain": [
       "<Figure size 1008x360 with 1 Axes>"
      ]
     },
     "metadata": {
      "needs_background": "light"
     },
     "output_type": "display_data"
    }
   ],
   "source": [
    "plt.figure(figsize=(14, 5))\n",
    "decomposed.seasonal.plot(ax=plt.gca(),color='g')\n",
    "plt.title('Сезонность по часам')"
   ]
  },
  {
   "cell_type": "code",
   "execution_count": 8,
   "metadata": {
    "scrolled": false
   },
   "outputs": [
    {
     "data": {
      "text/plain": [
       "Text(0.5, 1.0, 'Остаток')"
      ]
     },
     "execution_count": 8,
     "metadata": {},
     "output_type": "execute_result"
    },
    {
     "data": {
      "image/png": "[encoded data removed]",
      "text/plain": [
       "<Figure size 1008x360 with 1 Axes>"
      ]
     },
     "metadata": {
      "needs_background": "light"
     },
     "output_type": "display_data"
    }
   ],
   "source": [
    "plt.figure(figsize=(14, 5))\n",
    "decomposed.resid.plot(ax=plt.gca(), color='r')\n",
    "plt.title('Остаток')"
   ]
  },
  {
   "cell_type": "markdown",
   "metadata": {},
   "source": [
    "Тренд, сезонность и остаток декомпозиции лучше рассматривать на отдельно взятой неделе."
   ]
  },
  {
   "cell_type": "code",
   "execution_count": 9,
   "metadata": {},
   "outputs": [
    {
     "data": {
      "text/plain": [
       "Text(0.5, 1.0, 'Residuals 09.07.2018 по 16.07.2018')"
      ]
     },
     "execution_count": 9,
     "metadata": {},
     "output_type": "execute_result"
    },
    {
     "data": {
      "image/png": "[encoded data removed]",
      "text/plain": [
       "<Figure size 1008x360 with 1 Axes>"
      ]
     },
     "metadata": {
      "needs_background": "light"
     },
     "output_type": "display_data"
    },
    {
     "data": {
      "image/png": "[encoded data removed]",
      "text/plain": [
       "<Figure size 1008x360 with 1 Axes>"
      ]
     },
     "metadata": {
      "needs_background": "light"
     },
     "output_type": "display_data"
    },
    {
     "data": {
      "image/png": "[encoded data removed]",
      "text/plain": [
       "<Figure size 1008x360 with 1 Axes>"
      ]
     },
     "metadata": {
      "needs_background": "light"
     },
     "output_type": "display_data"
    }
   ],
   "source": [
    "same_week = seasonal_decompose(taxi['2018-07-09':'2018-07-16'])\n",
    "\n",
    "plt.figure(figsize=(14,5))\n",
    "same_week.trend.plot(ax=plt.gca())\n",
    "plt.title('Trend с 09.07.2018 по 16.07.2018')\n",
    "\n",
    "plt.figure(figsize=(14,5))\n",
    "same_week.seasonal.plot(ax=plt.gca(),color='b')\n",
    "plt.title('Seasonality 09.07.2018 по 16.07.2018')\n",
    "\n",
    "plt.figure(figsize=(14,5))\n",
    "same_week.resid.plot(ax=plt.gca())\n",
    "plt.title('Residuals 09.07.2018 по 16.07.2018')"
   ]
  },
  {
   "cell_type": "markdown",
   "metadata": {},
   "source": [
    "Наблюдается рост количества заказов вечером и к полуночи, а также спад заказов к утру.  \n",
    "\n",
    "Можно заметить значительное увеличение заказов в пятницу после полудня до начала субботы.  \n",
    "\n",
    "Создам новые признаки в данных. С каждым месяцем количество заказов растет, добавлю месяц.  В течении недели меняется количество заказов, потому добавлю день и день недели.  \n",
    "\n",
    "Создание отстающих на 48 часов признаки и скользящего среднего за 5 часов"
   ]
  },
  {
   "cell_type": "code",
   "execution_count": 10,
   "metadata": {
    "scrolled": true
   },
   "outputs": [
    {
     "data": {
      "text/html": [
       "<div>\n",
       "<style scoped>\n",
       "    .dataframe tbody tr th:only-of-type {\n",
       "        vertical-align: middle;\n",
       "    }\n",
       "\n",
       "    .dataframe tbody tr th {\n",
       "        vertical-align: top;\n",
       "    }\n",
       "\n",
       "    .dataframe thead th {\n",
       "        text-align: right;\n",
       "    }\n",
       "</style>\n",
       "<table border=\"1\" class=\"dataframe\">\n",
       "  <thead>\n",
       "    <tr style=\"text-align: right;\">\n",
       "      <th></th>\n",
       "      <th>num_orders</th>\n",
       "      <th>month</th>\n",
       "      <th>day</th>\n",
       "      <th>dayofweek</th>\n",
       "      <th>lag_1</th>\n",
       "      <th>lag_2</th>\n",
       "      <th>lag_3</th>\n",
       "      <th>lag_4</th>\n",
       "      <th>lag_5</th>\n",
       "      <th>lag_6</th>\n",
       "      <th>...</th>\n",
       "      <th>lag_40</th>\n",
       "      <th>lag_41</th>\n",
       "      <th>lag_42</th>\n",
       "      <th>lag_43</th>\n",
       "      <th>lag_44</th>\n",
       "      <th>lag_45</th>\n",
       "      <th>lag_46</th>\n",
       "      <th>lag_47</th>\n",
       "      <th>lag_48</th>\n",
       "      <th>rolling_mean</th>\n",
       "    </tr>\n",
       "    <tr>\n",
       "      <th>datetime</th>\n",
       "      <th></th>\n",
       "      <th></th>\n",
       "      <th></th>\n",
       "      <th></th>\n",
       "      <th></th>\n",
       "      <th></th>\n",
       "      <th></th>\n",
       "      <th></th>\n",
       "      <th></th>\n",
       "      <th></th>\n",
       "      <th></th>\n",
       "      <th></th>\n",
       "      <th></th>\n",
       "      <th></th>\n",
       "      <th></th>\n",
       "      <th></th>\n",
       "      <th></th>\n",
       "      <th></th>\n",
       "      <th></th>\n",
       "      <th></th>\n",
       "      <th></th>\n",
       "    </tr>\n",
       "  </thead>\n",
       "  <tbody>\n",
       "    <tr>\n",
       "      <th>2018-08-31 21:00:00</th>\n",
       "      <td>159</td>\n",
       "      <td>8</td>\n",
       "      <td>31</td>\n",
       "      <td>4</td>\n",
       "      <td>154.0</td>\n",
       "      <td>136.0</td>\n",
       "      <td>207.0</td>\n",
       "      <td>217.0</td>\n",
       "      <td>197.0</td>\n",
       "      <td>116.0</td>\n",
       "      <td>...</td>\n",
       "      <td>56.0</td>\n",
       "      <td>186.0</td>\n",
       "      <td>193.0</td>\n",
       "      <td>232.0</td>\n",
       "      <td>217.0</td>\n",
       "      <td>216.0</td>\n",
       "      <td>265.0</td>\n",
       "      <td>177.0</td>\n",
       "      <td>170.0</td>\n",
       "      <td>182.2</td>\n",
       "    </tr>\n",
       "    <tr>\n",
       "      <th>2018-08-31 22:00:00</th>\n",
       "      <td>223</td>\n",
       "      <td>8</td>\n",
       "      <td>31</td>\n",
       "      <td>4</td>\n",
       "      <td>159.0</td>\n",
       "      <td>154.0</td>\n",
       "      <td>136.0</td>\n",
       "      <td>207.0</td>\n",
       "      <td>217.0</td>\n",
       "      <td>197.0</td>\n",
       "      <td>...</td>\n",
       "      <td>13.0</td>\n",
       "      <td>56.0</td>\n",
       "      <td>186.0</td>\n",
       "      <td>193.0</td>\n",
       "      <td>232.0</td>\n",
       "      <td>217.0</td>\n",
       "      <td>216.0</td>\n",
       "      <td>265.0</td>\n",
       "      <td>177.0</td>\n",
       "      <td>174.6</td>\n",
       "    </tr>\n",
       "    <tr>\n",
       "      <th>2018-08-31 23:00:00</th>\n",
       "      <td>205</td>\n",
       "      <td>8</td>\n",
       "      <td>31</td>\n",
       "      <td>4</td>\n",
       "      <td>223.0</td>\n",
       "      <td>159.0</td>\n",
       "      <td>154.0</td>\n",
       "      <td>136.0</td>\n",
       "      <td>207.0</td>\n",
       "      <td>217.0</td>\n",
       "      <td>...</td>\n",
       "      <td>39.0</td>\n",
       "      <td>13.0</td>\n",
       "      <td>56.0</td>\n",
       "      <td>186.0</td>\n",
       "      <td>193.0</td>\n",
       "      <td>232.0</td>\n",
       "      <td>217.0</td>\n",
       "      <td>216.0</td>\n",
       "      <td>265.0</td>\n",
       "      <td>175.8</td>\n",
       "    </tr>\n",
       "  </tbody>\n",
       "</table>\n",
       "<p>3 rows × 53 columns</p>\n",
       "</div>"
      ],
      "text/plain": [
       "                     num_orders  month  day  dayofweek  lag_1  lag_2  lag_3  \\\n",
       "datetime                                                                      \n",
       "2018-08-31 21:00:00         159      8   31          4  154.0  136.0  207.0   \n",
       "2018-08-31 22:00:00         223      8   31          4  159.0  154.0  136.0   \n",
       "2018-08-31 23:00:00         205      8   31          4  223.0  159.0  154.0   \n",
       "\n",
       "                     lag_4  lag_5  lag_6  ...  lag_40  lag_41  lag_42  lag_43  \\\n",
       "datetime                                  ...                                   \n",
       "2018-08-31 21:00:00  217.0  197.0  116.0  ...    56.0   186.0   193.0   232.0   \n",
       "2018-08-31 22:00:00  207.0  217.0  197.0  ...    13.0    56.0   186.0   193.0   \n",
       "2018-08-31 23:00:00  136.0  207.0  217.0  ...    39.0    13.0    56.0   186.0   \n",
       "\n",
       "                     lag_44  lag_45  lag_46  lag_47  lag_48  rolling_mean  \n",
       "datetime                                                                   \n",
       "2018-08-31 21:00:00   217.0   216.0   265.0   177.0   170.0         182.2  \n",
       "2018-08-31 22:00:00   232.0   217.0   216.0   265.0   177.0         174.6  \n",
       "2018-08-31 23:00:00   193.0   232.0   217.0   216.0   265.0         175.8  \n",
       "\n",
       "[3 rows x 53 columns]"
      ]
     },
     "execution_count": 10,
     "metadata": {},
     "output_type": "execute_result"
    }
   ],
   "source": [
    "def make_features(data, max_lag, rolling_mean_size):\n",
    "    data['month'] = data.index.month\n",
    "    data['day'] = data.index.day\n",
    "    data['dayofweek'] = data.index.dayofweek\n",
    "    \n",
    "    for lag in range(1, max_lag + 1):\n",
    "        data['lag_{}'.format(lag)] = data['num_orders'].shift(lag)\n",
    "\n",
    "    data['rolling_mean'] = data['num_orders'].shift().rolling(rolling_mean_size).mean()\n",
    "    return data\n",
    "\n",
    "taxi_new = make_features(taxi, 48, 5)\n",
    "\n",
    "taxi_new.tail(3)"
   ]
  },
  {
   "cell_type": "markdown",
   "metadata": {},
   "source": [
    "**Вывод**  \n",
    "\n",
    "Были выявлены некоторые закономерности, добавлены необходимые признаки для прогнозирования и обучения работы моделей."
   ]
  },
  {
   "cell_type": "markdown",
   "metadata": {},
   "source": [
    "## Обучение"
   ]
  },
  {
   "cell_type": "markdown",
   "metadata": {},
   "source": [
    "Разделение на выборки"
   ]
  },
  {
   "cell_type": "code",
   "execution_count": 11,
   "metadata": {
    "scrolled": true
   },
   "outputs": [
    {
     "name": "stdout",
     "output_type": "stream",
     "text": [
      "Размер обучающей выборки: (3532, 53)\n",
      "Размер валидационной выборки: (442, 53)\n",
      "Размер тестовой выборки: (442, 53)\n"
     ]
    }
   ],
   "source": [
    "taxi_tr, taxi_test = train_test_split(taxi_new, shuffle=False, test_size=0.1)\n",
    "taxi_train, taxi_valid = train_test_split(taxi_tr, shuffle=False, test_size=1/9)\n",
    "\n",
    "print('Размер обучающей выборки:', taxi_train.shape)\n",
    "print('Размер валидационной выборки:', taxi_valid.shape)\n",
    "print('Размер тестовой выборки:', taxi_test.shape)"
   ]
  },
  {
   "cell_type": "markdown",
   "metadata": {},
   "source": [
    "Удаление пропусков в выборках и выделение целевого признака"
   ]
  },
  {
   "cell_type": "code",
   "execution_count": 12,
   "metadata": {},
   "outputs": [],
   "source": [
    "taxi_train = taxi_train.dropna()\n",
    "taxi_valid = taxi_valid.dropna()\n",
    "taxi_test = taxi_test.dropna()\n",
    "\n",
    "features_train = taxi_train.drop(['num_orders'], axis=1)\n",
    "target_train = taxi_train['num_orders']\n",
    "\n",
    "features_valid = taxi_valid.drop(['num_orders'], axis=1)\n",
    "target_valid = taxi_valid['num_orders']\n",
    "\n",
    "features_test = taxi_test.drop(['num_orders'], axis=1)\n",
    "target_test = taxi_test['num_orders']\n",
    "\n",
    "model_score = {}"
   ]
  },
  {
   "cell_type": "markdown",
   "metadata": {},
   "source": [
    "### Линейная регрессия"
   ]
  },
  {
   "cell_type": "code",
   "execution_count": 13,
   "metadata": {},
   "outputs": [
    {
     "name": "stdout",
     "output_type": "stream",
     "text": [
      "RMSE обучающей выборки: 22.126810696511416\n",
      "RMSE валидационной выборки:  31.640793842435528\n",
      "RMSE тестовой выборки: 44.07191983195077\n"
     ]
    }
   ],
   "source": [
    "model = LinearRegression()\n",
    "model = model.fit(features_train, target_train)\n",
    "predictions = model.predict(features_train)\n",
    "mse1 = mean_squared_error(target_train, predictions)\n",
    "rmse_train1 = mse1 ** 0.5\n",
    "\n",
    "predictions_valid = model.predict(features_valid)\n",
    "mse_valid1 = mean_squared_error(target_valid, predictions_valid)\n",
    "rmse_valid1 = mse_valid1 ** 0.5\n",
    "\n",
    "predictions_test1 = model.predict(features_test)\n",
    "mse_test1 = mean_squared_error(target_test, predictions_test1)\n",
    "rmse_test1 = mse_test1 ** 0.5\n",
    "\n",
    "print('RMSE обучающей выборки:', rmse_train1)\n",
    "print(\"RMSE валидационной выборки: \", rmse_valid1)\n",
    "print('RMSE тестовой выборки:', rmse_test1)"
   ]
  },
  {
   "cell_type": "code",
   "execution_count": 14,
   "metadata": {},
   "outputs": [
    {
     "data": {
      "text/plain": [
       "Text(0.5, 1.0, 'Визуализация исходного и предсказанного рядов модели LinearRegression')"
      ]
     },
     "execution_count": 14,
     "metadata": {},
     "output_type": "execute_result"
    },
    {
     "data": {
      "image/png": "[encoded data removed]",
      "text/plain": [
       "<Figure size 1008x432 with 1 Axes>"
      ]
     },
     "metadata": {
      "needs_background": "light"
     },
     "output_type": "display_data"
    }
   ],
   "source": [
    "plt.figure(figsize=(14,6))\n",
    "plt.plot(target_test.index, target_test, 'g-', target_test.index, predictions_test1,'m-')\n",
    "plt.title('Визуализация исходного и предсказанного рядов модели LinearRegression')"
   ]
  },
  {
   "cell_type": "code",
   "execution_count": 15,
   "metadata": {},
   "outputs": [],
   "source": [
    "model_score['LinearRegression'] = [rmse_train1, rmse_valid1, rmse_test1]"
   ]
  },
  {
   "cell_type": "markdown",
   "metadata": {},
   "source": [
    "### Решающее дерево"
   ]
  },
  {
   "cell_type": "code",
   "execution_count": 16,
   "metadata": {},
   "outputs": [
    {
     "name": "stdout",
     "output_type": "stream",
     "text": [
      "max_depth = 5 :\n",
      "RMSE обучающей выборки: 22.366426474330463\n",
      "RMSE валидационной выборки 38.6640845985702\n",
      "\n",
      "max_depth = 6 :\n",
      "RMSE обучающей выборки: 20.789246137538424\n",
      "RMSE валидационной выборки 37.327780987533835\n",
      "\n",
      "max_depth = 7 :\n",
      "RMSE обучающей выборки: 18.96361298605987\n",
      "RMSE валидационной выборки 38.01056029919611\n",
      "\n"
     ]
    }
   ],
   "source": [
    "for depth in range(5, 8): #range(1, 20):\n",
    "    model = DecisionTreeRegressor(max_depth=depth, random_state=12345)\n",
    "    model = model.fit(features_train, target_train)\n",
    "    predictions = model.predict(features_train)\n",
    "    mse2 = mean_squared_error(target_train, predictions)\n",
    "    rmse_train2 = mse2 ** 0.5\n",
    "    \n",
    "    predictions_valid = model.predict(features_valid)\n",
    "    mse_valid2 = mean_squared_error(target_valid, predictions_valid)\n",
    "    rmse_valid2= mse_valid2 ** 0.5\n",
    "    \n",
    "    print(\"max_depth =\", depth, \":\")\n",
    "    print(\"RMSE обучающей выборки:\", rmse_train2)\n",
    "    print(\"RMSE валидационной выборки\", rmse_valid2)\n",
    "    print()"
   ]
  },
  {
   "cell_type": "code",
   "execution_count": 17,
   "metadata": {},
   "outputs": [
    {
     "name": "stdout",
     "output_type": "stream",
     "text": [
      "RMSE обучающей выборки 57.003883537960114\n"
     ]
    }
   ],
   "source": [
    "model_tree = DecisionTreeRegressor(max_depth=6, random_state=12345)\n",
    "model_tree = model_tree.fit(features_train, target_train)\n",
    "predictions2 = model_tree.predict(features_test)\n",
    "mse2 = mean_squared_error(target_test, predictions2)\n",
    "rmse_test2 = mse2 ** 0.5\n",
    "print(\"RMSE обучающей выборки\", rmse_test2)"
   ]
  },
  {
   "cell_type": "code",
   "execution_count": 18,
   "metadata": {},
   "outputs": [
    {
     "data": {
      "text/plain": [
       "Text(0.5, 1.0, 'Визуализация исходного и предсказанного рядов модели DecisionTreeRegressor')"
      ]
     },
     "execution_count": 18,
     "metadata": {},
     "output_type": "execute_result"
    },
    {
     "data": {
      "image/png": "[encoded data removed]",
      "text/plain": [
       "<Figure size 1008x432 with 1 Axes>"
      ]
     },
     "metadata": {
      "needs_background": "light"
     },
     "output_type": "display_data"
    }
   ],
   "source": [
    "plt.figure(figsize=(14,6))\n",
    "plt.plot(target_test.index, target_test, 'g-', target_test.index, predictions2,'m-')\n",
    "plt.title('Визуализация исходного и предсказанного рядов модели DecisionTreeRegressor')"
   ]
  },
  {
   "cell_type": "code",
   "execution_count": 19,
   "metadata": {},
   "outputs": [],
   "source": [
    "model_score['DecisionTreeRegressor'] = [rmse_train2, rmse_valid2, rmse_test2]"
   ]
  },
  {
   "cell_type": "markdown",
   "metadata": {},
   "source": [
    "### CatBoostRegressor"
   ]
  },
  {
   "cell_type": "code",
   "execution_count": 20,
   "metadata": {},
   "outputs": [
    {
     "name": "stdout",
     "output_type": "stream",
     "text": [
      "{'depth': 5, 'iterations': 300, 'learning_rate': 0.1, 'verbose': False}\n",
      "RMSE на обучающей выборке: 23.068293255837972\n"
     ]
    }
   ],
   "source": [
    "model = CatBoostRegressor(random_state = 12345)\n",
    "hyperparams = [{'depth' : [5], #[1, 2, 3, 4, 5, 6, 7, 8],\n",
    "                'learning_rate' : [0.1], #[0.03, 0.06, 0.1, 0.3, 0.5],\n",
    "                'iterations' : [300], #[100, 200, 300],\n",
    "                'verbose' : [False]\n",
    "               }]\n",
    "\n",
    "cv3 = TimeSeriesSplit(n_splits=3).split(features_train)\n",
    "cbr_model = GridSearchCV(model, hyperparams, cv=cv3, scoring='neg_mean_squared_error')\n",
    "cbr_model.fit(features_train, target_train)\n",
    "target_predict3 = cbr_model.predict(features_test)\n",
    "best_params = cbr_model.best_params_\n",
    "print(best_params)\n",
    "\n",
    "rmse_train3 = (cbr_model.best_score_*-1)**0.5\n",
    "print('RMSE на обучающей выборке:', rmse_train3)"
   ]
  },
  {
   "cell_type": "code",
   "execution_count": 21,
   "metadata": {},
   "outputs": [
    {
     "name": "stdout",
     "output_type": "stream",
     "text": [
      "RMSE на валидационной выборке: 33.13631904305712\n",
      "RMSE на тестовой выборке: 40.53221777075021\n"
     ]
    }
   ],
   "source": [
    "valid_model = GridSearchCV(model, hyperparams, scoring='neg_mean_squared_error')\n",
    "test_model = GridSearchCV(model, hyperparams, scoring='neg_mean_squared_error')\n",
    "valid_model.fit(features_valid, target_valid)\n",
    "test_model.fit(features_test, target_test)\n",
    "rmse_valid3 = (valid_model.best_score_*(-1))**0.5\n",
    "rmse_test3 = (test_model.best_score_*(-1))**0.5\n",
    "print('RMSE на валидационной выборке:', rmse_valid3)\n",
    "print('RMSE на тестовой выборке:', rmse_test3)"
   ]
  },
  {
   "cell_type": "code",
   "execution_count": 22,
   "metadata": {},
   "outputs": [],
   "source": [
    "model_score['CatBoostRegressor'] = [rmse_train3, rmse_valid3, rmse_test3]"
   ]
  },
  {
   "cell_type": "markdown",
   "metadata": {},
   "source": [
    "### LGBMRegressor"
   ]
  },
  {
   "cell_type": "code",
   "execution_count": 23,
   "metadata": {},
   "outputs": [
    {
     "name": "stdout",
     "output_type": "stream",
     "text": [
      "{'max_depth': 9, 'n_estimators': 40}\n",
      "RMSE на обучающей выборке: 21.373398677793666\n"
     ]
    }
   ],
   "source": [
    "parameters = {'max_depth': [9], #range(1, 19),\n",
    "              'n_estimators': [40] #range(10, 40)\n",
    "             }\n",
    "lgb_gs = GridSearchCV(LGBMRegressor(random_state=12345), \n",
    "                      parameters,\n",
    "                      cv=KFold(n_splits=10, shuffle=True, random_state=12345),\n",
    "                      scoring='neg_mean_squared_error')\n",
    "\n",
    "lgb_gs.fit(features_train, target_train)\n",
    "target_predict4 = lgb_gs.predict(features_test)\n",
    "print(lgb_gs.best_params_)\n",
    "rmse_train4 = (lgb_gs.best_score_*-1)**0.5\n",
    "print('RMSE на обучающей выборке:', rmse_train4)"
   ]
  },
  {
   "cell_type": "code",
   "execution_count": 24,
   "metadata": {
    "scrolled": true
   },
   "outputs": [
    {
     "name": "stdout",
     "output_type": "stream",
     "text": [
      "RMSE на валидационной выборке: 32.69769734186719\n",
      "RMSE на тестовой выборке: 42.88218467863323\n"
     ]
    }
   ],
   "source": [
    "lgb_gs = GridSearchCV(LGBMRegressor(random_state=12345), \n",
    "                     {'max_depth':[9],\n",
    "                      'n_estimators':[40]},\n",
    "                      cv=KFold(n_splits=10, shuffle=True, random_state=12345),\n",
    "                      scoring='neg_mean_squared_error')\n",
    "\n",
    "lgb_gs.fit(features_valid, target_valid)\n",
    "rmse_valid4 = (lgb_gs.best_score_*(-1))**0.5\n",
    "print('RMSE на валидационной выборке:', rmse_valid4)\n",
    "\n",
    "lgb_gs.fit(features_test, target_test)\n",
    "rmse_test4 = (lgb_gs.best_score_*(-1))**0.5\n",
    "print('RMSE на тестовой выборке:', rmse_test4)"
   ]
  },
  {
   "cell_type": "code",
   "execution_count": 25,
   "metadata": {},
   "outputs": [],
   "source": [
    "model_score['LGBMRegressor'] = [rmse_train4, rmse_valid4, rmse_test4]"
   ]
  },
  {
   "cell_type": "markdown",
   "metadata": {},
   "source": [
    "## Тестирование"
   ]
  },
  {
   "cell_type": "code",
   "execution_count": 26,
   "metadata": {},
   "outputs": [
    {
     "data": {
      "text/html": [
       "<div>\n",
       "<style scoped>\n",
       "    .dataframe tbody tr th:only-of-type {\n",
       "        vertical-align: middle;\n",
       "    }\n",
       "\n",
       "    .dataframe tbody tr th {\n",
       "        vertical-align: top;\n",
       "    }\n",
       "\n",
       "    .dataframe thead th {\n",
       "        text-align: right;\n",
       "    }\n",
       "</style>\n",
       "<table border=\"1\" class=\"dataframe\">\n",
       "  <thead>\n",
       "    <tr style=\"text-align: right;\">\n",
       "      <th></th>\n",
       "      <th>RMSE train</th>\n",
       "      <th>RMSE valid</th>\n",
       "      <th>RMSE test</th>\n",
       "    </tr>\n",
       "  </thead>\n",
       "  <tbody>\n",
       "    <tr>\n",
       "      <th>LinearRegression</th>\n",
       "      <td>22.126811</td>\n",
       "      <td>31.640794</td>\n",
       "      <td>44.071920</td>\n",
       "    </tr>\n",
       "    <tr>\n",
       "      <th>DecisionTreeRegressor</th>\n",
       "      <td>18.963613</td>\n",
       "      <td>38.010560</td>\n",
       "      <td>57.003884</td>\n",
       "    </tr>\n",
       "    <tr>\n",
       "      <th>CatBoostRegressor</th>\n",
       "      <td>23.068293</td>\n",
       "      <td>33.136319</td>\n",
       "      <td>40.532218</td>\n",
       "    </tr>\n",
       "    <tr>\n",
       "      <th>LGBMRegressor</th>\n",
       "      <td>21.373399</td>\n",
       "      <td>32.697697</td>\n",
       "      <td>42.882185</td>\n",
       "    </tr>\n",
       "  </tbody>\n",
       "</table>\n",
       "</div>"
      ],
      "text/plain": [
       "                       RMSE train  RMSE valid  RMSE test\n",
       "LinearRegression        22.126811   31.640794  44.071920\n",
       "DecisionTreeRegressor   18.963613   38.010560  57.003884\n",
       "CatBoostRegressor       23.068293   33.136319  40.532218\n",
       "LGBMRegressor           21.373399   32.697697  42.882185"
      ]
     },
     "metadata": {},
     "output_type": "display_data"
    }
   ],
   "source": [
    "taxi_score = pd.DataFrame.from_dict(data=model_score, columns=['RMSE train', 'RMSE valid', 'RMSE test'], orient='index')\n",
    "display(taxi_score)"
   ]
  },
  {
   "cell_type": "code",
   "execution_count": 27,
   "metadata": {},
   "outputs": [
    {
     "data": {
      "text/plain": [
       "<matplotlib.collections.LineCollection at 0x7f486c27b760>"
      ]
     },
     "execution_count": 27,
     "metadata": {},
     "output_type": "execute_result"
    },
    {
     "data": {
      "image/png": "[encoded data removed]",
      "text/plain": [
       "<Figure size 432x288 with 1 Axes>"
      ]
     },
     "metadata": {
      "needs_background": "light"
     },
     "output_type": "display_data"
    }
   ],
   "source": [
    "taxi_score.plot.bar(stacked=False).hlines(48, -5, 10, color='k')"
   ]
  },
  {
   "cell_type": "markdown",
   "metadata": {},
   "source": [
    "В данной работе было:  \n",
    "- Проведено ресемплирование временного ряда.  \n",
    "- Проанализированы данные на сезонность и тренд как всего объема данных, так и отдельно взятой недели, выявлены закономерности.  \n",
    "- Добавлены отстающие признаки, скользящего среднего и признаки даты\n",
    "- Обучены модели различных регрессий, найдена метрика RMSE на обучающей, тестовой и валидационной выборках."
   ]
  },
  {
   "cell_type": "markdown",
   "metadata": {},
   "source": [
    "**Вывод**  \n",
    "\n",
    "Лучшее показание метрики RMSE показала модель **CatBoostRegressor** (ошибка в 40-41 машину в час).  \n",
    "Чуть хуже - *LGBMRegressor* (ошибка в 43 машины в час)"
   ]
  }
 ],
 "metadata": {
  "ExecuteTimeLog": [
   {
    "duration": 1707,
    "start_time": "2022-06-17T18:01:52.792Z"
   },
   {
    "duration": 319,
    "start_time": "2022-06-17T18:02:10.578Z"
   },
   {
    "duration": 20,
    "start_time": "2022-06-17T18:05:14.871Z"
   },
   {
    "duration": 6,
    "start_time": "2022-06-17T18:15:03.541Z"
   },
   {
    "duration": 6,
    "start_time": "2022-06-17T18:15:12.575Z"
   },
   {
    "duration": 256,
    "start_time": "2022-06-17T18:18:38.642Z"
   },
   {
    "duration": 216,
    "start_time": "2022-06-17T18:19:01.175Z"
   },
   {
    "duration": 327,
    "start_time": "2022-06-17T18:19:09.349Z"
   },
   {
    "duration": 257,
    "start_time": "2022-06-17T19:20:36.029Z"
   },
   {
    "duration": 108,
    "start_time": "2022-06-17T19:45:56.012Z"
   },
   {
    "duration": 345,
    "start_time": "2022-06-17T19:46:21.533Z"
   },
   {
    "duration": 724,
    "start_time": "2022-06-17T19:46:43.489Z"
   },
   {
    "duration": 596,
    "start_time": "2022-06-17T19:46:55.413Z"
   },
   {
    "duration": 237,
    "start_time": "2022-06-17T19:47:04.731Z"
   },
   {
    "duration": 365,
    "start_time": "2022-06-17T19:47:17.923Z"
   },
   {
    "duration": 614,
    "start_time": "2022-06-17T19:47:35.536Z"
   },
   {
    "duration": 347,
    "start_time": "2022-06-17T19:47:50.297Z"
   },
   {
    "duration": 417,
    "start_time": "2022-06-17T19:48:12.378Z"
   },
   {
    "duration": 626,
    "start_time": "2022-06-17T19:48:26.256Z"
   },
   {
    "duration": 479,
    "start_time": "2022-06-17T19:48:42.497Z"
   },
   {
    "duration": 639,
    "start_time": "2022-06-17T19:49:14.366Z"
   },
   {
    "duration": 244,
    "start_time": "2022-06-17T19:49:27.379Z"
   },
   {
    "duration": 208,
    "start_time": "2022-06-17T19:49:42.770Z"
   },
   {
    "duration": 345,
    "start_time": "2022-06-17T19:50:00.335Z"
   },
   {
    "duration": 260,
    "start_time": "2022-06-17T19:52:38.832Z"
   },
   {
    "duration": 202,
    "start_time": "2022-06-17T19:53:37.943Z"
   },
   {
    "duration": 216,
    "start_time": "2022-06-17T19:54:05.151Z"
   },
   {
    "duration": 193,
    "start_time": "2022-06-17T19:55:45.528Z"
   },
   {
    "duration": 235,
    "start_time": "2022-06-17T19:56:11.246Z"
   },
   {
    "duration": 287,
    "start_time": "2022-06-17T20:09:05.364Z"
   },
   {
    "duration": 361,
    "start_time": "2022-06-17T20:11:00.258Z"
   },
   {
    "duration": 1795,
    "start_time": "2022-06-23T14:25:32.917Z"
   },
   {
    "duration": 213,
    "start_time": "2022-06-23T14:25:34.715Z"
   },
   {
    "duration": 19,
    "start_time": "2022-06-23T14:25:34.929Z"
   },
   {
    "duration": 8,
    "start_time": "2022-06-23T14:25:34.950Z"
   },
   {
    "duration": 255,
    "start_time": "2022-06-23T14:25:34.960Z"
   },
   {
    "duration": 253,
    "start_time": "2022-06-23T14:25:35.217Z"
   },
   {
    "duration": 360,
    "start_time": "2022-06-23T14:25:35.472Z"
   },
   {
    "duration": 262,
    "start_time": "2022-06-23T14:25:35.834Z"
   },
   {
    "duration": 1567,
    "start_time": "2022-06-23T19:05:25.113Z"
   },
   {
    "duration": 57,
    "start_time": "2022-06-23T19:05:26.682Z"
   },
   {
    "duration": 15,
    "start_time": "2022-06-23T19:05:26.740Z"
   },
   {
    "duration": 6,
    "start_time": "2022-06-23T19:05:26.757Z"
   },
   {
    "duration": 258,
    "start_time": "2022-06-23T19:05:26.764Z"
   },
   {
    "duration": 246,
    "start_time": "2022-06-23T19:05:27.030Z"
   },
   {
    "duration": 343,
    "start_time": "2022-06-23T19:05:27.278Z"
   },
   {
    "duration": 247,
    "start_time": "2022-06-23T19:05:27.622Z"
   },
   {
    "duration": 111,
    "start_time": "2022-06-23T19:18:45.815Z"
   },
   {
    "duration": 228,
    "start_time": "2022-06-23T19:18:57.018Z"
   },
   {
    "duration": 217,
    "start_time": "2022-06-23T19:20:44.802Z"
   },
   {
    "duration": 215,
    "start_time": "2022-06-23T19:21:22.991Z"
   },
   {
    "duration": 236,
    "start_time": "2022-06-23T19:21:39.717Z"
   },
   {
    "duration": 377,
    "start_time": "2022-06-23T19:23:04.641Z"
   },
   {
    "duration": 2021,
    "start_time": "2022-06-23T19:23:12.541Z"
   },
   {
    "duration": 160,
    "start_time": "2022-06-23T19:23:14.564Z"
   },
   {
    "duration": 18,
    "start_time": "2022-06-23T19:23:14.726Z"
   },
   {
    "duration": 11,
    "start_time": "2022-06-23T19:23:14.747Z"
   },
   {
    "duration": 290,
    "start_time": "2022-06-23T19:23:14.759Z"
   },
   {
    "duration": 264,
    "start_time": "2022-06-23T19:23:15.051Z"
   },
   {
    "duration": 378,
    "start_time": "2022-06-23T19:23:15.318Z"
   },
   {
    "duration": 243,
    "start_time": "2022-06-23T19:23:15.698Z"
   },
   {
    "duration": 275,
    "start_time": "2022-06-23T19:23:15.944Z"
   },
   {
    "duration": 236,
    "start_time": "2022-06-23T19:24:22.634Z"
   },
   {
    "duration": 567,
    "start_time": "2022-06-23T19:24:42.002Z"
   },
   {
    "duration": 509,
    "start_time": "2022-06-23T19:25:48.822Z"
   },
   {
    "duration": 597,
    "start_time": "2022-06-23T19:28:37.556Z"
   },
   {
    "duration": 1500,
    "start_time": "2022-06-23T19:29:32.037Z"
   },
   {
    "duration": 63,
    "start_time": "2022-06-23T19:29:33.540Z"
   },
   {
    "duration": 15,
    "start_time": "2022-06-23T19:29:33.604Z"
   },
   {
    "duration": 6,
    "start_time": "2022-06-23T19:29:33.620Z"
   },
   {
    "duration": 267,
    "start_time": "2022-06-23T19:29:33.629Z"
   },
   {
    "duration": 266,
    "start_time": "2022-06-23T19:29:33.898Z"
   },
   {
    "duration": 342,
    "start_time": "2022-06-23T19:29:34.166Z"
   },
   {
    "duration": 246,
    "start_time": "2022-06-23T19:29:34.510Z"
   },
   {
    "duration": 10,
    "start_time": "2022-06-23T19:29:34.758Z"
   },
   {
    "duration": 581,
    "start_time": "2022-06-23T19:29:34.770Z"
   },
   {
    "duration": 4,
    "start_time": "2022-06-23T19:58:53.608Z"
   },
   {
    "duration": 4,
    "start_time": "2022-06-23T19:59:12.702Z"
   },
   {
    "duration": 15,
    "start_time": "2022-06-23T20:38:48.482Z"
   },
   {
    "duration": 23,
    "start_time": "2022-06-23T20:39:18.093Z"
   },
   {
    "duration": 145,
    "start_time": "2022-06-23T20:39:46.234Z"
   },
   {
    "duration": 21,
    "start_time": "2022-06-23T20:40:08.443Z"
   },
   {
    "duration": 23,
    "start_time": "2022-06-23T20:40:42.487Z"
   },
   {
    "duration": 9,
    "start_time": "2022-06-23T20:53:06.302Z"
   },
   {
    "duration": 7,
    "start_time": "2022-06-23T20:53:27.088Z"
   },
   {
    "duration": 6,
    "start_time": "2022-06-23T20:54:53.696Z"
   },
   {
    "duration": 9,
    "start_time": "2022-06-23T20:58:46.915Z"
   },
   {
    "duration": 13,
    "start_time": "2022-06-23T21:01:12.602Z"
   },
   {
    "duration": 91,
    "start_time": "2022-06-23T21:02:13.243Z"
   },
   {
    "duration": 11,
    "start_time": "2022-06-23T21:03:24.952Z"
   },
   {
    "duration": 18,
    "start_time": "2022-06-23T21:04:12.031Z"
   },
   {
    "duration": 1382,
    "start_time": "2022-06-23T21:05:27.995Z"
   },
   {
    "duration": 58,
    "start_time": "2022-06-23T21:05:29.379Z"
   },
   {
    "duration": 16,
    "start_time": "2022-06-23T21:05:29.439Z"
   },
   {
    "duration": 21,
    "start_time": "2022-06-23T21:05:29.457Z"
   },
   {
    "duration": 253,
    "start_time": "2022-06-23T21:05:29.479Z"
   },
   {
    "duration": 240,
    "start_time": "2022-06-23T21:05:29.733Z"
   },
   {
    "duration": 340,
    "start_time": "2022-06-23T21:05:29.975Z"
   },
   {
    "duration": 247,
    "start_time": "2022-06-23T21:05:30.316Z"
   },
   {
    "duration": 534,
    "start_time": "2022-06-23T21:05:30.565Z"
   },
   {
    "duration": 24,
    "start_time": "2022-06-23T21:05:31.102Z"
   },
   {
    "duration": 8,
    "start_time": "2022-06-23T21:05:31.128Z"
   },
   {
    "duration": 12,
    "start_time": "2022-06-23T21:05:31.138Z"
   },
   {
    "duration": 83,
    "start_time": "2022-06-23T21:05:31.152Z"
   },
   {
    "duration": 13,
    "start_time": "2022-06-23T21:12:03.198Z"
   },
   {
    "duration": 118,
    "start_time": "2022-06-23T21:12:10.340Z"
   },
   {
    "duration": 22,
    "start_time": "2022-06-23T21:13:06.660Z"
   },
   {
    "duration": 21,
    "start_time": "2022-06-23T21:13:11.992Z"
   },
   {
    "duration": 408,
    "start_time": "2022-06-23T21:13:27.879Z"
   },
   {
    "duration": 1784,
    "start_time": "2022-06-24T05:03:09.238Z"
   },
   {
    "duration": 233,
    "start_time": "2022-06-24T05:03:11.024Z"
   },
   {
    "duration": 19,
    "start_time": "2022-06-24T05:03:11.260Z"
   },
   {
    "duration": 7,
    "start_time": "2022-06-24T05:03:11.282Z"
   },
   {
    "duration": 265,
    "start_time": "2022-06-24T05:03:11.291Z"
   },
   {
    "duration": 389,
    "start_time": "2022-06-24T05:03:11.558Z"
   },
   {
    "duration": 323,
    "start_time": "2022-06-24T05:03:11.949Z"
   },
   {
    "duration": 310,
    "start_time": "2022-06-24T05:03:12.275Z"
   },
   {
    "duration": 618,
    "start_time": "2022-06-24T05:03:12.587Z"
   },
   {
    "duration": 32,
    "start_time": "2022-06-24T05:03:13.207Z"
   },
   {
    "duration": 9,
    "start_time": "2022-06-24T05:03:13.241Z"
   },
   {
    "duration": 20,
    "start_time": "2022-06-24T05:03:13.252Z"
   },
   {
    "duration": 159,
    "start_time": "2022-06-24T05:03:13.274Z"
   },
   {
    "duration": 560,
    "start_time": "2022-06-24T05:03:13.435Z"
   },
   {
    "duration": 38,
    "start_time": "2022-06-24T05:05:21.075Z"
   },
   {
    "duration": 95,
    "start_time": "2022-06-24T05:05:33.290Z"
   },
   {
    "duration": 38,
    "start_time": "2022-06-24T05:05:45.452Z"
   },
   {
    "duration": 91,
    "start_time": "2022-06-24T05:57:22.741Z"
   },
   {
    "duration": 4,
    "start_time": "2022-06-24T06:07:58.966Z"
   },
   {
    "duration": 1531,
    "start_time": "2022-06-24T06:13:04.340Z"
   },
   {
    "duration": 1323,
    "start_time": "2022-06-24T06:13:45.945Z"
   },
   {
    "duration": 1247,
    "start_time": "2022-06-24T06:13:54.868Z"
   },
   {
    "duration": 1563,
    "start_time": "2022-06-24T06:14:05.445Z"
   },
   {
    "duration": 962,
    "start_time": "2022-06-24T06:14:20.946Z"
   },
   {
    "duration": 866,
    "start_time": "2022-06-24T06:14:30.099Z"
   },
   {
    "duration": 1130,
    "start_time": "2022-06-24T06:15:06.986Z"
   },
   {
    "duration": 738,
    "start_time": "2022-06-24T06:15:17.350Z"
   },
   {
    "duration": 970,
    "start_time": "2022-06-24T06:15:31.441Z"
   },
   {
    "duration": 700,
    "start_time": "2022-06-24T06:15:40.381Z"
   },
   {
    "duration": 731,
    "start_time": "2022-06-24T06:16:09.851Z"
   },
   {
    "duration": 753,
    "start_time": "2022-06-24T06:16:21.352Z"
   },
   {
    "duration": 2126,
    "start_time": "2022-06-24T06:16:32.752Z"
   },
   {
    "duration": 1430,
    "start_time": "2022-06-24T06:16:42.378Z"
   },
   {
    "duration": 1404,
    "start_time": "2022-06-24T06:17:04.948Z"
   },
   {
    "duration": 1289,
    "start_time": "2022-06-24T06:18:22.411Z"
   },
   {
    "duration": 4,
    "start_time": "2022-06-24T06:19:08.813Z"
   },
   {
    "duration": 128,
    "start_time": "2022-06-24T06:19:15.674Z"
   },
   {
    "duration": 4,
    "start_time": "2022-06-24T06:19:41.768Z"
   },
   {
    "duration": 2867,
    "start_time": "2022-06-24T06:19:47.412Z"
   },
   {
    "duration": 48439,
    "start_time": "2022-06-24T06:20:30.838Z"
   },
   {
    "duration": 101492,
    "start_time": "2022-06-24T06:38:40.000Z"
   },
   {
    "duration": 170318,
    "start_time": "2022-06-24T06:40:47.187Z"
   },
   {
    "duration": 137210,
    "start_time": "2022-06-24T06:52:37.864Z"
   },
   {
    "duration": 108,
    "start_time": "2022-06-24T07:41:14.983Z"
   },
   {
    "duration": 142306,
    "start_time": "2022-06-24T07:41:37.456Z"
   },
   {
    "duration": 97283,
    "start_time": "2022-06-24T07:46:52.511Z"
   },
   {
    "duration": 15640,
    "start_time": "2022-06-24T07:48:50.112Z"
   },
   {
    "duration": 159146,
    "start_time": "2022-06-24T07:49:14.408Z"
   },
   {
    "duration": 1504,
    "start_time": "2022-06-24T07:56:48.201Z"
   },
   {
    "duration": 62,
    "start_time": "2022-06-24T07:56:49.706Z"
   },
   {
    "duration": 23,
    "start_time": "2022-06-24T07:56:49.770Z"
   },
   {
    "duration": 19,
    "start_time": "2022-06-24T07:56:49.796Z"
   },
   {
    "duration": 273,
    "start_time": "2022-06-24T07:56:49.816Z"
   },
   {
    "duration": 365,
    "start_time": "2022-06-24T07:56:50.091Z"
   },
   {
    "duration": 294,
    "start_time": "2022-06-24T07:56:50.458Z"
   },
   {
    "duration": 292,
    "start_time": "2022-06-24T07:56:50.754Z"
   },
   {
    "duration": 613,
    "start_time": "2022-06-24T07:56:51.048Z"
   },
   {
    "duration": 26,
    "start_time": "2022-06-24T07:56:51.664Z"
   },
   {
    "duration": 8,
    "start_time": "2022-06-24T07:56:51.692Z"
   },
   {
    "duration": 22,
    "start_time": "2022-06-24T07:56:51.702Z"
   },
   {
    "duration": 34,
    "start_time": "2022-06-24T07:56:51.727Z"
   },
   {
    "duration": 88,
    "start_time": "2022-06-24T07:56:51.840Z"
   },
   {
    "duration": 66,
    "start_time": "2022-06-24T07:56:51.929Z"
   },
   {
    "duration": 1399,
    "start_time": "2022-06-24T07:56:51.997Z"
   },
   {
    "duration": 143258,
    "start_time": "2022-06-24T07:56:53.398Z"
   },
   {
    "duration": 0,
    "start_time": "2022-06-24T07:59:16.657Z"
   },
   {
    "duration": 154288,
    "start_time": "2022-06-24T08:02:09.645Z"
   },
   {
    "duration": 145856,
    "start_time": "2022-06-24T08:07:52.702Z"
   },
   {
    "duration": 12,
    "start_time": "2022-06-24T08:10:31.789Z"
   },
   {
    "duration": 8367,
    "start_time": "2022-06-24T08:14:41.047Z"
   },
   {
    "duration": 42,
    "start_time": "2022-06-24T08:19:28.051Z"
   },
   {
    "duration": 4,
    "start_time": "2022-06-24T08:24:04.258Z"
   },
   {
    "duration": 15,
    "start_time": "2022-06-24T08:27:47.352Z"
   },
   {
    "duration": 3,
    "start_time": "2022-06-24T08:28:20.649Z"
   },
   {
    "duration": 18,
    "start_time": "2022-06-24T08:28:24.502Z"
   },
   {
    "duration": 18,
    "start_time": "2022-06-24T08:29:04.624Z"
   },
   {
    "duration": 11,
    "start_time": "2022-06-24T08:30:25.233Z"
   },
   {
    "duration": 14,
    "start_time": "2022-06-24T08:30:41.999Z"
   },
   {
    "duration": 93407,
    "start_time": "2022-06-24T08:31:15.824Z"
   },
   {
    "duration": 50,
    "start_time": "2022-06-24T08:36:08.895Z"
   },
   {
    "duration": 108,
    "start_time": "2022-06-24T08:36:20.292Z"
   },
   {
    "duration": 73,
    "start_time": "2022-06-24T08:36:45.318Z"
   },
   {
    "duration": 12,
    "start_time": "2022-06-24T08:36:56.206Z"
   },
   {
    "duration": 49,
    "start_time": "2022-06-24T08:37:11.673Z"
   },
   {
    "duration": 14,
    "start_time": "2022-06-24T08:37:39.888Z"
   },
   {
    "duration": 5091,
    "start_time": "2022-06-24T08:38:31.040Z"
   },
   {
    "duration": 2421,
    "start_time": "2022-06-24T08:39:04.305Z"
   },
   {
    "duration": 20,
    "start_time": "2022-06-24T08:42:12.221Z"
   },
   {
    "duration": 1426,
    "start_time": "2022-06-24T08:42:58.430Z"
   },
   {
    "duration": 52,
    "start_time": "2022-06-24T08:42:59.858Z"
   },
   {
    "duration": 14,
    "start_time": "2022-06-24T08:42:59.912Z"
   },
   {
    "duration": 18,
    "start_time": "2022-06-24T08:42:59.929Z"
   },
   {
    "duration": 258,
    "start_time": "2022-06-24T08:42:59.948Z"
   },
   {
    "duration": 343,
    "start_time": "2022-06-24T08:43:00.207Z"
   },
   {
    "duration": 263,
    "start_time": "2022-06-24T08:43:00.552Z"
   },
   {
    "duration": 239,
    "start_time": "2022-06-24T08:43:00.826Z"
   },
   {
    "duration": 574,
    "start_time": "2022-06-24T08:43:01.067Z"
   },
   {
    "duration": 23,
    "start_time": "2022-06-24T08:43:01.644Z"
   },
   {
    "duration": 63,
    "start_time": "2022-06-24T08:43:01.669Z"
   },
   {
    "duration": 43,
    "start_time": "2022-06-24T08:43:01.733Z"
   },
   {
    "duration": 151,
    "start_time": "2022-06-24T08:43:01.778Z"
   },
   {
    "duration": 120,
    "start_time": "2022-06-24T08:43:01.932Z"
   },
   {
    "duration": 97,
    "start_time": "2022-06-24T08:43:02.053Z"
   },
   {
    "duration": 1324,
    "start_time": "2022-06-24T08:43:02.152Z"
   },
   {
    "duration": 138142,
    "start_time": "2022-06-24T08:43:03.478Z"
   },
   {
    "duration": 7801,
    "start_time": "2022-06-24T08:45:21.621Z"
   },
   {
    "duration": 97404,
    "start_time": "2022-06-24T08:45:29.424Z"
   },
   {
    "duration": 3904,
    "start_time": "2022-06-24T08:47:06.830Z"
   },
   {
    "duration": 7361,
    "start_time": "2022-06-24T08:48:33.846Z"
   },
   {
    "duration": 1569,
    "start_time": "2022-06-24T08:53:33.485Z"
   },
   {
    "duration": 57,
    "start_time": "2022-06-24T08:53:35.056Z"
   },
   {
    "duration": 16,
    "start_time": "2022-06-24T08:53:35.115Z"
   },
   {
    "duration": 13,
    "start_time": "2022-06-24T08:53:35.134Z"
   },
   {
    "duration": 248,
    "start_time": "2022-06-24T08:53:35.149Z"
   },
   {
    "duration": 328,
    "start_time": "2022-06-24T08:53:35.399Z"
   },
   {
    "duration": 266,
    "start_time": "2022-06-24T08:53:35.728Z"
   },
   {
    "duration": 245,
    "start_time": "2022-06-24T08:53:35.996Z"
   },
   {
    "duration": 523,
    "start_time": "2022-06-24T08:53:36.242Z"
   },
   {
    "duration": 25,
    "start_time": "2022-06-24T08:53:36.768Z"
   },
   {
    "duration": 7,
    "start_time": "2022-06-24T08:53:36.795Z"
   },
   {
    "duration": 15,
    "start_time": "2022-06-24T08:53:36.803Z"
   },
   {
    "duration": 106,
    "start_time": "2022-06-24T08:53:36.819Z"
   },
   {
    "duration": 98,
    "start_time": "2022-06-24T08:53:36.929Z"
   },
   {
    "duration": 39,
    "start_time": "2022-06-24T08:53:37.029Z"
   },
   {
    "duration": 1249,
    "start_time": "2022-06-24T08:53:37.070Z"
   },
   {
    "duration": 140057,
    "start_time": "2022-06-24T08:53:38.320Z"
   },
   {
    "duration": 8556,
    "start_time": "2022-06-24T08:55:58.379Z"
   },
   {
    "duration": 122799,
    "start_time": "2022-06-24T08:56:06.937Z"
   },
   {
    "duration": 2488,
    "start_time": "2022-06-24T08:58:09.738Z"
   },
   {
    "duration": 1459,
    "start_time": "2022-06-24T09:01:20.149Z"
   },
   {
    "duration": 55,
    "start_time": "2022-06-24T09:01:21.610Z"
   },
   {
    "duration": 16,
    "start_time": "2022-06-24T09:01:21.666Z"
   },
   {
    "duration": 6,
    "start_time": "2022-06-24T09:01:21.684Z"
   },
   {
    "duration": 264,
    "start_time": "2022-06-24T09:01:21.692Z"
   },
   {
    "duration": 339,
    "start_time": "2022-06-24T09:01:21.958Z"
   },
   {
    "duration": 262,
    "start_time": "2022-06-24T09:01:22.299Z"
   },
   {
    "duration": 246,
    "start_time": "2022-06-24T09:01:22.562Z"
   },
   {
    "duration": 535,
    "start_time": "2022-06-24T09:01:22.810Z"
   },
   {
    "duration": 26,
    "start_time": "2022-06-24T09:01:23.348Z"
   },
   {
    "duration": 7,
    "start_time": "2022-06-24T09:01:23.376Z"
   },
   {
    "duration": 14,
    "start_time": "2022-06-24T09:01:23.385Z"
   },
   {
    "duration": 34,
    "start_time": "2022-06-24T09:01:23.400Z"
   },
   {
    "duration": 3,
    "start_time": "2022-06-24T09:01:23.437Z"
   },
   {
    "duration": 628,
    "start_time": "2022-06-24T09:01:23.526Z"
   },
   {
    "duration": 1365,
    "start_time": "2022-06-24T09:01:24.155Z"
   },
   {
    "duration": 150154,
    "start_time": "2022-06-24T09:01:25.521Z"
   },
   {
    "duration": 9080,
    "start_time": "2022-06-24T09:03:55.677Z"
   },
   {
    "duration": 101076,
    "start_time": "2022-06-24T09:04:04.759Z"
   },
   {
    "duration": 2498,
    "start_time": "2022-06-24T09:05:45.837Z"
   },
   {
    "duration": 1538,
    "start_time": "2022-06-24T09:07:15.315Z"
   },
   {
    "duration": 54,
    "start_time": "2022-06-24T09:07:16.855Z"
   },
   {
    "duration": 18,
    "start_time": "2022-06-24T09:07:16.911Z"
   },
   {
    "duration": 31,
    "start_time": "2022-06-24T09:07:16.932Z"
   },
   {
    "duration": 257,
    "start_time": "2022-06-24T09:07:16.965Z"
   },
   {
    "duration": 332,
    "start_time": "2022-06-24T09:07:17.225Z"
   },
   {
    "duration": 258,
    "start_time": "2022-06-24T09:07:17.559Z"
   },
   {
    "duration": 246,
    "start_time": "2022-06-24T09:07:17.818Z"
   },
   {
    "duration": 571,
    "start_time": "2022-06-24T09:07:18.066Z"
   },
   {
    "duration": 31,
    "start_time": "2022-06-24T09:07:18.642Z"
   },
   {
    "duration": 8,
    "start_time": "2022-06-24T09:07:18.676Z"
   },
   {
    "duration": 13,
    "start_time": "2022-06-24T09:07:18.686Z"
   },
   {
    "duration": 125,
    "start_time": "2022-06-24T09:07:18.701Z"
   },
   {
    "duration": 100,
    "start_time": "2022-06-24T09:07:18.829Z"
   },
   {
    "duration": 633,
    "start_time": "2022-06-24T09:07:18.931Z"
   },
   {
    "duration": 1448,
    "start_time": "2022-06-24T09:07:19.566Z"
   },
   {
    "duration": 154070,
    "start_time": "2022-06-24T09:07:21.015Z"
   },
   {
    "duration": 11161,
    "start_time": "2022-06-24T09:09:55.087Z"
   },
   {
    "duration": 106285,
    "start_time": "2022-06-24T09:10:06.250Z"
   },
   {
    "duration": 2505,
    "start_time": "2022-06-24T09:11:52.537Z"
   },
   {
    "duration": 2659,
    "start_time": "2022-06-24T09:12:50.276Z"
   },
   {
    "duration": 1635,
    "start_time": "2022-06-24T09:14:31.487Z"
   },
   {
    "duration": 57,
    "start_time": "2022-06-24T09:14:33.125Z"
   },
   {
    "duration": 18,
    "start_time": "2022-06-24T09:14:33.183Z"
   },
   {
    "duration": 8,
    "start_time": "2022-06-24T09:14:33.203Z"
   },
   {
    "duration": 267,
    "start_time": "2022-06-24T09:14:33.214Z"
   },
   {
    "duration": 360,
    "start_time": "2022-06-24T09:14:33.483Z"
   },
   {
    "duration": 301,
    "start_time": "2022-06-24T09:14:33.845Z"
   },
   {
    "duration": 315,
    "start_time": "2022-06-24T09:14:34.148Z"
   },
   {
    "duration": 763,
    "start_time": "2022-06-24T09:14:34.466Z"
   },
   {
    "duration": 23,
    "start_time": "2022-06-24T09:14:35.232Z"
   },
   {
    "duration": 10,
    "start_time": "2022-06-24T09:14:35.257Z"
   },
   {
    "duration": 20,
    "start_time": "2022-06-24T09:14:35.270Z"
   },
   {
    "duration": 141,
    "start_time": "2022-06-24T09:14:35.291Z"
   },
   {
    "duration": 3,
    "start_time": "2022-06-24T09:14:35.434Z"
   },
   {
    "duration": 468,
    "start_time": "2022-06-24T09:14:35.438Z"
   },
   {
    "duration": 1150,
    "start_time": "2022-06-24T09:14:35.908Z"
   },
   {
    "duration": 141677,
    "start_time": "2022-06-24T09:14:37.059Z"
   },
   {
    "duration": 9425,
    "start_time": "2022-06-24T09:16:58.738Z"
   },
   {
    "duration": 104870,
    "start_time": "2022-06-24T09:17:08.165Z"
   },
   {
    "duration": 2590,
    "start_time": "2022-06-24T09:18:53.037Z"
   },
   {
    "duration": 1724,
    "start_time": "2022-06-24T09:30:07.352Z"
   },
   {
    "duration": 54,
    "start_time": "2022-06-24T09:30:09.078Z"
   },
   {
    "duration": 15,
    "start_time": "2022-06-24T09:30:09.134Z"
   },
   {
    "duration": 6,
    "start_time": "2022-06-24T09:30:09.151Z"
   },
   {
    "duration": 259,
    "start_time": "2022-06-24T09:30:09.159Z"
   },
   {
    "duration": 332,
    "start_time": "2022-06-24T09:30:09.419Z"
   },
   {
    "duration": 256,
    "start_time": "2022-06-24T09:30:09.753Z"
   },
   {
    "duration": 241,
    "start_time": "2022-06-24T09:30:10.011Z"
   },
   {
    "duration": 527,
    "start_time": "2022-06-24T09:30:10.254Z"
   },
   {
    "duration": 23,
    "start_time": "2022-06-24T09:30:10.784Z"
   },
   {
    "duration": 7,
    "start_time": "2022-06-24T09:30:10.808Z"
   },
   {
    "duration": 13,
    "start_time": "2022-06-24T09:30:10.817Z"
   },
   {
    "duration": 17,
    "start_time": "2022-06-24T09:30:10.832Z"
   },
   {
    "duration": 4,
    "start_time": "2022-06-24T09:30:10.928Z"
   },
   {
    "duration": 552,
    "start_time": "2022-06-24T09:30:10.934Z"
   },
   {
    "duration": 1154,
    "start_time": "2022-06-24T09:30:11.488Z"
   },
   {
    "duration": 137476,
    "start_time": "2022-06-24T09:30:12.644Z"
   },
   {
    "duration": 8102,
    "start_time": "2022-06-24T09:32:30.122Z"
   },
   {
    "duration": 1137207,
    "start_time": "2022-06-24T09:32:38.226Z"
   },
   {
    "duration": 55308,
    "start_time": "2022-06-24T09:51:35.435Z"
   },
   {
    "duration": 1746,
    "start_time": "2022-06-24T11:56:57.363Z"
   },
   {
    "duration": 244,
    "start_time": "2022-06-24T11:56:59.111Z"
   },
   {
    "duration": 19,
    "start_time": "2022-06-24T11:56:59.359Z"
   },
   {
    "duration": 35,
    "start_time": "2022-06-24T11:56:59.381Z"
   },
   {
    "duration": 272,
    "start_time": "2022-06-24T11:56:59.418Z"
   },
   {
    "duration": 351,
    "start_time": "2022-06-24T11:56:59.692Z"
   },
   {
    "duration": 301,
    "start_time": "2022-06-24T11:57:00.045Z"
   },
   {
    "duration": 285,
    "start_time": "2022-06-24T11:57:00.348Z"
   },
   {
    "duration": 599,
    "start_time": "2022-06-24T11:57:00.635Z"
   },
   {
    "duration": 23,
    "start_time": "2022-06-24T11:57:01.235Z"
   },
   {
    "duration": 24,
    "start_time": "2022-06-24T11:57:01.259Z"
   },
   {
    "duration": 44,
    "start_time": "2022-06-24T11:57:01.289Z"
   },
   {
    "duration": 54,
    "start_time": "2022-06-24T11:57:01.335Z"
   },
   {
    "duration": 119,
    "start_time": "2022-06-24T11:57:01.391Z"
   },
   {
    "duration": 539,
    "start_time": "2022-06-24T11:57:01.511Z"
   },
   {
    "duration": 1621,
    "start_time": "2022-06-24T11:57:02.052Z"
   },
   {
    "duration": 173935,
    "start_time": "2022-06-24T11:57:03.678Z"
   },
   {
    "duration": 10278,
    "start_time": "2022-06-24T11:59:57.615Z"
   },
   {
    "duration": 320377,
    "start_time": "2022-06-24T12:00:07.895Z"
   },
   {
    "duration": 2598,
    "start_time": "2022-06-24T12:05:28.275Z"
   },
   {
    "duration": 192,
    "start_time": "2022-06-24T12:17:23.695Z"
   },
   {
    "duration": 80,
    "start_time": "2022-06-24T12:18:03.327Z"
   },
   {
    "duration": 40,
    "start_time": "2022-06-24T12:18:23.929Z"
   },
   {
    "duration": 1440,
    "start_time": "2022-06-24T12:18:59.878Z"
   },
   {
    "duration": 74,
    "start_time": "2022-06-24T12:20:50.221Z"
   },
   {
    "duration": 16,
    "start_time": "2022-06-24T12:21:16.388Z"
   },
   {
    "duration": 7219,
    "start_time": "2022-06-24T12:21:35.665Z"
   },
   {
    "duration": 94202,
    "start_time": "2022-06-24T12:22:43.674Z"
   },
   {
    "duration": 4,
    "start_time": "2022-06-24T12:25:15.338Z"
   },
   {
    "duration": 4,
    "start_time": "2022-06-24T12:25:44.531Z"
   },
   {
    "duration": 17,
    "start_time": "2022-06-24T12:26:53.341Z"
   },
   {
    "duration": 70,
    "start_time": "2022-06-24T12:27:09.988Z"
   },
   {
    "duration": 16,
    "start_time": "2022-06-24T12:27:16.685Z"
   },
   {
    "duration": 6693,
    "start_time": "2022-06-24T12:27:25.997Z"
   },
   {
    "duration": 180832,
    "start_time": "2022-06-24T12:27:43.342Z"
   },
   {
    "duration": 7745,
    "start_time": "2022-06-24T12:32:25.730Z"
   },
   {
    "duration": 1273,
    "start_time": "2022-06-24T12:54:37.123Z"
   },
   {
    "duration": 941,
    "start_time": "2022-06-24T12:54:53.499Z"
   },
   {
    "duration": 1572,
    "start_time": "2022-06-24T13:03:01.165Z"
   },
   {
    "duration": 60,
    "start_time": "2022-06-24T13:03:02.739Z"
   },
   {
    "duration": 17,
    "start_time": "2022-06-24T13:03:02.801Z"
   },
   {
    "duration": 7,
    "start_time": "2022-06-24T13:03:02.820Z"
   },
   {
    "duration": 279,
    "start_time": "2022-06-24T13:03:02.829Z"
   },
   {
    "duration": 350,
    "start_time": "2022-06-24T13:03:03.110Z"
   },
   {
    "duration": 314,
    "start_time": "2022-06-24T13:03:03.461Z"
   },
   {
    "duration": 275,
    "start_time": "2022-06-24T13:03:03.784Z"
   },
   {
    "duration": 610,
    "start_time": "2022-06-24T13:03:04.061Z"
   },
   {
    "duration": 70,
    "start_time": "2022-06-24T13:03:04.674Z"
   },
   {
    "duration": 33,
    "start_time": "2022-06-24T13:03:04.746Z"
   },
   {
    "duration": 136,
    "start_time": "2022-06-24T13:03:04.781Z"
   },
   {
    "duration": 0,
    "start_time": "2022-06-24T13:03:04.919Z"
   },
   {
    "duration": 0,
    "start_time": "2022-06-24T13:03:04.921Z"
   },
   {
    "duration": 0,
    "start_time": "2022-06-24T13:03:04.922Z"
   },
   {
    "duration": 0,
    "start_time": "2022-06-24T13:03:04.924Z"
   },
   {
    "duration": 0,
    "start_time": "2022-06-24T13:03:04.925Z"
   },
   {
    "duration": 0,
    "start_time": "2022-06-24T13:03:04.926Z"
   },
   {
    "duration": 0,
    "start_time": "2022-06-24T13:03:04.927Z"
   },
   {
    "duration": 0,
    "start_time": "2022-06-24T13:03:04.928Z"
   },
   {
    "duration": 0,
    "start_time": "2022-06-24T13:03:04.929Z"
   },
   {
    "duration": 12,
    "start_time": "2022-06-24T13:22:52.020Z"
   },
   {
    "duration": 1444,
    "start_time": "2022-06-24T13:23:31.866Z"
   },
   {
    "duration": 55,
    "start_time": "2022-06-24T13:23:33.311Z"
   },
   {
    "duration": 17,
    "start_time": "2022-06-24T13:23:33.367Z"
   },
   {
    "duration": 7,
    "start_time": "2022-06-24T13:23:33.386Z"
   },
   {
    "duration": 266,
    "start_time": "2022-06-24T13:23:33.395Z"
   },
   {
    "duration": 327,
    "start_time": "2022-06-24T13:23:33.663Z"
   },
   {
    "duration": 276,
    "start_time": "2022-06-24T13:23:33.992Z"
   },
   {
    "duration": 273,
    "start_time": "2022-06-24T13:23:34.270Z"
   },
   {
    "duration": 597,
    "start_time": "2022-06-24T13:23:34.545Z"
   },
   {
    "duration": 62,
    "start_time": "2022-06-24T13:23:35.145Z"
   },
   {
    "duration": 13,
    "start_time": "2022-06-24T13:23:35.209Z"
   },
   {
    "duration": 22,
    "start_time": "2022-06-24T13:23:35.224Z"
   },
   {
    "duration": 219,
    "start_time": "2022-06-24T13:23:35.248Z"
   },
   {
    "duration": 10,
    "start_time": "2022-06-24T13:23:35.470Z"
   },
   {
    "duration": 189,
    "start_time": "2022-06-24T13:23:35.483Z"
   },
   {
    "duration": 2013,
    "start_time": "2022-06-24T13:23:35.673Z"
   },
   {
    "duration": 3013,
    "start_time": "2022-06-24T13:23:37.688Z"
   },
   {
    "duration": 198544,
    "start_time": "2022-06-24T13:23:40.703Z"
   },
   {
    "duration": 13312,
    "start_time": "2022-06-24T13:26:59.249Z"
   },
   {
    "duration": 196814,
    "start_time": "2022-06-24T13:27:12.562Z"
   },
   {
    "duration": 3491,
    "start_time": "2022-06-24T13:30:29.378Z"
   },
   {
    "duration": 1568,
    "start_time": "2022-06-24T13:34:55.547Z"
   },
   {
    "duration": 61,
    "start_time": "2022-06-24T13:34:57.117Z"
   },
   {
    "duration": 21,
    "start_time": "2022-06-24T13:34:57.180Z"
   },
   {
    "duration": 8,
    "start_time": "2022-06-24T13:34:57.202Z"
   },
   {
    "duration": 292,
    "start_time": "2022-06-24T13:34:57.213Z"
   },
   {
    "duration": 359,
    "start_time": "2022-06-24T13:34:57.507Z"
   },
   {
    "duration": 280,
    "start_time": "2022-06-24T13:34:57.868Z"
   },
   {
    "duration": 287,
    "start_time": "2022-06-24T13:34:58.150Z"
   },
   {
    "duration": 616,
    "start_time": "2022-06-24T13:34:58.439Z"
   },
   {
    "duration": 66,
    "start_time": "2022-06-24T13:34:59.057Z"
   },
   {
    "duration": 12,
    "start_time": "2022-06-24T13:34:59.125Z"
   },
   {
    "duration": 32,
    "start_time": "2022-06-24T13:34:59.139Z"
   },
   {
    "duration": 202,
    "start_time": "2022-06-24T13:34:59.173Z"
   },
   {
    "duration": 2,
    "start_time": "2022-06-24T13:34:59.379Z"
   },
   {
    "duration": 1633,
    "start_time": "2022-06-24T13:34:59.469Z"
   },
   {
    "duration": 18285,
    "start_time": "2022-06-24T13:35:01.104Z"
   },
   {
    "duration": 0,
    "start_time": "2022-06-24T13:35:19.392Z"
   },
   {
    "duration": 0,
    "start_time": "2022-06-24T13:35:19.393Z"
   },
   {
    "duration": 0,
    "start_time": "2022-06-24T13:35:19.394Z"
   },
   {
    "duration": 1558,
    "start_time": "2022-06-24T13:35:34.646Z"
   },
   {
    "duration": 59,
    "start_time": "2022-06-24T13:35:36.206Z"
   },
   {
    "duration": 18,
    "start_time": "2022-06-24T13:35:36.266Z"
   },
   {
    "duration": 8,
    "start_time": "2022-06-24T13:35:36.286Z"
   },
   {
    "duration": 289,
    "start_time": "2022-06-24T13:35:36.296Z"
   },
   {
    "duration": 353,
    "start_time": "2022-06-24T13:35:36.586Z"
   },
   {
    "duration": 337,
    "start_time": "2022-06-24T13:35:36.941Z"
   },
   {
    "duration": 295,
    "start_time": "2022-06-24T13:35:37.280Z"
   },
   {
    "duration": 589,
    "start_time": "2022-06-24T13:35:37.577Z"
   },
   {
    "duration": 58,
    "start_time": "2022-06-24T13:35:38.169Z"
   },
   {
    "duration": 12,
    "start_time": "2022-06-24T13:35:38.228Z"
   },
   {
    "duration": 38,
    "start_time": "2022-06-24T13:35:38.241Z"
   },
   {
    "duration": 94,
    "start_time": "2022-06-24T13:35:38.281Z"
   },
   {
    "duration": 109,
    "start_time": "2022-06-24T13:35:38.468Z"
   },
   {
    "duration": 1540,
    "start_time": "2022-06-24T13:35:38.579Z"
   },
   {
    "duration": 33993,
    "start_time": "2022-06-24T13:35:40.121Z"
   },
   {
    "duration": 0,
    "start_time": "2022-06-24T13:36:14.115Z"
   },
   {
    "duration": 0,
    "start_time": "2022-06-24T13:36:14.117Z"
   },
   {
    "duration": 0,
    "start_time": "2022-06-24T13:36:14.118Z"
   },
   {
    "duration": 1670,
    "start_time": "2022-06-24T13:36:18.019Z"
   },
   {
    "duration": 58,
    "start_time": "2022-06-24T13:36:19.691Z"
   },
   {
    "duration": 16,
    "start_time": "2022-06-24T13:36:19.751Z"
   },
   {
    "duration": 7,
    "start_time": "2022-06-24T13:36:19.770Z"
   },
   {
    "duration": 271,
    "start_time": "2022-06-24T13:36:19.778Z"
   },
   {
    "duration": 348,
    "start_time": "2022-06-24T13:36:20.051Z"
   },
   {
    "duration": 286,
    "start_time": "2022-06-24T13:36:20.401Z"
   },
   {
    "duration": 270,
    "start_time": "2022-06-24T13:36:20.688Z"
   },
   {
    "duration": 557,
    "start_time": "2022-06-24T13:36:20.960Z"
   },
   {
    "duration": 66,
    "start_time": "2022-06-24T13:36:21.520Z"
   },
   {
    "duration": 14,
    "start_time": "2022-06-24T13:36:21.588Z"
   },
   {
    "duration": 19,
    "start_time": "2022-06-24T13:36:21.604Z"
   },
   {
    "duration": 247,
    "start_time": "2022-06-24T13:36:21.625Z"
   },
   {
    "duration": 95,
    "start_time": "2022-06-24T13:36:21.874Z"
   },
   {
    "duration": 1852,
    "start_time": "2022-06-24T13:36:21.971Z"
   },
   {
    "duration": 27691,
    "start_time": "2022-06-24T13:36:23.825Z"
   },
   {
    "duration": 0,
    "start_time": "2022-06-24T13:36:51.518Z"
   },
   {
    "duration": 0,
    "start_time": "2022-06-24T13:36:51.518Z"
   },
   {
    "duration": 0,
    "start_time": "2022-06-24T13:36:51.520Z"
   },
   {
    "duration": 1520,
    "start_time": "2022-06-24T13:36:55.707Z"
   },
   {
    "duration": 64,
    "start_time": "2022-06-24T13:36:57.230Z"
   },
   {
    "duration": 19,
    "start_time": "2022-06-24T13:36:57.296Z"
   },
   {
    "duration": 9,
    "start_time": "2022-06-24T13:36:57.317Z"
   },
   {
    "duration": 311,
    "start_time": "2022-06-24T13:36:57.327Z"
   },
   {
    "duration": 356,
    "start_time": "2022-06-24T13:36:57.640Z"
   },
   {
    "duration": 321,
    "start_time": "2022-06-24T13:36:57.998Z"
   },
   {
    "duration": 293,
    "start_time": "2022-06-24T13:36:58.321Z"
   },
   {
    "duration": 681,
    "start_time": "2022-06-24T13:36:58.617Z"
   },
   {
    "duration": 66,
    "start_time": "2022-06-24T13:36:59.302Z"
   },
   {
    "duration": 14,
    "start_time": "2022-06-24T13:36:59.369Z"
   },
   {
    "duration": 17,
    "start_time": "2022-06-24T13:36:59.385Z"
   },
   {
    "duration": 269,
    "start_time": "2022-06-24T13:36:59.403Z"
   },
   {
    "duration": 4,
    "start_time": "2022-06-24T13:36:59.674Z"
   },
   {
    "duration": 1996,
    "start_time": "2022-06-24T13:36:59.680Z"
   },
   {
    "duration": 71438,
    "start_time": "2022-06-24T13:37:01.678Z"
   },
   {
    "duration": 0,
    "start_time": "2022-06-24T13:38:13.119Z"
   },
   {
    "duration": 0,
    "start_time": "2022-06-24T13:38:13.120Z"
   },
   {
    "duration": 0,
    "start_time": "2022-06-24T13:38:13.122Z"
   },
   {
    "duration": 42,
    "start_time": "2022-06-24T13:38:44.786Z"
   },
   {
    "duration": 1573,
    "start_time": "2022-06-24T13:38:50.571Z"
   },
   {
    "duration": 58,
    "start_time": "2022-06-24T13:38:52.146Z"
   },
   {
    "duration": 17,
    "start_time": "2022-06-24T13:38:52.206Z"
   },
   {
    "duration": 6,
    "start_time": "2022-06-24T13:38:52.225Z"
   },
   {
    "duration": 285,
    "start_time": "2022-06-24T13:38:52.233Z"
   },
   {
    "duration": 339,
    "start_time": "2022-06-24T13:38:52.520Z"
   },
   {
    "duration": 300,
    "start_time": "2022-06-24T13:38:52.867Z"
   },
   {
    "duration": 267,
    "start_time": "2022-06-24T13:38:53.169Z"
   },
   {
    "duration": 580,
    "start_time": "2022-06-24T13:38:53.438Z"
   },
   {
    "duration": 73,
    "start_time": "2022-06-24T13:38:54.020Z"
   },
   {
    "duration": 15,
    "start_time": "2022-06-24T13:38:54.095Z"
   },
   {
    "duration": 19,
    "start_time": "2022-06-24T13:38:54.112Z"
   },
   {
    "duration": 236,
    "start_time": "2022-06-24T13:38:54.134Z"
   },
   {
    "duration": 3,
    "start_time": "2022-06-24T13:38:54.374Z"
   },
   {
    "duration": 1911,
    "start_time": "2022-06-24T13:38:54.379Z"
   },
   {
    "duration": 202747,
    "start_time": "2022-06-24T13:38:56.292Z"
   },
   {
    "duration": 15052,
    "start_time": "2022-06-24T13:42:19.043Z"
   },
   {
    "duration": 311787,
    "start_time": "2022-06-24T13:42:34.096Z"
   },
   {
    "duration": 3783,
    "start_time": "2022-06-24T13:47:45.885Z"
   },
   {
    "duration": 153,
    "start_time": "2022-06-24T13:48:38.991Z"
   },
   {
    "duration": 89811,
    "start_time": "2022-06-24T13:51:58.760Z"
   },
   {
    "duration": 19568,
    "start_time": "2022-06-24T13:54:07.210Z"
   },
   {
    "duration": 25919,
    "start_time": "2022-06-24T13:54:37.841Z"
   },
   {
    "duration": 61271,
    "start_time": "2022-06-24T13:55:20.119Z"
   },
   {
    "duration": 37620,
    "start_time": "2022-06-24T13:56:46.136Z"
   },
   {
    "duration": 105964,
    "start_time": "2022-06-24T13:57:55.206Z"
   },
   {
    "duration": 125,
    "start_time": "2022-06-24T14:00:39.454Z"
   },
   {
    "duration": 35218,
    "start_time": "2022-06-24T14:00:55.165Z"
   },
   {
    "duration": 186,
    "start_time": "2022-06-24T14:04:36.690Z"
   },
   {
    "duration": 55,
    "start_time": "2022-06-24T14:08:11.280Z"
   },
   {
    "duration": 16,
    "start_time": "2022-06-24T14:08:30.470Z"
   },
   {
    "duration": 16,
    "start_time": "2022-06-24T14:09:04.467Z"
   },
   {
    "duration": 1416,
    "start_time": "2022-06-24T14:09:25.589Z"
   },
   {
    "duration": 56,
    "start_time": "2022-06-24T14:09:27.007Z"
   },
   {
    "duration": 16,
    "start_time": "2022-06-24T14:09:27.065Z"
   },
   {
    "duration": 7,
    "start_time": "2022-06-24T14:09:27.084Z"
   },
   {
    "duration": 254,
    "start_time": "2022-06-24T14:09:27.092Z"
   },
   {
    "duration": 326,
    "start_time": "2022-06-24T14:09:27.348Z"
   },
   {
    "duration": 261,
    "start_time": "2022-06-24T14:09:27.675Z"
   },
   {
    "duration": 248,
    "start_time": "2022-06-24T14:09:27.938Z"
   },
   {
    "duration": 553,
    "start_time": "2022-06-24T14:09:28.188Z"
   },
   {
    "duration": 63,
    "start_time": "2022-06-24T14:09:28.744Z"
   },
   {
    "duration": 14,
    "start_time": "2022-06-24T14:09:28.809Z"
   },
   {
    "duration": 18,
    "start_time": "2022-06-24T14:09:28.825Z"
   },
   {
    "duration": 231,
    "start_time": "2022-06-24T14:09:28.845Z"
   },
   {
    "duration": 191,
    "start_time": "2022-06-24T14:09:29.077Z"
   },
   {
    "duration": 205,
    "start_time": "2022-06-24T14:09:29.270Z"
   },
   {
    "duration": 16,
    "start_time": "2022-06-24T14:09:29.477Z"
   },
   {
    "duration": 2,
    "start_time": "2022-06-24T14:09:29.495Z"
   },
   {
    "duration": 34312,
    "start_time": "2022-06-24T14:09:29.499Z"
   },
   {
    "duration": 21774,
    "start_time": "2022-06-24T14:10:03.813Z"
   },
   {
    "duration": 0,
    "start_time": "2022-06-24T14:10:25.590Z"
   },
   {
    "duration": 0,
    "start_time": "2022-06-24T14:10:25.592Z"
   },
   {
    "duration": 17,
    "start_time": "2022-06-24T14:11:13.684Z"
   },
   {
    "duration": 196,
    "start_time": "2022-06-24T14:12:02.095Z"
   },
   {
    "duration": 64,
    "start_time": "2022-06-24T14:18:42.173Z"
   },
   {
    "duration": 69,
    "start_time": "2022-06-24T14:19:22.109Z"
   },
   {
    "duration": 191,
    "start_time": "2022-06-24T14:19:33.376Z"
   },
   {
    "duration": 24,
    "start_time": "2022-06-24T14:21:13.425Z"
   },
   {
    "duration": 5444,
    "start_time": "2022-06-24T14:22:17.713Z"
   },
   {
    "duration": 1585,
    "start_time": "2022-06-24T14:22:27.166Z"
   },
   {
    "duration": 56,
    "start_time": "2022-06-24T14:22:28.753Z"
   },
   {
    "duration": 23,
    "start_time": "2022-06-24T14:22:28.811Z"
   },
   {
    "duration": 11,
    "start_time": "2022-06-24T14:22:28.837Z"
   },
   {
    "duration": 341,
    "start_time": "2022-06-24T14:22:28.850Z"
   },
   {
    "duration": 354,
    "start_time": "2022-06-24T14:22:29.193Z"
   },
   {
    "duration": 292,
    "start_time": "2022-06-24T14:22:29.548Z"
   },
   {
    "duration": 257,
    "start_time": "2022-06-24T14:22:29.842Z"
   },
   {
    "duration": 553,
    "start_time": "2022-06-24T14:22:30.101Z"
   },
   {
    "duration": 65,
    "start_time": "2022-06-24T14:22:30.657Z"
   },
   {
    "duration": 14,
    "start_time": "2022-06-24T14:22:30.723Z"
   },
   {
    "duration": 30,
    "start_time": "2022-06-24T14:22:30.739Z"
   },
   {
    "duration": 204,
    "start_time": "2022-06-24T14:22:30.771Z"
   },
   {
    "duration": 5,
    "start_time": "2022-06-24T14:22:31.069Z"
   },
   {
    "duration": 291,
    "start_time": "2022-06-24T14:22:31.076Z"
   },
   {
    "duration": 69,
    "start_time": "2022-06-24T14:22:31.369Z"
   },
   {
    "duration": 3,
    "start_time": "2022-06-24T14:22:31.440Z"
   },
   {
    "duration": 34210,
    "start_time": "2022-06-24T14:22:31.444Z"
   },
   {
    "duration": 58521,
    "start_time": "2022-06-24T14:23:05.656Z"
   },
   {
    "duration": 219996,
    "start_time": "2022-06-24T14:24:04.178Z"
   },
   {
    "duration": 3597,
    "start_time": "2022-06-24T14:27:44.176Z"
   },
   {
    "duration": 741764,
    "start_time": "2022-06-24T14:30:13.409Z"
   },
   {
    "duration": 2640583,
    "start_time": "2022-06-24T14:54:30.799Z"
   },
   {
    "duration": 169723,
    "start_time": "2022-06-24T16:01:11.144Z"
   },
   {
    "duration": 1464,
    "start_time": "2022-06-24T16:19:01.114Z"
   },
   {
    "duration": 56,
    "start_time": "2022-06-24T16:19:02.580Z"
   },
   {
    "duration": 17,
    "start_time": "2022-06-24T16:19:02.637Z"
   },
   {
    "duration": 6,
    "start_time": "2022-06-24T16:19:02.656Z"
   },
   {
    "duration": 251,
    "start_time": "2022-06-24T16:19:02.663Z"
   },
   {
    "duration": 344,
    "start_time": "2022-06-24T16:19:02.916Z"
   },
   {
    "duration": 305,
    "start_time": "2022-06-24T16:19:03.262Z"
   },
   {
    "duration": 270,
    "start_time": "2022-06-24T16:19:03.569Z"
   },
   {
    "duration": 556,
    "start_time": "2022-06-24T16:19:03.841Z"
   },
   {
    "duration": 64,
    "start_time": "2022-06-24T16:19:04.402Z"
   },
   {
    "duration": 15,
    "start_time": "2022-06-24T16:19:04.467Z"
   },
   {
    "duration": 17,
    "start_time": "2022-06-24T16:19:04.484Z"
   },
   {
    "duration": 268,
    "start_time": "2022-06-24T16:19:04.502Z"
   },
   {
    "duration": 10,
    "start_time": "2022-06-24T16:19:04.772Z"
   },
   {
    "duration": 113,
    "start_time": "2022-06-24T16:19:04.784Z"
   },
   {
    "duration": 1,
    "start_time": "2022-06-24T16:19:04.899Z"
   },
   {
    "duration": 0,
    "start_time": "2022-06-24T16:19:04.901Z"
   },
   {
    "duration": 0,
    "start_time": "2022-06-24T16:19:04.902Z"
   },
   {
    "duration": 0,
    "start_time": "2022-06-24T16:19:04.903Z"
   },
   {
    "duration": 0,
    "start_time": "2022-06-24T16:19:04.905Z"
   },
   {
    "duration": 0,
    "start_time": "2022-06-24T16:19:04.906Z"
   },
   {
    "duration": 0,
    "start_time": "2022-06-24T16:19:04.907Z"
   },
   {
    "duration": 0,
    "start_time": "2022-06-24T16:19:04.908Z"
   },
   {
    "duration": 1512,
    "start_time": "2022-06-24T16:19:55.041Z"
   },
   {
    "duration": 58,
    "start_time": "2022-06-24T16:19:56.555Z"
   },
   {
    "duration": 17,
    "start_time": "2022-06-24T16:19:56.614Z"
   },
   {
    "duration": 7,
    "start_time": "2022-06-24T16:19:56.633Z"
   },
   {
    "duration": 263,
    "start_time": "2022-06-24T16:19:56.642Z"
   },
   {
    "duration": 341,
    "start_time": "2022-06-24T16:19:56.907Z"
   },
   {
    "duration": 279,
    "start_time": "2022-06-24T16:19:57.250Z"
   },
   {
    "duration": 260,
    "start_time": "2022-06-24T16:19:57.531Z"
   },
   {
    "duration": 561,
    "start_time": "2022-06-24T16:19:57.792Z"
   },
   {
    "duration": 62,
    "start_time": "2022-06-24T16:19:58.356Z"
   },
   {
    "duration": 12,
    "start_time": "2022-06-24T16:19:58.420Z"
   },
   {
    "duration": 20,
    "start_time": "2022-06-24T16:19:58.434Z"
   },
   {
    "duration": 311,
    "start_time": "2022-06-24T16:19:58.456Z"
   },
   {
    "duration": 5,
    "start_time": "2022-06-24T16:19:58.769Z"
   },
   {
    "duration": 343,
    "start_time": "2022-06-24T16:19:58.776Z"
   },
   {
    "duration": 74,
    "start_time": "2022-06-24T16:19:59.121Z"
   },
   {
    "duration": 3,
    "start_time": "2022-06-24T16:19:59.196Z"
   },
   {
    "duration": 35042,
    "start_time": "2022-06-24T16:19:59.201Z"
   },
   {
    "duration": 58926,
    "start_time": "2022-06-24T16:20:34.245Z"
   },
   {
    "duration": 3,
    "start_time": "2022-06-24T16:21:33.173Z"
   },
   {
    "duration": 79,
    "start_time": "2022-06-24T16:21:33.177Z"
   },
   {
    "duration": 0,
    "start_time": "2022-06-24T16:21:33.258Z"
   },
   {
    "duration": 0,
    "start_time": "2022-06-24T16:21:33.260Z"
   },
   {
    "duration": 7445,
    "start_time": "2022-06-24T16:22:20.031Z"
   },
   {
    "duration": 4870,
    "start_time": "2022-06-24T16:22:36.004Z"
   },
   {
    "duration": 3,
    "start_time": "2022-06-24T16:22:53.905Z"
   },
   {
    "duration": 1471,
    "start_time": "2022-06-24T16:26:22.160Z"
   },
   {
    "duration": 55,
    "start_time": "2022-06-24T16:26:23.633Z"
   },
   {
    "duration": 14,
    "start_time": "2022-06-24T16:26:23.689Z"
   },
   {
    "duration": 20,
    "start_time": "2022-06-24T16:26:23.704Z"
   },
   {
    "duration": 245,
    "start_time": "2022-06-24T16:26:23.725Z"
   },
   {
    "duration": 310,
    "start_time": "2022-06-24T16:26:23.971Z"
   },
   {
    "duration": 251,
    "start_time": "2022-06-24T16:26:24.283Z"
   },
   {
    "duration": 260,
    "start_time": "2022-06-24T16:26:24.535Z"
   },
   {
    "duration": 518,
    "start_time": "2022-06-24T16:26:24.796Z"
   },
   {
    "duration": 60,
    "start_time": "2022-06-24T16:26:25.317Z"
   },
   {
    "duration": 13,
    "start_time": "2022-06-24T16:26:25.379Z"
   },
   {
    "duration": 15,
    "start_time": "2022-06-24T16:26:25.394Z"
   },
   {
    "duration": 256,
    "start_time": "2022-06-24T16:26:25.411Z"
   },
   {
    "duration": 3,
    "start_time": "2022-06-24T16:26:25.669Z"
   },
   {
    "duration": 185,
    "start_time": "2022-06-24T16:26:25.673Z"
   },
   {
    "duration": 56,
    "start_time": "2022-06-24T16:26:25.867Z"
   },
   {
    "duration": 3,
    "start_time": "2022-06-24T16:26:25.925Z"
   },
   {
    "duration": 33056,
    "start_time": "2022-06-24T16:26:25.930Z"
   },
   {
    "duration": 58948,
    "start_time": "2022-06-24T16:26:58.988Z"
   },
   {
    "duration": 3,
    "start_time": "2022-06-24T16:27:57.938Z"
   },
   {
    "duration": 9041,
    "start_time": "2022-06-24T16:27:57.943Z"
   },
   {
    "duration": 5891,
    "start_time": "2022-06-24T16:28:06.986Z"
   },
   {
    "duration": 90,
    "start_time": "2022-06-24T16:28:12.878Z"
   },
   {
    "duration": 10342,
    "start_time": "2022-06-24T16:37:47.330Z"
   },
   {
    "duration": 7199,
    "start_time": "2022-06-24T16:38:38.369Z"
   },
   {
    "duration": 3,
    "start_time": "2022-06-24T16:39:01.800Z"
   },
   {
    "duration": 9,
    "start_time": "2022-06-24T16:42:47.904Z"
   },
   {
    "duration": 1380,
    "start_time": "2022-06-24T16:43:46.215Z"
   },
   {
    "duration": 55,
    "start_time": "2022-06-24T16:43:47.597Z"
   },
   {
    "duration": 15,
    "start_time": "2022-06-24T16:43:47.653Z"
   },
   {
    "duration": 6,
    "start_time": "2022-06-24T16:43:47.670Z"
   },
   {
    "duration": 258,
    "start_time": "2022-06-24T16:43:47.677Z"
   },
   {
    "duration": 322,
    "start_time": "2022-06-24T16:43:47.937Z"
   },
   {
    "duration": 276,
    "start_time": "2022-06-24T16:43:48.260Z"
   },
   {
    "duration": 256,
    "start_time": "2022-06-24T16:43:48.538Z"
   },
   {
    "duration": 581,
    "start_time": "2022-06-24T16:43:48.796Z"
   },
   {
    "duration": 57,
    "start_time": "2022-06-24T16:43:49.381Z"
   },
   {
    "duration": 13,
    "start_time": "2022-06-24T16:43:49.440Z"
   },
   {
    "duration": 21,
    "start_time": "2022-06-24T16:43:49.454Z"
   },
   {
    "duration": 196,
    "start_time": "2022-06-24T16:43:49.477Z"
   },
   {
    "duration": 93,
    "start_time": "2022-06-24T16:43:49.675Z"
   },
   {
    "duration": 279,
    "start_time": "2022-06-24T16:43:49.770Z"
   },
   {
    "duration": 59,
    "start_time": "2022-06-24T16:43:50.051Z"
   },
   {
    "duration": 2,
    "start_time": "2022-06-24T16:43:50.112Z"
   },
   {
    "duration": 34316,
    "start_time": "2022-06-24T16:43:50.116Z"
   },
   {
    "duration": 60005,
    "start_time": "2022-06-24T16:44:24.434Z"
   },
   {
    "duration": 3,
    "start_time": "2022-06-24T16:45:24.441Z"
   },
   {
    "duration": 12229,
    "start_time": "2022-06-24T16:45:24.446Z"
   },
   {
    "duration": 181,
    "start_time": "2022-06-24T16:45:36.677Z"
   },
   {
    "duration": 0,
    "start_time": "2022-06-24T16:45:36.860Z"
   },
   {
    "duration": 0,
    "start_time": "2022-06-24T16:45:36.861Z"
   },
   {
    "duration": 5099,
    "start_time": "2022-06-24T16:59:44.669Z"
   },
   {
    "duration": 3,
    "start_time": "2022-06-24T16:59:53.440Z"
   },
   {
    "duration": 8,
    "start_time": "2022-06-24T16:59:57.946Z"
   },
   {
    "duration": 327,
    "start_time": "2022-06-24T17:10:38.784Z"
   },
   {
    "duration": 154,
    "start_time": "2022-06-24T17:11:13.979Z"
   },
   {
    "duration": 342,
    "start_time": "2022-06-24T17:11:19.961Z"
   },
   {
    "duration": 262,
    "start_time": "2022-06-24T17:11:25.100Z"
   },
   {
    "duration": 254,
    "start_time": "2022-06-24T17:11:37.105Z"
   },
   {
    "duration": 140,
    "start_time": "2022-06-24T17:11:44.877Z"
   },
   {
    "duration": 130,
    "start_time": "2022-06-24T17:11:53.990Z"
   },
   {
    "duration": 132,
    "start_time": "2022-06-24T17:11:59.210Z"
   },
   {
    "duration": 128,
    "start_time": "2022-06-24T17:12:10.301Z"
   },
   {
    "duration": 264,
    "start_time": "2022-06-24T17:12:15.500Z"
   },
   {
    "duration": 140,
    "start_time": "2022-06-24T17:12:23.509Z"
   },
   {
    "duration": 246,
    "start_time": "2022-06-24T17:12:31.238Z"
   },
   {
    "duration": 28,
    "start_time": "2022-06-24T17:13:00.632Z"
   },
   {
    "duration": 22,
    "start_time": "2022-06-24T17:13:16.695Z"
   },
   {
    "duration": 23,
    "start_time": "2022-06-24T17:13:42.102Z"
   },
   {
    "duration": 1580,
    "start_time": "2022-06-24T17:13:59.640Z"
   },
   {
    "duration": 58,
    "start_time": "2022-06-24T17:14:01.222Z"
   },
   {
    "duration": 15,
    "start_time": "2022-06-24T17:14:01.282Z"
   },
   {
    "duration": 18,
    "start_time": "2022-06-24T17:14:01.299Z"
   },
   {
    "duration": 269,
    "start_time": "2022-06-24T17:14:01.318Z"
   },
   {
    "duration": 360,
    "start_time": "2022-06-24T17:14:01.590Z"
   },
   {
    "duration": 287,
    "start_time": "2022-06-24T17:14:01.952Z"
   },
   {
    "duration": 267,
    "start_time": "2022-06-24T17:14:02.241Z"
   },
   {
    "duration": 589,
    "start_time": "2022-06-24T17:14:02.509Z"
   },
   {
    "duration": 62,
    "start_time": "2022-06-24T17:14:03.101Z"
   },
   {
    "duration": 13,
    "start_time": "2022-06-24T17:14:03.165Z"
   },
   {
    "duration": 17,
    "start_time": "2022-06-24T17:14:03.179Z"
   },
   {
    "duration": 80,
    "start_time": "2022-06-24T17:14:03.197Z"
   },
   {
    "duration": 6,
    "start_time": "2022-06-24T17:14:03.369Z"
   },
   {
    "duration": 300,
    "start_time": "2022-06-24T17:14:03.377Z"
   },
   {
    "duration": 65,
    "start_time": "2022-06-24T17:14:03.678Z"
   },
   {
    "duration": 3,
    "start_time": "2022-06-24T17:14:03.745Z"
   },
   {
    "duration": 37637,
    "start_time": "2022-06-24T17:14:03.767Z"
   },
   {
    "duration": 63543,
    "start_time": "2022-06-24T17:14:41.407Z"
   },
   {
    "duration": 3,
    "start_time": "2022-06-24T17:15:44.951Z"
   },
   {
    "duration": 8818,
    "start_time": "2022-06-24T17:15:44.956Z"
   },
   {
    "duration": 8803,
    "start_time": "2022-06-24T17:15:53.775Z"
   },
   {
    "duration": 3,
    "start_time": "2022-06-24T17:16:02.580Z"
   },
   {
    "duration": 10,
    "start_time": "2022-06-24T17:16:02.668Z"
   },
   {
    "duration": 314,
    "start_time": "2022-06-24T17:20:05.146Z"
   },
   {
    "duration": 376,
    "start_time": "2022-06-24T17:21:02.094Z"
   },
   {
    "duration": 156,
    "start_time": "2022-06-24T17:23:18.684Z"
   },
   {
    "duration": 248,
    "start_time": "2022-06-24T17:23:30.463Z"
   },
   {
    "duration": 63,
    "start_time": "2022-06-24T17:27:40.308Z"
   },
   {
    "duration": 222,
    "start_time": "2022-06-24T17:28:06.257Z"
   },
   {
    "duration": 175,
    "start_time": "2022-06-24T17:28:48.107Z"
   },
   {
    "duration": 158,
    "start_time": "2022-06-24T17:29:18.482Z"
   },
   {
    "duration": 164,
    "start_time": "2022-06-24T17:29:29.354Z"
   },
   {
    "duration": 175,
    "start_time": "2022-06-24T17:29:37.403Z"
   },
   {
    "duration": 178,
    "start_time": "2022-06-24T17:29:46.169Z"
   },
   {
    "duration": 162,
    "start_time": "2022-06-24T17:30:00.593Z"
   },
   {
    "duration": 163,
    "start_time": "2022-06-24T17:30:24.013Z"
   },
   {
    "duration": 164,
    "start_time": "2022-06-24T17:32:05.081Z"
   },
   {
    "duration": 188,
    "start_time": "2022-06-24T17:32:26.644Z"
   },
   {
    "duration": 188,
    "start_time": "2022-06-24T17:32:33.759Z"
   },
   {
    "duration": 168,
    "start_time": "2022-06-24T17:34:18.283Z"
   },
   {
    "duration": 168,
    "start_time": "2022-06-24T17:34:30.881Z"
   },
   {
    "duration": 295,
    "start_time": "2022-06-24T17:35:20.703Z"
   },
   {
    "duration": 1605,
    "start_time": "2022-06-24T17:56:39.278Z"
   },
   {
    "duration": 59,
    "start_time": "2022-06-24T17:56:40.886Z"
   },
   {
    "duration": 16,
    "start_time": "2022-06-24T17:56:40.949Z"
   },
   {
    "duration": 9,
    "start_time": "2022-06-24T17:56:40.967Z"
   },
   {
    "duration": 265,
    "start_time": "2022-06-24T17:56:40.978Z"
   },
   {
    "duration": 359,
    "start_time": "2022-06-24T17:56:41.245Z"
   },
   {
    "duration": 264,
    "start_time": "2022-06-24T17:56:41.605Z"
   },
   {
    "duration": 264,
    "start_time": "2022-06-24T17:56:41.871Z"
   },
   {
    "duration": 572,
    "start_time": "2022-06-24T17:56:42.138Z"
   },
   {
    "duration": 54,
    "start_time": "2022-06-24T17:56:42.712Z"
   },
   {
    "duration": 22,
    "start_time": "2022-06-24T17:56:42.770Z"
   },
   {
    "duration": 19,
    "start_time": "2022-06-24T17:56:42.794Z"
   },
   {
    "duration": 369,
    "start_time": "2022-06-24T17:56:42.815Z"
   },
   {
    "duration": 9,
    "start_time": "2022-06-24T17:56:43.186Z"
   },
   {
    "duration": 293,
    "start_time": "2022-06-24T17:56:43.280Z"
   },
   {
    "duration": 68,
    "start_time": "2022-06-24T17:56:43.575Z"
   },
   {
    "duration": 5,
    "start_time": "2022-06-24T17:56:43.646Z"
   },
   {
    "duration": 38156,
    "start_time": "2022-06-24T17:56:43.653Z"
   },
   {
    "duration": 62926,
    "start_time": "2022-06-24T17:57:21.810Z"
   },
   {
    "duration": 3,
    "start_time": "2022-06-24T17:58:24.738Z"
   },
   {
    "duration": 705281,
    "start_time": "2022-06-24T17:58:24.743Z"
   },
   {
    "duration": 0,
    "start_time": "2022-06-24T18:10:10.026Z"
   },
   {
    "duration": 0,
    "start_time": "2022-06-24T18:10:10.027Z"
   },
   {
    "duration": 0,
    "start_time": "2022-06-24T18:10:10.028Z"
   },
   {
    "duration": 0,
    "start_time": "2022-06-24T18:10:10.029Z"
   },
   {
    "duration": 1588,
    "start_time": "2022-06-24T18:10:26.521Z"
   },
   {
    "duration": 66,
    "start_time": "2022-06-24T18:10:28.111Z"
   },
   {
    "duration": 22,
    "start_time": "2022-06-24T18:10:28.179Z"
   },
   {
    "duration": 7,
    "start_time": "2022-06-24T18:10:28.203Z"
   },
   {
    "duration": 328,
    "start_time": "2022-06-24T18:10:28.212Z"
   },
   {
    "duration": 426,
    "start_time": "2022-06-24T18:10:28.542Z"
   },
   {
    "duration": 371,
    "start_time": "2022-06-24T18:10:28.971Z"
   },
   {
    "duration": 308,
    "start_time": "2022-06-24T18:10:29.344Z"
   },
   {
    "duration": 644,
    "start_time": "2022-06-24T18:10:29.653Z"
   },
   {
    "duration": 58,
    "start_time": "2022-06-24T18:10:30.300Z"
   },
   {
    "duration": 405,
    "start_time": "2022-06-24T18:10:30.360Z"
   },
   {
    "duration": 52,
    "start_time": "2022-06-24T18:10:30.768Z"
   },
   {
    "duration": 170,
    "start_time": "2022-06-24T18:10:30.822Z"
   },
   {
    "duration": 12,
    "start_time": "2022-06-24T18:10:30.997Z"
   },
   {
    "duration": 387,
    "start_time": "2022-06-24T18:10:31.010Z"
   },
   {
    "duration": 91,
    "start_time": "2022-06-24T18:10:31.403Z"
   },
   {
    "duration": 4,
    "start_time": "2022-06-24T18:10:31.497Z"
   },
   {
    "duration": 41794,
    "start_time": "2022-06-24T18:10:31.502Z"
   },
   {
    "duration": 71228,
    "start_time": "2022-06-24T18:11:13.297Z"
   },
   {
    "duration": 2,
    "start_time": "2022-06-24T18:12:24.527Z"
   },
   {
    "duration": 116242,
    "start_time": "2022-06-24T18:12:24.530Z"
   },
   {
    "duration": 51012,
    "start_time": "2022-06-24T18:14:20.777Z"
   },
   {
    "duration": 3,
    "start_time": "2022-06-24T18:15:11.791Z"
   },
   {
    "duration": 20,
    "start_time": "2022-06-24T18:15:11.796Z"
   },
   {
    "duration": 192,
    "start_time": "2022-06-24T18:15:11.868Z"
   },
   {
    "duration": 89,
    "start_time": "2022-06-25T10:49:12.625Z"
   },
   {
    "duration": 1724,
    "start_time": "2022-06-25T12:35:03.399Z"
   },
   {
    "duration": 131,
    "start_time": "2022-06-25T12:35:05.125Z"
   },
   {
    "duration": 15,
    "start_time": "2022-06-25T12:35:05.258Z"
   },
   {
    "duration": 11,
    "start_time": "2022-06-25T12:35:05.275Z"
   },
   {
    "duration": 261,
    "start_time": "2022-06-25T12:35:05.287Z"
   },
   {
    "duration": 343,
    "start_time": "2022-06-25T12:35:05.550Z"
   },
   {
    "duration": 283,
    "start_time": "2022-06-25T12:35:05.894Z"
   },
   {
    "duration": 271,
    "start_time": "2022-06-25T12:35:06.179Z"
   },
   {
    "duration": 552,
    "start_time": "2022-06-25T12:35:06.451Z"
   },
   {
    "duration": 62,
    "start_time": "2022-06-25T12:35:07.006Z"
   },
   {
    "duration": 12,
    "start_time": "2022-06-25T12:35:07.070Z"
   },
   {
    "duration": 17,
    "start_time": "2022-06-25T12:35:07.084Z"
   },
   {
    "duration": 235,
    "start_time": "2022-06-25T12:35:07.103Z"
   },
   {
    "duration": 107,
    "start_time": "2022-06-25T12:35:07.340Z"
   },
   {
    "duration": 200,
    "start_time": "2022-06-25T12:35:07.529Z"
   },
   {
    "duration": 64,
    "start_time": "2022-06-25T12:35:07.737Z"
   },
   {
    "duration": 3,
    "start_time": "2022-06-25T12:35:07.802Z"
   },
   {
    "duration": 36173,
    "start_time": "2022-06-25T12:35:07.807Z"
   },
   {
    "duration": 60497,
    "start_time": "2022-06-25T12:35:43.981Z"
   },
   {
    "duration": 3,
    "start_time": "2022-06-25T12:36:44.480Z"
   },
   {
    "duration": 102246,
    "start_time": "2022-06-25T12:36:44.484Z"
   },
   {
    "duration": 69598,
    "start_time": "2022-06-25T12:38:26.732Z"
   },
   {
    "duration": 3,
    "start_time": "2022-06-25T12:39:36.335Z"
   },
   {
    "duration": 12,
    "start_time": "2022-06-25T12:39:36.340Z"
   },
   {
    "duration": 163,
    "start_time": "2022-06-25T12:39:36.353Z"
   },
   {
    "duration": 122,
    "start_time": "2022-06-25T12:45:18.054Z"
   },
   {
    "duration": 4,
    "start_time": "2022-06-25T12:45:44.508Z"
   },
   {
    "duration": 21423,
    "start_time": "2022-06-25T12:45:51.338Z"
   },
   {
    "duration": 17,
    "start_time": "2022-06-25T12:46:48.784Z"
   },
   {
    "duration": 1436,
    "start_time": "2022-06-25T12:47:23.042Z"
   },
   {
    "duration": 61,
    "start_time": "2022-06-25T12:47:24.480Z"
   },
   {
    "duration": 14,
    "start_time": "2022-06-25T12:47:24.543Z"
   },
   {
    "duration": 6,
    "start_time": "2022-06-25T12:47:24.559Z"
   },
   {
    "duration": 262,
    "start_time": "2022-06-25T12:47:24.567Z"
   },
   {
    "duration": 344,
    "start_time": "2022-06-25T12:47:24.831Z"
   },
   {
    "duration": 274,
    "start_time": "2022-06-25T12:47:25.176Z"
   },
   {
    "duration": 243,
    "start_time": "2022-06-25T12:47:25.452Z"
   },
   {
    "duration": 559,
    "start_time": "2022-06-25T12:47:25.696Z"
   },
   {
    "duration": 54,
    "start_time": "2022-06-25T12:47:26.257Z"
   },
   {
    "duration": 13,
    "start_time": "2022-06-25T12:47:26.313Z"
   },
   {
    "duration": 17,
    "start_time": "2022-06-25T12:47:26.328Z"
   },
   {
    "duration": 189,
    "start_time": "2022-06-25T12:47:26.346Z"
   },
   {
    "duration": 86,
    "start_time": "2022-06-25T12:47:26.541Z"
   },
   {
    "duration": 299,
    "start_time": "2022-06-25T12:47:26.632Z"
   },
   {
    "duration": 65,
    "start_time": "2022-06-25T12:47:26.936Z"
   },
   {
    "duration": 3,
    "start_time": "2022-06-25T12:47:27.003Z"
   },
   {
    "duration": 20977,
    "start_time": "2022-06-25T12:47:27.007Z"
   },
   {
    "duration": 125,
    "start_time": "2022-06-25T12:47:47.986Z"
   },
   {
    "duration": 0,
    "start_time": "2022-06-25T12:47:48.113Z"
   },
   {
    "duration": 0,
    "start_time": "2022-06-25T12:47:48.114Z"
   },
   {
    "duration": 0,
    "start_time": "2022-06-25T12:47:48.128Z"
   },
   {
    "duration": 0,
    "start_time": "2022-06-25T12:47:48.130Z"
   },
   {
    "duration": 0,
    "start_time": "2022-06-25T12:47:48.132Z"
   },
   {
    "duration": 0,
    "start_time": "2022-06-25T12:47:48.133Z"
   },
   {
    "duration": 59307,
    "start_time": "2022-06-25T12:49:44.945Z"
   },
   {
    "duration": 19532,
    "start_time": "2022-06-25T12:54:22.196Z"
   },
   {
    "duration": 8001,
    "start_time": "2022-06-25T13:05:45.631Z"
   },
   {
    "duration": 5191,
    "start_time": "2022-06-25T13:07:16.873Z"
   },
   {
    "duration": 1530,
    "start_time": "2022-06-25T13:08:12.217Z"
   },
   {
    "duration": 53,
    "start_time": "2022-06-25T13:08:13.749Z"
   },
   {
    "duration": 15,
    "start_time": "2022-06-25T13:08:13.804Z"
   },
   {
    "duration": 6,
    "start_time": "2022-06-25T13:08:13.821Z"
   },
   {
    "duration": 255,
    "start_time": "2022-06-25T13:08:13.828Z"
   },
   {
    "duration": 318,
    "start_time": "2022-06-25T13:08:14.085Z"
   },
   {
    "duration": 253,
    "start_time": "2022-06-25T13:08:14.405Z"
   },
   {
    "duration": 232,
    "start_time": "2022-06-25T13:08:14.660Z"
   },
   {
    "duration": 542,
    "start_time": "2022-06-25T13:08:14.893Z"
   },
   {
    "duration": 56,
    "start_time": "2022-06-25T13:08:15.438Z"
   },
   {
    "duration": 13,
    "start_time": "2022-06-25T13:08:15.495Z"
   },
   {
    "duration": 19,
    "start_time": "2022-06-25T13:08:15.510Z"
   },
   {
    "duration": 203,
    "start_time": "2022-06-25T13:08:15.531Z"
   },
   {
    "duration": 90,
    "start_time": "2022-06-25T13:08:15.737Z"
   },
   {
    "duration": 285,
    "start_time": "2022-06-25T13:08:15.830Z"
   },
   {
    "duration": 64,
    "start_time": "2022-06-25T13:08:16.123Z"
   },
   {
    "duration": 3,
    "start_time": "2022-06-25T13:08:16.188Z"
   },
   {
    "duration": 19534,
    "start_time": "2022-06-25T13:08:16.193Z"
   },
   {
    "duration": 56610,
    "start_time": "2022-06-25T13:08:35.729Z"
   },
   {
    "duration": 3,
    "start_time": "2022-06-25T13:09:32.340Z"
   },
   {
    "duration": 8697,
    "start_time": "2022-06-25T13:09:32.344Z"
   },
   {
    "duration": 6186,
    "start_time": "2022-06-25T13:09:41.043Z"
   },
   {
    "duration": 3,
    "start_time": "2022-06-25T13:09:47.231Z"
   },
   {
    "duration": 13,
    "start_time": "2022-06-25T13:09:47.235Z"
   },
   {
    "duration": 228,
    "start_time": "2022-06-25T13:09:47.249Z"
   },
   {
    "duration": 1251,
    "start_time": "2022-06-25T13:16:16.126Z"
   },
   {
    "duration": 5515,
    "start_time": "2022-06-25T13:16:52.373Z"
   },
   {
    "duration": 722479,
    "start_time": "2022-06-25T13:18:02.743Z"
   },
   {
    "duration": 2385,
    "start_time": "2022-06-25T13:44:49.886Z"
   },
   {
    "duration": 8218,
    "start_time": "2022-06-25T13:45:24.650Z"
   },
   {
    "duration": 19405,
    "start_time": "2022-06-25T13:45:46.190Z"
   },
   {
    "duration": 7972,
    "start_time": "2022-06-25T13:46:07.385Z"
   },
   {
    "duration": 22074,
    "start_time": "2022-06-25T13:46:22.521Z"
   },
   {
    "duration": 2038,
    "start_time": "2022-06-25T13:48:39.721Z"
   },
   {
    "duration": 2062,
    "start_time": "2022-06-25T13:48:58.489Z"
   },
   {
    "duration": 1458,
    "start_time": "2022-06-25T13:58:23.733Z"
   },
   {
    "duration": 58,
    "start_time": "2022-06-25T13:58:25.193Z"
   },
   {
    "duration": 16,
    "start_time": "2022-06-25T13:58:25.252Z"
   },
   {
    "duration": 7,
    "start_time": "2022-06-25T13:58:25.270Z"
   },
   {
    "duration": 260,
    "start_time": "2022-06-25T13:58:25.279Z"
   },
   {
    "duration": 329,
    "start_time": "2022-06-25T13:58:25.541Z"
   },
   {
    "duration": 269,
    "start_time": "2022-06-25T13:58:25.872Z"
   },
   {
    "duration": 250,
    "start_time": "2022-06-25T13:58:26.144Z"
   },
   {
    "duration": 511,
    "start_time": "2022-06-25T13:58:26.396Z"
   },
   {
    "duration": 55,
    "start_time": "2022-06-25T13:58:26.910Z"
   },
   {
    "duration": 12,
    "start_time": "2022-06-25T13:58:26.967Z"
   },
   {
    "duration": 14,
    "start_time": "2022-06-25T13:58:26.981Z"
   },
   {
    "duration": 234,
    "start_time": "2022-06-25T13:58:26.997Z"
   },
   {
    "duration": 4,
    "start_time": "2022-06-25T13:58:27.325Z"
   },
   {
    "duration": 289,
    "start_time": "2022-06-25T13:58:27.331Z"
   },
   {
    "duration": 60,
    "start_time": "2022-06-25T13:58:27.624Z"
   },
   {
    "duration": 3,
    "start_time": "2022-06-25T13:58:27.686Z"
   },
   {
    "duration": 8259,
    "start_time": "2022-06-25T13:58:27.691Z"
   },
   {
    "duration": 23638,
    "start_time": "2022-06-25T13:58:35.952Z"
   },
   {
    "duration": 3,
    "start_time": "2022-06-25T13:58:59.592Z"
   },
   {
    "duration": 145134,
    "start_time": "2022-06-25T13:58:59.596Z"
   },
   {
    "duration": 5497,
    "start_time": "2022-06-25T14:01:24.732Z"
   },
   {
    "duration": 3,
    "start_time": "2022-06-25T14:01:30.231Z"
   },
   {
    "duration": 17,
    "start_time": "2022-06-25T14:01:30.236Z"
   },
   {
    "duration": 230,
    "start_time": "2022-06-25T14:01:30.255Z"
   },
   {
    "duration": 1554,
    "start_time": "2022-06-25T14:10:38.050Z"
   },
   {
    "duration": 68,
    "start_time": "2022-06-25T14:10:39.607Z"
   },
   {
    "duration": 20,
    "start_time": "2022-06-25T14:10:39.677Z"
   },
   {
    "duration": 10,
    "start_time": "2022-06-25T14:10:39.700Z"
   },
   {
    "duration": 275,
    "start_time": "2022-06-25T14:10:39.724Z"
   },
   {
    "duration": 381,
    "start_time": "2022-06-25T14:10:40.002Z"
   },
   {
    "duration": 276,
    "start_time": "2022-06-25T14:10:40.385Z"
   },
   {
    "duration": 242,
    "start_time": "2022-06-25T14:10:40.663Z"
   },
   {
    "duration": 552,
    "start_time": "2022-06-25T14:10:40.907Z"
   },
   {
    "duration": 63,
    "start_time": "2022-06-25T14:10:41.463Z"
   },
   {
    "duration": 13,
    "start_time": "2022-06-25T14:10:41.527Z"
   },
   {
    "duration": 16,
    "start_time": "2022-06-25T14:10:41.542Z"
   },
   {
    "duration": 277,
    "start_time": "2022-06-25T14:10:41.559Z"
   },
   {
    "duration": 91,
    "start_time": "2022-06-25T14:10:41.838Z"
   },
   {
    "duration": 283,
    "start_time": "2022-06-25T14:10:41.935Z"
   },
   {
    "duration": 64,
    "start_time": "2022-06-25T14:10:42.220Z"
   },
   {
    "duration": 3,
    "start_time": "2022-06-25T14:10:42.286Z"
   },
   {
    "duration": 12087,
    "start_time": "2022-06-25T14:10:42.291Z"
   },
   {
    "duration": 23341,
    "start_time": "2022-06-25T14:10:54.380Z"
   },
   {
    "duration": 3,
    "start_time": "2022-06-25T14:11:17.723Z"
   },
   {
    "duration": 422030,
    "start_time": "2022-06-25T14:11:17.727Z"
   },
   {
    "duration": 248694,
    "start_time": "2022-06-25T14:18:19.759Z"
   },
   {
    "duration": 3,
    "start_time": "2022-06-25T14:22:28.455Z"
   },
   {
    "duration": 16,
    "start_time": "2022-06-25T14:22:28.526Z"
   },
   {
    "duration": 172,
    "start_time": "2022-06-25T14:22:28.546Z"
   },
   {
    "duration": 292,
    "start_time": "2022-06-25T14:24:17.270Z"
   },
   {
    "duration": 208,
    "start_time": "2022-06-25T14:24:39.405Z"
   },
   {
    "duration": 1399,
    "start_time": "2022-06-25T14:31:46.987Z"
   },
   {
    "duration": 66,
    "start_time": "2022-06-25T14:31:48.388Z"
   },
   {
    "duration": 19,
    "start_time": "2022-06-25T14:31:48.456Z"
   },
   {
    "duration": 9,
    "start_time": "2022-06-25T14:31:48.477Z"
   },
   {
    "duration": 264,
    "start_time": "2022-06-25T14:31:48.487Z"
   },
   {
    "duration": 323,
    "start_time": "2022-06-25T14:31:48.752Z"
   },
   {
    "duration": 268,
    "start_time": "2022-06-25T14:31:49.076Z"
   },
   {
    "duration": 240,
    "start_time": "2022-06-25T14:31:49.346Z"
   },
   {
    "duration": 523,
    "start_time": "2022-06-25T14:31:49.588Z"
   },
   {
    "duration": 57,
    "start_time": "2022-06-25T14:31:50.113Z"
   },
   {
    "duration": 11,
    "start_time": "2022-06-25T14:31:50.171Z"
   },
   {
    "duration": 14,
    "start_time": "2022-06-25T14:31:50.184Z"
   },
   {
    "duration": 427,
    "start_time": "2022-06-25T14:31:50.199Z"
   },
   {
    "duration": 7,
    "start_time": "2022-06-25T14:31:50.628Z"
   },
   {
    "duration": 202,
    "start_time": "2022-06-25T14:31:53.234Z"
   },
   {
    "duration": 63,
    "start_time": "2022-06-25T14:31:53.438Z"
   },
   {
    "duration": 3,
    "start_time": "2022-06-25T14:31:53.511Z"
   },
   {
    "duration": 9150,
    "start_time": "2022-06-25T14:31:53.517Z"
   },
   {
    "duration": 25557,
    "start_time": "2022-06-25T14:32:02.669Z"
   },
   {
    "duration": 13,
    "start_time": "2022-06-25T14:32:28.230Z"
   },
   {
    "duration": 107300,
    "start_time": "2022-06-25T14:32:28.246Z"
   },
   {
    "duration": 58007,
    "start_time": "2022-06-25T14:34:15.627Z"
   },
   {
    "duration": 3,
    "start_time": "2022-06-25T14:35:13.636Z"
   },
   {
    "duration": 12,
    "start_time": "2022-06-25T14:35:13.640Z"
   },
   {
    "duration": 162,
    "start_time": "2022-06-25T14:35:13.654Z"
   },
   {
    "duration": 275,
    "start_time": "2022-06-25T14:35:13.817Z"
   },
   {
    "duration": 215,
    "start_time": "2022-06-25T14:35:14.095Z"
   },
   {
    "duration": 305,
    "start_time": "2022-06-25T14:35:14.311Z"
   },
   {
    "duration": 215,
    "start_time": "2022-06-25T14:35:14.622Z"
   },
   {
    "duration": 1394,
    "start_time": "2022-06-25T14:40:15.656Z"
   },
   {
    "duration": 53,
    "start_time": "2022-06-25T14:40:17.051Z"
   },
   {
    "duration": 17,
    "start_time": "2022-06-25T14:40:17.105Z"
   },
   {
    "duration": 6,
    "start_time": "2022-06-25T14:40:17.123Z"
   },
   {
    "duration": 242,
    "start_time": "2022-06-25T14:40:17.130Z"
   },
   {
    "duration": 309,
    "start_time": "2022-06-25T14:40:17.374Z"
   },
   {
    "duration": 245,
    "start_time": "2022-06-25T14:40:17.685Z"
   },
   {
    "duration": 248,
    "start_time": "2022-06-25T14:40:17.931Z"
   },
   {
    "duration": 491,
    "start_time": "2022-06-25T14:40:18.180Z"
   },
   {
    "duration": 51,
    "start_time": "2022-06-25T14:40:18.674Z"
   },
   {
    "duration": 11,
    "start_time": "2022-06-25T14:40:18.727Z"
   },
   {
    "duration": 14,
    "start_time": "2022-06-25T14:40:18.739Z"
   },
   {
    "duration": 78,
    "start_time": "2022-06-25T14:40:18.755Z"
   },
   {
    "duration": 100,
    "start_time": "2022-06-25T14:40:18.924Z"
   },
   {
    "duration": 192,
    "start_time": "2022-06-25T14:40:19.026Z"
   },
   {
    "duration": 75,
    "start_time": "2022-06-25T14:40:19.223Z"
   },
   {
    "duration": 3,
    "start_time": "2022-06-25T14:40:19.301Z"
   },
   {
    "duration": 8111,
    "start_time": "2022-06-25T14:40:19.306Z"
   },
   {
    "duration": 0,
    "start_time": "2022-06-25T14:40:27.419Z"
   },
   {
    "duration": 0,
    "start_time": "2022-06-25T14:40:27.420Z"
   },
   {
    "duration": 0,
    "start_time": "2022-06-25T14:40:27.421Z"
   },
   {
    "duration": 0,
    "start_time": "2022-06-25T14:40:27.422Z"
   },
   {
    "duration": 0,
    "start_time": "2022-06-25T14:40:27.423Z"
   },
   {
    "duration": 0,
    "start_time": "2022-06-25T14:40:27.424Z"
   },
   {
    "duration": 0,
    "start_time": "2022-06-25T14:40:27.426Z"
   },
   {
    "duration": 0,
    "start_time": "2022-06-25T14:40:27.427Z"
   },
   {
    "duration": 0,
    "start_time": "2022-06-25T14:40:27.428Z"
   },
   {
    "duration": 0,
    "start_time": "2022-06-25T14:40:27.429Z"
   },
   {
    "duration": 0,
    "start_time": "2022-06-25T14:40:27.430Z"
   },
   {
    "duration": 1435,
    "start_time": "2022-06-25T14:43:01.020Z"
   },
   {
    "duration": 55,
    "start_time": "2022-06-25T14:43:02.456Z"
   },
   {
    "duration": 15,
    "start_time": "2022-06-25T14:43:02.513Z"
   },
   {
    "duration": 8,
    "start_time": "2022-06-25T14:43:02.532Z"
   },
   {
    "duration": 302,
    "start_time": "2022-06-25T14:43:02.542Z"
   },
   {
    "duration": 323,
    "start_time": "2022-06-25T14:43:02.845Z"
   },
   {
    "duration": 247,
    "start_time": "2022-06-25T14:43:03.170Z"
   },
   {
    "duration": 236,
    "start_time": "2022-06-25T14:43:03.422Z"
   },
   {
    "duration": 487,
    "start_time": "2022-06-25T14:43:03.660Z"
   },
   {
    "duration": 53,
    "start_time": "2022-06-25T14:43:04.150Z"
   },
   {
    "duration": 12,
    "start_time": "2022-06-25T14:43:04.204Z"
   },
   {
    "duration": 14,
    "start_time": "2022-06-25T14:43:04.218Z"
   },
   {
    "duration": 293,
    "start_time": "2022-06-25T14:43:04.234Z"
   },
   {
    "duration": 94,
    "start_time": "2022-06-25T14:43:04.530Z"
   },
   {
    "duration": 285,
    "start_time": "2022-06-25T14:43:04.627Z"
   },
   {
    "duration": 65,
    "start_time": "2022-06-25T14:43:04.914Z"
   },
   {
    "duration": 3,
    "start_time": "2022-06-25T14:43:04.981Z"
   },
   {
    "duration": 8320,
    "start_time": "2022-06-25T14:43:04.985Z"
   },
   {
    "duration": 21925,
    "start_time": "2022-06-25T14:43:13.307Z"
   },
   {
    "duration": 3,
    "start_time": "2022-06-25T14:43:35.234Z"
   },
   {
    "duration": 10088,
    "start_time": "2022-06-25T14:43:35.239Z"
   },
   {
    "duration": 6103,
    "start_time": "2022-06-25T14:43:45.329Z"
   },
   {
    "duration": 3,
    "start_time": "2022-06-25T14:43:51.434Z"
   },
   {
    "duration": 12,
    "start_time": "2022-06-25T14:43:51.438Z"
   },
   {
    "duration": 164,
    "start_time": "2022-06-25T14:43:51.524Z"
   },
   {
    "duration": 278,
    "start_time": "2022-06-25T14:43:51.690Z"
   },
   {
    "duration": 303,
    "start_time": "2022-06-25T14:43:51.969Z"
   },
   {
    "duration": 205,
    "start_time": "2022-06-25T14:43:52.275Z"
   },
   {
    "duration": 245,
    "start_time": "2022-06-25T14:43:52.482Z"
   },
   {
    "duration": 3488,
    "start_time": "2022-06-25T14:50:52.973Z"
   },
   {
    "duration": 3668,
    "start_time": "2022-06-25T14:51:15.733Z"
   },
   {
    "duration": 1071,
    "start_time": "2022-06-25T14:52:26.972Z"
   },
   {
    "duration": 2406,
    "start_time": "2022-06-25T14:52:42.621Z"
   },
   {
    "duration": 1570,
    "start_time": "2022-06-25T14:55:28.542Z"
   },
   {
    "duration": 57,
    "start_time": "2022-06-25T14:55:30.115Z"
   },
   {
    "duration": 23,
    "start_time": "2022-06-25T14:55:30.175Z"
   },
   {
    "duration": 10,
    "start_time": "2022-06-25T14:55:30.201Z"
   },
   {
    "duration": 271,
    "start_time": "2022-06-25T14:55:30.212Z"
   },
   {
    "duration": 335,
    "start_time": "2022-06-25T14:55:30.485Z"
   },
   {
    "duration": 248,
    "start_time": "2022-06-25T14:55:30.821Z"
   },
   {
    "duration": 247,
    "start_time": "2022-06-25T14:55:31.071Z"
   },
   {
    "duration": 548,
    "start_time": "2022-06-25T14:55:31.319Z"
   },
   {
    "duration": 57,
    "start_time": "2022-06-25T14:55:31.871Z"
   },
   {
    "duration": 13,
    "start_time": "2022-06-25T14:55:31.930Z"
   },
   {
    "duration": 16,
    "start_time": "2022-06-25T14:55:31.945Z"
   },
   {
    "duration": 163,
    "start_time": "2022-06-25T14:55:31.963Z"
   },
   {
    "duration": 465,
    "start_time": "2022-06-25T14:55:32.128Z"
   },
   {
    "duration": 3,
    "start_time": "2022-06-25T14:55:32.596Z"
   },
   {
    "duration": 239,
    "start_time": "2022-06-25T14:55:32.601Z"
   },
   {
    "duration": 64,
    "start_time": "2022-06-25T14:55:32.841Z"
   },
   {
    "duration": 214,
    "start_time": "2022-06-25T14:55:32.907Z"
   },
   {
    "duration": 3,
    "start_time": "2022-06-25T14:55:33.123Z"
   },
   {
    "duration": 8500,
    "start_time": "2022-06-25T14:55:33.128Z"
   },
   {
    "duration": 22860,
    "start_time": "2022-06-25T14:55:41.630Z"
   },
   {
    "duration": 3,
    "start_time": "2022-06-25T14:56:04.492Z"
   },
   {
    "duration": 121734,
    "start_time": "2022-06-25T14:56:04.497Z"
   },
   {
    "duration": 6096,
    "start_time": "2022-06-25T14:58:06.233Z"
   },
   {
    "duration": 3,
    "start_time": "2022-06-25T14:58:12.331Z"
   },
   {
    "duration": 12,
    "start_time": "2022-06-25T14:58:12.335Z"
   },
   {
    "duration": 362,
    "start_time": "2022-06-25T14:58:12.349Z"
   },
   {
    "duration": 53,
    "start_time": "2022-06-25T15:07:34.149Z"
   }
  ],
  "kernelspec": {
   "display_name": "Python 3 (ipykernel)",
   "language": "python",
   "name": "python3"
  },
  "language_info": {
   "codemirror_mode": {
    "name": "ipython",
    "version": 3
   },
   "file_extension": ".py",
   "mimetype": "text/x-python",
   "name": "python",
   "nbconvert_exporter": "python",
   "pygments_lexer": "ipython3",
   "version": "3.9.5"
  },
  "toc": {
   "base_numbering": 1,
   "nav_menu": {},
   "number_sections": true,
   "sideBar": true,
   "skip_h1_title": true,
   "title_cell": "Содержание",
   "title_sidebar": "Contents",
   "toc_cell": true,
   "toc_position": {},
   "toc_section_display": true,
   "toc_window_display": false
  }
 },
 "nbformat": 4,
 "nbformat_minor": 2
}
