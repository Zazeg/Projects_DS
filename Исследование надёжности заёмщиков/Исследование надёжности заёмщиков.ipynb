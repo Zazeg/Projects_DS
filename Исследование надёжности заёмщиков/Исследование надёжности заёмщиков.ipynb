{
 "cells": [
  {
   "cell_type": "markdown",
   "metadata": {},
   "source": [
    "## Загрузка библиотек и изучение данных"
   ]
  },
  {
   "cell_type": "code",
   "execution_count": 1,
   "metadata": {},
   "outputs": [
    {
     "data": {
      "text/html": [
       "<div>\n",
       "<style scoped>\n",
       "    .dataframe tbody tr th:only-of-type {\n",
       "        vertical-align: middle;\n",
       "    }\n",
       "\n",
       "    .dataframe tbody tr th {\n",
       "        vertical-align: top;\n",
       "    }\n",
       "\n",
       "    .dataframe thead th {\n",
       "        text-align: right;\n",
       "    }\n",
       "</style>\n",
       "<table border=\"1\" class=\"dataframe\">\n",
       "  <thead>\n",
       "    <tr style=\"text-align: right;\">\n",
       "      <th></th>\n",
       "      <th>children</th>\n",
       "      <th>days_employed</th>\n",
       "      <th>dob_years</th>\n",
       "      <th>education</th>\n",
       "      <th>education_id</th>\n",
       "      <th>family_status</th>\n",
       "      <th>family_status_id</th>\n",
       "      <th>gender</th>\n",
       "      <th>income_type</th>\n",
       "      <th>debt</th>\n",
       "      <th>total_income</th>\n",
       "      <th>purpose</th>\n",
       "    </tr>\n",
       "  </thead>\n",
       "  <tbody>\n",
       "    <tr>\n",
       "      <td>0</td>\n",
       "      <td>1</td>\n",
       "      <td>-8437.673028</td>\n",
       "      <td>42</td>\n",
       "      <td>высшее</td>\n",
       "      <td>0</td>\n",
       "      <td>женат / замужем</td>\n",
       "      <td>0</td>\n",
       "      <td>F</td>\n",
       "      <td>сотрудник</td>\n",
       "      <td>0</td>\n",
       "      <td>253875.639453</td>\n",
       "      <td>покупка жилья</td>\n",
       "    </tr>\n",
       "    <tr>\n",
       "      <td>1</td>\n",
       "      <td>1</td>\n",
       "      <td>-4024.803754</td>\n",
       "      <td>36</td>\n",
       "      <td>среднее</td>\n",
       "      <td>1</td>\n",
       "      <td>женат / замужем</td>\n",
       "      <td>0</td>\n",
       "      <td>F</td>\n",
       "      <td>сотрудник</td>\n",
       "      <td>0</td>\n",
       "      <td>112080.014102</td>\n",
       "      <td>приобретение автомобиля</td>\n",
       "    </tr>\n",
       "    <tr>\n",
       "      <td>2</td>\n",
       "      <td>0</td>\n",
       "      <td>-5623.422610</td>\n",
       "      <td>33</td>\n",
       "      <td>Среднее</td>\n",
       "      <td>1</td>\n",
       "      <td>женат / замужем</td>\n",
       "      <td>0</td>\n",
       "      <td>M</td>\n",
       "      <td>сотрудник</td>\n",
       "      <td>0</td>\n",
       "      <td>145885.952297</td>\n",
       "      <td>покупка жилья</td>\n",
       "    </tr>\n",
       "    <tr>\n",
       "      <td>3</td>\n",
       "      <td>3</td>\n",
       "      <td>-4124.747207</td>\n",
       "      <td>32</td>\n",
       "      <td>среднее</td>\n",
       "      <td>1</td>\n",
       "      <td>женат / замужем</td>\n",
       "      <td>0</td>\n",
       "      <td>M</td>\n",
       "      <td>сотрудник</td>\n",
       "      <td>0</td>\n",
       "      <td>267628.550329</td>\n",
       "      <td>дополнительное образование</td>\n",
       "    </tr>\n",
       "    <tr>\n",
       "      <td>4</td>\n",
       "      <td>0</td>\n",
       "      <td>340266.072047</td>\n",
       "      <td>53</td>\n",
       "      <td>среднее</td>\n",
       "      <td>1</td>\n",
       "      <td>гражданский брак</td>\n",
       "      <td>1</td>\n",
       "      <td>F</td>\n",
       "      <td>пенсионер</td>\n",
       "      <td>0</td>\n",
       "      <td>158616.077870</td>\n",
       "      <td>сыграть свадьбу</td>\n",
       "    </tr>\n",
       "    <tr>\n",
       "      <td>5</td>\n",
       "      <td>0</td>\n",
       "      <td>-926.185831</td>\n",
       "      <td>27</td>\n",
       "      <td>высшее</td>\n",
       "      <td>0</td>\n",
       "      <td>гражданский брак</td>\n",
       "      <td>1</td>\n",
       "      <td>M</td>\n",
       "      <td>компаньон</td>\n",
       "      <td>0</td>\n",
       "      <td>255763.565419</td>\n",
       "      <td>покупка жилья</td>\n",
       "    </tr>\n",
       "    <tr>\n",
       "      <td>6</td>\n",
       "      <td>0</td>\n",
       "      <td>-2879.202052</td>\n",
       "      <td>43</td>\n",
       "      <td>высшее</td>\n",
       "      <td>0</td>\n",
       "      <td>женат / замужем</td>\n",
       "      <td>0</td>\n",
       "      <td>F</td>\n",
       "      <td>компаньон</td>\n",
       "      <td>0</td>\n",
       "      <td>240525.971920</td>\n",
       "      <td>операции с жильем</td>\n",
       "    </tr>\n",
       "    <tr>\n",
       "      <td>7</td>\n",
       "      <td>0</td>\n",
       "      <td>-152.779569</td>\n",
       "      <td>50</td>\n",
       "      <td>СРЕДНЕЕ</td>\n",
       "      <td>1</td>\n",
       "      <td>женат / замужем</td>\n",
       "      <td>0</td>\n",
       "      <td>M</td>\n",
       "      <td>сотрудник</td>\n",
       "      <td>0</td>\n",
       "      <td>135823.934197</td>\n",
       "      <td>образование</td>\n",
       "    </tr>\n",
       "    <tr>\n",
       "      <td>8</td>\n",
       "      <td>2</td>\n",
       "      <td>-6929.865299</td>\n",
       "      <td>35</td>\n",
       "      <td>ВЫСШЕЕ</td>\n",
       "      <td>0</td>\n",
       "      <td>гражданский брак</td>\n",
       "      <td>1</td>\n",
       "      <td>F</td>\n",
       "      <td>сотрудник</td>\n",
       "      <td>0</td>\n",
       "      <td>95856.832424</td>\n",
       "      <td>на проведение свадьбы</td>\n",
       "    </tr>\n",
       "    <tr>\n",
       "      <td>9</td>\n",
       "      <td>0</td>\n",
       "      <td>-2188.756445</td>\n",
       "      <td>41</td>\n",
       "      <td>среднее</td>\n",
       "      <td>1</td>\n",
       "      <td>женат / замужем</td>\n",
       "      <td>0</td>\n",
       "      <td>M</td>\n",
       "      <td>сотрудник</td>\n",
       "      <td>0</td>\n",
       "      <td>144425.938277</td>\n",
       "      <td>покупка жилья для семьи</td>\n",
       "    </tr>\n",
       "  </tbody>\n",
       "</table>\n",
       "</div>"
      ],
      "text/plain": [
       "   children  days_employed  dob_years education  education_id  \\\n",
       "0         1   -8437.673028         42    высшее             0   \n",
       "1         1   -4024.803754         36   среднее             1   \n",
       "2         0   -5623.422610         33   Среднее             1   \n",
       "3         3   -4124.747207         32   среднее             1   \n",
       "4         0  340266.072047         53   среднее             1   \n",
       "5         0    -926.185831         27    высшее             0   \n",
       "6         0   -2879.202052         43    высшее             0   \n",
       "7         0    -152.779569         50   СРЕДНЕЕ             1   \n",
       "8         2   -6929.865299         35    ВЫСШЕЕ             0   \n",
       "9         0   -2188.756445         41   среднее             1   \n",
       "\n",
       "      family_status  family_status_id gender income_type  debt   total_income  \\\n",
       "0   женат / замужем                 0      F   сотрудник     0  253875.639453   \n",
       "1   женат / замужем                 0      F   сотрудник     0  112080.014102   \n",
       "2   женат / замужем                 0      M   сотрудник     0  145885.952297   \n",
       "3   женат / замужем                 0      M   сотрудник     0  267628.550329   \n",
       "4  гражданский брак                 1      F   пенсионер     0  158616.077870   \n",
       "5  гражданский брак                 1      M   компаньон     0  255763.565419   \n",
       "6   женат / замужем                 0      F   компаньон     0  240525.971920   \n",
       "7   женат / замужем                 0      M   сотрудник     0  135823.934197   \n",
       "8  гражданский брак                 1      F   сотрудник     0   95856.832424   \n",
       "9   женат / замужем                 0      M   сотрудник     0  144425.938277   \n",
       "\n",
       "                      purpose  \n",
       "0               покупка жилья  \n",
       "1     приобретение автомобиля  \n",
       "2               покупка жилья  \n",
       "3  дополнительное образование  \n",
       "4             сыграть свадьбу  \n",
       "5               покупка жилья  \n",
       "6           операции с жильем  \n",
       "7                 образование  \n",
       "8       на проведение свадьбы  \n",
       "9     покупка жилья для семьи  "
      ]
     },
     "metadata": {},
     "output_type": "display_data"
    }
   ],
   "source": [
    "import pandas as pd\n",
    "from pymystem3 import Mystem # загружаю библиотеку для лемматизации в будущем.\n",
    "from collections import Counter # импортирую Counter для подсчета упоминаний в леммах слов\n",
    "\n",
    "m = Mystem()\n",
    "data = pd.read_csv('/datasets/data.csv')\n",
    "display(data.head(10)) #Выводим первые 10 строк датасета, чтоб ознакомиться с данными."
   ]
  },
  {
   "cell_type": "code",
   "execution_count": 2,
   "metadata": {},
   "outputs": [
    {
     "name": "stdout",
     "output_type": "stream",
     "text": [
      "<class 'pandas.core.frame.DataFrame'>\n",
      "RangeIndex: 21525 entries, 0 to 21524\n",
      "Data columns (total 12 columns):\n",
      "children            21525 non-null int64\n",
      "days_employed       19351 non-null float64\n",
      "dob_years           21525 non-null int64\n",
      "education           21525 non-null object\n",
      "education_id        21525 non-null int64\n",
      "family_status       21525 non-null object\n",
      "family_status_id    21525 non-null int64\n",
      "gender              21525 non-null object\n",
      "income_type         21525 non-null object\n",
      "debt                21525 non-null int64\n",
      "total_income        19351 non-null float64\n",
      "purpose             21525 non-null object\n",
      "dtypes: float64(2), int64(5), object(5)\n",
      "memory usage: 2.0+ MB\n"
     ]
    }
   ],
   "source": [
    "data.info() # Информация о файле, чтоб увидеть пропущенные значения и тип данных столбцов"
   ]
  },
  {
   "cell_type": "markdown",
   "metadata": {},
   "source": [
    "**Вывод**"
   ]
  },
  {
   "cell_type": "markdown",
   "metadata": {},
   "source": [
    "Судя по выводимым данным:\n",
    "1. Общий трудовой стаж - в данных есть ошибки (отрицательных трудовой стаж, слишком огромные значения и пр.)\n",
    "2. В образовании разным регистром написаны данные\n",
    "3. Пустые данные в трудовом стаже и в зарплате соответственно"
   ]
  },
  {
   "cell_type": "markdown",
   "metadata": {},
   "source": [
    "## Предобработка данных"
   ]
  },
  {
   "cell_type": "code",
   "execution_count": 3,
   "metadata": {},
   "outputs": [
    {
     "name": "stdout",
     "output_type": "stream",
     "text": [
      "Количество клиентов со стажем свыше 55 лет: 3445\n"
     ]
    }
   ],
   "source": [
    "data['days_employed'] = abs(data['days_employed']) # Приводим рабочий стаж к положительным значениям\n",
    "print('Количество клиентов со стажем свыше 55 лет:', data[data['days_employed'] > 20000]['days_employed'].count()) # Считаем количество тех, у кого стаж выше 55 лет."
   ]
  },
  {
   "cell_type": "markdown",
   "metadata": {},
   "source": [
    "Шестая часть данных содержит информацию, что трудовой стаж слишком огромен. В целях нашей работы трудовой стаж не важен."
   ]
  },
  {
   "cell_type": "markdown",
   "metadata": {},
   "source": [
    "### Обработка пропусков"
   ]
  },
  {
   "cell_type": "markdown",
   "metadata": {},
   "source": [
    "Пропущенные значения в трудовом стаже и зарплате могут быть по разной причине. Далеко не обязательно эти данные означают какую-то ошибку. Люди могут работать неофициально и получать доход, могут получать доход со сдачи квартир, в обход налогов, получать доход с акций, торговать киптовалютой и пр. А могут просто не работать, вступить в брак с содержательным человеком, вступить в наследство, вариантов много. Потому эти данные надо просто заполнить нулями.\n",
    "(сначала я посчитал медианные значения по каждому типу занятости и думал по этому типу занятости присвоить значения во всех пропущенных данных)"
   ]
  },
  {
   "cell_type": "code",
   "execution_count": 4,
   "metadata": {},
   "outputs": [
    {
     "name": "stdout",
     "output_type": "stream",
     "text": [
      "0.10099883855981417\n"
     ]
    }
   ],
   "source": [
    "print(data['total_income'].isna().sum() / len(data)) # Считаем количество пропусков в таблице"
   ]
  },
  {
   "cell_type": "markdown",
   "metadata": {},
   "source": [
    "Количество NaN в таблице составляет более 10% - это довольно много, чтоб пренебрегать этими данными.  \n",
    "Однако если присваивать медианные значения, то количество заёмщиков по диапазонам заработка будет значительно выделяться в одной категории. Потому решено избавиться от незаполненных данных."
   ]
  },
  {
   "cell_type": "code",
   "execution_count": 5,
   "metadata": {
    "scrolled": true
   },
   "outputs": [
    {
     "name": "stdout",
     "output_type": "stream",
     "text": [
      "[ 1  0  3  2 -1  4 20  5]\n"
     ]
    }
   ],
   "source": [
    "print(data['children'].unique()) # Уникальные значения столбца с количеством детей заёмщиков"
   ]
  },
  {
   "cell_type": "markdown",
   "metadata": {},
   "source": [
    "-1 ребенок значит, что детей нет и быть не может, или почему? Скорее всего тут должно быть значение 1. Как и 20 детей - это ошибка, должно быть 2. Проверим, насколько часто встречаются эти данные."
   ]
  },
  {
   "cell_type": "code",
   "execution_count": 6,
   "metadata": {
    "scrolled": true
   },
   "outputs": [
    {
     "data": {
      "text/plain": [
       " 0     14149\n",
       " 1      4818\n",
       " 2      2055\n",
       " 3       330\n",
       " 20       76\n",
       "-1        47\n",
       " 4        41\n",
       " 5         9\n",
       "Name: children, dtype: int64"
      ]
     },
     "metadata": {},
     "output_type": "display_data"
    }
   ],
   "source": [
    "display(data['children'].value_counts())"
   ]
  },
  {
   "cell_type": "markdown",
   "metadata": {},
   "source": [
    "Эти данные встречаются реже, чем 0,5%. Данными можно было бы и пренебречь, конечно, но я заменю их."
   ]
  },
  {
   "cell_type": "code",
   "execution_count": 7,
   "metadata": {},
   "outputs": [],
   "source": [
    "data['days_employed'] = data['days_employed'].fillna(value=0) # Меняем данные в столбце на 0\n",
    "data['total_income'] = data['total_income'].fillna(value=0) # Меняем данные в столбце на 0\n",
    "#data = data[data['children'] >= 0] # убираем отрицательные значения\n",
    "data.loc[data['children'] == -1, 'children'] = 1\n",
    "#data = data[data['children'] < 7] # убираем данные с 20 детьми.\n",
    "data.loc[data['children'] == 20, 'children'] = 2\n",
    "#print()\n",
    "#print(data['children'].value_counts()) # здесь можно проверить, что все значения в столбце 'children' заменены."
   ]
  },
  {
   "cell_type": "markdown",
   "metadata": {},
   "source": [
    "Не меняя прежнего кода избавляемся от данных без указания дохода"
   ]
  },
  {
   "cell_type": "code",
   "execution_count": 8,
   "metadata": {},
   "outputs": [
    {
     "name": "stdout",
     "output_type": "stream",
     "text": [
      "<class 'pandas.core.frame.DataFrame'>\n",
      "Int64Index: 19351 entries, 0 to 21524\n",
      "Data columns (total 12 columns):\n",
      "children            19351 non-null int64\n",
      "days_employed       19351 non-null float64\n",
      "dob_years           19351 non-null int64\n",
      "education           19351 non-null object\n",
      "education_id        19351 non-null int64\n",
      "family_status       19351 non-null object\n",
      "family_status_id    19351 non-null int64\n",
      "gender              19351 non-null object\n",
      "income_type         19351 non-null object\n",
      "debt                19351 non-null int64\n",
      "total_income        19351 non-null float64\n",
      "purpose             19351 non-null object\n",
      "dtypes: float64(2), int64(5), object(5)\n",
      "memory usage: 1.9+ MB\n"
     ]
    }
   ],
   "source": [
    "data = data[data['total_income'] != 0] # убираю данные по кредиторам, доход которого был пропущен и заменен на 0.\n",
    "data.info() # Проверяем наличие пропусков в данных."
   ]
  },
  {
   "cell_type": "markdown",
   "metadata": {},
   "source": [
    "**Вывод**"
   ]
  },
  {
   "cell_type": "markdown",
   "metadata": {},
   "source": [
    "Не обязательно отсутствующие значения - это серьезная ошибка в данных. Но, чтоб данные было возможно обработать - надо их заменить или удалить."
   ]
  },
  {
   "cell_type": "markdown",
   "metadata": {},
   "source": [
    "### Замена типа данных"
   ]
  },
  {
   "cell_type": "markdown",
   "metadata": {},
   "source": [
    "Для обработки таблицы не нужны вещественные числа в зарплате и трудовом стаже клиентов."
   ]
  },
  {
   "cell_type": "code",
   "execution_count": 9,
   "metadata": {
    "scrolled": false
   },
   "outputs": [
    {
     "name": "stdout",
     "output_type": "stream",
     "text": [
      "<class 'pandas.core.frame.DataFrame'>\n",
      "Int64Index: 19351 entries, 0 to 21524\n",
      "Data columns (total 12 columns):\n",
      "children            19351 non-null int64\n",
      "days_employed       19351 non-null int64\n",
      "dob_years           19351 non-null int64\n",
      "education           19351 non-null object\n",
      "education_id        19351 non-null int64\n",
      "family_status       19351 non-null object\n",
      "family_status_id    19351 non-null int64\n",
      "gender              19351 non-null object\n",
      "income_type         19351 non-null object\n",
      "debt                19351 non-null int64\n",
      "total_income        19351 non-null int64\n",
      "purpose             19351 non-null object\n",
      "dtypes: int64(7), object(5)\n",
      "memory usage: 1.9+ MB\n"
     ]
    }
   ],
   "source": [
    "data['days_employed'] = data['days_employed'].astype('int')\n",
    "data['total_income'] = data['total_income'].astype('int')\n",
    "data.info()"
   ]
  },
  {
   "cell_type": "markdown",
   "metadata": {},
   "source": [
    "**Вывод**"
   ]
  },
  {
   "cell_type": "markdown",
   "metadata": {},
   "source": [
    "Сменить тип данных других столбцов не вижу смысла."
   ]
  },
  {
   "cell_type": "markdown",
   "metadata": {},
   "source": [
    "### Обработка дубликатов"
   ]
  },
  {
   "cell_type": "markdown",
   "metadata": {},
   "source": [
    "Чтоб начать обработку дубликатов, сначала надо привести данные к нижнему регистру. Верхний встречается только в образовании и в столбце \"пол\". (есть там один персонаж, кстати, с неопределённым  полом)"
   ]
  },
  {
   "cell_type": "code",
   "execution_count": 10,
   "metadata": {
    "scrolled": true
   },
   "outputs": [
    {
     "name": "stdout",
     "output_type": "stream",
     "text": [
      "0 дубликатов было обнаружно в данных\n"
     ]
    }
   ],
   "source": [
    "data['education'] = data['education'].str.lower()\n",
    "print(data.duplicated().sum(), 'дубликатов было обнаружно в данных') # Здесь я считаю количество дубликатов\n",
    "data = data.drop_duplicates().reset_index(drop=True) # Удаляем дубликаты...\n",
    "#data.info()"
   ]
  },
  {
   "cell_type": "markdown",
   "metadata": {},
   "source": [
    "**Вывод**"
   ]
  },
  {
   "cell_type": "markdown",
   "metadata": {},
   "source": [
    "Дубликатов здесь было не так много, но от них всё равно лучше избавиться."
   ]
  },
  {
   "cell_type": "markdown",
   "metadata": {},
   "source": [
    "### Лемматизация"
   ]
  },
  {
   "cell_type": "code",
   "execution_count": 11,
   "metadata": {
    "scrolled": true
   },
   "outputs": [
    {
     "data": {
      "text/plain": [
       "array(['покупка жилья', 'приобретение автомобиля',\n",
       "       'дополнительное образование', 'сыграть свадьбу',\n",
       "       'операции с жильем', 'образование', 'на проведение свадьбы',\n",
       "       'покупка жилья для семьи', 'покупка недвижимости',\n",
       "       'покупка коммерческой недвижимости', 'покупка жилой недвижимости',\n",
       "       'строительство собственной недвижимости', 'недвижимость',\n",
       "       'строительство недвижимости', 'на покупку подержанного автомобиля',\n",
       "       'на покупку своего автомобиля',\n",
       "       'операции с коммерческой недвижимостью', 'жилье',\n",
       "       'операции со своей недвижимостью', 'автомобили',\n",
       "       'заняться образованием', 'получение образования',\n",
       "       'сделка с подержанным автомобилем', 'автомобиль', 'свадьба',\n",
       "       'получение дополнительного образования', 'покупка своего жилья',\n",
       "       'операции с недвижимостью', 'получение высшего образования',\n",
       "       'свой автомобиль', 'сделка с автомобилем',\n",
       "       'профильное образование', 'высшее образование',\n",
       "       'покупка жилья для сдачи', 'на покупку автомобиля',\n",
       "       'строительство жилой недвижимости', 'ремонт жилью',\n",
       "       'заняться высшим образованием'], dtype=object)"
      ]
     },
     "metadata": {},
     "output_type": "display_data"
    }
   ],
   "source": [
    "purpose_list = data['purpose'].unique() \n",
    "display(purpose_list) # Выведем все уникальные значения в столбце целей кредита, добавив в новую переменную."
   ]
  },
  {
   "cell_type": "code",
   "execution_count": 12,
   "metadata": {
    "scrolled": true
   },
   "outputs": [],
   "source": [
    "lemmas = []\n",
    "#Каждое значение в 'purpose_list' лемматизирую и добавляю в пустой список lemmas:\n",
    "for a in purpose_list:\n",
    "    lemm = m.lemmatize(a)\n",
    "    lemmas.append(lemm)"
   ]
  },
  {
   "cell_type": "markdown",
   "metadata": {},
   "source": [
    "Посмотрим, на какие категории делятся цели получения кредита, проверим, что чаще встречается в леммах."
   ]
  },
  {
   "cell_type": "code",
   "execution_count": 13,
   "metadata": {},
   "outputs": [
    {
     "name": "stdout",
     "output_type": "stream",
     "text": [
      "Counter({' ': 59, '\\n': 38, 'покупка': 10, 'недвижимость': 10, 'автомобиль': 9, 'образование': 9, 'жилье': 7, 'с': 5, 'операция': 4, 'на': 4, 'свой': 4, 'свадьба': 3, 'строительство': 3, 'получение': 3, 'высокий': 3, 'дополнительный': 2, 'для': 2, 'коммерческий': 2, 'жилой': 2, 'заниматься': 2, 'сделка': 2, 'приобретение': 1, 'сыграть': 1, 'проведение': 1, 'семья': 1, 'собственный': 1, 'подержать': 1, 'со': 1, 'подержанный': 1, 'профильный': 1, 'сдача': 1, 'ремонт': 1})\n"
     ]
    }
   ],
   "source": [
    "lemm_text = []\n",
    "for i in lemmas:\n",
    "    lemm_text = list(lemm_text) + i\n",
    "print(Counter(lemm_text))"
   ]
  },
  {
   "cell_type": "markdown",
   "metadata": {},
   "source": [
    "**Вывод**"
   ]
  },
  {
   "cell_type": "markdown",
   "metadata": {},
   "source": [
    "По сути, все цели кредита делятся на 4 категории: автомобиль, образование, свадьба и недвижимость/жильё."
   ]
  },
  {
   "cell_type": "code",
   "execution_count": 14,
   "metadata": {
    "scrolled": true
   },
   "outputs": [
    {
     "data": {
      "text/html": [
       "<div>\n",
       "<style scoped>\n",
       "    .dataframe tbody tr th:only-of-type {\n",
       "        vertical-align: middle;\n",
       "    }\n",
       "\n",
       "    .dataframe tbody tr th {\n",
       "        vertical-align: top;\n",
       "    }\n",
       "\n",
       "    .dataframe thead th {\n",
       "        text-align: right;\n",
       "    }\n",
       "</style>\n",
       "<table border=\"1\" class=\"dataframe\">\n",
       "  <thead>\n",
       "    <tr style=\"text-align: right;\">\n",
       "      <th></th>\n",
       "      <th>children</th>\n",
       "      <th>days_employed</th>\n",
       "      <th>dob_years</th>\n",
       "      <th>education</th>\n",
       "      <th>education_id</th>\n",
       "      <th>family_status</th>\n",
       "      <th>family_status_id</th>\n",
       "      <th>gender</th>\n",
       "      <th>income_type</th>\n",
       "      <th>debt</th>\n",
       "      <th>total_income</th>\n",
       "      <th>purpose</th>\n",
       "      <th>purpose_id</th>\n",
       "    </tr>\n",
       "  </thead>\n",
       "  <tbody>\n",
       "    <tr>\n",
       "      <td>0</td>\n",
       "      <td>1</td>\n",
       "      <td>8437</td>\n",
       "      <td>42</td>\n",
       "      <td>высшее</td>\n",
       "      <td>0</td>\n",
       "      <td>женат / замужем</td>\n",
       "      <td>0</td>\n",
       "      <td>F</td>\n",
       "      <td>сотрудник</td>\n",
       "      <td>0</td>\n",
       "      <td>253875</td>\n",
       "      <td>покупка жилья</td>\n",
       "      <td>недвижимость</td>\n",
       "    </tr>\n",
       "    <tr>\n",
       "      <td>1</td>\n",
       "      <td>1</td>\n",
       "      <td>4024</td>\n",
       "      <td>36</td>\n",
       "      <td>среднее</td>\n",
       "      <td>1</td>\n",
       "      <td>женат / замужем</td>\n",
       "      <td>0</td>\n",
       "      <td>F</td>\n",
       "      <td>сотрудник</td>\n",
       "      <td>0</td>\n",
       "      <td>112080</td>\n",
       "      <td>приобретение автомобиля</td>\n",
       "      <td>автомобиль</td>\n",
       "    </tr>\n",
       "    <tr>\n",
       "      <td>2</td>\n",
       "      <td>0</td>\n",
       "      <td>5623</td>\n",
       "      <td>33</td>\n",
       "      <td>среднее</td>\n",
       "      <td>1</td>\n",
       "      <td>женат / замужем</td>\n",
       "      <td>0</td>\n",
       "      <td>M</td>\n",
       "      <td>сотрудник</td>\n",
       "      <td>0</td>\n",
       "      <td>145885</td>\n",
       "      <td>покупка жилья</td>\n",
       "      <td>недвижимость</td>\n",
       "    </tr>\n",
       "    <tr>\n",
       "      <td>3</td>\n",
       "      <td>3</td>\n",
       "      <td>4124</td>\n",
       "      <td>32</td>\n",
       "      <td>среднее</td>\n",
       "      <td>1</td>\n",
       "      <td>женат / замужем</td>\n",
       "      <td>0</td>\n",
       "      <td>M</td>\n",
       "      <td>сотрудник</td>\n",
       "      <td>0</td>\n",
       "      <td>267628</td>\n",
       "      <td>дополнительное образование</td>\n",
       "      <td>образование</td>\n",
       "    </tr>\n",
       "    <tr>\n",
       "      <td>4</td>\n",
       "      <td>0</td>\n",
       "      <td>340266</td>\n",
       "      <td>53</td>\n",
       "      <td>среднее</td>\n",
       "      <td>1</td>\n",
       "      <td>гражданский брак</td>\n",
       "      <td>1</td>\n",
       "      <td>F</td>\n",
       "      <td>пенсионер</td>\n",
       "      <td>0</td>\n",
       "      <td>158616</td>\n",
       "      <td>сыграть свадьбу</td>\n",
       "      <td>свадьба</td>\n",
       "    </tr>\n",
       "    <tr>\n",
       "      <td>5</td>\n",
       "      <td>0</td>\n",
       "      <td>926</td>\n",
       "      <td>27</td>\n",
       "      <td>высшее</td>\n",
       "      <td>0</td>\n",
       "      <td>гражданский брак</td>\n",
       "      <td>1</td>\n",
       "      <td>M</td>\n",
       "      <td>компаньон</td>\n",
       "      <td>0</td>\n",
       "      <td>255763</td>\n",
       "      <td>покупка жилья</td>\n",
       "      <td>недвижимость</td>\n",
       "    </tr>\n",
       "    <tr>\n",
       "      <td>6</td>\n",
       "      <td>0</td>\n",
       "      <td>2879</td>\n",
       "      <td>43</td>\n",
       "      <td>высшее</td>\n",
       "      <td>0</td>\n",
       "      <td>женат / замужем</td>\n",
       "      <td>0</td>\n",
       "      <td>F</td>\n",
       "      <td>компаньон</td>\n",
       "      <td>0</td>\n",
       "      <td>240525</td>\n",
       "      <td>операции с жильем</td>\n",
       "      <td>недвижимость</td>\n",
       "    </tr>\n",
       "    <tr>\n",
       "      <td>7</td>\n",
       "      <td>0</td>\n",
       "      <td>152</td>\n",
       "      <td>50</td>\n",
       "      <td>среднее</td>\n",
       "      <td>1</td>\n",
       "      <td>женат / замужем</td>\n",
       "      <td>0</td>\n",
       "      <td>M</td>\n",
       "      <td>сотрудник</td>\n",
       "      <td>0</td>\n",
       "      <td>135823</td>\n",
       "      <td>образование</td>\n",
       "      <td>образование</td>\n",
       "    </tr>\n",
       "    <tr>\n",
       "      <td>8</td>\n",
       "      <td>2</td>\n",
       "      <td>6929</td>\n",
       "      <td>35</td>\n",
       "      <td>высшее</td>\n",
       "      <td>0</td>\n",
       "      <td>гражданский брак</td>\n",
       "      <td>1</td>\n",
       "      <td>F</td>\n",
       "      <td>сотрудник</td>\n",
       "      <td>0</td>\n",
       "      <td>95856</td>\n",
       "      <td>на проведение свадьбы</td>\n",
       "      <td>свадьба</td>\n",
       "    </tr>\n",
       "    <tr>\n",
       "      <td>9</td>\n",
       "      <td>0</td>\n",
       "      <td>2188</td>\n",
       "      <td>41</td>\n",
       "      <td>среднее</td>\n",
       "      <td>1</td>\n",
       "      <td>женат / замужем</td>\n",
       "      <td>0</td>\n",
       "      <td>M</td>\n",
       "      <td>сотрудник</td>\n",
       "      <td>0</td>\n",
       "      <td>144425</td>\n",
       "      <td>покупка жилья для семьи</td>\n",
       "      <td>недвижимость</td>\n",
       "    </tr>\n",
       "  </tbody>\n",
       "</table>\n",
       "</div>"
      ],
      "text/plain": [
       "   children  days_employed  dob_years education  education_id  \\\n",
       "0         1           8437         42    высшее             0   \n",
       "1         1           4024         36   среднее             1   \n",
       "2         0           5623         33   среднее             1   \n",
       "3         3           4124         32   среднее             1   \n",
       "4         0         340266         53   среднее             1   \n",
       "5         0            926         27    высшее             0   \n",
       "6         0           2879         43    высшее             0   \n",
       "7         0            152         50   среднее             1   \n",
       "8         2           6929         35    высшее             0   \n",
       "9         0           2188         41   среднее             1   \n",
       "\n",
       "      family_status  family_status_id gender income_type  debt  total_income  \\\n",
       "0   женат / замужем                 0      F   сотрудник     0        253875   \n",
       "1   женат / замужем                 0      F   сотрудник     0        112080   \n",
       "2   женат / замужем                 0      M   сотрудник     0        145885   \n",
       "3   женат / замужем                 0      M   сотрудник     0        267628   \n",
       "4  гражданский брак                 1      F   пенсионер     0        158616   \n",
       "5  гражданский брак                 1      M   компаньон     0        255763   \n",
       "6   женат / замужем                 0      F   компаньон     0        240525   \n",
       "7   женат / замужем                 0      M   сотрудник     0        135823   \n",
       "8  гражданский брак                 1      F   сотрудник     0         95856   \n",
       "9   женат / замужем                 0      M   сотрудник     0        144425   \n",
       "\n",
       "                      purpose    purpose_id  \n",
       "0               покупка жилья  недвижимость  \n",
       "1     приобретение автомобиля    автомобиль  \n",
       "2               покупка жилья  недвижимость  \n",
       "3  дополнительное образование   образование  \n",
       "4             сыграть свадьбу       свадьба  \n",
       "5               покупка жилья  недвижимость  \n",
       "6           операции с жильем  недвижимость  \n",
       "7                 образование   образование  \n",
       "8       на проведение свадьбы       свадьба  \n",
       "9     покупка жилья для семьи  недвижимость  "
      ]
     },
     "metadata": {},
     "output_type": "display_data"
    }
   ],
   "source": [
    "def purpose_func(purpose): # Создаю функцию, чтоб создать столбец 'purpose_id' и каждой категории присвоить id\n",
    "    lemma = m.lemmatize(purpose)\n",
    "    for i in lemma:\n",
    "        if 'автомоб' in i: return 'автомобиль'\n",
    "        if 'образ' in i: return 'образование'\n",
    "        if 'свад' in i: return 'свадьба'\n",
    "        if 'недвиж' in i: return 'недвижимость'\n",
    "        if 'жил' in i: return 'недвижимость'\n",
    "               \n",
    "# Создаю столбец с целью кредита, после лемматицации.\n",
    "data['purpose_id']= data['purpose'].apply(purpose_func)\n",
    "display(data.head(10))"
   ]
  },
  {
   "cell_type": "code",
   "execution_count": 15,
   "metadata": {},
   "outputs": [
    {
     "name": "stdout",
     "output_type": "stream",
     "text": [
      "недвижимость    9758\n",
      "автомобиль      3897\n",
      "образование     3597\n",
      "свадьба         2099\n",
      "Name: purpose_id, dtype: int64\n"
     ]
    }
   ],
   "source": [
    "print(data['purpose_id'].value_counts()) # Проверяю, какие цели кредита встречаются чаще всего."
   ]
  },
  {
   "cell_type": "markdown",
   "metadata": {},
   "source": [
    "Я лемматизировал данные для категоризации данных и объединения клиентов по цели получения займа"
   ]
  },
  {
   "cell_type": "markdown",
   "metadata": {},
   "source": [
    "### Категоризация данных"
   ]
  },
  {
   "cell_type": "markdown",
   "metadata": {},
   "source": [
    "Чтобы легче было просматривать данные, создаю отдельную таблицу, включающую количество детей, информацию по возврату кредита в срок, семейный статус, заработную плату и цель кредита"
   ]
  },
  {
   "cell_type": "code",
   "execution_count": 16,
   "metadata": {
    "scrolled": false
   },
   "outputs": [
    {
     "name": "stdout",
     "output_type": "stream",
     "text": [
      "   children  debt     family_status  total_income    purpose_id\n",
      "0         1     0   женат / замужем        253875  недвижимость\n",
      "1         1     0   женат / замужем        112080    автомобиль\n",
      "2         0     0   женат / замужем        145885  недвижимость\n",
      "3         3     0   женат / замужем        267628   образование\n",
      "4         0     0  гражданский брак        158616       свадьба\n"
     ]
    }
   ],
   "source": [
    "data_debt = data[['children','debt','family_status','total_income','purpose_id']] # Выделяю из data нужные столбцы\n",
    "print(data_debt.head())"
   ]
  },
  {
   "cell_type": "markdown",
   "metadata": {},
   "source": [
    "Выделил я эти столбцы как для облегчения визуализации, так и для быстродействия системы. Теперь можно проще работать с таблицей, например:"
   ]
  },
  {
   "cell_type": "code",
   "execution_count": 17,
   "metadata": {},
   "outputs": [
    {
     "name": "stdout",
     "output_type": "stream",
     "text": [
      "Количество заемщиков в каждой категории по количеству детей:\n"
     ]
    },
    {
     "data": {
      "text/plain": [
       "0    12710\n",
       "1     4387\n",
       "2     1918\n",
       "3      294\n",
       "4       34\n",
       "5        8\n",
       "Name: children, dtype: int64"
      ]
     },
     "metadata": {},
     "output_type": "display_data"
    }
   ],
   "source": [
    "print('Количество заемщиков в каждой категории по количеству детей:')\n",
    "display(data_debt['children'].value_counts()) "
   ]
  },
  {
   "cell_type": "markdown",
   "metadata": {},
   "source": [
    "**Вывод**"
   ]
  },
  {
   "cell_type": "markdown",
   "metadata": {},
   "source": [
    "Восприятие данных таблицы с меньшим количеством столбцов значительно лучше."
   ]
  },
  {
   "cell_type": "markdown",
   "metadata": {},
   "source": [
    "## Ответы на вопросы"
   ]
  },
  {
   "cell_type": "markdown",
   "metadata": {},
   "source": [
    "- Есть ли зависимость между наличием детей и возвратом кредита в срок?"
   ]
  },
  {
   "cell_type": "markdown",
   "metadata": {},
   "source": [
    "Посмотрим таблицу с задолжностью заёмщиков и количеством детей."
   ]
  },
  {
   "cell_type": "code",
   "execution_count": 18,
   "metadata": {},
   "outputs": [
    {
     "data": {
      "text/html": [
       "<div>\n",
       "<style scoped>\n",
       "    .dataframe tbody tr th:only-of-type {\n",
       "        vertical-align: middle;\n",
       "    }\n",
       "\n",
       "    .dataframe tbody tr th {\n",
       "        vertical-align: top;\n",
       "    }\n",
       "\n",
       "    .dataframe thead th {\n",
       "        text-align: right;\n",
       "    }\n",
       "</style>\n",
       "<table border=\"1\" class=\"dataframe\">\n",
       "  <thead>\n",
       "    <tr style=\"text-align: right;\">\n",
       "      <th>debt</th>\n",
       "      <th>0</th>\n",
       "      <th>1</th>\n",
       "      <th>fraction</th>\n",
       "    </tr>\n",
       "    <tr>\n",
       "      <th>children</th>\n",
       "      <th></th>\n",
       "      <th></th>\n",
       "      <th></th>\n",
       "    </tr>\n",
       "  </thead>\n",
       "  <tbody>\n",
       "    <tr>\n",
       "      <td>0</td>\n",
       "      <td>11758.0</td>\n",
       "      <td>952.0</td>\n",
       "      <td>0.074902</td>\n",
       "    </tr>\n",
       "    <tr>\n",
       "      <td>1</td>\n",
       "      <td>3978.0</td>\n",
       "      <td>409.0</td>\n",
       "      <td>0.093230</td>\n",
       "    </tr>\n",
       "    <tr>\n",
       "      <td>2</td>\n",
       "      <td>1733.0</td>\n",
       "      <td>185.0</td>\n",
       "      <td>0.096455</td>\n",
       "    </tr>\n",
       "    <tr>\n",
       "      <td>3</td>\n",
       "      <td>272.0</td>\n",
       "      <td>22.0</td>\n",
       "      <td>0.074830</td>\n",
       "    </tr>\n",
       "    <tr>\n",
       "      <td>4</td>\n",
       "      <td>31.0</td>\n",
       "      <td>3.0</td>\n",
       "      <td>0.088235</td>\n",
       "    </tr>\n",
       "    <tr>\n",
       "      <td>5</td>\n",
       "      <td>8.0</td>\n",
       "      <td>0.0</td>\n",
       "      <td>0.000000</td>\n",
       "    </tr>\n",
       "  </tbody>\n",
       "</table>\n",
       "</div>"
      ],
      "text/plain": [
       "debt            0      1  fraction\n",
       "children                          \n",
       "0         11758.0  952.0  0.074902\n",
       "1          3978.0  409.0  0.093230\n",
       "2          1733.0  185.0  0.096455\n",
       "3           272.0   22.0  0.074830\n",
       "4            31.0    3.0  0.088235\n",
       "5             8.0    0.0  0.000000"
      ]
     },
     "metadata": {},
     "output_type": "display_data"
    }
   ],
   "source": [
    "#display(data_debt.groupby(['children','debt']).agg({'debt':'count'})) \n",
    "data_pivot_children = data_debt.pivot_table(index=['children'], columns='debt', values='purpose_id', aggfunc='count')\n",
    "data_pivot_children = data_pivot_children.fillna(0) # убираю отсутствующие данные\n",
    "# Считаю процент тех, у кого была задолжность по возврату кредита относительно общего количества заёмщиков\n",
    "data_pivot_children['fraction'] = data_pivot_children[1] / (data_pivot_children[0]+data_pivot_children[1])"
   ]
  },
  {
   "cell_type": "markdown",
   "metadata": {},
   "source": [
    "**Вывод**"
   ]
  },
  {
   "cell_type": "markdown",
   "metadata": {},
   "source": [
    "Наличие детей в семье увеличивает вероятность того, что кредит не вернут в срок на 0,6-2 %. У заёмщиков с 5 детьми трудно ориентироваться, очень мало статистических данных."
   ]
  },
  {
   "cell_type": "code",
   "execution_count": 19,
   "metadata": {},
   "outputs": [
    {
     "data": {
      "text/html": [
       "<style  type=\"text/css\" >\n",
       "</style><table id=\"T_0929a9a8_842c_11ec_ad21_02420a396f87\" ><thead>    <tr>        <th class=\"index_name level0\" >debt</th>        <th class=\"col_heading level0 col0\" >0</th>        <th class=\"col_heading level0 col1\" >1</th>        <th class=\"col_heading level0 col2\" >fraction</th>    </tr>    <tr>        <th class=\"index_name level0\" >children</th>        <th class=\"blank\" ></th>        <th class=\"blank\" ></th>        <th class=\"blank\" ></th>    </tr></thead><tbody>\n",
       "                <tr>\n",
       "                        <th id=\"T_0929a9a8_842c_11ec_ad21_02420a396f87level0_row0\" class=\"row_heading level0 row0\" >0</th>\n",
       "                        <td id=\"T_0929a9a8_842c_11ec_ad21_02420a396f87row0_col0\" class=\"data row0 col0\" >11758</td>\n",
       "                        <td id=\"T_0929a9a8_842c_11ec_ad21_02420a396f87row0_col1\" class=\"data row0 col1\" >952</td>\n",
       "                        <td id=\"T_0929a9a8_842c_11ec_ad21_02420a396f87row0_col2\" class=\"data row0 col2\" >7.49%</td>\n",
       "            </tr>\n",
       "            <tr>\n",
       "                        <th id=\"T_0929a9a8_842c_11ec_ad21_02420a396f87level0_row1\" class=\"row_heading level0 row1\" >1</th>\n",
       "                        <td id=\"T_0929a9a8_842c_11ec_ad21_02420a396f87row1_col0\" class=\"data row1 col0\" >3978</td>\n",
       "                        <td id=\"T_0929a9a8_842c_11ec_ad21_02420a396f87row1_col1\" class=\"data row1 col1\" >409</td>\n",
       "                        <td id=\"T_0929a9a8_842c_11ec_ad21_02420a396f87row1_col2\" class=\"data row1 col2\" >9.32%</td>\n",
       "            </tr>\n",
       "            <tr>\n",
       "                        <th id=\"T_0929a9a8_842c_11ec_ad21_02420a396f87level0_row2\" class=\"row_heading level0 row2\" >2</th>\n",
       "                        <td id=\"T_0929a9a8_842c_11ec_ad21_02420a396f87row2_col0\" class=\"data row2 col0\" >1733</td>\n",
       "                        <td id=\"T_0929a9a8_842c_11ec_ad21_02420a396f87row2_col1\" class=\"data row2 col1\" >185</td>\n",
       "                        <td id=\"T_0929a9a8_842c_11ec_ad21_02420a396f87row2_col2\" class=\"data row2 col2\" >9.65%</td>\n",
       "            </tr>\n",
       "            <tr>\n",
       "                        <th id=\"T_0929a9a8_842c_11ec_ad21_02420a396f87level0_row3\" class=\"row_heading level0 row3\" >3</th>\n",
       "                        <td id=\"T_0929a9a8_842c_11ec_ad21_02420a396f87row3_col0\" class=\"data row3 col0\" >272</td>\n",
       "                        <td id=\"T_0929a9a8_842c_11ec_ad21_02420a396f87row3_col1\" class=\"data row3 col1\" >22</td>\n",
       "                        <td id=\"T_0929a9a8_842c_11ec_ad21_02420a396f87row3_col2\" class=\"data row3 col2\" >7.48%</td>\n",
       "            </tr>\n",
       "            <tr>\n",
       "                        <th id=\"T_0929a9a8_842c_11ec_ad21_02420a396f87level0_row4\" class=\"row_heading level0 row4\" >4</th>\n",
       "                        <td id=\"T_0929a9a8_842c_11ec_ad21_02420a396f87row4_col0\" class=\"data row4 col0\" >31</td>\n",
       "                        <td id=\"T_0929a9a8_842c_11ec_ad21_02420a396f87row4_col1\" class=\"data row4 col1\" >3</td>\n",
       "                        <td id=\"T_0929a9a8_842c_11ec_ad21_02420a396f87row4_col2\" class=\"data row4 col2\" >8.82%</td>\n",
       "            </tr>\n",
       "            <tr>\n",
       "                        <th id=\"T_0929a9a8_842c_11ec_ad21_02420a396f87level0_row5\" class=\"row_heading level0 row5\" >5</th>\n",
       "                        <td id=\"T_0929a9a8_842c_11ec_ad21_02420a396f87row5_col0\" class=\"data row5 col0\" >8</td>\n",
       "                        <td id=\"T_0929a9a8_842c_11ec_ad21_02420a396f87row5_col1\" class=\"data row5 col1\" >0</td>\n",
       "                        <td id=\"T_0929a9a8_842c_11ec_ad21_02420a396f87row5_col2\" class=\"data row5 col2\" >0.00%</td>\n",
       "            </tr>\n",
       "    </tbody></table>"
      ],
      "text/plain": [
       "<pandas.io.formats.style.Styler at 0x7f6cb2ee6d90>"
      ]
     },
     "execution_count": 19,
     "metadata": {},
     "output_type": "execute_result"
    }
   ],
   "source": [
    "data_pivot_children.style.format({'fraction': '{:.2%}'})"
   ]
  },
  {
   "cell_type": "markdown",
   "metadata": {},
   "source": [
    "- Есть ли зависимость между семейным положением и возвратом кредита в срок?"
   ]
  },
  {
   "cell_type": "markdown",
   "metadata": {},
   "source": [
    "Создам таблицу с задолжностью заёмщиков и семейным положением. Также посчитаю долю тех, кто имел задолжность относительно общего числа."
   ]
  },
  {
   "cell_type": "code",
   "execution_count": 20,
   "metadata": {},
   "outputs": [
    {
     "data": {
      "text/html": [
       "<style  type=\"text/css\" >\n",
       "</style><table id=\"T_092fcb08_842c_11ec_ad21_02420a396f87\" ><thead>    <tr>        <th class=\"index_name level0\" >debt</th>        <th class=\"col_heading level0 col0\" >0</th>        <th class=\"col_heading level0 col1\" >1</th>        <th class=\"col_heading level0 col2\" >fraction</th>    </tr>    <tr>        <th class=\"index_name level0\" >family_status</th>        <th class=\"blank\" ></th>        <th class=\"blank\" ></th>        <th class=\"blank\" ></th>    </tr></thead><tbody>\n",
       "                <tr>\n",
       "                        <th id=\"T_092fcb08_842c_11ec_ad21_02420a396f87level0_row0\" class=\"row_heading level0 row0\" >Не женат / не замужем</th>\n",
       "                        <td id=\"T_092fcb08_842c_11ec_ad21_02420a396f87row0_col0\" class=\"data row0 col0\" >2271</td>\n",
       "                        <td id=\"T_092fcb08_842c_11ec_ad21_02420a396f87row0_col1\" class=\"data row0 col1\" >254</td>\n",
       "                        <td id=\"T_092fcb08_842c_11ec_ad21_02420a396f87row0_col2\" class=\"data row0 col2\" >10.06%</td>\n",
       "            </tr>\n",
       "            <tr>\n",
       "                        <th id=\"T_092fcb08_842c_11ec_ad21_02420a396f87level0_row1\" class=\"row_heading level0 row1\" >в разводе</th>\n",
       "                        <td id=\"T_092fcb08_842c_11ec_ad21_02420a396f87row1_col0\" class=\"data row1 col0\" >1007</td>\n",
       "                        <td id=\"T_092fcb08_842c_11ec_ad21_02420a396f87row1_col1\" class=\"data row1 col1\" >76</td>\n",
       "                        <td id=\"T_092fcb08_842c_11ec_ad21_02420a396f87row1_col2\" class=\"data row1 col2\" >7.02%</td>\n",
       "            </tr>\n",
       "            <tr>\n",
       "                        <th id=\"T_092fcb08_842c_11ec_ad21_02420a396f87level0_row2\" class=\"row_heading level0 row2\" >вдовец / вдова</th>\n",
       "                        <td id=\"T_092fcb08_842c_11ec_ad21_02420a396f87row2_col0\" class=\"data row2 col0\" >809</td>\n",
       "                        <td id=\"T_092fcb08_842c_11ec_ad21_02420a396f87row2_col1\" class=\"data row2 col1\" >56</td>\n",
       "                        <td id=\"T_092fcb08_842c_11ec_ad21_02420a396f87row2_col2\" class=\"data row2 col2\" >6.47%</td>\n",
       "            </tr>\n",
       "            <tr>\n",
       "                        <th id=\"T_092fcb08_842c_11ec_ad21_02420a396f87level0_row3\" class=\"row_heading level0 row3\" >гражданский брак</th>\n",
       "                        <td id=\"T_092fcb08_842c_11ec_ad21_02420a396f87row3_col0\" class=\"data row3 col0\" >3396</td>\n",
       "                        <td id=\"T_092fcb08_842c_11ec_ad21_02420a396f87row3_col1\" class=\"data row3 col1\" >339</td>\n",
       "                        <td id=\"T_092fcb08_842c_11ec_ad21_02420a396f87row3_col2\" class=\"data row3 col2\" >9.08%</td>\n",
       "            </tr>\n",
       "            <tr>\n",
       "                        <th id=\"T_092fcb08_842c_11ec_ad21_02420a396f87level0_row4\" class=\"row_heading level0 row4\" >женат / замужем</th>\n",
       "                        <td id=\"T_092fcb08_842c_11ec_ad21_02420a396f87row4_col0\" class=\"data row4 col0\" >10297</td>\n",
       "                        <td id=\"T_092fcb08_842c_11ec_ad21_02420a396f87row4_col1\" class=\"data row4 col1\" >846</td>\n",
       "                        <td id=\"T_092fcb08_842c_11ec_ad21_02420a396f87row4_col2\" class=\"data row4 col2\" >7.59%</td>\n",
       "            </tr>\n",
       "    </tbody></table>"
      ],
      "text/plain": [
       "<pandas.io.formats.style.Styler at 0x7f6cb2ee67d0>"
      ]
     },
     "execution_count": 20,
     "metadata": {},
     "output_type": "execute_result"
    }
   ],
   "source": [
    "data_pivot_family = data_debt.pivot_table(index=['family_status'], columns='debt', values='purpose_id', aggfunc='count')\n",
    "data_pivot_family['fraction'] = data_pivot_family[1] / (data_pivot_family[0]+data_pivot_family[1])\n",
    "data_pivot_family.style.format({'fraction': '{:.2%}'})"
   ]
  },
  {
   "cell_type": "markdown",
   "metadata": {},
   "source": [
    "**Вывод**"
   ]
  },
  {
   "cell_type": "markdown",
   "metadata": {},
   "source": [
    "По этим данным можно сказать, что у тех, кто в браке, вдовец или в разводе - у тех категорий процент заёмщиков с возвратом кредита в срок значительно выше, чем у тех, кто не женат или в гражданском браке."
   ]
  },
  {
   "cell_type": "markdown",
   "metadata": {},
   "source": [
    "- Есть ли зависимость между уровнем дохода и возвратом кредита в срок?"
   ]
  },
  {
   "cell_type": "markdown",
   "metadata": {},
   "source": [
    "Разделение данных на категории заёмщиков по доходу. В них приблизительно по равному количеству заёмщиков."
   ]
  },
  {
   "cell_type": "code",
   "execution_count": 21,
   "metadata": {},
   "outputs": [
    {
     "name": "stderr",
     "output_type": "stream",
     "text": [
      "/opt/conda/lib/python3.7/site-packages/ipykernel_launcher.py:7: SettingWithCopyWarning: \n",
      "A value is trying to be set on a copy of a slice from a DataFrame.\n",
      "Try using .loc[row_indexer,col_indexer] = value instead\n",
      "\n",
      "See the caveats in the documentation: http://pandas.pydata.org/pandas-docs/stable/user_guide/indexing.html#returning-a-view-versus-a-copy\n",
      "  import sys\n"
     ]
    },
    {
     "data": {
      "text/html": [
       "<style  type=\"text/css\" >\n",
       "</style><table id=\"T_0939cdf6_842c_11ec_ad21_02420a396f87\" ><thead>    <tr>        <th class=\"index_name level0\" >debt</th>        <th class=\"col_heading level0 col0\" >0</th>        <th class=\"col_heading level0 col1\" >1</th>        <th class=\"col_heading level0 col2\" >fraction</th>    </tr>    <tr>        <th class=\"index_name level0\" >category_income</th>        <th class=\"blank\" ></th>        <th class=\"blank\" ></th>        <th class=\"blank\" ></th>    </tr></thead><tbody>\n",
       "                <tr>\n",
       "                        <th id=\"T_0939cdf6_842c_11ec_ad21_02420a396f87level0_row0\" class=\"row_heading level0 row0\" >1</th>\n",
       "                        <td id=\"T_0939cdf6_842c_11ec_ad21_02420a396f87row0_col0\" class=\"data row0 col0\" >4109</td>\n",
       "                        <td id=\"T_0939cdf6_842c_11ec_ad21_02420a396f87row0_col1\" class=\"data row0 col1\" >354</td>\n",
       "                        <td id=\"T_0939cdf6_842c_11ec_ad21_02420a396f87row0_col2\" class=\"data row0 col2\" >7.93%</td>\n",
       "            </tr>\n",
       "            <tr>\n",
       "                        <th id=\"T_0939cdf6_842c_11ec_ad21_02420a396f87level0_row1\" class=\"row_heading level0 row1\" >2</th>\n",
       "                        <td id=\"T_0939cdf6_842c_11ec_ad21_02420a396f87row1_col0\" class=\"data row1 col0\" >5213</td>\n",
       "                        <td id=\"T_0939cdf6_842c_11ec_ad21_02420a396f87row1_col1\" class=\"data row1 col1\" >491</td>\n",
       "                        <td id=\"T_0939cdf6_842c_11ec_ad21_02420a396f87row1_col2\" class=\"data row1 col2\" >8.61%</td>\n",
       "            </tr>\n",
       "            <tr>\n",
       "                        <th id=\"T_0939cdf6_842c_11ec_ad21_02420a396f87level0_row2\" class=\"row_heading level0 row2\" >3</th>\n",
       "                        <td id=\"T_0939cdf6_842c_11ec_ad21_02420a396f87row2_col0\" class=\"data row2 col0\" >3750</td>\n",
       "                        <td id=\"T_0939cdf6_842c_11ec_ad21_02420a396f87row2_col1\" class=\"data row2 col1\" >368</td>\n",
       "                        <td id=\"T_0939cdf6_842c_11ec_ad21_02420a396f87row2_col2\" class=\"data row2 col2\" >8.94%</td>\n",
       "            </tr>\n",
       "            <tr>\n",
       "                        <th id=\"T_0939cdf6_842c_11ec_ad21_02420a396f87level0_row3\" class=\"row_heading level0 row3\" >4</th>\n",
       "                        <td id=\"T_0939cdf6_842c_11ec_ad21_02420a396f87row3_col0\" class=\"data row3 col0\" >3332</td>\n",
       "                        <td id=\"T_0939cdf6_842c_11ec_ad21_02420a396f87row3_col1\" class=\"data row3 col1\" >252</td>\n",
       "                        <td id=\"T_0939cdf6_842c_11ec_ad21_02420a396f87row3_col2\" class=\"data row3 col2\" >7.03%</td>\n",
       "            </tr>\n",
       "            <tr>\n",
       "                        <th id=\"T_0939cdf6_842c_11ec_ad21_02420a396f87level0_row4\" class=\"row_heading level0 row4\" >5</th>\n",
       "                        <td id=\"T_0939cdf6_842c_11ec_ad21_02420a396f87row4_col0\" class=\"data row4 col0\" >1376</td>\n",
       "                        <td id=\"T_0939cdf6_842c_11ec_ad21_02420a396f87row4_col1\" class=\"data row4 col1\" >106</td>\n",
       "                        <td id=\"T_0939cdf6_842c_11ec_ad21_02420a396f87row4_col2\" class=\"data row4 col2\" >7.15%</td>\n",
       "            </tr>\n",
       "    </tbody></table>"
      ],
      "text/plain": [
       "<pandas.io.formats.style.Styler at 0x7f6d145b4750>"
      ]
     },
     "execution_count": 21,
     "metadata": {},
     "output_type": "execute_result"
    }
   ],
   "source": [
    "def income_func(total): #Создаю функцию для расзделения заёмщиков по зарплатной категории.\n",
    "    if total < 100000:            return 1\n",
    "    if 100000 <= total <= 150000: return 2\n",
    "    if 150000 < total < 200000:   return 3\n",
    "    if 200000 <= total <= 300000: return 4\n",
    "    if total > 300000:            return 5\n",
    "data_debt['category_income'] = data_debt['total_income'].apply(income_func)\n",
    "data_pivot_income = data_debt.pivot_table(index=['category_income'], columns='debt', values='purpose_id', aggfunc='count')\n",
    "data_pivot_income['fraction'] = data_pivot_income[1] / (data_pivot_income[0]+data_pivot_income[1])\n",
    "data_pivot_income.style.format({'fraction': '{:.2%}'})"
   ]
  },
  {
   "cell_type": "markdown",
   "metadata": {},
   "source": [
    "**Вывод**"
   ]
  },
  {
   "cell_type": "markdown",
   "metadata": {},
   "source": [
    "Зависимости между уровнем дохода и возвратом кредита в срок нет. Что заёмщики получают  менее 100.000, что больше 300.000 - разницы заметной нет."
   ]
  },
  {
   "cell_type": "markdown",
   "metadata": {},
   "source": [
    "По исследуемым данным можно сказать, что сильной зависимости между уровнем дохода и возвратом кредита нет. Однако заёмщики с доходом свыше 200 000 чуть более надёжные,скорее всего из-за своего дохода."
   ]
  },
  {
   "cell_type": "markdown",
   "metadata": {},
   "source": [
    "- Как разные цели кредита влияют на его возврат в срок?"
   ]
  },
  {
   "cell_type": "code",
   "execution_count": 22,
   "metadata": {},
   "outputs": [
    {
     "data": {
      "text/html": [
       "<style  type=\"text/css\" >\n",
       "</style><table id=\"T_093f2030_842c_11ec_ad21_02420a396f87\" ><thead>    <tr>        <th class=\"index_name level0\" >debt</th>        <th class=\"col_heading level0 col0\" >0</th>        <th class=\"col_heading level0 col1\" >1</th>        <th class=\"col_heading level0 col2\" >fraction</th>    </tr>    <tr>        <th class=\"index_name level0\" >purpose_id</th>        <th class=\"blank\" ></th>        <th class=\"blank\" ></th>        <th class=\"blank\" ></th>    </tr></thead><tbody>\n",
       "                <tr>\n",
       "                        <th id=\"T_093f2030_842c_11ec_ad21_02420a396f87level0_row0\" class=\"row_heading level0 row0\" >автомобиль</th>\n",
       "                        <td id=\"T_093f2030_842c_11ec_ad21_02420a396f87row0_col0\" class=\"data row0 col0\" >3530</td>\n",
       "                        <td id=\"T_093f2030_842c_11ec_ad21_02420a396f87row0_col1\" class=\"data row0 col1\" >367</td>\n",
       "                        <td id=\"T_093f2030_842c_11ec_ad21_02420a396f87row0_col2\" class=\"data row0 col2\" >9.42%</td>\n",
       "            </tr>\n",
       "            <tr>\n",
       "                        <th id=\"T_093f2030_842c_11ec_ad21_02420a396f87level0_row1\" class=\"row_heading level0 row1\" >недвижимость</th>\n",
       "                        <td id=\"T_093f2030_842c_11ec_ad21_02420a396f87row1_col0\" class=\"data row1 col0\" >9043</td>\n",
       "                        <td id=\"T_093f2030_842c_11ec_ad21_02420a396f87row1_col1\" class=\"data row1 col1\" >715</td>\n",
       "                        <td id=\"T_093f2030_842c_11ec_ad21_02420a396f87row1_col2\" class=\"data row1 col2\" >7.33%</td>\n",
       "            </tr>\n",
       "            <tr>\n",
       "                        <th id=\"T_093f2030_842c_11ec_ad21_02420a396f87level0_row2\" class=\"row_heading level0 row2\" >образование</th>\n",
       "                        <td id=\"T_093f2030_842c_11ec_ad21_02420a396f87row2_col0\" class=\"data row2 col0\" >3266</td>\n",
       "                        <td id=\"T_093f2030_842c_11ec_ad21_02420a396f87row2_col1\" class=\"data row2 col1\" >331</td>\n",
       "                        <td id=\"T_093f2030_842c_11ec_ad21_02420a396f87row2_col2\" class=\"data row2 col2\" >9.20%</td>\n",
       "            </tr>\n",
       "            <tr>\n",
       "                        <th id=\"T_093f2030_842c_11ec_ad21_02420a396f87level0_row3\" class=\"row_heading level0 row3\" >свадьба</th>\n",
       "                        <td id=\"T_093f2030_842c_11ec_ad21_02420a396f87row3_col0\" class=\"data row3 col0\" >1941</td>\n",
       "                        <td id=\"T_093f2030_842c_11ec_ad21_02420a396f87row3_col1\" class=\"data row3 col1\" >158</td>\n",
       "                        <td id=\"T_093f2030_842c_11ec_ad21_02420a396f87row3_col2\" class=\"data row3 col2\" >7.53%</td>\n",
       "            </tr>\n",
       "    </tbody></table>"
      ],
      "text/plain": [
       "<pandas.io.formats.style.Styler at 0x7f6cfbe92d90>"
      ]
     },
     "execution_count": 22,
     "metadata": {},
     "output_type": "execute_result"
    }
   ],
   "source": [
    "data_pivot_purpose = data_debt.pivot_table(index=['purpose_id'], columns='debt', values='family_status', aggfunc='count')\n",
    "data_pivot_purpose['fraction'] = data_pivot_purpose[1] / (data_pivot_purpose[0]+data_pivot_purpose[1])\n",
    "data_pivot_purpose.style.format({'fraction': '{:.2%}'})"
   ]
  },
  {
   "cell_type": "markdown",
   "metadata": {},
   "source": [
    "**Вывод**"
   ]
  },
  {
   "cell_type": "markdown",
   "metadata": {},
   "source": [
    "Меньше всего возвращают кредит в срок те, кто берет заём на автомобиль или образование, заёмщики же на недвижимость - самые надёжные."
   ]
  },
  {
   "cell_type": "markdown",
   "metadata": {},
   "source": [
    "## Общий вывод"
   ]
  },
  {
   "cell_type": "markdown",
   "metadata": {},
   "source": [
    "Было проверено несколько вопросов и найдены ответы на них, а именно:\n",
    "1. Есть ли зависимость между наличием детей и возвратом кредита в срок?\n",
    " - Наличие детей в семье увеличивает вероятность того, что кредит не вернут в срок на 0,6-2 %. \n",
    " \n",
    "2. Есть ли зависимость между семейным положением и возвратом кредита в срок?\n",
    " - У тех, кто в браке, вдовец или в разводе - у тех категорий процент заёмщиков с возвратом кредита в срок значительно выше, чем у тех, кто не женат или в гражданском браке.\n",
    "\n",
    "3. Есть ли зависимость между уровнем дохода и возвратом кредита в срок?\n",
    " - Сильной зависимости между уровнем дохода и возвратом кредита нет. Однако заёмщики с доходом свыше 200 000 чуть более надёжные\n",
    "\n",
    "4. Как разные цели кредита влияют на его возврат в срок?\n",
    " - Меньше всего возвращают кредит в срок те, кто берет заём на автомобиль или образование, заёмщики же на недвижимость - самые надёжные."
   ]
  }
 ],
 "metadata": {
  "ExecuteTimeLog": [
   {
    "duration": 638,
    "start_time": "2022-01-17T17:34:41.168Z"
   },
   {
    "duration": 629,
    "start_time": "2022-01-18T10:06:53.891Z"
   },
   {
    "duration": 61,
    "start_time": "2022-01-18T10:07:07.668Z"
   },
   {
    "duration": 94,
    "start_time": "2022-01-18T11:00:16.581Z"
   },
   {
    "duration": 73,
    "start_time": "2022-01-18T11:00:37.050Z"
   },
   {
    "duration": 78,
    "start_time": "2022-01-18T11:07:11.534Z"
   },
   {
    "duration": 113,
    "start_time": "2022-01-18T14:41:47.514Z"
   },
   {
    "duration": 356,
    "start_time": "2022-01-18T14:41:54.175Z"
   },
   {
    "duration": 639,
    "start_time": "2022-01-18T14:42:00.140Z"
   },
   {
    "duration": 8,
    "start_time": "2022-01-18T14:42:04.900Z"
   },
   {
    "duration": 407,
    "start_time": "2022-01-18T14:45:21.494Z"
   },
   {
    "duration": 9,
    "start_time": "2022-01-18T14:46:30.629Z"
   },
   {
    "duration": 9,
    "start_time": "2022-01-18T14:47:19.977Z"
   },
   {
    "duration": 18,
    "start_time": "2022-01-18T14:49:24.084Z"
   },
   {
    "duration": 117,
    "start_time": "2022-01-18T14:49:56.253Z"
   },
   {
    "duration": 4,
    "start_time": "2022-01-18T14:50:07.463Z"
   },
   {
    "duration": 4,
    "start_time": "2022-01-18T14:53:40.030Z"
   },
   {
    "duration": 12,
    "start_time": "2022-01-18T17:11:20.042Z"
   },
   {
    "duration": 63,
    "start_time": "2022-01-18T17:11:34.510Z"
   },
   {
    "duration": 4,
    "start_time": "2022-01-18T17:11:39.720Z"
   },
   {
    "duration": 12,
    "start_time": "2022-01-18T17:11:42.549Z"
   },
   {
    "duration": 12,
    "start_time": "2022-01-18T17:12:32.523Z"
   },
   {
    "duration": 152,
    "start_time": "2022-01-18T17:21:17.130Z"
   },
   {
    "duration": 58,
    "start_time": "2022-01-18T17:21:24.440Z"
   },
   {
    "duration": 14,
    "start_time": "2022-01-18T17:23:26.986Z"
   },
   {
    "duration": 14,
    "start_time": "2022-01-18T17:29:22.526Z"
   },
   {
    "duration": 35,
    "start_time": "2022-01-18T17:29:37.465Z"
   },
   {
    "duration": 8,
    "start_time": "2022-01-18T17:29:47.409Z"
   },
   {
    "duration": 13,
    "start_time": "2022-01-18T17:30:32.534Z"
   },
   {
    "duration": 8,
    "start_time": "2022-01-18T17:37:14.590Z"
   },
   {
    "duration": 16,
    "start_time": "2022-01-18T17:40:44.071Z"
   },
   {
    "duration": 11,
    "start_time": "2022-01-18T17:40:59.440Z"
   },
   {
    "duration": 17,
    "start_time": "2022-01-18T17:41:24.178Z"
   },
   {
    "duration": 57,
    "start_time": "2022-01-18T17:41:50.166Z"
   },
   {
    "duration": 22,
    "start_time": "2022-01-18T17:55:11.589Z"
   },
   {
    "duration": 320,
    "start_time": "2022-01-18T17:56:09.546Z"
   },
   {
    "duration": 364,
    "start_time": "2022-01-18T17:56:35.832Z"
   },
   {
    "duration": 342,
    "start_time": "2022-01-18T17:56:44.143Z"
   },
   {
    "duration": 383,
    "start_time": "2022-01-18T17:56:56.013Z"
   },
   {
    "duration": 2001,
    "start_time": "2022-01-18T17:57:44.459Z"
   },
   {
    "duration": 460,
    "start_time": "2022-01-18T17:58:40.883Z"
   },
   {
    "duration": 346,
    "start_time": "2022-01-18T17:58:57.033Z"
   },
   {
    "duration": 400,
    "start_time": "2022-01-18T17:59:05.028Z"
   },
   {
    "duration": 338,
    "start_time": "2022-01-18T17:59:27.751Z"
   },
   {
    "duration": 748,
    "start_time": "2022-01-18T17:59:42.416Z"
   },
   {
    "duration": 1407,
    "start_time": "2022-01-18T17:59:53.267Z"
   },
   {
    "duration": 807,
    "start_time": "2022-01-20T04:23:42.587Z"
   },
   {
    "duration": 65,
    "start_time": "2022-01-20T04:24:37.793Z"
   },
   {
    "duration": 14,
    "start_time": "2022-01-20T04:24:53.957Z"
   },
   {
    "duration": 5,
    "start_time": "2022-01-20T04:25:30.260Z"
   },
   {
    "duration": 58,
    "start_time": "2022-01-20T04:27:21.912Z"
   },
   {
    "duration": 67,
    "start_time": "2022-01-20T04:27:36.184Z"
   },
   {
    "duration": 55,
    "start_time": "2022-01-20T04:27:41.203Z"
   },
   {
    "duration": 55,
    "start_time": "2022-01-20T04:28:16.836Z"
   },
   {
    "duration": 42,
    "start_time": "2022-01-20T04:28:29.622Z"
   },
   {
    "duration": 32,
    "start_time": "2022-01-20T04:28:50.333Z"
   },
   {
    "duration": 71,
    "start_time": "2022-01-20T04:29:04.991Z"
   },
   {
    "duration": 29,
    "start_time": "2022-01-20T04:29:10.104Z"
   },
   {
    "duration": 41,
    "start_time": "2022-01-20T04:29:51.997Z"
   },
   {
    "duration": 15,
    "start_time": "2022-01-20T04:30:04.927Z"
   },
   {
    "duration": 68,
    "start_time": "2022-01-20T04:30:10.185Z"
   },
   {
    "duration": 28,
    "start_time": "2022-01-20T04:30:17.821Z"
   },
   {
    "duration": 68,
    "start_time": "2022-01-20T04:32:33.858Z"
   },
   {
    "duration": 21,
    "start_time": "2022-01-20T04:32:38.524Z"
   },
   {
    "duration": 32,
    "start_time": "2022-01-20T04:32:52.523Z"
   },
   {
    "duration": 35,
    "start_time": "2022-01-20T06:26:48.731Z"
   },
   {
    "duration": 77,
    "start_time": "2022-01-20T06:27:45.915Z"
   },
   {
    "duration": 17,
    "start_time": "2022-01-20T06:27:50.186Z"
   },
   {
    "duration": 11,
    "start_time": "2022-01-20T06:30:10.413Z"
   },
   {
    "duration": 9,
    "start_time": "2022-01-20T06:31:04.496Z"
   },
   {
    "duration": 10,
    "start_time": "2022-01-20T06:31:30.736Z"
   },
   {
    "duration": 11,
    "start_time": "2022-01-20T06:32:42.338Z"
   },
   {
    "duration": 623,
    "start_time": "2022-01-20T06:40:36.938Z"
   },
   {
    "duration": 319,
    "start_time": "2022-01-20T06:41:18.046Z"
   },
   {
    "duration": 69,
    "start_time": "2022-01-20T06:41:38.271Z"
   },
   {
    "duration": 288,
    "start_time": "2022-01-20T06:41:41.474Z"
   },
   {
    "duration": 22,
    "start_time": "2022-01-20T06:42:15.127Z"
   },
   {
    "duration": 14,
    "start_time": "2022-01-20T06:42:49.661Z"
   },
   {
    "duration": 12,
    "start_time": "2022-01-20T06:42:58.689Z"
   },
   {
    "duration": 13,
    "start_time": "2022-01-20T06:43:18.993Z"
   },
   {
    "duration": 24,
    "start_time": "2022-01-20T06:43:31.068Z"
   },
   {
    "duration": 90,
    "start_time": "2022-01-20T06:45:47.556Z"
   },
   {
    "duration": 10,
    "start_time": "2022-01-20T06:46:04.366Z"
   },
   {
    "duration": 26,
    "start_time": "2022-01-20T06:47:50.173Z"
   },
   {
    "duration": 15,
    "start_time": "2022-01-20T06:48:01.809Z"
   },
   {
    "duration": 9,
    "start_time": "2022-01-20T06:54:21.803Z"
   },
   {
    "duration": 9,
    "start_time": "2022-01-20T06:55:16.733Z"
   },
   {
    "duration": 9,
    "start_time": "2022-01-20T06:55:28.547Z"
   },
   {
    "duration": 12,
    "start_time": "2022-01-20T06:56:30.454Z"
   },
   {
    "duration": 20,
    "start_time": "2022-01-20T06:58:25.429Z"
   },
   {
    "duration": 353,
    "start_time": "2022-01-20T07:00:32.530Z"
   },
   {
    "duration": 9,
    "start_time": "2022-01-20T07:04:20.637Z"
   },
   {
    "duration": 9,
    "start_time": "2022-01-20T07:04:27.897Z"
   },
   {
    "duration": 9,
    "start_time": "2022-01-20T07:04:34.858Z"
   },
   {
    "duration": 14,
    "start_time": "2022-01-20T07:54:41.097Z"
   },
   {
    "duration": 18,
    "start_time": "2022-01-20T07:55:59.227Z"
   },
   {
    "duration": 15,
    "start_time": "2022-01-20T07:56:46.045Z"
   },
   {
    "duration": 272,
    "start_time": "2022-01-20T08:05:22.172Z"
   },
   {
    "duration": 25,
    "start_time": "2022-01-20T08:06:53.380Z"
   },
   {
    "duration": 24,
    "start_time": "2022-01-20T08:07:03.019Z"
   },
   {
    "duration": 21,
    "start_time": "2022-01-20T08:07:52.212Z"
   },
   {
    "duration": 21,
    "start_time": "2022-01-20T08:08:19.866Z"
   },
   {
    "duration": 22,
    "start_time": "2022-01-20T08:08:37.746Z"
   },
   {
    "duration": 11,
    "start_time": "2022-01-20T08:19:54.892Z"
   },
   {
    "duration": 9,
    "start_time": "2022-01-20T08:20:02.853Z"
   },
   {
    "duration": 6,
    "start_time": "2022-01-20T08:23:06.832Z"
   },
   {
    "duration": 10,
    "start_time": "2022-01-20T08:24:26.909Z"
   },
   {
    "duration": 6,
    "start_time": "2022-01-20T08:27:40.958Z"
   },
   {
    "duration": 259,
    "start_time": "2022-01-20T08:27:51.820Z"
   },
   {
    "duration": 6,
    "start_time": "2022-01-20T08:28:03.563Z"
   },
   {
    "duration": 10,
    "start_time": "2022-01-20T08:30:08.068Z"
   },
   {
    "duration": 6,
    "start_time": "2022-01-20T08:30:53.424Z"
   },
   {
    "duration": 5,
    "start_time": "2022-01-20T08:31:11.839Z"
   },
   {
    "duration": 15,
    "start_time": "2022-01-20T08:56:51.264Z"
   },
   {
    "duration": 10,
    "start_time": "2022-01-20T09:11:03.195Z"
   },
   {
    "duration": 11,
    "start_time": "2022-01-20T09:11:22.053Z"
   },
   {
    "duration": 1099,
    "start_time": "2022-01-20T09:11:32.736Z"
   },
   {
    "duration": 1166,
    "start_time": "2022-01-20T09:11:49.230Z"
   },
   {
    "duration": 1059,
    "start_time": "2022-01-20T09:12:14.665Z"
   },
   {
    "duration": 1064,
    "start_time": "2022-01-20T09:12:26.501Z"
   },
   {
    "duration": 11,
    "start_time": "2022-01-20T09:13:59.549Z"
   },
   {
    "duration": 10,
    "start_time": "2022-01-20T09:14:08.242Z"
   },
   {
    "duration": 9,
    "start_time": "2022-01-20T09:14:14.336Z"
   },
   {
    "duration": 14,
    "start_time": "2022-01-20T09:14:45.832Z"
   },
   {
    "duration": 11,
    "start_time": "2022-01-20T09:22:08.943Z"
   },
   {
    "duration": 13,
    "start_time": "2022-01-20T09:29:23.754Z"
   },
   {
    "duration": 19,
    "start_time": "2022-01-20T10:04:18.837Z"
   },
   {
    "duration": 7281,
    "start_time": "2022-01-20T10:05:45.059Z"
   },
   {
    "duration": 5,
    "start_time": "2022-01-20T10:05:56.863Z"
   },
   {
    "duration": 9,
    "start_time": "2022-01-20T10:08:37.090Z"
   },
   {
    "duration": 278,
    "start_time": "2022-01-20T10:21:32.958Z"
   },
   {
    "duration": 22,
    "start_time": "2022-01-20T10:22:09.803Z"
   },
   {
    "duration": 260,
    "start_time": "2022-01-20T10:22:38.185Z"
   },
   {
    "duration": 24,
    "start_time": "2022-01-20T10:23:11.675Z"
   },
   {
    "duration": 26,
    "start_time": "2022-01-20T10:23:28.890Z"
   },
   {
    "duration": 24,
    "start_time": "2022-01-20T10:53:34.493Z"
   },
   {
    "duration": 68,
    "start_time": "2022-01-20T10:53:59.914Z"
   },
   {
    "duration": 15,
    "start_time": "2022-01-20T10:53:59.985Z"
   },
   {
    "duration": 10,
    "start_time": "2022-01-20T10:54:00.060Z"
   },
   {
    "duration": 6,
    "start_time": "2022-01-20T10:54:00.186Z"
   },
   {
    "duration": 9,
    "start_time": "2022-01-20T10:54:00.197Z"
   },
   {
    "duration": 7,
    "start_time": "2022-01-20T10:54:00.302Z"
   },
   {
    "duration": 23,
    "start_time": "2022-01-20T10:54:00.422Z"
   },
   {
    "duration": 13,
    "start_time": "2022-01-20T10:54:00.547Z"
   },
   {
    "duration": 24,
    "start_time": "2022-01-20T10:54:00.563Z"
   },
   {
    "duration": 27,
    "start_time": "2022-01-20T10:54:54.168Z"
   },
   {
    "duration": 18,
    "start_time": "2022-01-20T11:04:52.675Z"
   },
   {
    "duration": 293,
    "start_time": "2022-01-20T11:33:45.646Z"
   },
   {
    "duration": 293,
    "start_time": "2022-01-20T11:34:28.003Z"
   },
   {
    "duration": 268,
    "start_time": "2022-01-20T11:34:36.476Z"
   },
   {
    "duration": 776,
    "start_time": "2022-01-20T11:36:45.089Z"
   },
   {
    "duration": 67,
    "start_time": "2022-01-20T11:36:57.455Z"
   },
   {
    "duration": 14,
    "start_time": "2022-01-20T11:36:57.525Z"
   },
   {
    "duration": 11,
    "start_time": "2022-01-20T11:36:57.542Z"
   },
   {
    "duration": 8,
    "start_time": "2022-01-20T11:36:57.557Z"
   },
   {
    "duration": 10,
    "start_time": "2022-01-20T11:36:57.568Z"
   },
   {
    "duration": 7,
    "start_time": "2022-01-20T11:36:57.580Z"
   },
   {
    "duration": 55,
    "start_time": "2022-01-20T11:36:57.590Z"
   },
   {
    "duration": 27,
    "start_time": "2022-01-20T11:36:57.652Z"
   },
   {
    "duration": 311,
    "start_time": "2022-01-20T11:36:57.764Z"
   },
   {
    "duration": 268,
    "start_time": "2022-01-20T11:37:13.498Z"
   },
   {
    "duration": 16,
    "start_time": "2022-01-20T11:39:06.309Z"
   },
   {
    "duration": 24,
    "start_time": "2022-01-20T11:39:12.377Z"
   },
   {
    "duration": 20,
    "start_time": "2022-01-20T11:40:16.005Z"
   },
   {
    "duration": 21,
    "start_time": "2022-01-20T11:40:45.272Z"
   },
   {
    "duration": 19,
    "start_time": "2022-01-20T11:40:59.383Z"
   },
   {
    "duration": 24,
    "start_time": "2022-01-20T11:41:48.241Z"
   },
   {
    "duration": 27,
    "start_time": "2022-01-20T11:42:21.847Z"
   },
   {
    "duration": 35,
    "start_time": "2022-01-20T11:45:40.202Z"
   },
   {
    "duration": 55,
    "start_time": "2022-01-20T11:48:40.792Z"
   },
   {
    "duration": 36,
    "start_time": "2022-01-20T11:49:02.131Z"
   },
   {
    "duration": 64,
    "start_time": "2022-01-20T11:51:08.845Z"
   },
   {
    "duration": 10,
    "start_time": "2022-01-20T11:56:39.943Z"
   },
   {
    "duration": 303,
    "start_time": "2022-01-20T12:21:37.852Z"
   },
   {
    "duration": 6,
    "start_time": "2022-01-20T12:25:51.611Z"
   },
   {
    "duration": 7,
    "start_time": "2022-01-20T12:27:55.150Z"
   },
   {
    "duration": 272,
    "start_time": "2022-01-20T12:34:15.366Z"
   },
   {
    "duration": 73,
    "start_time": "2022-01-20T12:34:37.843Z"
   },
   {
    "duration": 15,
    "start_time": "2022-01-20T12:34:37.919Z"
   },
   {
    "duration": 10,
    "start_time": "2022-01-20T12:34:37.937Z"
   },
   {
    "duration": 15,
    "start_time": "2022-01-20T12:34:37.949Z"
   },
   {
    "duration": 11,
    "start_time": "2022-01-20T12:34:37.966Z"
   },
   {
    "duration": 14,
    "start_time": "2022-01-20T12:34:37.980Z"
   },
   {
    "duration": 23,
    "start_time": "2022-01-20T12:34:37.996Z"
   },
   {
    "duration": 26,
    "start_time": "2022-01-20T12:34:38.022Z"
   },
   {
    "duration": 69,
    "start_time": "2022-01-20T12:34:38.116Z"
   },
   {
    "duration": 890,
    "start_time": "2022-01-20T12:34:38.447Z"
   },
   {
    "duration": 285,
    "start_time": "2022-01-20T12:48:46.097Z"
   },
   {
    "duration": 4028,
    "start_time": "2022-01-20T12:50:39.590Z"
   },
   {
    "duration": 4025,
    "start_time": "2022-01-20T12:50:52.033Z"
   },
   {
    "duration": 99,
    "start_time": "2022-01-20T12:52:36.756Z"
   },
   {
    "duration": 14,
    "start_time": "2022-01-20T12:52:36.858Z"
   },
   {
    "duration": 7,
    "start_time": "2022-01-20T12:52:36.875Z"
   },
   {
    "duration": 6,
    "start_time": "2022-01-20T12:52:36.885Z"
   },
   {
    "duration": 42,
    "start_time": "2022-01-20T12:52:36.894Z"
   },
   {
    "duration": 8,
    "start_time": "2022-01-20T12:52:36.938Z"
   },
   {
    "duration": 20,
    "start_time": "2022-01-20T12:52:36.948Z"
   },
   {
    "duration": 21,
    "start_time": "2022-01-20T12:52:36.971Z"
   },
   {
    "duration": 67,
    "start_time": "2022-01-20T12:52:37.032Z"
   },
   {
    "duration": 29,
    "start_time": "2022-01-20T12:52:37.103Z"
   },
   {
    "duration": 979,
    "start_time": "2022-01-20T12:52:37.135Z"
   },
   {
    "duration": 4521,
    "start_time": "2022-01-20T12:52:38.117Z"
   },
   {
    "duration": 1044,
    "start_time": "2022-01-20T12:59:34.737Z"
   },
   {
    "duration": 4537,
    "start_time": "2022-01-20T12:59:46.403Z"
   },
   {
    "duration": 3975,
    "start_time": "2022-01-20T13:03:41.504Z"
   },
   {
    "duration": 142462,
    "start_time": "2022-01-20T13:07:24.926Z"
   },
   {
    "duration": 1380,
    "start_time": "2022-01-20T13:10:05.393Z"
   },
   {
    "duration": 71,
    "start_time": "2022-01-20T13:10:31.965Z"
   },
   {
    "duration": 14,
    "start_time": "2022-01-20T13:10:32.038Z"
   },
   {
    "duration": 9,
    "start_time": "2022-01-20T13:10:32.055Z"
   },
   {
    "duration": 9,
    "start_time": "2022-01-20T13:10:32.067Z"
   },
   {
    "duration": 9,
    "start_time": "2022-01-20T13:10:32.078Z"
   },
   {
    "duration": 42,
    "start_time": "2022-01-20T13:10:32.090Z"
   },
   {
    "duration": 18,
    "start_time": "2022-01-20T13:10:32.135Z"
   },
   {
    "duration": 18,
    "start_time": "2022-01-20T13:10:32.157Z"
   },
   {
    "duration": 91,
    "start_time": "2022-01-20T13:10:32.178Z"
   },
   {
    "duration": 7,
    "start_time": "2022-01-20T13:10:32.272Z"
   },
   {
    "duration": 969,
    "start_time": "2022-01-20T13:10:32.281Z"
   },
   {
    "duration": 4079,
    "start_time": "2022-01-20T13:10:33.254Z"
   },
   {
    "duration": 647,
    "start_time": "2022-01-20T16:19:23.292Z"
   },
   {
    "duration": 10,
    "start_time": "2022-01-20T16:19:23.942Z"
   },
   {
    "duration": 35,
    "start_time": "2022-01-20T16:19:23.955Z"
   },
   {
    "duration": 38,
    "start_time": "2022-01-20T16:19:23.992Z"
   },
   {
    "duration": 29,
    "start_time": "2022-01-20T16:19:24.032Z"
   },
   {
    "duration": 30,
    "start_time": "2022-01-20T16:19:24.062Z"
   },
   {
    "duration": 38,
    "start_time": "2022-01-20T16:19:24.094Z"
   },
   {
    "duration": 27,
    "start_time": "2022-01-20T16:19:24.134Z"
   },
   {
    "duration": 67,
    "start_time": "2022-01-20T16:19:24.164Z"
   },
   {
    "duration": 14,
    "start_time": "2022-01-20T16:19:24.233Z"
   },
   {
    "duration": 666,
    "start_time": "2022-01-20T16:19:24.249Z"
   },
   {
    "duration": 372394,
    "start_time": "2022-01-20T16:19:24.917Z"
   },
   {
    "duration": 57,
    "start_time": "2022-01-20T16:25:55.824Z"
   },
   {
    "duration": 11,
    "start_time": "2022-01-20T16:25:55.884Z"
   },
   {
    "duration": 6,
    "start_time": "2022-01-20T16:25:55.897Z"
   },
   {
    "duration": 6,
    "start_time": "2022-01-20T16:25:55.905Z"
   },
   {
    "duration": 5,
    "start_time": "2022-01-20T16:25:55.913Z"
   },
   {
    "duration": 6,
    "start_time": "2022-01-20T16:25:55.920Z"
   },
   {
    "duration": 10,
    "start_time": "2022-01-20T16:25:55.928Z"
   },
   {
    "duration": 14,
    "start_time": "2022-01-20T16:25:55.939Z"
   },
   {
    "duration": 81,
    "start_time": "2022-01-20T16:25:55.956Z"
   },
   {
    "duration": 6,
    "start_time": "2022-01-20T16:25:56.040Z"
   },
   {
    "duration": 654,
    "start_time": "2022-01-20T16:25:56.048Z"
   },
   {
    "duration": 2635,
    "start_time": "2022-01-20T16:25:56.704Z"
   },
   {
    "duration": 2725,
    "start_time": "2022-01-20T16:26:37.256Z"
   },
   {
    "duration": 2616,
    "start_time": "2022-01-20T16:27:15.061Z"
   },
   {
    "duration": 2624,
    "start_time": "2022-01-20T16:27:40.942Z"
   },
   {
    "duration": 2687,
    "start_time": "2022-01-20T16:28:18.447Z"
   },
   {
    "duration": 2722,
    "start_time": "2022-01-20T16:32:04.537Z"
   },
   {
    "duration": 2740,
    "start_time": "2022-01-20T16:32:51.797Z"
   },
   {
    "duration": 2620,
    "start_time": "2022-01-20T16:37:19.022Z"
   },
   {
    "duration": 2623,
    "start_time": "2022-01-20T16:46:45.460Z"
   },
   {
    "duration": 2904,
    "start_time": "2022-01-20T16:47:48.738Z"
   },
   {
    "duration": 6,
    "start_time": "2022-01-20T17:18:43.081Z"
   },
   {
    "duration": 349,
    "start_time": "2022-01-21T04:23:21.577Z"
   },
   {
    "duration": 628,
    "start_time": "2022-01-21T04:23:35.386Z"
   },
   {
    "duration": 10,
    "start_time": "2022-01-21T04:23:36.016Z"
   },
   {
    "duration": 6,
    "start_time": "2022-01-21T04:23:36.028Z"
   },
   {
    "duration": 4,
    "start_time": "2022-01-21T04:23:36.036Z"
   },
   {
    "duration": 5,
    "start_time": "2022-01-21T04:23:36.041Z"
   },
   {
    "duration": 26,
    "start_time": "2022-01-21T04:23:36.047Z"
   },
   {
    "duration": 9,
    "start_time": "2022-01-21T04:23:36.074Z"
   },
   {
    "duration": 12,
    "start_time": "2022-01-21T04:23:36.085Z"
   },
   {
    "duration": 41,
    "start_time": "2022-01-21T04:23:36.098Z"
   },
   {
    "duration": 4,
    "start_time": "2022-01-21T04:23:36.141Z"
   },
   {
    "duration": 626,
    "start_time": "2022-01-21T04:23:36.172Z"
   },
   {
    "duration": 2716,
    "start_time": "2022-01-21T04:23:36.799Z"
   },
   {
    "duration": 5,
    "start_time": "2022-01-21T04:23:39.517Z"
   },
   {
    "duration": 2742,
    "start_time": "2022-01-21T05:03:17.135Z"
   },
   {
    "duration": 534,
    "start_time": "2022-01-21T08:07:48.859Z"
   },
   {
    "duration": 12,
    "start_time": "2022-01-21T08:07:49.395Z"
   },
   {
    "duration": 6,
    "start_time": "2022-01-21T08:07:49.409Z"
   },
   {
    "duration": 8,
    "start_time": "2022-01-21T08:07:49.417Z"
   },
   {
    "duration": 8,
    "start_time": "2022-01-21T08:07:49.426Z"
   },
   {
    "duration": 6,
    "start_time": "2022-01-21T08:07:49.435Z"
   },
   {
    "duration": 11,
    "start_time": "2022-01-21T08:07:49.442Z"
   },
   {
    "duration": 10,
    "start_time": "2022-01-21T08:07:49.455Z"
   },
   {
    "duration": 52,
    "start_time": "2022-01-21T08:07:49.467Z"
   },
   {
    "duration": 4,
    "start_time": "2022-01-21T08:07:49.521Z"
   },
   {
    "duration": 605,
    "start_time": "2022-01-21T08:07:49.527Z"
   },
   {
    "duration": 2509,
    "start_time": "2022-01-21T08:07:50.134Z"
   },
   {
    "duration": 5,
    "start_time": "2022-01-21T08:07:52.645Z"
   },
   {
    "duration": 4712,
    "start_time": "2022-01-21T08:07:52.651Z"
   },
   {
    "duration": 206,
    "start_time": "2022-01-21T08:11:19.121Z"
   },
   {
    "duration": 67,
    "start_time": "2022-01-21T08:11:28.085Z"
   },
   {
    "duration": 10,
    "start_time": "2022-01-21T08:11:28.154Z"
   },
   {
    "duration": 6,
    "start_time": "2022-01-21T08:11:28.165Z"
   },
   {
    "duration": 4,
    "start_time": "2022-01-21T08:11:28.172Z"
   },
   {
    "duration": 7,
    "start_time": "2022-01-21T08:11:28.177Z"
   },
   {
    "duration": 29,
    "start_time": "2022-01-21T08:11:28.185Z"
   },
   {
    "duration": 9,
    "start_time": "2022-01-21T08:11:28.216Z"
   },
   {
    "duration": 13,
    "start_time": "2022-01-21T08:11:28.227Z"
   },
   {
    "duration": 44,
    "start_time": "2022-01-21T08:11:28.242Z"
   },
   {
    "duration": 5,
    "start_time": "2022-01-21T08:11:28.312Z"
   },
   {
    "duration": 656,
    "start_time": "2022-01-21T08:11:28.319Z"
   },
   {
    "duration": 193,
    "start_time": "2022-01-21T08:11:28.977Z"
   },
   {
    "duration": 4338,
    "start_time": "2022-01-21T08:11:24.834Z"
   },
   {
    "duration": 4302,
    "start_time": "2022-01-21T08:11:24.871Z"
   },
   {
    "duration": 4292,
    "start_time": "2022-01-21T08:11:24.882Z"
   },
   {
    "duration": 229,
    "start_time": "2022-01-21T08:16:23.161Z"
   },
   {
    "duration": 12,
    "start_time": "2022-01-21T08:16:37.781Z"
   },
   {
    "duration": 189,
    "start_time": "2022-01-21T08:17:04.778Z"
   },
   {
    "duration": 188,
    "start_time": "2022-01-21T08:18:33.769Z"
   },
   {
    "duration": 8,
    "start_time": "2022-01-21T08:18:53.168Z"
   },
   {
    "duration": 73,
    "start_time": "2022-01-21T08:19:14.469Z"
   },
   {
    "duration": 11,
    "start_time": "2022-01-21T08:19:14.544Z"
   },
   {
    "duration": 5,
    "start_time": "2022-01-21T08:19:14.557Z"
   },
   {
    "duration": 4,
    "start_time": "2022-01-21T08:19:14.564Z"
   },
   {
    "duration": 5,
    "start_time": "2022-01-21T08:19:14.570Z"
   },
   {
    "duration": 5,
    "start_time": "2022-01-21T08:19:14.576Z"
   },
   {
    "duration": 37,
    "start_time": "2022-01-21T08:19:14.583Z"
   },
   {
    "duration": 15,
    "start_time": "2022-01-21T08:19:14.622Z"
   },
   {
    "duration": 44,
    "start_time": "2022-01-21T08:19:14.638Z"
   },
   {
    "duration": 29,
    "start_time": "2022-01-21T08:19:14.683Z"
   },
   {
    "duration": 662,
    "start_time": "2022-01-21T08:19:14.714Z"
   },
   {
    "duration": 215,
    "start_time": "2022-01-21T08:19:15.378Z"
   },
   {
    "duration": 4321,
    "start_time": "2022-01-21T08:19:11.274Z"
   },
   {
    "duration": 4315,
    "start_time": "2022-01-21T08:19:11.282Z"
   },
   {
    "duration": 4284,
    "start_time": "2022-01-21T08:19:11.313Z"
   },
   {
    "duration": 8,
    "start_time": "2022-01-21T08:19:34.561Z"
   },
   {
    "duration": 6,
    "start_time": "2022-01-21T08:35:06.712Z"
   },
   {
    "duration": 20,
    "start_time": "2022-01-21T08:37:54.990Z"
   },
   {
    "duration": 6,
    "start_time": "2022-01-21T08:38:10.642Z"
   },
   {
    "duration": 6,
    "start_time": "2022-01-21T08:38:25.476Z"
   },
   {
    "duration": 87,
    "start_time": "2022-01-21T08:38:41.628Z"
   },
   {
    "duration": 180,
    "start_time": "2022-01-21T08:44:11.536Z"
   },
   {
    "duration": 648,
    "start_time": "2022-01-21T08:44:21.306Z"
   },
   {
    "duration": 4,
    "start_time": "2022-01-21T08:44:24.974Z"
   },
   {
    "duration": 68,
    "start_time": "2022-01-21T08:45:11.814Z"
   },
   {
    "duration": 9,
    "start_time": "2022-01-21T08:45:11.883Z"
   },
   {
    "duration": 5,
    "start_time": "2022-01-21T08:45:11.894Z"
   },
   {
    "duration": 3,
    "start_time": "2022-01-21T08:45:11.912Z"
   },
   {
    "duration": 6,
    "start_time": "2022-01-21T08:45:11.916Z"
   },
   {
    "duration": 6,
    "start_time": "2022-01-21T08:45:11.923Z"
   },
   {
    "duration": 8,
    "start_time": "2022-01-21T08:45:11.930Z"
   },
   {
    "duration": 10,
    "start_time": "2022-01-21T08:45:11.940Z"
   },
   {
    "duration": 63,
    "start_time": "2022-01-21T08:45:11.952Z"
   },
   {
    "duration": 5,
    "start_time": "2022-01-21T08:45:12.016Z"
   },
   {
    "duration": 603,
    "start_time": "2022-01-21T08:45:12.022Z"
   },
   {
    "duration": 3,
    "start_time": "2022-01-21T08:45:12.627Z"
   },
   {
    "duration": 2352,
    "start_time": "2022-01-21T08:45:12.632Z"
   },
   {
    "duration": 5,
    "start_time": "2022-01-21T08:45:14.986Z"
   },
   {
    "duration": 5699,
    "start_time": "2022-01-21T08:45:14.993Z"
   },
   {
    "duration": 218,
    "start_time": "2022-01-21T08:48:07.220Z"
   },
   {
    "duration": 212,
    "start_time": "2022-01-21T08:48:42.143Z"
   },
   {
    "duration": 227,
    "start_time": "2022-01-21T08:49:41.892Z"
   },
   {
    "duration": 689,
    "start_time": "2022-01-21T08:49:54.694Z"
   },
   {
    "duration": 10,
    "start_time": "2022-01-21T08:49:55.385Z"
   },
   {
    "duration": 16,
    "start_time": "2022-01-21T08:49:55.397Z"
   },
   {
    "duration": 10,
    "start_time": "2022-01-21T08:49:55.414Z"
   },
   {
    "duration": 18,
    "start_time": "2022-01-21T08:49:55.425Z"
   },
   {
    "duration": 18,
    "start_time": "2022-01-21T08:49:55.444Z"
   },
   {
    "duration": 21,
    "start_time": "2022-01-21T08:49:55.464Z"
   },
   {
    "duration": 19,
    "start_time": "2022-01-21T08:49:55.488Z"
   },
   {
    "duration": 54,
    "start_time": "2022-01-21T08:49:55.509Z"
   },
   {
    "duration": 5,
    "start_time": "2022-01-21T08:49:55.564Z"
   },
   {
    "duration": 707,
    "start_time": "2022-01-21T08:50:29.825Z"
   },
   {
    "duration": 581,
    "start_time": "2022-01-21T08:50:37.468Z"
   },
   {
    "duration": 11,
    "start_time": "2022-01-21T08:50:38.051Z"
   },
   {
    "duration": 6,
    "start_time": "2022-01-21T08:50:38.065Z"
   },
   {
    "duration": 3,
    "start_time": "2022-01-21T08:50:38.073Z"
   },
   {
    "duration": 4,
    "start_time": "2022-01-21T08:50:38.078Z"
   },
   {
    "duration": 29,
    "start_time": "2022-01-21T08:50:38.084Z"
   },
   {
    "duration": 10,
    "start_time": "2022-01-21T08:50:38.115Z"
   },
   {
    "duration": 12,
    "start_time": "2022-01-21T08:50:38.127Z"
   },
   {
    "duration": 41,
    "start_time": "2022-01-21T08:50:38.140Z"
   },
   {
    "duration": 5,
    "start_time": "2022-01-21T08:50:38.182Z"
   },
   {
    "duration": 265,
    "start_time": "2022-01-21T08:51:34.072Z"
   },
   {
    "duration": 613,
    "start_time": "2022-01-21T08:51:41.632Z"
   },
   {
    "duration": 10,
    "start_time": "2022-01-21T08:51:42.247Z"
   },
   {
    "duration": 5,
    "start_time": "2022-01-21T08:51:42.259Z"
   },
   {
    "duration": 3,
    "start_time": "2022-01-21T08:51:42.266Z"
   },
   {
    "duration": 6,
    "start_time": "2022-01-21T08:51:42.271Z"
   },
   {
    "duration": 6,
    "start_time": "2022-01-21T08:51:42.278Z"
   },
   {
    "duration": 39,
    "start_time": "2022-01-21T08:51:42.285Z"
   },
   {
    "duration": 12,
    "start_time": "2022-01-21T08:51:42.327Z"
   },
   {
    "duration": 41,
    "start_time": "2022-01-21T08:51:42.341Z"
   },
   {
    "duration": 5,
    "start_time": "2022-01-21T08:51:42.384Z"
   },
   {
    "duration": 851,
    "start_time": "2022-01-21T08:51:42.390Z"
   },
   {
    "duration": 4328,
    "start_time": "2022-01-21T08:51:38.915Z"
   },
   {
    "duration": 4240,
    "start_time": "2022-01-21T08:51:39.004Z"
   },
   {
    "duration": 4220,
    "start_time": "2022-01-21T08:51:39.024Z"
   },
   {
    "duration": 4195,
    "start_time": "2022-01-21T08:51:39.050Z"
   },
   {
    "duration": 418,
    "start_time": "2022-01-21T13:41:59.292Z"
   },
   {
    "duration": 352,
    "start_time": "2022-01-21T13:42:23.897Z"
   },
   {
    "duration": 854,
    "start_time": "2022-01-21T13:42:30.873Z"
   },
   {
    "duration": 15,
    "start_time": "2022-01-21T13:42:31.730Z"
   },
   {
    "duration": 17,
    "start_time": "2022-01-21T13:42:31.748Z"
   },
   {
    "duration": 10,
    "start_time": "2022-01-21T13:42:31.768Z"
   },
   {
    "duration": 29,
    "start_time": "2022-01-21T13:42:31.781Z"
   },
   {
    "duration": 13,
    "start_time": "2022-01-21T13:42:31.813Z"
   },
   {
    "duration": 37,
    "start_time": "2022-01-21T13:42:31.829Z"
   },
   {
    "duration": 20,
    "start_time": "2022-01-21T13:42:31.871Z"
   },
   {
    "duration": 85,
    "start_time": "2022-01-21T13:42:31.894Z"
   },
   {
    "duration": 9,
    "start_time": "2022-01-21T13:42:31.982Z"
   },
   {
    "duration": 1510,
    "start_time": "2022-01-21T13:42:31.994Z"
   },
   {
    "duration": -256,
    "start_time": "2022-01-21T13:42:33.763Z"
   },
   {
    "duration": -259,
    "start_time": "2022-01-21T13:42:33.768Z"
   },
   {
    "duration": -261,
    "start_time": "2022-01-21T13:42:33.771Z"
   },
   {
    "duration": -262,
    "start_time": "2022-01-21T13:42:33.774Z"
   },
   {
    "duration": 105,
    "start_time": "2022-01-21T16:20:30.901Z"
   },
   {
    "duration": 15,
    "start_time": "2022-01-21T16:20:31.009Z"
   },
   {
    "duration": 37,
    "start_time": "2022-01-21T16:20:31.027Z"
   },
   {
    "duration": 5,
    "start_time": "2022-01-21T16:20:31.068Z"
   },
   {
    "duration": 6,
    "start_time": "2022-01-21T16:20:31.076Z"
   },
   {
    "duration": 9,
    "start_time": "2022-01-21T16:20:31.084Z"
   },
   {
    "duration": 16,
    "start_time": "2022-01-21T16:20:31.096Z"
   },
   {
    "duration": 60,
    "start_time": "2022-01-21T16:20:31.116Z"
   },
   {
    "duration": 99,
    "start_time": "2022-01-21T16:20:31.178Z"
   },
   {
    "duration": 7,
    "start_time": "2022-01-21T16:20:31.280Z"
   },
   {
    "duration": 1702,
    "start_time": "2022-01-21T16:20:31.289Z"
   },
   {
    "duration": -723,
    "start_time": "2022-01-21T16:20:33.717Z"
   },
   {
    "duration": -728,
    "start_time": "2022-01-21T16:20:33.723Z"
   },
   {
    "duration": -732,
    "start_time": "2022-01-21T16:20:33.728Z"
   },
   {
    "duration": -747,
    "start_time": "2022-01-21T16:20:33.745Z"
   },
   {
    "duration": 23,
    "start_time": "2022-01-21T16:20:51.685Z"
   },
   {
    "duration": 422,
    "start_time": "2022-01-21T16:28:14.002Z"
   },
   {
    "duration": 362,
    "start_time": "2022-01-21T16:28:54.429Z"
   },
   {
    "duration": 356,
    "start_time": "2022-01-21T16:29:11.875Z"
   },
   {
    "duration": 381,
    "start_time": "2022-01-21T16:31:37.373Z"
   },
   {
    "duration": 105,
    "start_time": "2022-01-21T16:31:57.312Z"
   },
   {
    "duration": 15,
    "start_time": "2022-01-21T16:31:57.419Z"
   },
   {
    "duration": 22,
    "start_time": "2022-01-21T16:31:57.437Z"
   },
   {
    "duration": 9,
    "start_time": "2022-01-21T16:31:57.462Z"
   },
   {
    "duration": 8,
    "start_time": "2022-01-21T16:31:57.473Z"
   },
   {
    "duration": 8,
    "start_time": "2022-01-21T16:31:57.483Z"
   },
   {
    "duration": 13,
    "start_time": "2022-01-21T16:31:57.494Z"
   },
   {
    "duration": 58,
    "start_time": "2022-01-21T16:31:57.509Z"
   },
   {
    "duration": 64,
    "start_time": "2022-01-21T16:31:57.571Z"
   },
   {
    "duration": 24,
    "start_time": "2022-01-21T16:31:57.637Z"
   },
   {
    "duration": 1154,
    "start_time": "2022-01-21T16:31:57.663Z"
   },
   {
    "duration": 367,
    "start_time": "2022-01-21T16:31:58.819Z"
   },
   {
    "duration": -210,
    "start_time": "2022-01-21T16:31:59.399Z"
   },
   {
    "duration": -212,
    "start_time": "2022-01-21T16:31:59.403Z"
   },
   {
    "duration": -213,
    "start_time": "2022-01-21T16:31:59.407Z"
   },
   {
    "duration": 384,
    "start_time": "2022-01-21T16:32:48.738Z"
   },
   {
    "duration": 486,
    "start_time": "2022-01-21T16:43:45.524Z"
   },
   {
    "duration": 360,
    "start_time": "2022-01-21T16:45:15.890Z"
   },
   {
    "duration": 5,
    "start_time": "2022-01-21T16:45:38.650Z"
   },
   {
    "duration": 106,
    "start_time": "2022-01-21T16:48:34.755Z"
   },
   {
    "duration": 16,
    "start_time": "2022-01-21T16:48:34.863Z"
   },
   {
    "duration": 8,
    "start_time": "2022-01-21T16:48:34.882Z"
   },
   {
    "duration": 6,
    "start_time": "2022-01-21T16:48:34.894Z"
   },
   {
    "duration": 5,
    "start_time": "2022-01-21T16:48:34.903Z"
   },
   {
    "duration": 11,
    "start_time": "2022-01-21T16:48:34.959Z"
   },
   {
    "duration": 15,
    "start_time": "2022-01-21T16:48:34.972Z"
   },
   {
    "duration": 18,
    "start_time": "2022-01-21T16:48:34.990Z"
   },
   {
    "duration": 107,
    "start_time": "2022-01-21T16:48:35.011Z"
   },
   {
    "duration": 8,
    "start_time": "2022-01-21T16:48:35.121Z"
   },
   {
    "duration": 960,
    "start_time": "2022-01-21T16:48:35.132Z"
   },
   {
    "duration": 5,
    "start_time": "2022-01-21T16:48:36.095Z"
   },
   {
    "duration": 4063,
    "start_time": "2022-01-21T16:48:36.103Z"
   },
   {
    "duration": 8,
    "start_time": "2022-01-21T16:48:40.168Z"
   },
   {
    "duration": 9138,
    "start_time": "2022-01-21T16:48:40.178Z"
   },
   {
    "duration": 4,
    "start_time": "2022-01-21T16:52:03.189Z"
   },
   {
    "duration": 380,
    "start_time": "2022-01-22T07:00:48.614Z"
   },
   {
    "duration": 710,
    "start_time": "2022-01-22T07:00:55.030Z"
   },
   {
    "duration": 11,
    "start_time": "2022-01-22T07:00:55.742Z"
   },
   {
    "duration": 7,
    "start_time": "2022-01-22T07:00:55.756Z"
   },
   {
    "duration": 4,
    "start_time": "2022-01-22T07:00:55.765Z"
   },
   {
    "duration": 6,
    "start_time": "2022-01-22T07:00:55.771Z"
   },
   {
    "duration": 10,
    "start_time": "2022-01-22T07:00:55.779Z"
   },
   {
    "duration": 16,
    "start_time": "2022-01-22T07:00:55.791Z"
   },
   {
    "duration": 17,
    "start_time": "2022-01-22T07:00:55.810Z"
   },
   {
    "duration": 77,
    "start_time": "2022-01-22T07:00:55.829Z"
   },
   {
    "duration": 6,
    "start_time": "2022-01-22T07:00:55.908Z"
   },
   {
    "duration": 690,
    "start_time": "2022-01-22T07:00:55.915Z"
   },
   {
    "duration": 4,
    "start_time": "2022-01-22T07:00:56.607Z"
   },
   {
    "duration": 2974,
    "start_time": "2022-01-22T07:00:56.613Z"
   },
   {
    "duration": 7,
    "start_time": "2022-01-22T07:00:59.589Z"
   },
   {
    "duration": 6,
    "start_time": "2022-01-22T07:00:59.598Z"
   },
   {
    "duration": 3267,
    "start_time": "2022-01-22T07:03:56.216Z"
   },
   {
    "duration": 2898,
    "start_time": "2022-01-22T07:05:53.697Z"
   },
   {
    "duration": 2730,
    "start_time": "2022-01-22T07:18:12.008Z"
   },
   {
    "duration": 85,
    "start_time": "2022-01-22T07:18:40.568Z"
   },
   {
    "duration": 15,
    "start_time": "2022-01-22T07:18:40.655Z"
   },
   {
    "duration": 7,
    "start_time": "2022-01-22T07:18:40.672Z"
   },
   {
    "duration": 5,
    "start_time": "2022-01-22T07:18:40.681Z"
   },
   {
    "duration": 5,
    "start_time": "2022-01-22T07:18:40.688Z"
   },
   {
    "duration": 6,
    "start_time": "2022-01-22T07:18:40.695Z"
   },
   {
    "duration": 10,
    "start_time": "2022-01-22T07:18:40.703Z"
   },
   {
    "duration": 56,
    "start_time": "2022-01-22T07:18:40.715Z"
   },
   {
    "duration": 51,
    "start_time": "2022-01-22T07:18:40.773Z"
   },
   {
    "duration": 6,
    "start_time": "2022-01-22T07:18:40.826Z"
   },
   {
    "duration": 701,
    "start_time": "2022-01-22T07:18:40.834Z"
   },
   {
    "duration": 4,
    "start_time": "2022-01-22T07:18:41.538Z"
   },
   {
    "duration": 2951,
    "start_time": "2022-01-22T07:18:41.544Z"
   },
   {
    "duration": 4,
    "start_time": "2022-01-22T07:18:44.497Z"
   },
   {
    "duration": 10,
    "start_time": "2022-01-22T07:18:44.503Z"
   },
   {
    "duration": 7961,
    "start_time": "2022-01-22T07:36:35.877Z"
   },
   {
    "duration": 6,
    "start_time": "2022-01-22T07:36:55.607Z"
   },
   {
    "duration": 637,
    "start_time": "2022-01-23T07:52:14.835Z"
   },
   {
    "duration": 10,
    "start_time": "2022-01-23T07:52:15.474Z"
   },
   {
    "duration": 6,
    "start_time": "2022-01-23T07:52:15.486Z"
   },
   {
    "duration": 3,
    "start_time": "2022-01-23T07:52:15.494Z"
   },
   {
    "duration": 14,
    "start_time": "2022-01-23T07:52:15.499Z"
   },
   {
    "duration": 7,
    "start_time": "2022-01-23T07:52:15.514Z"
   },
   {
    "duration": 9,
    "start_time": "2022-01-23T07:52:15.523Z"
   },
   {
    "duration": 13,
    "start_time": "2022-01-23T07:52:15.533Z"
   },
   {
    "duration": 71,
    "start_time": "2022-01-23T07:52:15.547Z"
   },
   {
    "duration": 6,
    "start_time": "2022-01-23T07:52:15.619Z"
   },
   {
    "duration": 649,
    "start_time": "2022-01-23T07:52:15.626Z"
   },
   {
    "duration": 4,
    "start_time": "2022-01-23T07:52:16.277Z"
   },
   {
    "duration": 2653,
    "start_time": "2022-01-23T07:52:16.282Z"
   },
   {
    "duration": 5,
    "start_time": "2022-01-23T07:52:18.937Z"
   },
   {
    "duration": 2,
    "start_time": "2022-01-23T07:52:18.944Z"
   },
   {
    "duration": 2474,
    "start_time": "2022-01-23T11:17:34.505Z"
   },
   {
    "duration": 6,
    "start_time": "2022-01-23T11:17:40.863Z"
   },
   {
    "duration": 264,
    "start_time": "2022-01-23T12:09:09.481Z"
   },
   {
    "duration": 233,
    "start_time": "2022-01-23T12:09:15.478Z"
   },
   {
    "duration": 149,
    "start_time": "2022-01-23T12:15:14.386Z"
   },
   {
    "duration": 239,
    "start_time": "2022-01-23T12:15:27.147Z"
   },
   {
    "duration": 227,
    "start_time": "2022-01-23T12:15:36.383Z"
   },
   {
    "duration": 221,
    "start_time": "2022-01-23T12:16:43.667Z"
   },
   {
    "duration": 273,
    "start_time": "2022-01-23T12:18:08.886Z"
   },
   {
    "duration": 345,
    "start_time": "2022-01-23T12:19:40.697Z"
   },
   {
    "duration": 238,
    "start_time": "2022-01-23T12:20:15.176Z"
   },
   {
    "duration": 7,
    "start_time": "2022-01-23T12:23:06.027Z"
   },
   {
    "duration": 222,
    "start_time": "2022-01-23T12:24:13.136Z"
   },
   {
    "duration": 265,
    "start_time": "2022-01-23T12:24:27.112Z"
   },
   {
    "duration": 7,
    "start_time": "2022-01-23T12:24:43.736Z"
   },
   {
    "duration": 12,
    "start_time": "2022-01-23T12:24:46.012Z"
   },
   {
    "duration": 253,
    "start_time": "2022-01-23T12:33:19.753Z"
   },
   {
    "duration": 7,
    "start_time": "2022-01-23T12:33:23.387Z"
   },
   {
    "duration": 13,
    "start_time": "2022-01-23T12:33:26.177Z"
   },
   {
    "duration": 199,
    "start_time": "2022-01-23T12:34:34.446Z"
   },
   {
    "duration": 198,
    "start_time": "2022-01-23T12:34:40.427Z"
   },
   {
    "duration": 73,
    "start_time": "2022-01-23T12:34:45.060Z"
   },
   {
    "duration": 12,
    "start_time": "2022-01-23T12:34:45.135Z"
   },
   {
    "duration": 6,
    "start_time": "2022-01-23T12:34:45.149Z"
   },
   {
    "duration": 4,
    "start_time": "2022-01-23T12:34:45.157Z"
   },
   {
    "duration": 5,
    "start_time": "2022-01-23T12:34:45.162Z"
   },
   {
    "duration": 6,
    "start_time": "2022-01-23T12:34:45.168Z"
   },
   {
    "duration": 43,
    "start_time": "2022-01-23T12:34:45.175Z"
   },
   {
    "duration": 11,
    "start_time": "2022-01-23T12:34:45.221Z"
   },
   {
    "duration": 42,
    "start_time": "2022-01-23T12:34:45.234Z"
   },
   {
    "duration": 5,
    "start_time": "2022-01-23T12:34:45.277Z"
   },
   {
    "duration": 672,
    "start_time": "2022-01-23T12:34:45.283Z"
   },
   {
    "duration": 4,
    "start_time": "2022-01-23T12:34:45.957Z"
   },
   {
    "duration": 2639,
    "start_time": "2022-01-23T12:34:45.963Z"
   },
   {
    "duration": 10,
    "start_time": "2022-01-23T12:34:48.604Z"
   },
   {
    "duration": 11,
    "start_time": "2022-01-23T12:34:48.615Z"
   },
   {
    "duration": 11,
    "start_time": "2022-01-23T12:34:48.628Z"
   },
   {
    "duration": 196,
    "start_time": "2022-01-23T12:34:48.641Z"
   },
   {
    "duration": -37,
    "start_time": "2022-01-23T12:34:48.876Z"
   },
   {
    "duration": 7,
    "start_time": "2022-01-23T12:35:00.961Z"
   },
   {
    "duration": 11,
    "start_time": "2022-01-23T12:35:05.258Z"
   },
   {
    "duration": 75,
    "start_time": "2022-01-23T12:35:57.427Z"
   },
   {
    "duration": 11,
    "start_time": "2022-01-23T12:35:57.503Z"
   },
   {
    "duration": 6,
    "start_time": "2022-01-23T12:35:57.516Z"
   },
   {
    "duration": 7,
    "start_time": "2022-01-23T12:35:57.523Z"
   },
   {
    "duration": 4,
    "start_time": "2022-01-23T12:35:57.532Z"
   },
   {
    "duration": 6,
    "start_time": "2022-01-23T12:35:57.537Z"
   },
   {
    "duration": 8,
    "start_time": "2022-01-23T12:35:57.545Z"
   },
   {
    "duration": 12,
    "start_time": "2022-01-23T12:35:57.556Z"
   },
   {
    "duration": 79,
    "start_time": "2022-01-23T12:35:57.569Z"
   },
   {
    "duration": 5,
    "start_time": "2022-01-23T12:35:57.650Z"
   },
   {
    "duration": 666,
    "start_time": "2022-01-23T12:35:57.656Z"
   },
   {
    "duration": 3,
    "start_time": "2022-01-23T12:35:58.324Z"
   },
   {
    "duration": 2696,
    "start_time": "2022-01-23T12:35:58.329Z"
   },
   {
    "duration": 6,
    "start_time": "2022-01-23T12:36:01.027Z"
   },
   {
    "duration": 13,
    "start_time": "2022-01-23T12:36:01.035Z"
   },
   {
    "duration": 11,
    "start_time": "2022-01-23T12:36:01.050Z"
   },
   {
    "duration": 2,
    "start_time": "2022-01-23T12:36:01.062Z"
   },
   {
    "duration": 187,
    "start_time": "2022-01-23T12:40:14.705Z"
   },
   {
    "duration": 8,
    "start_time": "2022-01-23T12:40:25.123Z"
   },
   {
    "duration": 8,
    "start_time": "2022-01-23T12:40:37.091Z"
   },
   {
    "duration": 6,
    "start_time": "2022-01-23T12:40:49.376Z"
   },
   {
    "duration": 6,
    "start_time": "2022-01-23T12:43:36.993Z"
   },
   {
    "duration": 11,
    "start_time": "2022-01-23T12:44:00.126Z"
   },
   {
    "duration": 221,
    "start_time": "2022-01-23T12:44:44.257Z"
   },
   {
    "duration": 7,
    "start_time": "2022-01-23T12:44:50.521Z"
   },
   {
    "duration": 11,
    "start_time": "2022-01-23T12:44:55.622Z"
   },
   {
    "duration": 6,
    "start_time": "2022-01-23T12:46:37.336Z"
   },
   {
    "duration": 6,
    "start_time": "2022-01-23T12:48:54.518Z"
   },
   {
    "duration": 203,
    "start_time": "2022-01-23T13:01:46.834Z"
   },
   {
    "duration": 81,
    "start_time": "2022-01-23T13:02:37.555Z"
   },
   {
    "duration": 11,
    "start_time": "2022-01-23T13:02:37.638Z"
   },
   {
    "duration": 6,
    "start_time": "2022-01-23T13:02:37.651Z"
   },
   {
    "duration": 3,
    "start_time": "2022-01-23T13:02:37.659Z"
   },
   {
    "duration": 4,
    "start_time": "2022-01-23T13:02:37.664Z"
   },
   {
    "duration": 42,
    "start_time": "2022-01-23T13:02:37.670Z"
   },
   {
    "duration": 10,
    "start_time": "2022-01-23T13:02:37.714Z"
   },
   {
    "duration": 13,
    "start_time": "2022-01-23T13:02:37.726Z"
   },
   {
    "duration": 43,
    "start_time": "2022-01-23T13:02:37.742Z"
   },
   {
    "duration": 30,
    "start_time": "2022-01-23T13:02:37.787Z"
   },
   {
    "duration": 654,
    "start_time": "2022-01-23T13:02:37.819Z"
   },
   {
    "duration": 3,
    "start_time": "2022-01-23T13:02:38.475Z"
   },
   {
    "duration": 2638,
    "start_time": "2022-01-23T13:02:38.480Z"
   },
   {
    "duration": 6,
    "start_time": "2022-01-23T13:02:41.120Z"
   },
   {
    "duration": 192,
    "start_time": "2022-01-23T13:02:41.128Z"
   },
   {
    "duration": -47,
    "start_time": "2022-01-23T13:02:41.368Z"
   },
   {
    "duration": 11,
    "start_time": "2022-01-23T13:02:57.725Z"
   },
   {
    "duration": 11,
    "start_time": "2022-01-23T13:03:05.772Z"
   },
   {
    "duration": 12,
    "start_time": "2022-01-23T13:10:42.662Z"
   },
   {
    "duration": 7,
    "start_time": "2022-01-23T13:17:24.303Z"
   },
   {
    "duration": 6,
    "start_time": "2022-01-23T13:22:59.797Z"
   },
   {
    "duration": 77,
    "start_time": "2022-01-23T13:40:10.752Z"
   },
   {
    "duration": 10,
    "start_time": "2022-01-23T13:40:10.831Z"
   },
   {
    "duration": 5,
    "start_time": "2022-01-23T13:40:10.843Z"
   },
   {
    "duration": 3,
    "start_time": "2022-01-23T13:40:10.850Z"
   },
   {
    "duration": 7,
    "start_time": "2022-01-23T13:40:10.854Z"
   },
   {
    "duration": 6,
    "start_time": "2022-01-23T13:40:10.863Z"
   },
   {
    "duration": 42,
    "start_time": "2022-01-23T13:40:10.870Z"
   },
   {
    "duration": 14,
    "start_time": "2022-01-23T13:40:10.914Z"
   },
   {
    "duration": 42,
    "start_time": "2022-01-23T13:40:10.930Z"
   },
   {
    "duration": 5,
    "start_time": "2022-01-23T13:40:10.974Z"
   },
   {
    "duration": 687,
    "start_time": "2022-01-23T13:40:10.981Z"
   },
   {
    "duration": 4,
    "start_time": "2022-01-23T13:40:11.670Z"
   },
   {
    "duration": 2569,
    "start_time": "2022-01-23T13:40:11.676Z"
   },
   {
    "duration": 6,
    "start_time": "2022-01-23T13:40:14.247Z"
   },
   {
    "duration": 12,
    "start_time": "2022-01-23T13:40:14.255Z"
   },
   {
    "duration": 4,
    "start_time": "2022-01-23T13:40:14.269Z"
   },
   {
    "duration": 38,
    "start_time": "2022-01-23T13:40:14.275Z"
   },
   {
    "duration": 4,
    "start_time": "2022-01-23T14:15:44.437Z"
   },
   {
    "duration": 14,
    "start_time": "2022-01-23T14:20:57.976Z"
   },
   {
    "duration": 15,
    "start_time": "2022-01-23T14:21:01.999Z"
   },
   {
    "duration": 17,
    "start_time": "2022-01-23T14:21:16.724Z"
   },
   {
    "duration": 74,
    "start_time": "2022-01-23T14:22:17.047Z"
   },
   {
    "duration": 206,
    "start_time": "2022-01-23T14:22:22.066Z"
   },
   {
    "duration": 21,
    "start_time": "2022-01-23T14:22:32.216Z"
   },
   {
    "duration": 21,
    "start_time": "2022-01-23T14:23:16.776Z"
   },
   {
    "duration": 16,
    "start_time": "2022-01-23T14:23:25.053Z"
   },
   {
    "duration": 17,
    "start_time": "2022-01-23T14:23:30.740Z"
   },
   {
    "duration": 16,
    "start_time": "2022-01-23T14:23:36.133Z"
   },
   {
    "duration": 18,
    "start_time": "2022-01-23T14:24:01.866Z"
   },
   {
    "duration": 17,
    "start_time": "2022-01-23T14:24:35.584Z"
   },
   {
    "duration": 21,
    "start_time": "2022-01-23T14:28:47.549Z"
   },
   {
    "duration": 21,
    "start_time": "2022-01-23T14:29:29.224Z"
   },
   {
    "duration": 20,
    "start_time": "2022-01-23T14:30:43.765Z"
   },
   {
    "duration": 21,
    "start_time": "2022-01-23T14:32:29.155Z"
   },
   {
    "duration": 20,
    "start_time": "2022-01-23T14:41:28.714Z"
   },
   {
    "duration": 8,
    "start_time": "2022-01-23T14:42:40.495Z"
   },
   {
    "duration": 20,
    "start_time": "2022-01-23T14:43:01.037Z"
   },
   {
    "duration": 18,
    "start_time": "2022-01-23T14:43:30.042Z"
   },
   {
    "duration": 17,
    "start_time": "2022-01-23T14:44:31.489Z"
   },
   {
    "duration": 20,
    "start_time": "2022-01-23T14:44:49.824Z"
   },
   {
    "duration": 38,
    "start_time": "2022-01-23T14:53:28.995Z"
   },
   {
    "duration": 205,
    "start_time": "2022-01-23T15:01:21.882Z"
   },
   {
    "duration": 193,
    "start_time": "2022-01-23T15:02:09.376Z"
   },
   {
    "duration": 79,
    "start_time": "2022-01-23T15:02:17.119Z"
   },
   {
    "duration": 13,
    "start_time": "2022-01-23T15:02:17.199Z"
   },
   {
    "duration": 6,
    "start_time": "2022-01-23T15:02:17.214Z"
   },
   {
    "duration": 4,
    "start_time": "2022-01-23T15:02:17.221Z"
   },
   {
    "duration": 8,
    "start_time": "2022-01-23T15:02:17.226Z"
   },
   {
    "duration": 6,
    "start_time": "2022-01-23T15:02:17.235Z"
   },
   {
    "duration": 10,
    "start_time": "2022-01-23T15:02:17.243Z"
   },
   {
    "duration": 13,
    "start_time": "2022-01-23T15:02:17.256Z"
   },
   {
    "duration": 75,
    "start_time": "2022-01-23T15:02:17.271Z"
   },
   {
    "duration": 5,
    "start_time": "2022-01-23T15:02:17.348Z"
   },
   {
    "duration": 707,
    "start_time": "2022-01-23T15:02:17.355Z"
   },
   {
    "duration": 5,
    "start_time": "2022-01-23T15:02:18.064Z"
   },
   {
    "duration": 2902,
    "start_time": "2022-01-23T15:02:18.071Z"
   },
   {
    "duration": 7,
    "start_time": "2022-01-23T15:02:20.975Z"
   },
   {
    "duration": 29,
    "start_time": "2022-01-23T15:02:20.984Z"
   },
   {
    "duration": 5,
    "start_time": "2022-01-23T15:02:21.015Z"
   },
   {
    "duration": 24,
    "start_time": "2022-01-23T15:02:21.022Z"
   },
   {
    "duration": 21,
    "start_time": "2022-01-23T15:02:21.047Z"
   },
   {
    "duration": 66,
    "start_time": "2022-01-23T15:02:21.070Z"
   },
   {
    "duration": 582,
    "start_time": "2022-01-23T15:02:21.138Z"
   },
   {
    "duration": 19,
    "start_time": "2022-01-23T15:03:00.794Z"
   },
   {
    "duration": 22,
    "start_time": "2022-01-23T15:03:10.103Z"
   },
   {
    "duration": 8,
    "start_time": "2022-01-23T15:14:30.926Z"
   },
   {
    "duration": 5,
    "start_time": "2022-01-23T15:14:54.338Z"
   },
   {
    "duration": 5,
    "start_time": "2022-01-23T15:15:08.739Z"
   },
   {
    "duration": 7,
    "start_time": "2022-01-23T15:15:18.906Z"
   },
   {
    "duration": 7,
    "start_time": "2022-01-23T15:15:30.068Z"
   },
   {
    "duration": 5,
    "start_time": "2022-01-23T15:15:41.010Z"
   },
   {
    "duration": 81,
    "start_time": "2022-01-23T15:49:28.363Z"
   },
   {
    "duration": 10,
    "start_time": "2022-01-23T15:49:28.445Z"
   },
   {
    "duration": 6,
    "start_time": "2022-01-23T15:49:28.457Z"
   },
   {
    "duration": 4,
    "start_time": "2022-01-23T15:49:28.465Z"
   },
   {
    "duration": 4,
    "start_time": "2022-01-23T15:49:28.471Z"
   },
   {
    "duration": 41,
    "start_time": "2022-01-23T15:49:28.477Z"
   },
   {
    "duration": 13,
    "start_time": "2022-01-23T15:49:28.519Z"
   },
   {
    "duration": 13,
    "start_time": "2022-01-23T15:49:28.534Z"
   },
   {
    "duration": 42,
    "start_time": "2022-01-23T15:49:28.549Z"
   },
   {
    "duration": 27,
    "start_time": "2022-01-23T15:49:28.593Z"
   },
   {
    "duration": 708,
    "start_time": "2022-01-23T15:49:28.622Z"
   },
   {
    "duration": 3,
    "start_time": "2022-01-23T15:49:29.332Z"
   },
   {
    "duration": 2750,
    "start_time": "2022-01-23T15:49:29.337Z"
   },
   {
    "duration": 6,
    "start_time": "2022-01-23T15:49:32.088Z"
   },
   {
    "duration": 22,
    "start_time": "2022-01-23T15:49:32.095Z"
   },
   {
    "duration": 6,
    "start_time": "2022-01-23T15:49:32.120Z"
   },
   {
    "duration": 21,
    "start_time": "2022-01-23T15:49:32.127Z"
   },
   {
    "duration": 18,
    "start_time": "2022-01-23T15:49:32.150Z"
   },
   {
    "duration": 63,
    "start_time": "2022-01-23T15:49:32.170Z"
   },
   {
    "duration": 5,
    "start_time": "2022-01-23T15:49:32.235Z"
   },
   {
    "duration": 26,
    "start_time": "2022-01-23T16:09:52.750Z"
   },
   {
    "duration": 201,
    "start_time": "2022-01-23T16:19:26.965Z"
   },
   {
    "duration": 35,
    "start_time": "2022-01-23T16:19:37.620Z"
   },
   {
    "duration": 485,
    "start_time": "2022-01-23T16:20:15.580Z"
   },
   {
    "duration": 32,
    "start_time": "2022-01-23T16:20:39.219Z"
   },
   {
    "duration": 20,
    "start_time": "2022-01-23T16:27:36.627Z"
   },
   {
    "duration": 21,
    "start_time": "2022-01-23T16:28:38.040Z"
   },
   {
    "duration": 29,
    "start_time": "2022-01-23T16:30:31.015Z"
   },
   {
    "duration": 29,
    "start_time": "2022-01-23T16:30:47.534Z"
   },
   {
    "duration": 4850,
    "start_time": "2022-01-23T16:37:13.056Z"
   },
   {
    "duration": 4926,
    "start_time": "2022-01-23T16:37:31.877Z"
   },
   {
    "duration": 34,
    "start_time": "2022-01-23T16:37:43.341Z"
   },
   {
    "duration": 24,
    "start_time": "2022-01-23T16:39:35.038Z"
   },
   {
    "duration": 22,
    "start_time": "2022-01-23T16:41:01.897Z"
   },
   {
    "duration": 202,
    "start_time": "2022-01-23T16:43:37.524Z"
   },
   {
    "duration": 190,
    "start_time": "2022-01-23T16:44:33.805Z"
   },
   {
    "duration": 197,
    "start_time": "2022-01-23T16:44:41.962Z"
   },
   {
    "duration": 185,
    "start_time": "2022-01-23T16:44:53.518Z"
   },
   {
    "duration": 33,
    "start_time": "2022-01-23T16:45:16.971Z"
   },
   {
    "duration": 6191,
    "start_time": "2022-01-23T16:45:41.494Z"
   },
   {
    "duration": 25,
    "start_time": "2022-01-23T16:45:52.257Z"
   },
   {
    "duration": 29,
    "start_time": "2022-01-23T16:46:47.347Z"
   },
   {
    "duration": 79,
    "start_time": "2022-01-23T17:06:09.670Z"
   },
   {
    "duration": 9,
    "start_time": "2022-01-23T17:06:09.751Z"
   },
   {
    "duration": 5,
    "start_time": "2022-01-23T17:06:09.762Z"
   },
   {
    "duration": 7,
    "start_time": "2022-01-23T17:06:09.769Z"
   },
   {
    "duration": 4,
    "start_time": "2022-01-23T17:06:09.778Z"
   },
   {
    "duration": 30,
    "start_time": "2022-01-23T17:06:09.784Z"
   },
   {
    "duration": 8,
    "start_time": "2022-01-23T17:06:09.816Z"
   },
   {
    "duration": 14,
    "start_time": "2022-01-23T17:06:09.826Z"
   },
   {
    "duration": 43,
    "start_time": "2022-01-23T17:06:09.842Z"
   },
   {
    "duration": 26,
    "start_time": "2022-01-23T17:06:09.887Z"
   },
   {
    "duration": 689,
    "start_time": "2022-01-23T17:06:09.915Z"
   },
   {
    "duration": 7,
    "start_time": "2022-01-23T17:06:10.606Z"
   },
   {
    "duration": 2528,
    "start_time": "2022-01-23T17:06:10.615Z"
   },
   {
    "duration": 6,
    "start_time": "2022-01-23T17:06:13.144Z"
   },
   {
    "duration": 14,
    "start_time": "2022-01-23T17:06:13.152Z"
   },
   {
    "duration": 5,
    "start_time": "2022-01-23T17:06:13.168Z"
   },
   {
    "duration": 39,
    "start_time": "2022-01-23T17:06:13.174Z"
   },
   {
    "duration": 19,
    "start_time": "2022-01-23T17:06:13.215Z"
   },
   {
    "duration": 29,
    "start_time": "2022-01-23T17:06:13.236Z"
   },
   {
    "duration": 45,
    "start_time": "2022-01-23T17:06:13.267Z"
   },
   {
    "duration": 589,
    "start_time": "2022-01-30T10:23:27.347Z"
   },
   {
    "duration": 10,
    "start_time": "2022-01-30T10:23:27.938Z"
   },
   {
    "duration": 4,
    "start_time": "2022-01-30T10:23:27.950Z"
   },
   {
    "duration": 9,
    "start_time": "2022-01-30T10:23:27.956Z"
   },
   {
    "duration": 6,
    "start_time": "2022-01-30T10:23:27.966Z"
   },
   {
    "duration": 6,
    "start_time": "2022-01-30T10:23:27.973Z"
   },
   {
    "duration": 7,
    "start_time": "2022-01-30T10:23:27.981Z"
   },
   {
    "duration": 10,
    "start_time": "2022-01-30T10:23:27.991Z"
   },
   {
    "duration": 59,
    "start_time": "2022-01-30T10:23:28.003Z"
   },
   {
    "duration": 5,
    "start_time": "2022-01-30T10:23:28.064Z"
   },
   {
    "duration": 591,
    "start_time": "2022-01-30T10:23:28.070Z"
   },
   {
    "duration": 3,
    "start_time": "2022-01-30T10:23:28.663Z"
   },
   {
    "duration": 2713,
    "start_time": "2022-01-30T10:23:28.668Z"
   },
   {
    "duration": 5,
    "start_time": "2022-01-30T10:23:31.382Z"
   },
   {
    "duration": 11,
    "start_time": "2022-01-30T10:23:31.388Z"
   },
   {
    "duration": 4,
    "start_time": "2022-01-30T10:23:31.400Z"
   },
   {
    "duration": 43,
    "start_time": "2022-01-30T10:23:31.405Z"
   },
   {
    "duration": 17,
    "start_time": "2022-01-30T10:23:31.449Z"
   },
   {
    "duration": 24,
    "start_time": "2022-01-30T10:23:31.468Z"
   },
   {
    "duration": 37,
    "start_time": "2022-01-30T10:23:31.494Z"
   },
   {
    "duration": 4154,
    "start_time": "2022-01-30T10:38:20.428Z"
   },
   {
    "duration": 334,
    "start_time": "2022-01-30T15:13:42.116Z"
   },
   {
    "duration": 665,
    "start_time": "2022-01-30T15:14:25.373Z"
   },
   {
    "duration": 11,
    "start_time": "2022-01-30T15:14:26.039Z"
   },
   {
    "duration": 6,
    "start_time": "2022-01-30T15:14:26.053Z"
   },
   {
    "duration": 5,
    "start_time": "2022-01-30T15:14:26.061Z"
   },
   {
    "duration": 6,
    "start_time": "2022-01-30T15:14:26.068Z"
   },
   {
    "duration": 15,
    "start_time": "2022-01-30T15:14:26.076Z"
   },
   {
    "duration": 13,
    "start_time": "2022-01-30T15:14:26.093Z"
   },
   {
    "duration": 23,
    "start_time": "2022-01-30T15:14:26.109Z"
   },
   {
    "duration": 83,
    "start_time": "2022-01-30T15:14:26.134Z"
   },
   {
    "duration": 7,
    "start_time": "2022-01-30T15:14:26.218Z"
   },
   {
    "duration": 681,
    "start_time": "2022-01-30T15:14:26.227Z"
   },
   {
    "duration": 4,
    "start_time": "2022-01-30T15:14:26.910Z"
   },
   {
    "duration": 3167,
    "start_time": "2022-01-30T15:14:26.916Z"
   },
   {
    "duration": 7,
    "start_time": "2022-01-30T15:14:30.084Z"
   },
   {
    "duration": 25,
    "start_time": "2022-01-30T15:14:30.092Z"
   },
   {
    "duration": 7,
    "start_time": "2022-01-30T15:14:30.119Z"
   },
   {
    "duration": 43,
    "start_time": "2022-01-30T15:14:30.128Z"
   },
   {
    "duration": 845,
    "start_time": "2022-01-30T15:14:30.173Z"
   },
   {
    "duration": 25,
    "start_time": "2022-01-30T15:14:31.020Z"
   },
   {
    "duration": 40,
    "start_time": "2022-01-30T15:14:31.047Z"
   },
   {
    "duration": 20,
    "start_time": "2022-01-30T15:14:31.089Z"
   },
   {
    "duration": 7,
    "start_time": "2022-01-30T15:29:22.830Z"
   },
   {
    "duration": 7,
    "start_time": "2022-01-30T15:34:43.329Z"
   },
   {
    "duration": 6,
    "start_time": "2022-01-30T15:34:57.203Z"
   },
   {
    "duration": 4,
    "start_time": "2022-01-30T15:39:17.384Z"
   },
   {
    "duration": 88,
    "start_time": "2022-01-30T15:39:30.660Z"
   },
   {
    "duration": 16,
    "start_time": "2022-01-30T15:39:30.750Z"
   },
   {
    "duration": 8,
    "start_time": "2022-01-30T15:39:30.768Z"
   },
   {
    "duration": 20,
    "start_time": "2022-01-30T15:39:30.779Z"
   },
   {
    "duration": 7,
    "start_time": "2022-01-30T15:39:30.801Z"
   },
   {
    "duration": 17,
    "start_time": "2022-01-30T15:39:30.809Z"
   },
   {
    "duration": 12,
    "start_time": "2022-01-30T15:39:30.828Z"
   },
   {
    "duration": 19,
    "start_time": "2022-01-30T15:39:30.843Z"
   },
   {
    "duration": 16,
    "start_time": "2022-01-30T15:39:30.865Z"
   },
   {
    "duration": 51,
    "start_time": "2022-01-30T15:39:30.882Z"
   },
   {
    "duration": 7,
    "start_time": "2022-01-30T15:39:30.934Z"
   },
   {
    "duration": 729,
    "start_time": "2022-01-30T15:39:30.942Z"
   },
   {
    "duration": 6,
    "start_time": "2022-01-30T15:39:31.673Z"
   },
   {
    "duration": 3292,
    "start_time": "2022-01-30T15:39:31.681Z"
   },
   {
    "duration": 6,
    "start_time": "2022-01-30T15:39:34.975Z"
   },
   {
    "duration": 16,
    "start_time": "2022-01-30T15:39:34.983Z"
   },
   {
    "duration": 5,
    "start_time": "2022-01-30T15:39:35.001Z"
   },
   {
    "duration": 34,
    "start_time": "2022-01-30T15:39:35.008Z"
   },
   {
    "duration": 21,
    "start_time": "2022-01-30T15:39:35.044Z"
   },
   {
    "duration": 25,
    "start_time": "2022-01-30T15:39:35.066Z"
   },
   {
    "duration": 31,
    "start_time": "2022-01-30T15:39:35.093Z"
   },
   {
    "duration": 39,
    "start_time": "2022-01-30T15:39:35.125Z"
   },
   {
    "duration": 79,
    "start_time": "2022-01-30T17:42:56.931Z"
   },
   {
    "duration": 10,
    "start_time": "2022-01-30T17:42:57.011Z"
   },
   {
    "duration": 5,
    "start_time": "2022-01-30T17:42:57.023Z"
   },
   {
    "duration": 4,
    "start_time": "2022-01-30T17:42:57.030Z"
   },
   {
    "duration": 25,
    "start_time": "2022-01-30T17:42:57.035Z"
   },
   {
    "duration": 12,
    "start_time": "2022-01-30T17:42:57.062Z"
   },
   {
    "duration": 11,
    "start_time": "2022-01-30T17:42:57.076Z"
   },
   {
    "duration": 6,
    "start_time": "2022-01-30T17:42:57.089Z"
   },
   {
    "duration": 13,
    "start_time": "2022-01-30T17:42:57.097Z"
   },
   {
    "duration": 75,
    "start_time": "2022-01-30T17:42:57.111Z"
   },
   {
    "duration": 7,
    "start_time": "2022-01-30T17:42:57.188Z"
   },
   {
    "duration": 663,
    "start_time": "2022-01-30T17:42:57.197Z"
   },
   {
    "duration": 4,
    "start_time": "2022-01-30T17:42:57.862Z"
   },
   {
    "duration": 2867,
    "start_time": "2022-01-30T17:42:57.867Z"
   },
   {
    "duration": 6,
    "start_time": "2022-01-30T17:43:00.737Z"
   },
   {
    "duration": 12,
    "start_time": "2022-01-30T17:43:00.761Z"
   },
   {
    "duration": 6,
    "start_time": "2022-01-30T17:43:00.775Z"
   },
   {
    "duration": 25,
    "start_time": "2022-01-30T17:43:00.783Z"
   },
   {
    "duration": 7,
    "start_time": "2022-01-30T17:43:00.810Z"
   },
   {
    "duration": 54,
    "start_time": "2022-01-30T17:43:00.818Z"
   },
   {
    "duration": 29,
    "start_time": "2022-01-30T17:43:00.874Z"
   },
   {
    "duration": 19,
    "start_time": "2022-01-30T17:43:00.906Z"
   },
   {
    "duration": 1729,
    "start_time": "2022-02-01T09:25:11.887Z"
   },
   {
    "duration": 16,
    "start_time": "2022-02-01T09:25:13.619Z"
   },
   {
    "duration": 9,
    "start_time": "2022-02-01T09:25:13.639Z"
   },
   {
    "duration": 5,
    "start_time": "2022-02-01T09:25:13.671Z"
   },
   {
    "duration": 14,
    "start_time": "2022-02-01T09:25:13.679Z"
   },
   {
    "duration": 9,
    "start_time": "2022-02-01T09:25:13.695Z"
   },
   {
    "duration": 14,
    "start_time": "2022-02-01T09:25:13.706Z"
   },
   {
    "duration": 16514,
    "start_time": "2022-02-01T09:25:13.724Z"
   },
   {
    "duration": 993,
    "start_time": "2022-02-01T09:25:29.248Z"
   },
   {
    "duration": 982,
    "start_time": "2022-02-01T09:25:29.261Z"
   },
   {
    "duration": 973,
    "start_time": "2022-02-01T09:25:29.271Z"
   },
   {
    "duration": 964,
    "start_time": "2022-02-01T09:25:29.283Z"
   },
   {
    "duration": 955,
    "start_time": "2022-02-01T09:25:29.294Z"
   },
   {
    "duration": 942,
    "start_time": "2022-02-01T09:25:29.309Z"
   },
   {
    "duration": 932,
    "start_time": "2022-02-01T09:25:29.322Z"
   },
   {
    "duration": 904,
    "start_time": "2022-02-01T09:25:29.352Z"
   },
   {
    "duration": 890,
    "start_time": "2022-02-01T09:25:29.368Z"
   },
   {
    "duration": 878,
    "start_time": "2022-02-01T09:25:29.381Z"
   },
   {
    "duration": 864,
    "start_time": "2022-02-01T09:25:29.396Z"
   },
   {
    "duration": 852,
    "start_time": "2022-02-01T09:25:29.410Z"
   },
   {
    "duration": 841,
    "start_time": "2022-02-01T09:25:29.422Z"
   },
   {
    "duration": 828,
    "start_time": "2022-02-01T09:25:29.436Z"
   },
   {
    "duration": 818,
    "start_time": "2022-02-01T09:25:29.448Z"
   },
   {
    "duration": 2066,
    "start_time": "2022-02-01T09:26:04.998Z"
   },
   {
    "duration": 8,
    "start_time": "2022-02-01T09:26:40.770Z"
   },
   {
    "duration": 845,
    "start_time": "2022-02-01T09:26:52.404Z"
   },
   {
    "duration": 17,
    "start_time": "2022-02-01T09:26:53.252Z"
   },
   {
    "duration": 9,
    "start_time": "2022-02-01T09:26:53.273Z"
   },
   {
    "duration": 5,
    "start_time": "2022-02-01T09:26:53.285Z"
   },
   {
    "duration": 5,
    "start_time": "2022-02-01T09:26:53.293Z"
   },
   {
    "duration": 8,
    "start_time": "2022-02-01T09:26:53.300Z"
   },
   {
    "duration": 66,
    "start_time": "2022-02-01T09:26:53.310Z"
   },
   {
    "duration": 8,
    "start_time": "2022-02-01T09:26:53.381Z"
   },
   {
    "duration": 10,
    "start_time": "2022-02-01T09:26:53.393Z"
   },
   {
    "duration": 18,
    "start_time": "2022-02-01T09:26:53.406Z"
   },
   {
    "duration": 97,
    "start_time": "2022-02-01T09:26:53.426Z"
   },
   {
    "duration": 7,
    "start_time": "2022-02-01T09:26:53.526Z"
   },
   {
    "duration": 964,
    "start_time": "2022-02-01T09:26:53.535Z"
   },
   {
    "duration": 5,
    "start_time": "2022-02-01T09:26:54.502Z"
   },
   {
    "duration": 3689,
    "start_time": "2022-02-01T09:26:54.510Z"
   },
   {
    "duration": 9,
    "start_time": "2022-02-01T09:26:58.202Z"
   },
   {
    "duration": 17,
    "start_time": "2022-02-01T09:26:58.213Z"
   },
   {
    "duration": 36,
    "start_time": "2022-02-01T09:26:58.233Z"
   },
   {
    "duration": 39,
    "start_time": "2022-02-01T09:26:58.272Z"
   },
   {
    "duration": 1000,
    "start_time": "2022-02-01T09:26:58.314Z"
   },
   {
    "duration": 52,
    "start_time": "2022-02-01T09:26:59.318Z"
   },
   {
    "duration": 64,
    "start_time": "2022-02-01T09:26:59.373Z"
   },
   {
    "duration": 50,
    "start_time": "2022-02-01T09:26:59.441Z"
   },
   {
    "duration": 21,
    "start_time": "2022-02-01T09:27:29.262Z"
   },
   {
    "duration": 100,
    "start_time": "2022-02-01T09:29:03.704Z"
   },
   {
    "duration": 105,
    "start_time": "2022-02-01T09:29:22.888Z"
   },
   {
    "duration": 21,
    "start_time": "2022-02-01T09:30:05.338Z"
   },
   {
    "duration": 103,
    "start_time": "2022-02-01T09:33:21.983Z"
   },
   {
    "duration": 14,
    "start_time": "2022-02-01T09:33:22.089Z"
   },
   {
    "duration": 9,
    "start_time": "2022-02-01T09:33:22.106Z"
   },
   {
    "duration": 8,
    "start_time": "2022-02-01T09:33:22.118Z"
   },
   {
    "duration": 45,
    "start_time": "2022-02-01T09:33:22.129Z"
   },
   {
    "duration": 8,
    "start_time": "2022-02-01T09:33:22.177Z"
   },
   {
    "duration": 13,
    "start_time": "2022-02-01T09:33:22.187Z"
   },
   {
    "duration": 71,
    "start_time": "2022-02-01T09:33:22.203Z"
   },
   {
    "duration": 19,
    "start_time": "2022-02-01T09:33:22.277Z"
   },
   {
    "duration": 90,
    "start_time": "2022-02-01T09:33:22.298Z"
   },
   {
    "duration": 7,
    "start_time": "2022-02-01T09:33:22.390Z"
   },
   {
    "duration": 944,
    "start_time": "2022-02-01T09:33:22.400Z"
   },
   {
    "duration": 6,
    "start_time": "2022-02-01T09:33:23.347Z"
   },
   {
    "duration": 3870,
    "start_time": "2022-02-01T09:33:23.356Z"
   },
   {
    "duration": 9,
    "start_time": "2022-02-01T09:33:27.229Z"
   },
   {
    "duration": 16,
    "start_time": "2022-02-01T09:33:27.240Z"
   },
   {
    "duration": 15,
    "start_time": "2022-02-01T09:33:27.258Z"
   },
   {
    "duration": 34,
    "start_time": "2022-02-01T09:33:27.276Z"
   },
   {
    "duration": 9,
    "start_time": "2022-02-01T09:33:27.312Z"
   },
   {
    "duration": 45,
    "start_time": "2022-02-01T09:33:27.325Z"
   },
   {
    "duration": 48,
    "start_time": "2022-02-01T09:33:27.373Z"
   },
   {
    "duration": 33,
    "start_time": "2022-02-01T09:33:27.423Z"
   },
   {
    "duration": 83,
    "start_time": "2022-02-01T09:37:13.160Z"
   },
   {
    "duration": 59,
    "start_time": "2022-02-01T09:38:11.604Z"
   },
   {
    "duration": 60,
    "start_time": "2022-02-01T09:41:11.195Z"
   },
   {
    "duration": 615,
    "start_time": "2022-02-01T14:16:11.485Z"
   },
   {
    "duration": 10,
    "start_time": "2022-02-01T14:16:12.101Z"
   },
   {
    "duration": 5,
    "start_time": "2022-02-01T14:16:12.113Z"
   },
   {
    "duration": 8,
    "start_time": "2022-02-01T14:16:12.119Z"
   },
   {
    "duration": 3,
    "start_time": "2022-02-01T14:16:12.128Z"
   },
   {
    "duration": 6,
    "start_time": "2022-02-01T14:16:12.132Z"
   },
   {
    "duration": 8,
    "start_time": "2022-02-01T14:16:12.140Z"
   },
   {
    "duration": 10,
    "start_time": "2022-02-01T14:16:12.150Z"
   },
   {
    "duration": 10,
    "start_time": "2022-02-01T14:16:12.161Z"
   },
   {
    "duration": 60,
    "start_time": "2022-02-01T14:16:12.172Z"
   },
   {
    "duration": 5,
    "start_time": "2022-02-01T14:16:12.233Z"
   },
   {
    "duration": 605,
    "start_time": "2022-02-01T14:16:12.239Z"
   },
   {
    "duration": 4,
    "start_time": "2022-02-01T14:16:12.845Z"
   },
   {
    "duration": 2689,
    "start_time": "2022-02-01T14:16:12.850Z"
   },
   {
    "duration": 6,
    "start_time": "2022-02-01T14:16:15.541Z"
   },
   {
    "duration": 17,
    "start_time": "2022-02-01T14:16:15.549Z"
   },
   {
    "duration": 5,
    "start_time": "2022-02-01T14:16:15.567Z"
   },
   {
    "duration": 23,
    "start_time": "2022-02-01T14:16:15.573Z"
   },
   {
    "duration": 577,
    "start_time": "2022-02-01T14:16:15.597Z"
   },
   {
    "duration": 22,
    "start_time": "2022-02-01T14:16:16.175Z"
   },
   {
    "duration": 41,
    "start_time": "2022-02-01T14:16:16.198Z"
   },
   {
    "duration": 17,
    "start_time": "2022-02-01T14:16:16.240Z"
   },
   {
    "duration": 25,
    "start_time": "2022-02-01T14:22:25.820Z"
   },
   {
    "duration": 4,
    "start_time": "2022-02-01T14:23:41.630Z"
   },
   {
    "duration": 383,
    "start_time": "2022-02-01T14:31:10.868Z"
   },
   {
    "duration": 24,
    "start_time": "2022-02-01T14:31:33.277Z"
   },
   {
    "duration": 24,
    "start_time": "2022-02-01T14:32:02.992Z"
   },
   {
    "duration": 24,
    "start_time": "2022-02-01T14:32:15.104Z"
   },
   {
    "duration": 28,
    "start_time": "2022-02-01T14:32:39.834Z"
   },
   {
    "duration": 26,
    "start_time": "2022-02-01T14:34:35.314Z"
   },
   {
    "duration": 26,
    "start_time": "2022-02-01T14:35:07.729Z"
   },
   {
    "duration": 26,
    "start_time": "2022-02-01T14:35:41.668Z"
   },
   {
    "duration": 28,
    "start_time": "2022-02-01T14:36:01.032Z"
   },
   {
    "duration": 27,
    "start_time": "2022-02-01T14:36:20.121Z"
   },
   {
    "duration": 26,
    "start_time": "2022-02-01T14:36:27.802Z"
   },
   {
    "duration": 3,
    "start_time": "2022-02-01T14:40:43.083Z"
   },
   {
    "duration": 21,
    "start_time": "2022-02-01T14:42:58.267Z"
   },
   {
    "duration": 18,
    "start_time": "2022-02-01T14:43:38.669Z"
   },
   {
    "duration": 10150,
    "start_time": "2022-02-01T15:00:58.837Z"
   },
   {
    "duration": 57,
    "start_time": "2022-02-01T15:01:16.501Z"
   },
   {
    "duration": 9,
    "start_time": "2022-02-01T15:01:16.560Z"
   },
   {
    "duration": 5,
    "start_time": "2022-02-01T15:01:16.571Z"
   },
   {
    "duration": 4,
    "start_time": "2022-02-01T15:01:16.578Z"
   },
   {
    "duration": 4,
    "start_time": "2022-02-01T15:01:16.583Z"
   },
   {
    "duration": 6,
    "start_time": "2022-02-01T15:01:16.588Z"
   },
   {
    "duration": 38,
    "start_time": "2022-02-01T15:01:16.595Z"
   },
   {
    "duration": 11,
    "start_time": "2022-02-01T15:01:16.635Z"
   },
   {
    "duration": 11,
    "start_time": "2022-02-01T15:01:16.647Z"
   },
   {
    "duration": 31,
    "start_time": "2022-02-01T15:01:16.659Z"
   },
   {
    "duration": 5,
    "start_time": "2022-02-01T15:01:16.692Z"
   },
   {
    "duration": 601,
    "start_time": "2022-02-01T15:01:16.727Z"
   },
   {
    "duration": 4,
    "start_time": "2022-02-01T15:01:17.330Z"
   },
   {
    "duration": 2438,
    "start_time": "2022-02-01T15:01:17.335Z"
   },
   {
    "duration": 5,
    "start_time": "2022-02-01T15:01:19.775Z"
   },
   {
    "duration": 18,
    "start_time": "2022-02-01T15:01:19.782Z"
   },
   {
    "duration": 6,
    "start_time": "2022-02-01T15:01:19.802Z"
   },
   {
    "duration": 24,
    "start_time": "2022-02-01T15:01:19.827Z"
   },
   {
    "duration": 6,
    "start_time": "2022-02-01T15:01:19.852Z"
   },
   {
    "duration": 19,
    "start_time": "2022-02-01T15:01:19.859Z"
   },
   {
    "duration": 9163,
    "start_time": "2022-02-01T15:01:19.879Z"
   },
   {
    "duration": -177,
    "start_time": "2022-02-01T15:01:29.221Z"
   },
   {
    "duration": 9139,
    "start_time": "2022-02-01T15:13:22.829Z"
   },
   {
    "duration": 8326,
    "start_time": "2022-02-01T15:14:29.054Z"
   },
   {
    "duration": 4,
    "start_time": "2022-02-01T15:15:16.953Z"
   },
   {
    "duration": 18,
    "start_time": "2022-02-01T15:15:58.878Z"
   },
   {
    "duration": 16,
    "start_time": "2022-02-01T15:16:13.562Z"
   },
   {
    "duration": 74,
    "start_time": "2022-02-01T15:16:36.704Z"
   },
   {
    "duration": 9,
    "start_time": "2022-02-01T15:16:36.779Z"
   },
   {
    "duration": 5,
    "start_time": "2022-02-01T15:16:36.790Z"
   },
   {
    "duration": 6,
    "start_time": "2022-02-01T15:16:36.797Z"
   },
   {
    "duration": 5,
    "start_time": "2022-02-01T15:16:36.804Z"
   },
   {
    "duration": 18,
    "start_time": "2022-02-01T15:16:36.810Z"
   },
   {
    "duration": 8,
    "start_time": "2022-02-01T15:16:36.829Z"
   },
   {
    "duration": 11,
    "start_time": "2022-02-01T15:16:36.840Z"
   },
   {
    "duration": 11,
    "start_time": "2022-02-01T15:16:36.853Z"
   },
   {
    "duration": 33,
    "start_time": "2022-02-01T15:16:36.865Z"
   },
   {
    "duration": 5,
    "start_time": "2022-02-01T15:16:36.927Z"
   },
   {
    "duration": 604,
    "start_time": "2022-02-01T15:16:36.934Z"
   },
   {
    "duration": 3,
    "start_time": "2022-02-01T15:16:37.540Z"
   },
   {
    "duration": 2619,
    "start_time": "2022-02-01T15:16:37.544Z"
   },
   {
    "duration": 5,
    "start_time": "2022-02-01T15:16:40.165Z"
   },
   {
    "duration": 15,
    "start_time": "2022-02-01T15:16:40.171Z"
   },
   {
    "duration": 4,
    "start_time": "2022-02-01T15:16:40.188Z"
   },
   {
    "duration": 34,
    "start_time": "2022-02-01T15:16:40.194Z"
   },
   {
    "duration": 5,
    "start_time": "2022-02-01T15:16:40.229Z"
   },
   {
    "duration": 19,
    "start_time": "2022-02-01T15:16:40.236Z"
   },
   {
    "duration": 16,
    "start_time": "2022-02-01T15:16:40.256Z"
   },
   {
    "duration": 16,
    "start_time": "2022-02-01T15:16:40.273Z"
   },
   {
    "duration": 314,
    "start_time": "2022-02-01T16:18:39.775Z"
   },
   {
    "duration": 6,
    "start_time": "2022-02-01T16:18:55.417Z"
   },
   {
    "duration": 18,
    "start_time": "2022-02-01T16:22:58.859Z"
   },
   {
    "duration": 17,
    "start_time": "2022-02-01T16:24:31.913Z"
   },
   {
    "duration": 6,
    "start_time": "2022-02-01T16:27:05.354Z"
   },
   {
    "duration": 19,
    "start_time": "2022-02-01T16:30:55.563Z"
   },
   {
    "duration": 6,
    "start_time": "2022-02-01T16:31:32.581Z"
   },
   {
    "duration": 5,
    "start_time": "2022-02-01T16:32:11.637Z"
   },
   {
    "duration": 5,
    "start_time": "2022-02-01T16:33:24.629Z"
   },
   {
    "duration": 5,
    "start_time": "2022-02-01T16:33:56.997Z"
   },
   {
    "duration": 17,
    "start_time": "2022-02-01T16:35:31.425Z"
   },
   {
    "duration": 72,
    "start_time": "2022-02-01T16:35:40.287Z"
   },
   {
    "duration": 9,
    "start_time": "2022-02-01T16:35:40.360Z"
   },
   {
    "duration": 5,
    "start_time": "2022-02-01T16:35:40.371Z"
   },
   {
    "duration": 3,
    "start_time": "2022-02-01T16:35:40.378Z"
   },
   {
    "duration": 5,
    "start_time": "2022-02-01T16:35:40.382Z"
   },
   {
    "duration": 6,
    "start_time": "2022-02-01T16:35:40.388Z"
   },
   {
    "duration": 32,
    "start_time": "2022-02-01T16:35:40.396Z"
   },
   {
    "duration": 11,
    "start_time": "2022-02-01T16:35:40.430Z"
   },
   {
    "duration": 12,
    "start_time": "2022-02-01T16:35:40.443Z"
   },
   {
    "duration": 32,
    "start_time": "2022-02-01T16:35:40.456Z"
   },
   {
    "duration": 4,
    "start_time": "2022-02-01T16:35:40.490Z"
   },
   {
    "duration": 632,
    "start_time": "2022-02-01T16:35:40.496Z"
   },
   {
    "duration": 3,
    "start_time": "2022-02-01T16:35:41.130Z"
   },
   {
    "duration": 2524,
    "start_time": "2022-02-01T16:35:41.135Z"
   },
   {
    "duration": 5,
    "start_time": "2022-02-01T16:35:43.660Z"
   },
   {
    "duration": 12,
    "start_time": "2022-02-01T16:35:43.667Z"
   },
   {
    "duration": 5,
    "start_time": "2022-02-01T16:35:43.680Z"
   },
   {
    "duration": 18,
    "start_time": "2022-02-01T16:35:43.687Z"
   },
   {
    "duration": 24,
    "start_time": "2022-02-01T16:35:43.706Z"
   },
   {
    "duration": 16,
    "start_time": "2022-02-01T16:35:43.732Z"
   },
   {
    "duration": 17,
    "start_time": "2022-02-01T16:35:43.750Z"
   },
   {
    "duration": 4,
    "start_time": "2022-02-01T16:35:43.768Z"
   },
   {
    "duration": 20,
    "start_time": "2022-02-01T16:35:43.774Z"
   },
   {
    "duration": 27,
    "start_time": "2022-02-01T16:41:25.037Z"
   },
   {
    "duration": 82,
    "start_time": "2022-02-01T16:49:04.071Z"
   },
   {
    "duration": 9,
    "start_time": "2022-02-01T16:49:04.154Z"
   },
   {
    "duration": 5,
    "start_time": "2022-02-01T16:49:04.165Z"
   },
   {
    "duration": 6,
    "start_time": "2022-02-01T16:49:04.172Z"
   },
   {
    "duration": 5,
    "start_time": "2022-02-01T16:49:04.179Z"
   },
   {
    "duration": 6,
    "start_time": "2022-02-01T16:49:04.185Z"
   },
   {
    "duration": 12,
    "start_time": "2022-02-01T16:49:04.192Z"
   },
   {
    "duration": 12,
    "start_time": "2022-02-01T16:49:04.229Z"
   },
   {
    "duration": 11,
    "start_time": "2022-02-01T16:49:04.243Z"
   },
   {
    "duration": 32,
    "start_time": "2022-02-01T16:49:04.255Z"
   },
   {
    "duration": 5,
    "start_time": "2022-02-01T16:49:04.288Z"
   },
   {
    "duration": 683,
    "start_time": "2022-02-01T16:49:04.294Z"
   },
   {
    "duration": 3,
    "start_time": "2022-02-01T16:49:04.979Z"
   },
   {
    "duration": 2470,
    "start_time": "2022-02-01T16:49:04.984Z"
   },
   {
    "duration": 6,
    "start_time": "2022-02-01T16:49:07.455Z"
   },
   {
    "duration": 11,
    "start_time": "2022-02-01T16:49:07.462Z"
   },
   {
    "duration": 5,
    "start_time": "2022-02-01T16:49:07.475Z"
   },
   {
    "duration": 27,
    "start_time": "2022-02-01T16:49:07.481Z"
   },
   {
    "duration": 21,
    "start_time": "2022-02-01T16:49:07.509Z"
   },
   {
    "duration": 17,
    "start_time": "2022-02-01T16:49:07.531Z"
   },
   {
    "duration": 24,
    "start_time": "2022-02-01T16:49:07.550Z"
   },
   {
    "duration": 14,
    "start_time": "2022-02-01T16:49:07.575Z"
   },
   {
    "duration": 2544,
    "start_time": "2022-02-02T13:25:07.931Z"
   },
   {
    "duration": 408,
    "start_time": "2022-02-02T13:25:42.573Z"
   },
   {
    "duration": 36,
    "start_time": "2022-02-02T13:26:17.772Z"
   },
   {
    "duration": 416,
    "start_time": "2022-02-02T13:26:50.532Z"
   },
   {
    "duration": 918,
    "start_time": "2022-02-02T13:27:27.713Z"
   },
   {
    "duration": 907,
    "start_time": "2022-02-02T13:27:46.045Z"
   },
   {
    "duration": 519,
    "start_time": "2022-02-02T13:27:48.005Z"
   },
   {
    "duration": 854,
    "start_time": "2022-02-02T13:28:13.478Z"
   },
   {
    "duration": 923,
    "start_time": "2022-02-02T13:28:16.652Z"
   },
   {
    "duration": 876,
    "start_time": "2022-02-02T13:28:33.654Z"
   },
   {
    "duration": 14,
    "start_time": "2022-02-02T13:28:34.533Z"
   },
   {
    "duration": 15,
    "start_time": "2022-02-02T13:28:34.551Z"
   },
   {
    "duration": 15,
    "start_time": "2022-02-02T13:28:34.569Z"
   },
   {
    "duration": 6,
    "start_time": "2022-02-02T13:28:34.587Z"
   },
   {
    "duration": 8,
    "start_time": "2022-02-02T13:28:34.595Z"
   },
   {
    "duration": 12,
    "start_time": "2022-02-02T13:28:34.606Z"
   },
   {
    "duration": 54,
    "start_time": "2022-02-02T13:28:34.623Z"
   },
   {
    "duration": 17,
    "start_time": "2022-02-02T13:28:34.681Z"
   },
   {
    "duration": 87,
    "start_time": "2022-02-02T13:28:34.700Z"
   },
   {
    "duration": 7,
    "start_time": "2022-02-02T13:28:34.789Z"
   },
   {
    "duration": 987,
    "start_time": "2022-02-02T13:28:34.800Z"
   },
   {
    "duration": 6,
    "start_time": "2022-02-02T13:28:35.790Z"
   },
   {
    "duration": 4006,
    "start_time": "2022-02-02T13:28:35.798Z"
   },
   {
    "duration": 8,
    "start_time": "2022-02-02T13:28:39.807Z"
   },
   {
    "duration": 15,
    "start_time": "2022-02-02T13:28:39.818Z"
   },
   {
    "duration": 34,
    "start_time": "2022-02-02T13:28:39.836Z"
   },
   {
    "duration": 49,
    "start_time": "2022-02-02T13:28:39.873Z"
   },
   {
    "duration": 962,
    "start_time": "2022-02-02T13:28:39.925Z"
   },
   {
    "duration": 34,
    "start_time": "2022-02-02T13:28:40.890Z"
   },
   {
    "duration": 66,
    "start_time": "2022-02-02T13:28:40.926Z"
   },
   {
    "duration": 31,
    "start_time": "2022-02-02T13:28:40.994Z"
   }
  ],
  "kernelspec": {
   "display_name": "Python 3 (ipykernel)",
   "language": "python",
   "name": "python3"
  },
  "language_info": {
   "codemirror_mode": {
    "name": "ipython",
    "version": 3
   },
   "file_extension": ".py",
   "mimetype": "text/x-python",
   "name": "python",
   "nbconvert_exporter": "python",
   "pygments_lexer": "ipython3",
   "version": "3.9.5"
  },
  "toc": {
   "base_numbering": 1,
   "nav_menu": {},
   "number_sections": true,
   "sideBar": true,
   "skip_h1_title": true,
   "title_cell": "Table of Contents",
   "title_sidebar": "Contents",
   "toc_cell": false,
   "toc_position": {
    "height": "calc(100% - 180px)",
    "left": "10px",
    "top": "150px",
    "width": "340.792px"
   },
   "toc_section_display": true,
   "toc_window_display": true
  }
 },
 "nbformat": 4,
 "nbformat_minor": 2
}
