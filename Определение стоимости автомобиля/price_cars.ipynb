{
 "cells": [
  {
   "cell_type": "markdown",
   "metadata": {},
   "source": [
    "## Подготовка данных"
   ]
  },
  {
   "cell_type": "markdown",
   "metadata": {},
   "source": [
    "### Открытие файла, импорт библиотек и анализ данных"
   ]
  },
  {
   "cell_type": "code",
   "execution_count": 1,
   "metadata": {},
   "outputs": [],
   "source": [
    "import pandas as pd\n",
    "import seaborn as sns\n",
    "import numpy as np\n",
    "import matplotlib.pyplot as plt\n",
    "import warnings\n",
    "\n",
    "from sklearn.model_selection import train_test_split, cross_val_score, GridSearchCV\n",
    "from sklearn.preprocessing import StandardScaler\n",
    "from sklearn.metrics import mean_squared_error\n",
    "\n",
    "from sklearn.linear_model import LinearRegression\n",
    "from sklearn.tree import DecisionTreeRegressor\n",
    "from sklearn.ensemble import RandomForestRegressor\n",
    "from catboost import CatBoostRegressor\n",
    "from lightgbm import LGBMRegressor\n",
    "\n",
    "warnings.filterwarnings('ignore')\n",
    "\n",
    "import time"
   ]
  },
  {
   "cell_type": "code",
   "execution_count": 2,
   "metadata": {},
   "outputs": [
    {
     "data": {
      "text/html": [
       "<div>\n",
       "<style scoped>\n",
       "    .dataframe tbody tr th:only-of-type {\n",
       "        vertical-align: middle;\n",
       "    }\n",
       "\n",
       "    .dataframe tbody tr th {\n",
       "        vertical-align: top;\n",
       "    }\n",
       "\n",
       "    .dataframe thead th {\n",
       "        text-align: right;\n",
       "    }\n",
       "</style>\n",
       "<table border=\"1\" class=\"dataframe\">\n",
       "  <thead>\n",
       "    <tr style=\"text-align: right;\">\n",
       "      <th></th>\n",
       "      <th>DateCrawled</th>\n",
       "      <th>Price</th>\n",
       "      <th>VehicleType</th>\n",
       "      <th>RegistrationYear</th>\n",
       "      <th>Gearbox</th>\n",
       "      <th>Power</th>\n",
       "      <th>Model</th>\n",
       "      <th>Kilometer</th>\n",
       "      <th>RegistrationMonth</th>\n",
       "      <th>FuelType</th>\n",
       "      <th>Brand</th>\n",
       "      <th>NotRepaired</th>\n",
       "      <th>DateCreated</th>\n",
       "      <th>NumberOfPictures</th>\n",
       "      <th>PostalCode</th>\n",
       "      <th>LastSeen</th>\n",
       "    </tr>\n",
       "  </thead>\n",
       "  <tbody>\n",
       "    <tr>\n",
       "      <th>0</th>\n",
       "      <td>2016-03-24 11:52:17</td>\n",
       "      <td>480</td>\n",
       "      <td>NaN</td>\n",
       "      <td>1993</td>\n",
       "      <td>manual</td>\n",
       "      <td>0</td>\n",
       "      <td>golf</td>\n",
       "      <td>150000</td>\n",
       "      <td>0</td>\n",
       "      <td>petrol</td>\n",
       "      <td>volkswagen</td>\n",
       "      <td>NaN</td>\n",
       "      <td>2016-03-24 00:00:00</td>\n",
       "      <td>0</td>\n",
       "      <td>70435</td>\n",
       "      <td>2016-04-07 03:16:57</td>\n",
       "    </tr>\n",
       "    <tr>\n",
       "      <th>1</th>\n",
       "      <td>2016-03-24 10:58:45</td>\n",
       "      <td>18300</td>\n",
       "      <td>coupe</td>\n",
       "      <td>2011</td>\n",
       "      <td>manual</td>\n",
       "      <td>190</td>\n",
       "      <td>NaN</td>\n",
       "      <td>125000</td>\n",
       "      <td>5</td>\n",
       "      <td>gasoline</td>\n",
       "      <td>audi</td>\n",
       "      <td>yes</td>\n",
       "      <td>2016-03-24 00:00:00</td>\n",
       "      <td>0</td>\n",
       "      <td>66954</td>\n",
       "      <td>2016-04-07 01:46:50</td>\n",
       "    </tr>\n",
       "    <tr>\n",
       "      <th>2</th>\n",
       "      <td>2016-03-14 12:52:21</td>\n",
       "      <td>9800</td>\n",
       "      <td>suv</td>\n",
       "      <td>2004</td>\n",
       "      <td>auto</td>\n",
       "      <td>163</td>\n",
       "      <td>grand</td>\n",
       "      <td>125000</td>\n",
       "      <td>8</td>\n",
       "      <td>gasoline</td>\n",
       "      <td>jeep</td>\n",
       "      <td>NaN</td>\n",
       "      <td>2016-03-14 00:00:00</td>\n",
       "      <td>0</td>\n",
       "      <td>90480</td>\n",
       "      <td>2016-04-05 12:47:46</td>\n",
       "    </tr>\n",
       "    <tr>\n",
       "      <th>3</th>\n",
       "      <td>2016-03-17 16:54:04</td>\n",
       "      <td>1500</td>\n",
       "      <td>small</td>\n",
       "      <td>2001</td>\n",
       "      <td>manual</td>\n",
       "      <td>75</td>\n",
       "      <td>golf</td>\n",
       "      <td>150000</td>\n",
       "      <td>6</td>\n",
       "      <td>petrol</td>\n",
       "      <td>volkswagen</td>\n",
       "      <td>no</td>\n",
       "      <td>2016-03-17 00:00:00</td>\n",
       "      <td>0</td>\n",
       "      <td>91074</td>\n",
       "      <td>2016-03-17 17:40:17</td>\n",
       "    </tr>\n",
       "    <tr>\n",
       "      <th>4</th>\n",
       "      <td>2016-03-31 17:25:20</td>\n",
       "      <td>3600</td>\n",
       "      <td>small</td>\n",
       "      <td>2008</td>\n",
       "      <td>manual</td>\n",
       "      <td>69</td>\n",
       "      <td>fabia</td>\n",
       "      <td>90000</td>\n",
       "      <td>7</td>\n",
       "      <td>gasoline</td>\n",
       "      <td>skoda</td>\n",
       "      <td>no</td>\n",
       "      <td>2016-03-31 00:00:00</td>\n",
       "      <td>0</td>\n",
       "      <td>60437</td>\n",
       "      <td>2016-04-06 10:17:21</td>\n",
       "    </tr>\n",
       "  </tbody>\n",
       "</table>\n",
       "</div>"
      ],
      "text/plain": [
       "           DateCrawled  Price VehicleType  RegistrationYear Gearbox  Power  \\\n",
       "0  2016-03-24 11:52:17    480         NaN              1993  manual      0   \n",
       "1  2016-03-24 10:58:45  18300       coupe              2011  manual    190   \n",
       "2  2016-03-14 12:52:21   9800         suv              2004    auto    163   \n",
       "3  2016-03-17 16:54:04   1500       small              2001  manual     75   \n",
       "4  2016-03-31 17:25:20   3600       small              2008  manual     69   \n",
       "\n",
       "   Model  Kilometer  RegistrationMonth  FuelType       Brand NotRepaired  \\\n",
       "0   golf     150000                  0    petrol  volkswagen         NaN   \n",
       "1    NaN     125000                  5  gasoline        audi         yes   \n",
       "2  grand     125000                  8  gasoline        jeep         NaN   \n",
       "3   golf     150000                  6    petrol  volkswagen          no   \n",
       "4  fabia      90000                  7  gasoline       skoda          no   \n",
       "\n",
       "           DateCreated  NumberOfPictures  PostalCode             LastSeen  \n",
       "0  2016-03-24 00:00:00                 0       70435  2016-04-07 03:16:57  \n",
       "1  2016-03-24 00:00:00                 0       66954  2016-04-07 01:46:50  \n",
       "2  2016-03-14 00:00:00                 0       90480  2016-04-05 12:47:46  \n",
       "3  2016-03-17 00:00:00                 0       91074  2016-03-17 17:40:17  \n",
       "4  2016-03-31 00:00:00                 0       60437  2016-04-06 10:17:21  "
      ]
     },
     "metadata": {},
     "output_type": "display_data"
    },
    {
     "name": "stdout",
     "output_type": "stream",
     "text": [
      "<class 'pandas.core.frame.DataFrame'>\n",
      "RangeIndex: 354369 entries, 0 to 354368\n",
      "Data columns (total 16 columns):\n",
      " #   Column             Non-Null Count   Dtype \n",
      "---  ------             --------------   ----- \n",
      " 0   DateCrawled        354369 non-null  object\n",
      " 1   Price              354369 non-null  int64 \n",
      " 2   VehicleType        316879 non-null  object\n",
      " 3   RegistrationYear   354369 non-null  int64 \n",
      " 4   Gearbox            334536 non-null  object\n",
      " 5   Power              354369 non-null  int64 \n",
      " 6   Model              334664 non-null  object\n",
      " 7   Kilometer          354369 non-null  int64 \n",
      " 8   RegistrationMonth  354369 non-null  int64 \n",
      " 9   FuelType           321474 non-null  object\n",
      " 10  Brand              354369 non-null  object\n",
      " 11  NotRepaired        283215 non-null  object\n",
      " 12  DateCreated        354369 non-null  object\n",
      " 13  NumberOfPictures   354369 non-null  int64 \n",
      " 14  PostalCode         354369 non-null  int64 \n",
      " 15  LastSeen           354369 non-null  object\n",
      "dtypes: int64(7), object(9)\n",
      "memory usage: 43.3+ MB\n"
     ]
    }
   ],
   "source": [
    "data = pd.read_csv('/datasets/autos.csv')\n",
    "display(data.head())\n",
    "data.info()"
   ]
  },
  {
   "cell_type": "code",
   "execution_count": 3,
   "metadata": {},
   "outputs": [
    {
     "data": {
      "text/html": [
       "<div>\n",
       "<style scoped>\n",
       "    .dataframe tbody tr th:only-of-type {\n",
       "        vertical-align: middle;\n",
       "    }\n",
       "\n",
       "    .dataframe tbody tr th {\n",
       "        vertical-align: top;\n",
       "    }\n",
       "\n",
       "    .dataframe thead th {\n",
       "        text-align: right;\n",
       "    }\n",
       "</style>\n",
       "<table border=\"1\" class=\"dataframe\">\n",
       "  <thead>\n",
       "    <tr style=\"text-align: right;\">\n",
       "      <th></th>\n",
       "      <th>Price</th>\n",
       "      <th>RegistrationYear</th>\n",
       "      <th>Power</th>\n",
       "      <th>Kilometer</th>\n",
       "      <th>RegistrationMonth</th>\n",
       "      <th>NumberOfPictures</th>\n",
       "      <th>PostalCode</th>\n",
       "    </tr>\n",
       "  </thead>\n",
       "  <tbody>\n",
       "    <tr>\n",
       "      <th>count</th>\n",
       "      <td>354369.000000</td>\n",
       "      <td>354369.000000</td>\n",
       "      <td>354369.000000</td>\n",
       "      <td>354369.000000</td>\n",
       "      <td>354369.000000</td>\n",
       "      <td>354369.0</td>\n",
       "      <td>354369.000000</td>\n",
       "    </tr>\n",
       "    <tr>\n",
       "      <th>mean</th>\n",
       "      <td>4416.656776</td>\n",
       "      <td>2004.234448</td>\n",
       "      <td>110.094337</td>\n",
       "      <td>128211.172535</td>\n",
       "      <td>5.714645</td>\n",
       "      <td>0.0</td>\n",
       "      <td>50508.689087</td>\n",
       "    </tr>\n",
       "    <tr>\n",
       "      <th>std</th>\n",
       "      <td>4514.158514</td>\n",
       "      <td>90.227958</td>\n",
       "      <td>189.850405</td>\n",
       "      <td>37905.341530</td>\n",
       "      <td>3.726421</td>\n",
       "      <td>0.0</td>\n",
       "      <td>25783.096248</td>\n",
       "    </tr>\n",
       "    <tr>\n",
       "      <th>min</th>\n",
       "      <td>0.000000</td>\n",
       "      <td>1000.000000</td>\n",
       "      <td>0.000000</td>\n",
       "      <td>5000.000000</td>\n",
       "      <td>0.000000</td>\n",
       "      <td>0.0</td>\n",
       "      <td>1067.000000</td>\n",
       "    </tr>\n",
       "    <tr>\n",
       "      <th>25%</th>\n",
       "      <td>1050.000000</td>\n",
       "      <td>1999.000000</td>\n",
       "      <td>69.000000</td>\n",
       "      <td>125000.000000</td>\n",
       "      <td>3.000000</td>\n",
       "      <td>0.0</td>\n",
       "      <td>30165.000000</td>\n",
       "    </tr>\n",
       "    <tr>\n",
       "      <th>50%</th>\n",
       "      <td>2700.000000</td>\n",
       "      <td>2003.000000</td>\n",
       "      <td>105.000000</td>\n",
       "      <td>150000.000000</td>\n",
       "      <td>6.000000</td>\n",
       "      <td>0.0</td>\n",
       "      <td>49413.000000</td>\n",
       "    </tr>\n",
       "    <tr>\n",
       "      <th>75%</th>\n",
       "      <td>6400.000000</td>\n",
       "      <td>2008.000000</td>\n",
       "      <td>143.000000</td>\n",
       "      <td>150000.000000</td>\n",
       "      <td>9.000000</td>\n",
       "      <td>0.0</td>\n",
       "      <td>71083.000000</td>\n",
       "    </tr>\n",
       "    <tr>\n",
       "      <th>max</th>\n",
       "      <td>20000.000000</td>\n",
       "      <td>9999.000000</td>\n",
       "      <td>20000.000000</td>\n",
       "      <td>150000.000000</td>\n",
       "      <td>12.000000</td>\n",
       "      <td>0.0</td>\n",
       "      <td>99998.000000</td>\n",
       "    </tr>\n",
       "  </tbody>\n",
       "</table>\n",
       "</div>"
      ],
      "text/plain": [
       "               Price  RegistrationYear          Power      Kilometer  \\\n",
       "count  354369.000000     354369.000000  354369.000000  354369.000000   \n",
       "mean     4416.656776       2004.234448     110.094337  128211.172535   \n",
       "std      4514.158514         90.227958     189.850405   37905.341530   \n",
       "min         0.000000       1000.000000       0.000000    5000.000000   \n",
       "25%      1050.000000       1999.000000      69.000000  125000.000000   \n",
       "50%      2700.000000       2003.000000     105.000000  150000.000000   \n",
       "75%      6400.000000       2008.000000     143.000000  150000.000000   \n",
       "max     20000.000000       9999.000000   20000.000000  150000.000000   \n",
       "\n",
       "       RegistrationMonth  NumberOfPictures     PostalCode  \n",
       "count      354369.000000          354369.0  354369.000000  \n",
       "mean            5.714645               0.0   50508.689087  \n",
       "std             3.726421               0.0   25783.096248  \n",
       "min             0.000000               0.0    1067.000000  \n",
       "25%             3.000000               0.0   30165.000000  \n",
       "50%             6.000000               0.0   49413.000000  \n",
       "75%             9.000000               0.0   71083.000000  \n",
       "max            12.000000               0.0   99998.000000  "
      ]
     },
     "execution_count": 3,
     "metadata": {},
     "output_type": "execute_result"
    }
   ],
   "source": [
    "data.describe()"
   ]
  },
  {
   "cell_type": "code",
   "execution_count": 4,
   "metadata": {
    "scrolled": true
   },
   "outputs": [
    {
     "name": "stdout",
     "output_type": "stream",
     "text": [
      "Количество пропусков в данных:\n"
     ]
    },
    {
     "data": {
      "text/plain": [
       "DateCrawled              0\n",
       "Price                    0\n",
       "VehicleType          37490\n",
       "RegistrationYear         0\n",
       "Gearbox              19833\n",
       "Power                    0\n",
       "Model                19705\n",
       "Kilometer                0\n",
       "RegistrationMonth        0\n",
       "FuelType             32895\n",
       "Brand                    0\n",
       "NotRepaired          71154\n",
       "DateCreated              0\n",
       "NumberOfPictures         0\n",
       "PostalCode               0\n",
       "LastSeen                 0\n",
       "dtype: int64"
      ]
     },
     "execution_count": 4,
     "metadata": {},
     "output_type": "execute_result"
    }
   ],
   "source": [
    "print('Количество пропусков в данных:')\n",
    "data.isna().sum()"
   ]
  },
  {
   "cell_type": "code",
   "execution_count": 5,
   "metadata": {},
   "outputs": [
    {
     "name": "stdout",
     "output_type": "stream",
     "text": [
      "Дубликатов в данных: 4\n"
     ]
    }
   ],
   "source": [
    "print('Дубликатов в данных:', data.duplicated().sum())"
   ]
  },
  {
   "cell_type": "code",
   "execution_count": 6,
   "metadata": {},
   "outputs": [],
   "source": [
    "data = data.drop_duplicates().reset_index(drop=True)"
   ]
  },
  {
   "cell_type": "code",
   "execution_count": 7,
   "metadata": {},
   "outputs": [
    {
     "name": "stdout",
     "output_type": "stream",
     "text": [
      "Последняя дата скачивания объявления:\n"
     ]
    },
    {
     "data": {
      "text/plain": [
       "'2016-04-07 14:36:58'"
      ]
     },
     "execution_count": 7,
     "metadata": {},
     "output_type": "execute_result"
    }
   ],
   "source": [
    "print('Последняя дата скачивания объявления:')\n",
    "data['DateCrawled'].max()"
   ]
  },
  {
   "cell_type": "code",
   "execution_count": 8,
   "metadata": {},
   "outputs": [
    {
     "name": "stdout",
     "output_type": "stream",
     "text": [
      "Кол-во объявлений по типу кузова:\n"
     ]
    },
    {
     "data": {
      "text/plain": [
       "sedan          91457\n",
       "small          79830\n",
       "wagon          65165\n",
       "bus            28775\n",
       "convertible    20203\n",
       "coupe          16161\n",
       "suv            11996\n",
       "other           3288\n",
       "Name: VehicleType, dtype: int64"
      ]
     },
     "execution_count": 8,
     "metadata": {},
     "output_type": "execute_result"
    }
   ],
   "source": [
    "print('Кол-во объявлений по типу кузова:')\n",
    "data['VehicleType'].value_counts()"
   ]
  },
  {
   "cell_type": "code",
   "execution_count": 9,
   "metadata": {},
   "outputs": [
    {
     "name": "stdout",
     "output_type": "stream",
     "text": [
      "Кол-во объявлений по коробке передач:\n"
     ]
    },
    {
     "data": {
      "text/plain": [
       "manual    268249\n",
       "auto       66283\n",
       "Name: Gearbox, dtype: int64"
      ]
     },
     "execution_count": 9,
     "metadata": {},
     "output_type": "execute_result"
    }
   ],
   "source": [
    "print('Кол-во объявлений по коробке передач:')\n",
    "data['Gearbox'].value_counts()"
   ]
  },
  {
   "cell_type": "code",
   "execution_count": 10,
   "metadata": {},
   "outputs": [
    {
     "name": "stdout",
     "output_type": "stream",
     "text": [
      "Кол-во объявлений по километражу:\n"
     ]
    },
    {
     "data": {
      "text/plain": [
       "150000    238207\n",
       "125000     36453\n",
       "100000     14882\n",
       "90000      11567\n",
       "80000      10047\n",
       "70000       8593\n",
       "60000       7444\n",
       "5000        6397\n",
       "50000       6232\n",
       "40000       4911\n",
       "30000       4436\n",
       "20000       3974\n",
       "10000       1222\n",
       "Name: Kilometer, dtype: int64"
      ]
     },
     "execution_count": 10,
     "metadata": {},
     "output_type": "execute_result"
    }
   ],
   "source": [
    "print('Кол-во объявлений по километражу:')\n",
    "data['Kilometer'].value_counts()"
   ]
  },
  {
   "cell_type": "code",
   "execution_count": 11,
   "metadata": {},
   "outputs": [
    {
     "name": "stdout",
     "output_type": "stream",
     "text": [
      "Кол-во объявлений по типу топлива:\n"
     ]
    },
    {
     "data": {
      "text/plain": [
       "petrol      216349\n",
       "gasoline     98719\n",
       "lpg           5310\n",
       "cng            565\n",
       "hybrid         233\n",
       "other          204\n",
       "electric        90\n",
       "Name: FuelType, dtype: int64"
      ]
     },
     "execution_count": 11,
     "metadata": {},
     "output_type": "execute_result"
    }
   ],
   "source": [
    "print('Кол-во объявлений по типу топлива:')\n",
    "data['FuelType'].value_counts()"
   ]
  },
  {
   "cell_type": "code",
   "execution_count": 12,
   "metadata": {},
   "outputs": [
    {
     "data": {
      "text/plain": [
       "no     247158\n",
       "yes     36053\n",
       "Name: NotRepaired, dtype: int64"
      ]
     },
     "execution_count": 12,
     "metadata": {},
     "output_type": "execute_result"
    }
   ],
   "source": [
    "data['NotRepaired'].value_counts()"
   ]
  },
  {
   "cell_type": "markdown",
   "metadata": {},
   "source": [
    "Для нормальной работы моделей нужно обработать данные:\n",
    "- Автомобиль вряд ли будет стоить 0, потому надо найти квантили 0.05 и 0.9 в целевом признаке Price.\n",
    "- Год выпуска не может быть больше 2016, ведь данные представлены за 2016 год максимум. Также вряд ли будут интересны автомобили младше 1950 года - они уже относятся к раритету скорее. Все неподходящие данные будут удалены.  \n",
    "- Пропуски в признаке VehicleType необходимо обработать. Можно их заменить на самый популярный тип, каким является Седан, однако разные марки могут специализироваться на определенных кузовах, потому заполню пропуски наиболее популярным типом кузова в каждой марке.  \n",
    "- Пропуски в признаке Gearbox заполню механической коробкой передач, как наиболее распространенной.  \n",
    "- Кол-во лошадиных сил в моторе вряд ли реально будут меньше 30, как и неинтересны будут данные с кол-вом свыше 700, это редкие модели и масл кары, что представляет совсем иную категорию.  \n",
    "- Пропуски в признаке Model заменю на 0.\n",
    "- Из признака километража видно, что на сайте объявлений стоит ограничение максимальное в 150000, скорее всего означающее километраж свыше 150000км. И подавляющее большинство машин именно такие, ведь это пробег, когда заканивается точно уже гарантия производителя и часто машину выставляют на продажу для покупки новой. Рекомендовать бы сервису ввести больше возможностей выбора пользователям, но мы занимаемся другим.  \n",
    "- Признаки RegistrationMonth, DateCreated, NumberOfPictures, PostalCode, LastSeen можно удалить, в них нетданных для обучения модели.  \n",
    "- Пропуски в FuelType также можно заполнить наиболее популярным вообще, то есть бензином, но я заполню наиболее популярным у данной марки.  \n",
    "- Очень много пропусков в признаке NotRepaired. Установлю по наиболее популярному, то есть \"no\"."
   ]
  },
  {
   "cell_type": "markdown",
   "metadata": {},
   "source": [
    "### Обработка данных"
   ]
  },
  {
   "cell_type": "code",
   "execution_count": 13,
   "metadata": {
    "scrolled": true
   },
   "outputs": [
    {
     "data": {
      "text/plain": [
       "Text(0.5, 1.0, 'Количество автомобилей в объявлениях по годам')"
      ]
     },
     "execution_count": 13,
     "metadata": {},
     "output_type": "execute_result"
    },
    {
     "data": {
      "image/png": "[encoded data removed]",
      "text/plain": [
       "<Figure size 720x288 with 1 Axes>"
      ]
     },
     "metadata": {
      "needs_background": "light"
     },
     "output_type": "display_data"
    }
   ],
   "source": [
    "data = data.query('1900 < RegistrationYear < 2017').reset_index()\n",
    "data['RegistrationYear'].hist(bins=111, figsize=(10,4))\n",
    "plt.title('Количество автомобилей в объявлениях по годам')"
   ]
  },
  {
   "cell_type": "markdown",
   "metadata": {},
   "source": [
    "Судя по гистограмме количество автомобилей в объявлениях меньше 1960 года практически отсутствует. Избавлюсь от них."
   ]
  },
  {
   "cell_type": "code",
   "execution_count": 14,
   "metadata": {
    "scrolled": true
   },
   "outputs": [
    {
     "data": {
      "text/plain": [
       "Text(0.5, 1.0, 'Количество автомобилей в объявлениях по годам')"
      ]
     },
     "execution_count": 14,
     "metadata": {},
     "output_type": "execute_result"
    },
    {
     "data": {
      "image/png": "[encoded data removed]",
      "text/plain": [
       "<Figure size 720x288 with 1 Axes>"
      ]
     },
     "metadata": {
      "needs_background": "light"
     },
     "output_type": "display_data"
    }
   ],
   "source": [
    "data = data.query('1960 < RegistrationYear').reset_index()\n",
    "data['RegistrationYear'].hist(bins=56, figsize=(10,4))\n",
    "plt.title('Количество автомобилей в объявлениях по годам')"
   ]
  },
  {
   "cell_type": "code",
   "execution_count": 15,
   "metadata": {},
   "outputs": [
    {
     "data": {
      "text/plain": [
       "0.05      350.0\n",
       "0.90    11700.0\n",
       "Name: Price, dtype: float64"
      ]
     },
     "execution_count": 15,
     "metadata": {},
     "output_type": "execute_result"
    }
   ],
   "source": [
    "data = data.query('Price > 0')\n",
    "data['Price'].quantile([0.05, 0.9])"
   ]
  },
  {
   "cell_type": "code",
   "execution_count": 16,
   "metadata": {},
   "outputs": [
    {
     "data": {
      "text/plain": [
       "<AxesSubplot:>"
      ]
     },
     "execution_count": 16,
     "metadata": {},
     "output_type": "execute_result"
    },
    {
     "data": {
      "image/png": "[encoded data removed]",
      "text/plain": [
       "<Figure size 720x432 with 1 Axes>"
      ]
     },
     "metadata": {
      "needs_background": "light"
     },
     "output_type": "display_data"
    }
   ],
   "source": [
    "data['Price'].hist(bins=100, figsize=(10,6))"
   ]
  },
  {
   "cell_type": "markdown",
   "metadata": {},
   "source": [
    "Для лучшего качества обучения моделей нужно взять стоимость автомобилей выше 350 и менее 11700 евро. То что меньше 350 - это уже \"дрова\", а что выше 11700 - высокая цена малого количества автомобилей, много выбросов."
   ]
  },
  {
   "cell_type": "code",
   "execution_count": 17,
   "metadata": {},
   "outputs": [
    {
     "data": {
      "text/plain": [
       "Text(0.5, 1.0, 'Количество объявлений с авто по цене')"
      ]
     },
     "execution_count": 17,
     "metadata": {},
     "output_type": "execute_result"
    },
    {
     "data": {
      "image/png": "[encoded data removed]",
      "text/plain": [
       "<Figure size 720x288 with 1 Axes>"
      ]
     },
     "metadata": {
      "needs_background": "light"
     },
     "output_type": "display_data"
    }
   ],
   "source": [
    "data = data.query('350 <= Price <= 11700')\n",
    "data['Price'].hist(bins=50, figsize=(10,4))\n",
    "plt.title('Количество объявлений с авто по цене')"
   ]
  },
  {
   "cell_type": "code",
   "execution_count": 18,
   "metadata": {},
   "outputs": [],
   "source": [
    "data['Gearbox'] = data['Gearbox'].fillna('manual')\n",
    "data['Model'] = data['Model'].fillna(0)\n",
    "data['NotRepaired'] = data['NotRepaired'].fillna('no')"
   ]
  },
  {
   "cell_type": "code",
   "execution_count": 19,
   "metadata": {},
   "outputs": [
    {
     "data": {
      "text/plain": [
       "Text(0.5, 1.0, 'Количество объявлений с машинами по лошадиным силам')"
      ]
     },
     "execution_count": 19,
     "metadata": {},
     "output_type": "execute_result"
    },
    {
     "data": {
      "image/png": "[encoded data removed]",
      "text/plain": [
       "<Figure size 720x288 with 1 Axes>"
      ]
     },
     "metadata": {
      "needs_background": "light"
     },
     "output_type": "display_data"
    }
   ],
   "source": [
    "data['Power'].hist(bins=100,figsize=(10,4))\n",
    "plt.title('Количество объявлений с машинами по лошадиным силам')"
   ]
  },
  {
   "cell_type": "code",
   "execution_count": 20,
   "metadata": {},
   "outputs": [
    {
     "data": {
      "text/plain": [
       "Text(0.5, 1.0, 'Количество объявлений с машинами по лошадиным силам')"
      ]
     },
     "execution_count": 20,
     "metadata": {},
     "output_type": "execute_result"
    },
    {
     "data": {
      "image/png": "[encoded data removed]",
      "text/plain": [
       "<Figure size 720x288 with 1 Axes>"
      ]
     },
     "metadata": {
      "needs_background": "light"
     },
     "output_type": "display_data"
    }
   ],
   "source": [
    "data = data.query('0 < Power < 700')\n",
    "data['Power'].hist(bins=100,figsize=(10,4))\n",
    "plt.title('Количество объявлений с машинами по лошадиным силам')"
   ]
  },
  {
   "cell_type": "markdown",
   "metadata": {},
   "source": [
    "Из гистограммы видно, что автомобилей свыше 350 л.с. очень мало, удалим лишние данные."
   ]
  },
  {
   "cell_type": "code",
   "execution_count": 21,
   "metadata": {},
   "outputs": [
    {
     "data": {
      "text/plain": [
       "Text(0.5, 1.0, 'Количество объявлений с машинами по лошадиным силам')"
      ]
     },
     "execution_count": 21,
     "metadata": {},
     "output_type": "execute_result"
    },
    {
     "data": {
      "image/png": "[encoded data removed]",
      "text/plain": [
       "<Figure size 720x288 with 1 Axes>"
      ]
     },
     "metadata": {
      "needs_background": "light"
     },
     "output_type": "display_data"
    }
   ],
   "source": [
    "data = data.query('20 < Power < 350')\n",
    "data['Power'].hist(bins=60,figsize=(10,4))\n",
    "plt.title('Количество объявлений с машинами по лошадиным силам')"
   ]
  },
  {
   "cell_type": "code",
   "execution_count": 22,
   "metadata": {},
   "outputs": [],
   "source": [
    "data[\"VehicleType\"] = (data.groupby(['Brand', 'Model'])['VehicleType']\n",
    "                           .transform(lambda x: x.fillna(value=(x.mode()[0] if not x.mode().empty else \"111\"))))\n",
    "data[\"FuelType\"] = (data.groupby(['Brand', 'Model'])['FuelType']\n",
    "                        .transform(lambda x: x.fillna(value=(x.mode()[0] if not x.mode().empty else \"111\"))))"
   ]
  },
  {
   "cell_type": "code",
   "execution_count": 23,
   "metadata": {},
   "outputs": [
    {
     "name": "stdout",
     "output_type": "stream",
     "text": [
      "Кол-во объявлений по типу кузова\n"
     ]
    },
    {
     "data": {
      "text/plain": [
       "sedan          76078\n",
       "small          66358\n",
       "wagon          52083\n",
       "bus            23780\n",
       "convertible    14974\n",
       "coupe          11271\n",
       "suv             7082\n",
       "other           2117\n",
       "Name: VehicleType, dtype: int64"
      ]
     },
     "execution_count": 23,
     "metadata": {},
     "output_type": "execute_result"
    }
   ],
   "source": [
    "print('Кол-во объявлений по типу кузова')\n",
    "data[\"VehicleType\"].value_counts()"
   ]
  },
  {
   "cell_type": "code",
   "execution_count": 24,
   "metadata": {},
   "outputs": [
    {
     "data": {
      "text/plain": [
       "level_0              0\n",
       "index                0\n",
       "DateCrawled          0\n",
       "Price                0\n",
       "VehicleType          0\n",
       "RegistrationYear     0\n",
       "Gearbox              0\n",
       "Power                0\n",
       "Model                0\n",
       "Kilometer            0\n",
       "RegistrationMonth    0\n",
       "FuelType             0\n",
       "Brand                0\n",
       "NotRepaired          0\n",
       "DateCreated          0\n",
       "NumberOfPictures     0\n",
       "PostalCode           0\n",
       "LastSeen             0\n",
       "dtype: int64"
      ]
     },
     "execution_count": 24,
     "metadata": {},
     "output_type": "execute_result"
    }
   ],
   "source": [
    "data.isna().sum()"
   ]
  },
  {
   "cell_type": "code",
   "execution_count": 25,
   "metadata": {},
   "outputs": [],
   "source": [
    "data = data[['Brand',\n",
    "             'Model',\n",
    "             'VehicleType', \n",
    "             'RegistrationYear',\n",
    "             'Gearbox', \n",
    "             'Power',\n",
    "             'Kilometer',\n",
    "             'FuelType',\n",
    "             'NotRepaired',\n",
    "             'Price'\n",
    "            ]]"
   ]
  },
  {
   "cell_type": "code",
   "execution_count": 26,
   "metadata": {},
   "outputs": [
    {
     "name": "stdout",
     "output_type": "stream",
     "text": [
      "<class 'pandas.core.frame.DataFrame'>\n",
      "Int64Index: 253743 entries, 2 to 339224\n",
      "Data columns (total 10 columns):\n",
      " #   Column            Non-Null Count   Dtype \n",
      "---  ------            --------------   ----- \n",
      " 0   Brand             253743 non-null  object\n",
      " 1   Model             253743 non-null  object\n",
      " 2   VehicleType       253743 non-null  object\n",
      " 3   RegistrationYear  253743 non-null  int64 \n",
      " 4   Gearbox           253743 non-null  object\n",
      " 5   Power             253743 non-null  int64 \n",
      " 6   Kilometer         253743 non-null  int64 \n",
      " 7   FuelType          253743 non-null  object\n",
      " 8   NotRepaired       253743 non-null  object\n",
      " 9   Price             253743 non-null  int64 \n",
      "dtypes: int64(4), object(6)\n",
      "memory usage: 21.3+ MB\n"
     ]
    }
   ],
   "source": [
    "data.info()"
   ]
  },
  {
   "cell_type": "markdown",
   "metadata": {},
   "source": [
    "### Подготовка данных к обучению"
   ]
  },
  {
   "cell_type": "markdown",
   "metadata": {},
   "source": [
    "Для избегания дамми ловушек приведем данные к стандарту OHE.  \n",
    "Разделим выборки на тренировочную и валидационную, выделим обучающие и целевые признаки."
   ]
  },
  {
   "cell_type": "code",
   "execution_count": 27,
   "metadata": {},
   "outputs": [
    {
     "name": "stdout",
     "output_type": "stream",
     "text": [
      "Размер обучающей выборки: (152245, 304)\n",
      "Размер валидационной выборки: (50749, 304)\n",
      "Размер тестовой выборки: (50749, 304)\n"
     ]
    }
   ],
   "source": [
    "data_ohe = pd.get_dummies(data, drop_first=True)\n",
    "\n",
    "data_traid, data_test = train_test_split(data_ohe, test_size=0.2, random_state=12345)\n",
    "data_train, data_valid = train_test_split(data_traid, test_size=0.25, random_state=12345)\n",
    "\n",
    "features_train = data_train.drop(['Price'], axis=1)\n",
    "target_train = data_train['Price']\n",
    "\n",
    "features_valid = data_valid.drop(['Price'], axis=1)\n",
    "target_valid = data_valid['Price']\n",
    "\n",
    "features_test = data_test.drop(['Price'], axis=1)\n",
    "target_test = data_test['Price']\n",
    "\n",
    "# Стандартизация данных\n",
    "\n",
    "numeric_columns = ['RegistrationYear', 'Power', 'Kilometer']\n",
    "\n",
    "scaler = StandardScaler()\n",
    "scaler.fit(features_train[numeric_columns])\n",
    "features_train[numeric_columns] = scaler.transform(features_train[numeric_columns])\n",
    "features_valid[numeric_columns] = scaler.transform(features_valid[numeric_columns])\n",
    "features_test[numeric_columns] = scaler.transform(features_test[numeric_columns])\n",
    "\n",
    "print('Размер обучающей выборки:', features_train.shape)\n",
    "print('Размер валидационной выборки:', features_valid.shape)\n",
    "print('Размер тестовой выборки:', features_test.shape)"
   ]
  },
  {
   "cell_type": "markdown",
   "metadata": {},
   "source": [
    "## Обучение моделей"
   ]
  },
  {
   "cell_type": "code",
   "execution_count": 28,
   "metadata": {},
   "outputs": [],
   "source": [
    "# Создам словарь для записи всех данных для дальнейшего сравнения\n",
    "\n",
    "models_result = {}"
   ]
  },
  {
   "cell_type": "markdown",
   "metadata": {},
   "source": [
    "### Линейная регрессия"
   ]
  },
  {
   "cell_type": "code",
   "execution_count": 29,
   "metadata": {
    "scrolled": false
   },
   "outputs": [
    {
     "name": "stdout",
     "output_type": "stream",
     "text": [
      "RMSE на обучающей выборке 1808.1317137674573\n",
      "RMSE на валидационной выборке 1814.885575454873\n",
      "CPU times: user 10.8 s, sys: 3.59 s, total: 14.4 s\n",
      "Wall time: 14.6 s\n"
     ]
    }
   ],
   "source": [
    "%%time\n",
    "\n",
    "model = LinearRegression().fit(features_train, target_train)\n",
    "predictions = model.predict(features_train)\n",
    "mse = mean_squared_error(target_train, predictions)\n",
    "rmse_train = mse ** 0.5\n",
    "print('RMSE на обучающей выборке', rmse_train)\n",
    "    \n",
    "predictions_valid = model.predict(features_valid)\n",
    "mse_valid = mean_squared_error(target_valid, predictions_valid)\n",
    "rmse_valid = mse_valid ** 0.5\n",
    "print('RMSE на валидационной выборке', rmse_valid)\n",
    "\n",
    "models_result['LinearRegression'] = [rmse_valid, '14 s']"
   ]
  },
  {
   "cell_type": "markdown",
   "metadata": {},
   "source": [
    "### DecisionTreeRegressor"
   ]
  },
  {
   "cell_type": "code",
   "execution_count": 30,
   "metadata": {},
   "outputs": [
    {
     "name": "stdout",
     "output_type": "stream",
     "text": [
      "max_depth = 14 : RMSE на обучающей выборке 1151.1035733462163 ---- На валидационной: 1331.241694178541\n",
      "max_depth = 15 : RMSE на обучающей выборке 1103.8617109885524 ---- На валидационной: 1327.2131741137496\n",
      "max_depth = 16 : RMSE на обучающей выборке 1060.3301506135572 ---- На валидационной: 1318.1549574186224\n",
      "max_depth = 17 : RMSE на обучающей выборке 1018.3329143726233 ---- На валидационной: 1318.5473504307606\n",
      "max_depth = 18 : RMSE на обучающей выборке 978.7728146895461 ---- На валидационной: 1321.0436526176284\n",
      "max_depth = 19 : RMSE на обучающей выборке 944.6144294865252 ---- На валидационной: 1318.1799052515328\n",
      "max_depth = 20 : RMSE на обучающей выборке 913.7189793870796 ---- На валидационной: 1324.852232044282\n",
      "CPU times: user 24.9 s, sys: 2.61 s, total: 27.5 s\n",
      "Wall time: 27.6 s\n"
     ]
    }
   ],
   "source": [
    "%%time\n",
    "for depth in np.arange(14, 21):\n",
    "    model = DecisionTreeRegressor(max_depth=depth, random_state=12345).fit(features_train, target_train)\n",
    "    \n",
    "    predictions = model.predict(features_train)\n",
    "    mse = mean_squared_error(target_train, predictions)\n",
    "    rmse = mse ** 0.5\n",
    "    \n",
    "    predictions_valid = model.predict(features_valid)\n",
    "    mse_valid = mean_squared_error(target_valid, predictions_valid)\n",
    "    rmse_valid = mse_valid ** 0.5\n",
    "    print(\"max_depth =\", depth, \":\", \"RMSE на обучающей выборке\", rmse, '---- На валидационной:', rmse_valid)"
   ]
  },
  {
   "cell_type": "markdown",
   "metadata": {},
   "source": [
    "При увеличении глубины модель переобучается и качество падает. "
   ]
  },
  {
   "cell_type": "code",
   "execution_count": 31,
   "metadata": {},
   "outputs": [
    {
     "name": "stdout",
     "output_type": "stream",
     "text": [
      "CPU times: user 3.54 s, sys: 366 ms, total: 3.9 s\n",
      "Wall time: 3.91 s\n"
     ]
    }
   ],
   "source": [
    "%%time\n",
    "model = DecisionTreeRegressor(max_depth=16, random_state=12345).fit(features_train, target_train)\n",
    "\n",
    "predictions = model.predict(features_train)\n",
    "mse = mean_squared_error(target_train, predictions)\n",
    "rmse_train = mse ** 0.5\n",
    "predictions_valid = model.predict(features_valid)\n",
    "mse_valid = mean_squared_error(target_valid, predictions_valid)\n",
    "rmse_valid = mse_valid ** 0.5\n",
    "\n",
    "models_result['DecisionTreeRegressor'] = [rmse_valid, '4.02 s']"
   ]
  },
  {
   "cell_type": "markdown",
   "metadata": {},
   "source": [
    "### CatBoost"
   ]
  },
  {
   "cell_type": "code",
   "execution_count": 32,
   "metadata": {},
   "outputs": [],
   "source": [
    "traid, test = train_test_split(data, test_size=0.2, random_state=12345)\n",
    "train, valid = train_test_split(traid, test_size=0.25, random_state=12345)\n",
    "features_train1 = train.drop(['Price'], axis=1)\n",
    "features_valid1 = valid.drop(['Price'], axis=1)\n",
    "features_test1 = test.drop(['Price'], axis=1)"
   ]
  },
  {
   "cell_type": "code",
   "execution_count": 33,
   "metadata": {},
   "outputs": [
    {
     "name": "stdout",
     "output_type": "stream",
     "text": [
      "1181.4322219106048\n",
      "CPU times: user 22.8 s, sys: 225 ms, total: 23 s\n",
      "Wall time: 23.4 s\n"
     ]
    }
   ],
   "source": [
    "%%time\n",
    "\n",
    "model1 = CatBoostRegressor(learning_rate=0.5, \n",
    "                          iterations =200,\n",
    "                          random_state=12345, \n",
    "                          verbose=False,\n",
    "                          cat_features=['VehicleType','FuelType','Brand','Model','Gearbox','NotRepaired']) \n",
    "model1.fit(features_train1, target_train)\n",
    "target_predict1 = model1.predict(features_valid1)\n",
    "rmse_valid = mean_squared_error(target_valid, target_predict1) ** 0.5\n",
    "print(rmse_valid)\n",
    "\n",
    "models_result['CatBoostRegressor'] = [rmse_valid, '22.8 s']"
   ]
  },
  {
   "cell_type": "markdown",
   "metadata": {},
   "source": [
    "### LGBMRegressor"
   ]
  },
  {
   "cell_type": "code",
   "execution_count": 34,
   "metadata": {},
   "outputs": [
    {
     "name": "stdout",
     "output_type": "stream",
     "text": [
      "rmse: 1219.4919116522024, глубина: 1, размер шага: 0.1\n",
      "CPU times: user 6.02 s, sys: 248 ms, total: 6.27 s\n",
      "Wall time: 6.3 s\n"
     ]
    }
   ],
   "source": [
    "%%time\n",
    "best_score = 1e12\n",
    "best_depth = 0\n",
    "for rate in [0.1]: # [0.1, 0.24, 0.31, 0.5, 0.7]:\n",
    "    for depth in [1]: # range(1, 41):\n",
    "        model4 = LGBMRegressor(learning_rate=rate, random_seed=12345)\n",
    "        model4.fit(features_train, target_train)\n",
    "        prediction = model4.predict(features_valid)\n",
    "        score = mean_squared_error(target_valid, prediction)\n",
    "        if score < best_score:\n",
    "            best_score = score\n",
    "            best_depth = depth\n",
    "            best_rate = rate\n",
    "print(f'rmse: {best_score ** 0.5}, глубина: {best_depth}, размер шага: {best_rate}')"
   ]
  },
  {
   "cell_type": "code",
   "execution_count": 35,
   "metadata": {},
   "outputs": [],
   "source": [
    "rmse = best_score ** 0.5\n",
    "models_result['LGBMRegressor'] = [rmse, '6.69 s']"
   ]
  },
  {
   "cell_type": "markdown",
   "metadata": {},
   "source": [
    "## Анализ моделей"
   ]
  },
  {
   "cell_type": "markdown",
   "metadata": {},
   "source": [
    "Выведем сводную таблицу:"
   ]
  },
  {
   "cell_type": "code",
   "execution_count": 36,
   "metadata": {
    "scrolled": true
   },
   "outputs": [
    {
     "name": "stdout",
     "output_type": "stream",
     "text": [
      "                              RMSE   Speed\n",
      "LinearRegression       1814.885575    14 s\n",
      "DecisionTreeRegressor  1318.154957  4.02 s\n",
      "CatBoostRegressor      1181.432222  22.8 s\n",
      "LGBMRegressor          1219.491912  6.69 s\n"
     ]
    }
   ],
   "source": [
    "data_result = pd.DataFrame.from_dict(data=models_result, columns=['RMSE', 'Speed'], orient='index')\n",
    "print(data_result)"
   ]
  },
  {
   "cell_type": "markdown",
   "metadata": {},
   "source": [
    "**Вывод:**  \n",
    "\n",
    "1. Лучшую метрику RMSE показала модель CatBoostRegressor, немного хуже - LGBMRegressor\n",
    "2. Худшее значение метрики RMSE показала модель линейной регрессии LinearRegression\n",
    "3. Лучшее время обучения модели показала модель DecisionTreeRegressor, немного дольше - LGBMRegressor\n",
    "4. Худшее время показала модель CatBoostRegressor.\n",
    "\n",
    "Лучшей моделью по точности результата и времени является **LGBMRegressor**.\n",
    "Модель **CatBoostRegressor** показала результат немного лучше, но работает дольше, потому также заслуживает внимания.\n",
    "\n",
    "Проверим модели на тестовых данных:"
   ]
  },
  {
   "cell_type": "code",
   "execution_count": 37,
   "metadata": {},
   "outputs": [
    {
     "name": "stdout",
     "output_type": "stream",
     "text": [
      "RMSE на тестовой выборке у модели CatBoostRegressor: 1168.539285310957\n",
      "CPU times: user 22.1 s, sys: 187 ms, total: 22.3 s\n",
      "Wall time: 22.6 s\n"
     ]
    }
   ],
   "source": [
    "%%time\n",
    "\n",
    "model_cat = CatBoostRegressor(learning_rate=0.5, \n",
    "                          iterations =200,\n",
    "                          random_state=12345, \n",
    "                          verbose=False,\n",
    "                          cat_features=['VehicleType','FuelType','Brand','Model','Gearbox','NotRepaired']) \n",
    "model_cat.fit(features_train1, target_train)\n",
    "target_predict1 = model_cat.predict(features_test1)\n",
    "rmse_test = mean_squared_error(target_test, target_predict1) ** 0.5\n",
    "print('RMSE на тестовой выборке у модели CatBoostRegressor:', rmse_test)"
   ]
  },
  {
   "cell_type": "code",
   "execution_count": 40,
   "metadata": {},
   "outputs": [
    {
     "name": "stdout",
     "output_type": "stream",
     "text": [
      "RMSE на тестовой выборке у модели LGBMRegressor: 1208.6470671261345\n",
      "CPU times: user 5.91 s, sys: 246 ms, total: 6.16 s\n",
      "Wall time: 6.17 s\n"
     ]
    }
   ],
   "source": [
    "%%time\n",
    "\n",
    "best_score = 1e12\n",
    "best_depth = 0\n",
    "for rate in [0.1]:\n",
    "    for depth in [1]:\n",
    "        model_lgb = LGBMRegressor(learning_rate=rate, random_seed=12345)\n",
    "        model_lgb.fit(features_train, target_train)\n",
    "        prediction = model_lgb.predict(features_test)\n",
    "        score = mean_squared_error(target_test, prediction)\n",
    "        if score < best_score:\n",
    "            best_score = score\n",
    "            best_depth = depth\n",
    "            best_rate = rate\n",
    "rmse = best_score ** 0.5\n",
    "print('RMSE на тестовой выборке у модели LGBMRegressor:', rmse)"
   ]
  },
  {
   "cell_type": "markdown",
   "metadata": {},
   "source": [
    "На тестовой выборке обе модели немного улучшили метрику RMSE.  \n",
    "\n",
    "Если важен результат, то рекомендуется использовать модель **CatBoostRegressor**  \n",
    "Если важна скорость работы - очевидный выбор **LGBMRegressor**"
   ]
  },
  {
   "cell_type": "markdown",
   "metadata": {},
   "source": [
    "Рекомендации сервису:  \n",
    "- Седлать возможной выбор года выпуска автомобиль от 1900 и до текущего года, чтобы не было возможности выбрать год из будущего или тот, когда автомобилей ещё не было.  \n",
    "- Ввести больше градаций в пробеге автомобиля и убрать максимум 150000 км.  \n",
    "- Убрать выбор количества лошадиных сил в авто до 20000, снизить это значение до 2000 л.с."
   ]
  }
 ],
 "metadata": {
  "ExecuteTimeLog": [
   {
    "duration": 1569,
    "start_time": "2022-06-06T17:22:40.899Z"
   },
   {
    "duration": 4,
    "start_time": "2022-06-06T17:23:25.665Z"
   },
   {
    "duration": 3661,
    "start_time": "2022-06-06T17:24:38.150Z"
   },
   {
    "duration": 1199,
    "start_time": "2022-06-06T17:25:04.500Z"
   },
   {
    "duration": 1812,
    "start_time": "2022-06-06T17:33:35.605Z"
   },
   {
    "duration": 6313,
    "start_time": "2022-06-06T17:35:03.254Z"
   },
   {
    "duration": 1834,
    "start_time": "2022-06-06T17:36:05.506Z"
   },
   {
    "duration": 12,
    "start_time": "2022-06-06T17:38:53.520Z"
   },
   {
    "duration": 155218,
    "start_time": "2022-06-06T17:39:02.173Z"
   },
   {
    "duration": 110,
    "start_time": "2022-06-06T17:43:21.010Z"
   },
   {
    "duration": 152566,
    "start_time": "2022-06-06T17:47:33.306Z"
   },
   {
    "duration": 173,
    "start_time": "2022-06-06T17:55:59.818Z"
   },
   {
    "duration": 1206,
    "start_time": "2022-06-12T10:49:47.984Z"
   },
   {
    "duration": 1184,
    "start_time": "2022-06-12T10:49:49.193Z"
   },
   {
    "duration": 93,
    "start_time": "2022-06-12T10:49:50.378Z"
   },
   {
    "duration": 125,
    "start_time": "2022-06-12T10:49:50.472Z"
   },
   {
    "duration": 41,
    "start_time": "2022-06-12T10:49:50.599Z"
   },
   {
    "duration": 1418,
    "start_time": "2022-06-12T10:50:30.614Z"
   },
   {
    "duration": 43,
    "start_time": "2022-06-12T10:50:42.492Z"
   },
   {
    "duration": 24,
    "start_time": "2022-06-12T10:52:27.033Z"
   },
   {
    "duration": 45,
    "start_time": "2022-06-12T11:03:38.077Z"
   },
   {
    "duration": 31,
    "start_time": "2022-06-12T11:05:25.187Z"
   },
   {
    "duration": 26,
    "start_time": "2022-06-12T11:06:30.533Z"
   },
   {
    "duration": 114,
    "start_time": "2022-06-12T11:06:57.738Z"
   },
   {
    "duration": 8,
    "start_time": "2022-06-12T11:17:48.856Z"
   },
   {
    "duration": 9,
    "start_time": "2022-06-12T12:08:39.635Z"
   },
   {
    "duration": 34,
    "start_time": "2022-06-12T12:11:11.281Z"
   },
   {
    "duration": 31,
    "start_time": "2022-06-12T12:16:39.188Z"
   },
   {
    "duration": 369,
    "start_time": "2022-06-12T13:06:30.085Z"
   },
   {
    "duration": 307,
    "start_time": "2022-06-12T13:06:55.743Z"
   },
   {
    "duration": 333,
    "start_time": "2022-06-12T13:07:30.252Z"
   },
   {
    "duration": 295,
    "start_time": "2022-06-12T13:07:40.322Z"
   },
   {
    "duration": 45,
    "start_time": "2022-06-12T13:08:24.311Z"
   },
   {
    "duration": 364,
    "start_time": "2022-06-12T13:08:48.140Z"
   },
   {
    "duration": 1151,
    "start_time": "2022-06-12T13:09:01.775Z"
   },
   {
    "duration": 984,
    "start_time": "2022-06-12T13:09:02.928Z"
   },
   {
    "duration": 89,
    "start_time": "2022-06-12T13:09:03.914Z"
   },
   {
    "duration": 139,
    "start_time": "2022-06-12T13:09:04.005Z"
   },
   {
    "duration": 26,
    "start_time": "2022-06-12T13:09:04.145Z"
   },
   {
    "duration": 32,
    "start_time": "2022-06-12T13:09:04.172Z"
   },
   {
    "duration": 40,
    "start_time": "2022-06-12T13:09:04.228Z"
   },
   {
    "duration": 18,
    "start_time": "2022-06-12T13:09:04.270Z"
   },
   {
    "duration": 43,
    "start_time": "2022-06-12T13:09:04.289Z"
   },
   {
    "duration": 46,
    "start_time": "2022-06-12T13:09:04.334Z"
   },
   {
    "duration": 326,
    "start_time": "2022-06-12T13:09:04.381Z"
   },
   {
    "duration": 362,
    "start_time": "2022-06-12T13:09:04.708Z"
   },
   {
    "duration": 284,
    "start_time": "2022-06-12T13:09:23.316Z"
   },
   {
    "duration": 255,
    "start_time": "2022-06-12T13:09:33.758Z"
   },
   {
    "duration": 242,
    "start_time": "2022-06-12T13:09:45.381Z"
   },
   {
    "duration": 314,
    "start_time": "2022-06-12T13:09:50.090Z"
   },
   {
    "duration": 291,
    "start_time": "2022-06-12T13:13:49.217Z"
   },
   {
    "duration": 312,
    "start_time": "2022-06-12T13:14:30.130Z"
   },
   {
    "duration": 237,
    "start_time": "2022-06-12T13:15:05.279Z"
   },
   {
    "duration": 1216,
    "start_time": "2022-06-12T13:16:34.271Z"
   },
   {
    "duration": 970,
    "start_time": "2022-06-12T13:16:35.489Z"
   },
   {
    "duration": 118,
    "start_time": "2022-06-12T13:16:36.464Z"
   },
   {
    "duration": 185,
    "start_time": "2022-06-12T13:16:36.584Z"
   },
   {
    "duration": 25,
    "start_time": "2022-06-12T13:16:36.771Z"
   },
   {
    "duration": 58,
    "start_time": "2022-06-12T13:16:36.798Z"
   },
   {
    "duration": 36,
    "start_time": "2022-06-12T13:16:36.858Z"
   },
   {
    "duration": 11,
    "start_time": "2022-06-12T13:16:36.896Z"
   },
   {
    "duration": 52,
    "start_time": "2022-06-12T13:16:36.910Z"
   },
   {
    "duration": 32,
    "start_time": "2022-06-12T13:16:36.964Z"
   },
   {
    "duration": 409,
    "start_time": "2022-06-12T13:16:36.997Z"
   },
   {
    "duration": 238,
    "start_time": "2022-06-12T13:16:37.408Z"
   },
   {
    "duration": 301,
    "start_time": "2022-06-12T13:17:03.287Z"
   },
   {
    "duration": 1264,
    "start_time": "2022-06-12T13:17:10.388Z"
   },
   {
    "duration": 983,
    "start_time": "2022-06-12T13:17:11.654Z"
   },
   {
    "duration": 103,
    "start_time": "2022-06-12T13:17:12.642Z"
   },
   {
    "duration": 127,
    "start_time": "2022-06-12T13:17:12.747Z"
   },
   {
    "duration": 26,
    "start_time": "2022-06-12T13:17:12.876Z"
   },
   {
    "duration": 60,
    "start_time": "2022-06-12T13:17:12.904Z"
   },
   {
    "duration": 36,
    "start_time": "2022-06-12T13:17:12.965Z"
   },
   {
    "duration": 9,
    "start_time": "2022-06-12T13:17:13.003Z"
   },
   {
    "duration": 51,
    "start_time": "2022-06-12T13:17:13.013Z"
   },
   {
    "duration": 41,
    "start_time": "2022-06-12T13:17:13.066Z"
   },
   {
    "duration": 352,
    "start_time": "2022-06-12T13:17:13.127Z"
   },
   {
    "duration": 264,
    "start_time": "2022-06-12T13:17:13.480Z"
   },
   {
    "duration": 218,
    "start_time": "2022-06-12T13:24:59.156Z"
   },
   {
    "duration": 55,
    "start_time": "2022-06-12T13:25:09.601Z"
   },
   {
    "duration": 252,
    "start_time": "2022-06-12T13:27:16.803Z"
   },
   {
    "duration": 244,
    "start_time": "2022-06-12T13:27:59.298Z"
   },
   {
    "duration": 1265,
    "start_time": "2022-06-12T13:28:09.898Z"
   },
   {
    "duration": 950,
    "start_time": "2022-06-12T13:28:11.165Z"
   },
   {
    "duration": 93,
    "start_time": "2022-06-12T13:28:12.117Z"
   },
   {
    "duration": 141,
    "start_time": "2022-06-12T13:28:12.212Z"
   },
   {
    "duration": 25,
    "start_time": "2022-06-12T13:28:12.354Z"
   },
   {
    "duration": 52,
    "start_time": "2022-06-12T13:28:12.381Z"
   },
   {
    "duration": 38,
    "start_time": "2022-06-12T13:28:12.435Z"
   },
   {
    "duration": 7,
    "start_time": "2022-06-12T13:28:12.474Z"
   },
   {
    "duration": 50,
    "start_time": "2022-06-12T13:28:12.483Z"
   },
   {
    "duration": 58,
    "start_time": "2022-06-12T13:28:12.535Z"
   },
   {
    "duration": 337,
    "start_time": "2022-06-12T13:28:12.595Z"
   },
   {
    "duration": 245,
    "start_time": "2022-06-12T13:28:12.934Z"
   },
   {
    "duration": 63,
    "start_time": "2022-06-12T13:28:13.181Z"
   },
   {
    "duration": 247,
    "start_time": "2022-06-12T13:28:13.246Z"
   },
   {
    "duration": 1162,
    "start_time": "2022-06-12T13:30:10.404Z"
   },
   {
    "duration": 1016,
    "start_time": "2022-06-12T13:30:11.568Z"
   },
   {
    "duration": 105,
    "start_time": "2022-06-12T13:30:12.586Z"
   },
   {
    "duration": 141,
    "start_time": "2022-06-12T13:30:12.693Z"
   },
   {
    "duration": 32,
    "start_time": "2022-06-12T13:30:12.838Z"
   },
   {
    "duration": 34,
    "start_time": "2022-06-12T13:30:12.872Z"
   },
   {
    "duration": 62,
    "start_time": "2022-06-12T13:30:12.908Z"
   },
   {
    "duration": 17,
    "start_time": "2022-06-12T13:30:12.972Z"
   },
   {
    "duration": 52,
    "start_time": "2022-06-12T13:30:12.990Z"
   },
   {
    "duration": 44,
    "start_time": "2022-06-12T13:30:13.044Z"
   },
   {
    "duration": 379,
    "start_time": "2022-06-12T13:30:13.089Z"
   },
   {
    "duration": 264,
    "start_time": "2022-06-12T13:30:13.469Z"
   },
   {
    "duration": 62,
    "start_time": "2022-06-12T13:30:13.735Z"
   },
   {
    "duration": 277,
    "start_time": "2022-06-12T13:30:13.799Z"
   },
   {
    "duration": 236,
    "start_time": "2022-06-12T13:34:35.426Z"
   },
   {
    "duration": 225,
    "start_time": "2022-06-12T13:36:48.196Z"
   },
   {
    "duration": 340,
    "start_time": "2022-06-12T13:36:55.975Z"
   },
   {
    "duration": 36,
    "start_time": "2022-06-12T14:08:46.283Z"
   },
   {
    "duration": 26,
    "start_time": "2022-06-12T14:08:54.477Z"
   },
   {
    "duration": 17,
    "start_time": "2022-06-12T14:12:18.539Z"
   },
   {
    "duration": 27,
    "start_time": "2022-06-12T14:13:18.347Z"
   },
   {
    "duration": 237,
    "start_time": "2022-06-12T14:14:45.840Z"
   },
   {
    "duration": 251,
    "start_time": "2022-06-12T14:15:09.714Z"
   },
   {
    "duration": 252,
    "start_time": "2022-06-12T14:15:53.393Z"
   },
   {
    "duration": 218,
    "start_time": "2022-06-12T14:19:31.666Z"
   },
   {
    "duration": 37,
    "start_time": "2022-06-12T14:23:37.759Z"
   },
   {
    "duration": 1090,
    "start_time": "2022-06-12T14:23:48.344Z"
   },
   {
    "duration": 1181,
    "start_time": "2022-06-12T14:23:49.436Z"
   },
   {
    "duration": 82,
    "start_time": "2022-06-12T14:23:50.619Z"
   },
   {
    "duration": 140,
    "start_time": "2022-06-12T14:23:50.702Z"
   },
   {
    "duration": 33,
    "start_time": "2022-06-12T14:23:50.843Z"
   },
   {
    "duration": 52,
    "start_time": "2022-06-12T14:23:50.878Z"
   },
   {
    "duration": 33,
    "start_time": "2022-06-12T14:23:50.932Z"
   },
   {
    "duration": 13,
    "start_time": "2022-06-12T14:23:50.967Z"
   },
   {
    "duration": 81,
    "start_time": "2022-06-12T14:23:50.983Z"
   },
   {
    "duration": 32,
    "start_time": "2022-06-12T14:23:51.067Z"
   },
   {
    "duration": 335,
    "start_time": "2022-06-12T14:23:51.101Z"
   },
   {
    "duration": 260,
    "start_time": "2022-06-12T14:23:51.438Z"
   },
   {
    "duration": 68,
    "start_time": "2022-06-12T14:23:51.700Z"
   },
   {
    "duration": 250,
    "start_time": "2022-06-12T14:23:51.771Z"
   },
   {
    "duration": 52,
    "start_time": "2022-06-12T14:23:52.028Z"
   },
   {
    "duration": 353,
    "start_time": "2022-06-12T14:23:52.082Z"
   },
   {
    "duration": 444,
    "start_time": "2022-06-12T14:23:52.438Z"
   },
   {
    "duration": 236,
    "start_time": "2022-06-12T14:23:52.884Z"
   },
   {
    "duration": 341,
    "start_time": "2022-06-12T14:29:47.643Z"
   },
   {
    "duration": 1104,
    "start_time": "2022-06-12T14:29:59.531Z"
   },
   {
    "duration": 927,
    "start_time": "2022-06-12T14:30:00.638Z"
   },
   {
    "duration": 97,
    "start_time": "2022-06-12T14:30:01.567Z"
   },
   {
    "duration": 128,
    "start_time": "2022-06-12T14:30:01.667Z"
   },
   {
    "duration": 491,
    "start_time": "2022-06-12T14:30:01.797Z"
   },
   {
    "duration": 39,
    "start_time": "2022-06-12T14:30:02.289Z"
   },
   {
    "duration": 49,
    "start_time": "2022-06-12T14:30:02.330Z"
   },
   {
    "duration": 36,
    "start_time": "2022-06-12T14:30:02.380Z"
   },
   {
    "duration": 66,
    "start_time": "2022-06-12T14:30:02.417Z"
   },
   {
    "duration": 40,
    "start_time": "2022-06-12T14:30:02.486Z"
   },
   {
    "duration": 50,
    "start_time": "2022-06-12T14:30:02.528Z"
   },
   {
    "duration": 333,
    "start_time": "2022-06-12T14:30:02.580Z"
   },
   {
    "duration": 258,
    "start_time": "2022-06-12T14:30:02.915Z"
   },
   {
    "duration": 71,
    "start_time": "2022-06-12T14:30:03.175Z"
   },
   {
    "duration": 233,
    "start_time": "2022-06-12T14:30:03.247Z"
   },
   {
    "duration": 50,
    "start_time": "2022-06-12T14:30:03.482Z"
   },
   {
    "duration": 247,
    "start_time": "2022-06-12T14:30:03.534Z"
   },
   {
    "duration": 380,
    "start_time": "2022-06-12T14:30:03.782Z"
   },
   {
    "duration": 220,
    "start_time": "2022-06-12T14:30:04.163Z"
   },
   {
    "duration": 354,
    "start_time": "2022-06-12T14:30:41.921Z"
   },
   {
    "duration": 346,
    "start_time": "2022-06-12T14:37:32.026Z"
   },
   {
    "duration": 1049,
    "start_time": "2022-06-12T14:37:41.569Z"
   },
   {
    "duration": 886,
    "start_time": "2022-06-12T14:37:42.620Z"
   },
   {
    "duration": 83,
    "start_time": "2022-06-12T14:37:43.508Z"
   },
   {
    "duration": 124,
    "start_time": "2022-06-12T14:37:43.592Z"
   },
   {
    "duration": 434,
    "start_time": "2022-06-12T14:37:43.718Z"
   },
   {
    "duration": 446,
    "start_time": "2022-06-12T14:37:44.154Z"
   },
   {
    "duration": 27,
    "start_time": "2022-06-12T14:37:44.602Z"
   },
   {
    "duration": 45,
    "start_time": "2022-06-12T14:37:44.631Z"
   },
   {
    "duration": 37,
    "start_time": "2022-06-12T14:37:44.679Z"
   },
   {
    "duration": 28,
    "start_time": "2022-06-12T14:37:44.718Z"
   },
   {
    "duration": 66,
    "start_time": "2022-06-12T14:37:44.748Z"
   },
   {
    "duration": 41,
    "start_time": "2022-06-12T14:37:44.816Z"
   },
   {
    "duration": 355,
    "start_time": "2022-06-12T14:37:44.859Z"
   },
   {
    "duration": 247,
    "start_time": "2022-06-12T14:37:45.215Z"
   },
   {
    "duration": 51,
    "start_time": "2022-06-12T14:37:45.463Z"
   },
   {
    "duration": 223,
    "start_time": "2022-06-12T14:37:45.515Z"
   },
   {
    "duration": 40,
    "start_time": "2022-06-12T14:37:45.739Z"
   },
   {
    "duration": 246,
    "start_time": "2022-06-12T14:37:45.781Z"
   },
   {
    "duration": 415,
    "start_time": "2022-06-12T14:37:46.029Z"
   },
   {
    "duration": 223,
    "start_time": "2022-06-12T14:37:46.446Z"
   },
   {
    "duration": 1057,
    "start_time": "2022-06-12T14:48:47.671Z"
   },
   {
    "duration": 915,
    "start_time": "2022-06-12T14:48:48.730Z"
   },
   {
    "duration": 93,
    "start_time": "2022-06-12T14:48:49.648Z"
   },
   {
    "duration": 141,
    "start_time": "2022-06-12T14:48:49.744Z"
   },
   {
    "duration": 478,
    "start_time": "2022-06-12T14:48:49.888Z"
   },
   {
    "duration": 499,
    "start_time": "2022-06-12T14:48:50.368Z"
   },
   {
    "duration": 27,
    "start_time": "2022-06-12T14:48:50.868Z"
   },
   {
    "duration": 45,
    "start_time": "2022-06-12T14:48:50.897Z"
   },
   {
    "duration": 35,
    "start_time": "2022-06-12T14:48:50.944Z"
   },
   {
    "duration": 8,
    "start_time": "2022-06-12T14:48:50.981Z"
   },
   {
    "duration": 58,
    "start_time": "2022-06-12T14:48:50.990Z"
   },
   {
    "duration": 33,
    "start_time": "2022-06-12T14:48:51.049Z"
   },
   {
    "duration": 346,
    "start_time": "2022-06-12T14:48:51.083Z"
   },
   {
    "duration": 242,
    "start_time": "2022-06-12T14:48:51.431Z"
   },
   {
    "duration": 62,
    "start_time": "2022-06-12T14:48:51.675Z"
   },
   {
    "duration": 235,
    "start_time": "2022-06-12T14:48:51.739Z"
   },
   {
    "duration": 52,
    "start_time": "2022-06-12T14:48:51.975Z"
   },
   {
    "duration": 262,
    "start_time": "2022-06-12T14:48:52.030Z"
   },
   {
    "duration": 366,
    "start_time": "2022-06-12T14:48:52.294Z"
   },
   {
    "duration": 231,
    "start_time": "2022-06-12T14:48:52.661Z"
   },
   {
    "duration": 26,
    "start_time": "2022-06-12T15:00:57.953Z"
   },
   {
    "duration": 334,
    "start_time": "2022-06-12T15:02:06.087Z"
   },
   {
    "duration": 14,
    "start_time": "2022-06-12T15:02:43.200Z"
   },
   {
    "duration": 26,
    "start_time": "2022-06-12T15:03:16.530Z"
   },
   {
    "duration": 508,
    "start_time": "2022-06-12T15:04:38.142Z"
   },
   {
    "duration": 83,
    "start_time": "2022-06-12T15:04:55.984Z"
   },
   {
    "duration": 534,
    "start_time": "2022-06-12T15:05:46.899Z"
   },
   {
    "duration": 28,
    "start_time": "2022-06-12T15:05:52.543Z"
   },
   {
    "duration": 144,
    "start_time": "2022-06-12T15:05:54.907Z"
   },
   {
    "duration": 28,
    "start_time": "2022-06-12T15:09:57.762Z"
   },
   {
    "duration": 1113,
    "start_time": "2022-06-12T15:10:02.927Z"
   },
   {
    "duration": 918,
    "start_time": "2022-06-12T15:10:04.042Z"
   },
   {
    "duration": 94,
    "start_time": "2022-06-12T15:10:04.963Z"
   },
   {
    "duration": 126,
    "start_time": "2022-06-12T15:10:05.059Z"
   },
   {
    "duration": 458,
    "start_time": "2022-06-12T15:10:05.186Z"
   },
   {
    "duration": 459,
    "start_time": "2022-06-12T15:10:05.646Z"
   },
   {
    "duration": 26,
    "start_time": "2022-06-12T15:10:06.107Z"
   },
   {
    "duration": 30,
    "start_time": "2022-06-12T15:10:06.135Z"
   },
   {
    "duration": 41,
    "start_time": "2022-06-12T15:10:06.167Z"
   },
   {
    "duration": 11,
    "start_time": "2022-06-12T15:10:06.226Z"
   },
   {
    "duration": 39,
    "start_time": "2022-06-12T15:10:06.239Z"
   },
   {
    "duration": 60,
    "start_time": "2022-06-12T15:10:06.280Z"
   },
   {
    "duration": 350,
    "start_time": "2022-06-12T15:10:06.342Z"
   },
   {
    "duration": 242,
    "start_time": "2022-06-12T15:10:06.694Z"
   },
   {
    "duration": 54,
    "start_time": "2022-06-12T15:10:06.937Z"
   },
   {
    "duration": 236,
    "start_time": "2022-06-12T15:10:06.993Z"
   },
   {
    "duration": 40,
    "start_time": "2022-06-12T15:10:07.231Z"
   },
   {
    "duration": 263,
    "start_time": "2022-06-12T15:10:07.273Z"
   },
   {
    "duration": 354,
    "start_time": "2022-06-12T15:10:07.538Z"
   },
   {
    "duration": 221,
    "start_time": "2022-06-12T15:10:07.893Z"
   },
   {
    "duration": 537,
    "start_time": "2022-06-12T15:10:08.116Z"
   },
   {
    "duration": 25,
    "start_time": "2022-06-12T15:10:08.654Z"
   },
   {
    "duration": 100,
    "start_time": "2022-06-12T15:10:08.681Z"
   },
   {
    "duration": 40,
    "start_time": "2022-06-12T15:10:08.782Z"
   },
   {
    "duration": 67,
    "start_time": "2022-06-12T15:11:23.572Z"
   },
   {
    "duration": 79,
    "start_time": "2022-06-12T15:12:26.382Z"
   },
   {
    "duration": 208,
    "start_time": "2022-06-12T15:13:27.687Z"
   },
   {
    "duration": 114,
    "start_time": "2022-06-12T15:13:35.635Z"
   },
   {
    "duration": 37,
    "start_time": "2022-06-12T15:14:08.371Z"
   },
   {
    "duration": 931,
    "start_time": "2022-06-12T15:14:21.383Z"
   },
   {
    "duration": 884,
    "start_time": "2022-06-12T15:14:22.316Z"
   },
   {
    "duration": 93,
    "start_time": "2022-06-12T15:14:23.202Z"
   },
   {
    "duration": 131,
    "start_time": "2022-06-12T15:14:23.297Z"
   },
   {
    "duration": 420,
    "start_time": "2022-06-12T15:14:23.429Z"
   },
   {
    "duration": 491,
    "start_time": "2022-06-12T15:14:23.851Z"
   },
   {
    "duration": 26,
    "start_time": "2022-06-12T15:14:24.344Z"
   },
   {
    "duration": 35,
    "start_time": "2022-06-12T15:14:24.372Z"
   },
   {
    "duration": 44,
    "start_time": "2022-06-12T15:14:24.408Z"
   },
   {
    "duration": 9,
    "start_time": "2022-06-12T15:14:24.454Z"
   },
   {
    "duration": 30,
    "start_time": "2022-06-12T15:14:24.464Z"
   },
   {
    "duration": 52,
    "start_time": "2022-06-12T15:14:24.496Z"
   },
   {
    "duration": 310,
    "start_time": "2022-06-12T15:14:24.550Z"
   },
   {
    "duration": 220,
    "start_time": "2022-06-12T15:14:24.862Z"
   },
   {
    "duration": 59,
    "start_time": "2022-06-12T15:14:25.083Z"
   },
   {
    "duration": 236,
    "start_time": "2022-06-12T15:14:25.144Z"
   },
   {
    "duration": 49,
    "start_time": "2022-06-12T15:14:25.381Z"
   },
   {
    "duration": 234,
    "start_time": "2022-06-12T15:14:25.431Z"
   },
   {
    "duration": 360,
    "start_time": "2022-06-12T15:14:25.666Z"
   },
   {
    "duration": 253,
    "start_time": "2022-06-12T15:14:26.028Z"
   },
   {
    "duration": 627,
    "start_time": "2022-06-12T15:14:26.282Z"
   },
   {
    "duration": 24,
    "start_time": "2022-06-12T15:14:26.911Z"
   },
   {
    "duration": 97,
    "start_time": "2022-06-12T15:14:26.937Z"
   },
   {
    "duration": 25,
    "start_time": "2022-06-12T15:14:27.036Z"
   },
   {
    "duration": 81,
    "start_time": "2022-06-12T15:14:27.063Z"
   },
   {
    "duration": 73,
    "start_time": "2022-06-12T15:15:26.392Z"
   },
   {
    "duration": 997,
    "start_time": "2022-06-12T15:15:32.539Z"
   },
   {
    "duration": 890,
    "start_time": "2022-06-12T15:15:33.538Z"
   },
   {
    "duration": 85,
    "start_time": "2022-06-12T15:15:34.430Z"
   },
   {
    "duration": 119,
    "start_time": "2022-06-12T15:15:34.528Z"
   },
   {
    "duration": 469,
    "start_time": "2022-06-12T15:15:34.648Z"
   },
   {
    "duration": 450,
    "start_time": "2022-06-12T15:15:35.119Z"
   },
   {
    "duration": 25,
    "start_time": "2022-06-12T15:15:35.570Z"
   },
   {
    "duration": 38,
    "start_time": "2022-06-12T15:15:35.596Z"
   },
   {
    "duration": 35,
    "start_time": "2022-06-12T15:15:35.636Z"
   },
   {
    "duration": 7,
    "start_time": "2022-06-12T15:15:35.673Z"
   },
   {
    "duration": 49,
    "start_time": "2022-06-12T15:15:35.681Z"
   },
   {
    "duration": 29,
    "start_time": "2022-06-12T15:15:35.731Z"
   },
   {
    "duration": 376,
    "start_time": "2022-06-12T15:15:35.761Z"
   },
   {
    "duration": 357,
    "start_time": "2022-06-12T15:15:36.139Z"
   },
   {
    "duration": 168,
    "start_time": "2022-06-12T15:15:36.498Z"
   },
   {
    "duration": 0,
    "start_time": "2022-06-12T15:15:36.667Z"
   },
   {
    "duration": 0,
    "start_time": "2022-06-12T15:15:36.669Z"
   },
   {
    "duration": 0,
    "start_time": "2022-06-12T15:15:36.670Z"
   },
   {
    "duration": 0,
    "start_time": "2022-06-12T15:15:36.671Z"
   },
   {
    "duration": 0,
    "start_time": "2022-06-12T15:15:36.672Z"
   },
   {
    "duration": 0,
    "start_time": "2022-06-12T15:15:36.672Z"
   },
   {
    "duration": 0,
    "start_time": "2022-06-12T15:15:36.674Z"
   },
   {
    "duration": 0,
    "start_time": "2022-06-12T15:15:36.675Z"
   },
   {
    "duration": 0,
    "start_time": "2022-06-12T15:15:36.675Z"
   },
   {
    "duration": 0,
    "start_time": "2022-06-12T15:15:36.676Z"
   },
   {
    "duration": 66,
    "start_time": "2022-06-12T15:16:00.151Z"
   },
   {
    "duration": 85,
    "start_time": "2022-06-12T15:16:03.666Z"
   },
   {
    "duration": 1036,
    "start_time": "2022-06-12T15:16:28.630Z"
   },
   {
    "duration": 873,
    "start_time": "2022-06-12T15:16:29.668Z"
   },
   {
    "duration": 95,
    "start_time": "2022-06-12T15:16:30.543Z"
   },
   {
    "duration": 120,
    "start_time": "2022-06-12T15:16:30.640Z"
   },
   {
    "duration": 426,
    "start_time": "2022-06-12T15:16:30.762Z"
   },
   {
    "duration": 443,
    "start_time": "2022-06-12T15:16:31.190Z"
   },
   {
    "duration": 24,
    "start_time": "2022-06-12T15:16:31.635Z"
   },
   {
    "duration": 38,
    "start_time": "2022-06-12T15:16:31.661Z"
   },
   {
    "duration": 42,
    "start_time": "2022-06-12T15:16:31.700Z"
   },
   {
    "duration": 9,
    "start_time": "2022-06-12T15:16:31.744Z"
   },
   {
    "duration": 40,
    "start_time": "2022-06-12T15:16:31.754Z"
   },
   {
    "duration": 49,
    "start_time": "2022-06-12T15:16:31.795Z"
   },
   {
    "duration": 406,
    "start_time": "2022-06-12T15:16:31.846Z"
   },
   {
    "duration": 300,
    "start_time": "2022-06-12T15:16:32.254Z"
   },
   {
    "duration": 72,
    "start_time": "2022-06-12T15:16:32.556Z"
   },
   {
    "duration": 233,
    "start_time": "2022-06-12T15:16:32.630Z"
   },
   {
    "duration": 40,
    "start_time": "2022-06-12T15:16:32.865Z"
   },
   {
    "duration": 250,
    "start_time": "2022-06-12T15:16:32.907Z"
   },
   {
    "duration": 355,
    "start_time": "2022-06-12T15:16:33.158Z"
   },
   {
    "duration": 223,
    "start_time": "2022-06-12T15:16:33.514Z"
   },
   {
    "duration": 540,
    "start_time": "2022-06-12T15:16:33.739Z"
   },
   {
    "duration": 24,
    "start_time": "2022-06-12T15:16:34.281Z"
   },
   {
    "duration": 105,
    "start_time": "2022-06-12T15:16:34.306Z"
   },
   {
    "duration": 24,
    "start_time": "2022-06-12T15:16:34.412Z"
   },
   {
    "duration": 64,
    "start_time": "2022-06-12T15:16:34.438Z"
   },
   {
    "duration": 125,
    "start_time": "2022-06-12T15:21:07.711Z"
   },
   {
    "duration": 1151,
    "start_time": "2022-06-12T15:21:14.119Z"
   },
   {
    "duration": 1088,
    "start_time": "2022-06-12T15:21:15.272Z"
   },
   {
    "duration": 114,
    "start_time": "2022-06-12T15:21:16.363Z"
   },
   {
    "duration": 127,
    "start_time": "2022-06-12T15:21:16.479Z"
   },
   {
    "duration": 460,
    "start_time": "2022-06-12T15:21:16.608Z"
   },
   {
    "duration": 573,
    "start_time": "2022-06-12T15:21:17.070Z"
   },
   {
    "duration": 27,
    "start_time": "2022-06-12T15:21:17.645Z"
   },
   {
    "duration": 33,
    "start_time": "2022-06-12T15:21:17.674Z"
   },
   {
    "duration": 45,
    "start_time": "2022-06-12T15:21:17.709Z"
   },
   {
    "duration": 15,
    "start_time": "2022-06-12T15:21:17.757Z"
   },
   {
    "duration": 58,
    "start_time": "2022-06-12T15:21:17.774Z"
   },
   {
    "duration": 34,
    "start_time": "2022-06-12T15:21:17.834Z"
   },
   {
    "duration": 392,
    "start_time": "2022-06-12T15:21:17.870Z"
   },
   {
    "duration": 309,
    "start_time": "2022-06-12T15:21:18.263Z"
   },
   {
    "duration": 79,
    "start_time": "2022-06-12T15:21:18.573Z"
   },
   {
    "duration": 240,
    "start_time": "2022-06-12T15:21:18.653Z"
   },
   {
    "duration": 50,
    "start_time": "2022-06-12T15:21:18.895Z"
   },
   {
    "duration": 259,
    "start_time": "2022-06-12T15:21:18.947Z"
   },
   {
    "duration": 371,
    "start_time": "2022-06-12T15:21:19.208Z"
   },
   {
    "duration": 227,
    "start_time": "2022-06-12T15:21:19.581Z"
   },
   {
    "duration": 541,
    "start_time": "2022-06-12T15:21:19.810Z"
   },
   {
    "duration": 24,
    "start_time": "2022-06-12T15:21:20.352Z"
   },
   {
    "duration": 101,
    "start_time": "2022-06-12T15:21:20.378Z"
   },
   {
    "duration": 25,
    "start_time": "2022-06-12T15:21:20.481Z"
   },
   {
    "duration": 76,
    "start_time": "2022-06-12T15:21:20.508Z"
   },
   {
    "duration": 87285,
    "start_time": "2022-06-12T15:24:34.986Z"
   },
   {
    "duration": 1275,
    "start_time": "2022-06-12T17:26:09.388Z"
   },
   {
    "duration": 970,
    "start_time": "2022-06-12T17:26:10.665Z"
   },
   {
    "duration": 97,
    "start_time": "2022-06-12T17:26:11.636Z"
   },
   {
    "duration": 122,
    "start_time": "2022-06-12T17:26:11.735Z"
   },
   {
    "duration": 468,
    "start_time": "2022-06-12T17:26:11.859Z"
   },
   {
    "duration": 582,
    "start_time": "2022-06-12T17:26:12.328Z"
   },
   {
    "duration": 28,
    "start_time": "2022-06-12T17:26:12.912Z"
   },
   {
    "duration": 36,
    "start_time": "2022-06-12T17:26:12.942Z"
   },
   {
    "duration": 51,
    "start_time": "2022-06-12T17:26:12.980Z"
   },
   {
    "duration": 8,
    "start_time": "2022-06-12T17:26:13.033Z"
   },
   {
    "duration": 35,
    "start_time": "2022-06-12T17:26:13.042Z"
   },
   {
    "duration": 56,
    "start_time": "2022-06-12T17:26:13.079Z"
   },
   {
    "duration": 390,
    "start_time": "2022-06-12T17:26:13.137Z"
   },
   {
    "duration": 312,
    "start_time": "2022-06-12T17:26:13.529Z"
   },
   {
    "duration": 71,
    "start_time": "2022-06-12T17:26:13.843Z"
   },
   {
    "duration": 315,
    "start_time": "2022-06-12T17:26:13.927Z"
   },
   {
    "duration": 43,
    "start_time": "2022-06-12T17:26:14.243Z"
   },
   {
    "duration": 251,
    "start_time": "2022-06-12T17:26:14.287Z"
   },
   {
    "duration": 290,
    "start_time": "2022-06-12T17:26:14.539Z"
   },
   {
    "duration": 233,
    "start_time": "2022-06-12T17:26:14.831Z"
   },
   {
    "duration": 554,
    "start_time": "2022-06-12T17:26:15.066Z"
   },
   {
    "duration": 26,
    "start_time": "2022-06-12T17:26:15.621Z"
   },
   {
    "duration": 98,
    "start_time": "2022-06-12T17:26:15.649Z"
   },
   {
    "duration": 24,
    "start_time": "2022-06-12T17:26:15.748Z"
   },
   {
    "duration": 69,
    "start_time": "2022-06-12T17:26:15.774Z"
   },
   {
    "duration": 90750,
    "start_time": "2022-06-12T17:26:15.845Z"
   },
   {
    "duration": 446,
    "start_time": "2022-06-12T17:39:39.450Z"
   },
   {
    "duration": 488,
    "start_time": "2022-06-12T17:44:07.542Z"
   },
   {
    "duration": 213,
    "start_time": "2022-06-12T17:49:26.985Z"
   },
   {
    "duration": 791,
    "start_time": "2022-06-12T18:11:17.109Z"
   },
   {
    "duration": 811,
    "start_time": "2022-06-12T18:11:45.672Z"
   },
   {
    "duration": 796,
    "start_time": "2022-06-12T18:12:39.653Z"
   },
   {
    "duration": 924,
    "start_time": "2022-06-12T18:33:33.792Z"
   },
   {
    "duration": 39487,
    "start_time": "2022-06-12T18:37:25.829Z"
   },
   {
    "duration": 36046,
    "start_time": "2022-06-12T18:38:31.808Z"
   },
   {
    "duration": 38031,
    "start_time": "2022-06-12T18:40:07.705Z"
   },
   {
    "duration": 21205,
    "start_time": "2022-06-12T18:43:35.223Z"
   },
   {
    "duration": 24628,
    "start_time": "2022-06-12T18:48:07.599Z"
   },
   {
    "duration": 3,
    "start_time": "2022-06-12T18:50:41.497Z"
   },
   {
    "duration": 24651,
    "start_time": "2022-06-12T18:53:15.285Z"
   },
   {
    "duration": 57556,
    "start_time": "2022-06-12T18:58:26.997Z"
   },
   {
    "duration": 225062,
    "start_time": "2022-06-12T19:06:53.944Z"
   },
   {
    "duration": 28379,
    "start_time": "2022-06-12T19:17:04.717Z"
   },
   {
    "duration": 6035,
    "start_time": "2022-06-12T19:22:14.595Z"
   },
   {
    "duration": 237089,
    "start_time": "2022-06-12T19:22:32.197Z"
   },
   {
    "duration": 19788,
    "start_time": "2022-06-12T19:27:45.830Z"
   },
   {
    "duration": 23391,
    "start_time": "2022-06-12T19:28:17.260Z"
   },
   {
    "duration": 2285,
    "start_time": "2022-06-12T19:39:01.675Z"
   },
   {
    "duration": 2535,
    "start_time": "2022-06-12T19:41:03.587Z"
   },
   {
    "duration": 2587,
    "start_time": "2022-06-12T19:41:12.327Z"
   },
   {
    "duration": 6358,
    "start_time": "2022-06-12T19:50:32.492Z"
   },
   {
    "duration": 6793,
    "start_time": "2022-06-12T19:50:49.850Z"
   },
   {
    "duration": 27206,
    "start_time": "2022-06-12T19:51:07.485Z"
   },
   {
    "duration": 147,
    "start_time": "2022-06-12T19:52:03.717Z"
   },
   {
    "duration": 16,
    "start_time": "2022-06-12T19:52:16.467Z"
   },
   {
    "duration": 6536,
    "start_time": "2022-06-12T19:52:31.823Z"
   },
   {
    "duration": 14306,
    "start_time": "2022-06-12T19:52:47.109Z"
   },
   {
    "duration": 6083,
    "start_time": "2022-06-12T19:53:11.507Z"
   },
   {
    "duration": 6217,
    "start_time": "2022-06-12T19:53:23.619Z"
   },
   {
    "duration": 57,
    "start_time": "2022-06-12T19:58:09.007Z"
   },
   {
    "duration": 927,
    "start_time": "2022-06-12T19:59:04.364Z"
   },
   {
    "duration": 874,
    "start_time": "2022-06-12T20:01:21.381Z"
   },
   {
    "duration": 855,
    "start_time": "2022-06-12T20:02:08.142Z"
   },
   {
    "duration": 26303,
    "start_time": "2022-06-12T20:02:54.754Z"
   },
   {
    "duration": 59,
    "start_time": "2022-06-12T20:05:50.635Z"
   },
   {
    "duration": 26302,
    "start_time": "2022-06-12T20:07:17.518Z"
   },
   {
    "duration": 5785,
    "start_time": "2022-06-12T20:07:56.944Z"
   },
   {
    "duration": 37664,
    "start_time": "2022-06-12T20:08:08.671Z"
   },
   {
    "duration": 25724,
    "start_time": "2022-06-12T20:09:18.467Z"
   },
   {
    "duration": 26557,
    "start_time": "2022-06-12T20:09:51.686Z"
   },
   {
    "duration": 27520,
    "start_time": "2022-06-12T20:10:25.857Z"
   },
   {
    "duration": 27396,
    "start_time": "2022-06-12T20:11:02.144Z"
   },
   {
    "duration": 26919,
    "start_time": "2022-06-12T20:11:40.720Z"
   },
   {
    "duration": 24605,
    "start_time": "2022-06-12T20:12:18.297Z"
   },
   {
    "duration": 25610,
    "start_time": "2022-06-12T20:12:53.786Z"
   },
   {
    "duration": 25306,
    "start_time": "2022-06-12T20:13:25.775Z"
   },
   {
    "duration": 26532,
    "start_time": "2022-06-12T20:15:33.539Z"
   },
   {
    "duration": 26015,
    "start_time": "2022-06-12T20:16:26.604Z"
   },
   {
    "duration": 1300,
    "start_time": "2022-06-12T20:18:14.863Z"
   },
   {
    "duration": 983,
    "start_time": "2022-06-12T20:18:16.166Z"
   },
   {
    "duration": 100,
    "start_time": "2022-06-12T20:18:17.151Z"
   },
   {
    "duration": 153,
    "start_time": "2022-06-12T20:18:17.253Z"
   },
   {
    "duration": 453,
    "start_time": "2022-06-12T20:18:17.408Z"
   },
   {
    "duration": 530,
    "start_time": "2022-06-12T20:18:17.864Z"
   },
   {
    "duration": 33,
    "start_time": "2022-06-12T20:18:18.395Z"
   },
   {
    "duration": 31,
    "start_time": "2022-06-12T20:18:18.430Z"
   },
   {
    "duration": 33,
    "start_time": "2022-06-12T20:18:18.463Z"
   },
   {
    "duration": 28,
    "start_time": "2022-06-12T20:18:18.499Z"
   },
   {
    "duration": 32,
    "start_time": "2022-06-12T20:18:18.529Z"
   },
   {
    "duration": 30,
    "start_time": "2022-06-12T20:18:18.563Z"
   },
   {
    "duration": 392,
    "start_time": "2022-06-12T20:18:18.594Z"
   },
   {
    "duration": 304,
    "start_time": "2022-06-12T20:18:18.987Z"
   },
   {
    "duration": 76,
    "start_time": "2022-06-12T20:18:19.293Z"
   },
   {
    "duration": 314,
    "start_time": "2022-06-12T20:18:19.371Z"
   },
   {
    "duration": 44,
    "start_time": "2022-06-12T20:18:19.687Z"
   },
   {
    "duration": 253,
    "start_time": "2022-06-12T20:18:19.733Z"
   },
   {
    "duration": 281,
    "start_time": "2022-06-12T20:18:19.988Z"
   },
   {
    "duration": 245,
    "start_time": "2022-06-12T20:18:20.271Z"
   },
   {
    "duration": 535,
    "start_time": "2022-06-12T20:18:20.518Z"
   },
   {
    "duration": 24,
    "start_time": "2022-06-12T20:18:21.054Z"
   },
   {
    "duration": 159,
    "start_time": "2022-06-12T20:18:21.080Z"
   },
   {
    "duration": 34,
    "start_time": "2022-06-12T20:18:21.240Z"
   },
   {
    "duration": 75,
    "start_time": "2022-06-12T20:18:21.276Z"
   },
   {
    "duration": 1048,
    "start_time": "2022-06-12T20:18:21.353Z"
   },
   {
    "duration": 0,
    "start_time": "2022-06-12T20:18:22.403Z"
   },
   {
    "duration": 0,
    "start_time": "2022-06-12T20:18:22.404Z"
   },
   {
    "duration": 0,
    "start_time": "2022-06-12T20:18:22.407Z"
   },
   {
    "duration": 0,
    "start_time": "2022-06-12T20:18:22.409Z"
   },
   {
    "duration": 0,
    "start_time": "2022-06-12T20:18:22.410Z"
   },
   {
    "duration": 0,
    "start_time": "2022-06-12T20:18:22.411Z"
   },
   {
    "duration": 1266,
    "start_time": "2022-06-12T20:20:29.880Z"
   },
   {
    "duration": 941,
    "start_time": "2022-06-12T20:20:31.149Z"
   },
   {
    "duration": 93,
    "start_time": "2022-06-12T20:20:32.093Z"
   },
   {
    "duration": 139,
    "start_time": "2022-06-12T20:20:32.189Z"
   },
   {
    "duration": 444,
    "start_time": "2022-06-12T20:20:32.331Z"
   },
   {
    "duration": 546,
    "start_time": "2022-06-12T20:20:32.777Z"
   },
   {
    "duration": 25,
    "start_time": "2022-06-12T20:20:33.325Z"
   },
   {
    "duration": 33,
    "start_time": "2022-06-12T20:20:33.352Z"
   },
   {
    "duration": 54,
    "start_time": "2022-06-12T20:20:33.387Z"
   },
   {
    "duration": 8,
    "start_time": "2022-06-12T20:20:33.443Z"
   },
   {
    "duration": 31,
    "start_time": "2022-06-12T20:20:33.453Z"
   },
   {
    "duration": 56,
    "start_time": "2022-06-12T20:20:33.486Z"
   },
   {
    "duration": 399,
    "start_time": "2022-06-12T20:20:33.544Z"
   },
   {
    "duration": 289,
    "start_time": "2022-06-12T20:20:33.945Z"
   },
   {
    "duration": 66,
    "start_time": "2022-06-12T20:20:34.235Z"
   },
   {
    "duration": 329,
    "start_time": "2022-06-12T20:20:34.303Z"
   },
   {
    "duration": 43,
    "start_time": "2022-06-12T20:20:34.634Z"
   },
   {
    "duration": 263,
    "start_time": "2022-06-12T20:20:34.678Z"
   },
   {
    "duration": 278,
    "start_time": "2022-06-12T20:20:34.943Z"
   },
   {
    "duration": 244,
    "start_time": "2022-06-12T20:20:35.226Z"
   },
   {
    "duration": 553,
    "start_time": "2022-06-12T20:20:35.471Z"
   },
   {
    "duration": 37,
    "start_time": "2022-06-12T20:20:36.027Z"
   },
   {
    "duration": 100,
    "start_time": "2022-06-12T20:20:36.065Z"
   },
   {
    "duration": 30,
    "start_time": "2022-06-12T20:20:36.167Z"
   },
   {
    "duration": 91,
    "start_time": "2022-06-12T20:20:36.200Z"
   },
   {
    "duration": 979,
    "start_time": "2022-06-12T20:20:36.293Z"
   },
   {
    "duration": 4,
    "start_time": "2022-06-12T20:20:37.274Z"
   },
   {
    "duration": 21748,
    "start_time": "2022-06-12T20:20:37.279Z"
   },
   {
    "duration": 23466,
    "start_time": "2022-06-12T20:20:59.031Z"
   },
   {
    "duration": 2475,
    "start_time": "2022-06-12T20:21:22.498Z"
   },
   {
    "duration": 66,
    "start_time": "2022-06-12T20:21:24.975Z"
   },
   {
    "duration": 1294,
    "start_time": "2022-06-12T20:21:46.872Z"
   },
   {
    "duration": 906,
    "start_time": "2022-06-12T20:21:48.168Z"
   },
   {
    "duration": 102,
    "start_time": "2022-06-12T20:21:49.075Z"
   },
   {
    "duration": 130,
    "start_time": "2022-06-12T20:21:49.178Z"
   },
   {
    "duration": 466,
    "start_time": "2022-06-12T20:21:49.309Z"
   },
   {
    "duration": 596,
    "start_time": "2022-06-12T20:21:49.777Z"
   },
   {
    "duration": 34,
    "start_time": "2022-06-12T20:21:50.375Z"
   },
   {
    "duration": 59,
    "start_time": "2022-06-12T20:21:50.410Z"
   },
   {
    "duration": 35,
    "start_time": "2022-06-12T20:21:50.471Z"
   },
   {
    "duration": 24,
    "start_time": "2022-06-12T20:21:50.508Z"
   },
   {
    "duration": 35,
    "start_time": "2022-06-12T20:21:50.534Z"
   },
   {
    "duration": 31,
    "start_time": "2022-06-12T20:21:50.571Z"
   },
   {
    "duration": 444,
    "start_time": "2022-06-12T20:21:50.603Z"
   },
   {
    "duration": 331,
    "start_time": "2022-06-12T20:21:51.049Z"
   },
   {
    "duration": 83,
    "start_time": "2022-06-12T20:21:51.382Z"
   },
   {
    "duration": 329,
    "start_time": "2022-06-12T20:21:51.468Z"
   },
   {
    "duration": 51,
    "start_time": "2022-06-12T20:21:51.799Z"
   },
   {
    "duration": 253,
    "start_time": "2022-06-12T20:21:51.852Z"
   },
   {
    "duration": 295,
    "start_time": "2022-06-12T20:21:52.107Z"
   },
   {
    "duration": 225,
    "start_time": "2022-06-12T20:21:52.404Z"
   },
   {
    "duration": 560,
    "start_time": "2022-06-12T20:21:52.631Z"
   },
   {
    "duration": 26,
    "start_time": "2022-06-12T20:21:53.193Z"
   },
   {
    "duration": 120,
    "start_time": "2022-06-12T20:21:53.228Z"
   },
   {
    "duration": 26,
    "start_time": "2022-06-12T20:21:53.350Z"
   },
   {
    "duration": 73,
    "start_time": "2022-06-12T20:21:53.378Z"
   },
   {
    "duration": 927,
    "start_time": "2022-06-12T20:21:53.453Z"
   },
   {
    "duration": 3,
    "start_time": "2022-06-12T20:21:54.382Z"
   },
   {
    "duration": 25544,
    "start_time": "2022-06-12T20:21:54.390Z"
   },
   {
    "duration": 181815,
    "start_time": "2022-06-12T20:22:19.937Z"
   },
   {
    "duration": 2592,
    "start_time": "2022-06-12T20:25:21.754Z"
   },
   {
    "duration": 62,
    "start_time": "2022-06-12T20:25:24.348Z"
   },
   {
    "duration": 26605,
    "start_time": "2022-06-12T20:25:24.412Z"
   },
   {
    "duration": 42485,
    "start_time": "2022-06-12T20:26:52.638Z"
   },
   {
    "duration": 4848,
    "start_time": "2022-06-12T20:27:56.129Z"
   },
   {
    "duration": 5519,
    "start_time": "2022-06-12T20:28:14.330Z"
   },
   {
    "duration": 26844,
    "start_time": "2022-06-12T20:42:10.286Z"
   },
   {
    "duration": 148,
    "start_time": "2022-06-12T20:44:29.400Z"
   },
   {
    "duration": 746482,
    "start_time": "2022-06-12T20:46:49.156Z"
   },
   {
    "duration": 841,
    "start_time": "2022-06-12T21:08:38.730Z"
   },
   {
    "duration": 14976153,
    "start_time": "2022-06-12T21:10:05.578Z"
   },
   {
    "duration": 1408,
    "start_time": "2022-06-14T06:08:19.041Z"
   },
   {
    "duration": 1319,
    "start_time": "2022-06-14T06:08:20.451Z"
   },
   {
    "duration": 116,
    "start_time": "2022-06-14T06:08:21.771Z"
   },
   {
    "duration": 125,
    "start_time": "2022-06-14T06:08:21.889Z"
   },
   {
    "duration": 490,
    "start_time": "2022-06-14T06:08:22.016Z"
   },
   {
    "duration": 628,
    "start_time": "2022-06-14T06:08:22.508Z"
   },
   {
    "duration": 41,
    "start_time": "2022-06-14T06:08:23.138Z"
   },
   {
    "duration": 36,
    "start_time": "2022-06-14T06:08:23.181Z"
   },
   {
    "duration": 74,
    "start_time": "2022-06-14T06:08:23.219Z"
   },
   {
    "duration": 13,
    "start_time": "2022-06-14T06:08:23.296Z"
   },
   {
    "duration": 51,
    "start_time": "2022-06-14T06:08:23.311Z"
   },
   {
    "duration": 32,
    "start_time": "2022-06-14T06:08:23.364Z"
   },
   {
    "duration": 412,
    "start_time": "2022-06-14T06:08:23.398Z"
   },
   {
    "duration": 319,
    "start_time": "2022-06-14T06:08:23.813Z"
   },
   {
    "duration": 75,
    "start_time": "2022-06-14T06:08:24.133Z"
   },
   {
    "duration": 351,
    "start_time": "2022-06-14T06:08:24.210Z"
   },
   {
    "duration": 45,
    "start_time": "2022-06-14T06:08:24.563Z"
   },
   {
    "duration": 285,
    "start_time": "2022-06-14T06:08:24.610Z"
   },
   {
    "duration": 317,
    "start_time": "2022-06-14T06:08:24.896Z"
   },
   {
    "duration": 259,
    "start_time": "2022-06-14T06:08:25.215Z"
   },
   {
    "duration": 602,
    "start_time": "2022-06-14T06:08:25.476Z"
   },
   {
    "duration": 28,
    "start_time": "2022-06-14T06:08:26.081Z"
   },
   {
    "duration": 115,
    "start_time": "2022-06-14T06:08:26.111Z"
   },
   {
    "duration": 31,
    "start_time": "2022-06-14T06:08:26.228Z"
   },
   {
    "duration": 68,
    "start_time": "2022-06-14T06:08:26.261Z"
   },
   {
    "duration": 1083,
    "start_time": "2022-06-14T06:08:26.331Z"
   },
   {
    "duration": 3,
    "start_time": "2022-06-14T06:08:27.417Z"
   },
   {
    "duration": 18044,
    "start_time": "2022-06-14T06:08:27.421Z"
   },
   {
    "duration": 48835,
    "start_time": "2022-06-14T06:08:45.468Z"
   },
   {
    "duration": 5394,
    "start_time": "2022-06-14T06:09:34.305Z"
   },
   {
    "duration": 62,
    "start_time": "2022-06-14T06:09:39.701Z"
   },
   {
    "duration": 27983,
    "start_time": "2022-06-14T06:09:39.765Z"
   },
   {
    "duration": 132,
    "start_time": "2022-06-14T06:13:24.660Z"
   },
   {
    "duration": 41,
    "start_time": "2022-06-14T06:14:58.221Z"
   },
   {
    "duration": 4,
    "start_time": "2022-06-14T06:15:25.080Z"
   },
   {
    "duration": 57,
    "start_time": "2022-06-14T06:15:30.940Z"
   },
   {
    "duration": 8,
    "start_time": "2022-06-14T06:18:54.101Z"
   },
   {
    "duration": 42,
    "start_time": "2022-06-14T06:19:13.804Z"
   },
   {
    "duration": 6581,
    "start_time": "2022-06-14T06:32:29.098Z"
   },
   {
    "duration": 7372,
    "start_time": "2022-06-14T06:42:08.488Z"
   },
   {
    "duration": 2485876,
    "start_time": "2022-06-14T07:16:34.299Z"
   },
   {
    "duration": 7703,
    "start_time": "2022-06-14T08:33:45.557Z"
   },
   {
    "duration": 6568,
    "start_time": "2022-06-14T08:34:59.798Z"
   },
   {
    "duration": 5980,
    "start_time": "2022-06-14T08:35:56.288Z"
   },
   {
    "duration": 5687,
    "start_time": "2022-06-14T08:36:11.077Z"
   },
   {
    "duration": 5692,
    "start_time": "2022-06-14T08:36:31.875Z"
   },
   {
    "duration": 7024,
    "start_time": "2022-06-14T08:36:47.337Z"
   },
   {
    "duration": 5639,
    "start_time": "2022-06-14T08:38:27.321Z"
   },
   {
    "duration": 6544,
    "start_time": "2022-06-14T08:40:44.217Z"
   },
   {
    "duration": 5957,
    "start_time": "2022-06-14T08:41:27.715Z"
   },
   {
    "duration": 6158,
    "start_time": "2022-06-14T08:43:05.806Z"
   },
   {
    "duration": 5856,
    "start_time": "2022-06-14T08:43:57.418Z"
   },
   {
    "duration": 58353,
    "start_time": "2022-06-14T08:44:11.815Z"
   },
   {
    "duration": 20706,
    "start_time": "2022-06-14T08:45:17.983Z"
   },
   {
    "duration": 12868,
    "start_time": "2022-06-14T08:45:41.335Z"
   },
   {
    "duration": 1306,
    "start_time": "2022-06-14T08:45:57.975Z"
   },
   {
    "duration": 908,
    "start_time": "2022-06-14T08:45:59.283Z"
   },
   {
    "duration": 105,
    "start_time": "2022-06-14T08:46:00.193Z"
   },
   {
    "duration": 126,
    "start_time": "2022-06-14T08:46:00.301Z"
   },
   {
    "duration": 460,
    "start_time": "2022-06-14T08:46:00.429Z"
   },
   {
    "duration": 561,
    "start_time": "2022-06-14T08:46:00.891Z"
   },
   {
    "duration": 26,
    "start_time": "2022-06-14T08:46:01.454Z"
   },
   {
    "duration": 43,
    "start_time": "2022-06-14T08:46:01.481Z"
   },
   {
    "duration": 50,
    "start_time": "2022-06-14T08:46:01.525Z"
   },
   {
    "duration": 32,
    "start_time": "2022-06-14T08:46:01.578Z"
   },
   {
    "duration": 55,
    "start_time": "2022-06-14T08:46:01.612Z"
   },
   {
    "duration": 47,
    "start_time": "2022-06-14T08:46:01.669Z"
   },
   {
    "duration": 408,
    "start_time": "2022-06-14T08:46:01.717Z"
   },
   {
    "duration": 305,
    "start_time": "2022-06-14T08:46:02.127Z"
   },
   {
    "duration": 74,
    "start_time": "2022-06-14T08:46:02.433Z"
   },
   {
    "duration": 332,
    "start_time": "2022-06-14T08:46:02.509Z"
   },
   {
    "duration": 46,
    "start_time": "2022-06-14T08:46:02.843Z"
   },
   {
    "duration": 290,
    "start_time": "2022-06-14T08:46:02.891Z"
   },
   {
    "duration": 294,
    "start_time": "2022-06-14T08:46:03.182Z"
   },
   {
    "duration": 229,
    "start_time": "2022-06-14T08:46:03.478Z"
   },
   {
    "duration": 554,
    "start_time": "2022-06-14T08:46:03.708Z"
   },
   {
    "duration": 26,
    "start_time": "2022-06-14T08:46:04.263Z"
   },
   {
    "duration": 97,
    "start_time": "2022-06-14T08:46:04.291Z"
   },
   {
    "duration": 24,
    "start_time": "2022-06-14T08:46:04.390Z"
   },
   {
    "duration": 73,
    "start_time": "2022-06-14T08:46:04.416Z"
   },
   {
    "duration": 915,
    "start_time": "2022-06-14T08:46:04.491Z"
   },
   {
    "duration": 3,
    "start_time": "2022-06-14T08:46:05.408Z"
   },
   {
    "duration": 21245,
    "start_time": "2022-06-14T08:46:05.415Z"
   },
   {
    "duration": 46039,
    "start_time": "2022-06-14T08:46:26.663Z"
   },
   {
    "duration": 5165,
    "start_time": "2022-06-14T08:47:12.705Z"
   },
   {
    "duration": 65,
    "start_time": "2022-06-14T08:47:17.871Z"
   },
   {
    "duration": 26370,
    "start_time": "2022-06-14T08:47:17.938Z"
   },
   {
    "duration": 350866,
    "start_time": "2022-06-14T08:47:44.310Z"
   },
   {
    "duration": 5801,
    "start_time": "2022-06-14T09:34:24.270Z"
   },
   {
    "duration": 5436,
    "start_time": "2022-06-14T09:34:42.424Z"
   },
   {
    "duration": 1343,
    "start_time": "2022-06-14T09:35:07.540Z"
   },
   {
    "duration": 902,
    "start_time": "2022-06-14T09:35:08.885Z"
   },
   {
    "duration": 92,
    "start_time": "2022-06-14T09:35:09.789Z"
   },
   {
    "duration": 129,
    "start_time": "2022-06-14T09:35:09.883Z"
   },
   {
    "duration": 462,
    "start_time": "2022-06-14T09:35:10.015Z"
   },
   {
    "duration": 551,
    "start_time": "2022-06-14T09:35:10.479Z"
   },
   {
    "duration": 32,
    "start_time": "2022-06-14T09:35:11.032Z"
   },
   {
    "duration": 36,
    "start_time": "2022-06-14T09:35:11.066Z"
   },
   {
    "duration": 39,
    "start_time": "2022-06-14T09:35:11.103Z"
   },
   {
    "duration": 17,
    "start_time": "2022-06-14T09:35:11.143Z"
   },
   {
    "duration": 32,
    "start_time": "2022-06-14T09:35:11.161Z"
   },
   {
    "duration": 34,
    "start_time": "2022-06-14T09:35:11.194Z"
   },
   {
    "duration": 368,
    "start_time": "2022-06-14T09:35:11.230Z"
   },
   {
    "duration": 293,
    "start_time": "2022-06-14T09:35:11.601Z"
   },
   {
    "duration": 71,
    "start_time": "2022-06-14T09:35:11.896Z"
   },
   {
    "duration": 316,
    "start_time": "2022-06-14T09:35:11.969Z"
   },
   {
    "duration": 41,
    "start_time": "2022-06-14T09:35:12.287Z"
   },
   {
    "duration": 261,
    "start_time": "2022-06-14T09:35:12.330Z"
   },
   {
    "duration": 304,
    "start_time": "2022-06-14T09:35:12.593Z"
   },
   {
    "duration": 250,
    "start_time": "2022-06-14T09:35:12.899Z"
   },
   {
    "duration": 542,
    "start_time": "2022-06-14T09:35:13.150Z"
   },
   {
    "duration": 26,
    "start_time": "2022-06-14T09:35:13.693Z"
   },
   {
    "duration": 103,
    "start_time": "2022-06-14T09:35:13.721Z"
   },
   {
    "duration": 26,
    "start_time": "2022-06-14T09:35:13.825Z"
   },
   {
    "duration": 65,
    "start_time": "2022-06-14T09:35:13.853Z"
   },
   {
    "duration": 894,
    "start_time": "2022-06-14T09:35:13.920Z"
   },
   {
    "duration": 3,
    "start_time": "2022-06-14T09:35:14.815Z"
   },
   {
    "duration": 15441,
    "start_time": "2022-06-14T09:35:14.820Z"
   },
   {
    "duration": 45010,
    "start_time": "2022-06-14T09:35:30.263Z"
   },
   {
    "duration": 5031,
    "start_time": "2022-06-14T09:36:15.275Z"
   },
   {
    "duration": 64,
    "start_time": "2022-06-14T09:36:20.308Z"
   },
   {
    "duration": 26013,
    "start_time": "2022-06-14T09:36:20.373Z"
   },
   {
    "duration": 5582,
    "start_time": "2022-06-14T09:36:46.388Z"
   },
   {
    "duration": 4,
    "start_time": "2022-06-14T09:52:04.141Z"
   },
   {
    "duration": 7,
    "start_time": "2022-06-14T09:52:43.062Z"
   },
   {
    "duration": 5795,
    "start_time": "2022-06-14T09:53:31.377Z"
   },
   {
    "duration": 7,
    "start_time": "2022-06-14T09:53:41.075Z"
   },
   {
    "duration": 6665,
    "start_time": "2022-06-14T09:54:47.700Z"
   },
   {
    "duration": 6,
    "start_time": "2022-06-14T09:55:02.857Z"
   },
   {
    "duration": 1271,
    "start_time": "2022-06-14T09:57:23.197Z"
   },
   {
    "duration": 909,
    "start_time": "2022-06-14T09:57:24.470Z"
   },
   {
    "duration": 134,
    "start_time": "2022-06-14T09:57:25.381Z"
   },
   {
    "duration": 122,
    "start_time": "2022-06-14T09:57:25.517Z"
   },
   {
    "duration": 453,
    "start_time": "2022-06-14T09:57:25.641Z"
   },
   {
    "duration": 523,
    "start_time": "2022-06-14T09:57:26.096Z"
   },
   {
    "duration": 25,
    "start_time": "2022-06-14T09:57:26.621Z"
   },
   {
    "duration": 33,
    "start_time": "2022-06-14T09:57:26.659Z"
   },
   {
    "duration": 34,
    "start_time": "2022-06-14T09:57:26.693Z"
   },
   {
    "duration": 30,
    "start_time": "2022-06-14T09:57:26.730Z"
   },
   {
    "duration": 37,
    "start_time": "2022-06-14T09:57:26.761Z"
   },
   {
    "duration": 33,
    "start_time": "2022-06-14T09:57:26.799Z"
   },
   {
    "duration": 399,
    "start_time": "2022-06-14T09:57:26.834Z"
   },
   {
    "duration": 337,
    "start_time": "2022-06-14T09:57:27.235Z"
   },
   {
    "duration": 65,
    "start_time": "2022-06-14T09:57:27.573Z"
   },
   {
    "duration": 342,
    "start_time": "2022-06-14T09:57:27.640Z"
   },
   {
    "duration": 50,
    "start_time": "2022-06-14T09:57:27.984Z"
   },
   {
    "duration": 259,
    "start_time": "2022-06-14T09:57:28.035Z"
   },
   {
    "duration": 284,
    "start_time": "2022-06-14T09:57:28.296Z"
   },
   {
    "duration": 222,
    "start_time": "2022-06-14T09:57:28.581Z"
   },
   {
    "duration": 535,
    "start_time": "2022-06-14T09:57:28.805Z"
   },
   {
    "duration": 29,
    "start_time": "2022-06-14T09:57:29.341Z"
   },
   {
    "duration": 92,
    "start_time": "2022-06-14T09:57:29.371Z"
   },
   {
    "duration": 24,
    "start_time": "2022-06-14T09:57:29.464Z"
   },
   {
    "duration": 75,
    "start_time": "2022-06-14T09:57:29.489Z"
   },
   {
    "duration": 902,
    "start_time": "2022-06-14T09:57:29.566Z"
   },
   {
    "duration": 2,
    "start_time": "2022-06-14T09:57:30.470Z"
   },
   {
    "duration": 16396,
    "start_time": "2022-06-14T09:57:30.475Z"
   },
   {
    "duration": 45176,
    "start_time": "2022-06-14T09:57:46.960Z"
   },
   {
    "duration": 4973,
    "start_time": "2022-06-14T09:58:32.138Z"
   },
   {
    "duration": 65,
    "start_time": "2022-06-14T09:58:37.113Z"
   },
   {
    "duration": 26150,
    "start_time": "2022-06-14T09:58:37.181Z"
   },
   {
    "duration": 5839,
    "start_time": "2022-06-14T09:59:03.333Z"
   },
   {
    "duration": 179,
    "start_time": "2022-06-14T09:59:09.173Z"
   },
   {
    "duration": 1335,
    "start_time": "2022-06-14T10:00:43.470Z"
   },
   {
    "duration": 936,
    "start_time": "2022-06-14T10:00:44.807Z"
   },
   {
    "duration": 88,
    "start_time": "2022-06-14T10:00:45.745Z"
   },
   {
    "duration": 131,
    "start_time": "2022-06-14T10:00:45.835Z"
   },
   {
    "duration": 445,
    "start_time": "2022-06-14T10:00:45.968Z"
   },
   {
    "duration": 553,
    "start_time": "2022-06-14T10:00:46.415Z"
   },
   {
    "duration": 26,
    "start_time": "2022-06-14T10:00:46.970Z"
   },
   {
    "duration": 32,
    "start_time": "2022-06-14T10:00:46.997Z"
   },
   {
    "duration": 49,
    "start_time": "2022-06-14T10:00:47.031Z"
   },
   {
    "duration": 8,
    "start_time": "2022-06-14T10:00:47.083Z"
   },
   {
    "duration": 36,
    "start_time": "2022-06-14T10:00:47.092Z"
   },
   {
    "duration": 46,
    "start_time": "2022-06-14T10:00:47.129Z"
   },
   {
    "duration": 441,
    "start_time": "2022-06-14T10:00:47.178Z"
   },
   {
    "duration": 296,
    "start_time": "2022-06-14T10:00:47.620Z"
   },
   {
    "duration": 73,
    "start_time": "2022-06-14T10:00:47.918Z"
   },
   {
    "duration": 326,
    "start_time": "2022-06-14T10:00:47.993Z"
   },
   {
    "duration": 49,
    "start_time": "2022-06-14T10:00:48.320Z"
   },
   {
    "duration": 246,
    "start_time": "2022-06-14T10:00:48.371Z"
   },
   {
    "duration": 288,
    "start_time": "2022-06-14T10:00:48.619Z"
   },
   {
    "duration": 216,
    "start_time": "2022-06-14T10:00:48.909Z"
   },
   {
    "duration": 534,
    "start_time": "2022-06-14T10:00:49.127Z"
   },
   {
    "duration": 27,
    "start_time": "2022-06-14T10:00:49.666Z"
   },
   {
    "duration": 100,
    "start_time": "2022-06-14T10:00:49.695Z"
   },
   {
    "duration": 27,
    "start_time": "2022-06-14T10:00:49.797Z"
   },
   {
    "duration": 70,
    "start_time": "2022-06-14T10:00:49.826Z"
   },
   {
    "duration": 902,
    "start_time": "2022-06-14T10:00:49.898Z"
   },
   {
    "duration": 2,
    "start_time": "2022-06-14T10:00:50.801Z"
   },
   {
    "duration": 16053,
    "start_time": "2022-06-14T10:00:50.806Z"
   },
   {
    "duration": 45011,
    "start_time": "2022-06-14T10:01:06.861Z"
   },
   {
    "duration": 5056,
    "start_time": "2022-06-14T10:01:51.874Z"
   },
   {
    "duration": 69,
    "start_time": "2022-06-14T10:01:56.932Z"
   },
   {
    "duration": 26259,
    "start_time": "2022-06-14T10:01:57.002Z"
   },
   {
    "duration": 5799,
    "start_time": "2022-06-14T10:02:23.262Z"
   },
   {
    "duration": 130,
    "start_time": "2022-06-14T10:02:29.062Z"
   },
   {
    "duration": 1295,
    "start_time": "2022-06-14T10:03:42.587Z"
   },
   {
    "duration": 957,
    "start_time": "2022-06-14T10:03:43.884Z"
   },
   {
    "duration": 96,
    "start_time": "2022-06-14T10:03:44.843Z"
   },
   {
    "duration": 133,
    "start_time": "2022-06-14T10:03:44.942Z"
   },
   {
    "duration": 483,
    "start_time": "2022-06-14T10:03:45.077Z"
   },
   {
    "duration": 571,
    "start_time": "2022-06-14T10:03:45.561Z"
   },
   {
    "duration": 29,
    "start_time": "2022-06-14T10:03:46.133Z"
   },
   {
    "duration": 33,
    "start_time": "2022-06-14T10:03:46.164Z"
   },
   {
    "duration": 38,
    "start_time": "2022-06-14T10:03:46.199Z"
   },
   {
    "duration": 23,
    "start_time": "2022-06-14T10:03:46.241Z"
   },
   {
    "duration": 33,
    "start_time": "2022-06-14T10:03:46.265Z"
   },
   {
    "duration": 38,
    "start_time": "2022-06-14T10:03:46.299Z"
   },
   {
    "duration": 386,
    "start_time": "2022-06-14T10:03:46.338Z"
   },
   {
    "duration": 310,
    "start_time": "2022-06-14T10:03:46.726Z"
   },
   {
    "duration": 76,
    "start_time": "2022-06-14T10:03:47.038Z"
   },
   {
    "duration": 385,
    "start_time": "2022-06-14T10:03:47.115Z"
   },
   {
    "duration": 67,
    "start_time": "2022-06-14T10:03:47.502Z"
   },
   {
    "duration": 244,
    "start_time": "2022-06-14T10:03:47.571Z"
   },
   {
    "duration": 309,
    "start_time": "2022-06-14T10:03:47.817Z"
   },
   {
    "duration": 225,
    "start_time": "2022-06-14T10:03:48.128Z"
   },
   {
    "duration": 552,
    "start_time": "2022-06-14T10:03:48.359Z"
   },
   {
    "duration": 26,
    "start_time": "2022-06-14T10:03:48.913Z"
   },
   {
    "duration": 96,
    "start_time": "2022-06-14T10:03:48.941Z"
   },
   {
    "duration": 32,
    "start_time": "2022-06-14T10:03:49.039Z"
   },
   {
    "duration": 61,
    "start_time": "2022-06-14T10:03:49.072Z"
   },
   {
    "duration": 882,
    "start_time": "2022-06-14T10:03:49.134Z"
   },
   {
    "duration": 2,
    "start_time": "2022-06-14T10:03:50.018Z"
   },
   {
    "duration": 19938,
    "start_time": "2022-06-14T10:03:50.024Z"
   },
   {
    "duration": 45636,
    "start_time": "2022-06-14T10:04:09.965Z"
   },
   {
    "duration": 5251,
    "start_time": "2022-06-14T10:04:55.603Z"
   },
   {
    "duration": 56,
    "start_time": "2022-06-14T10:05:00.858Z"
   },
   {
    "duration": 26462,
    "start_time": "2022-06-14T10:05:00.916Z"
   },
   {
    "duration": 5611,
    "start_time": "2022-06-14T10:05:27.380Z"
   },
   {
    "duration": 8,
    "start_time": "2022-06-14T10:05:32.993Z"
   },
   {
    "duration": 19,
    "start_time": "2022-06-14T10:06:24.051Z"
   },
   {
    "duration": 1361,
    "start_time": "2022-06-14T10:28:12.535Z"
   },
   {
    "duration": 945,
    "start_time": "2022-06-14T10:28:13.899Z"
   },
   {
    "duration": 91,
    "start_time": "2022-06-14T10:28:14.846Z"
   },
   {
    "duration": 134,
    "start_time": "2022-06-14T10:28:14.939Z"
   },
   {
    "duration": 459,
    "start_time": "2022-06-14T10:28:15.075Z"
   },
   {
    "duration": 571,
    "start_time": "2022-06-14T10:28:15.536Z"
   },
   {
    "duration": 27,
    "start_time": "2022-06-14T10:28:16.109Z"
   },
   {
    "duration": 47,
    "start_time": "2022-06-14T10:28:16.138Z"
   },
   {
    "duration": 36,
    "start_time": "2022-06-14T10:28:16.187Z"
   },
   {
    "duration": 8,
    "start_time": "2022-06-14T10:28:16.226Z"
   },
   {
    "duration": 66,
    "start_time": "2022-06-14T10:28:16.235Z"
   },
   {
    "duration": 59,
    "start_time": "2022-06-14T10:28:16.302Z"
   },
   {
    "duration": 388,
    "start_time": "2022-06-14T10:28:16.362Z"
   },
   {
    "duration": 322,
    "start_time": "2022-06-14T10:28:16.752Z"
   },
   {
    "duration": 71,
    "start_time": "2022-06-14T10:28:17.075Z"
   },
   {
    "duration": 412,
    "start_time": "2022-06-14T10:28:17.159Z"
   },
   {
    "duration": 43,
    "start_time": "2022-06-14T10:28:17.572Z"
   },
   {
    "duration": 323,
    "start_time": "2022-06-14T10:28:17.617Z"
   },
   {
    "duration": 295,
    "start_time": "2022-06-14T10:28:17.941Z"
   },
   {
    "duration": 235,
    "start_time": "2022-06-14T10:28:18.237Z"
   },
   {
    "duration": 556,
    "start_time": "2022-06-14T10:28:18.474Z"
   },
   {
    "duration": 28,
    "start_time": "2022-06-14T10:28:19.032Z"
   },
   {
    "duration": 105,
    "start_time": "2022-06-14T10:28:19.062Z"
   },
   {
    "duration": 25,
    "start_time": "2022-06-14T10:28:19.168Z"
   },
   {
    "duration": 72,
    "start_time": "2022-06-14T10:28:19.195Z"
   },
   {
    "duration": 900,
    "start_time": "2022-06-14T10:28:19.269Z"
   },
   {
    "duration": 3,
    "start_time": "2022-06-14T10:28:20.170Z"
   },
   {
    "duration": 20185,
    "start_time": "2022-06-14T10:28:20.176Z"
   },
   {
    "duration": 48340,
    "start_time": "2022-06-14T10:28:40.363Z"
   },
   {
    "duration": 5389,
    "start_time": "2022-06-14T10:29:28.704Z"
   },
   {
    "duration": 75,
    "start_time": "2022-06-14T10:29:34.095Z"
   },
   {
    "duration": 28417,
    "start_time": "2022-06-14T10:29:34.171Z"
   },
   {
    "duration": 47372,
    "start_time": "2022-06-14T10:30:02.590Z"
   },
   {
    "duration": 9,
    "start_time": "2022-06-14T10:30:49.964Z"
   },
   {
    "duration": 32723,
    "start_time": "2022-06-14T10:31:04.355Z"
   },
   {
    "duration": 37222,
    "start_time": "2022-06-14T10:32:12.345Z"
   },
   {
    "duration": 3,
    "start_time": "2022-06-14T10:34:04.433Z"
   },
   {
    "duration": 1316,
    "start_time": "2022-06-14T10:35:11.040Z"
   },
   {
    "duration": 1078,
    "start_time": "2022-06-14T10:35:12.360Z"
   },
   {
    "duration": 99,
    "start_time": "2022-06-14T10:35:13.440Z"
   },
   {
    "duration": 160,
    "start_time": "2022-06-14T10:35:13.541Z"
   },
   {
    "duration": 521,
    "start_time": "2022-06-14T10:35:13.704Z"
   },
   {
    "duration": 605,
    "start_time": "2022-06-14T10:35:14.227Z"
   },
   {
    "duration": 38,
    "start_time": "2022-06-14T10:35:14.833Z"
   },
   {
    "duration": 56,
    "start_time": "2022-06-14T10:35:14.873Z"
   },
   {
    "duration": 56,
    "start_time": "2022-06-14T10:35:14.931Z"
   },
   {
    "duration": 62,
    "start_time": "2022-06-14T10:35:14.994Z"
   },
   {
    "duration": 67,
    "start_time": "2022-06-14T10:35:15.058Z"
   },
   {
    "duration": 70,
    "start_time": "2022-06-14T10:35:15.127Z"
   },
   {
    "duration": 398,
    "start_time": "2022-06-14T10:35:15.199Z"
   },
   {
    "duration": 314,
    "start_time": "2022-06-14T10:35:15.600Z"
   },
   {
    "duration": 82,
    "start_time": "2022-06-14T10:35:15.916Z"
   },
   {
    "duration": 348,
    "start_time": "2022-06-14T10:35:16.000Z"
   },
   {
    "duration": 60,
    "start_time": "2022-06-14T10:35:16.350Z"
   },
   {
    "duration": 279,
    "start_time": "2022-06-14T10:35:16.412Z"
   },
   {
    "duration": 306,
    "start_time": "2022-06-14T10:35:16.692Z"
   },
   {
    "duration": 284,
    "start_time": "2022-06-14T10:35:16.999Z"
   },
   {
    "duration": 663,
    "start_time": "2022-06-14T10:35:17.286Z"
   },
   {
    "duration": 45,
    "start_time": "2022-06-14T10:35:17.951Z"
   },
   {
    "duration": 106,
    "start_time": "2022-06-14T10:35:17.999Z"
   },
   {
    "duration": 25,
    "start_time": "2022-06-14T10:35:18.107Z"
   },
   {
    "duration": 83,
    "start_time": "2022-06-14T10:35:18.133Z"
   },
   {
    "duration": 977,
    "start_time": "2022-06-14T10:35:18.218Z"
   },
   {
    "duration": 2,
    "start_time": "2022-06-14T10:35:19.197Z"
   },
   {
    "duration": 56064,
    "start_time": "2022-06-14T10:35:19.200Z"
   },
   {
    "duration": 50209,
    "start_time": "2022-06-14T10:36:15.265Z"
   },
   {
    "duration": 5451,
    "start_time": "2022-06-14T10:37:05.476Z"
   },
   {
    "duration": 84,
    "start_time": "2022-06-14T10:37:10.928Z"
   },
   {
    "duration": 29594,
    "start_time": "2022-06-14T10:37:11.013Z"
   },
   {
    "duration": 139483,
    "start_time": "2022-06-14T10:37:40.609Z"
   },
   {
    "duration": 3,
    "start_time": "2022-06-14T10:40:00.093Z"
   },
   {
    "duration": 18,
    "start_time": "2022-06-14T10:40:00.097Z"
   },
   {
    "duration": 120737,
    "start_time": "2022-06-14T10:40:21.053Z"
   },
   {
    "duration": 40936,
    "start_time": "2022-06-14T10:44:19.538Z"
   },
   {
    "duration": 34767,
    "start_time": "2022-06-14T10:51:05.210Z"
   },
   {
    "duration": 102476,
    "start_time": "2022-06-14T10:52:37.785Z"
   },
   {
    "duration": 1421,
    "start_time": "2022-06-14T10:54:33.734Z"
   },
   {
    "duration": 1013,
    "start_time": "2022-06-14T10:54:35.157Z"
   },
   {
    "duration": 102,
    "start_time": "2022-06-14T10:54:36.172Z"
   },
   {
    "duration": 129,
    "start_time": "2022-06-14T10:54:36.276Z"
   },
   {
    "duration": 490,
    "start_time": "2022-06-14T10:54:36.407Z"
   },
   {
    "duration": 610,
    "start_time": "2022-06-14T10:54:36.899Z"
   },
   {
    "duration": 35,
    "start_time": "2022-06-14T10:54:37.511Z"
   },
   {
    "duration": 58,
    "start_time": "2022-06-14T10:54:37.560Z"
   },
   {
    "duration": 32,
    "start_time": "2022-06-14T10:54:37.620Z"
   },
   {
    "duration": 26,
    "start_time": "2022-06-14T10:54:37.654Z"
   },
   {
    "duration": 36,
    "start_time": "2022-06-14T10:54:37.682Z"
   },
   {
    "duration": 62,
    "start_time": "2022-06-14T10:54:37.719Z"
   },
   {
    "duration": 442,
    "start_time": "2022-06-14T10:54:37.782Z"
   },
   {
    "duration": 347,
    "start_time": "2022-06-14T10:54:38.227Z"
   },
   {
    "duration": 72,
    "start_time": "2022-06-14T10:54:38.576Z"
   },
   {
    "duration": 365,
    "start_time": "2022-06-14T10:54:38.650Z"
   },
   {
    "duration": 65,
    "start_time": "2022-06-14T10:54:39.017Z"
   },
   {
    "duration": 264,
    "start_time": "2022-06-14T10:54:39.084Z"
   },
   {
    "duration": 326,
    "start_time": "2022-06-14T10:54:39.349Z"
   },
   {
    "duration": 243,
    "start_time": "2022-06-14T10:54:39.676Z"
   },
   {
    "duration": 613,
    "start_time": "2022-06-14T10:54:39.920Z"
   },
   {
    "duration": 42,
    "start_time": "2022-06-14T10:54:40.535Z"
   },
   {
    "duration": 98,
    "start_time": "2022-06-14T10:54:40.579Z"
   },
   {
    "duration": 28,
    "start_time": "2022-06-14T10:54:40.679Z"
   },
   {
    "duration": 73,
    "start_time": "2022-06-14T10:54:40.708Z"
   },
   {
    "duration": 1003,
    "start_time": "2022-06-14T10:54:40.783Z"
   },
   {
    "duration": 2,
    "start_time": "2022-06-14T10:54:41.788Z"
   },
   {
    "duration": 32373,
    "start_time": "2022-06-14T10:54:41.793Z"
   },
   {
    "duration": 48067,
    "start_time": "2022-06-14T10:55:14.168Z"
   },
   {
    "duration": 5323,
    "start_time": "2022-06-14T10:56:02.237Z"
   },
   {
    "duration": 85,
    "start_time": "2022-06-14T10:56:07.562Z"
   },
   {
    "duration": 27730,
    "start_time": "2022-06-14T10:56:07.650Z"
   },
   {
    "duration": 32294,
    "start_time": "2022-06-14T10:56:35.382Z"
   },
   {
    "duration": 3,
    "start_time": "2022-06-14T10:57:07.678Z"
   },
   {
    "duration": 16,
    "start_time": "2022-06-14T10:57:07.683Z"
   },
   {
    "duration": 36563,
    "start_time": "2022-06-14T10:59:33.311Z"
   },
   {
    "duration": 2,
    "start_time": "2022-06-14T11:00:29.773Z"
   },
   {
    "duration": 5,
    "start_time": "2022-06-14T11:00:32.586Z"
   },
   {
    "duration": 1422,
    "start_time": "2022-06-14T13:09:37.171Z"
   },
   {
    "duration": 1456,
    "start_time": "2022-06-14T13:09:38.596Z"
   },
   {
    "duration": 101,
    "start_time": "2022-06-14T13:09:40.053Z"
   },
   {
    "duration": 135,
    "start_time": "2022-06-14T13:09:40.172Z"
   },
   {
    "duration": 541,
    "start_time": "2022-06-14T13:09:40.309Z"
   },
   {
    "duration": 601,
    "start_time": "2022-06-14T13:09:40.852Z"
   },
   {
    "duration": 37,
    "start_time": "2022-06-14T13:09:41.454Z"
   },
   {
    "duration": 36,
    "start_time": "2022-06-14T13:09:41.493Z"
   },
   {
    "duration": 64,
    "start_time": "2022-06-14T13:09:41.531Z"
   },
   {
    "duration": 8,
    "start_time": "2022-06-14T13:09:41.598Z"
   },
   {
    "duration": 58,
    "start_time": "2022-06-14T13:09:41.608Z"
   },
   {
    "duration": 31,
    "start_time": "2022-06-14T13:09:41.673Z"
   },
   {
    "duration": 425,
    "start_time": "2022-06-14T13:09:41.706Z"
   },
   {
    "duration": 330,
    "start_time": "2022-06-14T13:09:42.133Z"
   },
   {
    "duration": 71,
    "start_time": "2022-06-14T13:09:42.464Z"
   },
   {
    "duration": 372,
    "start_time": "2022-06-14T13:09:42.536Z"
   },
   {
    "duration": 69,
    "start_time": "2022-06-14T13:09:42.910Z"
   },
   {
    "duration": 316,
    "start_time": "2022-06-14T13:09:42.982Z"
   },
   {
    "duration": 321,
    "start_time": "2022-06-14T13:09:43.300Z"
   },
   {
    "duration": 256,
    "start_time": "2022-06-14T13:09:43.623Z"
   },
   {
    "duration": 596,
    "start_time": "2022-06-14T13:09:43.881Z"
   },
   {
    "duration": 28,
    "start_time": "2022-06-14T13:09:44.479Z"
   },
   {
    "duration": 138,
    "start_time": "2022-06-14T13:09:44.508Z"
   },
   {
    "duration": 36,
    "start_time": "2022-06-14T13:09:44.648Z"
   },
   {
    "duration": 63,
    "start_time": "2022-06-14T13:09:44.685Z"
   },
   {
    "duration": 1037,
    "start_time": "2022-06-14T13:09:44.760Z"
   },
   {
    "duration": 2,
    "start_time": "2022-06-14T13:09:45.799Z"
   },
   {
    "duration": 38265,
    "start_time": "2022-06-14T13:09:45.804Z"
   },
   {
    "duration": 49954,
    "start_time": "2022-06-14T13:10:24.071Z"
   },
   {
    "duration": 5324,
    "start_time": "2022-06-14T13:11:14.027Z"
   },
   {
    "duration": 69,
    "start_time": "2022-06-14T13:11:19.353Z"
   },
   {
    "duration": 29198,
    "start_time": "2022-06-14T13:11:19.424Z"
   },
   {
    "duration": 57658,
    "start_time": "2022-06-14T13:11:48.624Z"
   },
   {
    "duration": 2,
    "start_time": "2022-06-14T13:12:46.284Z"
   },
   {
    "duration": 16,
    "start_time": "2022-06-14T13:12:46.289Z"
   },
   {
    "duration": 78,
    "start_time": "2022-06-14T13:12:46.307Z"
   },
   {
    "duration": 8,
    "start_time": "2022-06-14T19:53:21.422Z"
   },
   {
    "duration": 9,
    "start_time": "2022-06-14T19:53:24.948Z"
   },
   {
    "duration": 1548,
    "start_time": "2022-06-15T16:47:48.293Z"
   },
   {
    "duration": 1220,
    "start_time": "2022-06-15T16:47:49.843Z"
   },
   {
    "duration": 106,
    "start_time": "2022-06-15T16:47:51.065Z"
   },
   {
    "duration": 131,
    "start_time": "2022-06-15T16:47:51.173Z"
   },
   {
    "duration": 440,
    "start_time": "2022-06-15T16:47:51.306Z"
   },
   {
    "duration": 556,
    "start_time": "2022-06-15T16:47:51.747Z"
   },
   {
    "duration": 27,
    "start_time": "2022-06-15T16:47:52.305Z"
   },
   {
    "duration": 37,
    "start_time": "2022-06-15T16:47:52.334Z"
   },
   {
    "duration": 48,
    "start_time": "2022-06-15T16:47:52.373Z"
   },
   {
    "duration": 15,
    "start_time": "2022-06-15T16:47:52.424Z"
   },
   {
    "duration": 41,
    "start_time": "2022-06-15T16:47:52.440Z"
   },
   {
    "duration": 50,
    "start_time": "2022-06-15T16:47:52.483Z"
   },
   {
    "duration": 389,
    "start_time": "2022-06-15T16:47:52.535Z"
   },
   {
    "duration": 311,
    "start_time": "2022-06-15T16:47:52.925Z"
   },
   {
    "duration": 74,
    "start_time": "2022-06-15T16:47:53.238Z"
   },
   {
    "duration": 343,
    "start_time": "2022-06-15T16:47:53.314Z"
   },
   {
    "duration": 54,
    "start_time": "2022-06-15T16:47:53.658Z"
   },
   {
    "duration": 271,
    "start_time": "2022-06-15T16:47:53.714Z"
   },
   {
    "duration": 316,
    "start_time": "2022-06-15T16:47:53.987Z"
   },
   {
    "duration": 242,
    "start_time": "2022-06-15T16:47:54.305Z"
   },
   {
    "duration": 550,
    "start_time": "2022-06-15T16:47:54.549Z"
   },
   {
    "duration": 25,
    "start_time": "2022-06-15T16:47:55.101Z"
   },
   {
    "duration": 102,
    "start_time": "2022-06-15T16:47:55.127Z"
   },
   {
    "duration": 24,
    "start_time": "2022-06-15T16:47:55.231Z"
   },
   {
    "duration": 73,
    "start_time": "2022-06-15T16:47:55.257Z"
   },
   {
    "duration": 938,
    "start_time": "2022-06-15T16:47:55.332Z"
   },
   {
    "duration": 3,
    "start_time": "2022-06-15T16:47:56.271Z"
   },
   {
    "duration": 17722,
    "start_time": "2022-06-15T16:47:56.277Z"
   },
   {
    "duration": 47391,
    "start_time": "2022-06-15T16:48:14.002Z"
   },
   {
    "duration": 5225,
    "start_time": "2022-06-15T16:49:01.395Z"
   },
   {
    "duration": 72,
    "start_time": "2022-06-15T16:49:06.622Z"
   },
   {
    "duration": 27974,
    "start_time": "2022-06-15T16:49:06.696Z"
   },
   {
    "duration": 85334,
    "start_time": "2022-06-15T16:49:34.671Z"
   },
   {
    "duration": 3,
    "start_time": "2022-06-15T16:51:00.007Z"
   },
   {
    "duration": 15,
    "start_time": "2022-06-15T16:51:00.011Z"
   },
   {
    "duration": 279,
    "start_time": "2022-06-15T16:52:37.889Z"
   },
   {
    "duration": 4,
    "start_time": "2022-06-15T16:52:55.901Z"
   },
   {
    "duration": 1040,
    "start_time": "2022-06-15T16:52:58.782Z"
   },
   {
    "duration": 401,
    "start_time": "2022-06-15T16:53:09.207Z"
   },
   {
    "duration": 4,
    "start_time": "2022-06-15T16:54:42.725Z"
   },
   {
    "duration": 885,
    "start_time": "2022-06-15T16:54:46.121Z"
   },
   {
    "duration": 82,
    "start_time": "2022-06-15T16:54:51.675Z"
   },
   {
    "duration": 126,
    "start_time": "2022-06-15T16:54:55.002Z"
   },
   {
    "duration": 414,
    "start_time": "2022-06-15T16:54:57.703Z"
   },
   {
    "duration": 524,
    "start_time": "2022-06-15T16:55:01.807Z"
   },
   {
    "duration": 361,
    "start_time": "2022-06-15T16:55:21.670Z"
   },
   {
    "duration": 323,
    "start_time": "2022-06-15T16:55:29.223Z"
   },
   {
    "duration": 82,
    "start_time": "2022-06-15T16:55:32.754Z"
   },
   {
    "duration": 298,
    "start_time": "2022-06-15T16:55:35.896Z"
   },
   {
    "duration": 251,
    "start_time": "2022-06-15T16:55:42.958Z"
   },
   {
    "duration": 51,
    "start_time": "2022-06-15T16:55:57.850Z"
   },
   {
    "duration": 271,
    "start_time": "2022-06-15T16:56:01.410Z"
   },
   {
    "duration": 458,
    "start_time": "2022-06-15T16:56:05.497Z"
   },
   {
    "duration": 235,
    "start_time": "2022-06-15T16:56:11.186Z"
   },
   {
    "duration": 543,
    "start_time": "2022-06-15T16:56:16.778Z"
   },
   {
    "duration": 92,
    "start_time": "2022-06-15T16:56:22.680Z"
   },
   {
    "duration": 38,
    "start_time": "2022-06-15T16:56:30.554Z"
   },
   {
    "duration": 66,
    "start_time": "2022-06-15T16:56:35.453Z"
   },
   {
    "duration": 1157,
    "start_time": "2022-06-15T17:01:40.673Z"
   },
   {
    "duration": 14105,
    "start_time": "2022-06-15T17:02:46.394Z"
   },
   {
    "duration": 13504,
    "start_time": "2022-06-15T17:03:29.095Z"
   },
   {
    "duration": 37336,
    "start_time": "2022-06-15T17:04:47.443Z"
   },
   {
    "duration": 201,
    "start_time": "2022-06-15T17:10:01.720Z"
   },
   {
    "duration": 1414,
    "start_time": "2022-06-15T17:11:27.750Z"
   },
   {
    "duration": 1038,
    "start_time": "2022-06-15T17:11:29.167Z"
   },
   {
    "duration": 118,
    "start_time": "2022-06-15T17:11:30.206Z"
   },
   {
    "duration": 147,
    "start_time": "2022-06-15T17:11:30.327Z"
   },
   {
    "duration": 521,
    "start_time": "2022-06-15T17:11:30.476Z"
   },
   {
    "duration": 600,
    "start_time": "2022-06-15T17:11:30.998Z"
   },
   {
    "duration": 29,
    "start_time": "2022-06-15T17:11:31.600Z"
   },
   {
    "duration": 40,
    "start_time": "2022-06-15T17:11:31.631Z"
   },
   {
    "duration": 47,
    "start_time": "2022-06-15T17:11:31.673Z"
   },
   {
    "duration": 13,
    "start_time": "2022-06-15T17:11:31.723Z"
   },
   {
    "duration": 46,
    "start_time": "2022-06-15T17:11:31.738Z"
   },
   {
    "duration": 44,
    "start_time": "2022-06-15T17:11:31.785Z"
   },
   {
    "duration": 410,
    "start_time": "2022-06-15T17:11:31.831Z"
   },
   {
    "duration": 339,
    "start_time": "2022-06-15T17:11:32.243Z"
   },
   {
    "duration": 77,
    "start_time": "2022-06-15T17:11:32.584Z"
   },
   {
    "duration": 353,
    "start_time": "2022-06-15T17:11:32.663Z"
   },
   {
    "duration": 289,
    "start_time": "2022-06-15T17:11:33.018Z"
   },
   {
    "duration": 43,
    "start_time": "2022-06-15T17:11:33.309Z"
   },
   {
    "duration": 282,
    "start_time": "2022-06-15T17:11:33.354Z"
   },
   {
    "duration": 296,
    "start_time": "2022-06-15T17:11:33.638Z"
   },
   {
    "duration": 240,
    "start_time": "2022-06-15T17:11:33.936Z"
   },
   {
    "duration": 700,
    "start_time": "2022-06-15T17:11:34.178Z"
   },
   {
    "duration": 30,
    "start_time": "2022-06-15T17:11:34.880Z"
   },
   {
    "duration": 105,
    "start_time": "2022-06-15T17:11:34.912Z"
   },
   {
    "duration": 29,
    "start_time": "2022-06-15T17:11:35.019Z"
   },
   {
    "duration": 80,
    "start_time": "2022-06-15T17:11:35.049Z"
   },
   {
    "duration": 1139,
    "start_time": "2022-06-15T17:11:35.131Z"
   },
   {
    "duration": 2,
    "start_time": "2022-06-15T17:11:36.275Z"
   },
   {
    "duration": 13901,
    "start_time": "2022-06-15T17:11:36.294Z"
   },
   {
    "duration": 36073,
    "start_time": "2022-06-15T17:11:50.196Z"
   },
   {
    "duration": 4119,
    "start_time": "2022-06-15T17:12:26.271Z"
   },
   {
    "duration": 119,
    "start_time": "2022-06-15T17:12:30.393Z"
   },
   {
    "duration": 22885,
    "start_time": "2022-06-15T17:12:30.514Z"
   },
   {
    "duration": 4606,
    "start_time": "2022-06-15T17:12:53.401Z"
   },
   {
    "duration": 2,
    "start_time": "2022-06-15T17:12:58.009Z"
   },
   {
    "duration": 10,
    "start_time": "2022-06-15T17:12:58.013Z"
   },
   {
    "duration": 13771,
    "start_time": "2022-06-15T17:12:58.025Z"
   },
   {
    "duration": 14258,
    "start_time": "2022-06-15T17:13:13.537Z"
   },
   {
    "duration": 1419,
    "start_time": "2022-06-15T17:15:01.202Z"
   },
   {
    "duration": 959,
    "start_time": "2022-06-15T17:15:02.624Z"
   },
   {
    "duration": 135,
    "start_time": "2022-06-15T17:15:03.584Z"
   },
   {
    "duration": 120,
    "start_time": "2022-06-15T17:15:03.721Z"
   },
   {
    "duration": 488,
    "start_time": "2022-06-15T17:15:03.842Z"
   },
   {
    "duration": 582,
    "start_time": "2022-06-15T17:15:04.332Z"
   },
   {
    "duration": 30,
    "start_time": "2022-06-15T17:15:04.916Z"
   },
   {
    "duration": 48,
    "start_time": "2022-06-15T17:15:04.948Z"
   },
   {
    "duration": 44,
    "start_time": "2022-06-15T17:15:04.998Z"
   },
   {
    "duration": 17,
    "start_time": "2022-06-15T17:15:05.044Z"
   },
   {
    "duration": 42,
    "start_time": "2022-06-15T17:15:05.063Z"
   },
   {
    "duration": 43,
    "start_time": "2022-06-15T17:15:05.107Z"
   },
   {
    "duration": 440,
    "start_time": "2022-06-15T17:15:05.151Z"
   },
   {
    "duration": 341,
    "start_time": "2022-06-15T17:15:05.594Z"
   },
   {
    "duration": 85,
    "start_time": "2022-06-15T17:15:05.936Z"
   },
   {
    "duration": 391,
    "start_time": "2022-06-15T17:15:06.022Z"
   },
   {
    "duration": 284,
    "start_time": "2022-06-15T17:15:06.415Z"
   },
   {
    "duration": 48,
    "start_time": "2022-06-15T17:15:06.701Z"
   },
   {
    "duration": 275,
    "start_time": "2022-06-15T17:15:06.751Z"
   },
   {
    "duration": 306,
    "start_time": "2022-06-15T17:15:07.028Z"
   },
   {
    "duration": 303,
    "start_time": "2022-06-15T17:15:07.336Z"
   },
   {
    "duration": 708,
    "start_time": "2022-06-15T17:15:07.641Z"
   },
   {
    "duration": 28,
    "start_time": "2022-06-15T17:15:08.351Z"
   },
   {
    "duration": 110,
    "start_time": "2022-06-15T17:15:08.380Z"
   },
   {
    "duration": 28,
    "start_time": "2022-06-15T17:15:08.495Z"
   },
   {
    "duration": 80,
    "start_time": "2022-06-15T17:15:08.525Z"
   },
   {
    "duration": 1223,
    "start_time": "2022-06-15T17:15:08.607Z"
   },
   {
    "duration": 3,
    "start_time": "2022-06-15T17:15:09.833Z"
   },
   {
    "duration": 18658,
    "start_time": "2022-06-15T17:15:09.838Z"
   },
   {
    "duration": 37132,
    "start_time": "2022-06-15T17:15:28.498Z"
   },
   {
    "duration": 4093,
    "start_time": "2022-06-15T17:16:05.632Z"
   },
   {
    "duration": 130,
    "start_time": "2022-06-15T17:16:09.726Z"
   },
   {
    "duration": 22774,
    "start_time": "2022-06-15T17:16:09.858Z"
   },
   {
    "duration": 4774,
    "start_time": "2022-06-15T17:16:32.634Z"
   },
   {
    "duration": 2,
    "start_time": "2022-06-15T17:16:37.410Z"
   },
   {
    "duration": 82,
    "start_time": "2022-06-15T17:16:37.414Z"
   },
   {
    "duration": 2044875,
    "start_time": "2022-06-15T17:18:01.133Z"
   },
   {
    "duration": 52523,
    "start_time": "2022-06-15T18:37:33.614Z"
   },
   {
    "duration": 13806,
    "start_time": "2022-06-15T18:38:41.777Z"
   },
   {
    "duration": 2144,
    "start_time": "2022-06-15T18:39:19.437Z"
   },
   {
    "duration": 1387,
    "start_time": "2022-06-15T18:40:06.796Z"
   },
   {
    "duration": 1036,
    "start_time": "2022-06-15T18:40:08.185Z"
   },
   {
    "duration": 116,
    "start_time": "2022-06-15T18:40:09.227Z"
   },
   {
    "duration": 126,
    "start_time": "2022-06-15T18:40:09.345Z"
   },
   {
    "duration": 501,
    "start_time": "2022-06-15T18:40:09.473Z"
   },
   {
    "duration": 602,
    "start_time": "2022-06-15T18:40:09.975Z"
   },
   {
    "duration": 30,
    "start_time": "2022-06-15T18:40:10.579Z"
   },
   {
    "duration": 53,
    "start_time": "2022-06-15T18:40:10.610Z"
   },
   {
    "duration": 54,
    "start_time": "2022-06-15T18:40:10.665Z"
   },
   {
    "duration": 22,
    "start_time": "2022-06-15T18:40:10.721Z"
   },
   {
    "duration": 48,
    "start_time": "2022-06-15T18:40:10.744Z"
   },
   {
    "duration": 46,
    "start_time": "2022-06-15T18:40:10.794Z"
   },
   {
    "duration": 427,
    "start_time": "2022-06-15T18:40:10.842Z"
   },
   {
    "duration": 326,
    "start_time": "2022-06-15T18:40:11.271Z"
   },
   {
    "duration": 75,
    "start_time": "2022-06-15T18:40:11.598Z"
   },
   {
    "duration": 386,
    "start_time": "2022-06-15T18:40:11.675Z"
   },
   {
    "duration": 274,
    "start_time": "2022-06-15T18:40:12.063Z"
   },
   {
    "duration": 55,
    "start_time": "2022-06-15T18:40:12.339Z"
   },
   {
    "duration": 299,
    "start_time": "2022-06-15T18:40:12.397Z"
   },
   {
    "duration": 301,
    "start_time": "2022-06-15T18:40:12.698Z"
   },
   {
    "duration": 248,
    "start_time": "2022-06-15T18:40:13.000Z"
   },
   {
    "duration": 682,
    "start_time": "2022-06-15T18:40:13.249Z"
   },
   {
    "duration": 27,
    "start_time": "2022-06-15T18:40:13.933Z"
   },
   {
    "duration": 119,
    "start_time": "2022-06-15T18:40:13.962Z"
   },
   {
    "duration": 41,
    "start_time": "2022-06-15T18:40:14.083Z"
   },
   {
    "duration": 85,
    "start_time": "2022-06-15T18:40:14.126Z"
   },
   {
    "duration": 1191,
    "start_time": "2022-06-15T18:40:14.216Z"
   },
   {
    "duration": 3,
    "start_time": "2022-06-15T18:40:15.409Z"
   },
   {
    "duration": 13986,
    "start_time": "2022-06-15T18:40:15.414Z"
   },
   {
    "duration": 14186,
    "start_time": "2022-06-15T18:40:29.402Z"
   },
   {
    "duration": 2137,
    "start_time": "2022-06-15T18:40:43.590Z"
   },
   {
    "duration": 117,
    "start_time": "2022-06-15T18:40:45.729Z"
   },
   {
    "duration": 22810,
    "start_time": "2022-06-15T18:40:45.848Z"
   },
   {
    "duration": 26148,
    "start_time": "2022-06-15T18:41:08.660Z"
   },
   {
    "duration": 3,
    "start_time": "2022-06-15T18:41:34.810Z"
   },
   {
    "duration": 80,
    "start_time": "2022-06-15T18:41:34.815Z"
   },
   {
    "duration": 28914,
    "start_time": "2022-06-15T18:49:12.994Z"
   },
   {
    "duration": 151,
    "start_time": "2022-06-15T18:51:45.478Z"
   },
   {
    "duration": 47,
    "start_time": "2022-06-15T18:52:29.432Z"
   },
   {
    "duration": 47,
    "start_time": "2022-06-15T18:52:45.249Z"
   },
   {
    "duration": 7087,
    "start_time": "2022-06-15T18:52:54.116Z"
   },
   {
    "duration": 1155,
    "start_time": "2022-06-15T18:56:24.790Z"
   },
   {
    "duration": 14840,
    "start_time": "2022-06-15T18:56:30.556Z"
   },
   {
    "duration": 14069,
    "start_time": "2022-06-15T18:56:58.508Z"
   },
   {
    "duration": 61674,
    "start_time": "2022-06-15T18:57:25.785Z"
   },
   {
    "duration": 3866,
    "start_time": "2022-06-15T18:59:04.580Z"
   },
   {
    "duration": 6693,
    "start_time": "2022-06-15T18:59:22.003Z"
   },
   {
    "duration": 1368,
    "start_time": "2022-06-15T19:00:55.908Z"
   },
   {
    "duration": 990,
    "start_time": "2022-06-15T19:00:57.278Z"
   },
   {
    "duration": 100,
    "start_time": "2022-06-15T19:00:58.270Z"
   },
   {
    "duration": 128,
    "start_time": "2022-06-15T19:00:58.372Z"
   },
   {
    "duration": 513,
    "start_time": "2022-06-15T19:00:58.502Z"
   },
   {
    "duration": 627,
    "start_time": "2022-06-15T19:00:59.017Z"
   },
   {
    "duration": 29,
    "start_time": "2022-06-15T19:00:59.646Z"
   },
   {
    "duration": 45,
    "start_time": "2022-06-15T19:00:59.676Z"
   },
   {
    "duration": 36,
    "start_time": "2022-06-15T19:00:59.723Z"
   },
   {
    "duration": 10,
    "start_time": "2022-06-15T19:00:59.762Z"
   },
   {
    "duration": 46,
    "start_time": "2022-06-15T19:00:59.774Z"
   },
   {
    "duration": 37,
    "start_time": "2022-06-15T19:00:59.822Z"
   },
   {
    "duration": 427,
    "start_time": "2022-06-15T19:00:59.861Z"
   },
   {
    "duration": 386,
    "start_time": "2022-06-15T19:01:00.290Z"
   },
   {
    "duration": 87,
    "start_time": "2022-06-15T19:01:00.677Z"
   },
   {
    "duration": 437,
    "start_time": "2022-06-15T19:01:00.765Z"
   },
   {
    "duration": 309,
    "start_time": "2022-06-15T19:01:01.205Z"
   },
   {
    "duration": 50,
    "start_time": "2022-06-15T19:01:01.516Z"
   },
   {
    "duration": 323,
    "start_time": "2022-06-15T19:01:01.568Z"
   },
   {
    "duration": 363,
    "start_time": "2022-06-15T19:01:01.892Z"
   },
   {
    "duration": 278,
    "start_time": "2022-06-15T19:01:02.257Z"
   },
   {
    "duration": 748,
    "start_time": "2022-06-15T19:01:02.537Z"
   },
   {
    "duration": 31,
    "start_time": "2022-06-15T19:01:03.287Z"
   },
   {
    "duration": 111,
    "start_time": "2022-06-15T19:01:03.320Z"
   },
   {
    "duration": 36,
    "start_time": "2022-06-15T19:01:03.433Z"
   },
   {
    "duration": 83,
    "start_time": "2022-06-15T19:01:03.471Z"
   },
   {
    "duration": 1219,
    "start_time": "2022-06-15T19:01:03.556Z"
   },
   {
    "duration": 3,
    "start_time": "2022-06-15T19:01:04.778Z"
   },
   {
    "duration": 14813,
    "start_time": "2022-06-15T19:01:04.782Z"
   },
   {
    "duration": 32232,
    "start_time": "2022-06-15T19:01:19.600Z"
   },
   {
    "duration": 3813,
    "start_time": "2022-06-15T19:01:51.834Z"
   },
   {
    "duration": 112,
    "start_time": "2022-06-15T19:01:55.649Z"
   },
   {
    "duration": 22645,
    "start_time": "2022-06-15T19:01:55.763Z"
   },
   {
    "duration": 6087,
    "start_time": "2022-06-15T19:02:18.411Z"
   },
   {
    "duration": 3,
    "start_time": "2022-06-15T19:02:24.500Z"
   },
   {
    "duration": 41,
    "start_time": "2022-06-15T19:02:24.505Z"
   },
   {
    "duration": 23223,
    "start_time": "2022-06-15T19:10:11.325Z"
   },
   {
    "duration": 6836,
    "start_time": "2022-06-15T19:14:39.376Z"
   },
   {
    "duration": 1357,
    "start_time": "2022-06-15T19:15:16.240Z"
   },
   {
    "duration": 1020,
    "start_time": "2022-06-15T19:15:17.599Z"
   },
   {
    "duration": 104,
    "start_time": "2022-06-15T19:15:18.620Z"
   },
   {
    "duration": 131,
    "start_time": "2022-06-15T19:15:18.726Z"
   },
   {
    "duration": 536,
    "start_time": "2022-06-15T19:15:18.858Z"
   },
   {
    "duration": 596,
    "start_time": "2022-06-15T19:15:19.396Z"
   },
   {
    "duration": 33,
    "start_time": "2022-06-15T19:15:19.995Z"
   },
   {
    "duration": 46,
    "start_time": "2022-06-15T19:15:20.030Z"
   },
   {
    "duration": 35,
    "start_time": "2022-06-15T19:15:20.096Z"
   },
   {
    "duration": 9,
    "start_time": "2022-06-15T19:15:20.134Z"
   },
   {
    "duration": 33,
    "start_time": "2022-06-15T19:15:20.144Z"
   },
   {
    "duration": 35,
    "start_time": "2022-06-15T19:15:20.194Z"
   },
   {
    "duration": 412,
    "start_time": "2022-06-15T19:15:20.231Z"
   },
   {
    "duration": 322,
    "start_time": "2022-06-15T19:15:20.645Z"
   },
   {
    "duration": 84,
    "start_time": "2022-06-15T19:15:20.969Z"
   },
   {
    "duration": 383,
    "start_time": "2022-06-15T19:15:21.055Z"
   },
   {
    "duration": 265,
    "start_time": "2022-06-15T19:15:21.441Z"
   },
   {
    "duration": 43,
    "start_time": "2022-06-15T19:15:21.708Z"
   },
   {
    "duration": 281,
    "start_time": "2022-06-15T19:15:21.753Z"
   },
   {
    "duration": 305,
    "start_time": "2022-06-15T19:15:22.036Z"
   },
   {
    "duration": 262,
    "start_time": "2022-06-15T19:15:22.342Z"
   },
   {
    "duration": 709,
    "start_time": "2022-06-15T19:15:22.606Z"
   },
   {
    "duration": 27,
    "start_time": "2022-06-15T19:15:23.317Z"
   },
   {
    "duration": 108,
    "start_time": "2022-06-15T19:15:23.345Z"
   },
   {
    "duration": 41,
    "start_time": "2022-06-15T19:15:23.454Z"
   },
   {
    "duration": 69,
    "start_time": "2022-06-15T19:15:23.497Z"
   },
   {
    "duration": 1149,
    "start_time": "2022-06-15T19:15:23.568Z"
   },
   {
    "duration": 3,
    "start_time": "2022-06-15T19:15:24.720Z"
   },
   {
    "duration": 14575,
    "start_time": "2022-06-15T19:15:24.724Z"
   },
   {
    "duration": 27642,
    "start_time": "2022-06-15T19:15:39.301Z"
   },
   {
    "duration": 3911,
    "start_time": "2022-06-15T19:16:06.945Z"
   },
   {
    "duration": 118,
    "start_time": "2022-06-15T19:16:10.858Z"
   },
   {
    "duration": 23417,
    "start_time": "2022-06-15T19:16:10.977Z"
   },
   {
    "duration": 6302,
    "start_time": "2022-06-15T19:16:34.396Z"
   },
   {
    "duration": 3,
    "start_time": "2022-06-15T19:16:40.700Z"
   },
   {
    "duration": 12,
    "start_time": "2022-06-15T19:16:40.705Z"
   },
   {
    "duration": 22647,
    "start_time": "2022-06-15T19:16:40.719Z"
   },
   {
    "duration": 27427,
    "start_time": "2022-06-15T19:17:03.369Z"
   },
   {
    "duration": 49133,
    "start_time": "2022-06-15T19:17:44.073Z"
   },
   {
    "duration": 6177,
    "start_time": "2022-06-15T19:19:03.226Z"
   },
   {
    "duration": 52,
    "start_time": "2022-06-15T19:33:56.705Z"
   }
  ],
  "kernelspec": {
   "display_name": "Python 3 (ipykernel)",
   "language": "python",
   "name": "python3"
  },
  "language_info": {
   "codemirror_mode": {
    "name": "ipython",
    "version": 3
   },
   "file_extension": ".py",
   "mimetype": "text/x-python",
   "name": "python",
   "nbconvert_exporter": "python",
   "pygments_lexer": "ipython3",
   "version": "3.9.5"
  },
  "toc": {
   "base_numbering": 1,
   "nav_menu": {},
   "number_sections": true,
   "sideBar": true,
   "skip_h1_title": true,
   "title_cell": "Table of Contents",
   "title_sidebar": "Contents",
   "toc_cell": false,
   "toc_position": {},
   "toc_section_display": true,
   "toc_window_display": true
  }
 },
 "nbformat": 4,
 "nbformat_minor": 2
}
